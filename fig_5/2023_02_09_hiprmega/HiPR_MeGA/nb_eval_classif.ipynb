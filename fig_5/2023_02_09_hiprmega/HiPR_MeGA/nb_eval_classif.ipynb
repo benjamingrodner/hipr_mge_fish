{
 "cells": [
  {
   "cell_type": "markdown",
   "metadata": {},
   "source": [
    "# Check morphology on classification"
   ]
  },
  {
   "cell_type": "markdown",
   "metadata": {},
   "source": [
    "## Setup\n",
    "Imports"
   ]
  },
  {
   "cell_type": "code",
   "execution_count": 1,
   "metadata": {},
   "outputs": [],
   "source": [
    "import glob\n",
    "import sys\n",
    "import os\n",
    "import gc\n",
    "import pandas as pd\n",
    "import numpy as np\n",
    "import matplotlib.pyplot as plt\n",
    "import yaml\n",
    "import re\n",
    "import joblib\n",
    "from sklearn.cluster import AgglomerativeClustering\n",
    "from tqdm import tqdm\n",
    "from scipy.ndimage import gaussian_filter\n",
    "from sklearn.neighbors import NearestNeighbors\n",
    "from sklearn.cluster import KMeans\n",
    "from collections import defaultdict\n",
    "import numba as nb\n",
    "import javabridge\n",
    "import bioformats\n",
    "import aicspylibczi as aplc\n"
   ]
  },
  {
   "cell_type": "code",
   "execution_count": 2,
   "metadata": {},
   "outputs": [
    {
     "data": {
      "text/plain": [
       "28"
      ]
     },
     "execution_count": 2,
     "metadata": {},
     "output_type": "execute_result"
    }
   ],
   "source": [
    "gc.collect()"
   ]
  },
  {
   "cell_type": "markdown",
   "metadata": {},
   "source": [
    "Move to workdir"
   ]
  },
  {
   "cell_type": "code",
   "execution_count": 11,
   "metadata": {},
   "outputs": [
    {
     "data": {
      "text/plain": [
       "'/fs/cbsuvlaminck2/workdir/bmg224/manuscripts/mgefish/code/fig_5/2023_02_09_hiprmega/HiPR_MeGA'"
      ]
     },
     "execution_count": 11,
     "metadata": {},
     "output_type": "execute_result"
    }
   ],
   "source": [
    "# Absolute path\n",
    "cluster = '/fs/cbsuvlaminck2'\n",
    "\n",
    "project_workdir = '/workdir/bmg224/manuscripts/mgefish/code/fig_5/2023_02_09_hiprmega/HiPR_MeGA'\n",
    "\n",
    "os.chdir(cluster + project_workdir)\n",
    "os.getcwd()  # Make sure you're in the right directory"
   ]
  },
  {
   "cell_type": "markdown",
   "metadata": {},
   "source": [
    "Load config file"
   ]
  },
  {
   "cell_type": "code",
   "execution_count": 12,
   "metadata": {},
   "outputs": [],
   "source": [
    "config_fn = 'config.yaml' # relative path to config file from workdir\n",
    "\n",
    "with open(config_fn, 'r') as f:\n",
    "    config = yaml.safe_load(f)\n",
    "\n",
    "with open(config['config_mega'], 'r') as f:\n",
    "    config_mega = yaml.safe_load(f)\n",
    "\n",
    "\n",
    "with open(config['config_hipr'], 'r') as f:\n",
    "    config_hipr = yaml.safe_load(f)\n"
   ]
  },
  {
   "cell_type": "markdown",
   "metadata": {},
   "source": [
    "Special imports "
   ]
  },
  {
   "cell_type": "code",
   "execution_count": 13,
   "metadata": {},
   "outputs": [],
   "source": [
    "%reload_ext autoreload\n",
    "%autoreload 2\n",
    "sys.path.append(config_mega['pipeline_path'] + '/' + config_mega['functions_path'])\n",
    "sys.path\n",
    "import image_plots as ip\n",
    "import fn_hiprfish_classifier as fhc\n",
    "import fn_spectral_images as fsi\n"
   ]
  },
  {
   "cell_type": "markdown",
   "metadata": {},
   "source": [
    "Sample names"
   ]
  },
  {
   "cell_type": "code",
   "execution_count": 14,
   "metadata": {},
   "outputs": [
    {
     "data": {
      "text/plain": [
       "array(['2023_02_09_hiprmega_probe_capsb_fov_02',\n",
       "       '2023_02_09_hiprmega_probe_capsb_fov_03',\n",
       "       '2023_02_09_hiprmega_probe_capsb_fov_04',\n",
       "       '2023_02_09_hiprmega_probe_ec_fov_01',\n",
       "       '2023_02_09_hiprmega_probe_laur_fov_01',\n",
       "       '2023_02_09_hiprmega_probe_laur_fov_02',\n",
       "       '2023_02_09_hiprmega_probe_strepr_fov_01',\n",
       "       '2023_02_09_hiprmega_probe_strepr_fov_02',\n",
       "       '2023_02_09_hiprmega_probe_terml_fov_01',\n",
       "       '2023_02_09_hiprmega_probe_terml_fov_02',\n",
       "       '2023_02_09_hiprmega_probe_terml_fov_03'], dtype=object)"
      ]
     },
     "execution_count": 14,
     "metadata": {},
     "output_type": "execute_result"
    }
   ],
   "source": [
    "input_table_mge = pd.read_csv('../MeGAFISH/' + config_mega['input_table_fn'])\n",
    "sample_names_mge = input_table_mge.sample_name.values\n",
    "sample_names_mge"
   ]
  },
  {
   "cell_type": "code",
   "execution_count": 15,
   "metadata": {},
   "outputs": [
    {
     "data": {
      "text/plain": [
       "array(['2023_02_09_hiprmega_probe_capsb_fov_01',\n",
       "       '2023_02_09_hiprmega_probe_capsb_fov_02',\n",
       "       '2023_02_09_hiprmega_probe_capsb_fov_03',\n",
       "       '2023_02_09_hiprmega_probe_capsb_fov_04',\n",
       "       '2023_02_09_hiprmega_probe_ec_fov_01',\n",
       "       '2023_02_09_hiprmega_probe_ec_fov_02',\n",
       "       '2023_02_09_hiprmega_probe_laur_fov_01',\n",
       "       '2023_02_09_hiprmega_probe_laur_fov_02',\n",
       "       '2023_02_09_hiprmega_probe_laur_fov_03',\n",
       "       '2023_02_09_hiprmega_probe_strepr_fov_01',\n",
       "       '2023_02_09_hiprmega_probe_strepr_fov_02',\n",
       "       '2023_02_09_hiprmega_probe_terml_fov_01',\n",
       "       '2023_02_09_hiprmega_probe_terml_fov_02',\n",
       "       '2023_02_09_hiprmega_probe_terml_fov_03'], dtype=object)"
      ]
     },
     "execution_count": 15,
     "metadata": {},
     "output_type": "execute_result"
    }
   ],
   "source": [
    "input_table_hipr = pd.read_csv('../HiPRFISH/' + config_hipr['images']['image_list_table'])\n",
    "sample_names_hipr = input_table_hipr.IMAGES.values\n",
    "sample_names_hipr\n"
   ]
  },
  {
   "cell_type": "markdown",
   "metadata": {},
   "source": [
    "## Look at the classif\n",
    "Load the classif files"
   ]
  },
  {
   "cell_type": "code",
   "execution_count": 24,
   "metadata": {},
   "outputs": [
    {
     "data": {
      "text/plain": [
       "array([[1, 0, 0, 1, 1],\n",
       "       [0, 1, 1, 1, 1],\n",
       "       [0, 1, 1, 0, 0]])"
      ]
     },
     "execution_count": 24,
     "metadata": {},
     "output_type": "execute_result"
    }
   ],
   "source": [
    "nlas=3\n",
    "probe_design = pd.DataFrame({'laser_present':[100,11,11,110,110]})\n",
    "present_col = probe_design['laser_present'].values\n",
    "present_str = [str(lp).zfill(nlas) for lp in present_col]\n",
    "present_arr = np.array([[int(l) for l in lp] for lp in present_str])\n",
    "present_arr.T\n"
   ]
  },
  {
   "cell_type": "code",
   "execution_count": null,
   "metadata": {},
   "outputs": [],
   "source": []
  }
 ],
 "metadata": {
  "kernelspec": {
   "display_name": "Python 3 (ipykernel)",
   "language": "python",
   "name": "python3"
  },
  "orig_nbformat": 4
 },
 "nbformat": 4,
 "nbformat_minor": 2
}

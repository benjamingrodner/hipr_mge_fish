{
 "cells": [
  {
   "cell_type": "markdown",
   "metadata": {},
   "source": [
    "# Classify a hiprfish image with hierarchical clustering\n",
    "## Setup"
   ]
  },
  {
   "cell_type": "code",
   "execution_count": null,
   "metadata": {},
   "outputs": [],
   "source": [
    "import glob\n",
    "import sys\n",
    "import os\n",
    "import gc\n",
    "import pandas as pd\n",
    "import numpy as np\n",
    "import matplotlib.pyplot as plt\n",
    "import yaml\n",
    "import re\n",
    "from collections import defaultdict\n",
    "import aicspylibczi as aplc\n",
    "from skimage.registration import phase_cross_correlation\n",
    "from tqdm import tqdm\n",
    "from scipy.cluster import hierarchy\n",
    "from scipy.spatial.distance import squareform\n",
    "import umap\n",
    "import math\n",
    "from sklearn.cluster import AgglomerativeClustering\n"
   ]
  },
  {
   "cell_type": "code",
   "execution_count": null,
   "metadata": {},
   "outputs": [],
   "source": [
    "cluster = ''\n",
    "workdir = '/workdir/bmg224/manuscripts/mgefish/code/bmg_plasmids_imaging/agglomerative_clustering'\n",
    "os.chdir(cluster + workdir)\n",
    "os.getcwd()"
   ]
  },
  {
   "cell_type": "code",
   "execution_count": null,
   "metadata": {},
   "outputs": [],
   "source": [
    "config_fn = 'config_240107.yaml' # relative path to config file from workdir\n",
    "\n",
    "with open(config_fn, 'r') as f:\n",
    "    config = yaml.safe_load(f)"
   ]
  },
  {
   "cell_type": "code",
   "execution_count": null,
   "metadata": {},
   "outputs": [],
   "source": [
    "%load_ext autoreload\n",
    "%autoreload 2\n",
    "\n",
    "sys.path.append(config['pipeline_path'] + '/' + config['functions_path'])\n",
    "import fn_general_use as fgu\n",
    "import image_plots as ip\n",
    "import segmentation_func as sf\n",
    "import fn_hiprfish_classifier as fhc\n",
    "import fn_spectral_images as fsi\n",
    "\n"
   ]
  },
  {
   "cell_type": "code",
   "execution_count": null,
   "metadata": {},
   "outputs": [],
   "source": [
    "# Get filenames from directories\n",
    "raw_dir = config[\"data_dir\"] + \"/*.czi\"\n",
    "# raw_dir = config[\"data_dir\"] + \"/*\" + config[\"laser_regex\"]\n",
    "fns = glob.glob(raw_dir)\n",
    "fns_base = [os.path.split(f)[1] for f in fns]\n",
    "group_names = [re.sub(\"_2024\\w+.czi\", \"\", s) for s in fns_base]\n",
    "# print('HERE-->', shifts_fns)\n",
    "group_names = np.sort(np.unique(group_names))\n",
    "m_size = group_names.shape[0]\n",
    "dict_group_czifns_all = defaultdict(list)\n",
    "for g in group_names:\n",
    "    for s in fns:\n",
    "        if g in s:\n",
    "            dict_group_czifns_all[g].append(s)\n",
    "dict_group_czifns_all = {g: sorted(s) for g, s in dict_group_czifns_all.items()}\n",
    "dict_group_czifns_all"
   ]
  },
  {
   "cell_type": "code",
   "execution_count": null,
   "metadata": {},
   "outputs": [],
   "source": [
    "dict_group_czifns = {k: [v[0], v[1], v[2]] for k, v in dict_group_czifns_all.items() if len(v) > 1}\n",
    "dict_group_czifns"
   ]
  },
  {
   "cell_type": "code",
   "execution_count": null,
   "metadata": {},
   "outputs": [],
   "source": [
    "sn = \"2024_01_07_newplasmidredo2reimage_slide_7_fov_03\""
   ]
  },
  {
   "cell_type": "markdown",
   "metadata": {},
   "source": [
    "## Shift images"
   ]
  },
  {
   "cell_type": "code",
   "execution_count": null,
   "metadata": {},
   "outputs": [],
   "source": [
    "from cv2 import resize, INTER_CUBIC, INTER_NEAREST\n",
    "\n",
    "def center_image(im, dims, ul_corner):\n",
    "    shp = im.shape\n",
    "    if not all([dims[i] == shp[i] for i in range(len(dims))]):\n",
    "        shp_new = dims if len(shp) == 2 else dims + (shp[2],)\n",
    "        temp = np.zeros(shp_new)\n",
    "        br_corner = np.array(ul_corner) + np.array(shp[:2])\n",
    "        temp[ul_corner[0]:br_corner[0], ul_corner[1]:br_corner[1]] = im\n",
    "        im = temp\n",
    "    return im\n",
    "\n",
    "def resize_hipr(im, hipr_res, mega_res, dims='none', out_fn=False, ul_corner=(0,0)):\n",
    "    # im = np.load(in_fn)\n",
    "    factor_resize = hipr_res / mega_res\n",
    "    hipr_resize = resize(\n",
    "            im,\n",
    "            None,\n",
    "            fx = factor_resize,\n",
    "            fy = factor_resize,\n",
    "            interpolation = INTER_NEAREST\n",
    "            )\n",
    "    if isinstance(dims, str): dims = hipr_resize.shape\n",
    "    hipr_resize = center_image(hipr_resize, dims, ul_corner)\n",
    "    # if out_fn: np.save(out_fn, hipr_resize)\n",
    "    return hipr_resize\n",
    "\n",
    "def reshape_aics_image(m_img):\n",
    "    '''\n",
    "    Given an AICS image with just XY and CHannel,\n",
    "    REshape into shape (X,Y,C)\n",
    "    '''\n",
    "    img = np.squeeze(m_img)\n",
    "    img = np.transpose(img, (1,2,0))\n",
    "    return img\n",
    "\n",
    "def correct_633_sizing(raws, czifns):\n",
    "    # Get resolution\n",
    "    res_um_pix = []\n",
    "    for fn in czifns:\n",
    "        czi = aplc.CziFile(fn)\n",
    "        for n in czi.meta.iter():\n",
    "            if 'Scaling' in n.tag:\n",
    "                if 'X' in n.tag:\n",
    "                    resolution = float(n.text)\n",
    "        res_um_pix.append(resolution * 10**6)\n",
    "    res_633 = res_um_pix[3]\n",
    "    res_other = res_um_pix[0]\n",
    "    print(res_633, '-->', res_other)\n",
    "    # REsize 633\n",
    "    # raws_resize = raws.copy()\n",
    "    resize_633 = resize_hipr(raws[3], res_633, res_other)\n",
    "    resize_shape = resize_633.shape[:2]\n",
    "    # other_shape = np.array(raws[0].shape[:2])\n",
    "    # corner = (np.array(resize_633.shape[:2]) - np.array(other_shape)) // 2\n",
    "    raws_resize = []\n",
    "    for i in range(3):\n",
    "        ri = raws[i]\n",
    "        sp = ri.shape[2]\n",
    "        c = (np.array(resize_shape) - np.array(ri.shape[:2])) // 2\n",
    "        r = np.zeros(resize_shape + (sp,))\n",
    "        r[c[0]:c[0] + ri.shape[0], c[1]:c[1] + ri.shape[1],:] = ri\n",
    "        raws_resize.append(r)\n",
    "    raws_resize.append(resize_633)\n",
    "    # resize_633 = resize_633[corner[0]:corner[1]+other_shape[0], corner[1]:corner[1]+other_shape[1],:]\n",
    "    # raws_resize[3] = resize_633\n",
    "    return(raws_resize, c) \n",
    "\n",
    "\n",
    "def _get_shift_vectors(image_sum):\n",
    "    # Find shift vectors\n",
    "    shift_vectors = [\n",
    "            phase_cross_correlation(\n",
    "                    np.log(image_sum[0]+1), np.log(image_sum[i]+1)\n",
    "                    )[0]\n",
    "            for i in range(1,len(image_sum))\n",
    "            ]\n",
    "    shift_vectors.insert(0, np.asarray([0.0,0.0]))\n",
    "    return shift_vectors\n",
    "\n",
    "\n",
    "def max_norm(raw, c=['min','max']):\n",
    "    im = np.max(raw, axis=2)\n",
    "    mn = np.min(im) if c[0] == 'min' else c[0]\n",
    "    mx = np.max(im) if c[1] == 'max' else c[1]\n",
    "    im = np.clip(im, mn, mx)\n",
    "    return (im - mn) / (mx - mn)"
   ]
  },
  {
   "cell_type": "code",
   "execution_count": null,
   "metadata": {},
   "outputs": [],
   "source": [
    "czifns = dict_group_czifns[sn]\n",
    "dimshape = aplc.CziFile(czifns[0]).get_dims_shape()[0]\n",
    "dimshape"
   ]
  },
  {
   "cell_type": "code",
   "execution_count": null,
   "metadata": {},
   "outputs": [],
   "source": [
    "M = 4\n",
    "# M = dimshape['S'][1]\n",
    "\n",
    "colors = [[0,0.5,0],[0.5,0,0],[0,0,0.5]]\n",
    "clips_rgb = [[0,5000],[0,10000],[0,5000],[0,2500]]\n",
    "stacks = []\n",
    "im_inches = 10\n",
    "# for m in [2]:\n",
    "for m in range(M):\n",
    "    print(\"\\n\\nTile:\",m)\n",
    "    raws = []\n",
    "    for fn, las in zip(czifns, config['lasers']):\n",
    "        if las not in config['rgb']['exclude_lasers']:\n",
    "            czi = aplc.CziFile(fn)\n",
    "            # if M:\n",
    "            im, sh = czi.read_image(M=m)\n",
    "\n",
    "            im = reshape_aics_image(im)\n",
    "            print(im.shape)\n",
    "            raws.append(im)\n",
    "    \n",
    "    raws_max_norm = [max_norm(r, c) for r, c in zip(raws, clips_rgb)]\n",
    "    shift_vectors = _get_shift_vectors(raws_max_norm)\n",
    "    print(shift_vectors)\n",
    "    # shift_vectors_1_3 = _get_shift_vectors(raws_max_norm[:3])\n",
    "    \n",
    "    # raws_resize, c = correct_633_sizing(raws, czifns)\n",
    "    # raws_shift_max_norm = [max_norm(r, c) for r, c in zip(raws_resize, clips_rgb)]\n",
    "    # shp = raws_max_norm[0].shape\n",
    "    # raws_max_norm[3] = raws_shift_max_norm[3][:shp[0],:shp[1]]\n",
    "    # shift_vectors = _get_shift_vectors(raws_max_norm)\n",
    "    # shift_vectors[3] = shift_vectors[3] + c\n",
    "    # max_shift = config['max_shift']\n",
    "    # raws_shift = fsi._shift_images(raws_resize, shift_vectors, max_shift=max_shift)\n",
    "    max_shift = config['max_shift']\n",
    "    raws_shift = fsi._shift_images(raws, shift_vectors, max_shift=max_shift)\n",
    "        \n",
    "    # shift_vectors_4 = _get_shift_vectors(raws_shift_max_norm[2:4])\n",
    "    # shift_vectors = shift_vectors_1_3 + [shift_vectors_4[1]]\n",
    "\n",
    "    # raws_shift = fsi._shift_images(raws_resize, shift_vectors, max_shift=max_shift)\n",
    "    im_r = max_norm(raws_shift[0], clips_rgb[0])\n",
    "    stack_max = [im_r]\n",
    "    true_points = np.argwhere(im_r)\n",
    "    top_left = true_points.min(axis=0)\n",
    "    bottom_right = true_points.max(axis=0)\n",
    "    for i in range(1,len(raws_shift)):\n",
    "        im_rgb = np.zeros(im_r.shape + (3,))\n",
    "        im_rgb[:,:,0] = im_r\n",
    "        im_g = max_norm(raws_shift[i], clips_rgb[i])\n",
    "        stack_max.append(im_g)\n",
    "        im_rgb[:,:,1] = im_g\n",
    "        print(i)\n",
    "        ip.plot_image(im_rgb, im_inches=im_inches)\n",
    "        plt.show()    \n",
    "        plt.close()\n",
    "        true_points = np.argwhere(im_g)\n",
    "        tl = true_points.min(axis=0)\n",
    "        top_left = np.max(np.vstack([top_left, tl]), axis=0)\n",
    "        br = true_points.max(axis=0)\n",
    "        bottom_right = np.min(np.vstack([bottom_right, br]), axis=0)\n",
    "    raws_chan_col = []\n",
    "    for c, im in zip(colors, stack_max):\n",
    "        raws_chan_col.append(im[...,None] * np.array(c)[None,None,:])    \n",
    "    rgb = np.zeros_like(raws_chan_col[0])\n",
    "    for im in raws_chan_col:\n",
    "        rgb += im\n",
    "    rgb_trim = rgb[\n",
    "        top_left[0]:bottom_right[0]+1,\n",
    "        top_left[1]:bottom_right[1]+1\n",
    "        ]\n",
    "    ip.plot_image(rgb_trim, im_inches=im_inches)\n",
    "    plt.show()\n",
    "    plt.close()\n",
    "    stacks.append(np.dstack(raws_shift)[\n",
    "        top_left[0]:bottom_right[0]+1,\n",
    "        top_left[1]:bottom_right[1]+1\n",
    "        ])\n",
    "\n",
    "\n"
   ]
  },
  {
   "cell_type": "code",
   "execution_count": null,
   "metadata": {},
   "outputs": [],
   "source": [
    "for n in czi.meta.iter():\n",
    "    if 'Scaling' in n.tag:\n",
    "        if 'X' in n.tag:\n",
    "            resolution = float(n.text)\n",
    "resolution"
   ]
  },
  {
   "cell_type": "markdown",
   "metadata": {},
   "source": [
    "### Segment"
   ]
  },
  {
   "cell_type": "code",
   "execution_count": null,
   "metadata": {},
   "outputs": [],
   "source": [
    "mxs = []\n",
    "lasers = ['488','514','561']\n",
    "chan_inds = [0,23,43,57]\n",
    "for i in range(len(lasers)):\n",
    "    print('Laser',lasers[i])\n",
    "    for stack in stacks:\n",
    "        mx = np.max(stack[:,:,chan_inds[i]:chan_inds[i+1]],axis=2).ravel()\n",
    "        mxs += mx.tolist()\n",
    "\n",
    "    mxs_sub = np.random.choice(mxs,100000)\n",
    "    mxs_sub = np.sort(mxs_sub)\n",
    "\n",
    "\n",
    "    rnd = 10000\n",
    "\n",
    "    fig, ax = ip.general_plot(dims=(10,5))\n",
    "    ax.scatter(np.arange(len(mxs_sub)), mxs_sub, s=1)\n",
    "    ylim = int(math.ceil(ax.get_ylim()[1] / rnd)) * rnd\n",
    "    ax.set_ylim(0,ylim)\n",
    "    ax.set_yticks(np.arange(0, ylim, rnd//16))\n",
    "    ax.grid(axis='y')\n",
    "    plt.show()"
   ]
  },
  {
   "cell_type": "code",
   "execution_count": null,
   "metadata": {},
   "outputs": [],
   "source": [
    "mask_threshs = [300,300,300]\n",
    "\n",
    "\n",
    "masks = []\n",
    "for stack in stacks:\n",
    "    masks_chan = []\n",
    "    for i in range(len(lasers)):\n",
    "        mx = np.max(stack[:,:,chan_inds[i]:chan_inds[i+1]],axis=2)\n",
    "        masks_chan.append(mx > mask_threshs[i])\n",
    "    mask = np.zeros_like(masks_chan[0])\n",
    "    for m in masks_chan:\n",
    "        mask += m\n",
    "    masks.append(mask)\n"
   ]
  },
  {
   "cell_type": "code",
   "execution_count": null,
   "metadata": {},
   "outputs": [],
   "source": [
    "# Set param\n",
    "\n",
    "z = [500, 1000, 500, 1000]\n",
    "imin = 10\n",
    "gauss = 4\n",
    "diff_gauss = (0,)\n",
    "mask_thresh = 700\n",
    "\n",
    "i = 0\n",
    "stack = stacks[i]\n",
    "\n",
    "\n",
    "# mask = masks[i]\n",
    "\n",
    "im_max = np.max(stack, axis=2)\n",
    "im_sum = np.sum(stack, axis=2)\n",
    "# mask = im_max > mask_thresh\n",
    "\n",
    "ip.plot_image(im_max[z[0] : z[1], z[2] : z[3]], cmap=\"inferno\", im_inches=imin)\n",
    "\n",
    "pre_max = sf.pre_process(im_max, gauss=gauss, diff_gauss=diff_gauss)\n",
    "ip.plot_image(pre_max[z[0] : z[1], z[2] : z[3]], cmap=\"inferno\", im_inches=imin)\n",
    "\n",
    "pre = sf.pre_process(im_sum, gauss=gauss, diff_gauss=diff_gauss)\n",
    "ip.plot_image(\n",
    "    pre[z[0] : z[1], z[2] : z[3]], cmap=\"inferno\", im_inches=imin, clims=(3000, 10000)\n",
    ")\n",
    "\n",
    "mask = pre_max > mask_thresh\n",
    "fig, ax, cbar = ip.plot_image(\n",
    "    (pre * mask)[z[0] : z[1], z[2] : z[3]],\n",
    "    cmap=\"inferno\",\n",
    "    im_inches=imin,\n",
    "    clims=(3000, 10000),\n",
    ")\n",
    "ax.imshow(np.dstack([0.5 * (~mask)] * 4)[z[0] : z[1], z[2] : z[3]])\n",
    "\n",
    "ip.plot_image(pre, cmap=\"inferno\", im_inches=imin)\n",
    "\n",
    "fig, ax, cbar = ip.plot_image(\n",
    "    (pre * mask), cmap=\"inferno\", im_inches=imin, clims=(3000, 10000)\n",
    ")\n",
    "ax.imshow(np.dstack([0.5 * (~mask)] * 4))\n",
    "\n",
    "seg = sf.segment(\n",
    "    pre_max[z[0] : z[1], z[2] : z[3]], background_mask=mask[z[0] : z[1], z[2] : z[3]]\n",
    ")\n",
    "seg_zoom_rgb = ip.seg2rgb(seg)\n",
    "ip.plot_image(seg_zoom_rgb, im_inches=imin)\n",
    "# ip.plot_image(seg_zoom_rgb[z[0]:z[1],z[2]:z[3]], im_inches=imin)\n",
    "\n",
    "fig, ax, cbar = ip.plot_image(\n",
    "    (pre_max[z[0] : z[1], z[2] : z[3]] * (seg > 0)),\n",
    "    cmap=\"inferno\",\n",
    "    im_inches=imin,\n",
    ")\n",
    "ax.imshow(np.dstack([0.5 * (~(seg > 0))] * 4))"
   ]
  },
  {
   "cell_type": "code",
   "execution_count": null,
   "metadata": {},
   "outputs": [],
   "source": [
    "segs = []\n",
    "specs = []\n",
    "props = []\n",
    "for stack, mask in tqdm(zip(stacks, masks)):\n",
    "    im_max = np.max(stack, axis=2)\n",
    "    im_sum = np.sum(stack, axis=2)\n",
    "    # ip.plot_image(im_max[z[0]:z[1],z[2]:z[3]], cmap='inferno', im_inches=imin)\n",
    "    pre = sf.pre_process(im_max, gauss=gauss, diff_gauss=diff_gauss)\n",
    "    # ip.plot_image(pre[z[0]:z[1],z[2]:z[3]], cmap='inferno', im_inches=imin)\n",
    "    # mask = im_max > mask_thresh\n",
    "    # ip.plot_image((pre), cmap='inferno', im_inches=imin)\n",
    "    # ip.plot_image((pre*mask), cmap='inferno', im_inches=imin)\n",
    "    seg = sf.segment(pre, background_mask=mask)\n",
    "    segs.append(seg)\n",
    "    prop = sf.measure_regionprops(seg, raw=im_sum)\n",
    "    props.append(prop)\n",
    "    dict_lab_spec = {}\n",
    "    for i, row in prop.iterrows():\n",
    "        b = row.bbox\n",
    "        l = row.label\n",
    "        b = eval(b) if isinstance(b, str) else b\n",
    "        r_sub = stack[b[0]:b[2],b[1]:b[3],:]\n",
    "        m_sub = seg[b[0]:b[2],b[1]:b[3]] == l\n",
    "        dict_lab_spec[l] = r_sub[m_sub]\n",
    "    dict_lab_specmean = {l:np.mean(s, axis=0) for l, s in dict_lab_spec.items()}\n",
    "    specs.append(dict_lab_specmean)\n"
   ]
  },
  {
   "cell_type": "markdown",
   "metadata": {},
   "source": [
    "Filter intensity"
   ]
  },
  {
   "cell_type": "code",
   "execution_count": null,
   "metadata": {},
   "outputs": [],
   "source": [
    "for i in range(len(lasers)):\n",
    "    mxs = []\n",
    "    print('Laser',lasers[i])\n",
    "    for dict_lab_specmean in specs:\n",
    "        s_ch = np.array(list(dict_lab_specmean.values()))[:,chan_inds[i]:chan_inds[i+1]]\n",
    "        mx = np.max(s_ch, axis=1)\n",
    "        # mx = np.max(stack[:,:,chan_inds[i]:chan_inds[i+1]],axis=2).ravel()\n",
    "        mxs += mx.tolist()\n",
    "    # mxs_sub = np.random.choice(mxs,100000)\n",
    "    mxs = np.sort(mxs)\n",
    "\n",
    "\n",
    "    rnd = 1000\n",
    "\n",
    "    fig, ax = ip.general_plot(dims=(10,5))\n",
    "    ax.scatter(np.arange(len(mxs)), mxs, s=1)\n",
    "    ylim = int(math.ceil(ax.get_ylim()[1] / rnd)) * rnd\n",
    "    ax.set_ylim(0,ylim)\n",
    "    ax.set_yticks(np.arange(0, ylim, rnd//4))\n",
    "    ax.grid(axis='y')\n",
    "    plt.show()"
   ]
  },
  {
   "cell_type": "code",
   "execution_count": null,
   "metadata": {},
   "outputs": [],
   "source": [
    "seg_threshs = [0,0,0]\n",
    "specs_filt = []\n",
    "for dict_lab_specmean in specs:\n",
    "    dict_lab_specfilt = {}\n",
    "    for l, s in dict_lab_specmean.items():\n",
    "        mxs_ch = [np.max(s[chan_inds[i]:chan_inds[i+1]]) for i in range(len(lasers))]\n",
    "        mxs_ch_bool = [mxs_ch[i] > seg_threshs[i] for i in range(len(lasers))]\n",
    "        if any(mxs_ch_bool):\n",
    "            dict_lab_specfilt[l] = s\n",
    "    specs_filt.append(dict_lab_specfilt)\n",
    "\n",
    "print([len(s) for s in specs])\n",
    "print([len(s) for s in specs_filt])"
   ]
  },
  {
   "cell_type": "code",
   "execution_count": null,
   "metadata": {},
   "outputs": [],
   "source": [
    "ims_rgb = []\n",
    "for m in range(M):\n",
    "    im_sum = np.sum(stacks[m], axis=2)\n",
    "\n",
    "    mx = np.max(im_sum)*0.35\n",
    "    # mx = 60000\n",
    "    mn = np.min(im_sum)\n",
    "    im_norm = np.clip(im_sum,mn,mx)\n",
    "    im_norm = (im_norm - mn) / (mx - mn)\n",
    "    im_rgb = im_norm[:,:,None] * np.array([1,1,1])[None,:]\n",
    "    im_rgb = np.dstack([im_rgb, np.ones(im_rgb.shape[:2])])\n",
    "    ims_rgb.append(im_rgb)\n",
    "    fig, ax, cbar = ip.plot_image(im_rgb, im_inches=10)"
   ]
  },
  {
   "cell_type": "code",
   "execution_count": null,
   "metadata": {},
   "outputs": [],
   "source": [
    "for m in range(M):\n",
    "    dict_lab_spec = specs[m]\n",
    "    labels = list(dict_lab_spec.keys())\n",
    "    seg = segs[m]\n",
    "    prop = props[m]\n",
    "    im_rgb = ims_rgb[m].copy()\n",
    "    for i, row in prop.iterrows():\n",
    "        l = row.label\n",
    "        if l in labels:\n",
    "            b = row.bbox\n",
    "            b = eval(b) if isinstance(b, str) else b\n",
    "            rgb_sub = im_rgb[b[0]:b[2],b[1]:b[3]]\n",
    "            seg_sub = seg[b[0]:b[2],b[1]:b[3]] == l\n",
    "            im_sub = im_norm[b[0]:b[2],b[1]:b[3]]\n",
    "            color = np.array([0,0,1,0.5])\n",
    "            # rgb_noncell =  rgb_sub * np.dstack([~seg_sub]*3 + np.ones_like(seg_sub))\n",
    "            rgb_noncell =  rgb_sub * np.dstack([~seg_sub]*4)\n",
    "            # rgb_cell = (im_sub * seg_sub)[:,:,None] * color[None,:]\n",
    "            rgb_cell = seg_sub[:,:,None] * color[None,:]\n",
    "            im_rgb[b[0]:b[2],b[1]:b[3],:] = rgb_noncell + rgb_cell\n",
    "\n",
    "    fig, ax, cbar = ip.plot_image(im_rgb, im_inches=10)"
   ]
  },
  {
   "cell_type": "code",
   "execution_count": null,
   "metadata": {},
   "outputs": [],
   "source": [
    "\n",
    "for m in range(M):\n",
    "    # im_sum = np.sum(stacks[m], axis=2)\n",
    "\n",
    "    # mx = np.max(im_sum)*0.35\n",
    "    # # mx = 60000\n",
    "    # mn = np.min(im_sum)\n",
    "    # im_norm = np.clip(im_sum,mn,mx)\n",
    "    # im_norm = (im_norm - mn) / (mx - mn)\n",
    "    # im_rgb = im_norm[:,:,None] * np.array([1,1,1])[None,:]\n",
    "    # im_rgb = np.dstack([im_rgb, np.ones(im_rgb.shape[:2])])\n",
    "\n",
    "    dict_lab_specfilt = specs_filt[m]\n",
    "    labels = list(dict_lab_specfilt.keys())\n",
    "    seg = segs[m]\n",
    "    prop = props[m]\n",
    "    im_rgb = ims_rgb[m].copy()\n",
    "    for i, row in prop.iterrows():\n",
    "        l = row.label\n",
    "        if l in labels:\n",
    "            b = row.bbox\n",
    "            b = eval(b) if isinstance(b, str) else b\n",
    "            rgb_sub = im_rgb[b[0]:b[2],b[1]:b[3]]\n",
    "            seg_sub = seg[b[0]:b[2],b[1]:b[3]] == l\n",
    "            im_sub = im_norm[b[0]:b[2],b[1]:b[3]]\n",
    "            color = np.array([0,0,1,0.5])\n",
    "            # rgb_noncell =  rgb_sub * np.dstack([~seg_sub]*3 + np.ones_like(seg_sub))\n",
    "            rgb_noncell =  rgb_sub * np.dstack([~seg_sub]*4)\n",
    "            # rgb_cell = (im_sub * seg_sub)[:,:,None] * color[None,:]\n",
    "            rgb_cell = seg_sub[:,:,None] * color[None,:]\n",
    "            im_rgb[b[0]:b[2],b[1]:b[3],:] = rgb_noncell + rgb_cell\n",
    "\n",
    "    fig, ax, cbar = ip.plot_image(im_rgb, im_inches=10)"
   ]
  },
  {
   "cell_type": "markdown",
   "metadata": {},
   "source": [
    "## Save"
   ]
  },
  {
   "cell_type": "code",
   "execution_count": null,
   "metadata": {},
   "outputs": [],
   "source": [
    "output_dir = config['output_dir'] + '/' + sn\n",
    "# output_dir = output_dir_fmt.format(sample_name=sn)\n",
    "if not os.path.exists(output_dir): \n",
    "    os.makedirs(output_dir)\n",
    "    print(\"made dir:\",output_dir)\n"
   ]
  },
  {
   "cell_type": "code",
   "execution_count": null,
   "metadata": {},
   "outputs": [],
   "source": [
    "stack_dir = output_dir + '/stacks'\n",
    "props_dir = output_dir + '/props'\n",
    "segs_dir = output_dir + '/segs'\n",
    "spec_dir = output_dir + '/spectra'\n",
    "# clust_dir = output_dir + '/clust'\n",
    "\n",
    "for dir_ in [spec_dir, segs_dir, props_dir, stack_dir]:\n",
    "    if not os.path.exists(dir_):\n",
    "        os.makedirs(dir_)\n",
    "        print(\"made dir:\",dir_)\n"
   ]
  },
  {
   "cell_type": "code",
   "execution_count": null,
   "metadata": {},
   "outputs": [],
   "source": [
    "for m in range(M):\n",
    "    bn = sn + '_M_' + str(m)\n",
    "    stack_fn = stack_dir + '/' + bn + '_stack.npy'\n",
    "    props_fn = props_dir + '/' + bn + '_props.csv'\n",
    "    seg_fn = segs_dir + '/' + bn + '_seg.npy'\n",
    "    spec_fn = spec_dir + '/' + bn + '_spec.yaml'\n",
    "    # clust_fn = clust_dir + '/' + bn + '_clust.yaml'\n",
    "\n",
    "    np.save(stack_fn, stacks[m])\n",
    "    print('Wrote:',stack_fn)\n",
    "    props[m].to_csv(props_fn, index=False)\n",
    "    print('Wrote:',props_fn)\n",
    "    np.save(seg_fn, segs[m])\n",
    "    print('Wrote:',seg_fn)\n",
    "    with open(spec_fn, 'w') as f:\n",
    "        yaml.dump(specs[m], f)\n",
    "    print('Wrote:',spec_fn)\n",
    "    # with open(clust_fn, 'w') as f:\n",
    "    #     yaml.dump(dict_lab_clust, f)\n",
    "    # print('Wrote:',clust_fn)\n"
   ]
  },
  {
   "cell_type": "code",
   "execution_count": null,
   "metadata": {},
   "outputs": [],
   "source": [
    "# rnd = 10000\n",
    "\n",
    "# fig, ax = ip.general_plot(dims=(10,5))\n",
    "# ax.scatter(np.arange(len(mxs)), mxs, s=1)\n",
    "# ylim = int(math.ceil(ax.get_ylim()[1] / rnd)) * rnd\n",
    "# ax.set_ylim(0,ylim)\n",
    "# ax.set_yticks(np.arange(0, ylim, rnd//4))\n",
    "# ax.grid(axis='y')\n"
   ]
  },
  {
   "cell_type": "code",
   "execution_count": null,
   "metadata": {},
   "outputs": [],
   "source": [
    "# spec_thresh = 2000\n",
    "# specs_filt = []\n",
    "# for dict_lab_specmean in specs:\n",
    "#     dict_lab_specfilt = {}\n",
    "#     for l, s in dict_lab_specmean.items():\n",
    "#         if np.max(s) > spec_thresh:\n",
    "#             dict_lab_specfilt[l] = s\n",
    "#     specs_filt.append(dict_lab_specfilt)"
   ]
  },
  {
   "cell_type": "markdown",
   "metadata": {},
   "source": [
    "## Average spectrum"
   ]
  },
  {
   "cell_type": "code",
   "execution_count": null,
   "metadata": {},
   "outputs": [],
   "source": [
    "spec_dims = (10, 5)\n",
    "\n",
    "specs_arr = np.vstack([np.vstack([v for v in s.values()]) for s in specs_filt])\n",
    "specs_arr.shape\n"
   ]
  },
  {
   "cell_type": "code",
   "execution_count": null,
   "metadata": {},
   "outputs": [],
   "source": [
    "fig, ax = ip.general_plot(dims=spec_dims)\n",
    "fsi.plot_cell_spectra(ax, specs_arr, {'lw':0.1,'alpha':0.1,'color':'r'})\n",
    "# ax.set_ylim(0,2**16)\n",
    "plt.plot()\n",
    "plt.show()"
   ]
  },
  {
   "cell_type": "code",
   "execution_count": null,
   "metadata": {},
   "outputs": [],
   "source": [
    "specs_arr_med = np.median(specs_arr, axis=0)\n",
    "\n",
    "fig, ax = ip.general_plot(dims=spec_dims)\n",
    "fsi.plot_cell_spectra(ax, specs_arr_med[None,:], {'lw':1,'alpha':1,'color':'r'})\n",
    "# ax.set_ylim(0,2**16)\n",
    "plt.plot()\n",
    "plt.show()"
   ]
  },
  {
   "cell_type": "code",
   "execution_count": null,
   "metadata": {},
   "outputs": [],
   "source": [
    "specs_arr_mean = np.mean(specs_arr, axis=0)\n",
    "\n",
    "fig, ax = ip.general_plot(dims=spec_dims)\n",
    "fsi.plot_cell_spectra(ax, specs_arr_mean[None,:], {'lw':1,'alpha':1,'color':'r'})\n",
    "# ax.set_ylim(0,2**16)\n",
    "plt.plot()\n",
    "plt.show()"
   ]
  },
  {
   "cell_type": "code",
   "execution_count": null,
   "metadata": {},
   "outputs": [],
   "source": [
    "specs_arr_std = np.std(specs_arr, axis=0)\n",
    "\n",
    "fig, ax = ip.general_plot(dims=spec_dims)\n",
    "fsi.plot_cell_spectra(ax, specs_arr_std[None,:], {'lw':1,'alpha':1,'color':'r'})\n",
    "# ax.set_ylim(0,2**16)\n",
    "plt.plot()\n",
    "plt.show()"
   ]
  },
  {
   "cell_type": "code",
   "execution_count": null,
   "metadata": {},
   "outputs": [],
   "source": [
    "specs_arr_sub = specs_arr_med - specs_arr_std\n",
    "\n",
    "fig, ax = ip.general_plot(dims=spec_dims)\n",
    "fsi.plot_cell_spectra(ax, specs_arr_sub[None,:], {'lw':1,'alpha':1,'color':'r'})\n",
    "# ax.set_ylim(0,2**16)\n",
    "plt.plot()\n",
    "plt.show()"
   ]
  },
  {
   "cell_type": "code",
   "execution_count": null,
   "metadata": {},
   "outputs": [],
   "source": [
    "specs_arr_bgfilt = specs_arr - specs_arr_med\n",
    "specs_arr_bgfilt[specs_arr_bgfilt < 0] = 0\n",
    "\n",
    "fig, ax = ip.general_plot(dims=spec_dims)\n",
    "fsi.plot_cell_spectra(ax, specs_arr_bgfilt, {'lw':0.1,'alpha':0.51,'color':'r'})\n",
    "# ax.set_ylim(0,2**16)\n",
    "plt.plot()\n",
    "plt.show()"
   ]
  },
  {
   "cell_type": "code",
   "execution_count": null,
   "metadata": {},
   "outputs": [],
   "source": [
    "specs_bgfilt_mx = np.max(specs_arr_bgfilt, axis=1)\n",
    "specs_bgfilt_mx = np.sort(specs_bgfilt_mx)\n",
    "plt.scatter(np.arange(specs_bgfilt_mx.shape[0]), specs_bgfilt_mx)"
   ]
  },
  {
   "cell_type": "code",
   "execution_count": null,
   "metadata": {},
   "outputs": [],
   "source": [
    "len(specs_filt[m])"
   ]
  },
  {
   "cell_type": "code",
   "execution_count": null,
   "metadata": {},
   "outputs": [],
   "source": [
    "specs_corr = []\n",
    "for s in specs_filt:\n",
    "    s_ = {}\n",
    "    for k, v in s.items():\n",
    "        v_ = v - specs_arr_med\n",
    "        v_[v_ < 0] = 0\n",
    "        s_[k] = v_\n",
    "    specs_corr.append(s_)\n"
   ]
  },
  {
   "cell_type": "code",
   "execution_count": null,
   "metadata": {},
   "outputs": [],
   "source": [
    "len(specs_corr[m])"
   ]
  },
  {
   "cell_type": "markdown",
   "metadata": {},
   "source": [
    "## Clustering auto"
   ]
  },
  {
   "cell_type": "code",
   "execution_count": null,
   "metadata": {},
   "outputs": [],
   "source": [
    "n_clust = 20\n",
    "\n",
    "# Setup output dirs\n",
    "output_dir = '../outputs/agglomerative_cluster/' + sn\n",
    "# output_dir = output_dir_fmt.format(sample_name=sn)\n",
    "if not os.path.exists(output_dir): \n",
    "    os.makedirs(output_dir)\n",
    "    print(\"made dir:\",output_dir)\n",
    "\n",
    "stack_dir = output_dir + '/stacks'\n",
    "props_dir = output_dir + '/props'\n",
    "segs_dir = output_dir + '/segs'\n",
    "spec_dir = output_dir + '/spectra'\n",
    "clust_dir = output_dir + '/clust'\n",
    "\n",
    "for dir_ in [clust_dir, spec_dir, segs_dir, props_dir, stack_dir]:\n",
    "    if not os.path.exists(dir_):\n",
    "        os.makedirs(dir_)\n",
    "        print(\"made dir:\",dir_)\n",
    "\n",
    "\n",
    "for m in range(M):\n",
    "    # Get derivative of spectra\n",
    "    dict_lab_specmean = specs_filt[m]\n",
    "    dict_lab_slope = {l:np.diff(s) for l, s in dict_lab_specmean.items()}\n",
    "\n",
    "\n",
    "    # Build distance matrix between all cell spectra\n",
    "    n_cells = len(dict_lab_slope)\n",
    "\n",
    "    dist_mat = np.zeros((n_cells,n_cells))\n",
    "    for i, s_i in tqdm(enumerate(dict_lab_slope.values())):\n",
    "        s_i_sub = s_i\n",
    "        for j, s_j in enumerate(dict_lab_slope.values()):\n",
    "            # if j > i:\n",
    "            s_j_sub = s_j\n",
    "            dist_mat[i,j] = fhc.channel_cosine_intensity_allonev2(s_i_sub, s_j_sub)\n",
    "\n",
    "    # Cluster\n",
    "    condensed_dist_mat = squareform(dist_mat)\n",
    "    linkage = hierarchy.linkage(condensed_dist_mat, method='complete')\n",
    "    labels = list(dict_lab_slope.keys())\n",
    "    agg = AgglomerativeClustering(n_clusters=n_clust, affinity='precomputed', linkage='complete')\n",
    "\n",
    "    agg.fit(dist_mat)\n",
    "\n",
    "    clust_all = agg.labels_\n",
    "\n",
    "    dict_lab_clust = dict(zip(labels,clust_all))\n",
    "\n",
    "    # Save files\n",
    "    bn = sn + '_M_' + str(m)\n",
    "    stack_fn = stack_dir + '/' + bn + '_stack.npy'\n",
    "    props_fn = props_dir + '/' + bn + '_props.csv'\n",
    "    seg_fn = segs_dir + '/' + bn + '_seg.npy'\n",
    "    spec_fn = spec_dir + '/' + bn + '_spec.yaml'\n",
    "    clust_fn = clust_dir + '/' + bn + '_clust.yaml'\n",
    "\n",
    "    np.save(stack_fn, stacks[m])\n",
    "    print('Wrote:',stack_fn)\n",
    "    props[m].to_csv(props_fn, index=False)\n",
    "    print('Wrote:',props_fn)\n",
    "    np.save(seg_fn, segs[m])\n",
    "    print('Wrote:',seg_fn)\n",
    "    with open(spec_fn, 'w') as f:\n",
    "        yaml.dump(specs[m], f)\n",
    "    print('Wrote:',spec_fn)\n",
    "    with open(clust_fn, 'w') as f:\n",
    "        yaml.dump(dict_lab_clust, f)\n",
    "    print('Wrote:',clust_fn)\n",
    "\n"
   ]
  },
  {
   "cell_type": "markdown",
   "metadata": {},
   "source": [
    "### Clustering Manual"
   ]
  },
  {
   "cell_type": "code",
   "execution_count": null,
   "metadata": {},
   "outputs": [],
   "source": [
    "m = 0"
   ]
  },
  {
   "cell_type": "code",
   "execution_count": null,
   "metadata": {},
   "outputs": [],
   "source": [
    "im_sum = np.sum(stacks[m], axis=2)\n",
    "\n",
    "mx = np.max(im_sum)*0.35\n",
    "# mx = 60000\n",
    "mn = np.min(im_sum)\n",
    "im_norm = np.clip(im_sum,mn,mx)\n",
    "im_norm = (im_norm - mn) / (mx - mn)\n",
    "im_rgb = im_norm[:,:,None] * np.array([1,1,1])[None,:]\n",
    "fig, ax, cbar = ip.plot_image(im_rgb, im_inches=10)"
   ]
  },
  {
   "cell_type": "code",
   "execution_count": null,
   "metadata": {},
   "outputs": [],
   "source": [
    "np.max(list(specs[m].values()))"
   ]
  },
  {
   "cell_type": "code",
   "execution_count": null,
   "metadata": {},
   "outputs": [],
   "source": [
    "# n_cells = 0\n",
    "# slopes = []\n",
    "# dict_ind_lab = {}\n",
    "# ind = 0\n",
    "# for m, dict_lab_specmean in enumerate(specs):\n",
    "#     s_ = []\n",
    "#     for l,s in dict_lab_specmean.items():\n",
    "#         s_.append(np.diff(s))\n",
    "#         dict_ind_lab[ind] = [m,l]\n",
    "#         ind += 1   \n",
    "#     slopes += s_ \n",
    "#     # n_cells += len(dict_lab_specmean)\n",
    "# n_cells = len(dict_ind_lab)\n",
    "# print(n_cells)\n",
    "dict_lab_specmean = specs_corr[m]\n",
    "# dict_lab_specmean = specs_filt[m]\n",
    "dict_lab_slope = {l:np.diff(s) for l, s in dict_lab_specmean.items()}\n",
    "\n"
   ]
  },
  {
   "cell_type": "code",
   "execution_count": null,
   "metadata": {},
   "outputs": [],
   "source": [
    "len(specs_corr[m])"
   ]
  },
  {
   "cell_type": "code",
   "execution_count": null,
   "metadata": {},
   "outputs": [],
   "source": [
    "# dist_mat = np.zeros((n_cells,n_cells))\n",
    "\n",
    "# for i, s_i in tqdm(enumerate(slopes)):\n",
    "#     s_i_sub = s_i\n",
    "#     for j, s_j in enumerate(slopes):\n",
    "#         if j > i:\n",
    "#             s_j_sub = s_j\n",
    "#             dist_mat[i,j] = fhc.channel_cosine_intensity_allonev2(s_i_sub, s_j_sub)\n",
    "# dist_mat_t = dist_mat.copy().T\n",
    "# for i in range(dist_mat.shape[0]):\n",
    "#     dist_mat_t[i,i] = 0\n",
    "# dist_mat += dist_mat_t\n",
    "# ip.plot_image(dist_mat, cmap='inferno',im_inches=imin)\n",
    "\n",
    "n_cells = len(dict_lab_slope)\n",
    "\n",
    "dist_mat = np.zeros((n_cells,n_cells))\n",
    "for i, s_i in tqdm(enumerate(dict_lab_slope.values())):\n",
    "    s_i_sub = s_i\n",
    "    for j, s_j in enumerate(dict_lab_slope.values()):\n",
    "        # if j > i:\n",
    "        s_j_sub = s_j\n",
    "        dist_mat[i,j] = fhc.channel_cosine_intensity_allonev2(s_i_sub, s_j_sub)\n",
    "ip.plot_image(dist_mat, cmap='inferno',im_inches=imin)"
   ]
  },
  {
   "cell_type": "code",
   "execution_count": null,
   "metadata": {},
   "outputs": [],
   "source": [
    "condensed_dist_mat = squareform(dist_mat)\n",
    "linkage = hierarchy.linkage(condensed_dist_mat, method='complete')"
   ]
  },
  {
   "cell_type": "code",
   "execution_count": null,
   "metadata": {},
   "outputs": [],
   "source": [
    "labels = list(dict_lab_slope.keys())\n",
    "len(labels)"
   ]
  },
  {
   "cell_type": "code",
   "execution_count": null,
   "metadata": {},
   "outputs": [],
   "source": [
    "\n",
    "fig, ax = ip.general_plot(dims=(15,15))\n",
    "dn = hierarchy.dendrogram(linkage, labels=labels, truncate_mode=None)\n",
    "# dn = hierarchy.dendrogram(linkage, labels=inds, truncate_mode='lastp')\n",
    "# ax.axhline(t[i])\n",
    "ylims = [round(l,2) for l in ax.get_ylim()]\n",
    "ax.set_yticks(np.arange(ylims[0],ylims[1],0.005))\n",
    "ax.grid(axis='y')\n",
    "plt.show()\n",
    "plt.close()"
   ]
  },
  {
   "cell_type": "code",
   "execution_count": null,
   "metadata": {},
   "outputs": [],
   "source": [
    "spec_arr_order = []\n",
    "for l in dn['ivl']:\n",
    "    s = dict_lab_specmean[l]\n",
    "    spec_arr_order.append(s)\n",
    "spec_arr_order = np.vstack(spec_arr_order)\n",
    "\n",
    "\n",
    "\n",
    "fig = plt.figure(figsize=(15,5))\n",
    "axs = {\n",
    "    0: fig.add_axes([0.1,0.1,0.1,0.8]),\n",
    "    1: fig.add_axes([0.2,0.1,0.7,0.8])\n",
    "}\n",
    "hierarchy.dendrogram(linkage, ax=axs[0], labels=labels, orientation='left', no_labels=True, truncate_mode=None)\n",
    "axs[1].imshow(np.flip(spec_arr_order, axis=0), cmap='inferno', aspect='auto')\n",
    "axs[1].axis('off')\n",
    "axs[0].axis('off')\n",
    "plt.show()\n",
    "plt.close()"
   ]
  },
  {
   "cell_type": "code",
   "execution_count": null,
   "metadata": {},
   "outputs": [],
   "source": [
    "fit = umap.UMAP(metric='precomputed')\n",
    "u = fit.fit_transform(dist_mat)\n",
    "plt.scatter(u[:,0], u[:,1], alpha=0.25)\n",
    "plt.show()\n",
    "plt.close()"
   ]
  },
  {
   "cell_type": "code",
   "execution_count": null,
   "metadata": {},
   "outputs": [],
   "source": [
    "from sklearn.cluster import AgglomerativeClustering\n",
    "\n",
    "n_clust = 4\n",
    "agg = AgglomerativeClustering(n_clusters=n_clust, affinity='precomputed', linkage='complete')\n",
    "\n",
    "agg.fit(dist_mat)\n",
    "\n",
    "clust_agg = agg.labels_\n",
    "\n"
   ]
  },
  {
   "cell_type": "code",
   "execution_count": null,
   "metadata": {},
   "outputs": [],
   "source": [
    "\n",
    "plt.scatter(u[:,0], u[:,1], c=clust_agg, alpha=0.25, cmap='tab10')\n",
    "plt.show()\n",
    "plt.close()"
   ]
  },
  {
   "cell_type": "code",
   "execution_count": null,
   "metadata": {},
   "outputs": [],
   "source": [
    "clust_all = clust_agg\n"
   ]
  },
  {
   "cell_type": "code",
   "execution_count": null,
   "metadata": {},
   "outputs": [],
   "source": [
    "dict_lab_clust = dict(zip(labels,clust_all))\n",
    "colors = plt.get_cmap('tab10')(np.linspace(0,1,n_clust))\n",
    "dict_clust_col = dict(zip(np.unique(clust_all), colors))"
   ]
  },
  {
   "cell_type": "code",
   "execution_count": null,
   "metadata": {},
   "outputs": [],
   "source": [
    "# im_rgb = im_norm[:,:,None] * np.array([1,1,1])[None,:]\n",
    "# im_rgb = np.dstack([im_rgb, np.ones(im_rgb.shape[:2])])\n",
    "im_rgb = ims_rgb[m]\n",
    "\n",
    "seg = segs[m]\n",
    "prop = props[m]\n",
    "for i, row in prop.iterrows():\n",
    "    l = row.label\n",
    "    if l in labels:\n",
    "        b = row.bbox\n",
    "        b = eval(b) if isinstance(b, str) else b\n",
    "        rgb_sub = im_rgb[b[0]:b[2],b[1]:b[3]]\n",
    "        seg_sub = seg[b[0]:b[2],b[1]:b[3]] == l\n",
    "        im_sub = im_norm[b[0]:b[2],b[1]:b[3]]\n",
    "        cl = dict_lab_clust[l]\n",
    "        color = np.array(dict_clust_col[cl])\n",
    "        # rgb_noncell =  rgb_sub * np.dstack([~seg_sub]*3 + np.ones_like(seg_sub))\n",
    "        rgb_noncell =  rgb_sub * np.dstack([~seg_sub]*4)\n",
    "        # rgb_cell = (im_sub * seg_sub)[:,:,None] * color[None,:]\n",
    "        rgb_cell = seg_sub[:,:,None] * color[None,:]\n",
    "        im_rgb[b[0]:b[2],b[1]:b[3],:] = rgb_noncell + rgb_cell"
   ]
  },
  {
   "cell_type": "code",
   "execution_count": null,
   "metadata": {},
   "outputs": [],
   "source": [
    "fig, ax, cbar = ip.plot_image(im_rgb, im_inches=10)"
   ]
  },
  {
   "cell_type": "code",
   "execution_count": null,
   "metadata": {},
   "outputs": [],
   "source": [
    "spec_dims = (10,5)\n",
    "\n",
    "for c in np.unique(clust_all):\n",
    "    print('Cluster:', c)\n",
    "    bool_c = clust_all == c\n",
    "    labels_sub = np.array(labels)[bool_c]\n",
    "    spec_sub = []\n",
    "    for l in labels_sub:\n",
    "        s = dict_lab_specmean[l]\n",
    "        spec_sub.append(s)\n",
    "    spec_sub = np.vstack(spec_sub)\n",
    "    fig, ax = ip.general_plot(dims=spec_dims)\n",
    "    color = dict_clust_col[c]\n",
    "    fsi.plot_cell_spectra(ax, spec_sub, {'lw':1,'alpha':0.2,'color':color})\n",
    "    # ax.set_ylim(0,12500)\n",
    "    # ax.set_ylim(0,2**16)\n",
    "    plt.plot()\n",
    "    plt.show()"
   ]
  },
  {
   "cell_type": "markdown",
   "metadata": {},
   "source": [
    "### Subset clusters"
   ]
  },
  {
   "cell_type": "code",
   "execution_count": null,
   "metadata": {},
   "outputs": [],
   "source": [
    "t = {}\n",
    "clust = {}\n",
    "i = 0\n",
    "t[i] = 0.065\n",
    "\n",
    "clust[i] = hierarchy.fcluster(linkage, t=t[i], criterion='distance')\n",
    "clust_unique = np.unique(clust[i])\n",
    "n_clust = len(clust_unique)\n",
    "\n",
    "clust_all = clust[i]\n",
    "labels = list(dict_lab_slope.keys())\n",
    "\n",
    "dict_lab_clust = dict(zip(labels,clust_all))\n",
    "colors = plt.get_cmap('tab20')(np.linspace(0,1,n_clust))\n",
    "dict_clust_col = dict(zip(np.unique(clust_all), colors))\n",
    "\n",
    "im_rgb = im_norm[:,:,None] * np.array([1,1,1])[None,:]\n",
    "im_rgb = np.dstack([im_rgb, np.ones(im_rgb.shape[:2])])\n",
    "seg = segs[m]\n",
    "prop = props[m]\n",
    "for _, row in prop.iterrows():\n",
    "    l = row.label\n",
    "    if l in labels:\n",
    "        b = row.bbox\n",
    "        b = eval(b) if isinstance(b, str) else b\n",
    "        rgb_sub = im_rgb[b[0]:b[2],b[1]:b[3]]\n",
    "        seg_sub = seg[b[0]:b[2],b[1]:b[3]] == l\n",
    "        im_sub = im_norm[b[0]:b[2],b[1]:b[3]]\n",
    "        cl = dict_lab_clust[l]\n",
    "        color = np.array(dict_clust_col[cl])\n",
    "        rgb_noncell =  rgb_sub * np.dstack([~seg_sub]*4)\n",
    "        # rgb_cell = (im_sub * seg_sub)[:,:,None] * color[None,:]\n",
    "        rgb_cell = seg_sub[:,:,None] * color[None,:]\n",
    "        im_rgb[b[0]:b[2],b[1]:b[3],:] = rgb_noncell + rgb_cell\n",
    "\n",
    "fig, ax, cbar = ip.plot_image(im_rgb, im_inches=10)\n",
    "\n",
    "spec_dims = (10,5)\n",
    "for c in clust_unique:\n",
    "    labels_sub = np.array(labels)[clust[i] == c]\n",
    "    # if len(labels_sub) > 100:\n",
    "    print(\"Cluster:\",c) \n",
    "    spec_sub = []\n",
    "    for l in labels_sub:\n",
    "        s = dict_lab_specmean[l]\n",
    "        spec_sub.append(s)\n",
    "    spec_sub = np.vstack(spec_sub)\n",
    "    fig, ax = ip.general_plot(dims=spec_dims)\n",
    "    color = np.array(dict_clust_col[c])\n",
    "    fsi.plot_cell_spectra(ax, spec_sub, {'lw':0.5,'alpha':0.5,'color':color})\n",
    "    ax.set_ylim(0,2**16)\n",
    "    plt.plot()\n",
    "    plt.show()\n"
   ]
  },
  {
   "cell_type": "code",
   "execution_count": null,
   "metadata": {},
   "outputs": [],
   "source": [
    "sub_cl = {}\n",
    "i = 1\n",
    "i_old = 0\n",
    "sub_cl[i] = 39\n",
    "t[i] = 0.050\n",
    "\n",
    "clust[i] = hierarchy.fcluster(linkage, t=t[i], criterion='distance')\n",
    "bool_subclust = clust[i_old] == sub_cl[i]\n",
    "clust_change = np.unique(clust[i][bool_subclust])\n",
    "\n",
    "clust_all_temp = clust_all.copy()\n",
    "clmx = np.max(clust_all_temp)\n",
    "clust_i_rename = clust_all_temp.copy()\n",
    "dict_clust_change = defaultdict(dict)\n",
    "for c in clust_change:\n",
    "    bool_c = clust[i] == c\n",
    "    clmx += 1\n",
    "    dict_clust_change[i][clmx] = c\n",
    "    clust_i_rename[bool_c] = clmx\n",
    "clust_all_temp[bool_subclust] = clust_i_rename[bool_subclust]\n",
    "\n",
    "\n",
    "clust_unique = np.unique(clust_all_temp)\n",
    "n_clust = len(clust_unique)\n",
    "\n",
    "labels = list(dict_lab_slope.keys())\n",
    "\n",
    "dict_lab_clust = dict(zip(labels,clust_all_temp))\n",
    "colors = plt.get_cmap('tab10')(np.linspace(0,1,n_clust))\n",
    "dict_clust_col = dict(zip(np.unique(clust_all_temp), colors))\n",
    "\n",
    "im_rgb = im_norm[:,:,None] * np.array([1,1,1])[None,:]\n",
    "im_rgb = np.dstack([im_rgb, np.ones(im_rgb.shape[:2])])\n",
    "seg = segs[m]\n",
    "prop = props[m]\n",
    "for _, row in prop.iterrows():\n",
    "    l = row.label\n",
    "    if l in labels:\n",
    "        b = row.bbox\n",
    "        b = eval(b) if isinstance(b, str) else b\n",
    "        rgb_sub = im_rgb[b[0]:b[2],b[1]:b[3]]\n",
    "        seg_sub = seg[b[0]:b[2],b[1]:b[3]] == l\n",
    "        im_sub = im_norm[b[0]:b[2],b[1]:b[3]]\n",
    "        cl = dict_lab_clust[l]\n",
    "        color = np.array(dict_clust_col[cl])\n",
    "        rgb_noncell =  rgb_sub * np.dstack([~seg_sub]*4)\n",
    "        # rgb_cell = (im_sub * seg_sub)[:,:,None] * color[None,:]\n",
    "        rgb_cell = seg_sub[:,:,None] * color[None,:]\n",
    "        im_rgb[b[0]:b[2],b[1]:b[3],:] = rgb_noncell + rgb_cell\n",
    "\n",
    "fig, ax, cbar = ip.plot_image(im_rgb, im_inches=10)\n",
    "plt.show()\n",
    "plt.close()\n",
    "\n",
    "spec_dims = (10,5)\n",
    "for c in clust_unique:\n",
    "    labels_sub = np.array(labels)[clust_all_temp == c]\n",
    "    # if len(labels_sub) > 100:\n",
    "    print(\"Cluster:\",c) \n",
    "    try:\n",
    "        print(\"Changed from new fcluster:\",dict_clust_change[i][c]) \n",
    "    except:\n",
    "        pass\n",
    "    spec_sub = []\n",
    "    for l in labels_sub:\n",
    "        s = dict_lab_specmean[l]\n",
    "        spec_sub.append(s)\n",
    "    spec_sub = np.vstack(spec_sub)\n",
    "    fig, ax = ip.general_plot(dims=spec_dims)\n",
    "    color = np.array(dict_clust_col[c])\n",
    "    fsi.plot_cell_spectra(ax, spec_sub, {'lw':0.5,'alpha':0.5,'color':color})\n",
    "    ax.set_ylim(0,2**16)\n",
    "    plt.plot()\n",
    "    plt.show()\n"
   ]
  },
  {
   "cell_type": "code",
   "execution_count": null,
   "metadata": {},
   "outputs": [],
   "source": [
    "clust_all = clust_all_temp"
   ]
  },
  {
   "cell_type": "code",
   "execution_count": null,
   "metadata": {},
   "outputs": [],
   "source": [
    "i = 2\n",
    "i_old = 0\n",
    "sub_cl[i] = 3\n",
    "t[i] = 0.21\n",
    "\n",
    "clust[i] = hierarchy.fcluster(linkage, t=t[i], criterion='distance')\n",
    "bool_subclust = clust[i_old] == sub_cl[i]\n",
    "clust_change = np.unique(clust[i][bool_subclust])\n",
    "\n",
    "clust_all_temp = clust_all.copy()\n",
    "clmx = np.max(clust_all_temp)\n",
    "clust_i_rename = clust_all_temp.copy()\n",
    "dict_clust_change = defaultdict(dict)\n",
    "for c in clust_change:\n",
    "    bool_c = clust[i] == c\n",
    "    clmx += 1\n",
    "    dict_clust_change[i][clmx] = c\n",
    "    clust_i_rename[bool_c] = clmx\n",
    "clust_all_temp[bool_subclust] = clust_i_rename[bool_subclust]\n",
    "\n",
    "\n",
    "clust_unique = np.unique(clust_all_temp)\n",
    "n_clust = len(clust_unique)\n",
    "\n",
    "labels = list(dict_lab_slope.keys())\n",
    "\n",
    "dict_lab_clust = dict(zip(labels,clust_all_temp))\n",
    "colors = plt.get_cmap('tab10')(np.linspace(0,1,n_clust))\n",
    "dict_clust_col = dict(zip(np.unique(clust_all_temp), colors))\n",
    "\n",
    "im_rgb = im_norm[:,:,None] * np.array([1,1,1])[None,:]\n",
    "im_rgb = np.dstack([im_rgb, np.ones(im_rgb.shape[:2])])\n",
    "seg = segs[m]\n",
    "prop = props[m]\n",
    "for _, row in prop.iterrows():\n",
    "    l = row.label\n",
    "    if l in labels:\n",
    "        b = row.bbox\n",
    "        b = eval(b) if isinstance(b, str) else b\n",
    "        rgb_sub = im_rgb[b[0]:b[2],b[1]:b[3]]\n",
    "        seg_sub = seg[b[0]:b[2],b[1]:b[3]] == l\n",
    "        im_sub = im_norm[b[0]:b[2],b[1]:b[3]]\n",
    "        cl = dict_lab_clust[l]\n",
    "        color = np.array(dict_clust_col[cl])\n",
    "        rgb_noncell =  rgb_sub * np.dstack([~seg_sub]*4)\n",
    "        # rgb_cell = (im_sub * seg_sub)[:,:,None] * color[None,:]\n",
    "        rgb_cell = seg_sub[:,:,None] * color[None,:]\n",
    "        im_rgb[b[0]:b[2],b[1]:b[3],:] = rgb_noncell + rgb_cell\n",
    "\n",
    "fig, ax, cbar = ip.plot_image(im_rgb, im_inches=10)\n",
    "plt.show()\n",
    "plt.close()\n",
    "\n",
    "spec_dims = (10,5)\n",
    "for c in clust_unique:\n",
    "    labels_sub = np.array(labels)[clust_all_temp == c]\n",
    "    # if len(labels_sub) > 100:\n",
    "    print(\"Cluster:\",c) \n",
    "    try:\n",
    "        print(\"Changed from new fcluster:\",dict_clust_change[i][c]) \n",
    "    except:\n",
    "        pass\n",
    "    spec_sub = []\n",
    "    for l in labels_sub:\n",
    "        s = dict_lab_specmean[l]\n",
    "        spec_sub.append(s)\n",
    "    spec_sub = np.vstack(spec_sub)\n",
    "    fig, ax = ip.general_plot(dims=spec_dims)\n",
    "    color = np.array(dict_clust_col[c])\n",
    "    fsi.plot_cell_spectra(ax, spec_sub, {'lw':0.5,'alpha':0.1,'color':color})\n",
    "    ax.set_ylim(0,2**16)\n",
    "    plt.plot()\n",
    "    plt.show()\n"
   ]
  },
  {
   "cell_type": "code",
   "execution_count": null,
   "metadata": {},
   "outputs": [],
   "source": [
    "clust_all = clust_all_temp"
   ]
  },
  {
   "cell_type": "code",
   "execution_count": null,
   "metadata": {},
   "outputs": [],
   "source": [
    "i = 3\n",
    "i_old = 1\n",
    "sub_cl[i] = 6\n",
    "t[i] = 0.14\n",
    "\n",
    "clust[i] = hierarchy.fcluster(linkage, t=t[i], criterion='distance')\n",
    "bool_subclust = clust[i_old] == sub_cl[i]\n",
    "clust_change = np.unique(clust[i][bool_subclust])\n",
    "\n",
    "clust_all_temp = clust_all.copy()\n",
    "clmx = np.max(clust_all_temp)\n",
    "clust_i_rename = clust_all_temp.copy()\n",
    "dict_clust_change = defaultdict(dict)\n",
    "for c in clust_change:\n",
    "    bool_c = clust[i] == c\n",
    "    clmx += 1\n",
    "    dict_clust_change[i][clmx] = c\n",
    "    clust_i_rename[bool_c] = clmx\n",
    "clust_all_temp[bool_subclust] = clust_i_rename[bool_subclust]\n",
    "\n",
    "\n",
    "clust_unique = np.unique(clust_all_temp)\n",
    "n_clust = len(clust_unique)\n",
    "\n",
    "labels = list(dict_lab_slope.keys())\n",
    "\n",
    "dict_lab_clust = dict(zip(labels,clust_all_temp))\n",
    "colors = plt.get_cmap('tab10')(np.linspace(0,1,n_clust))\n",
    "dict_clust_col = dict(zip(np.unique(clust_all_temp), colors))\n",
    "\n",
    "im_rgb = im_norm[:,:,None] * np.array([1,1,1])[None,:]\n",
    "im_rgb = np.dstack([im_rgb, np.ones(im_rgb.shape[:2])])\n",
    "seg = segs[m]\n",
    "prop = props[m]\n",
    "for _, row in prop.iterrows():\n",
    "    l = row.label\n",
    "    if l in labels:\n",
    "        b = row.bbox\n",
    "        b = eval(b) if isinstance(b, str) else b\n",
    "        rgb_sub = im_rgb[b[0]:b[2],b[1]:b[3]]\n",
    "        seg_sub = seg[b[0]:b[2],b[1]:b[3]] == l\n",
    "        im_sub = im_norm[b[0]:b[2],b[1]:b[3]]\n",
    "        cl = dict_lab_clust[l]\n",
    "        color = np.array(dict_clust_col[cl])\n",
    "        rgb_noncell =  rgb_sub * np.dstack([~seg_sub]*4)\n",
    "        # rgb_cell = (im_sub * seg_sub)[:,:,None] * color[None,:]\n",
    "        rgb_cell = seg_sub[:,:,None] * color[None,:]\n",
    "        im_rgb[b[0]:b[2],b[1]:b[3],:] = rgb_noncell + rgb_cell\n",
    "\n",
    "fig, ax, cbar = ip.plot_image(im_rgb, im_inches=10)\n",
    "plt.show()\n",
    "plt.close()\n",
    "\n",
    "spec_dims = (10,5)\n",
    "for c in clust_unique:\n",
    "    labels_sub = np.array(labels)[clust_all_temp == c]\n",
    "    # if len(labels_sub) > 100:\n",
    "    print(\"Cluster:\",c) \n",
    "    try:\n",
    "        print(\"Changed from new fcluster:\",dict_clust_change[i][c]) \n",
    "    except:\n",
    "        pass\n",
    "    spec_sub = []\n",
    "    for l in labels_sub:\n",
    "        s = dict_lab_specmean[l]\n",
    "        spec_sub.append(s)\n",
    "    spec_sub = np.vstack(spec_sub)\n",
    "    fig, ax = ip.general_plot(dims=spec_dims)\n",
    "    color = np.array(dict_clust_col[c])\n",
    "    fsi.plot_cell_spectra(ax, spec_sub, {'lw':0.5,'alpha':0.25,'color':color})\n",
    "    ax.set_ylim(0,2**16)\n",
    "    plt.plot()\n",
    "    plt.show()\n"
   ]
  },
  {
   "cell_type": "code",
   "execution_count": null,
   "metadata": {},
   "outputs": [],
   "source": []
  },
  {
   "cell_type": "code",
   "execution_count": null,
   "metadata": {},
   "outputs": [],
   "source": [
    "clust_change = []\n",
    "\n",
    "clmx = np.max(clust_all)\n",
    "clust_i_rename = clust_all.copy()\n",
    "for c in clust_change:\n",
    "    bool_c = clust[i] == c\n",
    "    clmx += 1\n",
    "    clust_i_rename[bool_c] = clmx\n",
    "\n",
    "np.unique(clust_i_rename[bool_subclust])\n",
    "\n",
    "clust_all[bool_subclust] = clust_i_rename[bool_subclust]"
   ]
  },
  {
   "cell_type": "markdown",
   "metadata": {},
   "source": [
    "### Remove clusters"
   ]
  },
  {
   "cell_type": "code",
   "execution_count": null,
   "metadata": {},
   "outputs": [],
   "source": [
    "ignore = [9]\n",
    "clust_trim = clust_all.copy()\n",
    "for c in ignore:\n",
    "    bool_c = clust_all == c\n",
    "    clust_trim[bool_c] = 0"
   ]
  },
  {
   "cell_type": "code",
   "execution_count": null,
   "metadata": {},
   "outputs": [],
   "source": [
    "dict_lab_clust = dict(zip(labels,clust_trim))\n",
    "# colors = plt.get_cmap('tab10').colors\n",
    "# dict_clust_col = dict(zip(np.unique(clust_trim)[1:], colors))"
   ]
  },
  {
   "cell_type": "code",
   "execution_count": null,
   "metadata": {},
   "outputs": [],
   "source": [
    "im_rgb = im_norm[:,:,None] * np.array([1,1,1])[None,:]\n",
    "im_rgb = np.dstack([im_rgb, np.ones(im_rgb.shape[:2])])\n",
    "\n",
    "for i, row in prop.iterrows():\n",
    "    l = row.label\n",
    "    if l in labels:\n",
    "        b = row.bbox\n",
    "        cl = dict_lab_clust[l]\n",
    "        if cl:\n",
    "            color = np.array(dict_clust_col[cl])\n",
    "            b = eval(b) if isinstance(b, str) else b\n",
    "            rgb_sub = im_rgb[b[0]:b[2],b[1]:b[3]]\n",
    "            seg_sub = seg[b[0]:b[2],b[1]:b[3]] == l\n",
    "            im_sub = im_norm[b[0]:b[2],b[1]:b[3]]\n",
    "            rgb_noncell =  rgb_sub * np.dstack([~seg_sub]*4)\n",
    "            # rgb_cell = (im_sub * seg_sub)[:,:,None] * color[None,:]        \n",
    "            rgb_cell = seg_sub[:,:,None] * color[None,:]\n",
    "            im_rgb[b[0]:b[2],b[1]:b[3],:] = rgb_noncell + rgb_cell"
   ]
  },
  {
   "cell_type": "code",
   "execution_count": null,
   "metadata": {},
   "outputs": [],
   "source": [
    "ip.plot_image(im_rgb, im_inches=10)"
   ]
  },
  {
   "cell_type": "code",
   "execution_count": null,
   "metadata": {},
   "outputs": [],
   "source": [
    "for c in np.unique(clust_trim):\n",
    "    if c:\n",
    "        print('Cluster:', c)\n",
    "        bool_c = clust_trim == c\n",
    "        labels_sub = np.array(labels)[bool_c]\n",
    "        spec_sub = []\n",
    "        for l in labels_sub:\n",
    "            s = dict_lab_specmean[l]\n",
    "            spec_sub.append(s)\n",
    "        spec_sub = np.vstack(spec_sub)\n",
    "        fig, ax = ip.general_plot(dims=spec_dims)\n",
    "        color = dict_clust_col[c]\n",
    "        fsi.plot_cell_spectra(ax, spec_sub, {'lw':0.5,'alpha':1,'color':color})\n",
    "        ax.set_ylim(0,2**16)\n",
    "        plt.plot()\n",
    "        plt.show()"
   ]
  },
  {
   "cell_type": "markdown",
   "metadata": {},
   "source": [
    "## Save"
   ]
  },
  {
   "cell_type": "code",
   "execution_count": null,
   "metadata": {},
   "outputs": [],
   "source": [
    "output_dir = config['output_dir'] + '/' + sn\n",
    "# output_dir = output_dir_fmt.format(sample_name=sn)\n",
    "if not os.path.exists(output_dir): \n",
    "    os.makedirs(output_dir)\n",
    "    print(\"made dir:\",output_dir)\n"
   ]
  },
  {
   "cell_type": "code",
   "execution_count": null,
   "metadata": {},
   "outputs": [],
   "source": [
    "# stack_dir = output_dir + '/stacks'\n",
    "# props_dir = output_dir + '/props'\n",
    "# segs_dir = output_dir + '/segs'\n",
    "# spec_dir = output_dir + '/spectra'\n",
    "clust_dir = output_dir + '/clust'\n",
    "\n",
    "for dir_ in [clust_dir]:\n",
    "    if not os.path.exists(dir_):\n",
    "        os.makedirs(dir_)\n",
    "        print(\"made dir:\",dir_)\n"
   ]
  },
  {
   "cell_type": "code",
   "execution_count": null,
   "metadata": {},
   "outputs": [],
   "source": [
    "bn = sn + '_M_' + str(m)\n",
    "# stack_fn = stack_dir + '/' + bn + '_stack.npy'\n",
    "# props_fn = props_dir + '/' + bn + '_props.csv'a\n",
    "# seg_fn = segs_dir + '/' + bn + '_seg.npy'\n",
    "# spec_fn = spec_dir + '/' + bn + '_spec.yaml'\n",
    "clust_fn = clust_dir + '/' + bn + '_clust.yaml'\n",
    "\n",
    "# np.save(stack_fn, stacks[m])\n",
    "# print('Wrote:',stack_fn)\n",
    "# props[m].to_csv(props_fn, index=False)\n",
    "# print('Wrote:',props_fn)\n",
    "# np.save(seg_fn, segs[m])\n",
    "# print('Wrote:',seg_fn)\n",
    "# with open(spec_fn, 'w') as f:\n",
    "#     yaml.dump(specs[m], f)\n",
    "# print('Wrote:',spec_fn)\n",
    "with open(clust_fn, 'w') as f:\n",
    "    yaml.dump(dict_lab_clust, f)\n",
    "print('Wrote:',clust_fn)\n"
   ]
  },
  {
   "cell_type": "markdown",
   "metadata": {},
   "source": [
    "## Failed: HDBSCAN clustering"
   ]
  },
  {
   "cell_type": "code",
   "execution_count": null,
   "metadata": {},
   "outputs": [],
   "source": [
    "import hdbscan\n",
    "hdb = hdbscan.HDBSCAN(min_cluster_size=5, metric='precomputed')\n",
    "\n",
    "hdb.fit(dist_mat)\n",
    "\n",
    "clust_hdb = hdb.labels_\n",
    "\n",
    "plt.scatter(u[:,0], u[:,1], c=clust_hdb, alpha=0.25)\n",
    "plt.show()\n",
    "plt.close()"
   ]
  },
  {
   "cell_type": "code",
   "execution_count": null,
   "metadata": {},
   "outputs": [],
   "source": [
    "import hdbscan\n",
    "hdb = hdbscan.HDBSCAN(min_cluster_size=10)\n",
    "\n",
    "hdb.fit(u)\n",
    "\n",
    "clust_hdb = hdb.labels_\n",
    "\n"
   ]
  },
  {
   "cell_type": "code",
   "execution_count": null,
   "metadata": {},
   "outputs": [],
   "source": [
    "u_ = u[clust_hdb > -1,:]\n",
    "u_i = u[clust_hdb == -1,:]\n",
    "\n",
    "\n",
    "plt.scatter(u_i[:,0], u_i[:,1], color=[0.5,0.5,0.5], alpha=0.25)\n",
    "plt.scatter(u_[:,0], u_[:,1], c=clust_hdb[clust_hdb > -1], alpha=0.25, cmap='Spectral')\n",
    "plt.show()\n",
    "plt.close()"
   ]
  },
  {
   "cell_type": "code",
   "execution_count": null,
   "metadata": {},
   "outputs": [],
   "source": [
    "np.unique(clust_hdb).shape"
   ]
  },
  {
   "cell_type": "code",
   "execution_count": null,
   "metadata": {},
   "outputs": [],
   "source": [
    "clust_all = clust_hdb\n",
    "dict_lab_clust = dict(zip(labels,clust_all))\n",
    "colors = plt.get_cmap('tab20').colors\n",
    "dict_clust_col = dict(zip(np.unique(clust_all), colors))"
   ]
  },
  {
   "cell_type": "code",
   "execution_count": null,
   "metadata": {},
   "outputs": [],
   "source": [
    "seg = segs[m]\n",
    "prop = props[m]\n",
    "for i, row in prop.iterrows():\n",
    "    l = row.label\n",
    "    if l in labels:\n",
    "        b = row.bbox\n",
    "        b = eval(b) if isinstance(b, str) else b\n",
    "        rgb_sub = im_rgb[b[0]:b[2],b[1]:b[3]]\n",
    "        seg_sub = seg[b[0]:b[2],b[1]:b[3]] == l\n",
    "        im_sub = im_norm[b[0]:b[2],b[1]:b[3]]\n",
    "        cl = dict_lab_clust[l]\n",
    "        color = np.array(dict_clust_col[cl])\n",
    "        rgb_noncell =  rgb_sub * np.dstack([~seg_sub]*3)\n",
    "        # rgb_cell = (im_sub * seg_sub)[:,:,None] * color[None,:]\n",
    "        rgb_cell = seg_sub[:,:,None] * color[None,:]\n",
    "        im_rgb[b[0]:b[2],b[1]:b[3],:] = rgb_noncell + rgb_cell"
   ]
  },
  {
   "cell_type": "code",
   "execution_count": null,
   "metadata": {},
   "outputs": [],
   "source": [
    "fig, ax, cbar = ip.plot_image(im_rgb, im_inches=10)"
   ]
  },
  {
   "cell_type": "code",
   "execution_count": null,
   "metadata": {},
   "outputs": [],
   "source": [
    "for c in np.unique(clust_all):\n",
    "    print('Cluster:', c)\n",
    "    bool_c = clust_all == c\n",
    "    labels_sub = np.array(labels)[bool_c]\n",
    "    spec_sub = []\n",
    "    for l in labels_sub:\n",
    "        s = dict_lab_specmean[l]\n",
    "        spec_sub.append(s)\n",
    "    spec_sub = np.vstack(spec_sub)\n",
    "    fig, ax = ip.general_plot(dims=spec_dims)\n",
    "    color = dict_clust_col[c]\n",
    "    fsi.plot_cell_spectra(ax, spec_sub, {'lw':0.5,'alpha':1,'color':color})\n",
    "    ax.set_ylim(0,2**16)\n",
    "    plt.plot()\n",
    "    plt.show()"
   ]
  },
  {
   "cell_type": "markdown",
   "metadata": {},
   "source": [
    "## Moved to classify_clusters_02"
   ]
  },
  {
   "cell_type": "code",
   "execution_count": null,
   "metadata": {},
   "outputs": [],
   "source": [
    "dict_cl_spec = {}\n",
    "for c in np.unique(clust_all):\n",
    "    # print('Cluster:', c)\n",
    "    bool_c = clust_all == c\n",
    "    labels_sub = np.array(labels)[bool_c]\n",
    "    spec_sub = []\n",
    "    for l in labels_sub:\n",
    "        s = dict_lab_specmean[l]\n",
    "        spec_sub.append(s)\n",
    "    spec_sub = np.vstack(spec_sub)\n",
    "    dict_cl_spec[c] = spec_sub"
   ]
  },
  {
   "cell_type": "code",
   "execution_count": null,
   "metadata": {},
   "outputs": [],
   "source": [
    "dict_cl_specmean = {cl: np.mean(s, axis=0) for cl, s in dict_cl_spec.items()}\n",
    "dict_cl_specnorm = {cl: s / np.sum(s) for cl, s in dict_cl_specmean.items()}"
   ]
  },
  {
   "cell_type": "code",
   "execution_count": null,
   "metadata": {},
   "outputs": [],
   "source": [
    "n_clust = len(dict_cl_specnorm)\n",
    "n_chan = dict_cl_spec[c].shape[1]\n",
    "diff_mat = np.zeros((n_clust,n_clust,n_chan))\n",
    "for i, s_i in enumerate(dict_cl_specnorm.values()):\n",
    "    for j, s_j in enumerate(dict_cl_specnorm.values()):\n",
    "        diff_mat[i,j,:] = s_i - s_j"
   ]
  },
  {
   "cell_type": "code",
   "execution_count": null,
   "metadata": {},
   "outputs": [],
   "source": [
    "def sum_normalize_ref(ref_spec):\n",
    "    ref_sum_norm = []\n",
    "    for r in ref_spec:\n",
    "        r_ = r - np.min(r, axis=1)[:,None]\n",
    "        ref_sum_norm.append(r_ / np.sum(r_, axis=1)[:,None])\n",
    "    return [np.mean(r, axis=0) for r in ref_sum_norm]\n",
    "\n",
    "def get_reference_spectra(barcodes, bc_len):\n",
    "    ref_dir = '/fs/cbsuvlaminck2/workdir/bmg224/manuscripts/mgefish/data/unused/fig_5/HiPRFISH_reference_spectra'\n",
    "    fmt = '08_18_2018_enc_{}_avgint.csv'\n",
    "    # if bc_len == 5:\n",
    "    barcodes_str = [str(bc).zfill(7) for bc in barcodes]\n",
    "    # barcodes_str = [str(bc).zfill(7) for bc in barcodes]\n",
    "    barcodes_10bit = [bc[0] + '0' + bc[1:4] + '00' + bc[4:] for bc in barcodes_str]\n",
    "    # barcodes_10bit = [bc[0] + '0' + bc[1:4] + '00' + bc[4:] for bc in barcodes_str]\n",
    "    barcodes_b10 = [int(str(bc),2) for bc in barcodes_10bit]\n",
    "    st = 32\n",
    "    en = 32 + 63\n",
    "    ref_avgint_cols = [i for i in range(st,en)]\n",
    "\n",
    "    ref_spec = []\n",
    "    for bc in barcodes_b10:\n",
    "        fn = cluster + '/' + ref_dir + '/'+ fmt.format(bc)\n",
    "        ref = pd.read_csv(fn, header=None)\n",
    "        ref = ref[ref_avgint_cols].values\n",
    "        ref_spec.append(ref)\n",
    "    return ref_spec\n",
    "\n",
    "# Get reference spectra\n",
    "probe_design_dir = '/fs/cbsuvlaminck2/workdir/bmg224/manuscripts/mgefish/data/HiPRFISH_probe_design'\n",
    "probe_design_fn = probe_design_dir + '/welch2016_7b_distant.csv'\n",
    "probe_design = pd.read_csv(probe_design_fn)\n",
    "barcodes = probe_design['code'].unique()\n",
    "barcode_length = len(str(np.max(barcodes)))\n",
    "ref_spec = get_reference_spectra(barcodes, barcode_length)\n",
    "sci_names = [probe_design.loc[probe_design['code'] == bc,'sci_name'].unique()[0] \n",
    "            for bc in barcodes]\n",
    "weights_sum_norm = sum_normalize_ref(ref_spec)"
   ]
  },
  {
   "cell_type": "code",
   "execution_count": null,
   "metadata": {},
   "outputs": [],
   "source": []
  },
  {
   "cell_type": "code",
   "execution_count": null,
   "metadata": {},
   "outputs": [],
   "source": [
    "from sklearn.cluster import OPTICS\n",
    "opt = OPTICS()\n",
    "\n",
    "opt.fit(u)\n",
    "\n",
    "clust_opt = opt.labels_\n",
    "\n",
    "plt.scatter(u[:,0], u[:,1], c=clust_opt, alpha=0.25)\n",
    "plt.show()\n",
    "plt.close()"
   ]
  },
  {
   "cell_type": "markdown",
   "metadata": {},
   "source": [
    "## Manual cluster selecrion"
   ]
  },
  {
   "cell_type": "code",
   "execution_count": null,
   "metadata": {},
   "outputs": [],
   "source": [
    "t = {}\n",
    "clust = {}\n"
   ]
  },
  {
   "cell_type": "code",
   "execution_count": null,
   "metadata": {},
   "outputs": [],
   "source": [
    "i = 0"
   ]
  },
  {
   "cell_type": "code",
   "execution_count": null,
   "metadata": {},
   "outputs": [],
   "source": [
    "# pick a threshold for clustering\n",
    "t[i] = 0.042"
   ]
  },
  {
   "cell_type": "code",
   "execution_count": null,
   "metadata": {},
   "outputs": [],
   "source": [
    "# cluster linkage into three groups\n",
    "clust[i] = hierarchy.fcluster(linkage, t=t[i], criterion='distance')\n",
    "clust_unique = np.unique(clust[i])\n",
    "clust_unique"
   ]
  },
  {
   "cell_type": "code",
   "execution_count": null,
   "metadata": {},
   "outputs": [],
   "source": [
    "fig, ax = ip.general_plot(dims=(15,15))\n",
    "dn = hierarchy.dendrogram(linkage, labels=labels, truncate_mode='lastp')\n",
    "ax.axhline(t[i])\n",
    "ylims = [round(l,2) for l in ax.get_ylim()]\n",
    "ax.set_yticks(np.arange(ylims[0],ylims[1],0.005))\n",
    "ax.grid(axis='y')\n",
    "plt.show()\n",
    "plt.close()"
   ]
  },
  {
   "cell_type": "code",
   "execution_count": null,
   "metadata": {},
   "outputs": [],
   "source": [
    "# Plot Spectra from each group\n",
    "# choice = 200\n",
    "\n",
    "# spec_dims = (10,5)\n",
    "# for c in clust_unique:\n",
    "#     print(\"Cluster:\",c)\n",
    "#     inds_sub = np.array(inds)[clust[i] == c]\n",
    "#     spec_sub = []\n",
    "#     inds_sub_choice = np.random.choice(inds_sub, size=choice, replace=False)\n",
    "#     for ind in inds_sub:\n",
    "#         m,l = dict_ind_lab[ind]\n",
    "#         s = specs[m][l]\n",
    "#         spec_sub.append(s)\n",
    "#     spec_sub = np.vstack(spec_sub)\n",
    "#     fig, ax = ip.general_plot(dims=spec_dims)\n",
    "#     fsi.plot_cell_spectra(ax, spec_sub, {'lw':0.5,'alpha':0.1,'color':'r'})\n",
    "#     ax.set_ylim(0,2**16)\n",
    "#     plt.plot()\n",
    "#     plt.show()\n",
    "# project groups onto Image and compare with raw image\n",
    "\n",
    "spec_dims = (10,5)\n",
    "for c in clust_unique:\n",
    "    print(\"Cluster:\",c)\n",
    "    labels_sub = np.array(labels)[clust[i] == c]\n",
    "    spec_sub = []\n",
    "    for l in labels_sub:\n",
    "        s = dict_lab_specmean[l]\n",
    "        spec_sub.append(s)\n",
    "    spec_sub = np.vstack(spec_sub)\n",
    "    fig, ax = ip.general_plot(dims=spec_dims)\n",
    "    fsi.plot_cell_spectra(ax, spec_sub, {'lw':0.5,'alpha':0.1,'color':'r'})\n",
    "    ax.set_ylim(0,2**16)\n",
    "    plt.plot()\n",
    "    plt.show()"
   ]
  },
  {
   "cell_type": "code",
   "execution_count": null,
   "metadata": {},
   "outputs": [],
   "source": [
    "clust_all = clust[i]\n",
    "np.unique(clust_all)"
   ]
  },
  {
   "cell_type": "code",
   "execution_count": null,
   "metadata": {},
   "outputs": [],
   "source": [
    "# fit = umap.UMAP(metric='precomputed')\n",
    "# u = fit.fit_transform(dist_mat)\n",
    "plt.scatter(u[:,0], u[:,1], c=clust_all, alpha=0.25, cmap='Spectral')\n",
    "plt.show()\n",
    "plt.close()"
   ]
  },
  {
   "cell_type": "code",
   "execution_count": null,
   "metadata": {},
   "outputs": [],
   "source": [
    "dict_lab_clust = dict(zip(labels,clust_all))\n",
    "colors = plt.get_cmap('tab10').colors\n",
    "dict_clust_col = dict(zip(np.unique(clust_all), colors))"
   ]
  },
  {
   "cell_type": "code",
   "execution_count": null,
   "metadata": {},
   "outputs": [],
   "source": [
    "seg = segs[m]\n",
    "prop = props[m]\n",
    "for i, row in prop.iterrows():\n",
    "    l = row.label\n",
    "    if l in labels:\n",
    "        b = row.bbox\n",
    "        b = eval(b) if isinstance(b, str) else b\n",
    "        rgb_sub = im_rgb[b[0]:b[2],b[1]:b[3]]\n",
    "        seg_sub = seg[b[0]:b[2],b[1]:b[3]] == l\n",
    "        im_sub = im_norm[b[0]:b[2],b[1]:b[3]]\n",
    "        cl = dict_lab_clust[l]\n",
    "        color = np.array(dict_clust_col[cl])\n",
    "        rgb_noncell =  rgb_sub * np.dstack([~seg_sub]*3)\n",
    "        # rgb_cell = (im_sub * seg_sub)[:,:,None] * color[None,:]\n",
    "        rgb_cell = seg_sub[:,:,None] * color[None,:]\n",
    "        im_rgb[b[0]:b[2],b[1]:b[3],:] = rgb_noncell + rgb_cell"
   ]
  },
  {
   "cell_type": "code",
   "execution_count": null,
   "metadata": {},
   "outputs": [],
   "source": [
    "fig, ax, cbar = ip.plot_image(im_rgb, im_inches=10)"
   ]
  },
  {
   "cell_type": "code",
   "execution_count": null,
   "metadata": {},
   "outputs": [],
   "source": [
    "sub_cl = {}"
   ]
  },
  {
   "cell_type": "code",
   "execution_count": null,
   "metadata": {},
   "outputs": [],
   "source": [
    "i = 1\n",
    "i_old = 0\n",
    "sub_cl[i] = 1"
   ]
  },
  {
   "cell_type": "code",
   "execution_count": null,
   "metadata": {},
   "outputs": [],
   "source": [
    "# pick a threshold for clustering\n",
    "t[i] = 0.04\n"
   ]
  },
  {
   "cell_type": "code",
   "execution_count": null,
   "metadata": {},
   "outputs": [],
   "source": [
    "# cluster linkage into three groups\n",
    "clust[i] = hierarchy.fcluster(linkage, t=t[i], criterion='distance')\n",
    "bool_subclust = clust[i_old] == sub_cl[i]\n",
    "clust_unique = np.unique(clust[i][bool_subclust])\n",
    "clust_unique"
   ]
  },
  {
   "cell_type": "code",
   "execution_count": null,
   "metadata": {},
   "outputs": [],
   "source": [
    "fig, ax = ip.general_plot(dims=(15,15))\n",
    "dn = hierarchy.dendrogram(linkage, labels=labels, truncate_mode='lastp')\n",
    "ax.axhline(t[i])\n",
    "ylims = [round(l,2) for l in ax.get_ylim()]\n",
    "ax.set_yticks(np.arange(ylims[0],ylims[1],0.005))\n",
    "ax.grid(axis='y')\n",
    "plt.show()\n",
    "plt.close()"
   ]
  },
  {
   "cell_type": "code",
   "execution_count": null,
   "metadata": {},
   "outputs": [],
   "source": [
    "spec_dims = (10,5)\n",
    "for c in clust_unique:\n",
    "    labels_sub = np.array(labels)[clust[i] == c]\n",
    "    if len(labels_sub) > 100:\n",
    "    print(\"Cluster:\",c) \n",
    "    spec_sub = []\n",
    "    for l in labels_sub:\n",
    "        s = dict_lab_specmean[l]\n",
    "        spec_sub.append(s)\n",
    "    spec_sub = np.vstack(spec_sub)\n",
    "    fig, ax = ip.general_plot(dims=spec_dims)\n",
    "    fsi.plot_cell_spectra(ax, spec_sub, {'lw':0.5,'alpha':0.1,'color':'r'})\n",
    "    ax.set_ylim(0,2**16)\n",
    "    plt.plot()\n",
    "    plt.show()"
   ]
  },
  {
   "cell_type": "code",
   "execution_count": null,
   "metadata": {},
   "outputs": [],
   "source": [
    "clust_change = [1,2]\n",
    "\n",
    "clmx = np.max(clust_all)\n",
    "clust_i_rename = clust_all.copy()\n",
    "for c in clust_change:\n",
    "    bool_c = clust[i] == c\n",
    "    clmx += 1\n",
    "    clust_i_rename[bool_c] = clmx\n",
    "\n",
    "np.unique(clust_i_rename[bool_subclust])"
   ]
  },
  {
   "cell_type": "code",
   "execution_count": null,
   "metadata": {},
   "outputs": [],
   "source": [
    "clust_all[bool_subclust] = clust_i_rename[bool_subclust]\n",
    "np.unique(clust_all)\n"
   ]
  },
  {
   "cell_type": "code",
   "execution_count": null,
   "metadata": {},
   "outputs": [],
   "source": [
    "# fit = umap.UMAP(metric='precomputed')\n",
    "# u = fit.fit_transform(dist_mat)\n",
    "plt.scatter(u[:,0], u[:,1], c=clust_all, alpha=0.25, cmap='tab10')\n",
    "plt.show()\n",
    "plt.close()"
   ]
  },
  {
   "cell_type": "code",
   "execution_count": null,
   "metadata": {},
   "outputs": [],
   "source": [
    "dict_lab_clust = dict(zip(labels,clust_all))\n",
    "colors = plt.get_cmap('tab10').colors\n",
    "dict_clust_col = dict(zip(np.unique(clust_all), colors))"
   ]
  },
  {
   "cell_type": "code",
   "execution_count": null,
   "metadata": {},
   "outputs": [],
   "source": [
    "seg = segs[m]\n",
    "prop = props[m]\n",
    "for i, row in prop.iterrows():\n",
    "    l = row.label\n",
    "    if l in labels:\n",
    "        b = row.bbox\n",
    "        b = eval(b) if isinstance(b, str) else b\n",
    "        rgb_sub = im_rgb[b[0]:b[2],b[1]:b[3]]\n",
    "        seg_sub = seg[b[0]:b[2],b[1]:b[3]] == l\n",
    "        im_sub = im_norm[b[0]:b[2],b[1]:b[3]]\n",
    "        cl = dict_lab_clust[l]\n",
    "        color = np.array(dict_clust_col[cl])\n",
    "        rgb_noncell =  rgb_sub * np.dstack([~seg_sub]*3)\n",
    "        # rgb_cell = (im_sub * seg_sub)[:,:,None] * color[None,:]\n",
    "        rgb_cell = seg_sub[:,:,None] * color[None,:]\n",
    "        im_rgb[b[0]:b[2],b[1]:b[3],:] = rgb_noncell + rgb_cell"
   ]
  },
  {
   "cell_type": "code",
   "execution_count": null,
   "metadata": {},
   "outputs": [],
   "source": [
    "fig, ax, cbar = ip.plot_image(im_rgb, im_inches=10)"
   ]
  },
  {
   "cell_type": "code",
   "execution_count": null,
   "metadata": {},
   "outputs": [],
   "source": [
    "for c in np.unique(clust_all):\n",
    "    print('Cluster:', c)\n",
    "    bool_c = clust_all == c\n",
    "    labels_sub = np.array(labels)[bool_c]\n",
    "    spec_sub = []\n",
    "    for l in labels_sub:\n",
    "        s = dict_lab_specmean[l]\n",
    "        spec_sub.append(s)\n",
    "    spec_sub = np.vstack(spec_sub)\n",
    "    fig, ax = ip.general_plot(dims=spec_dims)\n",
    "    color = dict_clust_col[c]\n",
    "    fsi.plot_cell_spectra(ax, spec_sub, {'lw':0.5,'alpha':1,'color':color})\n",
    "    ax.set_ylim(0,2**16)\n",
    "    plt.plot()\n",
    "    plt.show()"
   ]
  },
  {
   "cell_type": "code",
   "execution_count": null,
   "metadata": {},
   "outputs": [],
   "source": [
    "i = 2\n",
    "i_old = 1\n",
    "sub_cl[i] = 2"
   ]
  },
  {
   "cell_type": "code",
   "execution_count": null,
   "metadata": {},
   "outputs": [],
   "source": [
    "# pick a threshold for clustering\n",
    "t[i] = 0.0225"
   ]
  },
  {
   "cell_type": "code",
   "execution_count": null,
   "metadata": {},
   "outputs": [],
   "source": [
    "fig, ax = ip.general_plot(dims=(15,15))\n",
    "dn = hierarchy.dendrogram(linkage, labels=labels, truncate_mode='lastp')\n",
    "ax.axhline(t[i])\n",
    "ylims = [round(l,2) for l in ax.get_ylim()]\n",
    "ax.set_yticks(np.arange(ylims[0],ylims[1],0.005))\n",
    "ax.grid(axis='y')\n",
    "plt.show()\n",
    "plt.close()"
   ]
  },
  {
   "cell_type": "code",
   "execution_count": null,
   "metadata": {},
   "outputs": [],
   "source": [
    "# cluster linkage into three groups\n",
    "clust[i] = hierarchy.fcluster(linkage, t=t[i], criterion='distance')\n",
    "bool_subclust = clust[i_old] == sub_cl[i]\n",
    "clust_unique = np.unique(clust[i][bool_subclust])\n",
    "clust_unique"
   ]
  },
  {
   "cell_type": "code",
   "execution_count": null,
   "metadata": {},
   "outputs": [],
   "source": [
    "spec_dims = (10,5)\n",
    "for c in clust_unique:\n",
    "    labels_sub = np.array(labels)[clust[i] == c]\n",
    "    # if len(labels_sub) > 10:\n",
    "    print(\"Cluster:\",c) \n",
    "    spec_sub = []\n",
    "    for l in labels_sub:\n",
    "        s = dict_lab_specmean[l]\n",
    "        spec_sub.append(s)\n",
    "    spec_sub = np.vstack(spec_sub)\n",
    "    fig, ax = ip.general_plot(dims=spec_dims)\n",
    "    fsi.plot_cell_spectra(ax, spec_sub, {'lw':0.5,'alpha':0.1,'color':'r'})\n",
    "    ax.set_ylim(0,2**16)\n",
    "    plt.plot()\n",
    "    plt.show()"
   ]
  },
  {
   "cell_type": "code",
   "execution_count": null,
   "metadata": {},
   "outputs": [],
   "source": [
    "clust_change = [58,59]\n",
    "\n",
    "clmx = np.max(clust_all)\n",
    "clust_i_rename = clust_all.copy()\n",
    "for c in clust_change:\n",
    "    bool_c = clust[i] == c\n",
    "    clmx += 1\n",
    "    clust_i_rename[bool_c] = clmx\n",
    "\n",
    "np.unique(clust_i_rename[bool_subclust])"
   ]
  },
  {
   "cell_type": "code",
   "execution_count": null,
   "metadata": {},
   "outputs": [],
   "source": [
    "clust_all[bool_subclust] = clust_i_rename[bool_subclust]\n",
    "np.unique(clust_all)\n"
   ]
  },
  {
   "cell_type": "code",
   "execution_count": null,
   "metadata": {},
   "outputs": [],
   "source": [
    "# fit = umap.UMAP(metric='precomputed')\n",
    "# u = fit.fit_transform(dist_mat)\n",
    "plt.scatter(u[:,0], u[:,1], c=clust_all, alpha=0.25, cmap='tab20')\n",
    "plt.show()\n",
    "plt.close()"
   ]
  },
  {
   "cell_type": "code",
   "execution_count": null,
   "metadata": {},
   "outputs": [],
   "source": [
    "dict_lab_clust = dict(zip(labels,clust_all))\n",
    "colors = plt.get_cmap('tab10').colors\n",
    "dict_clust_col = dict(zip(np.unique(clust_all), colors))"
   ]
  },
  {
   "cell_type": "code",
   "execution_count": null,
   "metadata": {},
   "outputs": [],
   "source": [
    "seg = segs[m]\n",
    "prop = props[m]\n",
    "for i, row in prop.iterrows():\n",
    "    l = row.label\n",
    "    if l in labels:\n",
    "        b = row.bbox\n",
    "        b = eval(b) if isinstance(b, str) else b\n",
    "        rgb_sub = im_rgb[b[0]:b[2],b[1]:b[3]]\n",
    "        seg_sub = seg[b[0]:b[2],b[1]:b[3]] == l\n",
    "        im_sub = im_norm[b[0]:b[2],b[1]:b[3]]\n",
    "        cl = dict_lab_clust[l]\n",
    "        color = np.array(dict_clust_col[cl])\n",
    "        rgb_noncell =  rgb_sub * np.dstack([~seg_sub]*3)\n",
    "        # rgb_cell = (im_sub * seg_sub)[:,:,None] * color[None,:]\n",
    "        rgb_cell = seg_sub[:,:,None] * color[None,:]\n",
    "        im_rgb[b[0]:b[2],b[1]:b[3],:] = rgb_noncell + rgb_cell"
   ]
  },
  {
   "cell_type": "code",
   "execution_count": null,
   "metadata": {},
   "outputs": [],
   "source": [
    "fig, ax, cbar = ip.plot_image(im_rgb, im_inches=10)"
   ]
  },
  {
   "cell_type": "code",
   "execution_count": null,
   "metadata": {},
   "outputs": [],
   "source": [
    "for c in np.unique(clust_all):\n",
    "    print('Cluster:', c)\n",
    "    bool_c = clust_all == c\n",
    "    labels_sub = np.array(labels)[bool_c]\n",
    "    spec_sub = []\n",
    "    for l in labels_sub:\n",
    "        s = dict_lab_specmean[l]\n",
    "        spec_sub.append(s)\n",
    "    spec_sub = np.vstack(spec_sub)\n",
    "    fig, ax = ip.general_plot(dims=spec_dims)\n",
    "    color = dict_clust_col[c]\n",
    "    fsi.plot_cell_spectra(ax, spec_sub, {'lw':0.5,'alpha':1,'color':color})\n",
    "    ax.set_ylim(0,2**16)\n",
    "    plt.plot()\n",
    "    plt.show()"
   ]
  },
  {
   "cell_type": "code",
   "execution_count": null,
   "metadata": {},
   "outputs": [],
   "source": [
    "i = 3\n",
    "i_old = 1\n",
    "sub_cl[i] = 1"
   ]
  },
  {
   "cell_type": "code",
   "execution_count": null,
   "metadata": {},
   "outputs": [],
   "source": [
    "# pick a threshold for clustering\n",
    "t[i] = 0.02525"
   ]
  },
  {
   "cell_type": "code",
   "execution_count": null,
   "metadata": {},
   "outputs": [],
   "source": [
    "# cluster linkage into three groups\n",
    "clust[i] = hierarchy.fcluster(linkage, t=t[i], criterion='distance')\n",
    "bool_subclust = clust[i_old] == sub_cl[i]\n",
    "clust_unique = np.unique(clust[i][bool_subclust])\n",
    "clust_unique"
   ]
  },
  {
   "cell_type": "code",
   "execution_count": null,
   "metadata": {},
   "outputs": [],
   "source": [
    "fig, ax = ip.general_plot(dims=(15,15))\n",
    "dn = hierarchy.dendrogram(linkage, labels=labels, truncate_mode='lastp')\n",
    "ax.axhline(t[i])\n",
    "ylims = [round(l,2) for l in ax.get_ylim()]\n",
    "ax.set_yticks(np.arange(ylims[0],ylims[1],0.005))\n",
    "ax.grid(axis='y')\n",
    "plt.show()\n",
    "plt.close()"
   ]
  },
  {
   "cell_type": "code",
   "execution_count": null,
   "metadata": {},
   "outputs": [],
   "source": [
    "spec_dims = (10,5)\n",
    "for c in clust_unique:\n",
    "    labels_sub = np.array(labels)[clust[i] == c]\n",
    "    if len(labels_sub) > 10:\n",
    "        print(\"Cluster:\",c) \n",
    "        spec_sub = []\n",
    "        for l in labels_sub:\n",
    "            s = dict_lab_specmean[l]\n",
    "            spec_sub.append(s)\n",
    "        spec_sub = np.vstack(spec_sub)\n",
    "        fig, ax = ip.general_plot(dims=spec_dims)\n",
    "        fsi.plot_cell_spectra(ax, spec_sub, {'lw':0.5,'alpha':0.1,'color':'r'})\n",
    "        ax.set_ylim(0,2**16)\n",
    "        plt.plot()\n",
    "        plt.show()"
   ]
  },
  {
   "cell_type": "code",
   "execution_count": null,
   "metadata": {},
   "outputs": [],
   "source": [
    "clust_change = [4,7,8,29,30]\n",
    "\n",
    "clmx = np.max(clust_all)\n",
    "clust_i_rename = clust_all.copy()\n",
    "for c in clust_change:\n",
    "    bool_c = clust[i] == c\n",
    "    clmx += 1\n",
    "    clust_i_rename[bool_c] = clmx\n",
    "\n",
    "np.unique(clust_i_rename[bool_subclust])"
   ]
  },
  {
   "cell_type": "code",
   "execution_count": null,
   "metadata": {},
   "outputs": [],
   "source": [
    "clust_all[bool_subclust] = clust_i_rename[bool_subclust]\n",
    "np.unique(clust_all)\n"
   ]
  },
  {
   "cell_type": "code",
   "execution_count": null,
   "metadata": {},
   "outputs": [],
   "source": [
    "# fit = umap.UMAP(metric='precomputed')\n",
    "# u = fit.fit_transform(dist_mat)\n",
    "plt.scatter(u[:,0], u[:,1], c=clust_all, alpha=0.25, cmap='Spectral')\n",
    "plt.show()\n",
    "plt.close()"
   ]
  },
  {
   "cell_type": "code",
   "execution_count": null,
   "metadata": {},
   "outputs": [],
   "source": [
    "dict_lab_clust = dict(zip(labels,clust_all))\n",
    "colors = plt.get_cmap('tab20').colors\n",
    "dict_clust_col = dict(zip(np.unique(clust_all), colors))"
   ]
  },
  {
   "cell_type": "code",
   "execution_count": null,
   "metadata": {},
   "outputs": [],
   "source": [
    "seg = segs[m]\n",
    "prop = props[m]\n",
    "for i, row in prop.iterrows():\n",
    "    l = row.label\n",
    "    if l in labels:\n",
    "        b = row.bbox\n",
    "        b = eval(b) if isinstance(b, str) else b\n",
    "        rgb_sub = im_rgb[b[0]:b[2],b[1]:b[3]]\n",
    "        seg_sub = seg[b[0]:b[2],b[1]:b[3]] == l\n",
    "        im_sub = im_norm[b[0]:b[2],b[1]:b[3]]\n",
    "        cl = dict_lab_clust[l]\n",
    "        color = np.array(dict_clust_col[cl])\n",
    "        rgb_noncell =  rgb_sub * np.dstack([~seg_sub]*3)\n",
    "        # rgb_cell = (im_sub * seg_sub)[:,:,None] * color[None,:]\n",
    "        rgb_cell = seg_sub[:,:,None] * color[None,:]\n",
    "        im_rgb[b[0]:b[2],b[1]:b[3],:] = rgb_noncell + rgb_cell"
   ]
  },
  {
   "cell_type": "code",
   "execution_count": null,
   "metadata": {},
   "outputs": [],
   "source": [
    "fig, ax, cbar = ip.plot_image(im_rgb, im_inches=10)"
   ]
  },
  {
   "cell_type": "code",
   "execution_count": null,
   "metadata": {},
   "outputs": [],
   "source": [
    "for c in np.unique(clust_all):\n",
    "    print('Cluster:', c)\n",
    "    bool_c = clust_all == c\n",
    "    labels_sub = np.array(labels)[bool_c]\n",
    "    spec_sub = []\n",
    "    for l in labels_sub:\n",
    "        s = dict_lab_specmean[l]\n",
    "        spec_sub.append(s)\n",
    "    spec_sub = np.vstack(spec_sub)\n",
    "    fig, ax = ip.general_plot(dims=spec_dims)\n",
    "    color = dict_clust_col[c]\n",
    "    fsi.plot_cell_spectra(ax, spec_sub, {'lw':0.5,'alpha':1,'color':color})\n",
    "    ax.set_ylim(0,2**16)\n",
    "    plt.plot()\n",
    "    plt.show()"
   ]
  },
  {
   "cell_type": "code",
   "execution_count": null,
   "metadata": {},
   "outputs": [],
   "source": [
    "i = 4\n",
    "i_old = 3\n",
    "sub_cl[i] = 30"
   ]
  },
  {
   "cell_type": "code",
   "execution_count": null,
   "metadata": {},
   "outputs": [],
   "source": [
    "# pick a threshold for clustering\n",
    "t[i] = 0.02125"
   ]
  },
  {
   "cell_type": "code",
   "execution_count": null,
   "metadata": {},
   "outputs": [],
   "source": [
    "# cluster linkage into three groups\n",
    "clust[i] = hierarchy.fcluster(linkage, t=t[i], criterion='distance')\n",
    "bool_subclust = clust[i_old] == sub_cl[i]\n",
    "clust_unique = np.unique(clust[i][bool_subclust])\n",
    "clust_unique"
   ]
  },
  {
   "cell_type": "code",
   "execution_count": null,
   "metadata": {},
   "outputs": [],
   "source": [
    "fig, ax = ip.general_plot(dims=(15,15))\n",
    "dn = hierarchy.dendrogram(linkage, labels=labels, truncate_mode='lastp')\n",
    "ax.axhline(t[i])\n",
    "ylims = [round(l,2) for l in ax.get_ylim()]\n",
    "ax.set_yticks(np.arange(ylims[0],ylims[1],0.005))\n",
    "ax.grid(axis='y')\n",
    "plt.show()\n",
    "plt.close()"
   ]
  },
  {
   "cell_type": "code",
   "execution_count": null,
   "metadata": {},
   "outputs": [],
   "source": [
    "spec_dims = (10,5)\n",
    "for c in clust_unique:\n",
    "    labels_sub = np.array(labels)[clust[i] == c]\n",
    "    if len(labels_sub) > 10:\n",
    "        print(\"Cluster:\",c) \n",
    "        spec_sub = []\n",
    "        for l in labels_sub:\n",
    "            s = dict_lab_specmean[l]\n",
    "            spec_sub.append(s)\n",
    "        spec_sub = np.vstack(spec_sub)\n",
    "        fig, ax = ip.general_plot(dims=spec_dims)\n",
    "        fsi.plot_cell_spectra(ax, spec_sub, {'lw':0.5,'alpha':0.1,'color':'r'})\n",
    "        ax.set_ylim(0,2**16)\n",
    "        plt.plot()\n",
    "        plt.show()"
   ]
  },
  {
   "cell_type": "code",
   "execution_count": null,
   "metadata": {},
   "outputs": [],
   "source": [
    "clust_change = [59]\n",
    "\n",
    "clmx = np.max(clust_all)\n",
    "clust_i_rename = clust[i_old].copy()\n",
    "for c in clust_change:\n",
    "    bool_c = clust[i] == c\n",
    "    clmx += 1\n",
    "    clust_i_rename[bool_c] = clmx\n",
    "\n",
    "np.unique(clust_i_rename[bool_subclust])"
   ]
  },
  {
   "cell_type": "code",
   "execution_count": null,
   "metadata": {},
   "outputs": [],
   "source": [
    "clust_all[bool_subclust] = clust_i_rename[bool_subclust]\n",
    "np.unique(clust_all)\n"
   ]
  },
  {
   "cell_type": "code",
   "execution_count": null,
   "metadata": {},
   "outputs": [],
   "source": [
    "# fit = umap.UMAP(metric='precomputed')\n",
    "# u = fit.fit_transform(dist_mat)\n",
    "plt.scatter(u[:,0], u[:,1], c=clust_all, alpha=0.25, cmap='tab20')\n",
    "plt.show()\n",
    "plt.close()"
   ]
  },
  {
   "cell_type": "code",
   "execution_count": null,
   "metadata": {},
   "outputs": [],
   "source": [
    "dict_lab_clust = dict(zip(labels,clust_all))\n",
    "colors = plt.get_cmap('tab20').colors\n",
    "dict_clust_col = dict(zip(np.unique(clust_all), colors))"
   ]
  },
  {
   "cell_type": "code",
   "execution_count": null,
   "metadata": {},
   "outputs": [],
   "source": [
    "seg = segs[m]\n",
    "prop = props[m]\n",
    "for i, row in prop.iterrows():\n",
    "    l = row.label\n",
    "    if l in labels:\n",
    "        b = row.bbox\n",
    "        b = eval(b) if isinstance(b, str) else b\n",
    "        rgb_sub = im_rgb[b[0]:b[2],b[1]:b[3]]\n",
    "        seg_sub = seg[b[0]:b[2],b[1]:b[3]] == l\n",
    "        im_sub = im_norm[b[0]:b[2],b[1]:b[3]]\n",
    "        cl = dict_lab_clust[l]\n",
    "        color = np.array(dict_clust_col[cl])\n",
    "        rgb_noncell =  rgb_sub * np.dstack([~seg_sub]*3)\n",
    "        # rgb_cell = (im_sub * seg_sub)[:,:,None] * color[None,:]\n",
    "        rgb_cell = seg_sub[:,:,None] * color[None,:]\n",
    "        im_rgb[b[0]:b[2],b[1]:b[3],:] = rgb_noncell + rgb_cell"
   ]
  },
  {
   "cell_type": "code",
   "execution_count": null,
   "metadata": {},
   "outputs": [],
   "source": [
    "fig, ax, cbar = ip.plot_image(im_rgb, im_inches=10)"
   ]
  },
  {
   "cell_type": "code",
   "execution_count": null,
   "metadata": {},
   "outputs": [],
   "source": [
    "for c in np.unique(clust_all):\n",
    "    print('Cluster:', c)\n",
    "    bool_c = clust_all == c\n",
    "    labels_sub = np.array(labels)[bool_c]\n",
    "    spec_sub = []\n",
    "    for l in labels_sub:\n",
    "        s = dict_lab_specmean[l]\n",
    "        spec_sub.append(s)\n",
    "    spec_sub = np.vstack(spec_sub)\n",
    "    fig, ax = ip.general_plot(dims=spec_dims)\n",
    "    color = dict_clust_col[c]\n",
    "    fsi.plot_cell_spectra(ax, spec_sub, {'lw':0.5,'alpha':1,'color':color})\n",
    "    ax.set_ylim(0,2**16)\n",
    "    plt.plot()\n",
    "    plt.show()"
   ]
  },
  {
   "cell_type": "code",
   "execution_count": null,
   "metadata": {},
   "outputs": [],
   "source": [
    "i = 5\n",
    "i_old = 3\n",
    "sub_cl[i] = 29"
   ]
  },
  {
   "cell_type": "code",
   "execution_count": null,
   "metadata": {},
   "outputs": [],
   "source": [
    "# pick a threshold for clustering\n",
    "t[i] = 0.019"
   ]
  },
  {
   "cell_type": "code",
   "execution_count": null,
   "metadata": {},
   "outputs": [],
   "source": [
    "# cluster linkage into three groups\n",
    "clust[i] = hierarchy.fcluster(linkage, t=t[i], criterion='distance')\n",
    "bool_subclust = clust[i_old] == sub_cl[i]\n",
    "clust_unique = np.unique(clust[i][bool_subclust])\n",
    "clust_unique"
   ]
  },
  {
   "cell_type": "code",
   "execution_count": null,
   "metadata": {},
   "outputs": [],
   "source": [
    "fig, ax = ip.general_plot(dims=(15,15))\n",
    "dn = hierarchy.dendrogram(linkage, labels=labels, truncate_mode='lastp')\n",
    "ax.axhline(t[i])\n",
    "ylims = [round(l,2) for l in ax.get_ylim()]\n",
    "ax.set_yticks(np.arange(ylims[0],ylims[1],0.005))\n",
    "ax.grid(axis='y')\n",
    "plt.show()\n",
    "plt.close()"
   ]
  },
  {
   "cell_type": "code",
   "execution_count": null,
   "metadata": {},
   "outputs": [],
   "source": [
    "spec_dims = (10,5)\n",
    "for c in clust_unique:\n",
    "    labels_sub = np.array(labels)[clust[i] == c]\n",
    "    if len(labels_sub) > 10:\n",
    "        print(\"Cluster:\",c) \n",
    "        spec_sub = []\n",
    "        for l in labels_sub:\n",
    "            s = dict_lab_specmean[l]\n",
    "            spec_sub.append(s)\n",
    "        spec_sub = np.vstack(spec_sub)\n",
    "        fig, ax = ip.general_plot(dims=spec_dims)\n",
    "        fsi.plot_cell_spectra(ax, spec_sub, {'lw':0.5,'alpha':0.1,'color':'r'})\n",
    "        ax.set_ylim(0,2**16)\n",
    "        plt.plot()\n",
    "        plt.show()"
   ]
  },
  {
   "cell_type": "code",
   "execution_count": null,
   "metadata": {},
   "outputs": [],
   "source": [
    "clust_change = [10,11]\n",
    "\n",
    "clmx = np.max(clust_all)\n",
    "clust_i_rename = clust[i_old].copy()\n",
    "for c in clust_change:\n",
    "    bool_c = clust[i] == c\n",
    "    clmx += 1\n",
    "    clust_i_rename[bool_c] = clmx\n",
    "\n",
    "np.unique(clust_i_rename[bool_subclust])"
   ]
  },
  {
   "cell_type": "code",
   "execution_count": null,
   "metadata": {},
   "outputs": [],
   "source": [
    "clust_all[bool_subclust] = clust_i_rename[bool_subclust]\n",
    "np.unique(clust_all)\n"
   ]
  },
  {
   "cell_type": "code",
   "execution_count": null,
   "metadata": {},
   "outputs": [],
   "source": [
    "# fit = umap.UMAP(metric='precomputed')\n",
    "# u = fit.fit_transform(dist_mat)\n",
    "plt.scatter(u[:,0], u[:,1], c=clust_all, alpha=0.25, cmap='Spectral')\n",
    "plt.show()\n",
    "plt.close()"
   ]
  },
  {
   "cell_type": "code",
   "execution_count": null,
   "metadata": {},
   "outputs": [],
   "source": [
    "dict_lab_clust = dict(zip(labels,clust_all))\n",
    "colors = plt.get_cmap('tab20').colors\n",
    "dict_clust_col = dict(zip(np.unique(clust_all), colors))"
   ]
  },
  {
   "cell_type": "code",
   "execution_count": null,
   "metadata": {},
   "outputs": [],
   "source": [
    "seg = segs[m]\n",
    "prop = props[m]\n",
    "for i, row in prop.iterrows():\n",
    "    l = row.label\n",
    "    if l in labels:\n",
    "        b = row.bbox\n",
    "        b = eval(b) if isinstance(b, str) else b\n",
    "        rgb_sub = im_rgb[b[0]:b[2],b[1]:b[3]]\n",
    "        seg_sub = seg[b[0]:b[2],b[1]:b[3]] == l\n",
    "        im_sub = im_norm[b[0]:b[2],b[1]:b[3]]\n",
    "        cl = dict_lab_clust[l]\n",
    "        color = np.array(dict_clust_col[cl])\n",
    "        rgb_noncell =  rgb_sub * np.dstack([~seg_sub]*3)\n",
    "        # rgb_cell = (im_sub * seg_sub)[:,:,None] * color[None,:]\n",
    "        rgb_cell = seg_sub[:,:,None] * color[None,:]\n",
    "        im_rgb[b[0]:b[2],b[1]:b[3],:] = rgb_noncell + rgb_cell"
   ]
  },
  {
   "cell_type": "code",
   "execution_count": null,
   "metadata": {},
   "outputs": [],
   "source": [
    "fig, ax, cbar = ip.plot_image(im_rgb, im_inches=10)"
   ]
  },
  {
   "cell_type": "code",
   "execution_count": null,
   "metadata": {},
   "outputs": [],
   "source": [
    "for c in np.unique(clust_all):\n",
    "    print('Cluster:', c)\n",
    "    bool_c = clust_all == c\n",
    "    labels_sub = np.array(labels)[bool_c]\n",
    "    spec_sub = []\n",
    "    for l in labels_sub:\n",
    "        s = dict_lab_specmean[l]\n",
    "        spec_sub.append(s)\n",
    "    spec_sub = np.vstack(spec_sub)\n",
    "    fig, ax = ip.general_plot(dims=spec_dims)\n",
    "    color = dict_clust_col[c]\n",
    "    fsi.plot_cell_spectra(ax, spec_sub, {'lw':0.5,'alpha':1,'color':color})\n",
    "    ax.set_ylim(0,2**16)\n",
    "    plt.plot()\n",
    "    plt.show()"
   ]
  },
  {
   "cell_type": "code",
   "execution_count": null,
   "metadata": {},
   "outputs": [],
   "source": [
    "i = 6\n",
    "i_old = 5\n",
    "sub_cl[i] = 10"
   ]
  },
  {
   "cell_type": "code",
   "execution_count": null,
   "metadata": {},
   "outputs": [],
   "source": [
    "# pick a threshold for clustering\n",
    "t[i] = 0.0195"
   ]
  },
  {
   "cell_type": "code",
   "execution_count": null,
   "metadata": {},
   "outputs": [],
   "source": [
    "fig, ax = ip.general_plot(dims=(15,15))\n",
    "dn = hierarchy.dendrogram(linkage, labels=labels, truncate_mode='lastp')\n",
    "ax.axhline(t[i])\n",
    "ylims = [round(l,2) for l in ax.get_ylim()]\n",
    "ax.set_yticks(np.arange(ylims[0],ylims[1],0.005))\n",
    "ax.grid(axis='y')\n",
    "plt.show()\n",
    "plt.close()"
   ]
  },
  {
   "cell_type": "code",
   "execution_count": null,
   "metadata": {},
   "outputs": [],
   "source": [
    "# cluster linkage into three groups\n",
    "clust[i] = hierarchy.fcluster(linkage, t=t[i], criterion='distance')\n",
    "bool_subclust = clust[i_old] == sub_cl[i]\n",
    "clust_unique = np.unique(clust[i][bool_subclust])\n",
    "clust_unique"
   ]
  },
  {
   "cell_type": "code",
   "execution_count": null,
   "metadata": {},
   "outputs": [],
   "source": [
    "spec_dims = (10,5)\n",
    "for c in clust_unique:\n",
    "    labels_sub = np.array(labels)[clust[i] == c]\n",
    "    if len(labels_sub) > 10:\n",
    "        print(\"Cluster:\",c) \n",
    "        spec_sub = []\n",
    "        for l in labels_sub:\n",
    "            s = dict_lab_specmean[l]\n",
    "            spec_sub.append(s)\n",
    "        spec_sub = np.vstack(spec_sub)\n",
    "        fig, ax = ip.general_plot(dims=spec_dims)\n",
    "        fsi.plot_cell_spectra(ax, spec_sub, {'lw':0.5,'alpha':0.1,'color':'r'})\n",
    "        ax.set_ylim(0,2**16)\n",
    "        plt.plot()\n",
    "        plt.show()"
   ]
  },
  {
   "cell_type": "code",
   "execution_count": null,
   "metadata": {},
   "outputs": [],
   "source": [
    "clust_change = [12]\n",
    "\n",
    "clmx = np.max(clust_all)\n",
    "clust_i_rename = clust[i_old].copy()\n",
    "for c in clust_change:\n",
    "    bool_c = clust[i] == c\n",
    "    clmx += 1\n",
    "    clust_i_rename[bool_c] = clmx\n",
    "\n",
    "np.unique(clust_i_rename[bool_subclust])"
   ]
  },
  {
   "cell_type": "code",
   "execution_count": null,
   "metadata": {},
   "outputs": [],
   "source": [
    "clust_all[bool_subclust] = clust_i_rename[bool_subclust]\n",
    "np.unique(clust_all)\n"
   ]
  },
  {
   "cell_type": "code",
   "execution_count": null,
   "metadata": {},
   "outputs": [],
   "source": [
    "# fit = umap.UMAP(metric='precomputed')\n",
    "# u = fit.fit_transform(dist_mat)\n",
    "plt.scatter(u[:,0], u[:,1], c=clust_all, alpha=0.25, cmap='Spectral')\n",
    "plt.show()\n",
    "plt.close()"
   ]
  },
  {
   "cell_type": "code",
   "execution_count": null,
   "metadata": {},
   "outputs": [],
   "source": [
    "dict_lab_clust = dict(zip(labels,clust_all))\n",
    "colors = plt.get_cmap('tab20').colors\n",
    "dict_clust_col = dict(zip(np.unique(clust_all), colors))"
   ]
  },
  {
   "cell_type": "code",
   "execution_count": null,
   "metadata": {},
   "outputs": [],
   "source": [
    "seg = segs[m]\n",
    "prop = props[m]\n",
    "for i, row in prop.iterrows():\n",
    "    l = row.label\n",
    "    if l in labels:\n",
    "        b = row.bbox\n",
    "        b = eval(b) if isinstance(b, str) else b\n",
    "        rgb_sub = im_rgb[b[0]:b[2],b[1]:b[3]]\n",
    "        seg_sub = seg[b[0]:b[2],b[1]:b[3]] == l\n",
    "        im_sub = im_norm[b[0]:b[2],b[1]:b[3]]\n",
    "        cl = dict_lab_clust[l]\n",
    "        color = np.array(dict_clust_col[cl])\n",
    "        rgb_noncell =  rgb_sub * np.dstack([~seg_sub]*3)\n",
    "        # rgb_cell = (im_sub * seg_sub)[:,:,None] * color[None,:]\n",
    "        rgb_cell = seg_sub[:,:,None] * color[None,:]\n",
    "        im_rgb[b[0]:b[2],b[1]:b[3],:] = rgb_noncell + rgb_cell"
   ]
  },
  {
   "cell_type": "code",
   "execution_count": null,
   "metadata": {},
   "outputs": [],
   "source": [
    "fig, ax, cbar = ip.plot_image(im_rgb, im_inches=10)"
   ]
  },
  {
   "cell_type": "code",
   "execution_count": null,
   "metadata": {},
   "outputs": [],
   "source": [
    "for c in np.unique(clust_all):\n",
    "    print('Cluster:', c)\n",
    "    bool_c = clust_all == c\n",
    "    labels_sub = np.array(labels)[bool_c]\n",
    "    spec_sub = []\n",
    "    for l in labels_sub:\n",
    "        s = dict_lab_specmean[l]\n",
    "        spec_sub.append(s)\n",
    "    spec_sub = np.vstack(spec_sub)\n",
    "    fig, ax = ip.general_plot(dims=spec_dims)\n",
    "    color = dict_clust_col[c]\n",
    "    fsi.plot_cell_spectra(ax, spec_sub, {'lw':0.5,'alpha':1,'color':color})\n",
    "    ax.set_ylim(0,2**16)\n",
    "    plt.plot()\n",
    "    plt.show()"
   ]
  },
  {
   "cell_type": "markdown",
   "metadata": {},
   "source": [
    "Merge cluster"
   ]
  },
  {
   "cell_type": "code",
   "execution_count": null,
   "metadata": {},
   "outputs": [],
   "source": [
    "for c in np.unique(clust_all):\n",
    "    print('Cluster:', c)\n",
    "    bool_c = clust_all == c\n",
    "    labels_sub = np.array(labels)[bool_c]\n",
    "    spec_sub = []\n",
    "    for l in labels_sub:\n",
    "        s = dict_lab_specmean[l]\n",
    "        spec_sub.append(s)\n",
    "    spec_sub = np.vstack(spec_sub)\n",
    "    fig, ax = ip.general_plot(dims=spec_dims)\n",
    "    fsi.plot_cell_spectra(ax, spec_sub, {'lw':0.5,'alpha':0.25,'color':'r'})\n",
    "    ax.set_ylim(0,2**16)\n",
    "    plt.plot()\n",
    "    plt.show()"
   ]
  },
  {
   "cell_type": "code",
   "execution_count": null,
   "metadata": {},
   "outputs": [],
   "source": [
    "# Merge certain cluster\n",
    "merge = {}"
   ]
  },
  {
   "cell_type": "code",
   "execution_count": null,
   "metadata": {},
   "outputs": [],
   "source": [
    "clust_merge = clust_all.copy()\n",
    "for c, c_lst in merge.items():\n",
    "    for c_ in c_lst:\n",
    "        bool_c = clust_all == c_\n",
    "        clust_merge[bool_c] = c"
   ]
  },
  {
   "cell_type": "code",
   "execution_count": null,
   "metadata": {},
   "outputs": [],
   "source": [
    "for c in np.unique(clust_merge):\n",
    "    print('Cluster:', c)\n",
    "    bool_c = clust_merge == c\n",
    "    labels_sub = np.array(labels)[bool_c]\n",
    "    spec_sub = []\n",
    "    for l in labels_sub:\n",
    "        s = dict_lab_specmean[l]\n",
    "        spec_sub.append(s)\n",
    "    spec_sub = np.vstack(spec_sub)\n",
    "    fig, ax = ip.general_plot(dims=spec_dims)\n",
    "    fsi.plot_cell_spectra(ax, spec_sub, {'lw':0.5,'alpha':0.25,'color':'r'})\n",
    "    ax.set_ylim(0,2**16)\n",
    "    plt.plot()\n",
    "    plt.show()"
   ]
  },
  {
   "cell_type": "markdown",
   "metadata": {},
   "source": [
    "## Project to the image"
   ]
  },
  {
   "cell_type": "code",
   "execution_count": null,
   "metadata": {},
   "outputs": [],
   "source": [
    "im_sum = np.sum(stacks[m], axis=2)\n",
    "\n",
    "mx = np.max(im_sum)\n",
    "mn = np.min(im_sum)\n",
    "im_norm = (im_sum - mn) / (mx - mn)\n",
    "im_rgb = im_norm[:,:,None] * np.array([1,1,1])[None,:]\n",
    "fig, ax, cbar = ip.plot_image(im_rgb, im_inches=10)"
   ]
  },
  {
   "cell_type": "code",
   "execution_count": null,
   "metadata": {},
   "outputs": [],
   "source": [
    "dict_lab_clust = dict(zip(labels,clust_merge))\n",
    "colors = plt.get_cmap('tab10').colors\n",
    "dict_clust_col = dict(zip(np.unique(clust_merge), colors))"
   ]
  },
  {
   "cell_type": "code",
   "execution_count": null,
   "metadata": {},
   "outputs": [],
   "source": [
    "seg = segs[m]\n",
    "prop = props[m]\n",
    "for i, row in prop.iterrows():\n",
    "    l = row.label\n",
    "    if l in labels:\n",
    "        b = row.bbox\n",
    "        b = eval(b) if isinstance(b, str) else b\n",
    "        rgb_sub = im_rgb[b[0]:b[2],b[1]:b[3]]\n",
    "        seg_sub = seg[b[0]:b[2],b[1]:b[3]] == l\n",
    "        im_sub = im_norm[b[0]:b[2],b[1]:b[3]]\n",
    "        cl = dict_lab_clust[l]\n",
    "        color = np.array(dict_clust_col[cl])\n",
    "        rgb_noncell =  rgb_sub * np.dstack([~seg_sub]*3)\n",
    "        # rgb_cell = (im_sub * seg_sub)[:,:,None] * color[None,:]\n",
    "        rgb_cell = seg_sub[:,:,None] * color[None,:]\n",
    "        im_rgb[b[0]:b[2],b[1]:b[3],:] = rgb_noncell + rgb_cell"
   ]
  },
  {
   "cell_type": "code",
   "execution_count": null,
   "metadata": {},
   "outputs": [],
   "source": [
    "fig, ax, cbar = ip.plot_image(im_rgb, im_inches=10)"
   ]
  },
  {
   "cell_type": "code",
   "execution_count": null,
   "metadata": {},
   "outputs": [],
   "source": [
    "for c in np.unique(clust_merge):\n",
    "    print('Cluster:', c)\n",
    "    bool_c = clust_merge == c\n",
    "    labels_sub = np.array(labels)[bool_c]\n",
    "    spec_sub = []\n",
    "    for l in labels_sub:\n",
    "        s = dict_lab_specmean[l]\n",
    "        spec_sub.append(s)\n",
    "    spec_sub = np.vstack(spec_sub)\n",
    "    fig, ax = ip.general_plot(dims=spec_dims)\n",
    "    color = dict_clust_col[c]\n",
    "    fsi.plot_cell_spectra(ax, spec_sub, {'lw':0.5,'alpha':1,'color':color})\n",
    "    ax.set_ylim(0,2**16)\n",
    "    plt.plot()\n",
    "    plt.show()"
   ]
  },
  {
   "cell_type": "code",
   "execution_count": null,
   "metadata": {},
   "outputs": [],
   "source": [
    "ignore = [2]\n",
    "clust_trim = clust_merge.copy()\n",
    "for c in ignore:\n",
    "    bool_c = clust_merge == c\n",
    "    clust_trim[bool_c] = 0"
   ]
  },
  {
   "cell_type": "code",
   "execution_count": null,
   "metadata": {},
   "outputs": [],
   "source": [
    "dict_lab_clust = dict(zip(labels,clust_trim))\n",
    "colors = plt.get_cmap('tab10').colors\n",
    "dict_clust_col = dict(zip(np.unique(clust_trim)[1:], colors))"
   ]
  },
  {
   "cell_type": "code",
   "execution_count": null,
   "metadata": {},
   "outputs": [],
   "source": [
    "im_rgb = im_norm[:,:,None] * np.array([1,1,1])[None,:]\n",
    "for i, row in prop.iterrows():\n",
    "    l = row.label\n",
    "    if l in labels:\n",
    "        b = row.bbox\n",
    "        cl = dict_lab_clust[l]\n",
    "        if cl:\n",
    "            color = np.array(dict_clust_col[cl])\n",
    "            b = eval(b) if isinstance(b, str) else b\n",
    "            rgb_sub = im_rgb[b[0]:b[2],b[1]:b[3]]\n",
    "            seg_sub = seg[b[0]:b[2],b[1]:b[3]] == l\n",
    "            im_sub = im_norm[b[0]:b[2],b[1]:b[3]]\n",
    "            rgb_noncell =  rgb_sub * np.dstack([~seg_sub]*3)\n",
    "            # rgb_cell = (im_sub * seg_sub)[:,:,None] * color[None,:]        \n",
    "            rgb_cell = seg_sub[:,:,None] * color[None,:]\n",
    "            im_rgb[b[0]:b[2],b[1]:b[3],:] = rgb_noncell + rgb_cell"
   ]
  },
  {
   "cell_type": "code",
   "execution_count": null,
   "metadata": {},
   "outputs": [],
   "source": [
    "ip.plot_image(im_rgb, im_inches=10)"
   ]
  },
  {
   "cell_type": "code",
   "execution_count": null,
   "metadata": {},
   "outputs": [],
   "source": [
    "for c in np.unique(clust_trim):\n",
    "    if c:\n",
    "        print('Cluster:', c)\n",
    "        bool_c = clust_trim == c\n",
    "        labels_sub = np.array(labels)[bool_c]\n",
    "        spec_sub = []\n",
    "        for l in labels_sub:\n",
    "            s = dict_lab_specmean[l]\n",
    "            spec_sub.append(s)\n",
    "        spec_sub = np.vstack(spec_sub)\n",
    "        fig, ax = ip.general_plot(dims=spec_dims)\n",
    "        color = dict_clust_col[c]\n",
    "        fsi.plot_cell_spectra(ax, spec_sub, {'lw':0.5,'alpha':1,'color':color})\n",
    "        ax.set_ylim(0,2**16)\n",
    "        plt.plot()\n",
    "        plt.show()"
   ]
  },
  {
   "cell_type": "markdown",
   "metadata": {},
   "source": [
    "## Save"
   ]
  },
  {
   "cell_type": "code",
   "execution_count": null,
   "metadata": {},
   "outputs": [],
   "source": [
    "output_dir = '../../outputs/agglomerative_cluster/' + sn\n",
    "# output_dir = output_dir_fmt.format(sample_name=sn)\n",
    "if not os.path.exists(output_dir): \n",
    "    os.makedirs(output_dir)\n",
    "    print(\"made dir:\",output_dir)\n"
   ]
  },
  {
   "cell_type": "code",
   "execution_count": null,
   "metadata": {},
   "outputs": [],
   "source": [
    "stack_dir = output_dir + '/stacks'\n",
    "props_dir = output_dir + '/props'\n",
    "segs_dir = output_dir + '/segs'\n",
    "spec_dir = output_dir + '/spectra'\n",
    "clust_dir = output_dir + '/clust'\n",
    "\n",
    "for dir_ in [clust_dir, spec_dir, segs_dir, props_dir, stack_dir]:\n",
    "    if not os.path.exists(dir_):\n",
    "        os.makedirs(dir_)\n",
    "        print(\"made dir:\",dir_)\n"
   ]
  },
  {
   "cell_type": "code",
   "execution_count": null,
   "metadata": {},
   "outputs": [],
   "source": [
    "bn = sn + '_M_' + str(m)\n",
    "stack_fn = stack_dir + '/' + bn + '_stack.npy'\n",
    "props_fn = props_dir + '/' + bn + '_props.csv'\n",
    "seg_fn = segs_dir + '/' + bn + '_seg.npy'\n",
    "spec_fn = spec_dir + '/' + bn + '_spec.yaml'\n",
    "clust_fn = clust_dir + '/' + bn + '_clust.yaml'\n",
    "\n",
    "np.save(stack_fn, stacks[m])\n",
    "print('Wrote:',stack_fn)\n",
    "props[m].to_csv(props_fn, index=False)\n",
    "print('Wrote:',props_fn)\n",
    "np.save(seg_fn, segs[m])\n",
    "print('Wrote:',seg_fn)\n",
    "with open(spec_fn, 'w') as f:\n",
    "    yaml.dump(specs[m], f)\n",
    "print('Wrote:',spec_fn)\n",
    "with open(clust_fn, 'w') as f:\n",
    "    yaml.dump(dict_lab_clust, f)\n",
    "print('Wrote:',clust_fn)\n"
   ]
  },
  {
   "cell_type": "code",
   "execution_count": null,
   "metadata": {},
   "outputs": [],
   "source": [
    "a = 1"
   ]
  },
  {
   "cell_type": "code",
   "execution_count": null,
   "metadata": {},
   "outputs": [],
   "source": []
  }
 ],
 "metadata": {
  "kernelspec": {
   "display_name": "Python 3 (ipykernel)",
   "language": "python",
   "name": "python3"
  }
 },
 "nbformat": 4,
 "nbformat_minor": 2
}

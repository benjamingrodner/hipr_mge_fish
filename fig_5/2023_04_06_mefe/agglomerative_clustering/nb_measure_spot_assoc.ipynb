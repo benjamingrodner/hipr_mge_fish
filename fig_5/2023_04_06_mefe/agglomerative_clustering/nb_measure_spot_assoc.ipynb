{
 "cells": [
  {
   "cell_type": "markdown",
   "metadata": {},
   "source": [
    "# Measure association between MGE spots and spectral groups \n",
    "## Setup"
   ]
  },
  {
   "cell_type": "code",
   "execution_count": null,
   "metadata": {},
   "outputs": [],
   "source": [
    "import glob\n",
    "import sys\n",
    "import os\n",
    "import gc\n",
    "import pandas as pd\n",
    "import numpy as np\n",
    "import matplotlib.pyplot as plt\n",
    "import yaml\n",
    "import re\n",
    "from collections import defaultdict\n",
    "import aicspylibczi as aplc\n",
    "from skimage.registration import phase_cross_correlation\n",
    "from tqdm import tqdm\n",
    "from scipy.cluster import hierarchy\n",
    "from scipy.spatial.distance import squareform\n",
    "import umap\n",
    "import math\n",
    "from sklearn.cluster import AgglomerativeClustering\n",
    "from cv2 import resize, INTER_NEAREST\n",
    "sfrom skimage.restoration import richardson_lucy\n",
    "\n"
   ]
  },
  {
   "cell_type": "code",
   "execution_count": null,
   "metadata": {},
   "outputs": [],
   "source": [
    "cluster = ''\n",
    "workdir = '/workdir/bmg224/manuscripts/mgefish/code/bmg_plasmids_imaging/agglomerative_clustering'\n",
    "os.chdir(cluster + workdir)\n",
    "os.getcwd()"
   ]
  },
  {
   "cell_type": "code",
   "execution_count": null,
   "metadata": {},
   "outputs": [],
   "source": [
    "config_fn = 'config_matrix_classify.yaml' # relative path to config file from workdir\n",
    "\n",
    "with open(config_fn, 'r') as f:\n",
    "    config = yaml.safe_load(f)"
   ]
  },
  {
   "cell_type": "code",
   "execution_count": null,
   "metadata": {},
   "outputs": [],
   "source": [
    "%load_ext autoreload\n",
    "%autoreload 2\n",
    "\n",
    "sys.path.append(config['pipeline_path'] + '/' + config['functions_path'])\n",
    "import fn_general_use as fgu\n",
    "import image_plots as ip\n",
    "import segmentation_func as sf\n",
    "import fn_hiprfish_classifier as fhc\n",
    "import fn_spectral_images as fsi\n",
    "\n"
   ]
  },
  {
   "cell_type": "code",
   "execution_count": null,
   "metadata": {},
   "outputs": [],
   "source": [
    "# Get filenames from directories\n",
    "raw_dir = config[\"data_dir\"] + \"/*[y0-9].czi\"\n",
    "# raw_dir = config[\"data_dir\"] + \"/*\" + config[\"laser_regex\"]\n",
    "fns = glob.glob(raw_dir)\n",
    "fns_base = [os.path.split(f)[1] for f in fns]\n",
    "group_names = [re.sub(\"_2023\\w+.czi\", \"\", s) for s in fns_base]\n",
    "# print('HERE-->', shifts_fns)\n",
    "group_names = np.sort(np.unique(group_names))\n",
    "m_size = group_names.shape[0]\n",
    "dict_group_czifns_all = defaultdict(list)\n",
    "for g in group_names:\n",
    "    for s in fns:\n",
    "        if g in s:\n",
    "            dict_group_czifns_all[g].append(s)\n",
    "dict_group_czifns_all = {g: sorted(s) for g, s in dict_group_czifns_all.items()}\n",
    "dict_group_czifns_all"
   ]
  },
  {
   "cell_type": "code",
   "execution_count": null,
   "metadata": {},
   "outputs": [],
   "source": [
    "dict_group_czifns = {k: [v[0], v[1], v[2]] for k, v in dict_group_czifns_all.items()}\n",
    "dict_group_czifns"
   ]
  },
  {
   "cell_type": "code",
   "execution_count": null,
   "metadata": {},
   "outputs": [],
   "source": [
    "ecoli_raw_dir = config[\"data_dir\"] + \"/*ing.czi\"\n",
    "\n",
    "ecoli_fns = glob.glob(ecoli_raw_dir)\n",
    "ecoli_fns\n"
   ]
  },
  {
   "cell_type": "markdown",
   "metadata": {},
   "source": [
    "## Get PSF\n",
    "Load e coli image"
   ]
  },
  {
   "cell_type": "code",
   "execution_count": null,
   "metadata": {},
   "outputs": [],
   "source": [
    "czi_ecoli = aplc.CziFile(ecoli_fns[1])\n",
    "czi_ecoli.get_dims_shape()"
   ]
  },
  {
   "cell_type": "code",
   "execution_count": null,
   "metadata": {},
   "outputs": [],
   "source": [
    "def reshape_aics_image(m_img):\n",
    "    '''\n",
    "    Given an AICS image with just XY and CHannel,\n",
    "    REshape into shape (X,Y,C)\n",
    "    '''\n",
    "    img = np.squeeze(m_img)\n",
    "    img = np.transpose(img, (1,2,0))\n",
    "    return img"
   ]
  },
  {
   "cell_type": "code",
   "execution_count": null,
   "metadata": {},
   "outputs": [],
   "source": [
    "nMs_e = 4\n",
    "raws_ec = []\n",
    "for m_s in range(nMs_e):\n",
    "    im, sh = czi_ecoli.read_image(M=m_s)\n",
    "    im = reshape_aics_image(im)\n",
    "    raws_ec.append(im)\n",
    "[r.shape for r in raws_ec]"
   ]
  },
  {
   "cell_type": "markdown",
   "metadata": {},
   "source": [
    "Threshold"
   ]
  },
  {
   "cell_type": "code",
   "execution_count": null,
   "metadata": {},
   "outputs": [],
   "source": [
    "# Plot spots\n",
    "subpl=(2,2)\n",
    "clims=[(50,500)]*nMs_e\n",
    "imin=20\n",
    "\n",
    "ims = []\n",
    "for m_h in range(nMs_e):\n",
    "    ims.append(raws_ec[m_h][:,:,1])\n",
    "ip.subplot_square_images(ims, subpl, clims=clims, im_inches=imin)"
   ]
  },
  {
   "cell_type": "code",
   "execution_count": null,
   "metadata": {},
   "outputs": [],
   "source": [
    "# Get mask\n",
    "ims_mask = [sf.get_background_mask(\n",
    "    im,\n",
    "    bg_smoothing=0,\n",
    "    n_clust_bg=4,\n",
    "    top_n_clust_bg=1,\n",
    "    bg_threshold=200\n",
    "    ) for im in ims]\n",
    "\n",
    "# check mask\n",
    "plot_ims = [im_pre*im_mask for im_pre, im_mask in zip(ims, ims_mask)]\n",
    "fig, axs, cbars = ip.subplot_square_images(plot_ims, subpl, clims=clims, im_inches=imin)\n",
    "for ax, im_mask in zip(fig.axes, ims_mask):\n",
    "    ax.imshow(np.dstack([0.5*(~im_mask)]*4))"
   ]
  },
  {
   "cell_type": "markdown",
   "metadata": {},
   "source": [
    "Get peaks"
   ]
  },
  {
   "cell_type": "code",
   "execution_count": null,
   "metadata": {},
   "outputs": [],
   "source": [
    "plms = []\n",
    "for m in range(nMs_e):\n",
    "    im = ims[m]\n",
    "    mask = ims_mask[m]\n",
    "    plms.append(sf.peak_local_max(im*mask, min_distance=1, indices=True))\n",
    "[len(plm) for plm in plms]"
   ]
  },
  {
   "cell_type": "code",
   "execution_count": null,
   "metadata": {},
   "outputs": [],
   "source": [
    "plm_int = []\n",
    "for m in range(nMs_e):\n",
    "    im = ims[m]\n",
    "    plm = plms[m]\n",
    "    plm_int += [im[p[0],p[1]] for p in plm]\n",
    "plm_int_sort = np.sort(plm_int)\n",
    "fig, ax = ip.general_plot(dims=(10,5))\n",
    "ax.scatter(np.arange(len(plm_int_sort)), plm_int_sort)"
   ]
  },
  {
   "cell_type": "code",
   "execution_count": null,
   "metadata": {},
   "outputs": [],
   "source": [
    "rng = 18\n",
    "plm_lines = []\n",
    "plm_areas = []\n",
    "for m in range(nMs_e):\n",
    "    im = ims[m]\n",
    "    plm = plms[m]\n",
    "    for p in plm:\n",
    "        if (p[0]-rng > 0) and (p[0]+rng < im.shape[0]):\n",
    "            if (p[1]-rng > 0) and (p[1]+rng < im.shape[1]):\n",
    "                plm_lines.append(im[p[0]-rng:p[0]+rng+1, p[1]])\n",
    "                plm_areas.append(im[p[0]-rng:p[0]+rng+1, p[1]-rng:p[1]+rng+1])\n",
    "plm_lines = np.vstack(plm_lines)\n",
    "plm_areas = np.dstack(plm_areas)\n",
    "plm_lines.shape"
   ]
  },
  {
   "cell_type": "markdown",
   "metadata": {},
   "source": [
    "Filter peaks"
   ]
  },
  {
   "cell_type": "code",
   "execution_count": null,
   "metadata": {},
   "outputs": [],
   "source": [
    "filt_rad = 14\n",
    "filt_edgeint = 110\n",
    "\n",
    "fig, ax = ip.general_plot(dims=(10,5))\n",
    "fsi.plot_cell_spectra(ax, plm_lines, {'lw':1,'alpha':0.1,'color':'r'})\n",
    "ax.plot([rng+1-filt_rad]*2,[0,500],'k')\n",
    "ax.plot([rng+1+filt_rad]*2,[0,500],'k')\n",
    "ax.plot([0,rng*2+1],[filt_edgeint]*2,'k')\n",
    "\n",
    "plt.show()\n",
    "plt.close()"
   ]
  },
  {
   "cell_type": "code",
   "execution_count": null,
   "metadata": {},
   "outputs": [],
   "source": [
    "plm_ar_line = plm_areas[rng,:].T\n",
    "plm_ar_line.shape"
   ]
  },
  {
   "cell_type": "code",
   "execution_count": null,
   "metadata": {},
   "outputs": [],
   "source": [
    "\n",
    "fig, ax = ip.general_plot(dims=(10,5))\n",
    "fsi.plot_cell_spectra(ax, plm_ar_line, {'lw':1,'alpha':0.1,'color':'r'})\n",
    "\n",
    "ax.plot([rng+1-filt_rad]*2,[0,500],'k')\n",
    "ax.plot([rng+1+filt_rad]*2,[0,500],'k')\n",
    "ax.plot([0,rng*2+1],[filt_edgeint]*2,'k')"
   ]
  },
  {
   "cell_type": "code",
   "execution_count": null,
   "metadata": {},
   "outputs": [],
   "source": [
    "def create_circle_array(size, radius):\n",
    "    # Create an empty square array\n",
    "    array = np.zeros((size, size), dtype=bool)\n",
    "\n",
    "    # Calculate the center of the array\n",
    "    center = (size - 1) / 2\n",
    "\n",
    "    # Iterate through each element in the array\n",
    "    for i in range(size):\n",
    "        for j in range(size):\n",
    "            # Calculate the distance from the center to the current point\n",
    "            distance = np.sqrt((i - center)**2 + (j - center)**2)\n",
    "\n",
    "            # If the distance is less than or equal to the radius, set the value to True\n",
    "            if distance <= radius:\n",
    "                array[i, j] = True\n",
    "\n",
    "    return array\n",
    "\n",
    "# Example usage: create a 5x5 array with a circle of radius 2\n",
    "result = create_circle_array(5, 2)\n",
    "print(result)"
   ]
  },
  {
   "cell_type": "code",
   "execution_count": null,
   "metadata": {},
   "outputs": [],
   "source": [
    "# Get values in a ring around the peaks\n",
    "bool_circ = ~create_circle_array(2*rng+1, filt_rad)\n",
    "plt.imshow(bool_circ)\n",
    "plm_circ_vals = plm_areas[bool_circ,:]\n",
    "plm_circ_vals.shape"
   ]
  },
  {
   "cell_type": "code",
   "execution_count": null,
   "metadata": {},
   "outputs": [],
   "source": [
    "bool_plm = np.max(plm_circ_vals, axis=0) < filt_edgeint\n",
    "plm_lines_filt = plm_lines[bool_plm,:]\n",
    "plm_areas_filt = plm_areas[:,:,bool_plm]\n",
    "print(plm_lines_filt.shape)\n",
    "print(plm_areas_filt.shape)"
   ]
  },
  {
   "cell_type": "code",
   "execution_count": null,
   "metadata": {},
   "outputs": [],
   "source": [
    "fig, ax = ip.general_plot(dims=(10,5))\n",
    "fsi.plot_cell_spectra(ax, plm_lines_filt, {'lw':1,'alpha':0.1,'color':'r'})\n",
    "\n",
    "ax.plot([rng+1-filt_rad]*2,[0,500],'k')\n",
    "ax.plot([rng+1+filt_rad]*2,[0,500],'k')\n",
    "ax.plot([0,rng*2+1],[filt_edgeint]*2,'k')"
   ]
  },
  {
   "cell_type": "markdown",
   "metadata": {},
   "source": [
    "Get Psf"
   ]
  },
  {
   "cell_type": "code",
   "execution_count": null,
   "metadata": {},
   "outputs": [],
   "source": [
    "plm_lines_mean = np.mean(plm_lines_filt, axis=0)\n",
    "fig, ax = ip.general_plot(dims=(10,5))\n",
    "fsi.plot_cell_spectra(ax, plm_lines_filt, {'lw':1,'alpha':0.1,'color':'r'})\n",
    "fsi.plot_cell_spectra(ax, plm_lines_mean[None,:], {'lw':1,'alpha':1,'color':'k'})"
   ]
  },
  {
   "cell_type": "code",
   "execution_count": null,
   "metadata": {},
   "outputs": [],
   "source": [
    "psf = np.mean(plm_areas_filt, axis=2)\n",
    "mx = np.max(psf)\n",
    "mn = np.min(psf)\n",
    "psf_norm = (psf - mn) / (mx - mn) \n",
    "\n",
    "ip.plot_image(psf, cmap='inferno', im_inches=10)"
   ]
  },
  {
   "cell_type": "markdown",
   "metadata": {},
   "source": [
    "Test PSF\n"
   ]
  },
  {
   "cell_type": "code",
   "execution_count": null,
   "metadata": {},
   "outputs": [],
   "source": [
    "im_test = ims[0][:500,:500]\n",
    "ip.plot_image(im_test, cmap='inferno', im_inches=10)"
   ]
  },
  {
   "cell_type": "code",
   "execution_count": null,
   "metadata": {},
   "outputs": [],
   "source": [
    "# ims_norm = []\n",
    "# for im in ims:\n",
    "#     mx = np.max(im)\n",
    "#     mn = np.min(im)\n",
    "#     ims_norm.append((im - mn) / (mx - mn))\n",
    "# ims_deconv = []\n",
    "# for im in tqdm(ims):\n",
    "#     ims_deconv.append(richardson_lucy(im, psf))\n",
    "\n",
    "mx = np.max(im_test)\n",
    "mn = np.min(im_test)\n",
    "im_test_norm = (im_test - mn) / (mx - mn)\n",
    "\n",
    "im_test_deconv = richardson_lucy(im_test_norm, psf_norm)\n"
   ]
  },
  {
   "cell_type": "code",
   "execution_count": null,
   "metadata": {},
   "outputs": [],
   "source": [
    "# ims_deconv_edge = [im[100:-100,100:-100] for im in ims_deconv]\n",
    "\n",
    "# [[np.min(im),np.max(im), np.mean(im), np.std(im)] for im in ims_deconv_edge]\n",
    "np.min(im_test_deconv),np.max(im_test_deconv), np.mean(im_test_deconv), np.std(im_test_deconv)"
   ]
  },
  {
   "cell_type": "code",
   "execution_count": null,
   "metadata": {},
   "outputs": [],
   "source": [
    "clims=['min','max']\n",
    "\n",
    "\n",
    "ip.plot_image(im_test_deconv, clims=clims, cmap='inferno', im_inches=10)\n",
    "# ip.plot_image(ims_deconv_edge[0], clims=clims, cmap='inferno',im_inches=imin)\n",
    "# fig, ax, cbar = ip.subplot_square_images(ims_deconv_edge, subpl, clims=clims, im_inches=imin)"
   ]
  },
  {
   "cell_type": "markdown",
   "metadata": {},
   "source": [
    "## Load data"
   ]
  },
  {
   "cell_type": "markdown",
   "metadata": {},
   "source": [
    "Pick an image"
   ]
  },
  {
   "cell_type": "code",
   "execution_count": null,
   "metadata": {},
   "outputs": [],
   "source": [
    "sn = \"2023_11_22_newplasmid_sample_bmg_fov_04\""
   ]
  },
  {
   "cell_type": "code",
   "execution_count": null,
   "metadata": {},
   "outputs": [],
   "source": [
    "output_dir = config['output_dir'] + '/' + sn\n",
    "\n",
    "stack_dir = output_dir + '/stacks'\n",
    "props_dir = output_dir + '/props'\n",
    "segs_dir = output_dir + '/segs'\n",
    "spec_dir = output_dir + '/spectra'\n",
    "clust_dir = output_dir + '/clust'\n",
    "mge_shifts_dir = output_dir + '/mge_shifts'\n"
   ]
  },
  {
   "cell_type": "code",
   "execution_count": null,
   "metadata": {},
   "outputs": [],
   "source": [
    "bn = sn + '_M_{}'\n",
    "stack_fn = stack_dir + '/' + bn + '_stack.npy'\n",
    "props_fn = props_dir + '/' + bn + '_props.csv'\n",
    "seg_fn = segs_dir + '/' + bn + '_seg.npy'\n",
    "spec_fn = spec_dir + '/' + bn + '_spec.yaml'\n",
    "clust_fn = clust_dir + '/' + bn + '_clust.yaml'\n",
    "mge_shift_fn = mge_shifts_dir + '/' + bn + '_mge_shift.npy'\n"
   ]
  },
  {
   "cell_type": "code",
   "execution_count": null,
   "metadata": {},
   "outputs": [],
   "source": [
    "mge_shift_fns = glob.glob(mge_shift_fn.format('*'))\n",
    "mge_shift_fns"
   ]
  },
  {
   "cell_type": "code",
   "execution_count": null,
   "metadata": {},
   "outputs": [],
   "source": [
    "Ms_hipr = [re.findall('(?<=_M_)\\d+', f)[0] for f in mge_shift_fns]\n",
    "print(Ms_hipr)\n",
    "nMs = len(Ms_hipr)"
   ]
  },
  {
   "cell_type": "code",
   "execution_count": null,
   "metadata": {},
   "outputs": [],
   "source": [
    "raws_mge_shift = [np.load(fn) for fn in mge_shift_fns]"
   ]
  },
  {
   "cell_type": "code",
   "execution_count": null,
   "metadata": {},
   "outputs": [],
   "source": [
    "raws_mge_shift = [x for _, x in sorted(zip(Ms_hipr, raws_mge_shift))]"
   ]
  },
  {
   "cell_type": "markdown",
   "metadata": {},
   "source": [
    "## Get MGE spots"
   ]
  },
  {
   "cell_type": "code",
   "execution_count": null,
   "metadata": {},
   "outputs": [],
   "source": [
    "# Plot spots\n",
    "subpl=(2,2)\n",
    "clims=(50,500)\n",
    "# clims=[(50,500)]*nMs\n",
    "imin=30\n",
    "\n",
    "ims = []\n",
    "for m_h in range(nMs):\n",
    "    im = raws_mge_shift[m_h][:,:,1]\n",
    "    ims.append(im)\n",
    "    ip.plot_image(im, clims=clims, im_inches=imin)\n",
    "# ip.subplot_square_images(ims, subpl, clims=clims, im_inches=imin)\n",
    "# ip.plot_image(im, cmap='inferno', im_inches=imin, clims=(0,750))"
   ]
  },
  {
   "cell_type": "code",
   "execution_count": null,
   "metadata": {},
   "outputs": [],
   "source": [
    "# # pre-process\n",
    "# ims_pre = [sf.pre_process(\n",
    "#     im,\n",
    "#     log=False,\n",
    "#     denoise=0,\n",
    "#     gauss=0,\n",
    "#     diff_gauss=(0,)\n",
    "#     ) for im in ims]\n",
    "# # check pre-processing\n",
    "# ip.subplot_square_images(ims_pre, subpl, clims=clims, im_inches=imin)\n",
    "\n",
    "ims_pre = []\n",
    "for im in ims:\n",
    "    im_pre = sf.pre_process(\n",
    "        im,\n",
    "        log=False,\n",
    "        denoise=0,\n",
    "        gauss=0,\n",
    "        diff_gauss=(0,)\n",
    "    )\n",
    "    ims_pre.append(im_pre)\n",
    "    ip.plot_image(im_pre, clims=clims, im_inches=imin)\n",
    "\n",
    "# ip.plot_image(im_pre, cmap='inferno', im_inches=imin, clims=(0,750))\n"
   ]
  },
  {
   "cell_type": "code",
   "execution_count": null,
   "metadata": {},
   "outputs": [],
   "source": [
    "ims_mask = []\n",
    "for im in ims:\n",
    "    im_mask = sf.get_background_mask(\n",
    "        im,\n",
    "        bg_smoothing=0,\n",
    "        n_clust_bg=4,\n",
    "        top_n_clust_bg=1,\n",
    "        bg_threshold=200\n",
    "        )\n",
    "    ims_mask.append(im_mask)\n",
    "    fig, ax, _ = ip.plot_image(im*im_mask, clims=clims, im_inches=imin)\n",
    "    ax.imshow(np.dstack([0.5*(~im_mask)]*4))\n",
    "\n",
    "\n",
    "# # Get mask\n",
    "# ims_mask = [sf.get_background_mask(\n",
    "#     im,\n",
    "#     bg_smoothing=0,\n",
    "#     n_clust_bg=4,\n",
    "#     top_n_clust_bg=1,\n",
    "#     bg_threshold=200\n",
    "#     ) for im in ims]\n",
    "\n",
    "# # check mask\n",
    "# plot_ims = [im_pre*im_mask for im_pre, im_mask in zip(ims_pre, ims_mask)]\n",
    "# fig, axs, cbars = ip.subplot_square_images(plot_ims, subpl, clims=clims, im_inches=imin)\n",
    "# for ax, im_mask in zip(fig.axes, ims_mask):\n",
    "#     ax.imshow(np.dstack([0.5*(~im_mask)]*4))\n",
    "\n",
    "# # fig, ax, cbar = ip.plot_image((im_pre*im_mask), cmap='inferno', im_inches=imin, clims=(0,750))\n",
    "# # ax.imshow(np.dstack([0.5*(~im_mask)]*4))\n",
    "# # segment\n",
    "# # Check segmentation\n",
    "# # Save segmentation "
   ]
  },
  {
   "cell_type": "code",
   "execution_count": null,
   "metadata": {},
   "outputs": [],
   "source": [
    "def segment(image, mask):\n",
    "    seeds = sf.label(sf.peak_local_max(image, min_distance=1, indices=False))\n",
    "    watershed_input = -image*mask\n",
    "    seg = sf.watershed(watershed_input, seeds, mask=mask, watershed_line=True)\n",
    "    return sf.label(seg)\n",
    "\n",
    "# segment\n",
    "ims_seg = [segment(\n",
    "    im_pre, im_mask\n",
    "    ) for im_pre, im_mask in zip(ims_pre, ims_mask)]"
   ]
  },
  {
   "cell_type": "code",
   "execution_count": null,
   "metadata": {},
   "outputs": [],
   "source": [
    "# Check segmentation\n",
    "segs_rgb = []\n",
    "for im_seg in ims_seg:\n",
    "    seg_rgb = ip.seg2rgb(im_seg)\n",
    "    segs_rgb.append(seg_rgb)\n",
    "    ip.plot_image(seg_rgb, im_inches=imin)\n",
    "# segs_zoom_rgb = [ip.seg2rgb(im_seg) for im_seg in ims_seg]\n",
    "# fig, axs, cbars = ip.subplot_square_images(segs_zoom_rgb, subpl, im_inches=imin)\n",
    "\n",
    "\n",
    "# ip.plot_image(seg_zoom_rgb, im_inches=imin)\n",
    "# Save segmentation "
   ]
  },
  {
   "cell_type": "code",
   "execution_count": null,
   "metadata": {},
   "outputs": [],
   "source": [
    "# Get spot properties\n",
    "props = [sf.measure_regionprops(im_seg, raw=im) for im_seg, im in zip(ims_seg, ims)]\n",
    "props[0].columns"
   ]
  },
  {
   "cell_type": "code",
   "execution_count": null,
   "metadata": {},
   "outputs": [],
   "source": [
    "y = [prop.max_intensity.values for prop in props]\n",
    "y = np.sort(np.hstack(y))\n",
    "x = np.arange(y.shape[0])"
   ]
  },
  {
   "cell_type": "code",
   "execution_count": null,
   "metadata": {},
   "outputs": [],
   "source": [
    "int_thresh = 100\n",
    "\n",
    "fig, ax = ip.general_plot(dims=(10,5))\n",
    "ax.scatter(x,y, s=1)\n",
    "ax.set_title('Spot Max Intensity (a.u.)')\n",
    "ax.plot([0,x.shape[0]], [int_thresh]*2, 'k')"
   ]
  },
  {
   "cell_type": "code",
   "execution_count": null,
   "metadata": {},
   "outputs": [],
   "source": [
    "y = [prop.area.values for prop in props]\n",
    "y = np.sort(np.hstack(y))\n",
    "x = np.arange(y.shape[0])"
   ]
  },
  {
   "cell_type": "code",
   "execution_count": null,
   "metadata": {},
   "outputs": [],
   "source": [
    "area_thresh = 200\n",
    "fig, ax = ip.general_plot(dims=(10,5))\n",
    "ax.scatter(x,y, s=1)\n",
    "ax.set_title('Spot Area (pixels)')\n",
    "ax.plot([0,x.shape[0]], [area_thresh]*2, 'k')"
   ]
  },
  {
   "cell_type": "code",
   "execution_count": null,
   "metadata": {},
   "outputs": [],
   "source": [
    "bools_area = [prop.area.values < area_thresh for prop in props]\n",
    "bools_int = [prop.max_intensity.values > int_thresh for prop in props]\n",
    "for ba, bi in zip(bools_area, bools_int):\n",
    "    print(len(ba))\n",
    "    print(sum(ba*bi))\n",
    "    print('--')"
   ]
  },
  {
   "cell_type": "code",
   "execution_count": null,
   "metadata": {},
   "outputs": [],
   "source": [
    "# Get pixels for random simulation\n",
    "ims_cell = [raws_mge_shift[m_h][:,:,0] for m_h in range(nMs)]\n",
    "\n",
    "fig, axs, cbars = ip.subplot_square_images(ims_cell, subpl, clims=[clims]*nMs, im_inches=imin)\n",
    "# ip.plot_image(im, cmap='inferno', im_inches=imin, clims=(0,2000))\n"
   ]
  },
  {
   "cell_type": "code",
   "execution_count": null,
   "metadata": {},
   "outputs": [],
   "source": [
    "masks_cell = [im_cell > 235 for im_cell in ims_cell]\n",
    "\n",
    "plot_ims = [im_cell*mask_cell for im_cell, mask_cell in zip(ims_cell, masks_cell)]\n",
    "\n",
    "fig, axs, cbars = ip.subplot_square_images(plot_ims, subpl, clims=[clims]*nMs, im_inches=imin)\n",
    "for ax, im_mask in zip(fig.axes, masks_cell):\n",
    "    ax.imshow(np.dstack([0.5*(~im_mask)]*4))\n",
    "\n",
    "# fig, ax, cbar = ip.plot_image((im_cell*mask_cell), cmap='inferno', im_inches=imin, clims=(0,2000))\n",
    "# ax.imshow(np.dstack([0.5*(~mask_cell)]*4))"
   ]
  },
  {
   "cell_type": "code",
   "execution_count": null,
   "metadata": {},
   "outputs": [],
   "source": [
    "bools_incell = []\n",
    "for prop, mask_cell in zip(props, masks_cell):\n",
    "    bool_incell = []\n",
    "    for c in prop.centroid.values:\n",
    "        bool_incell.append(mask_cell[int(c[0]),int(c[1])])\n",
    "    print(len(bool_incell))\n",
    "    print(sum(bool_incell))\n",
    "    print('--')\n",
    "    bools_incell.append(np.array(bool_incell))"
   ]
  },
  {
   "cell_type": "markdown",
   "metadata": {},
   "source": [
    "## Measure spatial association with spectra clusters"
   ]
  },
  {
   "cell_type": "markdown",
   "metadata": {},
   "source": [
    "Get resized hipr properties"
   ]
  },
  {
   "cell_type": "code",
   "execution_count": null,
   "metadata": {},
   "outputs": [],
   "source": [
    "def add_edge(hipr_sum_res, edge):\n",
    "    hsr_shape = hipr_sum_res.shape\n",
    "    hipr_sum_res_edge = np.zeros(np.array(hsr_shape) + 2*edge)\n",
    "    hipr_sum_res_edge[edge:edge+hsr_shape[0],edge:edge+hsr_shape[1]] = hipr_sum_res\n",
    "    return hipr_sum_res_edge\n",
    "\n",
    "def resize_hipr(im, hipr_res, mega_res, dims='none', out_fn=False, ul_corner=(0,0)):\n",
    "    # im = np.load(in_fn)\n",
    "    factor_resize = hipr_res / mega_res\n",
    "    hipr_resize = resize(\n",
    "            im,\n",
    "            None,\n",
    "            fx = factor_resize,\n",
    "            fy = factor_resize,\n",
    "            interpolation = INTER_NEAREST\n",
    "            )\n",
    "    if isinstance(dims, str): dims = hipr_resize.shape\n",
    "    hipr_resize = center_image(hipr_resize, dims, ul_corner)\n",
    "    # if out_fn: np.save(out_fn, hipr_resize)\n",
    "    return hipr_resize\n",
    "\n",
    "def center_image(im, dims, ul_corner):\n",
    "    shp = im.shape\n",
    "    if not all([dims[i] == shp[i] for i in range(len(dims))]):\n",
    "        shp_new = dims if len(shp) == 2 else dims + (shp[2],)\n",
    "        temp = np.zeros(shp_new)\n",
    "        br_corner = np.array(ul_corner) + np.array(shp[:2])\n",
    "        temp[ul_corner[0]:br_corner[0], ul_corner[1]:br_corner[1]] = im\n",
    "        im = temp\n",
    "    return im\n",
    "\n",
    "def norm(im, c=['min','max']):\n",
    "    mn = np.min(im) if c[0] == 'min' else c[0]\n",
    "    mx = np.max(im) if c[1] == 'max' else c[1]\n",
    "    im = np.clip(im, mn, mx)\n",
    "    return (im - mn) / (mx - mn)"
   ]
  },
  {
   "cell_type": "code",
   "execution_count": null,
   "metadata": {},
   "outputs": [],
   "source": [
    "hipr_raw_fn = dict_group_czifns_all[sn][0]\n",
    "czi_hipr = aplc.CziFile(hipr_raw_fn)\n",
    "\n",
    "mge_raw_fn = dict_group_czifns_all[sn][4]\n",
    "czi_mge = aplc.CziFile(mge_raw_fn)\n",
    "\n",
    "\n",
    "for n in czi_mge.meta.iter():\n",
    "    if 'Scaling' in n.tag:\n",
    "        if 'X' in n.tag:\n",
    "            res_mge = float(n.text)\n",
    "print('MGE m/pix',res_mge)\n",
    "\n",
    "for n in czi_hipr.meta.iter():\n",
    "    if 'Scaling' in n.tag:\n",
    "        if 'X' in n.tag:\n",
    "            res_hipr = float(n.text)\n",
    "print('HiPR m/pix',res_hipr)"
   ]
  },
  {
   "cell_type": "code",
   "execution_count": null,
   "metadata": {},
   "outputs": [],
   "source": [
    "edge_out_fn = mge_shifts_dir + '/' + bn.format('edgepixels') + '_mge_shift.txt'\n",
    "edge_out_fn"
   ]
  },
  {
   "cell_type": "code",
   "execution_count": null,
   "metadata": {},
   "outputs": [],
   "source": [
    "with open(edge_out_fn, 'r') as f:\n",
    "    edge = f.read()\n",
    "edge = int(edge)\n",
    "edge"
   ]
  },
  {
   "cell_type": "code",
   "execution_count": null,
   "metadata": {},
   "outputs": [],
   "source": [
    "stack_fns = glob.glob(stack_fn.format('*'))\n",
    "stacks = [np.load(fn) for fn in stack_fns]\n",
    "stacks = [x for _, x in sorted(zip(Ms_hipr, stacks))]\n",
    "stacks_max = [np.max(s, axis=2) for s in stacks]\n",
    "stacks_sum = [np.sum(s, axis=2) for s in stacks]\n",
    "\n",
    "seg_fns = glob.glob(seg_fn.format('*'))\n",
    "seg = [np.load(fn) for fn in seg_fns]\n",
    "Ms_hipr_seg = [re.findall('(?<=_M_)\\d+', f)[0] for f in seg_fns]\n",
    "segs = [x for _, x in sorted(zip(Ms_hipr_seg, seg))]\n",
    "\n",
    "hipr_maxs_res = []\n",
    "hipr_sums_res = []\n",
    "hipr_segs_res = []\n",
    "for mx, sm, seg in zip(stacks_max, stacks_sum, segs):\n",
    "    hipr_maxs_res.append(resize_hipr(\n",
    "            mx, res_hipr, res_mge\n",
    "            ))\n",
    "    hipr_sums_res.append(resize_hipr(\n",
    "            sm, res_hipr, res_mge\n",
    "            ))\n",
    "    hipr_segs_res.append(resize_hipr(\n",
    "            seg, res_hipr, res_mge\n",
    "            ))"
   ]
  },
  {
   "cell_type": "code",
   "execution_count": null,
   "metadata": {},
   "outputs": [],
   "source": [
    "len(hipr_sums_res)"
   ]
  },
  {
   "cell_type": "code",
   "execution_count": null,
   "metadata": {},
   "outputs": [],
   "source": [
    "hipr_sums_res_edge = []\n",
    "hipr_segs_res_edge = []\n",
    "hipr_props_res = []\n",
    "\n",
    "for m_h in range(nMs):\n",
    "    hipr_sum_res = hipr_sums_res[m_h]\n",
    "    hipr_sum_res_edge = add_edge(hipr_sum_res, edge)\n",
    "    hipr_sums_res_edge.append(hipr_sum_res_edge)\n",
    "\n",
    "    hipr_seg_res = hipr_segs_res[m_h]\n",
    "    hipr_seg_res_edge = add_edge(hipr_seg_res, edge)\n",
    "    hipr_seg_res_edge = hipr_seg_res_edge.astype(int)\n",
    "    hipr_segs_res_edge.append(hipr_seg_res_edge)\n",
    "\n",
    "    hipr_prop_res = sf.measure_regionprops(hipr_seg_res_edge, raw=hipr_sum_res_edge)\n",
    "    hipr_props_res.append(hipr_prop_res)\n",
    "hipr_props_res[0].columns"
   ]
  },
  {
   "cell_type": "code",
   "execution_count": null,
   "metadata": {},
   "outputs": [],
   "source": [
    "for m_h in range(nMs):\n",
    "    hipr_seg_res_edge = hipr_segs_res_edge[m_h]\n",
    "    hipr_seg_res_edge_rgb = ip.seg2rgb(hipr_seg_res_edge)\n",
    "    fig, ax, _ = ip.plot_image(hipr_seg_res_edge_rgb, im_inches=imin)\n",
    "    raw_mge_shift_spot = raws_mge_shift[m_h][:,:,1]\n",
    "    raw_mge_shift_spot_norm = norm(raw_mge_shift_spot, (0,250))\n",
    "    raw_mge_shift_spot_rgb = np.dstack([raw_mge_shift_spot_norm]*4)\n",
    "    ax.imshow(raw_mge_shift_spot_rgb)"
   ]
  },
  {
   "cell_type": "markdown",
   "metadata": {},
   "source": [
    "Load spectral clusters"
   ]
  },
  {
   "cell_type": "code",
   "execution_count": null,
   "metadata": {},
   "outputs": [],
   "source": [
    "# dict_clusters_unq = {}\n",
    "# dicts_lab_clust = {}\n",
    "# for m_h in range(nMs):\n",
    "#     # Load spectral clusters\n",
    "#     with open(clust_fn.format(m_h), 'r') as f:\n",
    "#         dicts_lab_clust[m_h] = yaml.unsafe_load(f)\n",
    "#     dict_clusters_unq[m_h] = np.unique(list(dicts_lab_clust[m_h].values()))"
   ]
  },
  {
   "cell_type": "code",
   "execution_count": null,
   "metadata": {},
   "outputs": [],
   "source": [
    "# classif svc\n",
    "classif_dir = config['output_dir'] + '/classif_svc'\n",
    "classif_fn = classif_dir + '/dict_sn_m_label_classif.yaml'\n",
    "\n",
    "with open(classif_fn, 'r') as f:\n",
    "    dict_sn_m_lab_cl = yaml.unsafe_load(f)"
   ]
  },
  {
   "cell_type": "code",
   "execution_count": null,
   "metadata": {},
   "outputs": [],
   "source": [
    "dicts_lab_clust = dict_sn_m_lab_cl[sn]"
   ]
  },
  {
   "cell_type": "markdown",
   "metadata": {},
   "source": [
    "Create a dictionary with cell coords for each cluster\n"
   ]
  },
  {
   "cell_type": "code",
   "execution_count": null,
   "metadata": {},
   "outputs": [],
   "source": [
    "dicts_clust_coords = []\n",
    "for m_h in range(nMs):\n",
    "    # dict_lab_clust = dicts_lab_clust[m_h]\n",
    "    dict_lab_clust = dicts_lab_clust[str(m_h)]\n",
    "    hipr_prop_res = hipr_props_res[m_h]\n",
    "    # Create a dictionary with cell coords for each cluster\n",
    "    dict_clust_coords = defaultdict(list)\n",
    "    for l, c in hipr_prop_res[['label','centroid']].values:\n",
    "        cl = dict_lab_clust[l]\n",
    "        c = eval(c) if isinstance(c, str) else c\n",
    "        dict_clust_coords[cl].append(list(c))\n",
    "    dicts_clust_coords.append(dict_clust_coords)"
   ]
  },
  {
   "cell_type": "code",
   "execution_count": null,
   "metadata": {},
   "outputs": [],
   "source": [
    "spots_coords = []\n",
    "for m_h in range(nMs):\n",
    "    prop = props[m_h]\n",
    "    bool_area = bools_area[m_h]\n",
    "    bool_incell = bools_incell[m_h]\n",
    "    # bool_int = bools_int[m_h]\n",
    "    # Get spot coordinates\n",
    "    # spot_coords = prop.centroid.values[bool_area]\n",
    "\n",
    "    \n",
    "    spot_coords = prop.centroid.values\n",
    "    # spot_coords = prop.centroid.values[bool_area * bool_incell]\n",
    "    # spot_coords = prop.centroid.values[bool_area * bool_incell * bool_int]\n",
    "    print(spot_coords.shape)\n",
    "    spot_coords = [list(s) for s in spot_coords]\n",
    "    spots_coords.append(spots_coords)"
   ]
  },
  {
   "cell_type": "markdown",
   "metadata": {},
   "source": [
    "Get dictionary of cluster nearest neighbor distances"
   ]
  },
  {
   "cell_type": "code",
   "execution_count": null,
   "metadata": {},
   "outputs": [],
   "source": [
    "# Get dictionary of cluster nearest neighbor distances\n",
    "n_neighbors=1\n",
    "dicts_cl_dists = defaultdict(dict)\n",
    "for m_h in range(nMs):\n",
    "    dict_clust_coords = dicts_clust_coords[m_h]\n",
    "    for cl in dict_clusters_unq[m_h]:\n",
    "        reseg_coords = dict_clust_coords[cl]\n",
    "        nbrs = NearestNeighbors(n_neighbors=n_neighbors).fit(reseg_coords)\n",
    "        dists, _ = nbrs.kneighbors(spot_coords)\n",
    "        dicts_cl_dists[m_h][cl] = dists"
   ]
  },
  {
   "cell_type": "markdown",
   "metadata": {},
   "source": [
    "simulate random spots"
   ]
  },
  {
   "cell_type": "code",
   "execution_count": null,
   "metadata": {},
   "outputs": [],
   "source": [
    "dicts_clust_lab = defaultdict(lambda: defaultdict(list))\n",
    "for m_h in range(nMs):\n",
    "    dict_lab_clust = dicts_lab_clust[m_h]\n",
    "    # dict_lab_clust = dicts_lab_clust[str(m_h)]\n",
    "    for lab, cl in dict_lab_clust.items():\n",
    "        dicts_clust_lab[m_h][cl].append(lab)"
   ]
  },
  {
   "cell_type": "code",
   "execution_count": null,
   "metadata": {},
   "outputs": [],
   "source": [
    "dicts_lab_coord = {}\n",
    "for m_h in range(nMs):\n",
    "    hipr_prop_res = hipr_props_res[m_h]\n",
    "    l = hipr_prop_res.label.values\n",
    "    c = [list(coord) for coord in hipr_prop_res.centroid.values]\n",
    "    # c = [list(eval(coord)) for coord in hipr_prop_res.centroid.values]\n",
    "    dicts_lab_coord[m_h] = dict(zip(l, c))"
   ]
  },
  {
   "cell_type": "code",
   "execution_count": null,
   "metadata": {},
   "outputs": [],
   "source": [
    "# simulate random spots\n",
    "n=1000\n",
    "\n",
    "dicts_cl_dists_sim = defaultdict(lambda: defaultdict(list))\n",
    "for m_h in range(nMs):\n",
    "    hipr_prop_res = hipr_props_res[m_h]\n",
    "    mask_cell = masks_cell[m_h]\n",
    "    dict_clust_lab = dicts_clust_lab[m_h]\n",
    "    dict_lab_coord = dicts_lab_coord[m_h]\n",
    "    \n",
    "    cell_coords_tup = hipr_prop_res.loc[:,'centroid'].values\n",
    "    cell_coords = np.array([list(c) for c in cell_coords_tup])\n",
    "    # cell_coords = np.array([list(eval(c)) for c in cell_coords_tup])\n",
    "    pix_coords = np.argwhere(mask_cell)\n",
    "\n",
    "    # clusters_unq = np.unique(list(dict_clust_coords.keys()))\n",
    "    dict_cl_dists_sim = defaultdict(list)\n",
    "    for i in tqdm(range(n)):\n",
    "        # Randomize spot locations\n",
    "        i_sim = np.random.randint(\n",
    "                0, pix_coords.shape[0], size=len(spot_coords)\n",
    "                )\n",
    "        sim_spot_coords = pix_coords[i_sim]\n",
    "        # # Randomize cell labels\n",
    "        # c_sim = np.random.randint(\n",
    "        #         0, hipr_reseg_props.shape[0], size=hipr_reseg_props.shape[0]\n",
    "        #         )\n",
    "        # bc_sim = np.array([x for _, x in sorted(zip(c_sim, cell_bc))])\n",
    "        for cl in dict_clusters_unq[m_h]:\n",
    "            # Get cell coords for taxon\n",
    "            labels = dict_clust_lab[cl]\n",
    "            # bool_bc = np.array(cell_bc) == cl\n",
    "            # bool_bc = bc_sim == bc\n",
    "            # tax_centroid = cell_coords[bool_bc,:]\n",
    "            tax_centroid = [dict_lab_coord[l] for l in labels]\n",
    "            # Get nearest neighbor cell distance for each spot\n",
    "            nbrs = NearestNeighbors(n_neighbors=1).fit(tax_centroid)\n",
    "            dists, _ = nbrs.kneighbors(sim_spot_coords)\n",
    "            dicts_cl_dists_sim[m_h][cl].append(dists)\n",
    "            \n"
   ]
  },
  {
   "cell_type": "markdown",
   "metadata": {},
   "source": [
    "Measure associations"
   ]
  },
  {
   "cell_type": "code",
   "execution_count": null,
   "metadata": {},
   "outputs": [],
   "source": [
    "# Get fraction of spots associated in measured and simulation\n",
    "r_um = 0.5\n",
    "res_mge_umpix = res_mge * 10**6\n",
    "\n",
    "dict_meas_vals = defaultdict(list)\n",
    "dict_sim_vals = defaultdict(list)\n",
    "dict_meas_frac = {}\n",
    "dict_sim_frac = {}\n",
    "\n",
    "for m_h in range(nMs):\n",
    "    for cl in dict_clusters_unq[m_h]:\n",
    "        # Get simulated fraction within radius of cell\n",
    "        sim_dists = dicts_cl_dists_sim[m_h][cl]\n",
    "        sim_dists_um = np.array(sim_dists) * res_mge_umpix\n",
    "        bool_sim_rad = sim_dists_um < r_um\n",
    "        sim_rad_counts = np.sum(bool_sim_rad, axis=1)\n",
    "        sim_rad_frac = sim_rad_counts\n",
    "        dict_sim_vals[m_h].append(sim_rad_frac)\n",
    "        # Get measured fraction\n",
    "        dists_um = dicts_cl_dists[m_h][cl] * res_mge_umpix\n",
    "        dists_um.shape\n",
    "        bool_rad = dists_um < r_um\n",
    "        rad_counts = np.sum(bool_rad)\n",
    "        rad_frac = rad_counts\n",
    "        dict_meas_vals[m_h].append(rad_frac)\n",
    "\n",
    "    dict_sim_vals[m_h] = np.array(dict_sim_vals[m_h])[:,:,0]\n",
    "    dict_sim_frac[m_h] = dict_sim_vals[m_h] / len(spot_coords)\n",
    "    dict_meas_vals[m_h] = np.array(dict_meas_vals[m_h])\n",
    "    dict_meas_frac[m_h] = dict_meas_vals[m_h] / len(spot_coords)\n",
    "\n"
   ]
  },
  {
   "cell_type": "markdown",
   "metadata": {},
   "source": [
    "Get color dict"
   ]
  },
  {
   "cell_type": "code",
   "execution_count": null,
   "metadata": {},
   "outputs": [],
   "source": [
    "# # Count all barcodes\n",
    "# dict_cl_counts = defaultdict(int)\n",
    "# for sn, dmlc in dict_sn_m_lab_cl.items():\n",
    "#     for m, dlc in dmlc.items():\n",
    "#         clusts, counts = np.unique(list(dlc.values()), return_counts=True)\n",
    "#         for cl, cnt in zip(clusts,counts):\n",
    "#             dict_cl_counts[cl] += cnt\n",
    "# dict_cl_counts"
   ]
  },
  {
   "cell_type": "code",
   "execution_count": null,
   "metadata": {},
   "outputs": [],
   "source": [
    "# # Sort barcodes\n",
    "# bcs = list(dict_cl_counts.keys())\n",
    "# counts = list(dict_cl_counts.values())\n",
    "# barcodes_countsort = [bc for _, bc in sorted(zip(counts, bcs))]"
   ]
  },
  {
   "cell_type": "code",
   "execution_count": null,
   "metadata": {},
   "outputs": [],
   "source": [
    "# Rearrange colors\n",
    "col_list = list(plt.get_cmap('tab20').colors)\n",
    "col_1 = [col_list[i] for i in np.arange(0,20,2)]\n",
    "del col_1[7]\n",
    "col_2 = [col_list[i] for i in np.arange(1,20,2)]\n",
    "del col_2[7]\n",
    "col_list_re = col_1 + col_2 + [(1,1,0), (0,1,0)]\n",
    "barlist = plt.bar(np.arange(20), np.ones(20))\n",
    "for b,c in zip(barlist, col_list_re):\n",
    "    b.set_color(c)\n",
    "\n"
   ]
  },
  {
   "cell_type": "code",
   "execution_count": null,
   "metadata": {},
   "outputs": [],
   "source": [
    "# # Get scinames dict\n",
    "# probe_design_fn = config['probe_design_dir'] + '/' + config['probe_design_filename']\n",
    "# probe_design = pd.read_csv(probe_design_fn)\n",
    "# barcodes_pd = probe_design['code'].unique()\n",
    "# sci_names_pd = [probe_design.loc[probe_design['code'] == bc,'sci_name'].unique()[0] \n",
    "#             for bc in barcodes_pd]\n",
    "# barcodes_pdstr = [str(bc).zfill(5) for bc in barcodes_pd]\n",
    "# dict_bc_sciname = dict(zip(barcodes_pdstr, sci_names_pd))\n"
   ]
  },
  {
   "cell_type": "code",
   "execution_count": null,
   "metadata": {},
   "outputs": [],
   "source": [
    "# # Make dict and plot \n",
    "# dict_bc_col = dict(zip(barcodes_countsort, col_list_re))\n",
    "# sciname_countsort = [dict_bc_sciname[bc] for bc in barcodes_countsort]\n",
    "# ip.taxon_legend(sciname_countsort, col_list_re)"
   ]
  },
  {
   "cell_type": "markdown",
   "metadata": {},
   "source": [
    "Plot z-score values"
   ]
  },
  {
   "cell_type": "code",
   "execution_count": null,
   "metadata": {},
   "outputs": [],
   "source": [
    "# Get z-scores\n",
    "dict_sim_z = {}\n",
    "dict_meas_z = {}\n",
    "for m_h in range(nMs):\n",
    "    mu = np.mean(dict_sim_vals[m_h], axis=1)\n",
    "    sig = np.std(dict_sim_vals[m_h], axis=1)\n",
    "    dict_sim_z[m_h] = (dict_sim_vals[m_h] - mu[:,None]) / sig[:,None]\n",
    "    dict_meas_z[m_h] = (dict_meas_vals[m_h] - mu) / sig"
   ]
  },
  {
   "cell_type": "code",
   "execution_count": null,
   "metadata": {},
   "outputs": [],
   "source": [
    "# Plot z score number of spots associated with group\n",
    "dims=[2.5,1]\n",
    "xlab_rotation=45\n",
    "pval_rotation=60\n",
    "marker='.'\n",
    "marker_size=10\n",
    "text_dist=0.1\n",
    "ft=7\n",
    "ylimadj = 0.1\n",
    "true_frac_llim = 0\n",
    "line_col = 'k'\n",
    "box_line_col = (0.5,0.5,0.5)\n",
    "box_col = 'w'\n",
    "yticklength=2\n",
    "\n",
    "for m_h in range(nMs):\n",
    "    fig, ax = ip.general_plot(dims=dims, ft=ft, col=line_col)\n",
    "    # Plot simulation\n",
    "    boxplot = ax.boxplot(\n",
    "            dict_sim_z[m_h].T, patch_artist=True, showfliers=False,\n",
    "            boxprops=dict(facecolor=box_col, color=box_line_col),\n",
    "            capprops=dict(color=box_line_col),\n",
    "            whiskerprops=dict(color=box_line_col),\n",
    "            medianprops=dict(color=box_line_col),\n",
    "        )\n",
    "    # for m in boxplot['medians']:\n",
    "    #     m.set_color(line_col)\n",
    "    # for b in boxplot['boxes']:\n",
    "    #     b.set_edgecolor(line_col)\n",
    "    #     b.set_facecolor(box_col)\n",
    "\n",
    "    # Plot measured value\n",
    "    ys = []\n",
    "    xlab = []\n",
    "    x = 1\n",
    "    # clusters_unq = np.unique(list(dicts_clust_coords[m_h].keys()))\n",
    "    for i, cl in enumerate(dict_clusters_unq[m_h]):\n",
    "    # for i, bc_tax in zip(ind_order, barcodes_int_order):\n",
    "        # sci_name = dict_bc_sciname[cl]\n",
    "        xlab.append(sci_name)\n",
    "        # try:\n",
    "        #     color = col_dict[sci_name]\n",
    "        # except:\n",
    "        #     continue\n",
    "        # color = dict_bc_col[cl]\n",
    "        color = col_list_re[i]\n",
    "        true_frac = dict_meas_z[m_h][i]\n",
    "        # true_frac = true_count / n_cells\n",
    "        _ = ax.plot(x, true_frac, marker=marker, ms=marker_size, color=color)\n",
    "        # Plot p value\n",
    "        sim_vals_i = dict_sim_vals[m_h][i,:]\n",
    "        # sim_vals = sim_arr[:,i,h] / n_cells\n",
    "        sim_mean = np.mean(dict_sim_vals[m_h])\n",
    "        if true_frac > sim_mean:\n",
    "            # number of simulations with value greater than observed\n",
    "            r_ = sum(sim_vals_i > true_frac)\n",
    "        else:\n",
    "            # number of simulations with value less than observed\n",
    "            r_ = sum(sim_vals_i < true_frac)\n",
    "        # P value\n",
    "        p_ = r_ / n\n",
    "        # Get text location\n",
    "        q1,q3 = np.quantile(dict_sim_vals[m_h], [0.25,0.75])\n",
    "        q4 = q3 + 1.5 * (q3 - q1)\n",
    "        # y_m = np.max(sim_vals)\n",
    "        # y = y_m if y_m > true_frac else true_frac\n",
    "        y = q4 if q4 > true_frac else true_frac\n",
    "        y += text_dist\n",
    "        ys.append(y)\n",
    "        # if true_frac < true_frac_llim:\n",
    "        #     t = ''\n",
    "        # elif (p_ > 0.05):\n",
    "        #     t = ''\n",
    "        # elif (p_ > 0.001) and (p_ <= 0.05):\n",
    "        #     t = str(\"p=\" + str(p_))\n",
    "        # else:\n",
    "        #     t = str(\"p<0.001\")\n",
    "        # _ = ax.text(x, y, t, fontsize=ft, ha='left',va='bottom', rotation=pval_rotation, rotation_mode='anchor',\n",
    "        #         color=line_col)\n",
    "        x+=1\n",
    "    # ax.set_xticklabels([], rotation=xlab_rotation, ha='right', va='top', rotation_mode='anchor')\n",
    "    # ax.set_xticklabels(xlab, rotation=xlab_rotation, ha='right', va='top', rotation_mode='anchor')\n",
    "    # ax.tick_params(axis='x',direction='out')\n",
    "    ax.set_xticks([])\n",
    "    ax.tick_params(axis='y', length=yticklength)\n",
    "    # ax.set_yticks(ticks=[-10,0,10,20], labels=[])\n",
    "    ax.spines['top'].set_color('none')\n",
    "    ax.spines['bottom'].set_color('none')\n",
    "    ax.spines['right'].set_color('none')\n",
    "\n",
    "    # ylims = ax.get_ylim()\n",
    "    # ax.set_ylim(ylims[0], np.max(ys) + ylimadj)\n",
    "    # mge_assoc_dir = output_dir + '/mge_association'\n",
    "    # if not os.path.exists(mge_assoc_dir): \n",
    "    #     os.makedirs(mge_assoc_dir)\n",
    "    #     print('Made dir:',mge_assoc_dir)\n",
    "\n",
    "    # out_bn = mge_assoc_dir + '/' + bn.format(m_h) + '_seg_nn_zscore_association_0_5um'\n",
    "    # ip.save_png_pdf(out_bn)\n",
    "\n"
   ]
  },
  {
   "cell_type": "markdown",
   "metadata": {},
   "source": [
    "## Overaly spots on classif"
   ]
  },
  {
   "cell_type": "code",
   "execution_count": null,
   "metadata": {},
   "outputs": [],
   "source": [
    "raws_mge_shift_spot_rgb = {}\n",
    "for m_h in range(nMs):\n",
    "    raw_mge_shift_spot = raws_mge_shift[m_h][:,:,1]\n",
    "\n",
    "    raw_mge_shift_spot_norm = norm(raw_mge_shift_spot, (50,250))\n",
    "    raw_mge_shift_spot_rgb = np.dstack([\n",
    "        raw_mge_shift_spot_norm,\n",
    "        np.zeros_like(raw_mge_shift_spot_norm),\n",
    "        raw_mge_shift_spot_norm,\n",
    "        raw_mge_shift_spot_norm\n",
    "    ])\n",
    "    raws_mge_shift_spot_rgb[m_h] = raw_mge_shift_spot_rgb"
   ]
  },
  {
   "cell_type": "code",
   "execution_count": null,
   "metadata": {},
   "outputs": [],
   "source": [
    "hipr_segs_res_clustrgb = {}\n",
    "for m_h in range(nMs):\n",
    "    hipr_seg_res_edge = hipr_segs_res_edge[m_h]\n",
    "    hipr_prop_res = hipr_props_res[m_h]\n",
    "    \n",
    "    # clusters_unq = np.unique(list(dicts_clust_coords[m_h].keys()))\n",
    "\n",
    "    hipr_seg_res_clustrgb = np.zeros(hipr_seg_res_edge.shape + (4,))\n",
    "    clusters_toplot = [3,5]\n",
    "    for cl in dict_clusters_unq[m_h]:\n",
    "        labels_sub = dicts_clust_lab[m_h][cl]\n",
    "        for i, row in hipr_prop_res.iterrows():\n",
    "            l = row.label\n",
    "            if l in labels_sub:\n",
    "                b = row.bbox\n",
    "                b = eval(b) if isinstance(b, str) else b\n",
    "                rgb_sub = hipr_seg_res_clustrgb[b[0]:b[2],b[1]:b[3]]\n",
    "                seg_sub = hipr_seg_res_edge[b[0]:b[2],b[1]:b[3]] == l\n",
    "                # im_sub = im_norm[b[0]:b[2],b[1]:b[3]]\n",
    "                # color = np.array([0,0,1,0.5])\n",
    "                color = np.array(dict_bc_col[cl] + (1,))\n",
    "                # rgb_noncell =  rgb_sub * np.dstack([~seg_sub]*3 + np.ones_like(seg_sub))\n",
    "                rgb_noncell =  rgb_sub * np.dstack([~seg_sub]*4)\n",
    "                # rgb_cell = (im_sub * seg_sub)[:,:,None] * color[None,:]\n",
    "                rgb_cell = seg_sub[:,:,None] * color[None,:]\n",
    "                hipr_seg_res_clustrgb[b[0]:b[2],b[1]:b[3],:] = rgb_noncell + rgb_cell\n",
    "    hipr_segs_res_clustrgb[m_h] = hipr_seg_res_clustrgb"
   ]
  },
  {
   "cell_type": "code",
   "execution_count": null,
   "metadata": {},
   "outputs": [],
   "source": [
    "mge_overlay_dir = output_dir + '/mge_overlay'\n",
    "if not os.path.exists(mge_overlay_dir): \n",
    "    os.makedirs(mge_overlay_dir)\n",
    "    print('Made dir:',mge_overlay_dir)\n",
    "\n",
    "for m_h in range(nMs):\n",
    "    fig, ax, cbar = ip.plot_image(ims_cell[m_h], cmap='gray', im_inches=imin, clims=(0,2000))\n",
    "    ax.imshow(hipr_segs_res_clustrgb[m_h])\n",
    "    ax.imshow(raws_mge_shift_spot_rgb[m_h])\n",
    "\n",
    "# plt.figure(fig)\n",
    "# out_bn = mge_overlay_dir + '/' + bn.format(m_h) + '_clusts_3_4_overlay'\n",
    "# ip.save_png_pdf(out_bn)"
   ]
  },
  {
   "cell_type": "markdown",
   "metadata": {},
   "source": [
    "Show only prevotella"
   ]
  },
  {
   "cell_type": "code",
   "execution_count": null,
   "metadata": {},
   "outputs": [],
   "source": [
    "dict_sciname_bc = dict(zip(list(dict_bc_sciname.values()),list(dict_bc_sciname.keys())))\n",
    "dict_sciname_bc"
   ]
  },
  {
   "cell_type": "code",
   "execution_count": null,
   "metadata": {},
   "outputs": [],
   "source": [
    "target_genera = ['Prevotella']\n",
    "\n",
    "hipr_segs_res_clustrgb = {}\n",
    "for m_h in range(nMs):\n",
    "    hipr_seg_res_edge = hipr_segs_res_edge[m_h]\n",
    "    hipr_prop_res = hipr_props_res[m_h]\n",
    "    \n",
    "    target_clusters = [dict_sciname_bc[sc] for sc in target_genera]\n",
    "    # clusters_unq = np.unique(list(dicts_clust_coords[m_h].keys()))\n",
    "\n",
    "    hipr_seg_res_clustrgb = np.zeros(hipr_seg_res_edge.shape + (4,))\n",
    "    clusters_toplot = [3,5]\n",
    "    for cl in target_clusters:\n",
    "        labels_sub = dicts_clust_lab[m_h][cl]\n",
    "        for i, row in hipr_prop_res.iterrows():\n",
    "            l = row.label\n",
    "            if l in labels_sub:\n",
    "                b = row.bbox\n",
    "                b = eval(b) if isinstance(b, str) else b\n",
    "                rgb_sub = hipr_seg_res_clustrgb[b[0]:b[2],b[1]:b[3]]\n",
    "                seg_sub = hipr_seg_res_edge[b[0]:b[2],b[1]:b[3]] == l\n",
    "                # im_sub = im_norm[b[0]:b[2],b[1]:b[3]]\n",
    "                # color = np.array([0,0,1,0.5])\n",
    "                color = np.array(dict_bc_col[cl] + (1,))\n",
    "                # rgb_noncell =  rgb_sub * np.dstack([~seg_sub]*3 + np.ones_like(seg_sub))\n",
    "                rgb_noncell =  rgb_sub * np.dstack([~seg_sub]*4)\n",
    "                # rgb_cell = (im_sub * seg_sub)[:,:,None] * color[None,:]\n",
    "                rgb_cell = seg_sub[:,:,None] * color[None,:]\n",
    "                hipr_seg_res_clustrgb[b[0]:b[2],b[1]:b[3],:] = rgb_noncell + rgb_cell\n",
    "    hipr_segs_res_clustrgb[m_h] = hipr_seg_res_clustrgb"
   ]
  },
  {
   "cell_type": "code",
   "execution_count": null,
   "metadata": {},
   "outputs": [],
   "source": [
    "mge_overlay_dir = output_dir + '/mge_overlay'\n",
    "if not os.path.exists(mge_overlay_dir): \n",
    "    os.makedirs(mge_overlay_dir)\n",
    "    print('Made dir:',mge_overlay_dir)\n",
    "\n",
    "for m_h in range(nMs):\n",
    "    fig, ax, cbar = ip.plot_image(ims_cell[m_h], cmap='gray', im_inches=imin, clims=(0,2000))\n",
    "    ax.imshow(hipr_segs_res_clustrgb[m_h])\n",
    "    ax.imshow(raws_mge_shift_spot_rgb[m_h])\n",
    "\n",
    "# plt.figure(fig)\n",
    "# out_bn = mge_overlay_dir + '/' + bn.format(m_h) + '_clusts_3_4_overlay'\n",
    "# ip.save_png_pdf(out_bn)"
   ]
  },
  {
   "cell_type": "code",
   "execution_count": null,
   "metadata": {},
   "outputs": [],
   "source": []
  }
 ],
 "metadata": {
  "kernelspec": {
   "display_name": "Python 3 (ipykernel)",
   "language": "python",
   "name": "python3"
  }
 },
 "nbformat": 4,
 "nbformat_minor": 2
}

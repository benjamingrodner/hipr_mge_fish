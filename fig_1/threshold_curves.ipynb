{
 "cells": [
  {
   "cell_type": "code",
   "execution_count": 2,
   "metadata": {},
   "outputs": [],
   "source": [
    "%load_ext autoreload\n",
    "%autoreload 2"
   ]
  },
  {
   "cell_type": "code",
   "execution_count": 3,
   "metadata": {},
   "outputs": [],
   "source": [
    "from tqdm import tqdm\n",
    "import sys\n",
    "sys.path.append('/fs/cbsuvlaminck2/workdir/bmg224/hiprfish/image_analysis_code')\n",
    "import image_functions as imfn\n",
    "from segmentation import Segmentation\n"
   ]
  },
  {
   "cell_type": "code",
   "execution_count": 5,
   "metadata": {},
   "outputs": [
    {
     "name": "stdout",
     "output_type": "stream",
     "text": [
      "62\n"
     ]
    }
   ],
   "source": [
    "data_dir = '../data/images'\n",
    "sample_glob = '*'\n",
    "sample_names = imfn.get_sample_names(data_dir=data_dir, sample_glob=sample_glob)\n",
    "refl = ['gfp', 'cy5']\n",
    "factors = ['method', 'plasmid', 'fov']\n",
    "\n",
    "print(len(sample_names))"
   ]
  },
  {
   "cell_type": "code",
   "execution_count": 6,
   "metadata": {},
   "outputs": [],
   "source": [
    "sys.path.append('/fs/cbsuvlaminck2/workdir/bmg224/hiprfish/utilities')\n",
    "import useful_functions_imaging as ufi"
   ]
  },
  {
   "cell_type": "code",
   "execution_count": 7,
   "metadata": {},
   "outputs": [
    {
     "data": {
      "text/plain": [
       "62"
      ]
     },
     "execution_count": 7,
     "metadata": {},
     "output_type": "execute_result"
    }
   ],
   "source": [
    "keys = ufi.get_filename_keys(sample_names, factors)\n",
    "len(keys\n",
    "   )"
   ]
  },
  {
   "cell_type": "code",
   "execution_count": 8,
   "metadata": {},
   "outputs": [
    {
     "name": "stdout",
     "output_type": "stream",
     "text": [
      "62\n"
     ]
    }
   ],
   "source": [
    "import pandas as pd\n",
    "spot_int_filenames = [data_dir + '/' + sn + '_spot_seg_cell_id.csv' for sn in sample_names]\n",
    "spot_int = [pd.read_csv(f) for f in spot_int_filenames]\n",
    "print(len(spot_int))"
   ]
  },
  {
   "cell_type": "code",
   "execution_count": 10,
   "metadata": {},
   "outputs": [
    {
     "name": "stdout",
     "output_type": "stream",
     "text": [
      "62\n"
     ]
    }
   ],
   "source": [
    "import numpy as np\n",
    "cell_seg_filenames = [data_dir + '/' + sn + '_cell_seg.npy' for sn in sample_names]\n",
    "cell_seg = [np.load(f) for f in cell_seg_filenames]\n",
    "print(len(cell_seg))"
   ]
  },
  {
   "cell_type": "code",
   "execution_count": 11,
   "metadata": {},
   "outputs": [],
   "source": [
    "cell_props_filenames = [data_dir + '/' + sn + '_cell_seg_props.csv' for sn in sample_names]\n",
    "cell_props = [pd.read_csv(f) for f in cell_props_filenames]\n"
   ]
  },
  {
   "cell_type": "code",
   "execution_count": 16,
   "metadata": {},
   "outputs": [],
   "source": [
    "from skimage.measure import regionprops\n",
    "def measure_regionprops(_seg, sample_name, fname_mod='_props'):\n",
    "    regions = regionprops(_seg)\n",
    "    region_properties = pd.DataFrame(columns = ['ID', 'X', 'Y', 'Area', 'Intensity', 'ParentCellID'])\n",
    "    for j in range(len(regions)):\n",
    "        region_properties.loc[j, 'ID'] = regions[j].label\n",
    "        region_properties.loc[j, 'X'] = regions[j].centroid[1]\n",
    "        region_properties.loc[j, 'Y'] = regions[j].centroid[0]\n",
    "        region_properties.loc[j, 'Area'] = regions[j].area\n",
    "    region_props_filename = sample_name + '_cell_seg_props.csv'\n",
    "    region_properties.to_csv(region_props_filename)\n",
    "    return region_properties\n",
    "\n",
    "cell_props = [measure_regionprops(seg, sn) for seg, sn in zip(cell_seg, sample_names)]"
   ]
  },
  {
   "cell_type": "code",
   "execution_count": 12,
   "metadata": {},
   "outputs": [
    {
     "name": "stdout",
     "output_type": "stream",
     "text": [
      "(1513, 7)\n"
     ]
    }
   ],
   "source": [
    "print(cell_props[0].shape)"
   ]
  },
  {
   "cell_type": "code",
   "execution_count": 13,
   "metadata": {},
   "outputs": [
    {
     "data": {
      "text/plain": [
       "2"
      ]
     },
     "execution_count": 13,
     "metadata": {},
     "output_type": "execute_result"
    }
   ],
   "source": [
    "from collections import defaultdict\n",
    "def group(im_seg_list, g_index):\n",
    "    im_seg_dict = defaultdict(list) \n",
    "    for im_seg in im_seg_list:\n",
    "        group = im_seg[g_index[0]][g_index[1]]\n",
    "        im_seg_dict[group].append(im_seg)\n",
    "    return im_seg_dict\n",
    "\n",
    "\n",
    "seg_list = zip(keys, spot_int, cell_props)\n",
    "im_seg_dict = group(seg_list, (0,0))\n",
    "for g0, s0 in im_seg_dict.items():\n",
    "    im_seg_dict[g0] = group(s0, (0,1))\n",
    "#     for g1, s1 in im_seg_dict[g0].items():\n",
    "#         im_seg_dict[g0][g1] = group(s1, (0,2))\n",
    "len(im_seg_dict['a'])"
   ]
  },
  {
   "cell_type": "code",
   "execution_count": 14,
   "metadata": {},
   "outputs": [
    {
     "data": {
      "text/plain": [
       "['#1f77b4',\n",
       " '#ff7f0e',\n",
       " '#2ca02c',\n",
       " '#d62728',\n",
       " '#9467bd',\n",
       " '#8c564b',\n",
       " '#e377c2',\n",
       " '#7f7f7f',\n",
       " '#bcbd22',\n",
       " '#17becf']"
      ]
     },
     "execution_count": 14,
     "metadata": {},
     "output_type": "execute_result"
    }
   ],
   "source": [
    "import matplotlib.pyplot as plt\n",
    "prop_cycle = plt.rcParams['axes.prop_cycle']\n",
    "colors = prop_cycle.by_key()['color']\n",
    "colors"
   ]
  },
  {
   "cell_type": "code",
   "execution_count": 18,
   "metadata": {},
   "outputs": [
    {
     "data": {
      "image/png": "[encoded data removed]",
      "text/plain": [
       "<Figure size 720x360 with 1 Axes>"
      ]
     },
     "metadata": {
      "needs_background": "dark"
     },
     "output_type": "display_data"
    }
   ],
   "source": [
    "import numpy as np\n",
    "from matplotlib.lines import Line2D\n",
    "\n",
    "intensities = []\n",
    "for sp in spot_int:\n",
    "    intensities += sp.Intensity.tolist()\n",
    "\n",
    "phages = ['a','b','c.1','e','h']\n",
    "times = ['h']\n",
    "control = 'c'\n",
    "dims = (10,5)\n",
    "colors = colors[0:5]\n",
    "colors_dict = dict(zip(phages,colors))\n",
    "col = 'w'\n",
    "ft = 18\n",
    "thresh_maxs = ['max','max','max','max','max']\n",
    "\n",
    "fig, ax = plt.subplots(figsize=(dims[0], dims[1]),  tight_layout={'pad': 0})\n",
    "for phage, thresh_max in zip(phages, thresh_maxs):\n",
    "    for k, sp, cp in im_seg_dict[phage]['h']:\n",
    "        cell_count_total = cp.shape[0]\n",
    "        cell_count_pos = []\n",
    "        thresh_max = np.max(intensities) if thresh_max =='max' else thresh_max\n",
    "        thresholds = np.linspace(np.min(intensities), thresh_max, 200)\n",
    "        for t in thresholds:\n",
    "            cell_count_pos.append(sp.loc[sp.Intensity >= t, 'cell_id'].unique().shape[0])\n",
    "        cell_proportion_pos = np.array(cell_count_pos)/cell_count_total\n",
    "        dcol = colors_dict[k[0]]\n",
    "        ax.plot(thresholds, cell_proportion_pos, color=dcol, lw=2)\n",
    "        ax.set_xlabel('Threshold (a.u.)', fontsize=ft, color=col)\n",
    "        ax.set_ylabel('Proportion of positive cells', fontsize=ft, color=col)\n",
    "ax.set_ylim(0,1)    \n",
    "custom_lines = [Line2D([0], [0], color=colors[0], lw=4),\n",
    "            Line2D([0], [0], color=colors[1], lw=4),\n",
    "            Line2D([0], [0], color=colors[2], lw=4),\n",
    "            Line2D([0], [0], color=colors[3], lw=4),\n",
    "            Line2D([0], [0], color=colors[4], lw=4)]\n",
    "labels = ['Single\\nProbe','Ten\\nProbes','Amplified\\nProbes','Helper\\nProbes','Split-HCR\\nProbes']\n",
    "l = ax.legend(custom_lines, labels, loc='upper right', fancybox=True, framealpha=0, )\n",
    "\n",
    "for text in l.get_texts():\n",
    "    text.set_color(col)\n",
    "    text.set_fontsize(ft*4//5)\n",
    "ax.spines['top'].set_color(col)\n",
    "ax.spines['bottom'].set_color(col)\n",
    "ax.spines['left'].set_color(col)\n",
    "ax.spines['right'].set_color(col)\n",
    "ax.tick_params(direction='in', color=col, labelcolor=col, labelsize=ft*4//5) \n",
    "\n",
    "output_filename = '../figures/threshold_curves.png'\n",
    "plt.savefig(output_filename, transparent=True, dpi=500)\n",
    "\n",
    "\n",
    "#     for k, sp, cp in im_seg_dict[phage]['h']:\n",
    "#         cell_count_total = cp.shape[0]\n",
    "#         cell_count_pos = []\n",
    "#         thresh_max = np.max(intensities) if thresh_max =='max' else thresh_max\n",
    "#         thresholds = np.linspace(np.min(intensities), thresh_max, 200)\n",
    "#         for t in thresholds:\n",
    "#             cell_count_pos.append(sp.loc[sp.Intensity >= t, 'cell_id'].unique().shape[0])\n",
    "#         cell_proportion_pos = np.array(cell_count_pos)/cell_count_total\n",
    "#         dcol = colors_dict[k[0]]\n",
    "#         ax.plot(thresholds, cell_proportion_pos, color=dcol, lw=2)\n",
    "#         ax.set_xlabel('Threshold (a.u.)', fontsize=ft, color=col)\n",
    "#         ax.set_ylabel('Proportion of positive cells', fontsize=ft, color=col)\n"
   ]
  },
  {
   "cell_type": "code",
   "execution_count": null,
   "metadata": {},
   "outputs": [],
   "source": []
  }
 ],
 "metadata": {
  "kernelspec": {
   "display_name": "Python 3",
   "language": "python",
   "name": "python3"
  },
  "language_info": {
   "codemirror_mode": {
    "name": "ipython",
    "version": 3
   },
   "file_extension": ".py",
   "mimetype": "text/x-python",
   "name": "python",
   "nbconvert_exporter": "python",
   "pygments_lexer": "ipython3",
   "version": "3.5.6"
  }
 },
 "nbformat": 4,
 "nbformat_minor": 4
}

{
 "cells": [
  {
   "cell_type": "code",
   "execution_count": 6,
   "metadata": {},
   "outputs": [
    {
     "name": "stdout",
     "output_type": "stream",
     "text": [
      "The autoreload extension is already loaded. To reload it, use:\n",
      "  %reload_ext autoreload\n"
     ]
    }
   ],
   "source": [
    "%load_ext autoreload\n",
    "%autoreload 2"
   ]
  },
  {
   "cell_type": "code",
   "execution_count": 7,
   "metadata": {},
   "outputs": [],
   "source": [
    "from tqdm import tqdm\n",
    "import sys\n",
    "sys.path.append('/fs/cbsuvlaminck2/workdir/bmg224/hiprfish/image_analysis_code')\n",
    "import image_functions as imfn\n",
    "from segmentation import Segmentation\n"
   ]
  },
  {
   "cell_type": "code",
   "execution_count": 8,
   "metadata": {},
   "outputs": [],
   "source": [
    "from image import Image"
   ]
  },
  {
   "cell_type": "code",
   "execution_count": 9,
   "metadata": {},
   "outputs": [
    {
     "name": "stdout",
     "output_type": "stream",
     "text": [
      "50\n",
      "2021_04_05_dnafishmethodchar_method_e_plasmid_pos_fov_2\n"
     ]
    }
   ],
   "source": [
    "data_dir = '/fs/cbsuvlaminck2/workdir/bmg224/data/2021/devlaminck_widefield/2021_04_05_dnafishmethodchar'\n",
    "sample_names = imfn.get_sample_names(data_dir=data_dir)\n",
    "refl = ['gfp', 'cy5']\n",
    "factors = ['method', 'plasmid','fov']\n",
    "flat_field_filename = '/fs/cbsuvlaminck2/workdir/bmg224/data/2021/devlaminck_widefield/2021_04_12_flat_field_correction_lens_100x_refl_cy5.czi'\n",
    "print(len(sample_names))\n",
    "print(sample_names[0])"
   ]
  },
  {
   "cell_type": "code",
   "execution_count": 10,
   "metadata": {},
   "outputs": [
    {
     "data": {
      "text/plain": [
       "50"
      ]
     },
     "execution_count": 10,
     "metadata": {},
     "output_type": "execute_result"
    }
   ],
   "source": [
    "keys =[imfn.get_filename_keys(sn, factors) for sn in sample_names]\n",
    "len(keys)"
   ]
  },
  {
   "cell_type": "code",
   "execution_count": null,
   "metadata": {},
   "outputs": [],
   "source": []
  },
  {
   "cell_type": "code",
   "execution_count": 11,
   "metadata": {},
   "outputs": [],
   "source": [
    "# load csvs\n",
    "import pandas as pd\n",
    "output_dir = '../image_processing'\n",
    "spot_props_filenames = [output_dir + '/' + sn + '_spot_seg_cell_id.csv' for sn in sample_names]\n",
    "spot_props = [pd.read_csv(spf) for spf in spot_props_filenames]"
   ]
  },
  {
   "cell_type": "code",
   "execution_count": 13,
   "metadata": {},
   "outputs": [],
   "source": [
    "# Get cell segmentation\n",
    "import numpy as np\n",
    "cell_seg_filename = [output_dir + '/' + sn + '_cell_seg.npy' for sn in sample_names]\n",
    "cell_seg = [np.load(csf) for csf in cell_seg_filename]"
   ]
  },
  {
   "cell_type": "code",
   "execution_count": 14,
   "metadata": {},
   "outputs": [],
   "source": [
    "# Get Raw spot images (flat field corrected)\n",
    "from image import Image\n",
    "raw_corrected = []\n",
    "for sn in sample_names:\n",
    "    im = Image(sample_name=sn, illumination_names=refl, data_dir=data_dir, \n",
    "               flat_field_filename=flat_field_filename)\n",
    "    im.pick_channel('cy5')\n",
    "    im.flat_field_correction()\n",
    "    raw_corrected.append(im.raw_2D)"
   ]
  },
  {
   "cell_type": "code",
   "execution_count": 15,
   "metadata": {},
   "outputs": [],
   "source": [
    "# Get bg pixels\n",
    "bg_pixels = [rc[cs == 0] for rc, cs in zip(raw_corrected, cell_seg)]"
   ]
  },
  {
   "cell_type": "code",
   "execution_count": 16,
   "metadata": {},
   "outputs": [
    {
     "name": "stdout",
     "output_type": "stream",
     "text": [
      "0.18716942\n"
     ]
    }
   ],
   "source": [
    "# Calculate median background pixel intensity\n",
    "mean_bg_pix_int = [np.median(bp) for bp in bg_pixels]\n",
    "print(mean_bg_pix_int[0])"
   ]
  },
  {
   "cell_type": "code",
   "execution_count": 17,
   "metadata": {},
   "outputs": [
    {
     "name": "stdout",
     "output_type": "stream",
     "text": [
      "[0.19269446 0.19675678 0.18701862]\n",
      "[0.15022989 0.15022989 0.15022989]\n"
     ]
    }
   ],
   "source": [
    "# Reset b pixel intensities as their negative controls\n",
    "sample_neg_bool = [1 if ('method_b_' in sn) and ('plasmid_neg_' in sn) else 0 for sn in sample_names]\n",
    "sample_pos_bool = [1 if ('method_b_' in sn) and ('plasmid_pos_' in sn) else 0 for sn in sample_names]\n",
    "mbpi_neg = np.array(mean_bg_pix_int)[np.where(sample_neg_bool)]\n",
    "mbpi_neg_mean = np.mean(mbpi_neg)\n",
    "mbpi_new = np.where(sample_pos_bool, mbpi_neg_mean, mean_bg_pix_int)\n",
    "\n",
    "print(np.array(mean_bg_pix_int)[np.where(sample_pos_bool)])\n",
    "print(mbpi_new[np.where(sample_pos_bool)])"
   ]
  },
  {
   "cell_type": "code",
   "execution_count": 18,
   "metadata": {},
   "outputs": [],
   "source": [
    "# Normalize spots"
   ]
  },
  {
   "cell_type": "code",
   "execution_count": 19,
   "metadata": {},
   "outputs": [],
   "source": [
    "# Norm by bg pixel intensity\n",
    "spot_props_norm = []\n",
    "mins, maxs = [],[]\n",
    "for sc, mbpi in zip(spot_props, mbpi_new):\n",
    "    scc = sc.copy()\n",
    "    scc['int_norm'] = scc['Intensity']/mbpi\n",
    "    maxs.append(scc.int_norm.max())\n",
    "    mins.append(scc.int_norm.min())\n",
    "    spot_props_norm.append(scc)"
   ]
  },
  {
   "cell_type": "code",
   "execution_count": 20,
   "metadata": {},
   "outputs": [],
   "source": [
    "# Get cell props\n",
    "cell_props_filename = [output_dir + '/' + sn + '_cell_seg_props.csv' for sn in sample_names]\n",
    "cell_props = [pd.read_csv(cpf) for cpf in cell_props_filename]"
   ]
  },
  {
   "cell_type": "code",
   "execution_count": 21,
   "metadata": {},
   "outputs": [],
   "source": [
    "# Get each cell\n",
    "cell_ids = [cp.ID.values for cp in cell_props]"
   ]
  },
  {
   "cell_type": "code",
   "execution_count": 56,
   "metadata": {},
   "outputs": [
    {
     "name": "stderr",
     "output_type": "stream",
     "text": [
      "\n",
      "0it [00:00, ?it/s]\u001b[A\n",
      "1it [00:03,  3.73s/it]\u001b[A\n",
      "2it [00:04,  2.89s/it]\u001b[A\n",
      "3it [00:06,  2.69s/it]\u001b[A\n",
      "4it [00:10,  2.85s/it]\u001b[A\n",
      "5it [00:14,  3.19s/it]\u001b[A\n",
      "6it [00:17,  3.18s/it]\u001b[A\n",
      "7it [00:19,  3.05s/it]\u001b[A\n",
      "7it [07:49, 67.00s/it]\u001b[A\n",
      "\n",
      "9it [00:27,  3.40s/it]\u001b[A\n",
      "10it [00:29,  3.12s/it]\u001b[A\n",
      "11it [00:32,  3.00s/it]\u001b[A\n",
      "12it [00:34,  2.78s/it]\u001b[A\n",
      "13it [00:38,  2.97s/it]\u001b[A\n",
      "14it [00:42,  3.36s/it]\u001b[A\n",
      "15it [00:46,  3.48s/it]\u001b[A\n",
      "16it [00:47,  2.94s/it]\u001b[A\n",
      "17it [00:50,  2.76s/it]\u001b[A\n",
      "18it [00:51,  2.43s/it]\u001b[A\n",
      "19it [00:54,  2.42s/it]\u001b[A\n",
      "20it [00:57,  2.70s/it]\u001b[A\n",
      "21it [01:00,  2.78s/it]\u001b[A\n",
      "22it [01:02,  2.60s/it]\u001b[A\n",
      "23it [01:05,  2.52s/it]\u001b[A\n",
      "24it [01:07,  2.49s/it]\u001b[A\n",
      "25it [01:08,  2.06s/it]\u001b[A\n",
      "26it [01:12,  2.58s/it]\u001b[A\n",
      "27it [01:16,  3.05s/it]\u001b[A\n",
      "28it [01:19,  3.17s/it]\u001b[A\n",
      "29it [01:23,  3.32s/it]\u001b[A\n",
      "30it [01:27,  3.55s/it]\u001b[A\n",
      "31it [01:30,  3.26s/it]\u001b[A\n",
      "32it [01:33,  3.29s/it]\u001b[A\n",
      "33it [01:35,  2.75s/it]\u001b[A\n",
      "34it [01:36,  2.21s/it]\u001b[A\n",
      "35it [01:40,  2.77s/it]\u001b[A\n",
      "36it [01:41,  2.24s/it]\u001b[A\n",
      "37it [01:45,  2.75s/it]\u001b[A\n",
      "38it [01:46,  2.32s/it]\u001b[A\n",
      "39it [01:50,  2.77s/it]\u001b[A\n",
      "40it [01:52,  2.56s/it]\u001b[A\n",
      "41it [01:54,  2.55s/it]\u001b[A\n",
      "42it [01:57,  2.64s/it]\u001b[A\n",
      "43it [02:01,  2.96s/it]\u001b[A\n",
      "44it [02:04,  3.05s/it]\u001b[A\n",
      "45it [02:09,  3.52s/it]\u001b[A\n",
      "46it [02:12,  3.38s/it]\u001b[A\n",
      "47it [02:14,  2.95s/it]\u001b[A\n",
      "48it [02:17,  3.06s/it]\u001b[A\n",
      "49it [02:21,  3.21s/it]\u001b[A\n",
      "50it [02:23,  2.88s/it]\u001b[A\n"
     ]
    }
   ],
   "source": [
    "# Get all spots in cell\n",
    "cell_spot_ints = [[sp.loc[sp.cell_id == cell, 'int_norm'].values.tolist()\n",
    "                   if sp[sp.cell_id == cell].shape[0] > 0 else [0] for cell in c_ids]\n",
    "                  for sp, c_ids in tqdm(zip(spot_props_norm, cell_ids))] \n"
   ]
  },
  {
   "cell_type": "code",
   "execution_count": 57,
   "metadata": {},
   "outputs": [],
   "source": [
    "# Get brightest spot in cell\n",
    "max_ints = [[np.max(cell) for cell in csi] for csi in cell_spot_ints]"
   ]
  },
  {
   "cell_type": "code",
   "execution_count": 58,
   "metadata": {},
   "outputs": [],
   "source": [
    "# Get values into a dictionary\n",
    "max_int_dict = imfn.get_nested_dict(keys, max_ints, (0,1,2))"
   ]
  },
  {
   "cell_type": "code",
   "execution_count": 63,
   "metadata": {},
   "outputs": [],
   "source": [
    "# Set up ordered lists of factors\n",
    "I = ['a','b','c','d','e','f','g','h']\n",
    "J = ['neg','pos']\n",
    "K = ['1','2','3']"
   ]
  },
  {
   "cell_type": "code",
   "execution_count": 64,
   "metadata": {},
   "outputs": [],
   "source": [
    "# Make plot dictionary\n",
    "plot_dict = {}\n",
    "for i in I:\n",
    "    plot_dict[i] = {}\n",
    "    for j in J:\n",
    "        max_int_list = []\n",
    "        for k in K:\n",
    "            max_int_list += max_int_dict[i][j][k][0][1]\n",
    "        plot_dict[i][j] = max_int_list\n"
   ]
  },
  {
   "cell_type": "code",
   "execution_count": 80,
   "metadata": {},
   "outputs": [],
   "source": [
    "# plot parameters\n",
    "import image_plots as ip\n",
    "import numpy as np\n",
    "import matplotlib.pyplot as plt\n",
    "\n",
    "fig_dir = '../figures'\n",
    "\n",
    "# col = 'w'\n",
    "# dims = (10,5)\n",
    "# lw = 1\n",
    "# ft = 20\n",
    "# jit = 0.15\n",
    "# ylims = (0,25)\n",
    "# transparency = 0.8\n",
    "# dot_factor = 0.5\n",
    "\n",
    "col = 'k'\n",
    "lw = 1\n",
    "ft = 5\n",
    "dims = (0.9843 ,0.5906)\n",
    "jit = 0.1\n",
    "transparency = 0.6\n",
    "dot_factor = 0.5\n",
    "\n",
    "colors = plt.rcParams['axes.prop_cycle'].by_key()['color']\n",
    "\n",
    "\n",
    "xticklabels = ['Control','Positive']\n",
    "line_colors = [colors[0], colors[1]]"
   ]
  },
  {
   "cell_type": "code",
   "execution_count": 82,
   "metadata": {},
   "outputs": [
    {
     "name": "stdout",
     "output_type": "stream",
     "text": [
      "method:  a\n",
      "method:  b\n",
      "method:  c\n",
      "method:  d\n",
      "method:  e\n",
      "method:  f\n",
      "method:  g\n",
      "method:  h\n"
     ]
    }
   ],
   "source": [
    "# Plot brightest spot in cell\n",
    "# Generate PLots\n",
    "\n",
    "for i in I:\n",
    "    print('method: ', i)\n",
    "    fig, ax = ip.general_plot(col=col, dims=dims, ft=ft, lw=lw)\n",
    "    xticks = ip.get_xticks(J)\n",
    "    ax.set_xticks(xticks)\n",
    "    ax.set_xticklabels(xticklabels)\n",
    "    # Plot one for each control\n",
    "    max_ints = []\n",
    "    for j, lc, xt in zip(J, line_colors, xticks):\n",
    "        max_ints = [plot_dict[i][j]]\n",
    "        ip.violin_dot_plot(ax, values=max_ints, positions=[xt], \n",
    "                           jit=jit, col=col, line_col=lc, bw=0.5,\n",
    "                          dot_factor=dot_factor, transparency=transparency,\n",
    "                          ft=ft)\n",
    "             \n",
    "#     ax.set_xlim((0.5,3))\n",
    "    ax.set_ylim(-0.3, 7)\n",
    "    ax.tick_params(labelleft=False, left=True, direction='in', labelsize=ft, color=col, labelcolor=col, length=lw*2)\n",
    "    ax.tick_params(labelbottom=False, bottom=True, direction='in', labelsize=ft, color=col, labelcolor=col, length=lw*2)\n",
    "    if i == 'g':\n",
    "        ax.tick_params(labelbottom=True, bottom=True, direction='in', labelsize=ft, color=col, labelcolor=col, length=lw*2)\n",
    "    filename = fig_dir + '/cell_max_int_method_' + i + '.pdf'\n",
    "#     ip.plt.show()\n",
    "    ip.plt.savefig(filename, transparent=True)\n",
    "    ip.plt.close()"
   ]
  },
  {
   "cell_type": "code",
   "execution_count": null,
   "metadata": {},
   "outputs": [],
   "source": [
    "# Plot spot Count per cell"
   ]
  },
  {
   "cell_type": "code",
   "execution_count": 83,
   "metadata": {},
   "outputs": [],
   "source": [
    "# get spot props csvs\n",
    "spot_props_filenames = [output_dir + '/' + sn + '_spot_seg_props_filtered.csv' \n",
    "                        for sn in sample_names]\n",
    "spot_props_filtered = [pd.read_csv(spf) for spf in spot_props_filenames]"
   ]
  },
  {
   "cell_type": "code",
   "execution_count": 84,
   "metadata": {},
   "outputs": [],
   "source": [
    "# Get cell props\n",
    "cell_props_filename = [output_dir + '/' + sn + '_cell_seg_props.csv' for sn in sample_names]\n",
    "cell_props = [pd.read_csv(cpf) for cpf in cell_props_filename]"
   ]
  },
  {
   "cell_type": "code",
   "execution_count": 85,
   "metadata": {},
   "outputs": [],
   "source": [
    "# Get each cell\n",
    "cell_ids = [cp.ID.values for cp in cell_props]"
   ]
  },
  {
   "cell_type": "code",
   "execution_count": 86,
   "metadata": {},
   "outputs": [
    {
     "name": "stderr",
     "output_type": "stream",
     "text": [
      "50it [01:43,  2.06s/it]\n"
     ]
    }
   ],
   "source": [
    "# Get values\n",
    "cell_counts = [[sp[sp.cell_id == cell].shape[0]\n",
    "                for cell in c_ids]\n",
    "               for sp, c_ids in tqdm(zip(spot_props_filtered, cell_ids))] "
   ]
  },
  {
   "cell_type": "code",
   "execution_count": 87,
   "metadata": {},
   "outputs": [],
   "source": [
    "# Put values in a dictionary\n",
    "cell_count_dict = imfn.get_nested_dict(keys, cell_counts, (0,1,2))"
   ]
  },
  {
   "cell_type": "code",
   "execution_count": 88,
   "metadata": {},
   "outputs": [],
   "source": [
    "# Combine FOV values to make a plot dictionary of values\n",
    "plot_dict_count = {}\n",
    "for i in I:\n",
    "    plot_dict_count[i] = {}\n",
    "    for j in J:\n",
    "        count_list = []\n",
    "        for k in K:\n",
    "            count_list += cell_count_dict[i][j][k][0][1]\n",
    "        plot_dict_count[i][j] = count_list"
   ]
  },
  {
   "cell_type": "code",
   "execution_count": 100,
   "metadata": {},
   "outputs": [],
   "source": [
    "# plot parameters\n",
    "import image_plots as ip\n",
    "import numpy as np\n",
    "import matplotlib.pyplot as plt\n",
    "\n",
    "fig_dir = '../figures'\n",
    "\n",
    "# col = 'w'\n",
    "# dims = (10,5)\n",
    "# lw = 1\n",
    "# ft = 20\n",
    "# jit = 0.15\n",
    "# ylims = (0,25)\n",
    "# transparency = 0.8\n",
    "# dot_factor = 0.5\n",
    "# y_jit=0.1\n",
    "\n",
    "col = 'k'\n",
    "lw = 1\n",
    "ft = 5\n",
    "dims = (0.9843 ,0.5906)\n",
    "jit = 0.1\n",
    "transparency = 0.6\n",
    "# dot_factor = 0.5\n",
    "y_jit=0.1\n",
    "\n",
    "colors = plt.rcParams['axes.prop_cycle'].by_key()['color']\n",
    "\n",
    "\n",
    "xticklabels = ['Control','Positive']\n",
    "line_colors = [colors[0], colors[1]]"
   ]
  },
  {
   "cell_type": "code",
   "execution_count": 101,
   "metadata": {},
   "outputs": [
    {
     "name": "stdout",
     "output_type": "stream",
     "text": [
      "method:  a\n",
      "method:  b\n",
      "method:  c\n",
      "method:  d\n",
      "method:  e\n",
      "method:  f\n",
      "method:  g\n",
      "method:  h\n"
     ]
    }
   ],
   "source": [
    "# Plot figure\n",
    "# Plot brightest spot in cell\n",
    "# Generate PLots\n",
    "\n",
    "for i in I:\n",
    "    print('method: ', i)\n",
    "    fig, ax = ip.general_plot(col=col, dims=dims, ft=ft, lw=lw)\n",
    "    xticks = ip.get_xticks(J)\n",
    "    ax.set_xticks(xticks)\n",
    "    ax.set_xticklabels(xticklabels)\n",
    "    # Plot one for each control\n",
    "    max_ints = []\n",
    "    for j, lc, xt in zip(J, line_colors, xticks):\n",
    "        counts = [plot_dict_count[i][j]]\n",
    "        ip.violin_dot_plot(ax, values=counts, positions=[xt], \n",
    "                           jit=jit, y_jit=y_jit, col=col, line_col=lc, bw=0.5,\n",
    "                          dot_factor=dot_factor, transparency=transparency,\n",
    "                          ft=ft)\n",
    "             \n",
    "#     ax.set_xlim((0.5,3))\n",
    "    ax.set_ylim(-0.3, 10)\n",
    "    ax.tick_params(labelleft=True, left=True, direction='in', labelsize=ft, color=col, labelcolor=col, length=lw*2)\n",
    "    ax.tick_params(labelbottom=False, bottom=True, direction='in', labelsize=ft, color=col, labelcolor=col, length=lw*2)\n",
    "    if i == 'g':\n",
    "        ax.tick_params(labelbottom=True, bottom=True, direction='in', labelsize=ft, color=col, labelcolor=col, length=lw*2)\n",
    "    filename = fig_dir + '/cell_spot_counts_method_' + i + '.pdf'\n",
    "#     ip.plt.show()\n",
    "    ip.plt.savefig(filename, transparent=True)\n",
    "    ip.plt.close()"
   ]
  },
  {
   "cell_type": "code",
   "execution_count": null,
   "metadata": {},
   "outputs": [],
   "source": []
  },
  {
   "cell_type": "code",
   "execution_count": null,
   "metadata": {},
   "outputs": [],
   "source": [
    "# Plot pixel intensity histograms"
   ]
  },
  {
   "cell_type": "code",
   "execution_count": 108,
   "metadata": {},
   "outputs": [],
   "source": [
    "from numba import njit"
   ]
  },
  {
   "cell_type": "code",
   "execution_count": 120,
   "metadata": {},
   "outputs": [],
   "source": [
    "# Get pixels for each cell\n",
    "@njit\n",
    "def get_cell_pixels(cell_ids, seg, raw):\n",
    "    cell_max_pix = []\n",
    "    for cid in cell_ids:\n",
    "        mask = seg == cid\n",
    "        pix = raw*mask\n",
    "        cell_max_pix.append(np.max(pix))\n",
    "    return cell_max_pix"
   ]
  },
  {
   "cell_type": "code",
   "execution_count": 121,
   "metadata": {},
   "outputs": [
    {
     "name": "stderr",
     "output_type": "stream",
     "text": [
      "  0%|          | 0/50 [00:00<?, ?it/s]"
     ]
    },
    {
     "name": "stdout",
     "output_type": "stream",
     "text": [
      "a\n"
     ]
    },
    {
     "name": "stderr",
     "output_type": "stream",
     "text": [
      "100%|██████████| 50/50 [28:48<00:00, 34.57s/it]\n"
     ]
    }
   ],
   "source": [
    "cell_max_pixels = []\n",
    "i=0\n",
    "for seg, props, raw, mbpi in zip(cell_seg, cell_props, raw_corrected, mbpi_new):\n",
    "    i+=1\n",
    "    print(i)    \n",
    "    cell_ids = props.ID.values\n",
    "    raw_norm = raw/mbpi\n",
    "    cell_max_pix = get_cell_pixels(cell_ids=cell_ids, seg=seg, raw=raw_norm)\n",
    "    cell_max_pixels.append(cell_max_pix)\n"
   ]
  },
  {
   "cell_type": "code",
   "execution_count": 317,
   "metadata": {},
   "outputs": [],
   "source": [
    "# Norm pixels to bg pixel intensity\n",
    "cell_pixels_norm = [{cid:np.array(pix)/mbpi for cid, pix in cell_pix.items()} \n",
    "                    for cell_pix, mbpi in zip(cell_pixels, mbpi_new)]"
   ]
  },
  {
   "cell_type": "code",
   "execution_count": null,
   "metadata": {},
   "outputs": [],
   "source": [
    "# Get max pixel in each cell\n",
    "cell_pixels_max = [[np.max(pix) for cid, pix in cell_pix_norm.items()] \n",
    "                   for cell_pix_norm in tqdm(cell_pixels_norm)]"
   ]
  },
  {
   "cell_type": "code",
   "execution_count": null,
   "metadata": {},
   "outputs": [],
   "source": [
    "# Generate dictionary of histograms\n",
    "cell_pix_dict = imfn.get_nested_dict(keys, cell_max_pixels, [0,1,2])"
   ]
  },
  {
   "cell_type": "code",
   "execution_count": null,
   "metadata": {},
   "outputs": [],
   "source": [
    "# Set up ordered lists of factors\n",
    "I = ['a','b','c','d','e','f','g','h']\n",
    "J = ['pos','neg']\n",
    "K = ['1','2','3']"
   ]
  },
  {
   "cell_type": "code",
   "execution_count": null,
   "metadata": {},
   "outputs": [],
   "source": [
    "# Calculate the mean and stdev between fields of view for each set of factors\n",
    "# Generate a dictionary of mean and stdev values\n",
    "plot_dict = {}\n",
    "for i in I:\n",
    "    plot_dict[i] = {}\n",
    "    for j in J:\n",
    "        max_pix = []\n",
    "        for k in K:\n",
    "            max_pix += [cell_pix_dict[i][j][k][0][1] for k in K]\n",
    "        plot_dict[i][j] = max_pix"
   ]
  },
  {
   "cell_type": "code",
   "execution_count": null,
   "metadata": {},
   "outputs": [],
   "source": [
    "# plot parameters\n",
    "import image_plots as ip\n",
    "import numpy as np\n",
    "import matplotlib.pyplot as plt\n",
    "\n",
    "fig_dir = '../figures'\n",
    "\n",
    "col = 'w'\n",
    "dims = (10,5)\n",
    "lw = 1\n",
    "ft = 20\n",
    "jit = 0.15\n",
    "ylims = (0,25)\n",
    "transparency = 0.8\n",
    "dot_factor = 0.5\n",
    "\n",
    "# col = 'k'\n",
    "# lw = 1\n",
    "# ft = 5\n",
    "# dims = (0.9843 ,0.5906)\n",
    "# jit = 0.1\n",
    "# transparency = 0.6\n",
    "# dot_factor = 0.5\n",
    "\n",
    "colors = plt.rcParams['axes.prop_cycle'].by_key()['color']\n",
    "\n",
    "\n",
    "xticklabels = ['Control','Positive']\n",
    "line_colors = [colors[0], colors[1]]"
   ]
  },
  {
   "cell_type": "code",
   "execution_count": null,
   "metadata": {},
   "outputs": [],
   "source": [
    "# Plot brightest spot in cell\n",
    "# Generate PLots\n",
    "\n",
    "for i in I:\n",
    "    print('method: ', i)\n",
    "    fig, ax = ip.general_plot(col=col, dims=dims, ft=ft, lw=lw)\n",
    "    xticks = ip.get_xticks(J)\n",
    "    ax.set_xticks(xticks)\n",
    "    ax.set_xticklabels(xticklabels)\n",
    "    # Plot one for each control\n",
    "    max_ints = []\n",
    "    for j, lc, xt in zip(J, line_colors, xticks):\n",
    "        max_ints = [plot_dict[i][j]]\n",
    "        ip.violin_dot_plot(ax, values=max_ints, positions=[xt], \n",
    "                           jit=jit, col=col, line_col=lc, bw=0.5,\n",
    "                          dot_factor=dot_factor, transparency=transparency,\n",
    "                          ft=ft)\n",
    "             \n",
    "#     ax.set_xlim((0.5,3))\n",
    "    ax.set_ylim(-0.3, 7)\n",
    "    ax.tick_params(labelleft=False, left=True, direction='in', labelsize=ft, color=col, labelcolor=col, length=lw*2)\n",
    "    ax.tick_params(labelbottom=False, bottom=True, direction='in', labelsize=ft, color=col, labelcolor=col, length=lw*2)\n",
    "    if i == 'g':\n",
    "        ax.tick_params(labelbottom=True, bottom=True, direction='in', labelsize=ft, color=col, labelcolor=col, length=lw*2)\n",
    "    filename = fig_dir + '/cell_max_pix_method_' + i + '.pdf'\n",
    "    ip.plt.show()\n",
    "#     ip.plt.savefig(filename, transparent=True)\n",
    "    ip.plt.close()"
   ]
  },
  {
   "cell_type": "code",
   "execution_count": null,
   "metadata": {},
   "outputs": [],
   "source": []
  }
 ],
 "metadata": {
  "kernelspec": {
   "display_name": "Python 3",
   "language": "python",
   "name": "python3"
  },
  "language_info": {
   "codemirror_mode": {
    "name": "ipython",
    "version": 3
   },
   "file_extension": ".py",
   "mimetype": "text/x-python",
   "name": "python",
   "nbconvert_exporter": "python",
   "pygments_lexer": "ipython3",
   "version": "3.5.6"
  }
 },
 "nbformat": 4,
 "nbformat_minor": 4
}

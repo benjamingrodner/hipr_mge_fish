{
 "cells": [
  {
   "cell_type": "code",
   "execution_count": 1,
   "metadata": {},
   "outputs": [],
   "source": [
    "%load_ext autoreload\n",
    "%autoreload 2"
   ]
  },
  {
   "cell_type": "code",
   "execution_count": 2,
   "metadata": {},
   "outputs": [],
   "source": [
    "from tqdm import tqdm\n",
    "import sys\n",
    "sys.path.append('/fs/cbsuvlaminck2/workdir/bmg224/hiprfish/image_analysis_code')\n",
    "import image_functions as imfn\n",
    "# from segmentation import Segmentation\n"
   ]
  },
  {
   "cell_type": "code",
   "execution_count": 4,
   "metadata": {},
   "outputs": [],
   "source": [
    "# from image import Image"
   ]
  },
  {
   "cell_type": "code",
   "execution_count": 3,
   "metadata": {},
   "outputs": [
    {
     "name": "stdout",
     "output_type": "stream",
     "text": [
      "47\n",
      "2021_06_02_plasmidairyscan_exp_040421_method_f_plasmid_neg_fov_tile1_Airyscan_Processing_Stitch\n"
     ]
    }
   ],
   "source": [
    "cluster_path = '/fs/cbsuvlaminck2/'\n",
    "\n",
    "# data_dir = cluster_path + '/workdir/bmg224/data/2021/devlaminck_widefield/2021_04_05_dnafishmethodchar'\n",
    "out_dir = '../image_processing'\n",
    "sample_names = imfn.get_sample_names(data_dir=out_dir, sample_glob='*Stitch', ext='.npy')\n",
    "refl = ['gfp', 'cy5']\n",
    "factors = ['exp','method', 'plasmid','fov']\n",
    "flat_field_filename = ''\n",
    "# flat_field_filename = '/fs/cbsuvlaminck2/workdir/bmg224/data/2021/devlaminck_widefield/2021_04_12_flat_field_correction_lens_100x_refl_cy5.czi'\n",
    "print(len(sample_names))\n",
    "print(sample_names[0])"
   ]
  },
  {
   "cell_type": "code",
   "execution_count": 4,
   "metadata": {},
   "outputs": [
    {
     "data": {
      "text/plain": [
       "47"
      ]
     },
     "execution_count": 4,
     "metadata": {},
     "output_type": "execute_result"
    }
   ],
   "source": [
    "keys =[imfn.get_filename_keys(sn, factors) for sn in sample_names]\n",
    "len(keys)"
   ]
  },
  {
   "cell_type": "code",
   "execution_count": 5,
   "metadata": {},
   "outputs": [
    {
     "data": {
      "text/plain": [
       "['040421', 'f', 'neg', 'tile1']"
      ]
     },
     "execution_count": 5,
     "metadata": {},
     "output_type": "execute_result"
    }
   ],
   "source": [
    "keys[0]"
   ]
  },
  {
   "cell_type": "code",
   "execution_count": 10,
   "metadata": {},
   "outputs": [],
   "source": [
    "import numpy as np\n",
    "import os"
   ]
  },
  {
   "cell_type": "code",
   "execution_count": null,
   "metadata": {},
   "outputs": [
    {
     "name": "stderr",
     "output_type": "stream",
     "text": [
      " 98%|█████████▊| 46/47 [00:18<00:00,  2.99it/s]"
     ]
    }
   ],
   "source": [
    "# Get segs and raws\n",
    "spot_segs, spot_raws, cell_segs, cell_raws = [],[],[],[]\n",
    "for sn in tqdm(sample_names):\n",
    "    ss, sr, cs, cr = [],[],[],[]\n",
    "    spot_split_folder = out_dir + '/' + sn + '_spot_seg_split'\n",
    "    cell_split_folder = out_dir + '/' + sn + '_cell_seg_split'\n",
    "    spot_split_fns = imfn.get_sample_names(data_dir=spot_split_folder, sample_glob='*col_[012]', ext='.npy')\n",
    "    cell_split_fns = imfn.get_sample_names(data_dir=cell_split_folder, sample_glob='*col_[012]', ext='.npy')\n",
    "    spot_split_fns = [spot_split_folder + '/' + i for i in spot_split_fns]\n",
    "    cell_split_fns = [cell_split_folder + '/' + i for i in cell_split_fns]\n",
    "    # for each split file\n",
    "    for sfn, cfn in zip(spot_split_fns, cell_split_fns):\n",
    "        ss_fn = sfn + '_seg.npy'\n",
    "        sr_fn = sfn + '.npy'\n",
    "        cs_fn = cfn + '_seg.npy'\n",
    "        cr_fn = cfn + '.npy'\n",
    "        # Load cell and spot numpy segs and raw\n",
    "        ss.append(np.load(ss_fn))\n",
    "        cs.append(np.load(cs_fn))\n",
    "        sr.append(np.load(sr_fn))\n",
    "        cr.append(np.load(cr_fn))\n",
    "    spot_segs.append(ss)\n",
    "    spot_raws.append(sr)\n",
    "    cell_segs.append(cs)\n",
    "    cell_raws.append(cr)\n",
    "    "
   ]
  },
  {
   "cell_type": "code",
   "execution_count": 8,
   "metadata": {},
   "outputs": [],
   "source": [
    "# Get cell segmentation\n",
    "import numpy as np\n",
    "output_dir = '../image_processing'\n",
    "cell_seg_filename = [output_dir + '/' + sn + '_cell_seg.npy' for sn in sample_names]\n",
    "cell_seg = [np.load(csf) for csf in cell_seg_filename]"
   ]
  },
  {
   "cell_type": "code",
   "execution_count": 9,
   "metadata": {},
   "outputs": [],
   "source": [
    "# Get Raw spot images (flat field corrected)\n",
    "from image import Image\n",
    "raw_corrected = []\n",
    "for sn in sample_names:\n",
    "    im = Image(sample_name=sn, illumination_names=refl, data_dir=data_dir, \n",
    "               flat_field_filename=flat_field_filename)\n",
    "    im.pick_channel('cy5')\n",
    "    im.flat_field_correction()\n",
    "    raw_corrected.append(im.raw_2D)"
   ]
  },
  {
   "cell_type": "code",
   "execution_count": 10,
   "metadata": {},
   "outputs": [],
   "source": [
    "# Get bg pixels\n",
    "bg_pixels = [rc[cs == 0] for rc, cs in zip(raw_corrected, cell_seg)]"
   ]
  },
  {
   "cell_type": "code",
   "execution_count": 11,
   "metadata": {},
   "outputs": [
    {
     "name": "stdout",
     "output_type": "stream",
     "text": [
      "0.15383656\n"
     ]
    }
   ],
   "source": [
    "# Calculate median background pixel intensity\n",
    "mean_bg_pix_int = [np.median(bp) for bp in bg_pixels]\n",
    "print(mean_bg_pix_int[0])"
   ]
  },
  {
   "cell_type": "code",
   "execution_count": 12,
   "metadata": {},
   "outputs": [],
   "source": [
    "# load csvs\n",
    "import pandas as pd\n",
    "spot_props_filenames = [output_dir + '/' + sn + '_spot_seg_cell_id.csv' for sn in sample_names]\n",
    "spot_props = [pd.read_csv(spf) for spf in spot_props_filenames]"
   ]
  },
  {
   "cell_type": "code",
   "execution_count": 13,
   "metadata": {},
   "outputs": [],
   "source": [
    "# filter spots not in cells\n",
    "spot_props_cell = [sp[sp.cell_id != 0] for sp in spot_props]"
   ]
  },
  {
   "cell_type": "code",
   "execution_count": 14,
   "metadata": {},
   "outputs": [],
   "source": [
    "# Norm by bg pixel intensity\n",
    "spot_props_norm = []\n",
    "mins, maxs = [],[]\n",
    "for sc, mbpi in zip(spot_props_cell, mean_bg_pix_int):\n",
    "# for sc, mbpi in zip(spot_props, mbpi_new):\n",
    "    scc = sc.copy()\n",
    "    scc['int_norm'] = scc['Intensity']/mbpi\n",
    "    maxs.append(scc.int_norm.max())\n",
    "    mins.append(scc.int_norm.min())\n",
    "    spot_props_norm.append(scc)"
   ]
  },
  {
   "cell_type": "code",
   "execution_count": 15,
   "metadata": {},
   "outputs": [],
   "source": [
    "# Generate histograms\n",
    "\n",
    "hists = []\n",
    "rnge = (0, np.max(maxs))\n",
    "for sp in spot_props_norm:\n",
    "    values = sp.int_norm.values\n",
    "    y, bin_edges = np.histogram(values, range=rnge, bins=100)\n",
    "    hists.append(y)\n",
    "\n",
    "# hists = []\n",
    "# rnge = (0, 1)\n",
    "# for sp in spot_props_cell:\n",
    "#     values = sp.Intensity.values\n",
    "#     y, bin_edges = np.histogram(values, range=rnge, bins=100)\n",
    "#     hists.append(y)\n",
    "    \n",
    "intensity_values = 0.5*(bin_edges[1:]+bin_edges[:-1])"
   ]
  },
  {
   "cell_type": "code",
   "execution_count": 16,
   "metadata": {},
   "outputs": [],
   "source": [
    "# Generate dictionary of histograms\n",
    "hist_dict = imfn.get_nested_dict(keys, hists, [0,1,2])"
   ]
  },
  {
   "cell_type": "code",
   "execution_count": 27,
   "metadata": {},
   "outputs": [],
   "source": [
    "# Set up ordered lists of factors\n",
    "I = ['b','c','g']\n",
    "J = ['pos','neg']\n",
    "K = ['1','2','3']"
   ]
  },
  {
   "cell_type": "code",
   "execution_count": 28,
   "metadata": {},
   "outputs": [],
   "source": [
    "# Calculate the mean and stdev between fields of view for each set of factors\n",
    "# Generate a dictionary of mean and stdev values\n",
    "plot_dict = {}\n",
    "for i in I:\n",
    "    plot_dict[i] = {}\n",
    "    for j in J:\n",
    "        for k in K:\n",
    "            hist_list = [hist_dict[i][j][k][0][1] for k in K]\n",
    "        hist_stack = np.vstack(hist_list)\n",
    "        means = np.mean(hist_stack, axis=0)\n",
    "        stdevs = np.std(hist_stack, axis=0)\n",
    "        plot_dict[i][j] = (means, stdevs)"
   ]
  },
  {
   "cell_type": "code",
   "execution_count": 29,
   "metadata": {},
   "outputs": [],
   "source": [
    "# # By FOV\n",
    "# plot_dict = {}\n",
    "# for i in I:\n",
    "#     plot_dict[i] = {}\n",
    "#     for j in J:\n",
    "#         plot_dict[i][j] = {}\n",
    "#         for k in K:\n",
    "#             plot_dict[i][j][k] = hist_dict[i][j][k][0][1]\n"
   ]
  },
  {
   "cell_type": "code",
   "execution_count": 40,
   "metadata": {},
   "outputs": [],
   "source": [
    "# plot parameters\n",
    "import image_plots as ip\n",
    "import numpy as np\n",
    "import matplotlib.pyplot as plt\n",
    "\n",
    "fig_dir = '../figures'\n",
    "\n",
    "# col = 'w'\n",
    "# dims = (10,5)\n",
    "# lw = 4\n",
    "# ft = 20\n",
    "# save=False\n",
    "# labelbottom=True\n",
    "\n",
    "col = 'k'\n",
    "lw = 1\n",
    "ft = 5\n",
    "dims = (0.9843 ,0.5906)\n",
    "save=True\n",
    "labelbottom=False\n",
    "\n",
    "# colors = plt.rcParams['axes.prop_cycle'].by_key()['color']\n"
   ]
  },
  {
   "cell_type": "code",
   "execution_count": 42,
   "metadata": {},
   "outputs": [
    {
     "name": "stdout",
     "output_type": "stream",
     "text": [
      "method:  b\n",
      "method:  c\n",
      "method:  g\n"
     ]
    },
    {
     "name": "stderr",
     "output_type": "stream",
     "text": [
      "/home/bmg224/miniconda3/envs/hiprfish_imaging/lib/python3.5/site-packages/ipykernel_launcher.py:15: RuntimeWarning: invalid value encountered in log10\n",
      "  from ipykernel import kernelapp as app\n"
     ]
    }
   ],
   "source": [
    "# Generate PLots\n",
    "for i in I:\n",
    "    print('method: ', i)\n",
    "    fig, ax = ip.general_plot(col=col, dims=dims, lw=lw)\n",
    "    # Plot one line for each control\n",
    "    line_styles = ['-',':']\n",
    "    legend_labels = ['Postitive','Negative']\n",
    "    line_colors = [colors[1],colors[0]]\n",
    "    for j, ls, ll, lc in zip(J, line_styles, legend_labels, line_colors):\n",
    "#         for k in K:\n",
    "#             means = hist_dict[i][j][k][0][1]\n",
    "        \n",
    "        means, stdevs = plot_dict[i][j]\n",
    "        ax.plot(intensity_values, np.log10(means+1), linestyle=ls, lw=lw*0.5, label=ll, c=lc)\n",
    "        ax.fill_between(intensity_values, np.log10(means-stdevs+1),np.log10(means + stdevs+1), color=lc, alpha=0.5)\n",
    "#         ax.plot(intensity_values, means, linestyle=ls, lw=lw*0.5, label=ll, c=lc)\n",
    "#         ax.fill_between(intensity_values, means-stdevs, means + stdevs, color=lc, alpha=0.5)\n",
    "#         for k in K:\n",
    "#             means = plot_dict[i][j][k]\n",
    "#             ax.plot(intensity_values, means, linestyle=ls, lw=lw*0.5, label=ll, c=lc)\n",
    "\n",
    "    if i == 'a':\n",
    "        ax.legend(fontsize=ft)\n",
    "             \n",
    "#     ax.set_xlim((0.5,3))\n",
    "    ax.set_ylim(-0.3, 4)\n",
    "    ax.set_yticks([1,2,3])\n",
    "    ax.tick_params(labelbottom=labelbottom, bottom=True, direction='in', labelsize=ft, color=col, labelcolor=col, length=lw*2)\n",
    "#     if i == 'g':\n",
    "#         ax.tick_params(labelbottom=True, bottom=True, direction='in', labelsize=ft, color=col, labelcolor=col, length=lw*2)\n",
    "    filename = fig_dir + '/spot_int_histogram_method_' + i + '.pdf'\n",
    "    if save:\n",
    "        ip.plt.savefig(filename, transparent=True)\n",
    "    else:\n",
    "        ip.plt.show()\n",
    "    ip.plt.close()\n"
   ]
  },
  {
   "cell_type": "code",
   "execution_count": null,
   "metadata": {},
   "outputs": [],
   "source": []
  },
  {
   "cell_type": "code",
   "execution_count": null,
   "metadata": {},
   "outputs": [],
   "source": []
  }
 ],
 "metadata": {
  "kernelspec": {
   "display_name": "Python 3",
   "language": "python",
   "name": "python3"
  },
  "language_info": {
   "codemirror_mode": {
    "name": "ipython",
    "version": 3
   },
   "file_extension": ".py",
   "mimetype": "text/x-python",
   "name": "python",
   "nbconvert_exporter": "python",
   "pygments_lexer": "ipython3",
   "version": "3.5.6"
  }
 },
 "nbformat": 4,
 "nbformat_minor": 4
}

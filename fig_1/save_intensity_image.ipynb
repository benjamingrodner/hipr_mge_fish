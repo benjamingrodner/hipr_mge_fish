{
 "cells": [
  {
   "cell_type": "code",
   "execution_count": 1,
   "metadata": {},
   "outputs": [],
   "source": [
    "%load_ext autoreload\n",
    "%autoreload 2"
   ]
  },
  {
   "cell_type": "code",
   "execution_count": 2,
   "metadata": {},
   "outputs": [],
   "source": [
    "import sys\n",
    "sys.path.append('/fs/cbsuvlaminck2/workdir/bmg224/hiprfish/image_analysis_code')\n",
    "from segmentation import Segmentation\n",
    "from image import Image\n",
    "import image_functions as imfn\n",
    "from tqdm import tqdm"
   ]
  },
  {
   "cell_type": "code",
   "execution_count": 4,
   "metadata": {},
   "outputs": [
    {
     "name": "stdout",
     "output_type": "stream",
     "text": [
      "50\n"
     ]
    }
   ],
   "source": [
    "data_dir = '/fs/cbsuvlaminck2/workdir/bmg224/data/2021/devlaminck_widefield/2021_04_05_dnafishmethodchar'\n",
    "factors = ['method', 'plasmid','fov']\n",
    "flat_field_filename = '/fs/cbsuvlaminck2/workdir/bmg224/data/2021/devlaminck_widefield/2021_04_12_flat_field_correction_lens_100x_refl_cy5.czi'\n",
    "flat_field_index = 0\n",
    "sample_names = imfn.get_sample_names(data_dir=data_dir)\n",
    "print(len(sample_names))\n",
    "refl = ['gfp','cy5']"
   ]
  },
  {
   "cell_type": "code",
   "execution_count": 5,
   "metadata": {},
   "outputs": [
    {
     "name": "stdout",
     "output_type": "stream",
     "text": [
      "50\n"
     ]
    }
   ],
   "source": [
    "ims = [Image(sample_name=sn, data_dir=data_dir, illumination_names=refl, \n",
    "             flat_field_filename=flat_field_filename, \n",
    "             flat_field_index=flat_field_index) for sn in sample_names]\n",
    "print(len(ims))"
   ]
  },
  {
   "cell_type": "code",
   "execution_count": 6,
   "metadata": {},
   "outputs": [
    {
     "name": "stderr",
     "output_type": "stream",
     "text": [
      "100%|██████████| 50/50 [02:12<00:00,  2.65s/it]\n"
     ]
    }
   ],
   "source": [
    "# Save grayscale images including zoom image\n",
    "import pandas as pd\n",
    "spot_channels=['cy5']\n",
    "cmap='gray'\n",
    "clims=(0.1, 0.4)\n",
    "for im in tqdm(ims):\n",
    "    im.pick_channel(illumination=spot_channels)\n",
    "    im.flat_field_correction()\n",
    "    im.save_intensity_image(image=im.raw_2D, fname_mod='_spot_raw', clims=clims, cmap=cmap)\n",
    "    im.get_zoom_regions()\n",
    "    zc = pd.read_csv(im.zoom_coords_filename).values[0][1:5].astype(list)\n",
    "    im.save_intensity_image(image=im.raw_2D, fname_mod='_spot_raw_zoom', clims=clims,\n",
    "                           zoom_coords = zc, cmap=cmap)"
   ]
  },
  {
   "cell_type": "code",
   "execution_count": 7,
   "metadata": {},
   "outputs": [
    {
     "name": "stdout",
     "output_type": "stream",
     "text": [
      "50\n"
     ]
    }
   ],
   "source": [
    "keys = [imfn.get_filename_keys(sn, filename_factors=factors) for sn in sample_names]\n",
    "key_labels = [\", \".join(k) for k in keys]\n",
    "print(len(keys))"
   ]
  },
  {
   "cell_type": "code",
   "execution_count": 8,
   "metadata": {},
   "outputs": [],
   "source": [
    "sn_dict = imfn.get_nested_dict(keys, sample_names, [0,1])\n",
    "I = ['a','b','c','d','e','f','g']\n",
    "J = ['neg','pos']\n",
    "sn_sort = []\n",
    "key_labels = []\n",
    "for i in I:\n",
    "    for j in J:\n",
    "        for key, sn in sn_dict[i][j]:\n",
    "            sn_sort.append(sn)\n",
    "            key_labels.append(', '.join(key))"
   ]
  },
  {
   "cell_type": "code",
   "execution_count": 10,
   "metadata": {},
   "outputs": [
    {
     "data": {
      "text/html": [
       "\n",
       "        <div style='display: flex; flex-flow: row wrap; text-align: center;''>\n",
       "        \n",
       "            <figure style=\"margin: 5px !important;\">\n",
       "              <img src=\"../../../../../data/2021/devlaminck_widefield/2021_04_05_dnafishmethodchar//2021_04_05_dnafishmethodchar_method_a_plasmid_neg_fov_2_spot_raw.png\" style=\"height: 350px\">\n",
       "              <figcaption style=\"font-size: 0.6em\">a, neg, 2</figcaption>\n",
       "            </figure>\n",
       "        \n",
       "            <figure style=\"margin: 5px !important;\">\n",
       "              <img src=\"../../../../../data/2021/devlaminck_widefield/2021_04_05_dnafishmethodchar//2021_04_05_dnafishmethodchar_method_a_plasmid_neg_fov_1_spot_raw.png\" style=\"height: 350px\">\n",
       "              <figcaption style=\"font-size: 0.6em\">a, neg, 1</figcaption>\n",
       "            </figure>\n",
       "        \n",
       "            <figure style=\"margin: 5px !important;\">\n",
       "              <img src=\"../../../../../data/2021/devlaminck_widefield/2021_04_05_dnafishmethodchar//2021_04_05_dnafishmethodchar_method_a_plasmid_neg_fov_3_spot_raw.png\" style=\"height: 350px\">\n",
       "              <figcaption style=\"font-size: 0.6em\">a, neg, 3</figcaption>\n",
       "            </figure>\n",
       "        \n",
       "            <figure style=\"margin: 5px !important;\">\n",
       "              <img src=\"../../../../../data/2021/devlaminck_widefield/2021_04_05_dnafishmethodchar//2021_04_05_dnafishmethodchar_method_a_plasmid_pos_fov_1_spot_raw.png\" style=\"height: 350px\">\n",
       "              <figcaption style=\"font-size: 0.6em\">a, pos, 1</figcaption>\n",
       "            </figure>\n",
       "        \n",
       "            <figure style=\"margin: 5px !important;\">\n",
       "              <img src=\"../../../../../data/2021/devlaminck_widefield/2021_04_05_dnafishmethodchar//2021_04_05_dnafishmethodchar_method_a_plasmid_pos_fov_3_spot_raw.png\" style=\"height: 350px\">\n",
       "              <figcaption style=\"font-size: 0.6em\">a, pos, 3</figcaption>\n",
       "            </figure>\n",
       "        \n",
       "            <figure style=\"margin: 5px !important;\">\n",
       "              <img src=\"../../../../../data/2021/devlaminck_widefield/2021_04_05_dnafishmethodchar//2021_04_05_dnafishmethodchar_method_a_plasmid_pos_fov_2_spot_raw.png\" style=\"height: 350px\">\n",
       "              <figcaption style=\"font-size: 0.6em\">a, pos, 2</figcaption>\n",
       "            </figure>\n",
       "        \n",
       "            <figure style=\"margin: 5px !important;\">\n",
       "              <img src=\"../../../../../data/2021/devlaminck_widefield/2021_04_05_dnafishmethodchar//2021_04_05_dnafishmethodchar_method_b_plasmid_neg_fov_1_spot_raw.png\" style=\"height: 350px\">\n",
       "              <figcaption style=\"font-size: 0.6em\">b, neg, 1</figcaption>\n",
       "            </figure>\n",
       "        \n",
       "            <figure style=\"margin: 5px !important;\">\n",
       "              <img src=\"../../../../../data/2021/devlaminck_widefield/2021_04_05_dnafishmethodchar//2021_04_05_dnafishmethodchar_method_b_plasmid_neg_fov_2_spot_raw.png\" style=\"height: 350px\">\n",
       "              <figcaption style=\"font-size: 0.6em\">b, neg, 2</figcaption>\n",
       "            </figure>\n",
       "        \n",
       "            <figure style=\"margin: 5px !important;\">\n",
       "              <img src=\"../../../../../data/2021/devlaminck_widefield/2021_04_05_dnafishmethodchar//2021_04_05_dnafishmethodchar_method_b_plasmid_neg_fov_3_spot_raw.png\" style=\"height: 350px\">\n",
       "              <figcaption style=\"font-size: 0.6em\">b, neg, 3</figcaption>\n",
       "            </figure>\n",
       "        \n",
       "            <figure style=\"margin: 5px !important;\">\n",
       "              <img src=\"../../../../../data/2021/devlaminck_widefield/2021_04_05_dnafishmethodchar//2021_04_05_dnafishmethodchar_method_b_plasmid_pos_fov_2_spot_raw.png\" style=\"height: 350px\">\n",
       "              <figcaption style=\"font-size: 0.6em\">b, pos, 2</figcaption>\n",
       "            </figure>\n",
       "        \n",
       "            <figure style=\"margin: 5px !important;\">\n",
       "              <img src=\"../../../../../data/2021/devlaminck_widefield/2021_04_05_dnafishmethodchar//2021_04_05_dnafishmethodchar_method_b_plasmid_pos_fov_1_spot_raw.png\" style=\"height: 350px\">\n",
       "              <figcaption style=\"font-size: 0.6em\">b, pos, 1</figcaption>\n",
       "            </figure>\n",
       "        \n",
       "            <figure style=\"margin: 5px !important;\">\n",
       "              <img src=\"../../../../../data/2021/devlaminck_widefield/2021_04_05_dnafishmethodchar//2021_04_05_dnafishmethodchar_method_b_plasmid_pos_fov_3_spot_raw.png\" style=\"height: 350px\">\n",
       "              <figcaption style=\"font-size: 0.6em\">b, pos, 3</figcaption>\n",
       "            </figure>\n",
       "        \n",
       "            <figure style=\"margin: 5px !important;\">\n",
       "              <img src=\"../../../../../data/2021/devlaminck_widefield/2021_04_05_dnafishmethodchar//2021_04_05_dnafishmethodchar_method_c_plasmid_neg_fov_2_spot_raw.png\" style=\"height: 350px\">\n",
       "              <figcaption style=\"font-size: 0.6em\">c, neg, 2</figcaption>\n",
       "            </figure>\n",
       "        \n",
       "            <figure style=\"margin: 5px !important;\">\n",
       "              <img src=\"../../../../../data/2021/devlaminck_widefield/2021_04_05_dnafishmethodchar//2021_04_05_dnafishmethodchar_method_c_plasmid_neg_fov_1_spot_raw.png\" style=\"height: 350px\">\n",
       "              <figcaption style=\"font-size: 0.6em\">c, neg, 1</figcaption>\n",
       "            </figure>\n",
       "        \n",
       "            <figure style=\"margin: 5px !important;\">\n",
       "              <img src=\"../../../../../data/2021/devlaminck_widefield/2021_04_05_dnafishmethodchar//2021_04_05_dnafishmethodchar_method_c_plasmid_neg_fov_3_spot_raw.png\" style=\"height: 350px\">\n",
       "              <figcaption style=\"font-size: 0.6em\">c, neg, 3</figcaption>\n",
       "            </figure>\n",
       "        \n",
       "            <figure style=\"margin: 5px !important;\">\n",
       "              <img src=\"../../../../../data/2021/devlaminck_widefield/2021_04_05_dnafishmethodchar//2021_04_05_dnafishmethodchar_method_c_plasmid_pos_fov_1_spot_raw.png\" style=\"height: 350px\">\n",
       "              <figcaption style=\"font-size: 0.6em\">c, pos, 1</figcaption>\n",
       "            </figure>\n",
       "        \n",
       "            <figure style=\"margin: 5px !important;\">\n",
       "              <img src=\"../../../../../data/2021/devlaminck_widefield/2021_04_05_dnafishmethodchar//2021_04_05_dnafishmethodchar_method_c_plasmid_pos_fov_2_spot_raw.png\" style=\"height: 350px\">\n",
       "              <figcaption style=\"font-size: 0.6em\">c, pos, 2</figcaption>\n",
       "            </figure>\n",
       "        \n",
       "            <figure style=\"margin: 5px !important;\">\n",
       "              <img src=\"../../../../../data/2021/devlaminck_widefield/2021_04_05_dnafishmethodchar//2021_04_05_dnafishmethodchar_method_c_plasmid_pos_fov_3_spot_raw.png\" style=\"height: 350px\">\n",
       "              <figcaption style=\"font-size: 0.6em\">c, pos, 3</figcaption>\n",
       "            </figure>\n",
       "        \n",
       "            <figure style=\"margin: 5px !important;\">\n",
       "              <img src=\"../../../../../data/2021/devlaminck_widefield/2021_04_05_dnafishmethodchar//2021_04_05_dnafishmethodchar_method_d_plasmid_neg_fov_1_spot_raw.png\" style=\"height: 350px\">\n",
       "              <figcaption style=\"font-size: 0.6em\">d, neg, 1</figcaption>\n",
       "            </figure>\n",
       "        \n",
       "            <figure style=\"margin: 5px !important;\">\n",
       "              <img src=\"../../../../../data/2021/devlaminck_widefield/2021_04_05_dnafishmethodchar//2021_04_05_dnafishmethodchar_method_d_plasmid_neg_fov_3_spot_raw.png\" style=\"height: 350px\">\n",
       "              <figcaption style=\"font-size: 0.6em\">d, neg, 3</figcaption>\n",
       "            </figure>\n",
       "        \n",
       "            <figure style=\"margin: 5px !important;\">\n",
       "              <img src=\"../../../../../data/2021/devlaminck_widefield/2021_04_05_dnafishmethodchar//2021_04_05_dnafishmethodchar_method_d_plasmid_neg_fov_2_spot_raw.png\" style=\"height: 350px\">\n",
       "              <figcaption style=\"font-size: 0.6em\">d, neg, 2</figcaption>\n",
       "            </figure>\n",
       "        \n",
       "            <figure style=\"margin: 5px !important;\">\n",
       "              <img src=\"../../../../../data/2021/devlaminck_widefield/2021_04_05_dnafishmethodchar//2021_04_05_dnafishmethodchar_method_d_plasmid_pos_fov_2_spot_raw.png\" style=\"height: 350px\">\n",
       "              <figcaption style=\"font-size: 0.6em\">d, pos, 2</figcaption>\n",
       "            </figure>\n",
       "        \n",
       "            <figure style=\"margin: 5px !important;\">\n",
       "              <img src=\"../../../../../data/2021/devlaminck_widefield/2021_04_05_dnafishmethodchar//2021_04_05_dnafishmethodchar_method_d_plasmid_pos_fov_1_spot_raw.png\" style=\"height: 350px\">\n",
       "              <figcaption style=\"font-size: 0.6em\">d, pos, 1</figcaption>\n",
       "            </figure>\n",
       "        \n",
       "            <figure style=\"margin: 5px !important;\">\n",
       "              <img src=\"../../../../../data/2021/devlaminck_widefield/2021_04_05_dnafishmethodchar//2021_04_05_dnafishmethodchar_method_d_plasmid_pos_fov_3_spot_raw.png\" style=\"height: 350px\">\n",
       "              <figcaption style=\"font-size: 0.6em\">d, pos, 3</figcaption>\n",
       "            </figure>\n",
       "        \n",
       "            <figure style=\"margin: 5px !important;\">\n",
       "              <img src=\"../../../../../data/2021/devlaminck_widefield/2021_04_05_dnafishmethodchar//2021_04_05_dnafishmethodchar_method_e_plasmid_neg_fov_1_spot_raw.png\" style=\"height: 350px\">\n",
       "              <figcaption style=\"font-size: 0.6em\">e, neg, 1</figcaption>\n",
       "            </figure>\n",
       "        \n",
       "            <figure style=\"margin: 5px !important;\">\n",
       "              <img src=\"../../../../../data/2021/devlaminck_widefield/2021_04_05_dnafishmethodchar//2021_04_05_dnafishmethodchar_method_e_plasmid_neg_fov_2_spot_raw.png\" style=\"height: 350px\">\n",
       "              <figcaption style=\"font-size: 0.6em\">e, neg, 2</figcaption>\n",
       "            </figure>\n",
       "        \n",
       "            <figure style=\"margin: 5px !important;\">\n",
       "              <img src=\"../../../../../data/2021/devlaminck_widefield/2021_04_05_dnafishmethodchar//2021_04_05_dnafishmethodchar_method_e_plasmid_neg_fov_3_spot_raw.png\" style=\"height: 350px\">\n",
       "              <figcaption style=\"font-size: 0.6em\">e, neg, 3</figcaption>\n",
       "            </figure>\n",
       "        \n",
       "            <figure style=\"margin: 5px !important;\">\n",
       "              <img src=\"../../../../../data/2021/devlaminck_widefield/2021_04_05_dnafishmethodchar//2021_04_05_dnafishmethodchar_method_e_plasmid_pos_fov_3_spot_raw.png\" style=\"height: 350px\">\n",
       "              <figcaption style=\"font-size: 0.6em\">e, pos, 3</figcaption>\n",
       "            </figure>\n",
       "        \n",
       "            <figure style=\"margin: 5px !important;\">\n",
       "              <img src=\"../../../../../data/2021/devlaminck_widefield/2021_04_05_dnafishmethodchar//2021_04_05_dnafishmethodchar_method_e_plasmid_pos_fov_1_spot_raw.png\" style=\"height: 350px\">\n",
       "              <figcaption style=\"font-size: 0.6em\">e, pos, 1</figcaption>\n",
       "            </figure>\n",
       "        \n",
       "            <figure style=\"margin: 5px !important;\">\n",
       "              <img src=\"../../../../../data/2021/devlaminck_widefield/2021_04_05_dnafishmethodchar//2021_04_05_dnafishmethodchar_method_e_plasmid_pos_fov_2_spot_raw.png\" style=\"height: 350px\">\n",
       "              <figcaption style=\"font-size: 0.6em\">e, pos, 2</figcaption>\n",
       "            </figure>\n",
       "        \n",
       "            <figure style=\"margin: 5px !important;\">\n",
       "              <img src=\"../../../../../data/2021/devlaminck_widefield/2021_04_05_dnafishmethodchar//2021_04_05_dnafishmethodchar_method_f_plasmid_neg_fov_3_spot_raw.png\" style=\"height: 350px\">\n",
       "              <figcaption style=\"font-size: 0.6em\">f, neg, 3</figcaption>\n",
       "            </figure>\n",
       "        \n",
       "            <figure style=\"margin: 5px !important;\">\n",
       "              <img src=\"../../../../../data/2021/devlaminck_widefield/2021_04_05_dnafishmethodchar//2021_04_05_dnafishmethodchar_method_f_plasmid_neg_fov_2_spot_raw.png\" style=\"height: 350px\">\n",
       "              <figcaption style=\"font-size: 0.6em\">f, neg, 2</figcaption>\n",
       "            </figure>\n",
       "        \n",
       "            <figure style=\"margin: 5px !important;\">\n",
       "              <img src=\"../../../../../data/2021/devlaminck_widefield/2021_04_05_dnafishmethodchar//2021_04_05_dnafishmethodchar_method_f_plasmid_neg_fov_1_spot_raw.png\" style=\"height: 350px\">\n",
       "              <figcaption style=\"font-size: 0.6em\">f, neg, 1</figcaption>\n",
       "            </figure>\n",
       "        \n",
       "            <figure style=\"margin: 5px !important;\">\n",
       "              <img src=\"../../../../../data/2021/devlaminck_widefield/2021_04_05_dnafishmethodchar//2021_04_05_dnafishmethodchar_method_f_plasmid_pos_fov_3_spot_raw.png\" style=\"height: 350px\">\n",
       "              <figcaption style=\"font-size: 0.6em\">f, pos, 3</figcaption>\n",
       "            </figure>\n",
       "        \n",
       "            <figure style=\"margin: 5px !important;\">\n",
       "              <img src=\"../../../../../data/2021/devlaminck_widefield/2021_04_05_dnafishmethodchar//2021_04_05_dnafishmethodchar_method_f_plasmid_pos_fov_1_spot_raw.png\" style=\"height: 350px\">\n",
       "              <figcaption style=\"font-size: 0.6em\">f, pos, 1</figcaption>\n",
       "            </figure>\n",
       "        \n",
       "            <figure style=\"margin: 5px !important;\">\n",
       "              <img src=\"../../../../../data/2021/devlaminck_widefield/2021_04_05_dnafishmethodchar//2021_04_05_dnafishmethodchar_method_f_plasmid_pos_fov_2_spot_raw.png\" style=\"height: 350px\">\n",
       "              <figcaption style=\"font-size: 0.6em\">f, pos, 2</figcaption>\n",
       "            </figure>\n",
       "        \n",
       "            <figure style=\"margin: 5px !important;\">\n",
       "              <img src=\"../../../../../data/2021/devlaminck_widefield/2021_04_05_dnafishmethodchar//2021_04_05_dnafishmethodchar_method_g_plasmid_neg_fov_2_spot_raw.png\" style=\"height: 350px\">\n",
       "              <figcaption style=\"font-size: 0.6em\">g, neg, 2</figcaption>\n",
       "            </figure>\n",
       "        \n",
       "            <figure style=\"margin: 5px !important;\">\n",
       "              <img src=\"../../../../../data/2021/devlaminck_widefield/2021_04_05_dnafishmethodchar//2021_04_05_dnafishmethodchar_method_g_plasmid_neg_fov_1_spot_raw.png\" style=\"height: 350px\">\n",
       "              <figcaption style=\"font-size: 0.6em\">g, neg, 1</figcaption>\n",
       "            </figure>\n",
       "        \n",
       "            <figure style=\"margin: 5px !important;\">\n",
       "              <img src=\"../../../../../data/2021/devlaminck_widefield/2021_04_05_dnafishmethodchar//2021_04_05_dnafishmethodchar_method_g_plasmid_neg_fov_3_spot_raw.png\" style=\"height: 350px\">\n",
       "              <figcaption style=\"font-size: 0.6em\">g, neg, 3</figcaption>\n",
       "            </figure>\n",
       "        \n",
       "            <figure style=\"margin: 5px !important;\">\n",
       "              <img src=\"../../../../../data/2021/devlaminck_widefield/2021_04_05_dnafishmethodchar//2021_04_05_dnafishmethodchar_method_g_plasmid_pos_fov_2_spot_raw.png\" style=\"height: 350px\">\n",
       "              <figcaption style=\"font-size: 0.6em\">g, pos, 2</figcaption>\n",
       "            </figure>\n",
       "        \n",
       "            <figure style=\"margin: 5px !important;\">\n",
       "              <img src=\"../../../../../data/2021/devlaminck_widefield/2021_04_05_dnafishmethodchar//2021_04_05_dnafishmethodchar_method_g_plasmid_pos_fov_1_spot_raw.png\" style=\"height: 350px\">\n",
       "              <figcaption style=\"font-size: 0.6em\">g, pos, 1</figcaption>\n",
       "            </figure>\n",
       "        \n",
       "            <figure style=\"margin: 5px !important;\">\n",
       "              <img src=\"../../../../../data/2021/devlaminck_widefield/2021_04_05_dnafishmethodchar//2021_04_05_dnafishmethodchar_method_g_plasmid_pos_fov_3_spot_raw.png\" style=\"height: 350px\">\n",
       "              <figcaption style=\"font-size: 0.6em\">g, pos, 3</figcaption>\n",
       "            </figure>\n",
       "        \n",
       "        </div>\n",
       "    "
      ],
      "text/plain": [
       "<IPython.core.display.HTML object>"
      ]
     },
     "execution_count": 10,
     "metadata": {},
     "output_type": "execute_result"
    }
   ],
   "source": [
    "# Quick look with gallery\n",
    "data_dir = '../../../../../data/2021/devlaminck_widefield/2021_04_05_dnafishmethodchar/'\n",
    "filenames = [data_dir + '/' + sn + '_spot_raw.png' for sn in sn_sort]\n",
    "\n",
    "## For image embedding via ipython, the filepath must be inreference to the current directory\n",
    "imfn.gallery(filenames, captions=key_labels, row_height='350px')"
   ]
  },
  {
   "cell_type": "code",
   "execution_count": 6,
   "metadata": {},
   "outputs": [
    {
     "name": "stdout",
     "output_type": "stream",
     "text": [
      "62\n"
     ]
    }
   ],
   "source": [
    "im_keys =[im.get_filename_keys(factors) for im in ims]\n",
    "print(len(im_keys))"
   ]
  },
  {
   "cell_type": "code",
   "execution_count": 7,
   "metadata": {},
   "outputs": [
    {
     "data": {
      "text/plain": [
       "4"
      ]
     },
     "execution_count": 7,
     "metadata": {},
     "output_type": "execute_result"
    }
   ],
   "source": [
    "from collections import defaultdict\n",
    "def group(kv_pairs, k_index):\n",
    "    list_dict = defaultdict(list) \n",
    "    for kv in kv_pairs:\n",
    "        group = kv[0][k_index]\n",
    "        list_dict[group].append(kv)\n",
    "    return list_dict\n",
    "\n",
    "im_zip = zip(im_keys, ims)\n",
    "group_by = ['method', 'plasmid']\n",
    "g_index = [factors.index(gb) for gb in group_by]\n",
    "im_dict = group(im_zip, g_index[0])\n",
    "for k, v in im_dict.items():\n",
    "    im_dict[k] = group(v, g_index[1])\n",
    "#     for k1, v1 in im_dict[k].items():\n",
    "#         im_dict[k][k1] = group(v1, g_index[2])\n",
    "#         for k2, v2 in im_dict[k][k1].items():\n",
    "#             im_dict[k][k1][k2] = group(v2, g_index[3])\n",
    "    \n",
    "len(im_dict['e']['h'])"
   ]
  },
  {
   "cell_type": "code",
   "execution_count": 12,
   "metadata": {},
   "outputs": [
    {
     "data": {
      "image/png": "[encoded data removed]",
      "text/plain": [
       "<Figure size 360x360 with 1 Axes>"
      ]
     },
     "metadata": {
      "needs_background": "light"
     },
     "output_type": "display_data"
    }
   ],
   "source": [
    "clims = [0.15,1.5]\n",
    "dims = [5,5]\n",
    "im = im_dict['e']['h'][1][1]\n",
    "im.save_intensity_image(image=im.raw_2D, save=False, clims=clims, dims=dims, cmap='gray')"
   ]
  },
  {
   "cell_type": "code",
   "execution_count": 10,
   "metadata": {},
   "outputs": [],
   "source": [
    "zc = pd.read_csv(im.zoom_coords_filename).iloc[0,1:].values.tolist()\n"
   ]
  },
  {
   "cell_type": "code",
   "execution_count": null,
   "metadata": {},
   "outputs": [],
   "source": [
    "im.save_intensity_image(image=im.raw_2D, fname_mod='_spot_raw_zoom', save_ext='.png', \n",
    "                        save=True, clims=clims, dims=dims, zoom_coords=zc)"
   ]
  },
  {
   "cell_type": "code",
   "execution_count": 8,
   "metadata": {},
   "outputs": [
    {
     "ename": "NameError",
     "evalue": "name 'clims' is not defined",
     "output_type": "error",
     "traceback": [
      "\u001b[0;31m---------------------------------------------------------------------------\u001b[0m",
      "\u001b[0;31mNameError\u001b[0m                                 Traceback (most recent call last)",
      "\u001b[0;32m<ipython-input-8-3c9fa4227c63>\u001b[0m in \u001b[0;36m<module>\u001b[0;34m\u001b[0m\n\u001b[1;32m      6\u001b[0m \u001b[0mspot_seg\u001b[0m\u001b[0;34m.\u001b[0m\u001b[0mpick_channel\u001b[0m\u001b[0;34m(\u001b[0m\u001b[0;34m'cy5'\u001b[0m\u001b[0;34m)\u001b[0m\u001b[0;34m\u001b[0m\u001b[0m\n\u001b[1;32m      7\u001b[0m \u001b[0mspot_seg\u001b[0m\u001b[0;34m.\u001b[0m\u001b[0mflat_field_correction\u001b[0m\u001b[0;34m(\u001b[0m\u001b[0;34m)\u001b[0m\u001b[0;34m\u001b[0m\u001b[0m\n\u001b[0;32m----> 8\u001b[0;31m \u001b[0mspot_seg\u001b[0m\u001b[0;34m.\u001b[0m\u001b[0msave_seg\u001b[0m\u001b[0;34m(\u001b[0m\u001b[0mzoom_coords\u001b[0m\u001b[0;34m=\u001b[0m\u001b[0mzc\u001b[0m\u001b[0;34m,\u001b[0m \u001b[0mfname_mod\u001b[0m\u001b[0;34m=\u001b[0m\u001b[0;34m'_zoom'\u001b[0m\u001b[0;34m,\u001b[0m \u001b[0mext\u001b[0m\u001b[0;34m=\u001b[0m\u001b[0;34m'.png'\u001b[0m\u001b[0;34m,\u001b[0m \u001b[0msave\u001b[0m\u001b[0;34m=\u001b[0m\u001b[0;32mTrue\u001b[0m\u001b[0;34m,\u001b[0m \u001b[0mclims\u001b[0m\u001b[0;34m=\u001b[0m\u001b[0mclims\u001b[0m\u001b[0;34m)\u001b[0m\u001b[0;34m\u001b[0m\u001b[0m\n\u001b[0m",
      "\u001b[0;31mNameError\u001b[0m: name 'clims' is not defined"
     ]
    }
   ],
   "source": [
    "import numpy as np\n",
    "# spot_seg_filename = im.basename + '_spot_seg.npy'\n",
    "spot_seg = Segmentation(im.sample_name, refl, fname_mod='_cell_seg', \n",
    "                        flat_field_filename=flat_field_filename, \n",
    "                         flat_field_index=flat_field_index)\n",
    "spot_seg.pick_channel('cy5')\n",
    "spot_seg.flat_field_correction()\n",
    "spot_seg.save_seg(zoom_coords=zc, fname_mod='_zoom', ext='.png', save=True, clims=clims)"
   ]
  },
  {
   "cell_type": "code",
   "execution_count": 72,
   "metadata": {},
   "outputs": [
    {
     "name": "stdout",
     "output_type": "stream",
     "text": [
      "2020_11_13_fullcharold_method_e_plasmid_c_fov_1\n",
      "2020_11_13_fullcharold_method_e_plasmid_c_fov_5\n",
      "2020_11_13_fullcharold_method_e_plasmid_c_fov_2\n",
      "2020_11_13_fullcharold_method_e_plasmid_c_fov_3\n",
      "2020_11_13_fullcharold_method_e_plasmid_c_fov_4\n",
      "2020_11_13_fullcharold_method_e_plasmid_h_fov_1\n",
      "2020_11_13_fullcharold_method_e_plasmid_h_fov_4\n",
      "2020_11_13_fullcharold_method_e_plasmid_h_fov_3\n",
      "2020_11_13_fullcharold_method_e_plasmid_h_fov_2\n"
     ]
    }
   ],
   "source": [
    "import numpy as np\n",
    "clims = (0.15, 1.5)\n",
    "# spot_seg_filename = im.basename + '_spot_seg.npy'\n",
    "for method in ['e']:\n",
    "    for plasmid in ['c','h']:\n",
    "        tup_list = im_dict[method][plasmid]\n",
    "        for key, im in tup_list:\n",
    "            print(im.sample_name)\n",
    "            zc = pd.read_csv(im.zoom_coords_filename).iloc[0,1:].values.tolist()\n",
    "            spot_seg = Segmentation(im.sample_name, refl, fname_mod='_cell_seg', \n",
    "                                    flat_field_filename=flat_field_filename, \n",
    "                                     flat_field_index=flat_field_index)\n",
    "            spot_seg.pick_channel('cy5')\n",
    "            spot_seg.flat_field_correction()\n",
    "            spot_seg.save_seg(fname_mod='_spot_raw_zoom', ext='.png', \n",
    "                              save=True, clims=clims)"
   ]
  },
  {
   "cell_type": "code",
   "execution_count": 20,
   "metadata": {},
   "outputs": [],
   "source": [
    "import numpy as np\n",
    "clims = (0.01, 0.25)\n",
    "cmap = 'gray'\n",
    "dims = (0.5906, 0.5906)\n",
    "ext = '.pdf'\n",
    "# spot_seg_filename = im.basename + '_spot_seg.npy'\n",
    "for method in ['a','b','c.1','h']:\n",
    "    for plasmid in ['c','h']:\n",
    "        tup_list = im_dict[method][plasmid]\n",
    "        for key, im in tup_list:\n",
    "            zc = pd.read_csv(im.zoom_coords_filename).iloc[0,1:].values.tolist()\n",
    "            spot_seg = Segmentation(im.sample_name, refl, fname_mod='_cell_seg', \n",
    "                                    flat_field_filename=flat_field_filename, \n",
    "                                     flat_field_index=flat_field_index)\n",
    "            spot_seg.pick_channel('cy5')\n",
    "            spot_seg.flat_field_correction()\n",
    "            spot_seg.save_seg(zoom_coords=zc, fname_mod='_spot_raw_zoom', ext=ext, \n",
    "                              save=True, clims=clims, cmap=cmap, dims=dims)"
   ]
  },
  {
   "cell_type": "code",
   "execution_count": 57,
   "metadata": {},
   "outputs": [
    {
     "name": "stdout",
     "output_type": "stream",
     "text": [
      "2020_11_13_fullcharold_method_h_plasmid_h_fov_5\n"
     ]
    }
   ],
   "source": [
    "print(im.sample_name)"
   ]
  }
 ],
 "metadata": {
  "kernelspec": {
   "display_name": "Python 3",
   "language": "python",
   "name": "python3"
  },
  "language_info": {
   "codemirror_mode": {
    "name": "ipython",
    "version": 3
   },
   "file_extension": ".py",
   "mimetype": "text/x-python",
   "name": "python",
   "nbconvert_exporter": "python",
   "pygments_lexer": "ipython3",
   "version": "3.5.6"
  }
 },
 "nbformat": 4,
 "nbformat_minor": 4
}

{
 "cells": [
  {
   "cell_type": "code",
   "execution_count": 1,
   "metadata": {},
   "outputs": [],
   "source": [
    "%load_ext autoreload\n",
    "%autoreload 2"
   ]
  },
  {
   "cell_type": "code",
   "execution_count": 2,
   "metadata": {},
   "outputs": [],
   "source": [
    "from tqdm import tqdm\n",
    "import sys\n",
    "sys.path.append('/fs/cbsuvlaminck2/workdir/bmg224/hiprfish/image_analysis_code')\n",
    "import image_functions as imfn\n",
    "# from segmentation import Segmentation\n"
   ]
  },
  {
   "cell_type": "code",
   "execution_count": 3,
   "metadata": {},
   "outputs": [],
   "source": [
    "# from image import Image"
   ]
  },
  {
   "cell_type": "code",
   "execution_count": 4,
   "metadata": {},
   "outputs": [
    {
     "name": "stdout",
     "output_type": "stream",
     "text": [
      "47\n",
      "2021_06_02_plasmidairyscan_exp_040421_method_f_plasmid_pos_fov_tile2_Airyscan_Processing_Stitch\n"
     ]
    }
   ],
   "source": [
    "cluster_path = '/fs/cbsuvlaminck2/'\n",
    "data_dir = cluster_path + '/workdir/bmg224/data/2021/brc_fileshare_new/2021_06_02_plasmidairyscan/processed'\n",
    "sample_names = imfn.get_sample_names(data_dir=data_dir)\n",
    "refl = ['gfp', 'cy5']\n",
    "factors = ['exp','method', 'plasmid','fov']\n",
    "flat_field_filename = ''\n",
    "print(len(sample_names))\n",
    "print(sample_names[0])"
   ]
  },
  {
   "cell_type": "code",
   "execution_count": 5,
   "metadata": {},
   "outputs": [
    {
     "data": {
      "text/plain": [
       "47"
      ]
     },
     "execution_count": 5,
     "metadata": {},
     "output_type": "execute_result"
    }
   ],
   "source": [
    "keys =[imfn.get_filename_keys(sn, factors) for sn in sample_names]\n",
    "len(keys)"
   ]
  },
  {
   "cell_type": "code",
   "execution_count": 7,
   "metadata": {},
   "outputs": [],
   "source": [
    "# Load split dirs\n",
    "out_dir = '../image_processing'\n",
    "spot_split_dirs = [out_dir + '/' + sn + '_spot_seg_split' for sn in sample_names]\n",
    "cell_split_dirs = [out_dir + '/' + sn + '_cell_seg_split' for sn in sample_names]"
   ]
  },
  {
   "cell_type": "code",
   "execution_count": 9,
   "metadata": {},
   "outputs": [],
   "source": [
    "# Get split names in specific order\n",
    "import glob\n",
    "import re\n",
    "import os\n",
    "spot_segs_split = [glob.glob(spd + '/*seg.npy') for spd in spot_split_dirs]\n",
    "split_names = [[re.sub('_seg.npy','',os.path.split(n)[1]) for n in names] for names in spot_segs_split]\n"
   ]
  },
  {
   "cell_type": "code",
   "execution_count": 11,
   "metadata": {},
   "outputs": [],
   "source": [
    "# load cell id info\n",
    "import pandas as pd\n",
    "spot_cid_split = [[pd.read_csv(dirs + '/' +  n + '_cell_id.csv') for n in names] for dirs, names in zip(spot_split_dirs, split_names)]\n",
    "cell_props_split = [[pd.read_csv(dirs + '/' +  n + '_props.csv') for n in names] for dirs, names in zip(cell_split_dirs, split_names)]\n",
    "# spot_raws_split = [[np.load(dirs + '/' +  n + '.npy') for n in names] for dirs, names in zip(spot_split_dirs, split_names)]\n",
    "# spot_segs_split = [[np.load(dirs + '/' +  n + '_seg.npy') for n in names] for dirs, names in zip(spot_split_dirs, split_names)]\n",
    "# cell_raws_split = [[np.load(dirs + '/' +  n + '.npy') for n in names] for dirs, names in zip(cell_split_dirs, split_names)]\n",
    "# cell_segs_split = [[np.load(dirs + '/' +  n + '_seg.npy') for n in names] for dirs, names in zip(cell_split_dirs, split_names)]\n"
   ]
  },
  {
   "cell_type": "code",
   "execution_count": 27,
   "metadata": {},
   "outputs": [
    {
     "name": "stderr",
     "output_type": "stream",
     "text": [
      "47it [00:32,  1.43it/s]\n"
     ]
    },
    {
     "data": {
      "text/plain": [
       "47"
      ]
     },
     "execution_count": 27,
     "metadata": {},
     "output_type": "execute_result"
    }
   ],
   "source": [
    "thresh = (0.01, 5)\n",
    "spot_props_thresh = [[sp.loc[(sp.MaxIntensity > thresh[0]) & (sp.dist < thresh[1])] for sp in spot_props] for spot_props in spot_cid_split]\n",
    "# spot_props_thresh = [sp.loc[(sp.Intensity > thresh[0]) & (sp.Intensity < thresh[1])] for sp in spot_props]\n",
    "\n",
    "spot_count = []\n",
    "for spt, cp in tqdm(zip(spot_props_thresh, cell_props_split)):\n",
    "    sp_ct = []\n",
    "    for s, c in zip(spt, cp):\n",
    "        for cid in c.ID.values:\n",
    "            sp_ct.append(s.loc[s.cell_id == cid].shape[0])\n",
    "    spot_count.append(sp_ct)\n",
    "\n",
    "len(spot_count)"
   ]
  },
  {
   "cell_type": "code",
   "execution_count": 28,
   "metadata": {},
   "outputs": [],
   "source": [
    "im_seg_dict = imfn.get_nested_dict(keys, spot_count, (0,1,2))"
   ]
  },
  {
   "cell_type": "code",
   "execution_count": 29,
   "metadata": {},
   "outputs": [],
   "source": [
    "import image_plots as ip"
   ]
  },
  {
   "cell_type": "code",
   "execution_count": 61,
   "metadata": {},
   "outputs": [
    {
     "data": {
      "image/png": "[encoded data removed]",
      "text/plain": [
       "<Figure size 70.8696x42.5197 with 1 Axes>"
      ]
     },
     "metadata": {
      "needs_background": "light"
     },
     "output_type": "display_data"
    },
    {
     "data": {
      "image/png": "[encoded data removed]",
      "text/plain": [
       "<Figure size 70.8696x42.5197 with 1 Axes>"
      ]
     },
     "metadata": {
      "needs_background": "light"
     },
     "output_type": "display_data"
    },
    {
     "data": {
      "image/png": "[encoded data removed]",
      "text/plain": [
       "<Figure size 70.8696x42.5197 with 1 Axes>"
      ]
     },
     "metadata": {
      "needs_background": "light"
     },
     "output_type": "display_data"
    },
    {
     "data": {
      "image/png": "[encoded data removed]",
      "text/plain": [
       "<Figure size 70.8696x42.5197 with 1 Axes>"
      ]
     },
     "metadata": {
      "needs_background": "light"
     },
     "output_type": "display_data"
    },
    {
     "data": {
      "image/png": "[encoded data removed]",
      "text/plain": [
       "<Figure size 70.8696x42.5197 with 1 Axes>"
      ]
     },
     "metadata": {
      "needs_background": "light"
     },
     "output_type": "display_data"
    }
   ],
   "source": [
    "import numpy as np\n",
    "# ft = 5\n",
    "# dims = (5,5)\n",
    "# col = 'w'\n",
    "# dot_factor = 0.5\n",
    "\n",
    "ft = 5\n",
    "dims = (0.9843,0.5905512)\n",
    "col = 'k'\n",
    "dot_factor = 2\n",
    "lw=1\n",
    "\n",
    "import matplotlib.pyplot as plt\n",
    "colors = plt.rcParams['axes.prop_cycle'].by_key()['color']\n",
    "\n",
    "transparency = 0.8\n",
    "fig_dir = '../figures'\n",
    "dates = ['080220','080220','080220','040421','040421']\n",
    "plots = ['a','b','c.1','b','g']\n",
    "groups = ['neg', 'pos']\n",
    "xticklabels = ['Control', 'Positive']\n",
    "xlabel = ''\n",
    "ylabel = ''\n",
    "jit = 0.15\n",
    "y_jit = 0.1\n",
    "ylims = (-0.2,10)\n",
    "\n",
    "for d, pl in zip(dates,plots):\n",
    "#     labels = times\n",
    "#     fig, ax = plt.subplots(figsize=(dims[0], dims[1]),  tight_layout={'pad': 0})\n",
    "#     ax.spines['top'].set_color(col)\n",
    "#     ax.spines['bottom'].set_color(col)\n",
    "#     ax.spines['left'].set_color(col)\n",
    "#     ax.spines['right'].set_color(col)\n",
    "#     ax.tick_params(bottom=False, direction='in', color=col, labelcolor=col)  \n",
    "#     xticks = np.arange(len(times))\n",
    "#     ax.set_xticks(xticks)\n",
    "#     ax.set_xticklabels(labels, fontsize=ft*5//6)\n",
    "# #     ax.set_title('Phage: ' + phage, fontsize=ft*5//6, color=col)\n",
    "#     ax.set_xlabel(xlabel, fontsize=ft, color=col)\n",
    "#     ax.set_ylabel(ylabel, fontsize=ft, color=col)\n",
    "    fig, ax = ip.general_plot(col=col, dims=dims, lw=lw, ft=ft)\n",
    "    xticks = ip.get_xticks(groups)\n",
    "    ax.set_xticks(xticks)\n",
    "    ax.set_xticklabels([],visible=False)\n",
    "    ax.set_ylim(ylims[0],ylims[1])\n",
    "    ax.set_yticks([0,5,10])\n",
    "    values = []\n",
    "    line_colors = [colors[0],colors[1]]\n",
    "    for g, position, lc in zip(groups, xticks, line_colors):\n",
    "#         print(g)\n",
    "        tup_list = im_seg_dict[d][pl][g]\n",
    "        g_values = []\n",
    "        for k, fov in tup_list:\n",
    "            g_values += fov\n",
    "#             print(len(g_values))\n",
    "        values.append(g_values)\n",
    "#         print(len(values[0]))\n",
    "#     print(len(values[0]), len(values[1]))\n",
    "#             jitter_x = np.random.normal(scale=jit, size=len(values))\n",
    "#             x_list = np.repeat(position, len(values)) + jitter_x\n",
    "#             jitter_y = np.random.normal(scale=y_jit, size=len(values))\n",
    "#             y_list = np.array(values) + jitter_y\n",
    "#             ymax = np.max(values)\n",
    "#             ymean = np.mean(values)\n",
    "#             ax.scatter(x_list, y_list, s=ft*dot_factor, marker='.', edgecolors='none', alpha=transparency, c=col)\n",
    "#             ax.hlines(ymean, position - jit*2, position + jit*2, colors='red', linewidth=ft * 0.15)\n",
    "\n",
    "        ip.violin_dot_plot(ax, [g_values], [position], y_jit=y_jit, col=col, line_col=lc, bw=0.5, lw=lw)\n",
    "    ip.adjust_ylims(ax, lims=ylims, values=values, int_ticks=False)            \n",
    "    output_filename = fig_dir + '/spot_count_' + d + '_' + pl + '.pdf' \n",
    "    ip.plt.savefig(output_filename, transparent=True)\n"
   ]
  },
  {
   "cell_type": "code",
   "execution_count": null,
   "metadata": {},
   "outputs": [],
   "source": []
  }
 ],
 "metadata": {
  "kernelspec": {
   "display_name": "Python 3",
   "language": "python",
   "name": "python3"
  },
  "language_info": {
   "codemirror_mode": {
    "name": "ipython",
    "version": 3
   },
   "file_extension": ".py",
   "mimetype": "text/x-python",
   "name": "python",
   "nbconvert_exporter": "python",
   "pygments_lexer": "ipython3",
   "version": "3.5.6"
  }
 },
 "nbformat": 4,
 "nbformat_minor": 4
}

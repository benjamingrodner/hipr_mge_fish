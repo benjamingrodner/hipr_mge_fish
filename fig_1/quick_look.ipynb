{
 "cells": [
  {
   "cell_type": "code",
   "execution_count": 1,
   "metadata": {},
   "outputs": [],
   "source": [
    "%load_ext autoreload\n",
    "%autoreload 2"
   ]
  },
  {
   "cell_type": "code",
   "execution_count": 2,
   "metadata": {},
   "outputs": [],
   "source": [
    "import sys\n",
    "sys.path.append('/fs/cbsuvlaminck2/workdir/bmg224/hiprfish/image_analysis_code')\n",
    "import image_functions as imfn\n",
    "from tqdm import tqdm"
   ]
  },
  {
   "cell_type": "code",
   "execution_count": 3,
   "metadata": {},
   "outputs": [
    {
     "name": "stdout",
     "output_type": "stream",
     "text": [
      "50\n"
     ]
    }
   ],
   "source": [
    "data_dir = '/fs/cbsuvlaminck2/workdir/bmg224/data/2021/devlaminck_widefield/2021_04_05_dnafishmethodchar'\n",
    "factors = ['method', 'plasmid', 'fov']\n",
    "sample_names = imfn.get_sample_names(data_dir=data_dir)\n",
    "print(len(sample_names))\n",
    "refl = ['gfp', 'cy5']"
   ]
  },
  {
   "cell_type": "code",
   "execution_count": 4,
   "metadata": {},
   "outputs": [
    {
     "name": "stdout",
     "output_type": "stream",
     "text": [
      "50\n"
     ]
    }
   ],
   "source": [
    "keys = [imfn.get_filename_keys(sn, filename_factors=factors) for sn in sample_names]\n",
    "key_labels = [\", \".join(k) for k in keys]\n",
    "print(len(keys))"
   ]
  },
  {
   "cell_type": "code",
   "execution_count": 5,
   "metadata": {},
   "outputs": [],
   "source": [
    "sn_dict = imfn.get_nested_dict(keys, sample_names, [0,1])\n",
    "I = ['a','b','c','d','e','f','g']\n",
    "J = ['neg','pos']\n",
    "sn_sort = []\n",
    "key_labels = []\n",
    "for i in I:\n",
    "    for j in J:\n",
    "        for key, sn in sn_dict[i][j]:\n",
    "            sn_sort.append(sn)\n",
    "            key_labels.append(', '.join(key))"
   ]
  },
  {
   "cell_type": "code",
   "execution_count": 17,
   "metadata": {},
   "outputs": [
    {
     "data": {
      "text/html": [
       "\n",
       "        <div style='display: flex; flex-flow: row wrap; text-align: center;''>\n",
       "        \n",
       "            <figure style=\"margin: 5px !important;\">\n",
       "              <img src=\"../image_processing/2021_04_05_dnafishmethodchar_method_a_plasmid_neg_fov_3_spot_seg.png\" style=\"height: 500px\">\n",
       "              <figcaption style=\"font-size: 0.6em\">2021_04_05_dnafishmethodchar_method_a_plasmid_neg_fov_3</figcaption>\n",
       "            </figure>\n",
       "        \n",
       "            <figure style=\"margin: 5px !important;\">\n",
       "              <img src=\"../image_processing/2021_04_05_dnafishmethodchar_method_a_plasmid_neg_fov_2_spot_seg.png\" style=\"height: 500px\">\n",
       "              <figcaption style=\"font-size: 0.6em\">2021_04_05_dnafishmethodchar_method_a_plasmid_neg_fov_2</figcaption>\n",
       "            </figure>\n",
       "        \n",
       "            <figure style=\"margin: 5px !important;\">\n",
       "              <img src=\"../image_processing/2021_04_05_dnafishmethodchar_method_a_plasmid_neg_fov_1_spot_seg.png\" style=\"height: 500px\">\n",
       "              <figcaption style=\"font-size: 0.6em\">2021_04_05_dnafishmethodchar_method_a_plasmid_neg_fov_1</figcaption>\n",
       "            </figure>\n",
       "        \n",
       "            <figure style=\"margin: 5px !important;\">\n",
       "              <img src=\"../image_processing/2021_04_05_dnafishmethodchar_method_a_plasmid_pos_fov_3_spot_seg.png\" style=\"height: 500px\">\n",
       "              <figcaption style=\"font-size: 0.6em\">2021_04_05_dnafishmethodchar_method_a_plasmid_pos_fov_3</figcaption>\n",
       "            </figure>\n",
       "        \n",
       "            <figure style=\"margin: 5px !important;\">\n",
       "              <img src=\"../image_processing/2021_04_05_dnafishmethodchar_method_a_plasmid_pos_fov_1_spot_seg.png\" style=\"height: 500px\">\n",
       "              <figcaption style=\"font-size: 0.6em\">2021_04_05_dnafishmethodchar_method_a_plasmid_pos_fov_1</figcaption>\n",
       "            </figure>\n",
       "        \n",
       "            <figure style=\"margin: 5px !important;\">\n",
       "              <img src=\"../image_processing/2021_04_05_dnafishmethodchar_method_a_plasmid_pos_fov_2_spot_seg.png\" style=\"height: 500px\">\n",
       "              <figcaption style=\"font-size: 0.6em\">2021_04_05_dnafishmethodchar_method_a_plasmid_pos_fov_2</figcaption>\n",
       "            </figure>\n",
       "        \n",
       "            <figure style=\"margin: 5px !important;\">\n",
       "              <img src=\"../image_processing/2021_04_05_dnafishmethodchar_method_b_plasmid_neg_fov_3_spot_seg.png\" style=\"height: 500px\">\n",
       "              <figcaption style=\"font-size: 0.6em\">2021_04_05_dnafishmethodchar_method_b_plasmid_neg_fov_3</figcaption>\n",
       "            </figure>\n",
       "        \n",
       "            <figure style=\"margin: 5px !important;\">\n",
       "              <img src=\"../image_processing/2021_04_05_dnafishmethodchar_method_b_plasmid_neg_fov_1_spot_seg.png\" style=\"height: 500px\">\n",
       "              <figcaption style=\"font-size: 0.6em\">2021_04_05_dnafishmethodchar_method_b_plasmid_neg_fov_1</figcaption>\n",
       "            </figure>\n",
       "        \n",
       "            <figure style=\"margin: 5px !important;\">\n",
       "              <img src=\"../image_processing/2021_04_05_dnafishmethodchar_method_b_plasmid_neg_fov_2_spot_seg.png\" style=\"height: 500px\">\n",
       "              <figcaption style=\"font-size: 0.6em\">2021_04_05_dnafishmethodchar_method_b_plasmid_neg_fov_2</figcaption>\n",
       "            </figure>\n",
       "        \n",
       "            <figure style=\"margin: 5px !important;\">\n",
       "              <img src=\"../image_processing/2021_04_05_dnafishmethodchar_method_b_plasmid_pos_fov_2_spot_seg.png\" style=\"height: 500px\">\n",
       "              <figcaption style=\"font-size: 0.6em\">2021_04_05_dnafishmethodchar_method_b_plasmid_pos_fov_2</figcaption>\n",
       "            </figure>\n",
       "        \n",
       "            <figure style=\"margin: 5px !important;\">\n",
       "              <img src=\"../image_processing/2021_04_05_dnafishmethodchar_method_b_plasmid_pos_fov_3_spot_seg.png\" style=\"height: 500px\">\n",
       "              <figcaption style=\"font-size: 0.6em\">2021_04_05_dnafishmethodchar_method_b_plasmid_pos_fov_3</figcaption>\n",
       "            </figure>\n",
       "        \n",
       "            <figure style=\"margin: 5px !important;\">\n",
       "              <img src=\"../image_processing/2021_04_05_dnafishmethodchar_method_b_plasmid_pos_fov_1_spot_seg.png\" style=\"height: 500px\">\n",
       "              <figcaption style=\"font-size: 0.6em\">2021_04_05_dnafishmethodchar_method_b_plasmid_pos_fov_1</figcaption>\n",
       "            </figure>\n",
       "        \n",
       "            <figure style=\"margin: 5px !important;\">\n",
       "              <img src=\"../image_processing/2021_04_05_dnafishmethodchar_method_c_plasmid_neg_fov_1_spot_seg.png\" style=\"height: 500px\">\n",
       "              <figcaption style=\"font-size: 0.6em\">2021_04_05_dnafishmethodchar_method_c_plasmid_neg_fov_1</figcaption>\n",
       "            </figure>\n",
       "        \n",
       "            <figure style=\"margin: 5px !important;\">\n",
       "              <img src=\"../image_processing/2021_04_05_dnafishmethodchar_method_c_plasmid_neg_fov_2_spot_seg.png\" style=\"height: 500px\">\n",
       "              <figcaption style=\"font-size: 0.6em\">2021_04_05_dnafishmethodchar_method_c_plasmid_neg_fov_2</figcaption>\n",
       "            </figure>\n",
       "        \n",
       "            <figure style=\"margin: 5px !important;\">\n",
       "              <img src=\"../image_processing/2021_04_05_dnafishmethodchar_method_c_plasmid_neg_fov_3_spot_seg.png\" style=\"height: 500px\">\n",
       "              <figcaption style=\"font-size: 0.6em\">2021_04_05_dnafishmethodchar_method_c_plasmid_neg_fov_3</figcaption>\n",
       "            </figure>\n",
       "        \n",
       "            <figure style=\"margin: 5px !important;\">\n",
       "              <img src=\"../image_processing/2021_04_05_dnafishmethodchar_method_c_plasmid_pos_fov_3_spot_seg.png\" style=\"height: 500px\">\n",
       "              <figcaption style=\"font-size: 0.6em\">2021_04_05_dnafishmethodchar_method_c_plasmid_pos_fov_3</figcaption>\n",
       "            </figure>\n",
       "        \n",
       "            <figure style=\"margin: 5px !important;\">\n",
       "              <img src=\"../image_processing/2021_04_05_dnafishmethodchar_method_c_plasmid_pos_fov_1_spot_seg.png\" style=\"height: 500px\">\n",
       "              <figcaption style=\"font-size: 0.6em\">2021_04_05_dnafishmethodchar_method_c_plasmid_pos_fov_1</figcaption>\n",
       "            </figure>\n",
       "        \n",
       "            <figure style=\"margin: 5px !important;\">\n",
       "              <img src=\"../image_processing/2021_04_05_dnafishmethodchar_method_c_plasmid_pos_fov_2_spot_seg.png\" style=\"height: 500px\">\n",
       "              <figcaption style=\"font-size: 0.6em\">2021_04_05_dnafishmethodchar_method_c_plasmid_pos_fov_2</figcaption>\n",
       "            </figure>\n",
       "        \n",
       "            <figure style=\"margin: 5px !important;\">\n",
       "              <img src=\"../image_processing/2021_04_05_dnafishmethodchar_method_d_plasmid_neg_fov_3_spot_seg.png\" style=\"height: 500px\">\n",
       "              <figcaption style=\"font-size: 0.6em\">2021_04_05_dnafishmethodchar_method_d_plasmid_neg_fov_3</figcaption>\n",
       "            </figure>\n",
       "        \n",
       "            <figure style=\"margin: 5px !important;\">\n",
       "              <img src=\"../image_processing/2021_04_05_dnafishmethodchar_method_d_plasmid_neg_fov_1_spot_seg.png\" style=\"height: 500px\">\n",
       "              <figcaption style=\"font-size: 0.6em\">2021_04_05_dnafishmethodchar_method_d_plasmid_neg_fov_1</figcaption>\n",
       "            </figure>\n",
       "        \n",
       "            <figure style=\"margin: 5px !important;\">\n",
       "              <img src=\"../image_processing/2021_04_05_dnafishmethodchar_method_d_plasmid_neg_fov_2_spot_seg.png\" style=\"height: 500px\">\n",
       "              <figcaption style=\"font-size: 0.6em\">2021_04_05_dnafishmethodchar_method_d_plasmid_neg_fov_2</figcaption>\n",
       "            </figure>\n",
       "        \n",
       "            <figure style=\"margin: 5px !important;\">\n",
       "              <img src=\"../image_processing/2021_04_05_dnafishmethodchar_method_d_plasmid_pos_fov_2_spot_seg.png\" style=\"height: 500px\">\n",
       "              <figcaption style=\"font-size: 0.6em\">2021_04_05_dnafishmethodchar_method_d_plasmid_pos_fov_2</figcaption>\n",
       "            </figure>\n",
       "        \n",
       "            <figure style=\"margin: 5px !important;\">\n",
       "              <img src=\"../image_processing/2021_04_05_dnafishmethodchar_method_d_plasmid_pos_fov_3_spot_seg.png\" style=\"height: 500px\">\n",
       "              <figcaption style=\"font-size: 0.6em\">2021_04_05_dnafishmethodchar_method_d_plasmid_pos_fov_3</figcaption>\n",
       "            </figure>\n",
       "        \n",
       "            <figure style=\"margin: 5px !important;\">\n",
       "              <img src=\"../image_processing/2021_04_05_dnafishmethodchar_method_d_plasmid_pos_fov_1_spot_seg.png\" style=\"height: 500px\">\n",
       "              <figcaption style=\"font-size: 0.6em\">2021_04_05_dnafishmethodchar_method_d_plasmid_pos_fov_1</figcaption>\n",
       "            </figure>\n",
       "        \n",
       "            <figure style=\"margin: 5px !important;\">\n",
       "              <img src=\"../image_processing/2021_04_05_dnafishmethodchar_method_e_plasmid_neg_fov_3_spot_seg.png\" style=\"height: 500px\">\n",
       "              <figcaption style=\"font-size: 0.6em\">2021_04_05_dnafishmethodchar_method_e_plasmid_neg_fov_3</figcaption>\n",
       "            </figure>\n",
       "        \n",
       "            <figure style=\"margin: 5px !important;\">\n",
       "              <img src=\"../image_processing/2021_04_05_dnafishmethodchar_method_e_plasmid_neg_fov_1_spot_seg.png\" style=\"height: 500px\">\n",
       "              <figcaption style=\"font-size: 0.6em\">2021_04_05_dnafishmethodchar_method_e_plasmid_neg_fov_1</figcaption>\n",
       "            </figure>\n",
       "        \n",
       "            <figure style=\"margin: 5px !important;\">\n",
       "              <img src=\"../image_processing/2021_04_05_dnafishmethodchar_method_e_plasmid_neg_fov_2_spot_seg.png\" style=\"height: 500px\">\n",
       "              <figcaption style=\"font-size: 0.6em\">2021_04_05_dnafishmethodchar_method_e_plasmid_neg_fov_2</figcaption>\n",
       "            </figure>\n",
       "        \n",
       "            <figure style=\"margin: 5px !important;\">\n",
       "              <img src=\"../image_processing/2021_04_05_dnafishmethodchar_method_e_plasmid_pos_fov_1_spot_seg.png\" style=\"height: 500px\">\n",
       "              <figcaption style=\"font-size: 0.6em\">2021_04_05_dnafishmethodchar_method_e_plasmid_pos_fov_1</figcaption>\n",
       "            </figure>\n",
       "        \n",
       "            <figure style=\"margin: 5px !important;\">\n",
       "              <img src=\"../image_processing/2021_04_05_dnafishmethodchar_method_e_plasmid_pos_fov_3_spot_seg.png\" style=\"height: 500px\">\n",
       "              <figcaption style=\"font-size: 0.6em\">2021_04_05_dnafishmethodchar_method_e_plasmid_pos_fov_3</figcaption>\n",
       "            </figure>\n",
       "        \n",
       "            <figure style=\"margin: 5px !important;\">\n",
       "              <img src=\"../image_processing/2021_04_05_dnafishmethodchar_method_e_plasmid_pos_fov_2_spot_seg.png\" style=\"height: 500px\">\n",
       "              <figcaption style=\"font-size: 0.6em\">2021_04_05_dnafishmethodchar_method_e_plasmid_pos_fov_2</figcaption>\n",
       "            </figure>\n",
       "        \n",
       "            <figure style=\"margin: 5px !important;\">\n",
       "              <img src=\"../image_processing/2021_04_05_dnafishmethodchar_method_f_plasmid_neg_fov_3_spot_seg.png\" style=\"height: 500px\">\n",
       "              <figcaption style=\"font-size: 0.6em\">2021_04_05_dnafishmethodchar_method_f_plasmid_neg_fov_3</figcaption>\n",
       "            </figure>\n",
       "        \n",
       "            <figure style=\"margin: 5px !important;\">\n",
       "              <img src=\"../image_processing/2021_04_05_dnafishmethodchar_method_f_plasmid_neg_fov_2_spot_seg.png\" style=\"height: 500px\">\n",
       "              <figcaption style=\"font-size: 0.6em\">2021_04_05_dnafishmethodchar_method_f_plasmid_neg_fov_2</figcaption>\n",
       "            </figure>\n",
       "        \n",
       "            <figure style=\"margin: 5px !important;\">\n",
       "              <img src=\"../image_processing/2021_04_05_dnafishmethodchar_method_f_plasmid_neg_fov_1_spot_seg.png\" style=\"height: 500px\">\n",
       "              <figcaption style=\"font-size: 0.6em\">2021_04_05_dnafishmethodchar_method_f_plasmid_neg_fov_1</figcaption>\n",
       "            </figure>\n",
       "        \n",
       "            <figure style=\"margin: 5px !important;\">\n",
       "              <img src=\"../image_processing/2021_04_05_dnafishmethodchar_method_f_plasmid_pos_fov_3_spot_seg.png\" style=\"height: 500px\">\n",
       "              <figcaption style=\"font-size: 0.6em\">2021_04_05_dnafishmethodchar_method_f_plasmid_pos_fov_3</figcaption>\n",
       "            </figure>\n",
       "        \n",
       "            <figure style=\"margin: 5px !important;\">\n",
       "              <img src=\"../image_processing/2021_04_05_dnafishmethodchar_method_f_plasmid_pos_fov_1_spot_seg.png\" style=\"height: 500px\">\n",
       "              <figcaption style=\"font-size: 0.6em\">2021_04_05_dnafishmethodchar_method_f_plasmid_pos_fov_1</figcaption>\n",
       "            </figure>\n",
       "        \n",
       "            <figure style=\"margin: 5px !important;\">\n",
       "              <img src=\"../image_processing/2021_04_05_dnafishmethodchar_method_f_plasmid_pos_fov_2_spot_seg.png\" style=\"height: 500px\">\n",
       "              <figcaption style=\"font-size: 0.6em\">2021_04_05_dnafishmethodchar_method_f_plasmid_pos_fov_2</figcaption>\n",
       "            </figure>\n",
       "        \n",
       "            <figure style=\"margin: 5px !important;\">\n",
       "              <img src=\"../image_processing/2021_04_05_dnafishmethodchar_method_g_plasmid_neg_fov_3_spot_seg.png\" style=\"height: 500px\">\n",
       "              <figcaption style=\"font-size: 0.6em\">2021_04_05_dnafishmethodchar_method_g_plasmid_neg_fov_3</figcaption>\n",
       "            </figure>\n",
       "        \n",
       "            <figure style=\"margin: 5px !important;\">\n",
       "              <img src=\"../image_processing/2021_04_05_dnafishmethodchar_method_g_plasmid_neg_fov_2_spot_seg.png\" style=\"height: 500px\">\n",
       "              <figcaption style=\"font-size: 0.6em\">2021_04_05_dnafishmethodchar_method_g_plasmid_neg_fov_2</figcaption>\n",
       "            </figure>\n",
       "        \n",
       "            <figure style=\"margin: 5px !important;\">\n",
       "              <img src=\"../image_processing/2021_04_05_dnafishmethodchar_method_g_plasmid_neg_fov_1_spot_seg.png\" style=\"height: 500px\">\n",
       "              <figcaption style=\"font-size: 0.6em\">2021_04_05_dnafishmethodchar_method_g_plasmid_neg_fov_1</figcaption>\n",
       "            </figure>\n",
       "        \n",
       "            <figure style=\"margin: 5px !important;\">\n",
       "              <img src=\"../image_processing/2021_04_05_dnafishmethodchar_method_g_plasmid_pos_fov_1_spot_seg.png\" style=\"height: 500px\">\n",
       "              <figcaption style=\"font-size: 0.6em\">2021_04_05_dnafishmethodchar_method_g_plasmid_pos_fov_1</figcaption>\n",
       "            </figure>\n",
       "        \n",
       "            <figure style=\"margin: 5px !important;\">\n",
       "              <img src=\"../image_processing/2021_04_05_dnafishmethodchar_method_g_plasmid_pos_fov_3_spot_seg.png\" style=\"height: 500px\">\n",
       "              <figcaption style=\"font-size: 0.6em\">2021_04_05_dnafishmethodchar_method_g_plasmid_pos_fov_3</figcaption>\n",
       "            </figure>\n",
       "        \n",
       "            <figure style=\"margin: 5px !important;\">\n",
       "              <img src=\"../image_processing/2021_04_05_dnafishmethodchar_method_g_plasmid_pos_fov_2_spot_seg.png\" style=\"height: 500px\">\n",
       "              <figcaption style=\"font-size: 0.6em\">2021_04_05_dnafishmethodchar_method_g_plasmid_pos_fov_2</figcaption>\n",
       "            </figure>\n",
       "        \n",
       "        </div>\n",
       "    "
      ],
      "text/plain": [
       "<IPython.core.display.HTML object>"
      ]
     },
     "execution_count": 17,
     "metadata": {},
     "output_type": "execute_result"
    }
   ],
   "source": [
    "import os\n",
    "data_dir = '../../../../../data/2021/devlaminck_widefield/2021_04_05_dnafishmethodchar/'\n",
    "output_dir = '../image_processing'\n",
    "filenames = [output_dir + '/' + sn + '_spot_seg.png' for sn in sn_sort]\n",
    "# sample_names = ['2021_04_05_dnafishmethodchar_method_a_plasmid_neg_fov_1',\n",
    "#  '2021_04_05_dnafishmethodchar_method_a_plasmid_pos_fov_1',\n",
    "#  '2021_04_05_dnafishmethodchar_method_b_plasmid_neg_fov_1',\n",
    "#  '2021_04_05_dnafishmethodchar_method_b_plasmid_pos_fov_1',\n",
    "#  '2021_04_05_dnafishmethodchar_method_c_plasmid_neg_fov_1',\n",
    "#  '2021_04_05_dnafishmethodchar_method_c_plasmid_pos_fov_1',\n",
    "#  '2021_04_05_dnafishmethodchar_method_d_plasmid_neg_fov_1',\n",
    "#  '2021_04_05_dnafishmethodchar_method_d_plasmid_pos_fov_1',\n",
    "#  '2021_04_05_dnafishmethodchar_method_e_plasmid_neg_fov_1',\n",
    "#  '2021_04_05_dnafishmethodchar_method_e_plasmid_pos_fov_1',\n",
    "#  '2021_04_05_dnafishmethodchar_method_f_plasmid_neg_fov_1',\n",
    "#  '2021_04_05_dnafishmethodchar_method_f_plasmid_pos_fov_1',\n",
    "#  '2021_04_05_dnafishmethodchar_method_g_plasmid_neg_fov_1',\n",
    "#  '2021_04_05_dnafishmethodchar_method_g_plasmid_pos_fov_1']\n",
    "# out_dir = '../image_processing'\n",
    "# filenames = [out_dir + '/' + sn + '_rgb_tiff.png' for sn in sample_names]\n",
    "os.path.exists(filenames[0])\n",
    "## For image embedding via ipython, the filepath must be inreference to the current directory\n",
    "imfn.gallery(filenames, captions=sn_sort, row_height='500px')"
   ]
  },
  {
   "cell_type": "code",
   "execution_count": 16,
   "metadata": {},
   "outputs": [
    {
     "data": {
      "text/plain": [
       "'/fs/cbsuvlaminck2/workdir/bmg224/hiprfish/mobile_elements/experiments/2021_04_05_dnafishmethodchar/scripts'"
      ]
     },
     "execution_count": 16,
     "metadata": {},
     "output_type": "execute_result"
    }
   ],
   "source": [
    "cwd\n"
   ]
  },
  {
   "cell_type": "code",
   "execution_count": 17,
   "metadata": {},
   "outputs": [
    {
     "data": {
      "text/plain": [
       "'/fs/cbsuvlaminck2/workdir/bmg224/hiprfish/mobile_elements/experiments/2021_04_05_dnafishmethodchar/scripts'"
      ]
     },
     "execution_count": 17,
     "metadata": {},
     "output_type": "execute_result"
    }
   ],
   "source": [
    "os.getcwd()"
   ]
  }
 ],
 "metadata": {
  "kernelspec": {
   "display_name": "Python 3",
   "language": "python",
   "name": "python3"
  },
  "language_info": {
   "codemirror_mode": {
    "name": "ipython",
    "version": 3
   },
   "file_extension": ".py",
   "mimetype": "text/x-python",
   "name": "python",
   "nbconvert_exporter": "python",
   "pygments_lexer": "ipython3",
   "version": "3.5.6"
  }
 },
 "nbformat": 4,
 "nbformat_minor": 4
}

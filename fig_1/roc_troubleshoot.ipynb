{
 "cells": [
  {
   "cell_type": "code",
   "execution_count": 1,
   "metadata": {},
   "outputs": [],
   "source": [
    "%load_ext autoreload\n",
    "%autoreload 2"
   ]
  },
  {
   "cell_type": "code",
   "execution_count": 2,
   "metadata": {},
   "outputs": [],
   "source": [
    "from tqdm import tqdm\n",
    "import sys\n",
    "sys.path.append('/fs/cbsuvlaminck2/workdir/bmg224/hiprfish/image_analysis_code')\n",
    "import image_functions as imfn\n",
    "from segmentation import Segmentation\n"
   ]
  },
  {
   "cell_type": "code",
   "execution_count": 3,
   "metadata": {},
   "outputs": [
    {
     "name": "stdout",
     "output_type": "stream",
     "text": [
      "62\n"
     ]
    }
   ],
   "source": [
    "sample_names = imfn.get_sample_names()\n",
    "refl = ['gfp', 'cy5']\n",
    "factors = ['method', 'plasmid', 'fov']\n",
    "seg_list = []\n",
    "spot_seg = [Segmentation(sample_name=sn, illumination_names=refl, fname_mod='_spot_seg')\n",
    "            for sn in sample_names]\n",
    "print(len(spot_seg))\n"
   ]
  },
  {
   "cell_type": "code",
   "execution_count": 4,
   "metadata": {},
   "outputs": [
    {
     "name": "stdout",
     "output_type": "stream",
     "text": [
      "62\n"
     ]
    }
   ],
   "source": [
    "import pandas as pd\n",
    "spot_props_filenames = ['../data/images/' + sn + '_spot_seg_cell_id.csv' for sn in sample_names]\n",
    "spot_props = [pd.read_csv(f) for f in spot_props_filenames]\n",
    "print(len(spot_props))"
   ]
  },
  {
   "cell_type": "code",
   "execution_count": 5,
   "metadata": {},
   "outputs": [
    {
     "name": "stdout",
     "output_type": "stream",
     "text": [
      "62\n"
     ]
    }
   ],
   "source": [
    "cell_seg = [Segmentation(sample_name=sn, illumination_names=refl, fname_mod='_cell_seg')\n",
    "            for sn in sample_names]\n",
    "print(len(cell_seg))"
   ]
  },
  {
   "cell_type": "code",
   "execution_count": 6,
   "metadata": {},
   "outputs": [
    {
     "name": "stdout",
     "output_type": "stream",
     "text": [
      "62\n"
     ]
    }
   ],
   "source": [
    "cell_props_filenames = [cs.region_props_filename for cs in cell_seg]\n",
    "cell_props = [pd.read_csv(f) for f in cell_props_filenames]\n",
    "print(len(cell_props))"
   ]
  },
  {
   "cell_type": "code",
   "execution_count": 7,
   "metadata": {},
   "outputs": [
    {
     "name": "stdout",
     "output_type": "stream",
     "text": [
      "62\n"
     ]
    }
   ],
   "source": [
    "keys = [seg.get_filename_keys(factors) for seg in spot_seg]\n",
    "print(len(keys))"
   ]
  },
  {
   "cell_type": "code",
   "execution_count": 8,
   "metadata": {},
   "outputs": [
    {
     "data": {
      "text/plain": [
       "dict_keys(['c', 'h'])"
      ]
     },
     "execution_count": 8,
     "metadata": {},
     "output_type": "execute_result"
    }
   ],
   "source": [
    "from collections import defaultdict\n",
    "def group(im_seg_list, g_index):\n",
    "    im_seg_dict = defaultdict(list) \n",
    "    for im_seg in im_seg_list:\n",
    "        group = im_seg[g_index[0]][g_index[1]]\n",
    "        im_seg_dict[group].append(im_seg)\n",
    "    return im_seg_dict\n",
    "\n",
    "\n",
    "seg_list = zip(keys, spot_props, cell_props)\n",
    "im_seg_dict = group(seg_list, (0,0))\n",
    "for g0, s0 in im_seg_dict.items():\n",
    "    im_seg_dict[g0] = group(s0, (0,1))\n",
    "\n",
    "im_seg_dict['a'].keys()"
   ]
  },
  {
   "cell_type": "code",
   "execution_count": 10,
   "metadata": {},
   "outputs": [],
   "source": [
    "groups = ['a','b','c.1','e','h']\n",
    "control_factor = 'c'\n",
    "test_factor = 'h'"
   ]
  },
  {
   "cell_type": "code",
   "execution_count": 16,
   "metadata": {},
   "outputs": [
    {
     "name": "stdout",
     "output_type": "stream",
     "text": [
      "(200,) (200,)\n",
      "(200,) (200,)\n",
      "(200,) (200,)\n",
      "(200,) (200,)\n",
      "(200,) (200,)\n"
     ]
    }
   ],
   "source": [
    "import numpy as np\n",
    "from sklearn.metrics import auc\n",
    "\n",
    "roc_dict = {}\n",
    "for g in groups:\n",
    "    roc_dict[g] = {}\n",
    "    props_list_neg = im_seg_dict[g][control_factor]\n",
    "    props_list_pos = im_seg_dict[g][test_factor]\n",
    "    cells_true_pos = 0\n",
    "    cells_false_pos = 0\n",
    "    intensities = []\n",
    "    for props_neg in props_list_neg:\n",
    "        cells_false_pos += props_neg[1].cell_id.unique().shape[0]\n",
    "        intensities += props_neg[1].Intensity.tolist()\n",
    "    for props_pos in props_list_pos:\n",
    "        cells_true_pos += props_pos[1].cell_id.unique().shape[0]\n",
    "        intensities += props_pos[1].Intensity.tolist()\n",
    "\n",
    "    pos_count_list = []\n",
    "    neg_count_list = []\n",
    "    thresholds = np.linspace(np.min(intensities), np.max(intensities), 200)\n",
    "    for t in thresholds:\n",
    "        cells_neg = 0\n",
    "        cells_pos = 0\n",
    "        for props_neg in props_list_neg:\n",
    "            cells_neg += props_neg[1].loc[props_neg[1].Intensity >= t, 'cell_id'].unique().shape[0]\n",
    "        for props_pos in props_list_pos:\n",
    "            cells_pos += props_pos[1].loc[props_pos[1].Intensity >= t, 'cell_id'].unique().shape[0]\n",
    "        neg_count_list.append(cells_neg)\n",
    "        pos_count_list.append(cells_pos)\n",
    "\n",
    "    FPR = np.array(neg_count_list)/cells_false_pos\n",
    "    TPR = np.array(pos_count_list)/cells_true_pos\n",
    "    print(FPR.shape, TPR.shape)\n",
    "    AUC = auc(FPR, TPR)\n",
    "    roc_dict[g] = (FPR, TPR, AUC)"
   ]
  },
  {
   "cell_type": "code",
   "execution_count": 25,
   "metadata": {},
   "outputs": [
    {
     "data": {
      "image/png": "[encoded data removed]",
      "text/plain": [
       "<Figure size 360x360 with 1 Axes>"
      ]
     },
     "metadata": {
      "needs_background": "dark"
     },
     "output_type": "display_data"
    }
   ],
   "source": [
    "import matplotlib.pyplot as plt\n",
    "group_labels = ['Single Probe','Ten Probes','Amplified Probes','Helper Probes','Split-HCR Probes']\n",
    "dims = (5,5)\n",
    "ft = 18\n",
    "col = 'w'\n",
    "\n",
    "fig, ax = plt.subplots(figsize=(dims[0], dims[1]),  tight_layout={'pad': 0})\n",
    "for g, l in zip(groups, group_labels):\n",
    "    fpr, tpr, AUC = roc_dict[g]\n",
    "    label = l + ' AUC=' + str(np.round(AUC,3))\n",
    "    ax.plot(fpr, tpr, label=label, linewidth=2)\n",
    "    ax.set_xlabel('FPR', fontsize=ft, color=col)\n",
    "    ax.set_ylabel('TPR', fontsize=ft, color=col)\n",
    "    l = plt.legend(loc='lower right', fancybox=True, framealpha=0)\n",
    "    for text in l.get_texts():\n",
    "        text.set_color(col)\n",
    "        text.set_fontsize(ft*4//5)\n",
    "    ax.spines['top'].set_color(col)\n",
    "    ax.spines['bottom'].set_color(col)\n",
    "    ax.spines['left'].set_color(col)\n",
    "    ax.spines['right'].set_color(col)\n",
    "    ax.tick_params(direction='in', color=col, labelcolor=col, labelsize=ft*4//5) \n",
    "    output_filename = '../figures/ROC_curves.png'\n",
    "    plt.savefig(output_filename, transparent=True, dpi=300)\n"
   ]
  }
 ],
 "metadata": {
  "kernelspec": {
   "display_name": "Python 3",
   "language": "python",
   "name": "python3"
  },
  "language_info": {
   "codemirror_mode": {
    "name": "ipython",
    "version": 3
   },
   "file_extension": ".py",
   "mimetype": "text/x-python",
   "name": "python",
   "nbconvert_exporter": "python",
   "pygments_lexer": "ipython3",
   "version": "3.5.6"
  }
 },
 "nbformat": 4,
 "nbformat_minor": 4
}

{
 "cells": [
  {
   "cell_type": "markdown",
   "metadata": {},
   "source": [
    "# Adjust sizing on HIPRFISH and overaly with MGE fish image \n",
    "## Setup"
   ]
  },
  {
   "cell_type": "code",
   "execution_count": null,
   "metadata": {},
   "outputs": [],
   "source": [
    "import glob\n",
    "import sys\n",
    "import os\n",
    "import gc\n",
    "import pandas as pd\n",
    "import numpy as np\n",
    "import matplotlib.pyplot as plt\n",
    "import yaml\n",
    "import re\n",
    "from collections import defaultdict\n",
    "import aicspylibczi as aplc\n",
    "from skimage.registration import phase_cross_correlation\n",
    "from tqdm import tqdm\n",
    "from scipy.cluster import hierarchy\n",
    "from scipy.spatial.distance import squareform\n",
    "import umap\n",
    "import math\n",
    "from sklearn.cluster import AgglomerativeClustering\n",
    "from cv2 import resize, INTER_NEAREST\n",
    "from sklearn.neighbors import NearestNeighbors\n",
    "from scipy import stats\n",
    "from scipy.spatial.distance import squareform, pdist\n",
    "\n"
   ]
  },
  {
   "cell_type": "code",
   "execution_count": null,
   "metadata": {},
   "outputs": [],
   "source": [
    "cluster = '/fs/cbsuvlaminck2/'\n",
    "workdir = '/workdir/bmg224/manuscripts/mgefish/code/bmg_plasmids_imaging/agglomerative_clustering'\n",
    "os.chdir(cluster + workdir)\n",
    "os.getcwd()"
   ]
  },
  {
   "cell_type": "code",
   "execution_count": null,
   "metadata": {},
   "outputs": [],
   "source": [
    "config_fn = \"config_240107.yaml\"  # relative path to config file from workdir\n",
    "\n",
    "with open(config_fn, \"r\") as f:\n",
    "    config = yaml.safe_load(f)"
   ]
  },
  {
   "cell_type": "code",
   "execution_count": null,
   "metadata": {},
   "outputs": [],
   "source": [
    "%load_ext autoreload\n",
    "%autoreload 2\n",
    "\n",
    "sys.path.append(cluster + config['pipeline_path'] + '/' + config['functions_path'])\n",
    "import fn_general_use as fgu\n",
    "import image_plots as ip\n",
    "import segmentation_func as sf\n",
    "import fn_hiprfish_classifier as fhc\n",
    "import fn_spectral_images as fsi\n",
    "\n"
   ]
  },
  {
   "cell_type": "code",
   "execution_count": null,
   "metadata": {},
   "outputs": [],
   "source": [
    "# Get filenames from directories\n",
    "raw_dir = cluster + config[\"data_dir\"] + \"/*[y0-9].czi\"\n",
    "# raw_dir = config[\"data_dir\"] + \"/*\" + config[\"laser_regex\"]\n",
    "fns = glob.glob(raw_dir)\n",
    "fns_base = [os.path.split(f)[1] for f in fns]\n",
    "group_names = [re.sub(\"_2024\\w+.czi\", \"\", s) for s in fns_base]\n",
    "# print('HERE-->', shifts_fns)\n",
    "group_names = np.sort(np.unique(group_names))\n",
    "m_size = group_names.shape[0]\n",
    "dict_group_czifns_all = defaultdict(list)\n",
    "for g in group_names:\n",
    "    for s in fns:\n",
    "        if g in s:\n",
    "            dict_group_czifns_all[g].append(s)\n",
    "dict_group_czifns_all = {g: sorted(s) for g, s in dict_group_czifns_all.items()}\n",
    "dict_group_czifns_all"
   ]
  },
  {
   "cell_type": "code",
   "execution_count": null,
   "metadata": {},
   "outputs": [],
   "source": [
    "dict_group_czifns = {k: [v[0], v[1], v[2]] for k, v in dict_group_czifns_all.items() if len(v) > 1}\n",
    "dict_group_czifns"
   ]
  },
  {
   "cell_type": "code",
   "execution_count": null,
   "metadata": {},
   "outputs": [],
   "source": [
    "sn = \"2024_01_07_newplasmidredo2reimage_slide_7_fov_02\""
   ]
  },
  {
   "cell_type": "markdown",
   "metadata": {},
   "source": [
    "## Load data"
   ]
  },
  {
   "cell_type": "code",
   "execution_count": null,
   "metadata": {},
   "outputs": [],
   "source": [
    "output_dir = config['output_dir'] + '/' + sn\n",
    "\n",
    "stack_dir = output_dir + '/stacks'\n",
    "props_dir = output_dir + '/props'\n",
    "segs_dir = output_dir + '/segs'\n",
    "spec_dir = output_dir + '/spectra'\n",
    "clust_dir = output_dir + '/clust'"
   ]
  },
  {
   "cell_type": "code",
   "execution_count": null,
   "metadata": {},
   "outputs": [],
   "source": [
    "bn = sn + '_M_{}'\n",
    "\n",
    "stack_fn = stack_dir + '/' + bn + '_stack.npy'\n",
    "props_fn = props_dir + '/' + bn + '_props.csv'\n",
    "seg_fn = segs_dir + '/' + bn + '_seg.npy'\n",
    "spec_fn = spec_dir + '/' + bn + '_spec.yaml'\n",
    "clust_fn = clust_dir + '/' + bn + '_clust.yaml'"
   ]
  },
  {
   "cell_type": "code",
   "execution_count": null,
   "metadata": {},
   "outputs": [],
   "source": [
    "stack_fns = glob.glob(stack_fn.format('*'))\n",
    "stack_fns"
   ]
  },
  {
   "cell_type": "code",
   "execution_count": null,
   "metadata": {},
   "outputs": [],
   "source": [
    "Ms_hipr = [re.findall('(?<=_M_)\\d+', f)[0] for f in stack_fns]\n",
    "print(Ms_hipr)"
   ]
  },
  {
   "cell_type": "code",
   "execution_count": null,
   "metadata": {},
   "outputs": [],
   "source": [
    "stacks = [np.load(fn) for fn in stack_fns]"
   ]
  },
  {
   "cell_type": "code",
   "execution_count": null,
   "metadata": {},
   "outputs": [],
   "source": [
    "stacks = [x for _, x in sorted(zip(Ms_hipr, stacks))]"
   ]
  },
  {
   "cell_type": "code",
   "execution_count": null,
   "metadata": {},
   "outputs": [],
   "source": [
    "imin = 10\n",
    "stacks_sum = [np.sum(s, axis=2) for s in stacks]\n",
    "\n",
    "# stacks_sum_alt = stacks_sum[:3] + [np.zeros_like(stacks_sum[0])] + stacks_sum[3:]\n",
    "# ip.subplot_square_images(stacks_sum, (3,3), im_inches=imin, clims=clims)\n",
    "\n",
    "# ip.plot_image(stacks_sum[0], cmap='inferno', im_inches=imin)\n",
    "clims = [(3000,20000)]*4\n",
    "ip.subplot_square_images(stacks_sum, (2,2), im_inches=imin, clims=clims)"
   ]
  },
  {
   "cell_type": "code",
   "execution_count": null,
   "metadata": {},
   "outputs": [],
   "source": [
    "mge_raw_fn = dict_group_czifns_all[sn][4]\n",
    "mge_raw_fn"
   ]
  },
  {
   "cell_type": "code",
   "execution_count": null,
   "metadata": {},
   "outputs": [],
   "source": [
    "# mge_data_fn = '/workdir/Data/bmg224/2023/brc_imaging/2023_11_22_newplasmid/2023_11_22_newplasmid_sample_bmg_fov_05_2023_11_22__07_19_27_airy.czi'\n",
    "# czi_mge = aplc.CziFile(mge_data_fn)\n",
    "czi_mge = aplc.CziFile(mge_raw_fn)\n",
    "czi_mge.get_dims_shape()[0]"
   ]
  },
  {
   "cell_type": "code",
   "execution_count": null,
   "metadata": {},
   "outputs": [],
   "source": [
    "M_mge = 16"
   ]
  },
  {
   "cell_type": "code",
   "execution_count": null,
   "metadata": {},
   "outputs": [],
   "source": [
    "def reshape_aics_image(m_img):\n",
    "    '''\n",
    "    Given an AICS image with just XY and CHannel,\n",
    "    REshape into shape (X,Y,C)\n",
    "    '''\n",
    "    img = np.squeeze(m_img)\n",
    "    img = np.transpose(img, (1,2,0))\n",
    "    return img"
   ]
  },
  {
   "cell_type": "code",
   "execution_count": null,
   "metadata": {},
   "outputs": [],
   "source": [
    "raws_mge = []\n",
    "for m_s in range(M_mge):\n",
    "    im, sh = czi_mge.read_image(M=m_s)\n",
    "    im = reshape_aics_image(im)\n",
    "    raws_mge.append(im)"
   ]
  },
  {
   "cell_type": "code",
   "execution_count": null,
   "metadata": {},
   "outputs": [],
   "source": [
    "raws_mge_cell = [im[:,:,0] for im in raws_mge]\n",
    "clims = [(100,1000)]*16\n",
    "ip.subplot_square_images(raws_mge_cell, (4,4), clims=clims)"
   ]
  },
  {
   "cell_type": "code",
   "execution_count": null,
   "metadata": {},
   "outputs": [],
   "source": [
    "raws_mge_spot = [im[:,:,1] for im in raws_mge]\n",
    "clims = [(50,300)]*16\n",
    "ip.subplot_square_images(raws_mge_spot, (4,4), clims=(clims))"
   ]
  },
  {
   "cell_type": "markdown",
   "metadata": {},
   "source": [
    "## Resize HiPRFISH image"
   ]
  },
  {
   "cell_type": "code",
   "execution_count": null,
   "metadata": {},
   "outputs": [],
   "source": [
    "hipr_raw_fn = dict_group_czifns_all[sn][0]\n",
    "czi_hipr = aplc.CziFile(hipr_raw_fn)\n",
    "\n",
    "\n",
    "for n in czi_mge.meta.iter():\n",
    "    if 'Scaling' in n.tag:\n",
    "        if 'X' in n.tag:\n",
    "            res_mge = float(n.text)\n",
    "print('MGE m/pix',res_mge)\n",
    "\n",
    "for n in czi_hipr.meta.iter():\n",
    "    if 'Scaling' in n.tag:\n",
    "        if 'X' in n.tag:\n",
    "            res_hipr = float(n.text)\n",
    "print('HiPR m/pix',res_hipr)\n"
   ]
  },
  {
   "cell_type": "code",
   "execution_count": null,
   "metadata": {},
   "outputs": [],
   "source": [
    "def resize_hipr(im, hipr_res, mega_res, dims='none', out_fn=False, ul_corner=(0,0)):\n",
    "    # im = np.load(in_fn)\n",
    "    factor_resize = hipr_res / mega_res\n",
    "    hipr_resize = resize(\n",
    "            im,\n",
    "            None,\n",
    "            fx = factor_resize,\n",
    "            fy = factor_resize,\n",
    "            interpolation = INTER_NEAREST\n",
    "            )\n",
    "    if isinstance(dims, str): dims = hipr_resize.shape\n",
    "    hipr_resize = center_image(hipr_resize, dims, ul_corner)\n",
    "    # if out_fn: np.save(out_fn, hipr_resize)\n",
    "    return hipr_resize\n",
    "\n",
    "def center_image(im, dims, ul_corner):\n",
    "    shp = im.shape\n",
    "    if not all([dims[i] == shp[i] for i in range(len(dims))]):\n",
    "        shp_new = dims if len(shp) == 2 else dims + (shp[2],)\n",
    "        temp = np.zeros(shp_new)\n",
    "        br_corner = np.array(ul_corner) + np.array(shp[:2])\n",
    "        temp[ul_corner[0]:br_corner[0], ul_corner[1]:br_corner[1]] = im\n",
    "        im = temp\n",
    "    return im"
   ]
  },
  {
   "cell_type": "code",
   "execution_count": null,
   "metadata": {},
   "outputs": [],
   "source": [
    "# seg_fns = glob.glob(seg_fn.format('*'))\n",
    "seg_fns = [seg_fn.format(msh) for msh in Ms_hipr]\n",
    "segs = [np.load(fn) for fn in seg_fns]\n",
    "segs = [x for _, x in sorted(zip(Ms_hipr, segs))]\n",
    "\n",
    "stacks_max = [np.max(s, axis=2) for s in stacks]"
   ]
  },
  {
   "cell_type": "code",
   "execution_count": null,
   "metadata": {},
   "outputs": [],
   "source": [
    "hipr_res = []\n",
    "hipr_maxs_res = []\n",
    "hipr_sums_res = []\n",
    "hipr_segs_res = []\n",
    "for full, mx, sm, seg in zip(stacks, stacks_max, stacks_sum, segs):\n",
    "    hipr_res.append(resize_hipr(full, res_hipr, res_mge))\n",
    "    hipr_maxs_res.append(resize_hipr(mx, res_hipr, res_mge))\n",
    "    hipr_sums_res.append(resize_hipr(sm, res_hipr, res_mge))\n",
    "    hipr_segs_res.append(resize_hipr(seg, res_hipr, res_mge))"
   ]
  },
  {
   "cell_type": "markdown",
   "metadata": {},
   "source": [
    "## Shift MGE image"
   ]
  },
  {
   "cell_type": "code",
   "execution_count": null,
   "metadata": {},
   "outputs": [],
   "source": [
    "mge_shifts_dir = output_dir + '/mge_shifts'\n",
    "if not os.path.exists(mge_shifts_dir): \n",
    "    os.makedirs(mge_shifts_dir)\n",
    "    print('Made dir:',mge_shifts_dir)"
   ]
  },
  {
   "cell_type": "code",
   "execution_count": null,
   "metadata": {},
   "outputs": [],
   "source": [
    "mge_shift_fmt = mge_shifts_dir + \"/\" + bn + \"_mge_shift.npy\"\n",
    "\n",
    "edge = 500\n",
    "\n",
    "mge_m_list = [[0, 1, 4, 5], [2, 3, 6, 7], [8, 9, 12, 13], [10, 11, 14, 15]]\n",
    "\n",
    "# [0,1,4,5], [2,3,6,7],\n",
    "# [8,9,12,13],[10,11,14,15]\n",
    "# [14,15,20,21],[16,17,22,23],\n",
    "# [24,25,30,31],[26,27,32,33],[28,29,34,35]\n",
    "\n",
    "raws_mge_shift = []\n",
    "for m_h, (m_hstr, mge_ms) in enumerate(zip(Ms_hipr, mge_m_list)):\n",
    "    hipr_max_res = hipr_sums_res[m_h]\n",
    "    hipr_max_res_sm = sf.pre_process(hipr_max_res, gauss=5)\n",
    "    # hipr_max_res = hipr_maxs_res[m_h]\n",
    "    rms_shape = tuple([s + 2 * edge for s in hipr_max_res.shape])\n",
    "    # print(rms_shape)\n",
    "    raw_mge_shift = np.zeros(rms_shape + (2,))\n",
    "\n",
    "    rms = raws_mge_cell[0].shape\n",
    "    hrs = hipr_max_res.shape\n",
    "    corners = [\n",
    "        (0, 0),\n",
    "        (0, hrs[1] - rms[1]),\n",
    "        (hrs[0] - rms[0], 0),\n",
    "        (hrs[0] - rms[0], hrs[1] - rms[1]),\n",
    "    ]\n",
    "\n",
    "    # mge_ms = mge_m_list[m_h]\n",
    "\n",
    "    for i, (m_m, hipr_ul) in enumerate(zip(reversed(mge_ms), reversed(corners))):\n",
    "        # Get images\n",
    "        raw_mge_cell = raws_mge_cell[m_m]\n",
    "        raw_mge_cell_sm = sf.pre_process(raw_mge_cell, gauss=5)\n",
    "        raw_mge_m = raws_mge[m_m]\n",
    "        # Pick quadrant for hipr\n",
    "        hipr_ul = np.array(hipr_ul)\n",
    "        hipr_lr = hipr_ul + raw_mge_cell.shape\n",
    "        # Get same size MGE and hipr\n",
    "        hipr_max_res_quad = hipr_max_res_sm[\n",
    "            hipr_ul[0] : hipr_lr[0], hipr_ul[1] : hipr_lr[1]\n",
    "        ]\n",
    "        image_list = [hipr_max_res_quad, raw_mge_cell_sm]\n",
    "        # Register mge with hipr\n",
    "        shift_vectors = fsi._get_shift_vectors(image_list)\n",
    "        shifts = shift_vectors[1]\n",
    "        # if m_h == 0 and i == 1:  # 2024_01_07_newplasmidredo2reimage_slide_7_fov_03 \n",
    "        #     print(shifts)\n",
    "        #     shifts[0] = shifts[0] - 140\n",
    "        #     shifts[1] = shifts[1] - 50 \n",
    "        # Add mge based on shifts to full size image\n",
    "        ul = (hipr_ul + shifts + edge).astype(int)\n",
    "        lr = (ul + raw_mge_cell.shape).astype(int)\n",
    "        raw_mge_shift[ul[0] : lr[0], ul[1] : lr[1], :] = raw_mge_m\n",
    "    raws_mge_shift.append(raw_mge_shift)\n",
    "    out_fn = mge_shift_fmt.format(m_hstr)\n",
    "    # np.save(out_fn, raw_mge_shift)\n",
    "    # print('Wrote:', out_fn)"
   ]
  },
  {
   "cell_type": "code",
   "execution_count": null,
   "metadata": {},
   "outputs": [],
   "source": [
    "# edge_out_fn = mge_shifts_dir + '/' + bn.format('edgepixels') + '_mge_shift.txt'\n",
    "# with open(edge_out_fn, 'w') as f:\n",
    "#     f.write(str(edge))\n",
    "# print('Wrote:',edge_out_fn)"
   ]
  },
  {
   "cell_type": "code",
   "execution_count": null,
   "metadata": {},
   "outputs": [],
   "source": [
    "def norm(im, c=['min','max']):\n",
    "    mn = np.min(im) if c[0] == 'min' else c[0]\n",
    "    mx = np.max(im) if c[1] == 'max' else c[1]\n",
    "    im = np.clip(im, mn, mx)\n",
    "    return (im - mn) / (mx - mn)"
   ]
  },
  {
   "cell_type": "code",
   "execution_count": null,
   "metadata": {},
   "outputs": [],
   "source": [
    "imin=30\n",
    "\n",
    "mge_shifts_plot_bn = mge_shifts_dir + '/' + bn + '_mge_shift_plot'\n",
    "\n",
    "clips = [(0,20000),(0,1500)]\n",
    "\n",
    "for m_h, (m_hstr, mge_ms) in enumerate(zip(Ms_hipr, mge_m_list)):\n",
    "    raw_mge_shift = raws_mge_shift[m_h]\n",
    "\n",
    "    hipr_sum_res = hipr_sums_res[m_h]\n",
    "    hipr_sum_res_edge = np.zeros(raw_mge_shift.shape[:2])\n",
    "    hsr_shape = hipr_sum_res.shape\n",
    "    hipr_sum_res_edge[edge:edge+hsr_shape[0],edge:edge+hsr_shape[1]] = hipr_sum_res\n",
    "    \n",
    "\n",
    "    im_r = norm(hipr_sum_res_edge, clips[0])\n",
    "    im_g = norm(raw_mge_shift[:,:,0], clips[1])\n",
    "\n",
    "    im_rgb = np.zeros(im_r.shape + (3,))\n",
    "    im_rgb[:,:,0] = im_r\n",
    "    im_rgb[:,:,1] = im_g\n",
    "    ip.plot_image(im_rgb, im_inches=imin)\n",
    "    \n",
    "    # out_bn = mge_shifts_plot_bn.format(m_hstr)\n",
    "    # ip.save_png_pdf(out_bn)\n",
    "    # print('Wrote:',out_bn + '.png')\n",
    "\n",
    "    plt.show()    \n",
    "    plt.close()"
   ]
  },
  {
   "cell_type": "markdown",
   "metadata": {},
   "source": [
    "### Shift scratch paper"
   ]
  },
  {
   "cell_type": "code",
   "execution_count": null,
   "metadata": {},
   "outputs": [],
   "source": [
    "raw_mge = raws_mge[0]\n",
    "mega_cell = raws_mge_cell[0]\n",
    "hipr_sum_resize = hipr_maxs_res[0]\n",
    "hipr_view = hipr_sums_res[0]"
   ]
  },
  {
   "cell_type": "code",
   "execution_count": null,
   "metadata": {},
   "outputs": [],
   "source": [
    "ip.plot_image(hipr_view, cmap='inferno',im_inches=imin)"
   ]
  },
  {
   "cell_type": "code",
   "execution_count": null,
   "metadata": {},
   "outputs": [],
   "source": [
    "ip.plot_image(mega_cell, cmap='inferno',im_inches=imin)\n"
   ]
  },
  {
   "cell_type": "code",
   "execution_count": null,
   "metadata": {},
   "outputs": [],
   "source": [
    "# Which is the smaller image?\n",
    "mshp = mega_cell.shape[:2]\n",
    "hshp = hipr_sum_resize.shape[:2]\n",
    "im_list = [mega_cell, hipr_sum_resize]\n",
    "i_sml = np.argmin([mshp[0],hshp[0]])\n",
    "i_lrg = np.argmax([mshp[0],hshp[0]])\n",
    "sml = im_list[i_sml]\n",
    "lrg = im_list[i_lrg]\n",
    "# Get half the difference between sizes\n",
    "shp_dff = np.abs(np.array(hshp) - np.array(mshp)) // 2\n",
    "# Shift the smaller image so that it sits at the center of the larger image\n",
    "sml_shift_shape = lrg.shape[:2]\n",
    "if len(sml.shape) > 2:\n",
    "    sml_shift_shape += (sml.shape[2],)\n",
    "sml_shift = np.zeros(sml_shift_shape)\n",
    "corn_ind = np.array(shp_dff) + np.array(sml.shape[:2])\n",
    "sml_shift[shp_dff[0]:corn_ind[0], shp_dff[1]:corn_ind[1]] = sml\n",
    "# reassign mega and hipr image var names\n",
    "im_shift_list = [0,0]\n",
    "im_shift_list[i_sml] = sml_shift\n",
    "im_shift_list[i_lrg] = lrg\n",
    "mega_shift = im_shift_list[0]\n",
    "hipr_shift = im_shift_list[1]\n",
    "# Get the shift vectors for the mega image\n",
    "image_list = [hipr_shift, mega_shift]\n",
    "shift_vectors = fsi._get_shift_vectors(image_list)\n",
    "shift_vectors"
   ]
  },
  {
   "cell_type": "code",
   "execution_count": null,
   "metadata": {},
   "outputs": [],
   "source": [
    "def shift_mega(im):\n",
    "    '''Globally define:  mega_shift_vector, max_shift, dims, ul_corner'''\n",
    "    # im = np.load(in_fn)\n",
    "    if len(im.shape) == 2: im = im[...,None]\n",
    "    im = center_image(im, dims, ul_corner)\n",
    "    return fsi._shift_images([im], mega_shift_vector, max_shift=max_shift)"
   ]
  },
  {
   "cell_type": "code",
   "execution_count": null,
   "metadata": {},
   "outputs": [],
   "source": [
    "# Shift mge \n",
    "max_shift = 2000\n",
    "mega_shift_vector = [shift_vectors[1]]\n",
    "dims = lrg.shape\n",
    "ul_corner = shp_dff\n",
    "# run the shift function\n",
    "raw_shift = shift_mega(raw_mge)[0]"
   ]
  },
  {
   "cell_type": "markdown",
   "metadata": {},
   "source": [
    "Show the overlay"
   ]
  },
  {
   "cell_type": "code",
   "execution_count": null,
   "metadata": {},
   "outputs": [],
   "source": [
    "def norm(im, c=['min','max']):\n",
    "    mn = np.min(im) if c[0] == 'min' else c[0]\n",
    "    mx = np.max(im) if c[1] == 'max' else c[1]\n",
    "    im = np.clip(im, mn, mx)\n",
    "    return (im - mn) / (mx - mn)"
   ]
  },
  {
   "cell_type": "code",
   "execution_count": null,
   "metadata": {},
   "outputs": [],
   "source": [
    "clips = [(0,20000),(0,1500)]\n",
    "\n",
    "im_r = norm(hipr_view, clips[0])\n",
    "im_g = norm(raw_shift[:,:,0], clips[1])\n",
    "\n",
    "im_rgb = np.zeros(im_r.shape + (3,))\n",
    "im_rgb[:,:,0] = im_r\n",
    "im_rgb[:,:,1] = im_g\n",
    "ip.plot_image(im_rgb, im_inches=imin)\n",
    "plt.show()    \n",
    "plt.close()\n"
   ]
  },
  {
   "cell_type": "markdown",
   "metadata": {},
   "source": [
    "Try shift again with subset hipr"
   ]
  },
  {
   "cell_type": "code",
   "execution_count": null,
   "metadata": {},
   "outputs": [],
   "source": [
    "m_h = 0\n",
    "hipr_max_res = hipr_maxs_res[m_h]\n",
    "edge = 500\n",
    "rms_shape = tuple([s + 2*edge for s in hipr_max_res.shape])\n",
    "raw_mge_shift = np.zeros(rms_shape + (2,))\n",
    "raw_mge_shift.shape"
   ]
  },
  {
   "cell_type": "code",
   "execution_count": null,
   "metadata": {},
   "outputs": [],
   "source": [
    "m_m = 0\n",
    "# Get images\n",
    "raw_mge_cell = raws_mge_cell[m_m]\n",
    "raw_mge_m = raws_mge[m_m]\n",
    "# Pick quadrant for hipr\n",
    "hipr_ul = np.array([0,0])\n",
    "hipr_lr = hipr_ul + raw_mge_cell.shape\n",
    "# Get same size MGE and hipr\n",
    "hipr_max_res_quad = hipr_max_res[hipr_ul[0]:hipr_lr[0],hipr_ul[1]:hipr_lr[1]]\n",
    "image_list = [hipr_max_res_quad, raw_mge_cell]\n",
    "# Register mge with hipr\n",
    "shift_vectors = fsi._get_shift_vectors(image_list)\n",
    "shifts = shift_vectors[1]\n",
    "# Add mge based on shifts to full size image\n",
    "# ul = (hipr_ul + shifts).astype(int)\n",
    "# lr = (ul + raw_mge_cell.shape).astype(int)\n",
    "ul = (hipr_ul + shifts + edge).astype(int)\n",
    "lr = (ul + raw_mge_cell.shape).astype(int)\n",
    "raw_mge_shift[ul[0]:lr[0],ul[1]:lr[1],:] = raw_mge_m"
   ]
  },
  {
   "cell_type": "code",
   "execution_count": null,
   "metadata": {},
   "outputs": [],
   "source": [
    "hipr_sum_res = hipr_sums_res[m_h]\n",
    "hipr_sum_res_edge = np.zeros(rms_shape)\n",
    "hipr_sum_res_edge[edge:edge+hrs[0],edge:edge+hrs[1]] = hipr_sum_res"
   ]
  },
  {
   "cell_type": "code",
   "execution_count": null,
   "metadata": {},
   "outputs": [],
   "source": [
    "clips = [(0,20000),(0,1500)]\n",
    "\n",
    "\n",
    "im_r = norm(hipr_sum_res_edge, clips[0])\n",
    "im_g = norm(raw_mge_shift[:,:,0], clips[1])\n",
    "\n",
    "im_rgb = np.zeros(im_r.shape + (3,))\n",
    "im_rgb[:,:,0] = im_r\n",
    "im_rgb[:,:,1] = im_g\n",
    "ip.plot_image(im_rgb, im_inches=imin)\n",
    "plt.show()    \n",
    "plt.close()"
   ]
  },
  {
   "cell_type": "code",
   "execution_count": null,
   "metadata": {},
   "outputs": [],
   "source": [
    "m_m = 0\n",
    "M_ms = [0,1,2,3]\n",
    "\n",
    "raw_mge_shift = np.zeros(rms_shape + (2,))\n",
    "rms = raws_mge_cell[0].shape\n",
    "hrs = hipr_max_res.shape\n",
    "corners = [(0,0),(0,hrs[1]-rms[1]),(hrs[0]-rms[0],0),(hrs[0]-rms[0],hrs[1]-rms[1])]\n",
    "for m_m, hipr_ul in zip(M_ms, corners):\n",
    "    # Get images\n",
    "    raw_mge_cell = raws_mge_cell[m_m]\n",
    "    raw_mge_m = raws_mge[m_m]\n",
    "    # Pick quadrant for hipr\n",
    "    hipr_ul = np.array(hipr_ul)\n",
    "    hipr_lr = hipr_ul + raw_mge_cell.shape\n",
    "    # Get same size MGE and hipr\n",
    "    hipr_max_res_quad = hipr_max_res[hipr_ul[0]:hipr_lr[0],hipr_ul[1]:hipr_lr[1]]\n",
    "    image_list = [hipr_max_res_quad, raw_mge_cell]\n",
    "    # Register mge with hipr\n",
    "    shift_vectors = fsi._get_shift_vectors(image_list)\n",
    "    shifts = shift_vectors[1]\n",
    "    # Add mge based on shifts to full size image\n",
    "    ul = (hipr_ul + shifts + edge).astype(int)\n",
    "    lr = (ul + raw_mge_cell.shape).astype(int)\n",
    "    raw_mge_shift[ul[0]:lr[0],ul[1]:lr[1],:] = raw_mge_m"
   ]
  },
  {
   "cell_type": "code",
   "execution_count": null,
   "metadata": {},
   "outputs": [],
   "source": [
    "clips = [(0,20000),(0,1500)]\n",
    "\n",
    "im_r = norm(hipr_sum_res_edge, clips[0])\n",
    "im_g = norm(raw_mge_shift[:,:,0], clips[1])\n",
    "\n",
    "im_rgb = np.zeros(im_r.shape + (3,))\n",
    "im_rgb[:,:,0] = im_r\n",
    "im_rgb[:,:,1] = im_g\n",
    "ip.plot_image(im_rgb, im_inches=imin)\n",
    "plt.show()    \n",
    "plt.close()"
   ]
  },
  {
   "cell_type": "code",
   "execution_count": null,
   "metadata": {},
   "outputs": [],
   "source": [
    "ul"
   ]
  },
  {
   "cell_type": "code",
   "execution_count": null,
   "metadata": {},
   "outputs": [],
   "source": [
    "mge_shifts_dir = output_dir + '/mge_shifts'\n",
    "if not os.path.exists(mge_shifts_dir): \n",
    "    os.makedirs(mge_shifts_dir)\n",
    "    print('Made dir:',mge_shifts_dir)"
   ]
  },
  {
   "cell_type": "code",
   "execution_count": null,
   "metadata": {},
   "outputs": [],
   "source": [
    "mge_shift_fmt = mge_shifts_dir + '/' + bn + '_mge_shift.npy'\n",
    "\n",
    "edge = 500\n",
    "\n",
    "mge_m_list = [\n",
    "    [0,1,2,3]\n",
    "]\n",
    "\n",
    "raws_mge_shift = []\n",
    "for m_h in range(M_hipr):\n",
    "    hipr_max_res = hipr_maxs_res[m_h]\n",
    "    rms_shape = tuple([s + 2*edge for s in hipr_max_res.shape])\n",
    "    # print(rms_shape)\n",
    "    raw_mge_shift = np.zeros(rms_shape + (2,))\n",
    "\n",
    "    rms = raws_mge_cell[0].shape\n",
    "    hrs = hipr_max_res.shape\n",
    "    corners = [(0,0),(0,hrs[1]-rms[1]),(hrs[0]-rms[0],0),(hrs[0]-rms[0],hrs[1]-rms[1])]\n",
    "\n",
    "    mge_ms = mge_m_list[m_h]\n",
    "\n",
    "    for m_m, hipr_ul in zip(mge_ms, corners):\n",
    "        # Get images\n",
    "        raw_mge_cell = raws_mge_cell[m_m]\n",
    "        raw_mge_m = raws_mge[m_m]\n",
    "        # Pick quadrant for hipr\n",
    "        hipr_ul = np.array(hipr_ul)\n",
    "        hipr_lr = hipr_ul + raw_mge_cell.shape\n",
    "        # Get same size MGE and hipr\n",
    "        hipr_max_res_quad = hipr_max_res[hipr_ul[0]:hipr_lr[0],hipr_ul[1]:hipr_lr[1]]\n",
    "        image_list = [hipr_max_res_quad, raw_mge_cell]\n",
    "        # Register mge with hipr\n",
    "        shift_vectors = fsi._get_shift_vectors(image_list)\n",
    "        shifts = shift_vectors[1]\n",
    "        # Add mge based on shifts to full size image\n",
    "        ul = (hipr_ul + shifts + edge).astype(int)\n",
    "        lr = (ul + raw_mge_cell.shape).astype(int)\n",
    "        raw_mge_shift[ul[0]:lr[0],ul[1]:lr[1],:] = raw_mge_m\n",
    "    raws_mge_shift.append(raw_mge_shift)\n",
    "    out_fn = mge_shift_fmt.format(m_h)\n",
    "    np.save(out_fn, raw_mge_shift)\n",
    "    print('Wrote:', out_fn)\n",
    "\n"
   ]
  },
  {
   "cell_type": "code",
   "execution_count": null,
   "metadata": {},
   "outputs": [],
   "source": [
    "edge_out_fn = mge_shifts_dir + '/' + bn.format('edgepixels') + '_mge_shift.txt'\n",
    "with open(edge_out_fn, 'w') as f:\n",
    "    f.write(str(edge))\n",
    "print('Wrote:',edge_out_fn)"
   ]
  },
  {
   "cell_type": "code",
   "execution_count": null,
   "metadata": {},
   "outputs": [],
   "source": [
    "\n",
    "\n",
    "mge_shifts_plot_bn = mge_shifts_dir + '/' + bn + '_mge_shift_plot'\n",
    "\n",
    "clips = [(0,20000),(0,1500)]\n",
    "\n",
    "for m_h in range(M_hipr):\n",
    "    raw_mge_shift = raws_mge_shift[m_h]\n",
    "\n",
    "    hipr_sum_res = hipr_sums_res[m_h]\n",
    "    hipr_sum_res_edge = np.zeros(raw_mge_shift.shape[:2])\n",
    "    hsr_shape = hipr_sum_res.shape\n",
    "    hipr_sum_res_edge[edge:edge+hsr_shape[0],edge:edge+hsr_shape[1]] = hipr_sum_res\n",
    "    \n",
    "\n",
    "    im_r = norm(hipr_sum_res_edge, clips[0])\n",
    "    im_g = norm(raw_mge_shift[:,:,0], clips[1])\n",
    "\n",
    "    im_rgb = np.zeros(im_r.shape + (3,))\n",
    "    im_rgb[:,:,0] = im_r\n",
    "    im_rgb[:,:,1] = im_g\n",
    "    ip.plot_image(im_rgb, im_inches=imin)\n",
    "    out_bn = mge_shifts_plot_bn.format(m_h)\n",
    "    # ip.save_png_pdf(out_bn)\n",
    "    # print('Wrote:',out_bn + '.png')\n",
    "    plt.show()    \n",
    "    plt.close()"
   ]
  },
  {
   "cell_type": "markdown",
   "metadata": {},
   "source": [
    "## Get MGE spots"
   ]
  },
  {
   "cell_type": "code",
   "execution_count": null,
   "metadata": {},
   "outputs": [],
   "source": [
    "# pick image\n",
    "m_h = 2\n",
    "imin = 30\n",
    "\n",
    "clim_mge = (100, 300)\n",
    "\n",
    "im = raws_mge_shift[m_h][:, :, 1]\n",
    "ip.plot_image(im, cmap=\"inferno\", im_inches=imin, clims=clim_mge)"
   ]
  },
  {
   "cell_type": "code",
   "execution_count": null,
   "metadata": {},
   "outputs": [],
   "source": [
    "# pre-process\n",
    "gauss=2\n",
    "\n",
    "im_pre = sf.pre_process(im, log=False, denoise=0, gauss=gauss, diff_gauss=(0,))\n",
    "# check pre-processing\n",
    "ip.plot_image(im_pre, cmap=\"inferno\", im_inches=imin, clims=clim_mge)"
   ]
  },
  {
   "cell_type": "code",
   "execution_count": null,
   "metadata": {},
   "outputs": [],
   "source": [
    "# Get mask\n",
    "bg_thresh = 100\n",
    "\n",
    "im_mask = sf.get_background_mask(\n",
    "    im_pre, bg_smoothing=0, n_clust_bg=3, top_n_clust_bg=1, bg_threshold=bg_thresh\n",
    ")\n",
    "# check mask\n",
    "fig, ax, cbar = ip.plot_image(\n",
    "    (im_pre * im_mask), cmap=\"inferno\", im_inches=imin, clims=clim_mge\n",
    ")\n",
    "ax.imshow(np.dstack([0.5 * (~im_mask)] * 4))\n",
    "# segment\n",
    "# Check segmentation\n",
    "# Save segmentation"
   ]
  },
  {
   "cell_type": "markdown",
   "metadata": {},
   "source": [
    "Remove large objects and low intensity objects"
   ]
  },
  {
   "cell_type": "code",
   "execution_count": null,
   "metadata": {},
   "outputs": [],
   "source": [
    "# segment\n",
    "# im_seg = sf.segment(\n",
    "#     im_pre,\n",
    "#     background_mask = im_mask\n",
    "#     )\n",
    "\n",
    "im_seg = sf.label(im_mask)\n",
    "# im_seg = segment_no_lne(im_pre, im_mask)"
   ]
  },
  {
   "cell_type": "code",
   "execution_count": null,
   "metadata": {},
   "outputs": [],
   "source": [
    "# Check segmentation\n",
    "seg_zoom_rgb = ip.seg2rgb(im_seg)\n",
    "ip.plot_image(seg_zoom_rgb, im_inches=imin)\n",
    "# Save segmentation "
   ]
  },
  {
   "cell_type": "code",
   "execution_count": null,
   "metadata": {},
   "outputs": [],
   "source": [
    "# Get spot properties\n",
    "prop = sf.measure_regionprops(im_seg, raw=im)\n",
    "prop.shape"
   ]
  },
  {
   "cell_type": "code",
   "execution_count": null,
   "metadata": {},
   "outputs": [],
   "source": [
    "int_thresh = 100\n",
    "\n",
    "fig, ax = ip.general_plot(dims=(10,5))\n",
    "x = np.arange(prop.shape[0])\n",
    "y = prop.max_intensity.sort_values()\n",
    "ax.scatter(x,y, s=1)\n",
    "ax.set_title('Spot Max Intensity (a.u.)')\n",
    "ax.plot([0,x.shape[0]], [int_thresh]*2, 'k')"
   ]
  },
  {
   "cell_type": "code",
   "execution_count": null,
   "metadata": {},
   "outputs": [],
   "source": [
    "bool_int = prop.max_intensity.values > int_thresh\n",
    "print(len(bool_int))\n",
    "print(sum(bool_int))"
   ]
  },
  {
   "cell_type": "code",
   "execution_count": null,
   "metadata": {},
   "outputs": [],
   "source": [
    "area_thresh = 3000\n",
    "fig, ax = ip.general_plot(dims=(10,5))\n",
    "x = np.arange(prop.shape[0])\n",
    "y = prop.area.sort_values()\n",
    "ax.scatter(x,y, s=1)\n",
    "ax.set_title('Spot Area (pixels)')\n",
    "ax.plot([0,x.shape[0]], [area_thresh]*2, 'k')"
   ]
  },
  {
   "cell_type": "code",
   "execution_count": null,
   "metadata": {},
   "outputs": [],
   "source": [
    "bool_area = prop.area.values < area_thresh\n",
    "print(len(bool_area))\n",
    "print(sum(bool_area))"
   ]
  },
  {
   "cell_type": "code",
   "execution_count": null,
   "metadata": {},
   "outputs": [],
   "source": [
    "ecc_thresh = 0.9\n",
    "fig, ax = ip.general_plot(dims=(10,5))\n",
    "x = np.arange(prop.shape[0])\n",
    "y = prop.eccentricity.sort_values()\n",
    "ax.scatter(x,y, s=1)\n",
    "ax.set_title('Spot eccentricity (pixels)')\n",
    "ax.plot([0,x.shape[0]], [ecc_thresh]*2, 'k')"
   ]
  },
  {
   "cell_type": "code",
   "execution_count": null,
   "metadata": {},
   "outputs": [],
   "source": [
    "bool_ecc = prop.eccentricity.values < ecc_thresh\n",
    "print(len(bool_ecc))\n",
    "print(sum(bool_ecc))"
   ]
  },
  {
   "cell_type": "code",
   "execution_count": null,
   "metadata": {},
   "outputs": [],
   "source": [
    "# bools = np.array([True for _ in bool_area])\n",
    "bools = bool_area\n",
    "# bools = bool_area * bool_int\n",
    "# bools = bool_area * bool_int * bool_ecc"
   ]
  },
  {
   "cell_type": "code",
   "execution_count": null,
   "metadata": {},
   "outputs": [],
   "source": [
    "# Filtered spots\n",
    "seg_zoom_rgb_filt = seg_zoom_rgb.copy()\n",
    "\n",
    "for i, row in prop[bools].iterrows():\n",
    "    l = row.label\n",
    "    b = row.bbox\n",
    "    b = eval(b) if isinstance(b, str) else b\n",
    "    rgb_sub = seg_zoom_rgb_filt[b[0] : b[2], b[1] : b[3]]\n",
    "    seg_sub = im_seg[b[0] : b[2], b[1] : b[3]] == l\n",
    "    # im_sub = im_norm[b[0]:b[2],b[1]:b[3]]\n",
    "    # color = np.array([0,0,1,0.5])\n",
    "    # color = np.array(dict_bc_col[cl] + (1,))\n",
    "    # rgb_noncell =  rgb_sub * np.dstack([~seg_sub]*3 + np.ones_like(seg_sub))\n",
    "    rgb_noncell = rgb_sub * np.dstack([~seg_sub] * rgb_sub.shape[2])\n",
    "    # rgb_cell = (im_sub * seg_sub)[:,:,None] * color[None,:]\n",
    "    # rgb_cell = seg_sub[:,:,None] * color[None,:]\n",
    "    seg_zoom_rgb_filt[b[0] : b[2], b[1] : b[3], :] = rgb_noncell\n",
    "\n",
    "ip.plot_image(seg_zoom_rgb_filt, im_inches=imin)"
   ]
  },
  {
   "cell_type": "code",
   "execution_count": null,
   "metadata": {},
   "outputs": [],
   "source": [
    "# Unfiltered spots\n",
    "seg_zoom_rgb_areafilt = seg_zoom_rgb.copy()\n",
    "for i, row in prop[~bools].iterrows():\n",
    "    l = row.label\n",
    "    b = row.bbox\n",
    "    b = eval(b) if isinstance(b, str) else b\n",
    "    rgb_sub = seg_zoom_rgb_areafilt[b[0]:b[2],b[1]:b[3]]\n",
    "    seg_sub = im_seg[b[0]:b[2],b[1]:b[3]] == l\n",
    "    # im_sub = im_norm[b[0]:b[2],b[1]:b[3]]\n",
    "    # color = np.array([0,0,1,0.5])\n",
    "    # color = np.array(dict_bc_col[cl] + (1,))\n",
    "    # rgb_noncell =  rgb_sub * np.dstack([~seg_sub]*3 + np.ones_like(seg_sub))\n",
    "    rgb_noncell = rgb_sub * np.dstack([~seg_sub]*rgb_sub.shape[2])\n",
    "    # rgb_cell = (im_sub * seg_sub)[:,:,None] * color[None,:]\n",
    "    # rgb_cell = seg_sub[:,:,None] * color[None,:]\n",
    "    seg_zoom_rgb_areafilt[b[0]:b[2],b[1]:b[3],:] = rgb_noncell\n",
    "    \n",
    "ip.plot_image(seg_zoom_rgb_areafilt, im_inches=imin)\n"
   ]
  },
  {
   "cell_type": "code",
   "execution_count": null,
   "metadata": {},
   "outputs": [],
   "source": [
    "# Filtered spots\n",
    "\n",
    "seg_mask_filt = np.sum(seg_zoom_rgb_filt, axis=2) > 0\n",
    "# seg_mask_areafilt = np.sum(seg_zoom_rgb_areafilt, axis=2) > 0\n",
    "fig, ax, cbar = ip.plot_image(im*seg_mask_filt, im_inches=imin, clims=clim_mge)\n",
    "ax.imshow(np.dstack([0.5*(~seg_mask_filt)]*4))\n"
   ]
  },
  {
   "cell_type": "code",
   "execution_count": null,
   "metadata": {},
   "outputs": [],
   "source": [
    "# Unfiltered spots\n",
    "\n",
    "seg_mask_areafilt = np.sum(seg_zoom_rgb_areafilt, axis=2) > 0\n",
    "# seg_mask_areafilt = np.sum(seg_zoom_rgb_areafilt, axis=2) > 0\n",
    "fig, ax, cbar = ip.plot_image(im * seg_mask_areafilt, im_inches=imin, clims=clim_mge)\n",
    "ax.imshow(np.dstack([0.5 * (~seg_mask_areafilt)] * 4))"
   ]
  },
  {
   "cell_type": "markdown",
   "metadata": {},
   "source": [
    "Segment with watershed"
   ]
  },
  {
   "cell_type": "code",
   "execution_count": null,
   "metadata": {},
   "outputs": [],
   "source": [
    "# more aggressiv mask\n",
    "im_mask2 = im_pre > 125\n",
    "\n",
    "# check mask\n",
    "fig, ax, cbar = ip.plot_image(\n",
    "    (im_pre * im_mask2 * seg_mask_areafilt),\n",
    "    cmap=\"inferno\",\n",
    "    im_inches=imin,\n",
    "    clims=clim_mge,\n",
    ")\n",
    "ax.imshow(np.dstack([0.5 * ~(im_mask2 * seg_mask_areafilt)] * 4))"
   ]
  },
  {
   "cell_type": "code",
   "execution_count": null,
   "metadata": {},
   "outputs": [],
   "source": [
    "def segment_no_lne(image, mask):\n",
    "    seeds = sf.label(sf.peak_local_max(image, min_distance=1, indices=False))\n",
    "    watershed_input = -image*mask\n",
    "    seg = sf.watershed(watershed_input, seeds, mask=mask, watershed_line=True)\n",
    "    return sf.label(seg)"
   ]
  },
  {
   "cell_type": "code",
   "execution_count": null,
   "metadata": {},
   "outputs": [],
   "source": [
    "# segment\n",
    "# im_seg = sf.segment(\n",
    "#     im_pre,\n",
    "#     background_mask = im_mask\n",
    "#     )\n",
    "\n",
    "mask_fin = seg_mask_areafilt*im_mask2\n",
    "im_seg2 = sf.label(mask_fin)\n",
    "# im_seg2 = segment_no_lne(im_pre, mask_fin)"
   ]
  },
  {
   "cell_type": "code",
   "execution_count": null,
   "metadata": {},
   "outputs": [],
   "source": [
    "# Check segmentation\n",
    "seg2_zoom_rgb = ip.seg2rgb(im_seg2)\n",
    "ip.plot_image(seg2_zoom_rgb, im_inches=imin)"
   ]
  },
  {
   "cell_type": "code",
   "execution_count": null,
   "metadata": {},
   "outputs": [],
   "source": [
    "# Get spot properties\n",
    "prop2 = sf.measure_regionprops(im_seg2, raw=im)\n",
    "prop.shape"
   ]
  },
  {
   "cell_type": "code",
   "execution_count": null,
   "metadata": {},
   "outputs": [],
   "source": [
    "area_thresh2 = 600\n",
    "fig, ax = ip.general_plot(dims=(10,5))\n",
    "x = np.arange(prop2.shape[0])\n",
    "y = prop2.area.sort_values()\n",
    "ax.scatter(x,y, s=1)\n",
    "ax.set_title('Spot Area (pixels)')\n",
    "ax.plot([0,x.shape[0]], [area_thresh2]*2, 'k')"
   ]
  },
  {
   "cell_type": "code",
   "execution_count": null,
   "metadata": {},
   "outputs": [],
   "source": [
    "bool_area2 = prop2.area.values < area_thresh2\n",
    "print(len(bool_area2))\n",
    "print(sum(bool_area2))"
   ]
  },
  {
   "cell_type": "code",
   "execution_count": null,
   "metadata": {},
   "outputs": [],
   "source": [
    "# bools = np.array([True for _ in bool_area])\n",
    "bools2 = bool_area2\n",
    "# bools = bool_area * bool_int\n",
    "# bools = bool_area * bool_int * bool_ecc"
   ]
  },
  {
   "cell_type": "code",
   "execution_count": null,
   "metadata": {},
   "outputs": [],
   "source": [
    "# Filtered spots\n",
    "seg_zoom_rgb_filt2 = seg2_zoom_rgb.copy()\n",
    "\n",
    "for i, row in prop2[bools2].iterrows():\n",
    "    l = row.label\n",
    "    b = row.bbox\n",
    "    b = eval(b) if isinstance(b, str) else b\n",
    "    rgb_sub = seg_zoom_rgb_filt2[b[0] : b[2], b[1] : b[3]]\n",
    "    seg_sub = im_seg2[b[0] : b[2], b[1] : b[3]] == l\n",
    "    # im_sub = im_norm[b[0]:b[2],b[1]:b[3]]\n",
    "    # color = np.array([0,0,1,0.5])\n",
    "    # color = np.array(dict_bc_col[cl] + (1,))\n",
    "    # rgb_noncell =  rgb_sub * np.dstack([~seg_sub]*3 + np.ones_like(seg_sub))\n",
    "    rgb_noncell = rgb_sub * np.dstack([~seg_sub] * rgb_sub.shape[2])\n",
    "    # rgb_cell = (im_sub * seg_sub)[:,:,None] * color[None,:]\n",
    "    # rgb_cell = seg_sub[:,:,None] * color[None,:]\n",
    "    seg_zoom_rgb_filt2[b[0] : b[2], b[1] : b[3], :] = rgb_noncell\n",
    "\n",
    "ip.plot_image(seg_zoom_rgb_filt2, im_inches=imin)"
   ]
  },
  {
   "cell_type": "code",
   "execution_count": null,
   "metadata": {},
   "outputs": [],
   "source": [
    "# Unfiltered spots\n",
    "seg_zoom_rgb_areafilt2 = seg2_zoom_rgb.copy()\n",
    "for i, row in prop2[~bools2].iterrows():\n",
    "    l = row.label\n",
    "    b = row.bbox\n",
    "    b = eval(b) if isinstance(b, str) else b\n",
    "    rgb_sub = seg_zoom_rgb_areafilt2[b[0]:b[2],b[1]:b[3]]\n",
    "    seg_sub = im_seg2[b[0]:b[2],b[1]:b[3]] == l\n",
    "    # im_sub = im_norm[b[0]:b[2],b[1]:b[3]]\n",
    "    # color = np.array([0,0,1,0.5])\n",
    "    # color = np.array(dict_bc_col[cl] + (1,))\n",
    "    # rgb_noncell =  rgb_sub * np.dstack([~seg_sub]*3 + np.ones_like(seg_sub))\n",
    "    rgb_noncell = rgb_sub * np.dstack([~seg_sub]*rgb_sub.shape[2])\n",
    "    # rgb_cell = (im_sub * seg_sub)[:,:,None] * color[None,:]\n",
    "    # rgb_cell = seg_sub[:,:,None] * color[None,:]\n",
    "    seg_zoom_rgb_areafilt2[b[0]:b[2],b[1]:b[3],:] = rgb_noncell\n",
    "    \n",
    "ip.plot_image(seg_zoom_rgb_areafilt2, im_inches=imin)\n"
   ]
  },
  {
   "cell_type": "code",
   "execution_count": null,
   "metadata": {},
   "outputs": [],
   "source": [
    "# Filtered spots\n",
    "\n",
    "seg_mask_filt2 = np.sum(seg_zoom_rgb_filt2, axis=2) > 0\n",
    "# seg_mask_areafilt = np.sum(seg_zoom_rgb_areafilt, axis=2) > 0\n",
    "fig, ax, cbar = ip.plot_image(im*seg_mask_filt2, im_inches=imin, clims=clim_mge)\n",
    "ax.imshow(np.dstack([0.5*(~seg_mask_filt2)]*4))\n"
   ]
  },
  {
   "cell_type": "code",
   "execution_count": null,
   "metadata": {},
   "outputs": [],
   "source": [
    "# Unfiltered spots\n",
    "\n",
    "seg_mask_areafilt2 = np.sum(seg_zoom_rgb_areafilt2, axis=2) > 0\n",
    "# seg_mask_areafilt = np.sum(seg_zoom_rgb_areafilt, axis=2) > 0\n",
    "fig, ax, cbar = ip.plot_image(im * seg_mask_areafilt2, im_inches=imin, clims=clim_mge)\n",
    "ax.imshow(np.dstack([0.5 * (~seg_mask_areafilt2)] * 4))"
   ]
  },
  {
   "cell_type": "code",
   "execution_count": null,
   "metadata": {},
   "outputs": [],
   "source": [
    "mask_fin2 = mask_fin * seg_mask_areafilt2"
   ]
  },
  {
   "cell_type": "markdown",
   "metadata": {},
   "source": [
    "### Pick spots that look like psfs\n",
    "Visualize peak local maxima"
   ]
  },
  {
   "cell_type": "code",
   "execution_count": null,
   "metadata": {},
   "outputs": [],
   "source": [
    "pre_masked = im_pre * mask_fin2\n",
    "plm_inds = sf.peak_local_max(pre_masked)\n",
    "plm_inds.shape"
   ]
  },
  {
   "cell_type": "code",
   "execution_count": null,
   "metadata": {},
   "outputs": [],
   "source": [
    "rng = 20\n",
    "\n",
    "color='r'\n",
    "alpha=0.1\n",
    "width=3\n",
    "\n",
    "fig, ax = ip.general_plot(dims=(10,10), col='w')\n",
    "for r, c in plm_inds:\n",
    "    vals_r = im_pre[r-rng:r+rng, c]\n",
    "    vals_c = im_pre[r, c-rng:c+rng]\n",
    "    for v in [vals_r, vals_c]:\n",
    "        ax.plot(np.arange(rng*2), v, color=color, alpha=alpha, lw=width)\n",
    "\n"
   ]
  },
  {
   "cell_type": "markdown",
   "metadata": {},
   "source": [
    "Measure the difference betweeen peak vs valley in a circle around each spot"
   ]
  },
  {
   "cell_type": "code",
   "execution_count": null,
   "metadata": {},
   "outputs": [],
   "source": [
    "def create_ring_array(size, inner_radius, outer_radius):\n",
    "    # Create an empty boolean array\n",
    "    array = np.zeros((size, size), dtype=bool)\n",
    "\n",
    "    # Calculate the center of the array\n",
    "    center = size // 2\n",
    "\n",
    "    # Create a grid of coordinates\n",
    "    x, y = np.ogrid[:size, :size]\n",
    "\n",
    "    # Calculate the distance from each point to the center\n",
    "    distance = np.sqrt((x - center) ** 2 + (y - center) ** 2)\n",
    "\n",
    "    # Set True values for points within the ring\n",
    "    array[(distance >= inner_radius) & (distance <= outer_radius)] = True\n",
    "\n",
    "    return array\n",
    "\n",
    "\n",
    "size = 25 # Must be odd\n",
    "inner_radius = 10\n",
    "outer_radius = 12\n",
    "radius_mask = create_ring_array(size, inner_radius, outer_radius)\n",
    "plt.imshow(radius_mask)"
   ]
  },
  {
   "cell_type": "code",
   "execution_count": null,
   "metadata": {},
   "outputs": [],
   "source": [
    "plm_slope_means = []\n",
    "plm_slope_mins = []\n",
    "plm_int = []\n",
    "for r, c in plm_inds:\n",
    "    plm = im_pre[r, c]\n",
    "    im_sub = im_pre[\n",
    "        r - outer_radius : r + outer_radius+1, c - outer_radius : c + outer_radius+1\n",
    "    ]\n",
    "    vals_ring = im_sub[radius_mask]\n",
    "    slopes = plm - vals_ring\n",
    "    plm_slope_means.append(np.mean(slopes))\n",
    "    plm_slope_mins.append(np.min(slopes))\n",
    "    plm_int.append(plm)\n"
   ]
  },
  {
   "cell_type": "code",
   "execution_count": null,
   "metadata": {},
   "outputs": [],
   "source": [
    "thesh_slope = 75\n",
    "thresh_int = 205\n",
    "\n",
    "# plm_slope_means_sort = np.sort(plm_slope_means)\n",
    "\n",
    "fig, ax = ip.general_plot(dims=(10, 5))\n",
    "ax.scatter(plm_int, plm_slope_means)\n",
    "xlims = ax.get_xlim()\n",
    "ylims = ax.get_ylim()\n",
    "ax.plot(xlims, [thesh_slope] * 2, \"k\")\n",
    "ax.set_ylabel('Radius mean slope')\n",
    "ax.plot([thresh_int] * 2, ylims, \"r\")\n",
    "ax.set_xlabel('Spot intensity')"
   ]
  },
  {
   "cell_type": "code",
   "execution_count": null,
   "metadata": {},
   "outputs": [],
   "source": [
    "thesh_slope = 20\n",
    "thresh_int = 150\n",
    "\n",
    "\n",
    "fig, ax = ip.general_plot(dims=(10, 5))\n",
    "ax.scatter(plm_int, plm_slope_mins)\n",
    "xlims = ax.get_xlim()\n",
    "ylims = ax.get_ylim()\n",
    "ax.plot(xlims, [thesh_slope] * 2, \"k\")\n",
    "ax.plot([thresh_int] * 2, ylims, \"r\")\n",
    "ax.set_ylabel('Radius min slope')\n",
    "ax.set_xlabel('Spot intensity')"
   ]
  },
  {
   "cell_type": "code",
   "execution_count": null,
   "metadata": {},
   "outputs": [],
   "source": [
    "plm_slope_mins_sort = np.sort(plm_slope_mins)\n",
    "fig, ax = ip.general_plot(dims=(10, 5))\n",
    "ax.scatter(np.arange(len(plm_slope_mins_sort)), plm_slope_mins_sort)"
   ]
  },
  {
   "cell_type": "code",
   "execution_count": null,
   "metadata": {},
   "outputs": [],
   "source": [
    "def line_int_slope(x, p, m):\n",
    "    return (x - p[0])*m + p[1]\n",
    "\n",
    "p = (150,0)\n",
    "m=20/50\n",
    "\n",
    "fig, ax = ip.general_plot(dims=(10, 5))\n",
    "ax.scatter(plm_int, plm_slope_mins)\n",
    "xlims = ax.get_xlim()\n",
    "ylims = ax.get_ylim()\n",
    "ys = [line_int_slope(x, p, m) for x in xlims]\n",
    "ax.plot(xlims, ys, 'k')\n",
    "ax.set_ylabel('Radius min slope')\n",
    "ax.set_xlabel('Spot intensity')"
   ]
  },
  {
   "cell_type": "code",
   "execution_count": null,
   "metadata": {},
   "outputs": [],
   "source": [
    "bool_line = [y > line_int_slope(x, p, m) for x, y in zip(plm_int, plm_slope_mins)]"
   ]
  },
  {
   "cell_type": "markdown",
   "metadata": {},
   "source": [
    "Filter segmentation by psf-ness"
   ]
  },
  {
   "cell_type": "code",
   "execution_count": null,
   "metadata": {},
   "outputs": [],
   "source": [
    "bool_slope = np.array(plm_slope_mins) > thesh_slope\n",
    "bool_int = np.array(plm_int) > thresh_int\n",
    "bools_plm = bool_slope & bool_int\n",
    "# bools_plm = bool_int\n",
    "# bools_plm = bool_line\n",
    "\n",
    "plm_inds_filt = plm_inds[bools_plm]\n",
    "\n",
    "seeds_filt = np.zeros_like(im_pre)\n",
    "for i, (r, c) in enumerate(plm_inds_filt):\n",
    "    seeds_filt[r, c] = i"
   ]
  },
  {
   "cell_type": "code",
   "execution_count": null,
   "metadata": {},
   "outputs": [],
   "source": [
    "watershed_input = -im_pre\n",
    "seg = sf.watershed(watershed_input, seeds_filt, mask=mask_fin2, watershed_line=True)"
   ]
  },
  {
   "cell_type": "code",
   "execution_count": null,
   "metadata": {},
   "outputs": [],
   "source": [
    "\n",
    "# check mask\n",
    "fig, ax, cbar = ip.plot_image(\n",
    "    (im_pre * (seg > 0)),\n",
    "    cmap=\"inferno\",\n",
    "    im_inches=imin,\n",
    "    clims=(100,300),\n",
    ")\n",
    "ax.imshow(np.dstack([0.5 * ~(seg > 0)] * 4))"
   ]
  },
  {
   "cell_type": "code",
   "execution_count": null,
   "metadata": {},
   "outputs": [],
   "source": [
    "size=5\n",
    "\n",
    "# check mask\n",
    "fig, ax, cbar = ip.plot_image(\n",
    "    (im_pre),\n",
    "    cmap=\"inferno\",\n",
    "    im_inches=imin,\n",
    "    clims=clim_mge,\n",
    ")\n",
    "\n",
    "ax.scatter(plm_inds_filt[:, 1].squeeze(), plm_inds_filt[:,0].squeeze(), color='g', s=size)"
   ]
  },
  {
   "cell_type": "code",
   "execution_count": null,
   "metadata": {},
   "outputs": [],
   "source": [
    "# Get spot properties\n",
    "prop = sf.measure_regionprops(seg, raw=im)\n",
    "prop.shape"
   ]
  },
  {
   "cell_type": "markdown",
   "metadata": {},
   "source": [
    "Remove spots outside of cells"
   ]
  },
  {
   "cell_type": "code",
   "execution_count": null,
   "metadata": {},
   "outputs": [],
   "source": [
    "# Get pixels for random simulation\n",
    "im_cell = raws_mge_shift[m_h][:,:,0]\n",
    "ip.plot_image(im_cell, cmap='inferno', im_inches=imin)\n"
   ]
  },
  {
   "cell_type": "code",
   "execution_count": null,
   "metadata": {},
   "outputs": [],
   "source": [
    "mask_cell = im_cell > 125\n",
    "fig, ax, cbar = ip.plot_image((im_cell*mask_cell), cmap='inferno', im_inches=imin)\n",
    "ax.imshow(np.dstack([0.5*(~mask_cell)]*4))"
   ]
  },
  {
   "cell_type": "code",
   "execution_count": null,
   "metadata": {},
   "outputs": [],
   "source": [
    "bool_incell = []\n",
    "for c in prop.centroid.values:\n",
    "    bool_incell.append(mask_cell[int(c[0]),int(c[1])])\n",
    "print(len(bool_incell))\n",
    "print(sum(bool_incell))"
   ]
  },
  {
   "cell_type": "markdown",
   "metadata": {},
   "source": [
    "Show final spots on cells"
   ]
  },
  {
   "cell_type": "code",
   "execution_count": null,
   "metadata": {},
   "outputs": [],
   "source": [
    "# Raw cell\n",
    "res_mge_umpix = res_mge * 10**6\n",
    "\n",
    "fig, ax, cbar = ip.plot_image(\n",
    "    im_cell,\n",
    "    cmap=\"gray\",\n",
    "    im_inches=30,\n",
    "    clims=(0, 2000),\n",
    "    scalebar_resolution=res_mge_umpix,\n",
    ")\n",
    "# ax.imshow(raw_mge_shift_spot_rgb)"
   ]
  },
  {
   "cell_type": "code",
   "execution_count": null,
   "metadata": {},
   "outputs": [],
   "source": [
    "mge_clims = (100,200)\n",
    "\n",
    "raw_mge_shift_spot = raws_mge_shift[m_h][:, :, 1]\n",
    "\n",
    "raw_mge_shift_spot_norm = norm(raw_mge_shift_spot, mge_clims)\n",
    "raw_mge_shift_spot_rgb = np.dstack(\n",
    "    [\n",
    "        raw_mge_shift_spot_norm,\n",
    "        np.zeros_like(raw_mge_shift_spot_norm),\n",
    "        raw_mge_shift_spot_norm,\n",
    "        raw_mge_shift_spot_norm,\n",
    "    ]\n",
    ")\n",
    "\n",
    "s = (seg > 0) * 1\n",
    "seg_mge_shift_spot_rgb = np.dstack(\n",
    "    [\n",
    "        s,\n",
    "        np.zeros_like(s),\n",
    "        s,\n",
    "        s\n",
    "    ]\n",
    ").astype(float)"
   ]
  },
  {
   "cell_type": "code",
   "execution_count": null,
   "metadata": {},
   "outputs": [],
   "source": [
    "# Raw spots\n",
    "res_mge_umpix = res_mge * 10**6\n",
    "\n",
    "fig, ax, cbar = ip.plot_image(\n",
    "    im_cell,\n",
    "    cmap=\"gray\",\n",
    "    im_inches=30,\n",
    "    clims=(0, 2000),\n",
    "    scalebar_resolution=res_mge_umpix,\n",
    ")\n",
    "ax.imshow(raw_mge_shift_spot_rgb)"
   ]
  },
  {
   "cell_type": "code",
   "execution_count": null,
   "metadata": {},
   "outputs": [],
   "source": [
    "# seg spots\n",
    "save = False\n",
    "\n",
    "imin=30\n",
    "\n",
    "res_mge_umpix = res_mge * 10**6\n",
    "dpi = np.max(im_cell.shape) // imin\n",
    "\n",
    "fig, ax, cbar = ip.plot_image(\n",
    "    im_cell,\n",
    "    cmap=\"gray\",\n",
    "    im_inches=imin,\n",
    "    clims=(0, 2000),\n",
    "    scalebar_resolution=res_mge_umpix,\n",
    ")\n",
    "# ax.imshow(seg_mge_shift_spot_rgb)\n",
    "ax.scatter(plm_inds_filt[:, 1].squeeze(), plm_inds_filt[:,0].squeeze(), color='m', s=30)\n",
    "if save:\n",
    "    mge_overlay_dir = output_dir + \"/mge_overlay/clust_merge\"\n",
    "    if not os.path.exists(mge_overlay_dir):\n",
    "        os.makedirs(mge_overlay_dir)\n",
    "        print(\"Made dir:\", mge_overlay_dir)\n",
    "    plt.figure(fig)\n",
    "    out_bn = mge_overlay_dir + \"/\" + bn.format(m_h) + \"_overlay_mge\"\n",
    "    ip.save_png_pdf(out_bn, dpi=dpi)\n",
    "    print(\"Wrote:\", out_bn + \".png\")"
   ]
  },
  {
   "cell_type": "code",
   "execution_count": null,
   "metadata": {},
   "outputs": [],
   "source": []
  },
  {
   "cell_type": "markdown",
   "metadata": {},
   "source": [
    "## Measure spatial association with spectra clusters"
   ]
  },
  {
   "cell_type": "markdown",
   "metadata": {},
   "source": [
    "Get resized hipr properties"
   ]
  },
  {
   "cell_type": "code",
   "execution_count": null,
   "metadata": {},
   "outputs": [],
   "source": [
    "def add_edge(hipr_sum_res, edge):\n",
    "    hsr_shape = hipr_sum_res.shape\n",
    "    hipr_sum_res_edge = np.zeros(np.array(hsr_shape) + 2*edge)\n",
    "    hipr_sum_res_edge[edge:edge+hsr_shape[0],edge:edge+hsr_shape[1]] = hipr_sum_res\n",
    "    return hipr_sum_res_edge"
   ]
  },
  {
   "cell_type": "code",
   "execution_count": null,
   "metadata": {},
   "outputs": [],
   "source": [
    "m_h"
   ]
  },
  {
   "cell_type": "code",
   "execution_count": null,
   "metadata": {},
   "outputs": [],
   "source": [
    "hipr_sum_res = hipr_sums_res[m_h]\n",
    "hipr_sum_res_edge = add_edge(hipr_sum_res, edge)\n",
    "\n",
    "hipr_seg_res = hipr_segs_res[m_h]\n",
    "hipr_seg_res_edge = add_edge(hipr_seg_res, edge)\n",
    "hipr_seg_res_edge = hipr_seg_res_edge.astype(int)\n",
    "\n",
    "hipr_prop_res = sf.measure_regionprops(hipr_seg_res_edge, raw=hipr_sum_res_edge)\n",
    "hipr_prop_res.columns"
   ]
  },
  {
   "cell_type": "code",
   "execution_count": null,
   "metadata": {},
   "outputs": [],
   "source": [
    "hipr_seg_res_edge_rgb = ip.seg2rgb(hipr_seg_res_edge)\n",
    "fig, ax, _ = ip.plot_image(hipr_seg_res_edge_rgb, im_inches=imin)\n",
    "raw_mge_shift_spot = raws_mge_shift[m_h][:,:,1]\n",
    "raw_mge_shift_spot_norm = norm(raw_mge_shift_spot, (0,250))\n",
    "raw_mge_shift_spot_rgb = np.dstack([raw_mge_shift_spot_norm]*4)\n",
    "ax.imshow(raw_mge_shift_spot_rgb)"
   ]
  },
  {
   "cell_type": "code",
   "execution_count": null,
   "metadata": {},
   "outputs": [],
   "source": [
    "# # Load cell props\n",
    "# cell_props = pd.read_csv(props_fn.format(m_h))\n",
    "# cell_props.columns"
   ]
  },
  {
   "cell_type": "markdown",
   "metadata": {},
   "source": [
    "Load spectral clusters"
   ]
  },
  {
   "cell_type": "code",
   "execution_count": null,
   "metadata": {},
   "outputs": [],
   "source": [
    "# load high resolution clusters\n",
    "clust_dir_hires = clust_dir + '/hi_res'\n",
    "clust_sn_fn = clust_dir_hires + '/' + sn + '_M_' + str(m_h) + '_clust_hi_res.yaml'\n",
    "with open(clust_sn_fn, 'r') as f:\n",
    "    dict_lab_clust = yaml.unsafe_load(f)\n",
    "print(len(dict_lab_clust))\n",
    "clusters_unq = np.unique(list(dict_lab_clust.values()))\n",
    "clusters_unq\n"
   ]
  },
  {
   "cell_type": "code",
   "execution_count": null,
   "metadata": {},
   "outputs": [],
   "source": [
    "# # Load spectral clusters\n",
    "# with open(clust_fn.format(3), 'r') as f:\n",
    "#     dict_lab_clust = yaml.unsafe_load(f)\n",
    "# clusters_unq = np.unique(list(dict_lab_clust.values()))\n",
    "# clusters_unq"
   ]
  },
  {
   "cell_type": "code",
   "execution_count": null,
   "metadata": {},
   "outputs": [],
   "source": [
    "# # classif svc\n",
    "# classif_dir = config['output_dir'] + '/classif_svc'\n",
    "# classif_fn = classif_dir + '/dict_sn_m_label_classif.yaml'\n",
    "\n",
    "# with open(classif_fn, 'r') as f:\n",
    "#     dict_sn_m_lab_cl = yaml.unsafe_load(f)"
   ]
  },
  {
   "cell_type": "code",
   "execution_count": null,
   "metadata": {},
   "outputs": [],
   "source": [
    "# dict_lab_clust = dict_sn_m_lab_cl[sn][str(m_h)]\n",
    "# clusters_unq = np.unique(list(dict_lab_clust.values()))\n",
    "# clusters_unq"
   ]
  },
  {
   "cell_type": "markdown",
   "metadata": {},
   "source": [
    "Create a dictionary with cell coords for each cluster\n"
   ]
  },
  {
   "cell_type": "code",
   "execution_count": null,
   "metadata": {},
   "outputs": [],
   "source": [
    "hipr_prop_res.shape"
   ]
  },
  {
   "cell_type": "code",
   "execution_count": null,
   "metadata": {},
   "outputs": [],
   "source": [
    "# Create a dictionary with cell coords for each cluster\n",
    "dict_clust_coords = defaultdict(list)\n",
    "for l, c in hipr_prop_res[['label','centroid']].values:\n",
    "    cl = dict_lab_clust[l]\n",
    "    c = eval(c) if isinstance(c, str) else c\n",
    "    dict_clust_coords[cl].append(list(c))\n",
    "[len(v) for v in dict_clust_coords.values()]"
   ]
  },
  {
   "cell_type": "code",
   "execution_count": null,
   "metadata": {},
   "outputs": [],
   "source": [
    "# Get spot coordinates\n",
    "# spot_coords = prop.centroid.values[bool_area]\n",
    "spot_coords = prop.centroid.values[bool_incell]\n",
    "# spot_coords = prop.centroid.values[bool_area * bool_incell]\n",
    "spot_coords = [list(s) for s in spot_coords]\n",
    "print(prop.shape[0])\n",
    "print(len(spot_coords))"
   ]
  },
  {
   "cell_type": "markdown",
   "metadata": {},
   "source": [
    "Get dictionary of cluster nearest neighbor distances"
   ]
  },
  {
   "cell_type": "code",
   "execution_count": null,
   "metadata": {},
   "outputs": [],
   "source": [
    "# Get dictionary of cluster nearest neighbor distances\n",
    "n_neighbors=1\n",
    "\n",
    "dict_cl_dists = {}\n",
    "for cl in clusters_unq:\n",
    "    reseg_coords = dict_clust_coords[cl]\n",
    "    nbrs = NearestNeighbors(n_neighbors=n_neighbors).fit(reseg_coords)\n",
    "    dists, _ = nbrs.kneighbors(spot_coords)\n",
    "    dict_cl_dists[cl] = dists\n"
   ]
  },
  {
   "cell_type": "markdown",
   "metadata": {},
   "source": [
    "simulate random spots"
   ]
  },
  {
   "cell_type": "code",
   "execution_count": null,
   "metadata": {},
   "outputs": [],
   "source": [
    "dict_clust_lab = defaultdict(list)\n",
    "for lab, cl in dict_lab_clust.items():\n",
    "    dict_clust_lab[cl].append(lab)"
   ]
  },
  {
   "cell_type": "code",
   "execution_count": null,
   "metadata": {},
   "outputs": [],
   "source": [
    "l = hipr_prop_res.label.values\n",
    "c = [list(coord) for coord in hipr_prop_res.centroid.values]\n",
    "# c = [list(eval(coord)) for coord in hipr_prop_res.centroid.values]\n",
    "dict_lab_coord = dict(zip(l, c))"
   ]
  },
  {
   "cell_type": "code",
   "execution_count": null,
   "metadata": {},
   "outputs": [],
   "source": [
    "# simulate random spots\n",
    "n=1000\n",
    "\n",
    "cell_coords_tup = hipr_prop_res.loc[:,'centroid'].values\n",
    "cell_coords = np.array([list(c) for c in cell_coords_tup])\n",
    "# cell_coords = np.array([list(eval(c)) for c in cell_coords_tup])\n",
    "pix_coords = np.argwhere(mask_cell)\n",
    "\n",
    "dict_cl_dists_sim = defaultdict(list)\n",
    "for i in tqdm(range(n)):\n",
    "    # Randomize spot locations\n",
    "    i_sim = np.random.randint(\n",
    "            0, pix_coords.shape[0], size=len(spot_coords)\n",
    "            )\n",
    "    sim_spot_coords = pix_coords[i_sim]\n",
    "    # # Randomize cell labels\n",
    "    # c_sim = np.random.randint(\n",
    "    #         0, hipr_reseg_props.shape[0], size=hipr_reseg_props.shape[0]\n",
    "    #         )\n",
    "    # bc_sim = np.array([x for _, x in sorted(zip(c_sim, cell_bc))])\n",
    "    for cl in clusters_unq:\n",
    "        # Get cell coords for taxon\n",
    "        labels = dict_clust_lab[cl]\n",
    "        # bool_bc = np.array(cell_bc) == cl\n",
    "        # bool_bc = bc_sim == bc\n",
    "        # tax_centroid = cell_coords[bool_bc,:]\n",
    "        tax_centroid = [dict_lab_coord[l] for l in labels]\n",
    "        # Get nearest neighbor cell distance for each spot\n",
    "        nbrs = NearestNeighbors(n_neighbors=1).fit(tax_centroid)\n",
    "        dists, _ = nbrs.kneighbors(sim_spot_coords)\n",
    "        dict_cl_dists_sim[cl].append(dists)\n",
    "        \n"
   ]
  },
  {
   "cell_type": "code",
   "execution_count": null,
   "metadata": {},
   "outputs": [],
   "source": [
    "# Get fraction of spots associated in measured and simulation\n",
    "r_um = 0.5\n",
    "res_mge_umpix = res_mge * 10**6\n",
    "\n",
    "meas_vals = []\n",
    "sim_vals = []\n",
    "for cl in clusters_unq:\n",
    "    # Get simulated fraction within radius of cell\n",
    "    sim_dists = dict_cl_dists_sim[cl]\n",
    "    sim_dists_um = np.array(sim_dists) * res_mge_umpix\n",
    "    bool_sim_rad = sim_dists_um < r_um\n",
    "    sim_rad_counts = np.sum(bool_sim_rad, axis=1)\n",
    "    sim_rad_frac = sim_rad_counts\n",
    "    sim_vals.append(sim_rad_frac)\n",
    "    # Get measured fraction\n",
    "    dists_um = dict_cl_dists[cl] * res_mge_umpix\n",
    "    dists_um.shape\n",
    "    bool_rad = dists_um < r_um\n",
    "    rad_counts = np.sum(bool_rad)\n",
    "    rad_frac = rad_counts\n",
    "    meas_vals.append(rad_frac)\n",
    "\n",
    "sim_vals = np.array(sim_vals)[:,:,0]\n",
    "sim_frac = sim_vals / len(spot_coords)\n",
    "meas_vals = np.array(meas_vals)\n",
    "meas_frac = meas_vals / len(spot_coords)\n",
    "\n"
   ]
  },
  {
   "cell_type": "markdown",
   "metadata": {},
   "source": [
    "Get color dict"
   ]
  },
  {
   "cell_type": "code",
   "execution_count": null,
   "metadata": {},
   "outputs": [],
   "source": [
    "# Rearrange colors\n",
    "col_list = list(plt.get_cmap('tab20').colors)\n",
    "col_1 = [col_list[i] for i in np.arange(0,20,2)]\n",
    "del col_1[7]\n",
    "col_2 = [col_list[i] for i in np.arange(1,20,2)]\n",
    "del col_2[7]\n",
    "col_list_re = col_1 + col_2 + [(0,1,0), (1,1,0)]\n",
    "barlist = plt.bar(np.arange(20), np.ones(20))\n",
    "for b,c in zip(barlist, col_list_re):\n",
    "    b.set_color(c)"
   ]
  },
  {
   "cell_type": "code",
   "execution_count": null,
   "metadata": {},
   "outputs": [],
   "source": [
    "# # Get scinames dict\n",
    "# probe_design_fn = config['probe_design_dir'] + '/' + config['probe_design_filename']\n",
    "# probe_design = pd.read_csv(probe_design_fn)\n",
    "# barcodes_pd = probe_design['code'].unique()\n",
    "# sci_names_pd = [probe_design.loc[probe_design['code'] == bc,'sci_name'].unique()[0] \n",
    "#             for bc in barcodes_pd]\n",
    "# barcodes_pdstr = [str(bc).zfill(5) for bc in barcodes_pd]\n",
    "# dict_bc_sciname = dict(zip(barcodes_pdstr, sci_names_pd))\n",
    "# dict_sciname_bc = dict(zip(sci_names_pd, barcodes_pdstr))"
   ]
  },
  {
   "cell_type": "code",
   "execution_count": null,
   "metadata": {},
   "outputs": [],
   "source": [
    "# # Count all barcodes\n",
    "# dict_cl_counts = defaultdict(int)\n",
    "# for m, dlc in dict_sn_m_lab_cl[sn].items():\n",
    "#     clusts, counts = np.unique(list(dlc.values()), return_counts=True)\n",
    "#     for cl, cnt in zip(clusts,counts):\n",
    "#         dict_cl_counts[cl] += cnt\n",
    "# dict_cl_counts"
   ]
  },
  {
   "cell_type": "code",
   "execution_count": null,
   "metadata": {},
   "outputs": [],
   "source": [
    "# # Sort barcodes\n",
    "# bcs = list(dict_cl_counts.keys())\n",
    "# counts = list(dict_cl_counts.values())\n",
    "# barcodes_countsort = [bc for _, bc in sorted(zip(counts, bcs))]"
   ]
  },
  {
   "cell_type": "code",
   "execution_count": null,
   "metadata": {},
   "outputs": [],
   "source": [
    "# # Make dict and plot \n",
    "# dict_bc_col = dict(zip(barcodes_countsort, col_list_re))\n",
    "# sciname_countsort = [dict_bc_sciname[bc] for bc in barcodes_countsort]\n",
    "# ip.taxon_legend(sciname_countsort, col_list_re)"
   ]
  },
  {
   "cell_type": "code",
   "execution_count": null,
   "metadata": {},
   "outputs": [],
   "source": [
    "# dict_bc_col = dict(zip(clusters_unq, plt.get_cmap('tab20').colors))\n",
    "dict_bc_col = dict(zip(clusters_unq, col_list_re))"
   ]
  },
  {
   "cell_type": "code",
   "execution_count": null,
   "metadata": {},
   "outputs": [],
   "source": [
    "mu = np.mean(sim_vals, axis=1)\n",
    "sig = np.std(sim_vals, axis=1)\n",
    "sim_z = (sim_vals - mu[:,None]) / sig[:,None]\n",
    "meas_z = (meas_vals - mu) / sig"
   ]
  },
  {
   "cell_type": "markdown",
   "metadata": {},
   "source": [
    "Plot association"
   ]
  },
  {
   "cell_type": "code",
   "execution_count": null,
   "metadata": {},
   "outputs": [],
   "source": [
    "# Plot z score number of spots associated with group\n",
    "# dims=[5,2]\n",
    "dims=[2.5,1]\n",
    "xlab_rotation=45\n",
    "pval_rotation=60\n",
    "marker='.'\n",
    "marker_size=10\n",
    "text_dist=0.1\n",
    "ft=7\n",
    "ylimadj = 0.1\n",
    "true_frac_llim = 0\n",
    "line_col = 'k'\n",
    "box_line_col = (0.5,0.5,0.5)\n",
    "box_col = 'w'\n",
    "yticklength=2\n",
    "\n",
    "fig, ax = ip.general_plot(dims=dims, ft=ft, col=line_col)\n",
    "# Plot simulation\n",
    "boxplot = ax.boxplot(\n",
    "        sim_z.T, patch_artist=True, showfliers=False,\n",
    "        boxprops=dict(facecolor=box_col, color=box_line_col),\n",
    "        capprops=dict(color=box_line_col),\n",
    "        whiskerprops=dict(color=box_line_col),\n",
    "        medianprops=dict(color=box_line_col),\n",
    "      )\n",
    "# for m in boxplot['medians']:\n",
    "#     m.set_color(line_col)\n",
    "# for b in boxplot['boxes']:\n",
    "#     b.set_edgecolor(line_col)\n",
    "#     b.set_facecolor(box_col)\n",
    "# Plot measured value\n",
    "ys = []\n",
    "xlab = []\n",
    "x = 1\n",
    "for i, cl in enumerate(clusters_unq):\n",
    "# for i, bc_tax in zip(ind_order, barcodes_int_order):\n",
    "    # sci_name = dict_bc_sciname[bc_tax]\n",
    "    # sci_name = dict_bc_sciname[cl]\n",
    "    # xlab.append(sci_name)\n",
    "    xlab.append(int(cl))\n",
    "    # try:\n",
    "    #     color = col_dict[sci_name]\n",
    "    # except:\n",
    "    #     continue\n",
    "    color = dict_bc_col[cl]\n",
    "    true_frac = meas_z[i]\n",
    "    # true_frac = true_count / n_cells\n",
    "    _ = ax.plot(x, true_frac, marker=marker, ms=marker_size, color=color)\n",
    "    # Plot p value\n",
    "    sim_vals_i = sim_vals[i,:]\n",
    "    # sim_vals = sim_arr[:,i,h] / n_cells\n",
    "    sim_mean = np.mean(sim_vals)\n",
    "    if true_frac > sim_mean:\n",
    "        # number of simulations with value greater than observed\n",
    "        r_ = sum(sim_vals_i > true_frac)\n",
    "    else:\n",
    "        # number of simulations with value less than observed\n",
    "        r_ = sum(sim_vals_i < true_frac)\n",
    "    # P value\n",
    "    p_ = r_ / n\n",
    "    # Get text location\n",
    "    q1,q3 = np.quantile(sim_vals, [0.25,0.75])\n",
    "    q4 = q3 + 1.5 * (q3 - q1)\n",
    "    # y_m = np.max(sim_vals)\n",
    "    # y = y_m if y_m > true_frac else true_frac\n",
    "    y = q4 if q4 > true_frac else true_frac\n",
    "    y += text_dist\n",
    "    ys.append(y)\n",
    "    # if true_frac < true_frac_llim:\n",
    "    #     t = ''\n",
    "    # elif (p_ > 0.05):\n",
    "    #     t = ''\n",
    "    # elif (p_ > 0.001) and (p_ <= 0.05):\n",
    "    #     t = str(\"p=\" + str(p_))\n",
    "    # else:\n",
    "    #     t = str(\"p<0.001\")\n",
    "    # _ = ax.text(x, y, t, fontsize=ft, ha='left',va='bottom', rotation=pval_rotation, rotation_mode='anchor',\n",
    "    #         color=line_col)\n",
    "    x+=1\n",
    "# ax.set_xticklabels([], rotation=xlab_rotation, ha='right', va='top', rotation_mode='anchor')\n",
    "ax.set_xticklabels(xlab, rotation=xlab_rotation, ha='right', va='top', rotation_mode='anchor')\n",
    "# ax.tick_params(axis='x',direction='out')\n",
    "# ax.set_xticks([])\n",
    "ax.tick_params(axis='y', length=yticklength)\n",
    "# ax.set_yticks(ticks=[-10,0,10,20], labels=[])\n",
    "ax.spines['top'].set_color('none')\n",
    "ax.spines['bottom'].set_color('none')\n",
    "ax.spines['right'].set_color('none')\n",
    "\n",
    "# ylims = ax.get_ylim()\n",
    "# ax.set_ylim(ylims[0], np.max(ys) + ylimadj)\n",
    "mge_assoc_dir = output_dir + '/mge_association'\n",
    "if not os.path.exists(mge_assoc_dir): \n",
    "    os.makedirs(mge_assoc_dir)\n",
    "    print('Made dir:',mge_assoc_dir)\n",
    "\n",
    "# out_bn = mge_assoc_dir + '/' + bn.format(m_h) + '_seg_nn_zscore_association_0_5um'\n",
    "# ip.save_png_pdf(out_bn)\n",
    "\n"
   ]
  },
  {
   "cell_type": "code",
   "execution_count": null,
   "metadata": {},
   "outputs": [],
   "source": [
    "\n",
    "\n",
    "ft=6\n",
    "line_col = 'k'\n",
    "width=0.4\n",
    "dims=[2.5,0.6]\n",
    "yticklength=2\n",
    "\n",
    "sci_name_order = clusters_unq\n",
    "# sci_name_order = [dict_bc_sciname[bc] for bc in barcodes_int_order]\n",
    "color_order = [dict_bc_col[sc] for sc in sci_name_order]\n",
    "\n",
    "fig, ax = ip.general_plot(dims=dims, ft=ft, col=line_col)\n",
    "ax.bar(\n",
    "        np.arange(meas_frac.shape[0]),\n",
    "        meas_frac,\n",
    "        width=width,\n",
    "        color=color_order,\n",
    "        edgecolor=line_col\n",
    "        )\n",
    "\n",
    "ax.spines['top'].set_color('none')\n",
    "ax.spines['right'].set_color('none')\n",
    "ax.set_xticks([])\n",
    "# ax.set_yticks(ticks=[0,0.2,0.4], labels=[])\n",
    "ax.tick_params(axis='y', length=yticklength)\n",
    "\n",
    "mge_assoc_dir = output_dir + '/mge_association'\n",
    "if not os.path.exists(mge_assoc_dir): \n",
    "    os.makedirs(mge_assoc_dir)\n",
    "    print('Made dir:',mge_assoc_dir)\n",
    "\n",
    "\n",
    "# out_bn = mge_assoc_dir + '/' + bn.format(m_h) + '_bar_seg_nn_frac_spot_association_0_5um'\n",
    "# ip.save_png_pdf(out_bn)"
   ]
  },
  {
   "cell_type": "markdown",
   "metadata": {},
   "source": [
    "Get fraction of cells in each cluster assoicated with spots"
   ]
  },
  {
   "cell_type": "code",
   "execution_count": null,
   "metadata": {},
   "outputs": [],
   "source": [
    "n_neighbors=1\n",
    "\n",
    "dict_cl_sdists = {}\n",
    "for cl in clusters_unq:\n",
    "    reseg_coords = dict_clust_coords[cl]\n",
    "    nbrs = NearestNeighbors(n_neighbors=n_neighbors).fit(spot_coords)\n",
    "    dists, _ = nbrs.kneighbors(reseg_coords)\n",
    "    dict_cl_sdists[cl] = dists"
   ]
  },
  {
   "cell_type": "code",
   "execution_count": null,
   "metadata": {},
   "outputs": [],
   "source": [
    "# Get fraction of spots associated in measured and simulation\n",
    "\n",
    "cl_nnearspots = []\n",
    "cl_fracnearspots = []\n",
    "for cl in clusters_unq:\n",
    "    # Get n cells in cluster with nearby spots\n",
    "    dists_um = dict_cl_sdists[cl] * res_mge_umpix\n",
    "    dists_um.shape\n",
    "    bool_rad = dists_um < r_um\n",
    "    rad_counts = np.sum(bool_rad)\n",
    "    rad_frac = rad_counts / len(dists_um)\n",
    "    cl_nnearspots.append(rad_counts)\n",
    "    cl_fracnearspots.append(rad_frac)\n",
    "\n",
    "cl_nnearspots = np.array(cl_nnearspots)\n",
    "cl_fracnearspots = np.array(cl_fracnearspots)"
   ]
  },
  {
   "cell_type": "code",
   "execution_count": null,
   "metadata": {},
   "outputs": [],
   "source": [
    "# Frac taxon assoc with spot\n",
    "dims=[2.5,0.6]\n",
    "yticklength=2\n",
    "ft=6\n",
    "line_col = 'k'\n",
    "width=0.4\n",
    "\n",
    "\n",
    "fig, ax = ip.general_plot(dims=dims, ft=ft, col=line_col)\n",
    "ax.bar(\n",
    "        np.arange(cl_fracnearspots.shape[0]),\n",
    "        cl_fracnearspots,\n",
    "        width=width,\n",
    "        color=color_order,\n",
    "        edgecolor=line_col\n",
    "        )\n",
    "ax.set_xticks([])\n",
    "# ax.set_yticks(ticks=[0,0.3,0.6], labels=[])\n",
    "ax.spines['top'].set_color('none')\n",
    "ax.spines['right'].set_color('none')\n",
    "ax.tick_params(axis='y', length=yticklength)\n",
    "\n",
    "mge_assoc_dir = output_dir + '/mge_association'\n",
    "if not os.path.exists(mge_assoc_dir): \n",
    "    os.makedirs(mge_assoc_dir)\n",
    "    print('Made dir:',mge_assoc_dir)\n",
    "\n",
    "# out_bn = mge_assoc_dir + '/' + bn.format(m_h) + '_bar_seg_nn_frac_cell_association_0_5um'\n",
    "# ip.save_png_pdf(out_bn)"
   ]
  },
  {
   "cell_type": "markdown",
   "metadata": {},
   "source": [
    "## Evaluate strongly associated spectra"
   ]
  },
  {
   "cell_type": "markdown",
   "metadata": {},
   "source": [
    "Extract spectra"
   ]
  },
  {
   "cell_type": "code",
   "execution_count": null,
   "metadata": {},
   "outputs": [],
   "source": [
    "spec_fn.format(m_h)"
   ]
  },
  {
   "cell_type": "code",
   "execution_count": null,
   "metadata": {},
   "outputs": [],
   "source": [
    "# Load file\n",
    "with open(spec_fn.format(m_h), 'r') as f:\n",
    "    dict_lab_spec = yaml.unsafe_load(f)\n",
    "len(dict_lab_spec)"
   ]
  },
  {
   "cell_type": "code",
   "execution_count": null,
   "metadata": {},
   "outputs": [],
   "source": [
    "# Get spectra for clusters\n",
    "dict_cl_spec = defaultdict(list)\n",
    "dict_cl_lab = defaultdict(list)\n",
    "for l, spec in dict_lab_spec.items():\n",
    "    cl = dict_lab_clust[l]\n",
    "    dict_cl_spec[cl].append(spec)\n",
    "    dict_cl_lab[cl].append(l)\n",
    "[len(v) for v in dict_cl_spec.values()]"
   ]
  },
  {
   "cell_type": "markdown",
   "metadata": {},
   "source": [
    "Plot spectra"
   ]
  },
  {
   "cell_type": "code",
   "execution_count": null,
   "metadata": {},
   "outputs": [],
   "source": [
    "spec_dims = (10,5)"
   ]
  },
  {
   "cell_type": "code",
   "execution_count": null,
   "metadata": {},
   "outputs": [],
   "source": [
    "# cl = dict_sciname_bc['Selenomonas']\n",
    "cl_toplot = [1,4,8,11,12,13,14,15,17]\n",
    "for cl in cl_toplot:\n",
    "    print('Cluster:',cl)\n",
    "    specs_arr = np.array(dict_cl_spec[cl])\n",
    "\n",
    "    fig, ax = ip.general_plot(dims=spec_dims, col='w')\n",
    "    fsi.plot_cell_spectra(ax, specs_arr, {'lw':1,'alpha':0.2,'color':dict_bc_col[cl]})\n",
    "    plt.show()\n",
    "    plt.close()\n",
    "# ax.set_ylim(0,2**16)\n",
    "# plt.plot()\n",
    "# plt.show()\n",
    "\n",
    "# mge_assoc_dir = output_dir + '/mge_association'\n",
    "# if not os.path.exists(mge_assoc_dir): \n",
    "#     os.makedirs(mge_assoc_dir)\n",
    "#     print('Made dir:',mge_assoc_dir)\n",
    "# out_bn = mge_assoc_dir + '/' + bn.format(m_h) + '_clusts_5_spec'\n",
    "# ip.save_png_pdf(out_bn)"
   ]
  },
  {
   "cell_type": "code",
   "execution_count": null,
   "metadata": {},
   "outputs": [],
   "source": [
    "# cl = dict_sciname_bc['Lautropia']\n",
    "cl=3\n",
    "\n",
    "specs_arr = np.array(dict_cl_spec[cl])\n",
    "\n",
    "fig, ax = ip.general_plot(dims=spec_dims)\n",
    "fsi.plot_cell_spectra(ax, specs_arr, {'lw':1,'alpha':0.2,'color':dict_bc_col[cl]})\n",
    "\n",
    "# plot a line\n",
    "xs = [3, 7, 10, 24, 27, 29, 31, 33, 43, 47]\n",
    "ylims = ax.get_ylim()\n",
    "for x in xs:\n",
    "    ax.plot([x,x], ylims,'k')\n",
    "# ax.set_ylim(0,2**16)\n",
    "# plt.plot()\n",
    "# plt.show()\n",
    "mge_assoc_dir = output_dir + '/mge_association'\n",
    "if not os.path.exists(mge_assoc_dir): \n",
    "    os.makedirs(mge_assoc_dir)\n",
    "    print('Made dir:',mge_assoc_dir)\n",
    "\n",
    "out_bn = mge_assoc_dir + '/' + bn.format(m_h) + '_clusts_3_spec'\n",
    "# ip.save_png_pdf(out_bn)"
   ]
  },
  {
   "cell_type": "markdown",
   "metadata": {},
   "source": [
    "Group clusters by peaks"
   ]
  },
  {
   "cell_type": "code",
   "execution_count": null,
   "metadata": {},
   "outputs": [],
   "source": [
    "cl = 3\n",
    "specs_arr = np.array(dict_cl_spec[cl])\n",
    "specs_meansub = specs_arr - specs_mean\n",
    "specs_meansub[specs_meansub < 0] = 0\n"
   ]
  },
  {
   "cell_type": "code",
   "execution_count": null,
   "metadata": {},
   "outputs": [],
   "source": [
    "\n",
    "bool_0 = (specs_arr[:, 33] - specs_arr[:, 29]) > 0"
   ]
  },
  {
   "cell_type": "code",
   "execution_count": null,
   "metadata": {},
   "outputs": [],
   "source": [
    "specs_arr_0 = specs_arr[bool_0, :]\n",
    "\n",
    "fig, ax = ip.general_plot(dims=spec_dims)\n",
    "fsi.plot_cell_spectra(ax, specs_arr_0, {\"lw\": 1, \"alpha\": 0.2, \"color\": \"r\"})\n",
    "\n",
    "# plot a line\n",
    "xs = [3, 7, 10, 24, 27, 29, 31, 33, 43, 47]\n",
    "ylims = ax.get_ylim()\n",
    "for x in xs:\n",
    "    ax.plot([x, x], ylims, \"k\")"
   ]
  },
  {
   "cell_type": "code",
   "execution_count": null,
   "metadata": {},
   "outputs": [],
   "source": [
    "bool_1 = ~bool_0\n",
    "\n",
    "specs_arr_1 = specs_arr[bool_1, :]\n",
    "\n",
    "fig, ax = ip.general_plot(dims=spec_dims)\n",
    "fsi.plot_cell_spectra(ax, specs_arr_1, {\"lw\": 1, \"alpha\": 0.2, \"color\": \"r\"})\n",
    "\n",
    "# plot a line\n",
    "xs = [3, 7, 10, 24, 27, 29, 31, 33, 43, 47]\n",
    "ylims = ax.get_ylim()\n",
    "for x in xs:\n",
    "    ax.plot([x, x], ylims, \"k\")"
   ]
  },
  {
   "cell_type": "code",
   "execution_count": null,
   "metadata": {},
   "outputs": [],
   "source": [
    "bool_2_ = ((specs_arr[:, 29] - specs_arr[:, 30]) > 0) | ((specs_arr[:, 28] - specs_arr[:, 30]) > 0)"
   ]
  },
  {
   "cell_type": "code",
   "execution_count": null,
   "metadata": {},
   "outputs": [],
   "source": [
    "bool_2 = bool_0 * bool_2_\n",
    "\n",
    "specs_arr_2 = specs_arr[bool_2, :]\n",
    "\n",
    "fig, ax = ip.general_plot(dims=spec_dims)\n",
    "fsi.plot_cell_spectra(ax, specs_arr_2, {\"lw\": 1, \"alpha\": 0.2, \"color\": \"r\"})\n",
    "\n",
    "# plot a line\n",
    "xs = [3, 7, 10, 24, 27, 29, 31, 33, 43, 47]\n",
    "ylims = ax.get_ylim()\n",
    "for x in xs:\n",
    "    ax.plot([x, x], ylims, \"k\")"
   ]
  },
  {
   "cell_type": "code",
   "execution_count": null,
   "metadata": {},
   "outputs": [],
   "source": [
    "bool_3 = bool_0 * ~bool_2_\n",
    "\n",
    "specs_arr_3 = specs_arr[bool_3, :]\n",
    "\n",
    "fig, ax = ip.general_plot(dims=spec_dims)\n",
    "fsi.plot_cell_spectra(ax, specs_arr_3, {\"lw\": 1, \"alpha\": 0.2, \"color\": \"r\"})\n",
    "\n",
    "# plot a line\n",
    "xs = [3, 7, 10, 24, 27, 29, 31, 33, 43, 47]\n",
    "ylims = ax.get_ylim()\n",
    "for x in xs:\n",
    "    ax.plot([x, x], ylims, \"k\")"
   ]
  },
  {
   "cell_type": "markdown",
   "metadata": {},
   "source": [
    "Add clusters if you like them"
   ]
  },
  {
   "cell_type": "code",
   "execution_count": null,
   "metadata": {},
   "outputs": [],
   "source": [
    "bools = [bool_0, bool_1, bool_2, bool_3]\n",
    "clnew_ = np.zeros(specs_arr.shape[0])\n",
    "for i, b in enumerate(bools):\n",
    "    clnew_[b] = i + 1\n",
    "clnew_"
   ]
  },
  {
   "cell_type": "code",
   "execution_count": null,
   "metadata": {},
   "outputs": [],
   "source": [
    "clnew = clnew_ + np.max(list(dict_lab_clust.values()))\n",
    "clnew"
   ]
  },
  {
   "cell_type": "code",
   "execution_count": null,
   "metadata": {},
   "outputs": [],
   "source": [
    "for l, cl in zip(dict_cl_lab[cl], clnew):\n",
    "    dict_lab_clust[l] = cl\n",
    "\n",
    "print(np.unique(list(dict_lab_clust.values())))"
   ]
  },
  {
   "cell_type": "markdown",
   "metadata": {},
   "source": [
    "Next cluster"
   ]
  },
  {
   "cell_type": "code",
   "execution_count": null,
   "metadata": {},
   "outputs": [],
   "source": [
    "cl = 2\n",
    "specs_arr = np.array(dict_cl_spec[cl])\n",
    "specs_meansub = specs_arr - specs_mean\n",
    "specs_meansub[specs_meansub < 0] = 0\n"
   ]
  },
  {
   "cell_type": "code",
   "execution_count": null,
   "metadata": {},
   "outputs": [],
   "source": [
    "\n",
    "bool_0 = (specs_arr[:, 33] - specs_arr[:, 29]) > 0"
   ]
  },
  {
   "cell_type": "code",
   "execution_count": null,
   "metadata": {},
   "outputs": [],
   "source": [
    "specs_arr_0 = specs_arr[bool_0, :]\n",
    "\n",
    "fig, ax = ip.general_plot(dims=spec_dims)\n",
    "fsi.plot_cell_spectra(ax, specs_arr_0, {\"lw\": 1, \"alpha\": 0.2, \"color\": \"r\"})\n",
    "\n",
    "# plot a line\n",
    "xs = [3, 7, 10, 24, 27, 29, 31, 33, 43, 47]\n",
    "ylims = ax.get_ylim()\n",
    "for x in xs:\n",
    "    ax.plot([x, x], ylims, \"k\")"
   ]
  },
  {
   "cell_type": "code",
   "execution_count": null,
   "metadata": {},
   "outputs": [],
   "source": [
    "bool_1 = ~bool_0\n",
    "\n",
    "specs_arr_1 = specs_arr[bool_1, :]\n",
    "\n",
    "fig, ax = ip.general_plot(dims=spec_dims)\n",
    "fsi.plot_cell_spectra(ax, specs_arr_1, {\"lw\": 1, \"alpha\": 0.2, \"color\": \"r\"})\n",
    "\n",
    "# plot a line\n",
    "xs = [3, 7, 10, 24, 27, 29, 31, 33, 43, 47]\n",
    "ylims = ax.get_ylim()\n",
    "for x in xs:\n",
    "    ax.plot([x, x], ylims, \"k\")"
   ]
  },
  {
   "cell_type": "code",
   "execution_count": null,
   "metadata": {},
   "outputs": [],
   "source": [
    "bool_2_ = ((specs_arr[:, 29] - specs_arr[:, 30]) > 0) | ((specs_arr[:, 29] - specs_arr[:, 31]) > 0)"
   ]
  },
  {
   "cell_type": "code",
   "execution_count": null,
   "metadata": {},
   "outputs": [],
   "source": [
    "bool_2 = bool_0 * bool_2_\n",
    "\n",
    "specs_arr_2 = specs_arr[bool_2, :]\n",
    "\n",
    "fig, ax = ip.general_plot(dims=spec_dims)\n",
    "fsi.plot_cell_spectra(ax, specs_arr_2, {\"lw\": 1, \"alpha\": 0.2, \"color\": \"r\"})\n",
    "\n",
    "# plot a line\n",
    "xs = [3, 7, 10, 24, 27, 29, 31, 33, 43, 47]\n",
    "ylims = ax.get_ylim()\n",
    "for x in xs:\n",
    "    ax.plot([x, x], ylims, \"k\")"
   ]
  },
  {
   "cell_type": "code",
   "execution_count": null,
   "metadata": {},
   "outputs": [],
   "source": [
    "bool_3 = bool_0 * ~bool_2_\n",
    "\n",
    "specs_arr_3 = specs_arr[bool_3, :]\n",
    "\n",
    "fig, ax = ip.general_plot(dims=spec_dims)\n",
    "fsi.plot_cell_spectra(ax, specs_arr_3, {\"lw\": 1, \"alpha\": 0.2, \"color\": \"r\"})\n",
    "\n",
    "# plot a line\n",
    "xs = [3, 7, 10, 24, 27, 29, 31, 33, 43, 47]\n",
    "ylims = ax.get_ylim()\n",
    "for x in xs:\n",
    "    ax.plot([x, x], ylims, \"k\")"
   ]
  },
  {
   "cell_type": "markdown",
   "metadata": {},
   "source": [
    "Add clusters if you like them"
   ]
  },
  {
   "cell_type": "code",
   "execution_count": null,
   "metadata": {},
   "outputs": [],
   "source": [
    "bools = [bool_0, bool_1]\n",
    "clnew_ = np.zeros(specs_arr.shape[0])\n",
    "for i, b in enumerate(bools):\n",
    "    clnew_[b] = i + 1\n",
    "np.unique(clnew_)"
   ]
  },
  {
   "cell_type": "code",
   "execution_count": null,
   "metadata": {},
   "outputs": [],
   "source": [
    "clnew = clnew_ + np.max(list(dict_lab_clust.values()))\n",
    "np.unique(clnew)"
   ]
  },
  {
   "cell_type": "code",
   "execution_count": null,
   "metadata": {},
   "outputs": [],
   "source": [
    "for l, cl in zip(dict_cl_lab[cl], clnew):\n",
    "    dict_lab_clust[l] = cl\n",
    "\n",
    "print(np.unique(list(dict_lab_clust.values())))"
   ]
  },
  {
   "cell_type": "markdown",
   "metadata": {},
   "source": [
    "### Redo assoc with new clusters"
   ]
  },
  {
   "cell_type": "code",
   "execution_count": null,
   "metadata": {},
   "outputs": [],
   "source": [
    "clusters_unq = np.unique(list(dict_lab_clust.values()))\n",
    "clusters_unq"
   ]
  },
  {
   "cell_type": "code",
   "execution_count": null,
   "metadata": {},
   "outputs": [],
   "source": [
    "# Create a dictionary with cell coords for each cluster\n",
    "dict_clust_coords = defaultdict(list)\n",
    "for l, c in hipr_prop_res[[\"label\", \"centroid\"]].values:\n",
    "    cl = dict_lab_clust[l]\n",
    "    c = eval(c) if isinstance(c, str) else c\n",
    "    dict_clust_coords[cl].append(list(c))\n",
    "[len(v) for v in dict_clust_coords.values()]"
   ]
  },
  {
   "cell_type": "code",
   "execution_count": null,
   "metadata": {},
   "outputs": [],
   "source": [
    "# Get dictionary of cluster nearest neighbor distances\n",
    "n_neighbors = 1\n",
    "\n",
    "dict_cl_dists = {}\n",
    "for cl in clusters_unq:\n",
    "    reseg_coords = dict_clust_coords[cl]\n",
    "    nbrs = NearestNeighbors(n_neighbors=n_neighbors).fit(reseg_coords)\n",
    "    dists, _ = nbrs.kneighbors(spot_coords)\n",
    "    dict_cl_dists[cl] = dists"
   ]
  },
  {
   "cell_type": "code",
   "execution_count": null,
   "metadata": {},
   "outputs": [],
   "source": [
    "dict_clust_lab = defaultdict(list)\n",
    "for lab, cl in dict_lab_clust.items():\n",
    "    dict_clust_lab[cl].append(lab)"
   ]
  },
  {
   "cell_type": "code",
   "execution_count": null,
   "metadata": {},
   "outputs": [],
   "source": [
    "# simulate random spots\n",
    "n = 1000\n",
    "\n",
    "cell_coords_tup = hipr_prop_res.loc[:, \"centroid\"].values\n",
    "cell_coords = np.array([list(c) for c in cell_coords_tup])\n",
    "# cell_coords = np.array([list(eval(c)) for c in cell_coords_tup])\n",
    "pix_coords = np.argwhere(mask_cell)\n",
    "\n",
    "dict_cl_dists_sim = defaultdict(list)\n",
    "for i in tqdm(range(n)):\n",
    "    # Randomize spot locations\n",
    "    i_sim = np.random.randint(0, pix_coords.shape[0], size=len(spot_coords))\n",
    "    sim_spot_coords = pix_coords[i_sim]\n",
    "    # # Randomize cell labels\n",
    "    # c_sim = np.random.randint(\n",
    "    #         0, hipr_reseg_props.shape[0], size=hipr_reseg_props.shape[0]\n",
    "    #         )\n",
    "    # bc_sim = np.array([x for _, x in sorted(zip(c_sim, cell_bc))])\n",
    "    for cl in clusters_unq:\n",
    "        # Get cell coords for taxon\n",
    "        labels = dict_clust_lab[cl]\n",
    "        # bool_bc = np.array(cell_bc) == cl\n",
    "        # bool_bc = bc_sim == bc\n",
    "        # tax_centroid = cell_coords[bool_bc,:]\n",
    "        tax_centroid = [dict_lab_coord[l] for l in labels]\n",
    "        # Get nearest neighbor cell distance for each spot\n",
    "        nbrs = NearestNeighbors(n_neighbors=1).fit(tax_centroid)\n",
    "        dists, _ = nbrs.kneighbors(sim_spot_coords)\n",
    "        dict_cl_dists_sim[cl].append(dists)"
   ]
  },
  {
   "cell_type": "code",
   "execution_count": null,
   "metadata": {},
   "outputs": [],
   "source": [
    "# Get fraction of spots associated in measured and simulation\n",
    "r_um = 0.5\n",
    "res_mge_umpix = res_mge * 10**6\n",
    "\n",
    "meas_vals = []\n",
    "sim_vals = []\n",
    "for cl in clusters_unq:\n",
    "    # Get simulated fraction within radius of cell\n",
    "    sim_dists = dict_cl_dists_sim[cl]\n",
    "    sim_dists_um = np.array(sim_dists) * res_mge_umpix\n",
    "    bool_sim_rad = sim_dists_um < r_um\n",
    "    if np.sum(bool_sim_rad) > 0:\n",
    "        sim_rad_counts = np.sum(bool_sim_rad, axis=1)\n",
    "        sim_rad_frac = sim_rad_counts\n",
    "    else:\n",
    "        sim_rad_frac = 0\n",
    "    sim_vals.append(sim_rad_frac)\n",
    "    # Get measured fraction\n",
    "    dists_um = dict_cl_dists[cl] * res_mge_umpix\n",
    "    dists_um.shape\n",
    "    bool_rad = dists_um < r_um\n",
    "    rad_counts = np.sum(bool_rad)\n",
    "    rad_frac = rad_counts\n",
    "    meas_vals.append(rad_frac)\n",
    "\n",
    "sim_vals = np.array(sim_vals)[:, :, 0]\n",
    "sim_frac = sim_vals / len(spot_coords)\n",
    "meas_vals = np.array(meas_vals)\n",
    "meas_frac = meas_vals / len(spot_coords)\n",
    "\n",
    "\n"
   ]
  },
  {
   "cell_type": "code",
   "execution_count": null,
   "metadata": {},
   "outputs": [],
   "source": [
    "dict_bc_col"
   ]
  },
  {
   "cell_type": "code",
   "execution_count": null,
   "metadata": {},
   "outputs": [],
   "source": [
    "dict_bc_col = dict(zip(clusters_unq, col_list_re))"
   ]
  },
  {
   "cell_type": "code",
   "execution_count": null,
   "metadata": {},
   "outputs": [],
   "source": [
    "mu = np.mean(sim_vals, axis=1)\n",
    "sig = np.std(sim_vals, axis=1)\n",
    "sim_z = (sim_vals - mu[:, None]) / sig[:, None]\n",
    "meas_z = (meas_vals - mu) / sig"
   ]
  },
  {
   "cell_type": "code",
   "execution_count": null,
   "metadata": {},
   "outputs": [],
   "source": [
    "# Plot z score number of spots associated with group\n",
    "# dims=[5,2]\n",
    "dims = [2.5, 1]\n",
    "xlab_rotation = 45\n",
    "pval_rotation = 60\n",
    "marker = \".\"\n",
    "marker_size = 10\n",
    "text_dist = 0.1\n",
    "ft = 7\n",
    "ylimadj = 0.1\n",
    "true_frac_llim = 0\n",
    "line_col = \"k\"\n",
    "box_line_col = (0.5, 0.5, 0.5)\n",
    "box_col = \"w\"\n",
    "yticklength = 2\n",
    "\n",
    "fig, ax = ip.general_plot(dims=dims, ft=ft, col=line_col)\n",
    "# Plot simulation\n",
    "boxplot = ax.boxplot(\n",
    "    sim_z.T,\n",
    "    patch_artist=True,\n",
    "    showfliers=False,\n",
    "    boxprops=dict(facecolor=box_col, color=box_line_col),\n",
    "    capprops=dict(color=box_line_col),\n",
    "    whiskerprops=dict(color=box_line_col),\n",
    "    medianprops=dict(color=box_line_col),\n",
    ")\n",
    "# for m in boxplot['medians']:\n",
    "#     m.set_color(line_col)\n",
    "# for b in boxplot['boxes']:\n",
    "#     b.set_edgecolor(line_col)\n",
    "#     b.set_facecolor(box_col)\n",
    "col_dict\n",
    "# Plot measured value\n",
    "ys = []\n",
    "xlab = []\n",
    "x = 1\n",
    "for i, cl in enumerate(clusters_unq):\n",
    "    # for i, bc_tax in zip(ind_order, barcodes_int_order):\n",
    "    # sci_name = dict_bc_sciname[bc_tax]\n",
    "    # sci_name = dict_bc_sciname[cl]\n",
    "    xlab.append(cl)\n",
    "    # try:\n",
    "    #     color = col_dict[sci_name]\n",
    "    # except:\n",
    "    #     continue\n",
    "    color = dict_bc_col[cl]\n",
    "    true_frac = meas_z[i]\n",
    "    # true_frac = true_count / n_cells\n",
    "    _ = ax.plot(x, true_frac, marker=marker, ms=marker_size, color=color)\n",
    "    # Plot p value\n",
    "    sim_vals_i = sim_vals[i, :]\n",
    "    # sim_vals = sim_arr[:,i,h] / n_cells\n",
    "    sim_mean = np.mean(sim_vals)\n",
    "    if true_frac > sim_mean:\n",
    "        # number of simulations with value greater than observed\n",
    "        r_ = sum(sim_vals_i > true_frac)\n",
    "    else:\n",
    "        # number of simulations with value less than observed\n",
    "        r_ = sum(sim_vals_i < true_frac)\n",
    "    # P value\n",
    "    p_ = r_ / n\n",
    "    # Get text location\n",
    "    q1, q3 = np.quantile(sim_vals, [0.25, 0.75])\n",
    "    q4 = q3 + 1.5 * (q3 - q1)\n",
    "    # y_m = np.max(sim_vals)\n",
    "    # y = y_m if y_m > true_frac else true_frac\n",
    "    y = q4 if q4 > true_frac else true_frac\n",
    "    y += text_dist\n",
    "    ys.append(y)\n",
    "    # if true_frac < true_frac_llim:\n",
    "    #     t = ''\n",
    "    # elif (p_ > 0.05):\n",
    "    #     t = ''\n",
    "    # elif (p_ > 0.001) and (p_ <= 0.05):\n",
    "    #     t = str(\"p=\" + str(p_))\n",
    "    # else:\n",
    "    #     t = str(\"p<0.001\")\n",
    "    # _ = ax.text(x, y, t, fontsize=ft, ha='left',va='bottom', rotation=pval_rotation, rotation_mode='anchor',\n",
    "    #         color=line_col)\n",
    "    x += 1\n",
    "# ax.set_xticklabels([], rotation=xlab_rotation, ha='right', va='top', rotation_mode='anchor')\n",
    "ax.set_xticklabels(xlab, rotation=xlab_rotation, ha='right', va='top', rotation_mode='anchor')\n",
    "# ax.tick_params(axis='x',direction='out')\n",
    "# ax.set_xticks([])\n",
    "# ax.tick_params(axis=\"y\", length=yticklength)\n",
    "# ax.set_yticks(ticks=[-10,0,10,20], labels=[])\n",
    "ax.spines[\"top\"].set_color(\"none\")\n",
    "ax.spines[\"bottom\"].set_color(\"none\")\n",
    "ax.spines[\"right\"].set_color(\"none\")\n",
    "\n",
    "# ylims = ax.get_ylim()\n",
    "# ax.set_ylim(ylims[0], np.max(ys) + ylimadj)\n",
    "mge_assoc_dir = output_dir + \"/mge_association\"\n",
    "if not os.path.exists(mge_assoc_dir):\n",
    "    os.makedirs(mge_assoc_dir)\n",
    "    print(\"Made dir:\", mge_assoc_dir)\n",
    "\n",
    "# out_bn = mge_assoc_dir + '/' + bn.format(m_h) + '_seg_nn_zscore_association_0_5um'\n",
    "# ip.save_png_pdf(out_bn)"
   ]
  },
  {
   "cell_type": "code",
   "execution_count": null,
   "metadata": {},
   "outputs": [],
   "source": [
    "a = 1"
   ]
  },
  {
   "cell_type": "code",
   "execution_count": null,
   "metadata": {},
   "outputs": [],
   "source": [
    "# Get spectra for clusters\n",
    "dict_cl_spec = defaultdict(list)\n",
    "dict_cl_lab = defaultdict(list)\n",
    "for l, spec in dict_lab_spec.items():\n",
    "    cl = dict_lab_clust[l]\n",
    "    dict_cl_spec[cl].append(spec)\n",
    "    dict_cl_lab[cl].append(l)"
   ]
  },
  {
   "cell_type": "code",
   "execution_count": null,
   "metadata": {},
   "outputs": [],
   "source": [
    "# cl = dict_sciname_bc['Selenomonas']\n",
    "# cl_toplot=[12,13,14]\n",
    "\n",
    "for cl in clusters_unq:\n",
    "    print('Cluster:',cl)\n",
    "    specs_arr = np.array(dict_cl_spec[cl])\n",
    "\n",
    "    specs_meansub = specs_arr - specs_mean\n",
    "    specs_meansub[specs_meansub < 0] = 0\n",
    "\n",
    "    fig, ax = ip.general_plot(dims=spec_dims)\n",
    "    fsi.plot_cell_spectra(ax, specs_meansub, {\"lw\": 1, \"alpha\": 0.2, \"color\": dict_bc_col[cl]})\n",
    "    # plot a line\n",
    "    xs = [3, 7, 10, 24, 27, 29, 31, 33, 43, 47]\n",
    "    ylims = ax.get_ylim()\n",
    "    for x in xs:\n",
    "        ax.plot([x, x], ylims, \"k\")\n",
    "    plt.show()\n",
    "    plt.close()\n",
    "\n",
    "\n",
    "# ax.set_ylim(0,2**16)\n",
    "# plt.plot()\n",
    "# plt.show()\n",
    "\n",
    "# mge_assoc_dir = output_dir + \"/mge_association\"\n",
    "# if not os.path.exists(mge_assoc_dir):\n",
    "#     os.makedirs(mge_assoc_dir)\n",
    "#     print(\"Made dir:\", mge_assoc_dir)\n",
    "\n",
    "# out_bn = mge_assoc_dir + '/' + bn.format(m_h) + '_clusts_5_spec'\n",
    "# ip.save_png_pdf(out_bn)"
   ]
  },
  {
   "cell_type": "markdown",
   "metadata": {},
   "source": [
    "### Subcluster target clusters"
   ]
  },
  {
   "cell_type": "code",
   "execution_count": null,
   "metadata": {},
   "outputs": [],
   "source": [
    "\n",
    "def cluster_spectra_agg(spec_cl, n_clust):\n",
    "    dist_mat_cond = pdist(spec_cl, fhc.channel_cosine_intensity_allonev2)\n",
    "    dist_mat = squareform(dist_mat_cond)\n",
    "    linkage = hierarchy.linkage(dist_mat_cond, method='complete')\n",
    "    agg = AgglomerativeClustering(n_clusters=n_clust, affinity='precomputed', linkage='complete')\n",
    "    agg.fit(dist_mat)\n",
    "    return agg.labels_\n"
   ]
  },
  {
   "cell_type": "code",
   "execution_count": null,
   "metadata": {},
   "outputs": [],
   "source": [
    "cl = 2\n",
    "n_clust = 4\n",
    "spec_cl = np.vstack(dict_cl_spec[cl])\n",
    "\n",
    "clust_agg_ = cluster_spectra_agg(spec_cl, n_clust)"
   ]
  },
  {
   "cell_type": "code",
   "execution_count": null,
   "metadata": {},
   "outputs": [],
   "source": [
    "# n_clust = np.max(clust_agg) + 1\n",
    "cmap='tab10'\n",
    "colors = plt.get_cmap(cmap)(np.linspace(0,1,n_clust))\n",
    "dict_clust_col_ = dict(zip(np.arange(n_clust), colors))"
   ]
  },
  {
   "cell_type": "code",
   "execution_count": null,
   "metadata": {},
   "outputs": [],
   "source": [
    "spec_cl.shape"
   ]
  },
  {
   "cell_type": "code",
   "execution_count": null,
   "metadata": {},
   "outputs": [],
   "source": [
    "spec_dims = (10, 5)\n",
    "\n",
    "\n",
    "for c in np.unique(clust_agg_):\n",
    "    print(\"Cluster:\", c)\n",
    "    bool_c = clust_agg_ == c\n",
    "    spec_sub = spec_cl[bool_c, :]\n",
    "\n",
    "    # spec_sub_meansub = spec_sub - specs_med\n",
    "    # spec_sub_meansub[spec_sub_meansub < 0] = 0\n",
    "\n",
    "    fig, ax = ip.general_plot(dims=spec_dims)\n",
    "    color = dict_clust_col_[c]\n",
    "    fsi.plot_cell_spectra(ax, spec_sub, {\"lw\": 1, \"alpha\": 0.1, \"color\": color})\n",
    "    # ax.set_ylim(0,12500)\n",
    "    # ax.set_ylim(0,2**16)\n",
    "    plt.plot()\n",
    "    plt.show()"
   ]
  },
  {
   "cell_type": "markdown",
   "metadata": {},
   "source": [
    "If you like the subclustering, add it to the cluster results"
   ]
  },
  {
   "cell_type": "code",
   "execution_count": null,
   "metadata": {},
   "outputs": [],
   "source": [
    "clnew = clust_agg_ + np.max(list(dict_lab_clust.values()))\n",
    "\n",
    "for l, cl in zip(dict_cl_lab[cl], clnew):\n",
    "    dict_lab_clust[l] = cl\n",
    "\n",
    "print(np.unique(list(dict_lab_clust.values())))"
   ]
  },
  {
   "cell_type": "code",
   "execution_count": null,
   "metadata": {},
   "outputs": [],
   "source": []
  },
  {
   "cell_type": "code",
   "execution_count": null,
   "metadata": {},
   "outputs": [],
   "source": [
    "spec_cl_1 = dict_cl_spec[1]\n",
    "bool_prevotella = spec_cl_1[:,]"
   ]
  },
  {
   "cell_type": "markdown",
   "metadata": {},
   "source": [
    "## Plot associated clusters on image"
   ]
  },
  {
   "cell_type": "code",
   "execution_count": null,
   "metadata": {},
   "outputs": [],
   "source": [
    "# MGE image\n",
    "mge_clims = (50,400)\n",
    "raw_mge_shift_spot_norm = norm(raw_mge_shift_spot, mge_clims)\n",
    "raw_mge_shift_spot_rgb = np.dstack([\n",
    "    raw_mge_shift_spot_norm,\n",
    "    np.zeros_like(raw_mge_shift_spot_norm),\n",
    "    raw_mge_shift_spot_norm,\n",
    "    raw_mge_shift_spot_norm\n",
    "])"
   ]
  },
  {
   "cell_type": "code",
   "execution_count": null,
   "metadata": {},
   "outputs": [],
   "source": [
    "clusters_toplot = clusters_unq\n",
    "\n",
    "hipr_seg_res_clustrgb = np.zeros(hipr_seg_res_edge.shape + (4,))\n",
    "# scinames_toplot = ['Selenomonas', 'Lautropia']\n",
    "# clusters_toplot = [dict_sciname_bc[sc] for sc in scinames_toplot]\n",
    "for cl in clusters_toplot:\n",
    "    labels_sub = dict_clust_lab[cl]\n",
    "    for i, row in hipr_prop_res.iterrows():\n",
    "        l = row.label\n",
    "        if l in labels_sub:\n",
    "            b = row.bbox\n",
    "            b = eval(b) if isinstance(b, str) else b\n",
    "            rgb_sub = hipr_seg_res_clustrgb[b[0]:b[2],b[1]:b[3]]\n",
    "            seg_sub = hipr_seg_res_edge[b[0]:b[2],b[1]:b[3]] == l\n",
    "            # im_sub = im_norm[b[0]:b[2],b[1]:b[3]]\n",
    "            # color = np.array([0,0,1,0.5])\n",
    "            color = np.array(dict_bc_col[cl] + (1,))\n",
    "            # rgb_noncell =  rgb_sub * np.dstack([~seg_sub]*3 + np.ones_like(seg_sub))\n",
    "            rgb_noncell =  rgb_sub * np.dstack([~seg_sub]*4)\n",
    "            # rgb_cell = (im_sub * seg_sub)[:,:,None] * color[None,:]\n",
    "            rgb_cell = seg_sub[:,:,None] * color[None,:]\n",
    "            hipr_seg_res_clustrgb[b[0]:b[2],b[1]:b[3],:] = rgb_noncell + rgb_cell"
   ]
  },
  {
   "cell_type": "code",
   "execution_count": null,
   "metadata": {},
   "outputs": [],
   "source": [
    "mge_overlay_dir = output_dir + '/mge_overlay'\n",
    "if not os.path.exists(mge_overlay_dir): \n",
    "    os.makedirs(mge_overlay_dir)\n",
    "    print('Made dir:',mge_overlay_dir)\n",
    "\n",
    "fig, ax, cbar = ip.plot_image(im_cell, cmap='gray', im_inches=30, clims=(0,2000), scalebar_resolution=res_mge_umpix)\n",
    "ax.imshow(hipr_seg_res_clustrgb)\n",
    "ax.imshow(raw_mge_shift_spot_rgb)\n",
    "\n",
    "# plt.figure(fig)\n",
    "# out_bn = mge_overlay_dir + '/' + bn.format(m_h) + '_clusts_0_overlay'\n",
    "# ip.save_png_pdf(out_bn)"
   ]
  },
  {
   "cell_type": "markdown",
   "metadata": {},
   "source": [
    "Color segmentation cluster by spectral intensity"
   ]
  },
  {
   "cell_type": "code",
   "execution_count": null,
   "metadata": {},
   "outputs": [],
   "source": [
    "print(np.max([np.max(s) for s in dict_lab_spec.values()]))\n",
    "print(np.min([np.max(s) for s in dict_lab_spec.values()]))\n",
    "print(np.mean([np.max(s) for s in dict_lab_spec.values()]))"
   ]
  },
  {
   "cell_type": "code",
   "execution_count": null,
   "metadata": {},
   "outputs": [],
   "source": [
    "clip = 500\n",
    "\n",
    "hipr_seg_res_clustrgb_int = np.zeros(hipr_seg_res_edge.shape + (4,))\n",
    "clusters_toplot = [2,3]\n",
    "for cl in clusters_toplot:\n",
    "    labels_sub = dict_clust_lab[cl]\n",
    "    for i, row in hipr_prop_res.iterrows():\n",
    "        l = row.label\n",
    "        if l in labels_sub:\n",
    "            b = row.bbox\n",
    "            b = eval(b) if isinstance(b, str) else b\n",
    "            rgb_sub = hipr_seg_res_clustrgb_int[b[0]:b[2],b[1]:b[3]]\n",
    "            seg_sub = hipr_seg_res_edge[b[0]:b[2],b[1]:b[3]] == l\n",
    "            # im_sub = im_norm[b[0]:b[2],b[1]:b[3]]\n",
    "            # color = np.array([0,0,1,0.5])\n",
    "            color = np.array(dict_bc_col[cl] + (1,))\n",
    "            mx_int = np.max(dict_lab_spec[l])\n",
    "            mx_int = 1 if mx_int > clip else mx_int / clip\n",
    "            color = color * mx_int\n",
    "            # rgb_noncell =  rgb_sub * np.dstack([~seg_sub]*3 + np.ones_like(seg_sub))\n",
    "            rgb_noncell =  rgb_sub * np.dstack([~seg_sub]*4)\n",
    "            # rgb_cell = (im_sub * seg_sub)[:,:,None] * color[None,:]\n",
    "            rgb_cell = seg_sub[:,:,None] * color[None,:]\n",
    "            hipr_seg_res_clustrgb_int[b[0]:b[2],b[1]:b[3],:] = rgb_noncell + rgb_cell"
   ]
  },
  {
   "cell_type": "code",
   "execution_count": null,
   "metadata": {},
   "outputs": [],
   "source": [
    "mge_overlay_dir = output_dir + '/mge_overlay'\n",
    "if not os.path.exists(mge_overlay_dir): \n",
    "    os.makedirs(mge_overlay_dir)\n",
    "    print('Made dir:',mge_overlay_dir)\n",
    "\n",
    "fig, ax, cbar = ip.plot_image(im_cell, cmap='gray', im_inches=imin, clims=(0,2000))\n",
    "ax.imshow(hipr_seg_res_clustrgb_int)\n",
    "ax.imshow(raw_mge_shift_spot_rgb)\n",
    "plt.figure(fig)\n",
    "out_bn = mge_overlay_dir + '/' + bn.format(m_h) + '_clusts_3_4_int_overlay'"
   ]
  },
  {
   "cell_type": "markdown",
   "metadata": {},
   "source": [
    "indicate which cells have low intensity"
   ]
  },
  {
   "cell_type": "code",
   "execution_count": null,
   "metadata": {},
   "outputs": [],
   "source": [
    "thresh_int = 250\n",
    "\n",
    "hipr_seg_res_clustrgb_thr = np.zeros(hipr_seg_res_edge.shape + (4,))\n",
    "clusters_toplot = [3,5]\n",
    "for cl in clusters_toplot:\n",
    "    labels_sub = dict_clust_lab[cl]\n",
    "    for i, row in hipr_prop_res.iterrows():\n",
    "        l = row.label\n",
    "        if l in labels_sub:\n",
    "            b = row.bbox\n",
    "            b = eval(b) if isinstance(b, str) else b\n",
    "            rgb_sub = hipr_seg_res_clustrgb_thr[b[0]:b[2],b[1]:b[3]]\n",
    "            seg_sub = hipr_seg_res_edge[b[0]:b[2],b[1]:b[3]] == l\n",
    "            # im_sub = im_norm[b[0]:b[2],b[1]:b[3]]\n",
    "            # color = np.array([0,0,1,0.5])\n",
    "            color = np.array(col_dict[cl] + (1,))\n",
    "            mx_int = np.max(dict_lab_spec[l])\n",
    "            if mx_int < thresh_int:\n",
    "                color = np.array([1,1,0,1])\n",
    "            # rgb_noncell =  rgb_sub * np.dstack([~seg_sub]*3 + np.ones_like(seg_sub))\n",
    "            rgb_noncell =  rgb_sub * np.dstack([~seg_sub]*4)\n",
    "            # rgb_cell = (im_sub * seg_sub)[:,:,None] * color[None,:]\n",
    "            rgb_cell = seg_sub[:,:,None] * color[None,:]\n",
    "            hipr_seg_res_clustrgb_thr[b[0]:b[2],b[1]:b[3],:] = rgb_noncell + rgb_cell"
   ]
  },
  {
   "cell_type": "code",
   "execution_count": null,
   "metadata": {},
   "outputs": [],
   "source": [
    "mge_overlay_dir = output_dir + '/mge_overlay'\n",
    "if not os.path.exists(mge_overlay_dir): \n",
    "    os.makedirs(mge_overlay_dir)\n",
    "    print('Made dir:',mge_overlay_dir)\n",
    "\n",
    "fig, ax, cbar = ip.plot_image(im_cell, cmap='gray', im_inches=imin, clims=(0,2000))\n",
    "ax.imshow(hipr_seg_res_clustrgb_thr)\n",
    "ax.imshow(raw_mge_shift_spot_rgb)\n",
    "plt.figure(fig)\n",
    "out_bn = mge_overlay_dir + '/' + bn.format(m_h) + '_clusts_3_4_thr_250_overlay'\n",
    "# ip.save_png_pdf(out_bn)\n"
   ]
  },
  {
   "cell_type": "markdown",
   "metadata": {},
   "source": [
    "Group clusters"
   ]
  },
  {
   "cell_type": "code",
   "execution_count": null,
   "metadata": {},
   "outputs": [],
   "source": [
    "hipr_seg_res_clustrgb_sing = np.zeros(hipr_seg_res_edge.shape + (4,))\n",
    "clusters_toplot = [3,5]\n",
    "for cl in clusters_toplot:\n",
    "    labels_sub = dict_clust_lab[cl]\n",
    "    for i, row in hipr_prop_res.iterrows():\n",
    "        l = row.label\n",
    "        if l in labels_sub:\n",
    "            b = row.bbox\n",
    "            b = eval(b) if isinstance(b, str) else b\n",
    "            rgb_sub = hipr_seg_res_clustrgb_sing[b[0]:b[2],b[1]:b[3]]\n",
    "            seg_sub = hipr_seg_res_edge[b[0]:b[2],b[1]:b[3]] == l\n",
    "            # im_sub = im_norm[b[0]:b[2],b[1]:b[3]]\n",
    "            color = np.array(plt.get_cmap('tab10').colors[0] + (1,))\n",
    "            # color = np.array(col_dict[cl] + (1,))\n",
    "            # rgb_noncell =  rgb_sub * np.dstack([~seg_sub]*3 + np.ones_like(seg_sub))\n",
    "            rgb_noncell =  rgb_sub * np.dstack([~seg_sub]*4)\n",
    "            # rgb_cell = (im_sub * seg_sub)[:,:,None] * color[None,:]\n",
    "            rgb_cell = seg_sub[:,:,None] * color[None,:]\n",
    "            hipr_seg_res_clustrgb_sing[b[0]:b[2],b[1]:b[3],:] = rgb_noncell + rgb_cell"
   ]
  },
  {
   "cell_type": "code",
   "execution_count": null,
   "metadata": {},
   "outputs": [],
   "source": [
    "mge_overlay_dir = output_dir + '/mge_overlay'\n",
    "if not os.path.exists(mge_overlay_dir): \n",
    "    os.makedirs(mge_overlay_dir)\n",
    "    print('Made dir:',mge_overlay_dir)\n",
    "\n",
    "fig, ax, cbar = ip.plot_image(im_cell, cmap='gray', im_inches=imin, clims=(0,2000), scalebar_resolution=res_mge_umpix)\n",
    "ax.imshow(hipr_seg_res_clustrgb_sing)\n",
    "ax.imshow(raw_mge_shift_spot_rgb)\n",
    "plt.figure(fig)\n",
    "out_bn = mge_overlay_dir + '/' + bn.format(m_h) + '_clusts_3_4_singlecolor_overlay'\n",
    "# ip.save_png_pdf(out_bn)\n"
   ]
  },
  {
   "cell_type": "markdown",
   "metadata": {},
   "source": [
    "## Look for spectra near spots"
   ]
  },
  {
   "cell_type": "markdown",
   "metadata": {},
   "source": [
    "Plot fraction of spots given changing radius"
   ]
  },
  {
   "cell_type": "code",
   "execution_count": null,
   "metadata": {},
   "outputs": [],
   "source": [
    "# Nearest neighor of all spots\n",
    "n_neighbors=1 \n",
    "reseg_coords = [list(c) for c in hipr_prop_res.centroid.values]\n",
    "nbrs = NearestNeighbors(n_neighbors=n_neighbors).fit(reseg_coords)\n",
    "dists, inds = nbrs.kneighbors(spot_coords)"
   ]
  },
  {
   "cell_type": "code",
   "execution_count": null,
   "metadata": {},
   "outputs": [],
   "source": [
    "# fraction with close cells\n",
    "nspots = len(dists)\n",
    "nclose = np.sum(dists <= (r_um/res_mge_umpix))\n",
    "frac = nclose/nspots\n",
    "print(nspots)\n",
    "print(nclose)\n",
    "print(frac)"
   ]
  },
  {
   "cell_type": "code",
   "execution_count": null,
   "metadata": {},
   "outputs": [],
   "source": [
    "fracs = []\n",
    "nspots = len(dists)\n",
    "rs = np.linspace(0,2,20)\n",
    "for r in rs:\n",
    "    nclose = np.sum(dists <= (r/res_mge_umpix))\n",
    "    fracs.append(nclose/nspots)\n",
    "fig, ax = ip.general_plot(dims=(10,5))\n",
    "ax.plot(rs, fracs)"
   ]
  },
  {
   "cell_type": "markdown",
   "metadata": {},
   "source": [
    "Get nearest single neighbor spectra"
   ]
  },
  {
   "cell_type": "code",
   "execution_count": null,
   "metadata": {},
   "outputs": [],
   "source": [
    "labels = hipr_prop_res.label.values\n",
    "labels_nn = labels[inds.squeeze()]\n",
    "specs_nn = np.vstack([dict_lab_spec[l] for l in labels_nn])\n",
    "specs_nn.shape"
   ]
  },
  {
   "cell_type": "markdown",
   "metadata": {},
   "source": [
    "Plot spectra"
   ]
  },
  {
   "cell_type": "code",
   "execution_count": null,
   "metadata": {},
   "outputs": [],
   "source": [
    "fig, ax = ip.general_plot(dims=spec_dims)\n",
    "fsi.plot_cell_spectra(ax, specs_nn, {'lw':1,'alpha':0.1,'color':'r'})"
   ]
  },
  {
   "cell_type": "markdown",
   "metadata": {},
   "source": [
    "Split spectra by intensity"
   ]
  },
  {
   "cell_type": "code",
   "execution_count": null,
   "metadata": {},
   "outputs": [],
   "source": [
    "spec_fns = {}\n",
    "bn_ = '{}_M_{}'\n",
    "for sn_ in dict_group_czifns.keys():\n",
    "\n",
    "    output_dir_ = config['output_dir'] + '/' + sn_\n",
    "\n",
    "    spec_dir_ = output_dir_ + '/spectra'\n",
    "    bn_m = bn_.format(sn_,'*')\n",
    "\n",
    "    spec_fn_ = spec_dir_ + '/' + bn_m + '_spec.yaml'\n",
    "\n",
    "    spec_fns[sn_] = glob.glob(spec_fn_)\n",
    "spec_fns"
   ]
  },
  {
   "cell_type": "code",
   "execution_count": null,
   "metadata": {},
   "outputs": [],
   "source": [
    "Ms = {sn_:[re.findall('(?<=_M_)\\d+', f)[0] for f in fns] for sn_, fns in spec_fns.items()}\n",
    "Ms"
   ]
  },
  {
   "cell_type": "code",
   "execution_count": null,
   "metadata": {},
   "outputs": [],
   "source": [
    "\n",
    "## GENERALLY DONT RERUN ##\n",
    "\n",
    "# specs_arr = []\n",
    "# dict_sn_m_idx_lab = defaultdict(dict)\n",
    "# for sn_, s_fns in spec_fns.items():\n",
    "#     # dict_sn_sni[sn] = sn_i\n",
    "#     print(sn_)\n",
    "#     ms = Ms[sn_]\n",
    "#     for s_fn, m_ in zip(s_fns, ms):\n",
    "#         # print(s_fn)\n",
    "#         with open(s_fn, 'r') as f:\n",
    "#             dict_lab_spec_ = yaml.unsafe_load(f)\n",
    "#         print(len(dict_lab_spec_))\n",
    "#         labels = list(dict_lab_spec_.keys())\n",
    "#         idx = np.arange(len(dict_lab_spec_)) + len(specs_arr)\n",
    "#         dict_sn_m_idx_lab[sn_][m_] = dict(zip(idx,labels))\n",
    "#         specs_arr += [s[None,:] for s in dict_lab_spec_.values()]\n"
   ]
  },
  {
   "cell_type": "code",
   "execution_count": null,
   "metadata": {},
   "outputs": [],
   "source": [
    "specs_arr = [s[:,:57] for s in specs_arr]\n",
    "specs_arr = np.vstack(specs_arr)\n",
    "specs_arr.shape"
   ]
  },
  {
   "cell_type": "code",
   "execution_count": null,
   "metadata": {},
   "outputs": [],
   "source": [
    "spec_dims = (10,5)\n",
    "\n",
    "n = 10000  # subsample spectra\n",
    "idx = np.random.choice(np.arange(specs_arr.shape[0]), size=n, replace=False)\n",
    "specs_arr_rnd = specs_arr[idx,:]\n",
    "\n",
    "specs_mean = np.mean(specs_arr, axis=0)\n",
    "specs_med = np.median(specs_arr, axis=0)\n",
    "# specs_std = np.std(specs_arr, axis=0)\n",
    "specs_mode = stats.mode(specs_arr, axis=0)[0].squeeze()\n",
    "\n",
    "fig, ax = ip.general_plot(dims=spec_dims)\n",
    "fsi.plot_cell_spectra(ax, specs_arr_rnd, {'lw':1,'alpha':0.1,'color':'r'})\n",
    "fsi.plot_cell_spectra(ax, specs_mean[None,:], {'lw':2,'alpha':1,'color':'k'})\n",
    "fsi.plot_cell_spectra(ax, specs_med[None,:], {'lw':2,'alpha':1,'color':'b'})\n",
    "fsi.plot_cell_spectra(ax, specs_mode[None,:], {'lw':2,'alpha':1,'color':'g'})\n",
    "# ax.set_ylim(0,2**16)\n",
    "plt.plot()\n",
    "plt.show()"
   ]
  },
  {
   "cell_type": "code",
   "execution_count": null,
   "metadata": {},
   "outputs": [],
   "source": [
    "thresh_int = 75\n",
    "\n",
    "specs_nn_meansub = specs_nn - specs_mean\n",
    "bool_int_all = specs_nn_meansub > thresh_int\n",
    "bool_int_counts = np.sum(bool_int_all, axis=1)\n",
    "bool_int = bool_int_counts > 1\n",
    "print(specs_nn_meansub.shape[0])\n",
    "print(sum(bool_int))"
   ]
  },
  {
   "cell_type": "markdown",
   "metadata": {},
   "source": [
    "Plot pre filtered cells"
   ]
  },
  {
   "cell_type": "code",
   "execution_count": null,
   "metadata": {},
   "outputs": [],
   "source": [
    "clusters_toplot = [2,3]\n",
    "\n",
    "hipr_seg_res_clustrgb = np.zeros(hipr_seg_res_edge.shape + (4,))\n",
    "# scinames_toplot = ['Selenomonas', 'Lautropia']\n",
    "# clusters_toplot = [dict_sciname_bc[sc] for sc in scinames_toplot]\n",
    "# for cl in clusters_toplot:\n",
    "labels_sub = labels_nn\n",
    "for i, row in hipr_prop_res.iterrows():\n",
    "    l = row.label\n",
    "    if l in labels_sub:\n",
    "        b = row.bbox\n",
    "        b = eval(b) if isinstance(b, str) else b\n",
    "        rgb_sub = hipr_seg_res_clustrgb[b[0]:b[2],b[1]:b[3]]\n",
    "        seg_sub = hipr_seg_res_edge[b[0]:b[2],b[1]:b[3]] == l\n",
    "        # im_sub = im_norm[b[0]:b[2],b[1]:b[3]]\n",
    "        # color = np.array([0,0,1,0.5])\n",
    "        # color = np.array(dict_bc_col[cl] + (1,))\n",
    "        color = np.array(col_list_re[2] + (1,))\n",
    "        # rgb_noncell =  rgb_sub * np.dstack([~seg_sub]*3 + np.ones_like(seg_sub))\n",
    "        rgb_noncell =  rgb_sub * np.dstack([~seg_sub]*4)\n",
    "        # rgb_cell = (im_sub * seg_sub)[:,:,None] * color[None,:]\n",
    "        rgb_cell = seg_sub[:,:,None] * color[None,:]\n",
    "        hipr_seg_res_clustrgb[b[0]:b[2],b[1]:b[3],:] = rgb_noncell + rgb_cell"
   ]
  },
  {
   "cell_type": "code",
   "execution_count": null,
   "metadata": {},
   "outputs": [],
   "source": [
    "fig, ax, cbar = ip.plot_image(im_cell, cmap='gray', im_inches=30, clims=(0,2000), scalebar_resolution=res_mge_umpix)\n",
    "ax.imshow(hipr_seg_res_clustrgb)\n",
    "ax.imshow(raw_mge_shift_spot_rgb)"
   ]
  },
  {
   "cell_type": "markdown",
   "metadata": {},
   "source": [
    "Plot post filtered cells"
   ]
  },
  {
   "cell_type": "code",
   "execution_count": null,
   "metadata": {},
   "outputs": [],
   "source": [
    "clusters_toplot = [2,3]\n",
    "\n",
    "hipr_seg_res_clustrgb = np.zeros(hipr_seg_res_edge.shape + (4,))\n",
    "# scinames_toplot = ['Selenomonas', 'Lautropia']\n",
    "# clusters_toplot = [dict_sciname_bc[sc] for sc in scinames_toplot]\n",
    "# for cl in clusters_toplot:\n",
    "labels_sub = labels_nn[bool_int]\n",
    "for i, row in hipr_prop_res.iterrows():\n",
    "    l = row.label\n",
    "    if l in labels_sub:\n",
    "        b = row.bbox\n",
    "        b = eval(b) if isinstance(b, str) else b\n",
    "        rgb_sub = hipr_seg_res_clustrgb[b[0]:b[2],b[1]:b[3]]\n",
    "        seg_sub = hipr_seg_res_edge[b[0]:b[2],b[1]:b[3]] == l\n",
    "        # im_sub = im_norm[b[0]:b[2],b[1]:b[3]]\n",
    "        # color = np.array([0,0,1,0.5])\n",
    "        # color = np.array(dict_bc_col[cl] + (1,))\n",
    "        color = np.array(col_list_re[2] + (1,))\n",
    "        # rgb_noncell =  rgb_sub * np.dstack([~seg_sub]*3 + np.ones_like(seg_sub))\n",
    "        rgb_noncell =  rgb_sub * np.dstack([~seg_sub]*4)\n",
    "        # rgb_cell = (im_sub * seg_sub)[:,:,None] * color[None,:]\n",
    "        rgb_cell = seg_sub[:,:,None] * color[None,:]\n",
    "        hipr_seg_res_clustrgb[b[0]:b[2],b[1]:b[3],:] = rgb_noncell + rgb_cell"
   ]
  },
  {
   "cell_type": "code",
   "execution_count": null,
   "metadata": {},
   "outputs": [],
   "source": [
    "fig, ax, cbar = ip.plot_image(im_cell, cmap='gray', im_inches=30, clims=(0,2000), scalebar_resolution=res_mge_umpix)\n",
    "ax.imshow(hipr_seg_res_clustrgb)\n",
    "ax.imshow(raw_mge_shift_spot_rgb)"
   ]
  },
  {
   "cell_type": "markdown",
   "metadata": {},
   "source": [
    "Get nearest n neighbors"
   ]
  },
  {
   "cell_type": "code",
   "execution_count": null,
   "metadata": {},
   "outputs": [],
   "source": [
    "# Nearest neighor of all spots\n",
    "n_neighbors=3\n",
    "reseg_coords = [list(c) for c in hipr_prop_res.centroid.values]\n",
    "nbrs = NearestNeighbors(n_neighbors=n_neighbors).fit(reseg_coords)\n",
    "dists, inds = nbrs.kneighbors(spot_coords)"
   ]
  },
  {
   "cell_type": "code",
   "execution_count": null,
   "metadata": {},
   "outputs": [],
   "source": [
    "labels = hipr_prop_res.label.values\n",
    "labels_nn = labels[inds.ravel()]\n",
    "specs_nn = np.vstack([dict_lab_spec[l] for l in labels_nn])\n",
    "specs_nn.shape"
   ]
  },
  {
   "cell_type": "code",
   "execution_count": null,
   "metadata": {},
   "outputs": [],
   "source": [
    "fig, ax = ip.general_plot(dims=spec_dims)\n",
    "fsi.plot_cell_spectra(ax, specs_nn, {'lw':1,'alpha':0.1,'color':'r'})"
   ]
  },
  {
   "cell_type": "markdown",
   "metadata": {},
   "source": [
    "Cluster nearest neighbor spectra"
   ]
  },
  {
   "cell_type": "code",
   "execution_count": null,
   "metadata": {},
   "outputs": [],
   "source": [
    "dist_mat_cond = pdist(specs_nn, fhc.channel_cosine_intensity_allonev2)"
   ]
  },
  {
   "cell_type": "code",
   "execution_count": null,
   "metadata": {},
   "outputs": [],
   "source": [
    "dist_mat = squareform(dist_mat_cond)\n"
   ]
  },
  {
   "cell_type": "code",
   "execution_count": null,
   "metadata": {},
   "outputs": [],
   "source": [
    "linkage = hierarchy.linkage(dist_mat_cond, method='complete')\n"
   ]
  },
  {
   "cell_type": "code",
   "execution_count": null,
   "metadata": {},
   "outputs": [],
   "source": [
    "labels = labels_nn\n",
    "fig, ax = ip.general_plot(dims=(15,15))\n",
    "dn = hierarchy.dendrogram(linkage, labels=labels, truncate_mode=None)\n",
    "# dn = hierarchy.dendrogram(linkage, labels=inds, truncate_mode='lastp')\n",
    "# ax.axhline(t[i])\n",
    "ylims = [round(l,2) for l in ax.get_ylim()]\n",
    "ax.set_yticks(np.arange(ylims[0],ylims[1],0.005))\n",
    "ax.grid(axis='y')\n",
    "plt.show()\n",
    "plt.close()"
   ]
  },
  {
   "cell_type": "code",
   "execution_count": null,
   "metadata": {},
   "outputs": [],
   "source": [
    "\n",
    "spec_arr_order = []\n",
    "for l in dn['ivl']:\n",
    "    s = dict_lab_spec[l]\n",
    "    spec_arr_order.append(s)\n",
    "    \n",
    "spec_arr_order = np.vstack(spec_arr_order)\n",
    "\n",
    "\n",
    "\n",
    "fig = plt.figure(figsize=(15,5))\n",
    "axs = {\n",
    "    0: fig.add_axes([0.1,0.1,0.1,0.8]),\n",
    "    1: fig.add_axes([0.2,0.1,0.7,0.8])\n",
    "}\n",
    "hierarchy.dendrogram(linkage, ax=axs[0], labels=labels, orientation='left', no_labels=True, truncate_mode=None)\n",
    "axs[1].imshow(np.flip(spec_arr_order, axis=0), cmap='inferno', aspect='auto')\n",
    "axs[1].axis('off')\n",
    "axs[0].axis('off')\n",
    "plt.show()\n",
    "plt.close()"
   ]
  },
  {
   "cell_type": "code",
   "execution_count": null,
   "metadata": {},
   "outputs": [],
   "source": [
    "fit = umap.UMAP(metric='precomputed', n_neighbors=100, min_dist=0.1).fit(dist_mat)\n",
    "u = fit.embedding_\n",
    "plt.scatter(u[:,0], u[:,1], alpha=0.5)\n",
    "plt.show()\n",
    "plt.close()"
   ]
  },
  {
   "cell_type": "code",
   "execution_count": null,
   "metadata": {},
   "outputs": [],
   "source": [
    "n_clust = 6\n",
    "agg = AgglomerativeClustering(n_clusters=n_clust, affinity='precomputed', linkage='complete')\n",
    "\n",
    "agg.fit(dist_mat)\n",
    "\n",
    "clust_agg = agg.labels_"
   ]
  },
  {
   "cell_type": "code",
   "execution_count": null,
   "metadata": {},
   "outputs": [],
   "source": [
    "plt.scatter(u[:,0], u[:,1], c=clust_agg, alpha=0.1, cmap='tab10')\n",
    "plt.show()\n",
    "plt.close()"
   ]
  },
  {
   "cell_type": "code",
   "execution_count": null,
   "metadata": {},
   "outputs": [],
   "source": [
    "colors = plt.get_cmap('tab10')(np.linspace(0,1,n_clust))\n",
    "dict_clust_col = dict(zip(np.arange(n_clust), colors))"
   ]
  },
  {
   "cell_type": "code",
   "execution_count": null,
   "metadata": {},
   "outputs": [],
   "source": [
    "dict_lab_nnclust = dict(zip(labels_nn, clust_agg))"
   ]
  },
  {
   "cell_type": "code",
   "execution_count": null,
   "metadata": {},
   "outputs": [],
   "source": [
    "spec_arr_order = []\n",
    "cluster_bar = []\n",
    "for l in dn['ivl']:\n",
    "    s = dict_lab_spec[l]\n",
    "    spec_arr_order.append(s)\n",
    "    cl = dict_lab_nnclust[l]\n",
    "    c = list(dict_clust_col[cl])\n",
    "    cluster_bar.append(c)\n",
    "\n",
    "spec_arr_order = np.vstack(spec_arr_order)\n",
    "\n",
    "cluster_bar = np.array(cluster_bar).reshape(len(cluster_bar),1,len(cluster_bar[0]))\n",
    "cluster_bar.shape\n",
    "\n",
    "fig = plt.figure(figsize=(15,5))\n",
    "axs = {\n",
    "    0: fig.add_axes([0.1,0.1,0.08,0.8]),\n",
    "    1: fig.add_axes([0.18,0.1,0.02,0.8]),\n",
    "    2: fig.add_axes([0.2,0.1,0.7,0.8])\n",
    "}\n",
    "hierarchy.dendrogram(linkage, ax=axs[0], labels=labels, orientation='left', no_labels=True, truncate_mode=None)\n",
    "axs[1].imshow(np.flip(cluster_bar, axis=0), aspect='auto')\n",
    "axs[2].imshow(np.flip(spec_arr_order, axis=0), cmap='inferno', aspect='auto')\n",
    "axs[0].axis('off')\n",
    "axs[1].axis('off')\n",
    "axs[2].axis('off')\n",
    "plt.show()\n",
    "plt.close()"
   ]
  },
  {
   "cell_type": "code",
   "execution_count": null,
   "metadata": {},
   "outputs": [],
   "source": [
    "spec_dims = (10,5)\n",
    "\n",
    "\n",
    "for c in np.unique(clust_agg):\n",
    "    print('Cluster:', c)\n",
    "    bool_c = clust_agg == c\n",
    "    spec_sub = specs_nn[bool_c,:]\n",
    "\n",
    "    # spec_sub_meansub = spec_sub - specs_med\n",
    "    # spec_sub_meansub[spec_sub_meansub < 0] = 0\n",
    "\n",
    "    fig, ax = ip.general_plot(dims=spec_dims)\n",
    "    color = dict_clust_col[c]\n",
    "    fsi.plot_cell_spectra(ax, spec_sub, {'lw':1,'alpha':0.2,'color':color})\n",
    "    ax.set_ylim(0,1000)\n",
    "    # ax.set_ylim(0,2**16)\n",
    "    plt.plot()\n",
    "    plt.show()"
   ]
  },
  {
   "cell_type": "code",
   "execution_count": null,
   "metadata": {},
   "outputs": [],
   "source": [
    "\n",
    "hipr_seg_res_clustrgb = np.zeros(hipr_seg_res_edge.shape + (4,))\n",
    "# scinames_toplot = ['Selenomonas', 'Lautropia']\n",
    "# clusters_toplot = [dict_sciname_bc[sc] for sc in scinames_toplot]\n",
    "for cl in np.unique(clust_agg):\n",
    "    labels_sub = labels_nn[clust_agg == cl]\n",
    "    for i, row in hipr_prop_res.iterrows():\n",
    "        l = row.label\n",
    "        if l in labels_sub:\n",
    "            b = row.bbox\n",
    "            b = eval(b) if isinstance(b, str) else b\n",
    "            rgb_sub = hipr_seg_res_clustrgb[b[0]:b[2],b[1]:b[3]]\n",
    "            seg_sub = hipr_seg_res_edge[b[0]:b[2],b[1]:b[3]] == l\n",
    "            # im_sub = im_norm[b[0]:b[2],b[1]:b[3]]\n",
    "            # color = np.array([0,0,1,0.5])\n",
    "            color = dict_clust_col[cl]\n",
    "            # color = np.array(dict_clust_col[cl] + (1,))\n",
    "            # rgb_noncell =  rgb_sub * np.dstack([~seg_sub]*3 + np.ones_like(seg_sub))\n",
    "            rgb_noncell =  rgb_sub * np.dstack([~seg_sub]*4)\n",
    "            # rgb_cell = (im_sub * seg_sub)[:,:,None] * color[None,:]\n",
    "            rgb_cell = seg_sub[:,:,None] * color[None,:]\n",
    "            hipr_seg_res_clustrgb[b[0]:b[2],b[1]:b[3],:] = rgb_noncell + rgb_cell"
   ]
  },
  {
   "cell_type": "code",
   "execution_count": null,
   "metadata": {},
   "outputs": [],
   "source": [
    "fig, ax, cbar = ip.plot_image(im_cell, cmap='gray', im_inches=30, clims=(0,2000), scalebar_resolution=res_mge_umpix, axes_off=False)"
   ]
  },
  {
   "cell_type": "code",
   "execution_count": null,
   "metadata": {},
   "outputs": [],
   "source": [
    "fig, ax, cbar = ip.plot_image(im_cell, cmap='gray', im_inches=30, clims=(0,2000), scalebar_resolution=res_mge_umpix, axes_off=False)\n",
    "ax.imshow(raw_mge_shift_spot_rgb)"
   ]
  },
  {
   "cell_type": "code",
   "execution_count": null,
   "metadata": {},
   "outputs": [],
   "source": [
    "fig, ax, cbar = ip.plot_image(im_cell, cmap='gray', im_inches=30, clims=(0,2000), scalebar_resolution=res_mge_umpix)\n",
    "ax.imshow(hipr_seg_res_clustrgb)\n",
    "ax.imshow(raw_mge_shift_spot_rgb)"
   ]
  },
  {
   "cell_type": "markdown",
   "metadata": {},
   "source": [
    "Look at specra relative to the mean"
   ]
  },
  {
   "cell_type": "code",
   "execution_count": null,
   "metadata": {},
   "outputs": [],
   "source": [
    "spec_dims = (10,5)\n",
    "\n",
    "\n",
    "for c in np.unique(clust_agg):\n",
    "    print('Cluster:', c)\n",
    "    bool_c = clust_agg == c\n",
    "    spec_sub = specs_nn[bool_c,:]\n",
    "\n",
    "    spec_sub_meansub = spec_sub - specs_med\n",
    "    spec_sub_meansub[spec_sub_meansub < 0] = 0\n",
    "\n",
    "    fig, ax = ip.general_plot(dims=spec_dims)\n",
    "    color = dict_clust_col[c]\n",
    "    fsi.plot_cell_spectra(ax, spec_sub_meansub, {'lw':1,'alpha':0.1,'color':color})\n",
    "    ax.set_ylim(0,600)\n",
    "    # ax.set_ylim(0,2**16)\n",
    "    plt.plot()\n",
    "    plt.show()"
   ]
  },
  {
   "cell_type": "markdown",
   "metadata": {},
   "source": [
    "Zoom in on assocs"
   ]
  },
  {
   "cell_type": "code",
   "execution_count": null,
   "metadata": {},
   "outputs": [],
   "source": [
    "c=[2900,1750]\n",
    "d=[1000,1000]"
   ]
  },
  {
   "cell_type": "code",
   "execution_count": null,
   "metadata": {},
   "outputs": [],
   "source": [
    "fig, ax, cbar = ip.plot_image(im_cell, cmap='gray', im_inches=30, clims=(0,2000), scalebar_resolution=res_mge_umpix)\n",
    "ax.set_ylim([c[0]+d[0], c[0]])\n",
    "ax.set_xlim([c[1], c[1]+d[1]])"
   ]
  },
  {
   "cell_type": "code",
   "execution_count": null,
   "metadata": {},
   "outputs": [],
   "source": [
    "fig, ax, cbar = ip.plot_image(im_cell, cmap='gray', im_inches=30, clims=(0,2000), scalebar_resolution=res_mge_umpix)\n",
    "ax.imshow(raw_mge_shift_spot_rgb)\n",
    "ax.set_ylim([c[0]+d[0], c[0]])\n",
    "# ax.set_ylim([c[0], c[0]+d[0]])\n",
    "ax.set_xlim([c[1], c[1]+d[1]])"
   ]
  },
  {
   "cell_type": "code",
   "execution_count": null,
   "metadata": {},
   "outputs": [],
   "source": [
    "fig, ax, cbar = ip.plot_image(im_cell, cmap='gray', im_inches=30, clims=(0,2000), scalebar_resolution=res_mge_umpix)\n",
    "ax.imshow(hipr_seg_res_clustrgb)\n",
    "ax.imshow(raw_mge_shift_spot_rgb)\n",
    "ax.set_ylim([c[0]+d[0], c[0]])\n",
    "# ax.set_ylim([c[0], c[0]+d[0]])\n",
    "ax.set_xlim([c[1], c[1]+d[1]])"
   ]
  },
  {
   "cell_type": "markdown",
   "metadata": {},
   "source": [
    "## Get nearest clusters to spots"
   ]
  },
  {
   "cell_type": "markdown",
   "metadata": {},
   "source": [
    "Get resized hipr properties"
   ]
  },
  {
   "cell_type": "code",
   "execution_count": null,
   "metadata": {},
   "outputs": [],
   "source": [
    "def add_edge(hipr_sum_res, edge):\n",
    "    hsr_shape = hipr_sum_res.shape\n",
    "    hipr_sum_res_edge = np.zeros(np.array(hsr_shape) + 2*edge)\n",
    "    hipr_sum_res_edge[edge:edge+hsr_shape[0],edge:edge+hsr_shape[1]] = hipr_sum_res\n",
    "    return hipr_sum_res_edge"
   ]
  },
  {
   "cell_type": "code",
   "execution_count": null,
   "metadata": {},
   "outputs": [],
   "source": [
    "# hipr_res_m = hipr_res[m_h]\n",
    "# hipr_res_m_edge = add_edge(hipr_res_m, edge)\n",
    "\n",
    "hipr_sum_res = hipr_sums_res[m_h]\n",
    "hipr_sum_res_edge = add_edge(hipr_sum_res, edge)\n",
    "\n",
    "hipr_seg_res = hipr_segs_res[m_h]\n",
    "hipr_seg_res_edge = add_edge(hipr_seg_res, edge)\n",
    "hipr_seg_res_edge = hipr_seg_res_edge.astype(int)\n",
    "\n",
    "hipr_prop_res = sf.measure_regionprops(hipr_seg_res_edge, raw=hipr_sum_res_edge)\n",
    "hipr_prop_res.columns"
   ]
  },
  {
   "cell_type": "code",
   "execution_count": null,
   "metadata": {},
   "outputs": [],
   "source": [
    "hipr_seg_res_edge_rgb = ip.seg2rgb(hipr_seg_res_edge)\n",
    "fig, ax, _ = ip.plot_image(hipr_seg_res_edge_rgb, im_inches=imin)\n",
    "raw_mge_shift_spot = raws_mge_shift[m_h][:,:,1]\n",
    "raw_mge_shift_spot_norm = norm(raw_mge_shift_spot, (0,150))\n",
    "raw_mge_shift_spot_rgb = np.dstack([raw_mge_shift_spot_norm]*4)\n",
    "ax.imshow(raw_mge_shift_spot_rgb)"
   ]
  },
  {
   "cell_type": "markdown",
   "metadata": {},
   "source": [
    "Nearest n neighbors"
   ]
  },
  {
   "cell_type": "code",
   "execution_count": null,
   "metadata": {},
   "outputs": [],
   "source": [
    "# Get spot coordinates\n",
    "# spot_coords = prop.centroid.values[bool_area]\n",
    "# spot_coords = prop.centroid.values[bool_incell]\n",
    "spot_coords = prop.centroid.values\n",
    "# spot_coords = prop.centroid.values[bool_area * bool_incell]\n",
    "spot_coords = [list(s) for s in spot_coords]\n",
    "print(prop.shape[0])\n",
    "print(len(spot_coords))"
   ]
  },
  {
   "cell_type": "code",
   "execution_count": null,
   "metadata": {},
   "outputs": [],
   "source": [
    "# Nearest neighor of all spots\n",
    "n_neighbors=1\n",
    "reseg_coords = [list(c) for c in hipr_prop_res.centroid.values]\n",
    "nbrs = NearestNeighbors(n_neighbors=n_neighbors).fit(reseg_coords)\n",
    "dists, inds = nbrs.kneighbors(spot_coords)"
   ]
  },
  {
   "cell_type": "markdown",
   "metadata": {},
   "source": [
    "Get clusters"
   ]
  },
  {
   "cell_type": "code",
   "execution_count": null,
   "metadata": {},
   "outputs": [],
   "source": [
    "# load merged clusters\n",
    "clust_dir_hires = clust_dir + '/merge'\n",
    "clust_sn_fn = clust_dir_hires + '/' + sn + '_M_' + str(m_h) + '_clust_merge.yaml'\n",
    "print(clust_sn_fn)\n",
    "with open(clust_sn_fn, 'r') as f:\n",
    "    dict_lab_clust = yaml.unsafe_load(f)\n",
    "print(len(dict_lab_clust))\n",
    "clusters_unq = np.unique(list(dict_lab_clust.values()))\n",
    "clusters_unq"
   ]
  },
  {
   "cell_type": "markdown",
   "metadata": {},
   "source": [
    "Get cluster id of neighbors, merge repeat clusters for a given spot\n"
   ]
  },
  {
   "cell_type": "code",
   "execution_count": null,
   "metadata": {},
   "outputs": [],
   "source": [
    "labels = hipr_prop_res.label.values\n",
    "labels_nn = [labels[i] for i in inds]\n",
    "clusts_nn = [[dict_lab_clust[l] for l in ls] for ls in labels_nn]\n",
    "clusts_nn_unq = [np.unique(cl) for cl in clusts_nn]\n"
   ]
  },
  {
   "cell_type": "markdown",
   "metadata": {},
   "source": [
    "Counts for each cluster"
   ]
  },
  {
   "cell_type": "code",
   "execution_count": null,
   "metadata": {},
   "outputs": [],
   "source": [
    "# Get counts for clusters \n",
    "clusts_nn_unq_flat = [cl for cln in clusts_nn_unq for cl in cln]\n",
    "cl_nn_unq, cl_nn_counts = np.unique(clusts_nn_unq_flat, return_counts=True)\n",
    "\n",
    "print(cl_nn_counts)\n",
    "print(sum(cl_nn_counts))\n",
    "print(cl_nn_unq)"
   ]
  },
  {
   "cell_type": "code",
   "execution_count": null,
   "metadata": {},
   "outputs": [],
   "source": [
    "# cl_nn_counts_sort = [cl for _, cl in sorted(zip(cl_nn_unq, cl_nn_counts))]\n",
    "# cl_nn_unq_sort = sorted(cl_nn_unq)\n",
    "# print(cl_nn_counts_sort)\n",
    "# print(cl_nn_unq_sort)"
   ]
  },
  {
   "cell_type": "code",
   "execution_count": null,
   "metadata": {},
   "outputs": [],
   "source": [
    "dict_cl_nncounts = dict(zip(cl_nn_unq, cl_nn_counts))\n",
    "meas_counts_arr = np.zeros(len(clusters_unq))\n",
    "for i, cl in enumerate(clusters_unq):\n",
    "    try:\n",
    "        meas_counts_arr[i] = dict_cl_nncounts[cl]\n",
    "    except:\n",
    "        pass\n",
    "print(meas_counts_arr)\n",
    "print(sum(meas_counts_arr))\n",
    "print(len(spot_coords))"
   ]
  },
  {
   "cell_type": "markdown",
   "metadata": {},
   "source": [
    "Simulate random spots and count nearest neighbor values"
   ]
  },
  {
   "cell_type": "code",
   "execution_count": null,
   "metadata": {},
   "outputs": [],
   "source": [
    "n = 1000\n",
    "\n",
    "cell_coords_tup = hipr_prop_res.loc[:, \"centroid\"].values\n",
    "cell_coords = np.array([list(c) for c in cell_coords_tup])\n",
    "# cell_coords = np.array([list(eval(c)) for c in cell_coords_tup])\n",
    "pix_coords = np.argwhere(mask_cell)\n",
    "\n",
    "dict_cl_dists_sim = defaultdict(list)\n",
    "sim_counts_arr = np.zeros((n, len(clusters_unq)))\n",
    "for i in tqdm(range(n)):\n",
    "    # Randomize spot locations\n",
    "    i_sim = np.random.randint(0, pix_coords.shape[0], size=len(spot_coords))\n",
    "    sim_spot_coords = pix_coords[i_sim]\n",
    "    # Get nearest neighbors for each spot\n",
    "    dists_sim, inds_sim = nbrs.kneighbors(sim_spot_coords)\n",
    "    # Get cluster id of neighbors, merge repeated clusters ids for a given spot\n",
    "    labels_nn_sim = [labels[i] for i in inds_sim]\n",
    "    clusts_nn_sim = [[dict_lab_clust[l] for l in ls] for ls in labels_nn_sim]\n",
    "    clusts_nn_unq_sim = [np.unique(cl) for cl in clusts_nn_sim]\n",
    "    # Get counts for clusters\n",
    "    clusts_nn_unq_flat_sim = [cl for cln in clusts_nn_unq_sim for cl in cln]\n",
    "    cl_nn_unq_sim, cl_nn_counts_sim = np.unique(clusts_nn_unq_flat_sim, return_counts=True)\n",
    "    # Add counts to array\n",
    "    dict_cl_nncounts_sim = dict(zip(cl_nn_unq_sim, cl_nn_counts_sim))\n",
    "    for j, cl in enumerate(clusters_unq):\n",
    "        try:\n",
    "            sim_counts_arr[i, j] = dict_cl_nncounts_sim[cl]\n",
    "        except:\n",
    "            pass    \n",
    "\n",
    "\n",
    "    "
   ]
  },
  {
   "cell_type": "markdown",
   "metadata": {},
   "source": [
    "Get Z scores "
   ]
  },
  {
   "cell_type": "code",
   "execution_count": null,
   "metadata": {},
   "outputs": [],
   "source": [
    "mu = np.mean(sim_counts_arr, axis=0).squeeze()\n",
    "sig = np.std(sim_counts_arr, axis=0).squeeze()\n",
    "sim_z = (sim_counts_arr - mu) / sig\n",
    "meas_z = (meas_counts_arr - mu) / sig"
   ]
  },
  {
   "cell_type": "markdown",
   "metadata": {},
   "source": [
    "Sort by z scores"
   ]
  },
  {
   "cell_type": "code",
   "execution_count": null,
   "metadata": {},
   "outputs": [],
   "source": [
    "clusters_sort = [cl for _, cl in sorted(zip(meas_z, clusters_unq), reverse=True)]\n",
    "meas_counts_arr_sort = [cl for _, cl in sorted(zip(meas_z, meas_counts_arr), reverse=True)]\n",
    "meas_z_sort = sorted(meas_z, reverse=True)"
   ]
  },
  {
   "cell_type": "code",
   "execution_count": null,
   "metadata": {},
   "outputs": [],
   "source": [
    "dict_cl_simz = dict(zip(clusters_unq, sim_z.T))\n",
    "sim_z_sort = np.hstack([dict_cl_simz[cl][:,None] for cl in clusters_sort])\n",
    "sim_z_sort.shape"
   ]
  },
  {
   "cell_type": "markdown",
   "metadata": {},
   "source": [
    "### Classify spectra\n",
    "Get spectra"
   ]
  },
  {
   "cell_type": "code",
   "execution_count": null,
   "metadata": {},
   "outputs": [],
   "source": [
    "# Get spectra\n",
    "with open(spec_fn.format(m_h), 'r') as f:\n",
    "    dict_lab_spec = yaml.unsafe_load(f)\n",
    "len(dict_lab_spec)"
   ]
  },
  {
   "cell_type": "markdown",
   "metadata": {},
   "source": [
    "Get spectra for clusters"
   ]
  },
  {
   "cell_type": "code",
   "execution_count": null,
   "metadata": {},
   "outputs": [],
   "source": [
    "# Get spectra for clusters\n",
    "dict_cl_spec = defaultdict(list)\n",
    "dict_cl_lab = defaultdict(list)\n",
    "for l, spec in dict_lab_spec.items():\n",
    "    cl = dict_lab_clust[l]\n",
    "    dict_cl_spec[cl].append(spec)\n",
    "    dict_cl_lab[cl].append(l)"
   ]
  },
  {
   "cell_type": "markdown",
   "metadata": {},
   "source": [
    "Plot spectra with varying y axis"
   ]
  },
  {
   "cell_type": "code",
   "execution_count": null,
   "metadata": {},
   "outputs": [],
   "source": [
    "# spec_dims = [2.5, 1.25]\n",
    "spec_dims = [10, 5]\n",
    "\n",
    "ft = 6\n",
    "\n",
    "\n",
    "for cl in list(clusters_sort):\n",
    "    specs_arr = np.array(dict_cl_spec[cl])\n",
    "\n",
    "    fig, ax = ip.general_plot(dims=spec_dims, col=\"w\", ft=ft)\n",
    "\n",
    "    fsi.plot_cell_spectra(\n",
    "        ax, specs_arr, {\"lw\": 1, \"alpha\": 0.2, \"color\": 'r'}\n",
    "    )\n",
    "\n",
    "    # ax.set_ylim(0,2000)\n",
    "\n",
    "    ylim = ax.get_ylim()\n",
    "    xs = [3, 7, 10, 24, 27, 29, 31, 33, 43, 47]\n",
    "    for x in xs:\n",
    "        ax.plot([x, x], ylim, color=(0.5, 0.5, 0.5), lw=0.5, alpha=0.5)\n",
    "\n",
    "    # ax.set_title('Cluster: ' + str(cl), color='w', ft=ft)\n",
    "    # ax.set_xticks([])\n",
    "    # ax.set_yticks(ticks=[0,0.3,0.6], labels=[])\n",
    "    ax.spines[\"top\"].set_color(\"none\")\n",
    "    ax.spines[\"right\"].set_color(\"none\")\n",
    "    # ax.tick_params(axis='y', length=yticklength)\n",
    "\n",
    "    # if save:\n",
    "    #     mge_assoc_dir = output_dir + \"/cluster_spectra\" + \"/M_\" + str(m_h)\n",
    "    #     if not os.path.exists(mge_assoc_dir):\n",
    "    #         os.makedirs(mge_assoc_dir)\n",
    "    #         print(\"Made dir:\", mge_assoc_dir)\n",
    "    #     out_bn = mge_assoc_dir + \"/\" + bn.format(m_h) + \"_spec_cluster_\" + str(cl)\n",
    "    #     ip.save_png_pdf(out_bn)\n",
    "    #     print(\"Wrote:\", out_bn + \".png\")\n",
    "\n",
    "    print(cl)\n",
    "    plt.show()\n",
    "    plt.close()"
   ]
  },
  {
   "cell_type": "markdown",
   "metadata": {},
   "source": [
    "Plot spectra with constant y axis"
   ]
  },
  {
   "cell_type": "code",
   "execution_count": null,
   "metadata": {},
   "outputs": [],
   "source": [
    "spec_dims = [10,5]\n",
    "# spec_dims = [2.5, 1.25]\n",
    "ft = 6\n",
    "ylim = (0,1000)\n",
    "\n",
    "\n",
    "for cl in list(clusters_sort):\n",
    "    print('Cluster:',cl)\n",
    "    specs_arr = np.array(dict_cl_spec[cl])\n",
    "\n",
    "    fig, ax = ip.general_plot(dims=spec_dims, col=\"w\", ft=ft)\n",
    "\n",
    "    fsi.plot_cell_spectra(\n",
    "        ax, specs_arr, {\"lw\": 1, \"alpha\": 0.2, \"color\": 'r'}\n",
    "    )\n",
    "\n",
    "    ax.set_ylim(ylim[0], ylim[1])\n",
    "\n",
    "    # ylim = ax.get_ylim()\n",
    "    xs = [3, 7, 10, 24, 27, 29, 31, 33, 43, 47]\n",
    "    for x in xs:\n",
    "        ax.plot([x, x], ylim, color=(0.5, 0.5, 0.5), lw=0.5, alpha=0.5)\n",
    "\n",
    "    # ax.set_title('Cluster: ' + str(cl), color='w', ft=ft)\n",
    "    # ax.set_xticks([])\n",
    "    # ax.set_yticks(ticks=[0,0.3,0.6], labels=[])\n",
    "    ax.spines[\"top\"].set_color(\"none\")\n",
    "    ax.spines[\"right\"].set_color(\"none\")\n",
    "    # ax.tick_params(axis='y', length=yticklength)\n",
    "\n",
    "\n",
    "\n",
    "    plt.show()\n",
    "    plt.close()"
   ]
  },
  {
   "cell_type": "code",
   "execution_count": null,
   "metadata": {},
   "outputs": [],
   "source": [
    "# dict_cl_sciname = {\n",
    "#     20: 'Streptococcus',\n",
    "#     16: 'Corynebacterium',\n",
    "#     11: 'Actinomyces',\n",
    "#     23: 'Lautropia',\n",
    "#     24: 'Fusobacterium',\n",
    "#     22: 'unclassified'\n",
    "# } # 2023_07_01_slide_7_fov_02 tile 1\n",
    "\n",
    "dict_cl_sciname = {\n",
    "    23: 'Streptococcus',\n",
    "    20: 'Prevotella',\n",
    "    11: 'Leptotrichia',\n",
    "    1: 'Actinomyces',\n",
    "    22: 'Gemella',\n",
    "    21: 'Treponema'\n",
    "} # 2024_01_10_bmgshort_slide_bmg_fov_01_M_2"
   ]
  },
  {
   "cell_type": "markdown",
   "metadata": {},
   "source": [
    "Get color dict"
   ]
  },
  {
   "cell_type": "code",
   "execution_count": null,
   "metadata": {},
   "outputs": [],
   "source": [
    "# Rearrange colors\n",
    "col_list = list(plt.get_cmap('tab20').colors)\n",
    "col_1 = [col_list[i] for i in np.arange(0,20,2)]\n",
    "remove_inds_1 = []\n",
    "# remove_inds_1 = [6,7]\n",
    "col_1 = [c for i,c in enumerate(col_1) if i not in remove_inds_1]\n",
    "col_2 = [col_list[i] for i in np.arange(1,20,2)]\n",
    "remove_inds_2 = []\n",
    "# remove_inds_2 = [6,7]\n",
    "col_2 = [c for i,c in enumerate(col_2) if i not in remove_inds_2]\n",
    "# del col_2[7]\n",
    "col_list_re = col_1 + col_2 + [(0,1,0), (1,1,0)]\n",
    "ln = len(col_list_re)\n",
    "barlist = plt.bar(np.arange(ln), np.ones(ln))\n",
    "for b,c in zip(barlist, col_list_re):\n",
    "    b.set_color(c)\n",
    "_ = plt.xticks(np.arange(ln))"
   ]
  },
  {
   "cell_type": "code",
   "execution_count": null,
   "metadata": {},
   "outputs": [],
   "source": [
    "dict_sciname_cind = {\n",
    "    'Streptococcus': 1,\n",
    "    'Prevotella': 9,\n",
    "    'Corynebacterium': 2,\n",
    "    'Leptotrichia': 8,\n",
    "    'Actinomyces': 2,\n",
    "    'Lautropia': 3,\n",
    "    'Fusobacterium': 14,\n",
    "    'Gemella': 3,\n",
    "    'Treponema': 5,\n",
    "    'unclassified': 7,\n",
    "}\n",
    "# col_index_order = [0, 9, 1, 8, 2, 3, 4, 7, 7]\n",
    "\n",
    "dict_sciname_col = {sciname:col_list_re[i] for sciname, i in dict_sciname_cind.items()}\n",
    "# for sc, i in zip(sciname_order, col_index_order):\n",
    "#     dict_sciname_col[sc] = col_list_re[i]"
   ]
  },
  {
   "cell_type": "code",
   "execution_count": null,
   "metadata": {},
   "outputs": [],
   "source": [
    "# n_assoc = 3\n",
    "# cind_first_two = [1,0,2]\n",
    "\n",
    "# cl_first_two = clusters_sort[:n_assoc]\n",
    "# col_first_two = [col_list_re[i] for i in cind_first_two]\n",
    "# dict_bc_col = dict(zip(cl_first_two, col_first_two))\n",
    "# print(cl_first_two)\n",
    "\n",
    "# cl_unq, cl_counts = np.unique(list(dict_lab_clust.values()), return_counts=True)\n",
    "# cl_unq_ = [cl for cl in cl_unq if cl not in cl_first_two]\n",
    "# cl_counts_ = [cnt for cl, cnt in zip(cl_unq, cl_counts) if cl not in cl_first_two]\n",
    "# print(cl_unq_)\n",
    "# print(cl_counts_)\n",
    "\n",
    "# cl_next_few = [cl for _, cl in sorted(zip(cl_counts_, cl_unq_), reverse=True)]\n",
    "# print(cl_next_few)\n",
    "# # cl_next_few = clusters_sort[n_assoc:]\n",
    "\n",
    "# # cind_next_few = [6, 1, 7, 5, 4, 3, 8, 9, 10, 11, 12, 13, 14, 15, 16, 17]\n",
    "# cind_next_few = [5, 6, 7, 3, 4, 8, 9, 10, 11, 12, 13, 14, 15, 16, 17]\n",
    "# col_next_few = [col_list_re[i] for i in cind_next_few]\n",
    "# for cl, col in zip(cl_next_few, col_next_few):\n",
    "#     dict_bc_col[cl] = col\n",
    "\n",
    "# cl_color_order = cl_first_two + cl_next_few\n",
    "\n",
    "\n",
    "# ln = len(cl_color_order)\n",
    "# barlist = plt.bar(np.arange(ln), np.ones(ln))\n",
    "# for b, cl in zip(barlist, cl_color_order):\n",
    "#     c = dict_bc_col[cl]\n",
    "#     b.set_color(c)\n",
    "# _ = plt.xticks(ticks=np.arange(ln), labels=cl_color_order)\n",
    "\n",
    "# dict_bc_col = dict(zip(clusters_sort, col_list))\n",
    "dict_bc_col = dict(zip(clusters_sort, col_list_re))\n"
   ]
  },
  {
   "cell_type": "markdown",
   "metadata": {},
   "source": [
    "Plot assoc"
   ]
  },
  {
   "cell_type": "code",
   "execution_count": null,
   "metadata": {},
   "outputs": [],
   "source": [
    "# Plot z score number of spots associated with group\n",
    "\n",
    "\n",
    "\n",
    "\n",
    "save=False\n",
    "\n",
    "\n",
    "\n",
    "\n",
    "# dims=[5,2]\n",
    "dims = [1.5, 1]\n",
    "xlab_rotation = 45\n",
    "pval_rotation = 60\n",
    "marker = \".\"\n",
    "marker_size = 10\n",
    "text_dist = 0.1\n",
    "# ft = 12\n",
    "ft = 6\n",
    "ylimadj = 0.1\n",
    "true_frac_llim = 0\n",
    "line_col = \"k\"\n",
    "box_line_col = (0.5, 0.5, 0.5)\n",
    "box_col = \"w\" if line_col == 'k' else 'k'\n",
    "yticklength = 2\n",
    "\n",
    "fig, ax = ip.general_plot(dims=dims, ft=ft, col=line_col)\n",
    "# Plot simulation\n",
    "boxplot = ax.boxplot(\n",
    "    sim_z_sort,\n",
    "    patch_artist=True,\n",
    "    showfliers=False,\n",
    "    boxprops=dict(facecolor=box_col, color=box_line_col),\n",
    "    capprops=dict(color=box_line_col),\n",
    "    whiskerprops=dict(color=box_line_col),\n",
    "    medianprops=dict(color=box_line_col),\n",
    ")\n",
    "# for m in boxplot['medians']:\n",
    "#     m.set_color(line_col)\n",
    "# for b in boxplot['boxes']:\n",
    "#     b.set_edgecolor(line_col)\n",
    "#     b.set_facecolor(box_col)\n",
    "\n",
    "# Plot measured value\n",
    "ys = []\n",
    "xlab = []\n",
    "cols = []\n",
    "x = 1\n",
    "for i, cl in enumerate(clusters_sort):\n",
    "    # for i, bc_tax in zip(ind_order, barcodes_int_order):\n",
    "    # sci_name = dict_bc_sciname[bc_tax]\n",
    "    # sci_name = dict_bc_sciname[cl]\n",
    "    sci_name = dict_cl_sciname[cl]\n",
    "    color = dict_sciname_col[sci_name]\n",
    "    # color = dict_bc_col[cl]\n",
    "    # xlab.append(sci_name)\n",
    "\n",
    "    # try:\n",
    "    #     color = col_dict[sci_name]\n",
    "    # except:\n",
    "    #     continue\n",
    "\n",
    "    cols.append(color)\n",
    "    true_frac = meas_z_sort[i]\n",
    "    print(sci_name, ': ', true_frac)\n",
    "    # true_frac = true_count / n_cells\n",
    "    _ = ax.plot(x, true_frac, marker=marker, ms=marker_size, color=color)\n",
    "    # # Plot p value\n",
    "    # sim_vals_i = sim_counts_arr[:, i]\n",
    "    # # sim_vals = sim_arr[:,i,h] / n_cells\n",
    "    # sim_mean = np.mean(sim_vals)\n",
    "    # if true_frac > sim_mean:\n",
    "    #     # number of simulations with value greater than observed\n",
    "    #     r_ = sum(sim_vals_i > true_frac)\n",
    "    # else:\n",
    "    #     # number of simulations with value less than observed\n",
    "    #     r_ = sum(sim_vals_i < true_frac)\n",
    "    # # P value\n",
    "    # p_ = r_ / n\n",
    "    # # Get text location\n",
    "    # q1, q3 = np.quantile(sim_vals, [0.25, 0.75])\n",
    "    # q4 = q3 + 1.5 * (q3 - q1)\n",
    "    # # y_m = np.max(sim_vals)\n",
    "    # # y = y_m if y_m > true_frac else true_frac\n",
    "    # y = q4 if q4 > true_frac else true_frac\n",
    "    # y += text_dist\n",
    "    # ys.append(y)\n",
    "    # if true_frac < true_frac_llim:\n",
    "    #     t = ''\n",
    "    # elif (p_ > 0.05):\n",
    "    #     t = ''\n",
    "    # elif (p_ > 0.001) and (p_ <= 0.05):\n",
    "    #     t = str(\"p=\" + str(p_))\n",
    "    # else:\n",
    "    #     t = str(\"p<0.001\")\n",
    "    # _ = ax.text(x, y, t, fontsize=ft, ha='left',va='bottom', rotation=pval_rotation, rotation_mode='anchor',\n",
    "    #         color=line_col)\n",
    "    x += 1\n",
    "ax.set_xticklabels([], rotation=xlab_rotation, ha='right', va='top', rotation_mode='anchor')\n",
    "# ax.set_xticklabels(xlab, rotation=xlab_rotation, ha='right', va='top', rotation_mode='anchor')\n",
    "# ax.tick_params(axis='x',direction='out')\n",
    "ax.set_xticks([])\n",
    "# ax.tick_params(axis=\"y\", length=yticklength)\n",
    "ax.set_yticks(ticks=[-5,0,5,10], labels=[])\n",
    "ax.spines[\"top\"].set_color(\"none\")\n",
    "ax.spines[\"bottom\"].set_color(\"none\")\n",
    "ax.spines[\"right\"].set_color(\"none\")\n",
    "\n",
    "# ylims = ax.get_ylim()\n",
    "# ax.set_ylim(ylims[0], np.max(ys) + ylimadj)\n",
    "\n",
    "if save:\n",
    "    mge_assoc_dir = output_dir + \"/mge_association/nearest_neighbor\"\n",
    "    if not os.path.exists(mge_assoc_dir):\n",
    "        os.makedirs(mge_assoc_dir)\n",
    "        print(\"Made dir:\", mge_assoc_dir)\n",
    "    out_bn = mge_assoc_dir + '/' + bn.format(m_h) + '_seg_nn_zscore_association'\n",
    "    ip.save_png_pdf(out_bn)\n",
    "    print('Wrote:', out_bn + '.png')\n"
   ]
  },
  {
   "cell_type": "markdown",
   "metadata": {},
   "source": [
    "Plot spot fraction "
   ]
  },
  {
   "cell_type": "code",
   "execution_count": null,
   "metadata": {},
   "outputs": [],
   "source": [
    "meas_spotfrac_arr = np.array(meas_counts_arr_sort) / len(spot_coords)\n",
    "\n",
    "# ft=12\n",
    "# ft=6\n",
    "line_col = 'k'\n",
    "width=0.4\n",
    "# dims=[5,2]\n",
    "dims=[1,0.6]\n",
    "yticklength=1\n",
    "\n",
    "# sci_name_order = [dict_bc_sciname[bc] for bc in barcodes_int_order]\n",
    "sci_name_order = [dict_cl_sciname[cl] for cl in clusters_sort]\n",
    "color_order = [dict_sciname_col[sc] for sc in sci_name_order]\n",
    "# color_order = [dict_bc_col[sc] for sc in clusters_sort]\n",
    "\n",
    "fig, ax = ip.general_plot(dims=dims, ft=ft, col=line_col)\n",
    "ax.bar(\n",
    "        np.arange(meas_spotfrac_arr.shape[0]),\n",
    "        meas_spotfrac_arr,\n",
    "        width=width,\n",
    "        color=color_order,\n",
    "        edgecolor=line_col\n",
    "        )\n",
    "print(meas_spotfrac_arr)\n",
    "ax.spines['top'].set_color('none')\n",
    "ax.spines['right'].set_color('none')\n",
    "ax.set_xticks([])\n",
    "ax.set_yticks(ticks=[0,0.2,0.4,0.6], labels=[])\n",
    "ax.tick_params(axis='y', length=yticklength)\n",
    "\n",
    "if save:\n",
    "    mge_assoc_dir = output_dir + \"/mge_association/nearest_neighbor\"\n",
    "    if not os.path.exists(mge_assoc_dir):\n",
    "        os.makedirs(mge_assoc_dir)\n",
    "        print(\"Made dir:\", mge_assoc_dir)\n",
    "    out_bn = mge_assoc_dir + '/' + bn.format(m_h) + '_seg_nn_fracspot'\n",
    "    ip.save_png_pdf(out_bn)\n",
    "    print('Wrote:', out_bn + '.png')\n",
    "\n",
    "# mge_assoc_dir = output_dir + '/mge_association'\n",
    "# if not os.path.exists(mge_assoc_dir): \n",
    "#     os.makedirs(mge_assoc_dir)\n",
    "#     print('Made dir:',mge_assoc_dir)\n",
    "# out_bn = mge_assoc_dir + '/' + bn.format(m_h) + '_bar_seg_nn_frac_spot_association_0_5um'\n",
    "# ip.save_png_pdf(out_bn)"
   ]
  },
  {
   "cell_type": "markdown",
   "metadata": {},
   "source": [
    "Plot fraction cluster assoc with spot"
   ]
  },
  {
   "cell_type": "code",
   "execution_count": null,
   "metadata": {},
   "outputs": [],
   "source": [
    "# Get cluster counts without repeateing the same label\n",
    "labels_nn_flat = [l for ls in labels_nn for l in ls]\n",
    "labels_nn_unq = np.unique(labels_nn_flat)\n",
    "clusts_labels_nn_unq = [dict_lab_clust[l] for l in labels_nn_unq]\n",
    "cl_nn_unq2, cl_nn_counts2 = np.unique(clusts_labels_nn_unq, return_counts=True)\n",
    "dict_cl_nncounts2 = dict(zip(cl_nn_unq2, cl_nn_counts2))\n",
    "meas_counts_arr2 = np.zeros(len(clusters_unq))\n",
    "for i, cl in enumerate(clusters_sort):\n",
    "    try:\n",
    "        meas_counts_arr2[i] = dict_cl_nncounts2[cl]\n",
    "    except:\n",
    "        pass\n",
    "print(meas_counts_arr2)"
   ]
  },
  {
   "cell_type": "code",
   "execution_count": null,
   "metadata": {},
   "outputs": [],
   "source": [
    "# Get counts for each cluster\n",
    "cl_all, cl_counts = np.unique(list(dict_lab_clust.values()), return_counts=True)\n",
    "dict_cl_counts_all = dict(zip(cl_all, cl_counts))\n",
    "all_counts_arr = np.zeros(len(clusters_unq))\n",
    "for i, cl in enumerate(clusters_sort):\n",
    "    try:\n",
    "        all_counts_arr[i] = dict_cl_counts_all[cl]\n",
    "    except:\n",
    "        pass\n",
    "print(all_counts_arr)"
   ]
  },
  {
   "cell_type": "code",
   "execution_count": null,
   "metadata": {},
   "outputs": [],
   "source": [
    "# Frac taxon assoc with spot\n",
    "cl_fracnearspots = meas_counts_arr2 / all_counts_arr\n",
    "\n",
    "# dims=[5,2]\n",
    "dims=[1.5,0.6]\n",
    "yticklength=2\n",
    "# ft=12\n",
    "# ft=6\n",
    "line_col = 'k'\n",
    "width=0.4\n",
    "\n",
    "\n",
    "fig, ax = ip.general_plot(dims=dims, ft=ft, col=line_col)\n",
    "ax.bar(\n",
    "        np.arange(cl_fracnearspots.shape[0]),\n",
    "        cl_fracnearspots,\n",
    "        width=width,\n",
    "        color=color_order,\n",
    "        edgecolor=line_col\n",
    "        )\n",
    "print(cl_fracnearspots)\n",
    "ax.set_xticks([])\n",
    "# ax.set_yticks(ticks=[0,0.3,0.6], labels=[])\n",
    "ax.spines['top'].set_color('none')\n",
    "ax.spines['right'].set_color('none')\n",
    "ax.tick_params(axis='y', length=yticklength)\n",
    "\n",
    "if save:\n",
    "    mge_assoc_dir = output_dir + \"/mge_association/nearest_neighbor\"\n",
    "    if not os.path.exists(mge_assoc_dir): \n",
    "        os.makedirs(mge_assoc_dir)\n",
    "        print('Made dir:',mge_assoc_dir)\n",
    "    out_bn = mge_assoc_dir + '/' + bn.format(m_h) + '_seg_nn_fraccell'\n",
    "    ip.save_png_pdf(out_bn)\n",
    "    print('Wrote:', out_bn + '.png')\n"
   ]
  },
  {
   "cell_type": "markdown",
   "metadata": {},
   "source": [
    "### Plot spectra\n",
    "Get spectra"
   ]
  },
  {
   "cell_type": "code",
   "execution_count": null,
   "metadata": {},
   "outputs": [],
   "source": [
    "# Get spectra\n",
    "with open(spec_fn.format(m_h), 'r') as f:\n",
    "    dict_lab_spec = yaml.unsafe_load(f)\n",
    "len(dict_lab_spec)"
   ]
  },
  {
   "cell_type": "markdown",
   "metadata": {},
   "source": [
    "Get spectra for clusters"
   ]
  },
  {
   "cell_type": "code",
   "execution_count": null,
   "metadata": {},
   "outputs": [],
   "source": [
    "# Get spectra for clusters\n",
    "dict_cl_spec = defaultdict(list)\n",
    "dict_cl_lab = defaultdict(list)\n",
    "for l, spec in dict_lab_spec.items():\n",
    "    cl = dict_lab_clust[l]\n",
    "    dict_cl_spec[cl].append(spec)\n",
    "    dict_cl_lab[cl].append(l)"
   ]
  },
  {
   "cell_type": "markdown",
   "metadata": {},
   "source": [
    "Plot spectra with varying y axis"
   ]
  },
  {
   "cell_type": "code",
   "execution_count": null,
   "metadata": {},
   "outputs": [],
   "source": [
    "spec_dims = [2.5, 1.25]\n",
    "# spec_dims = [10, 5]\n",
    "\n",
    "ft = 6\n",
    "\n",
    "\n",
    "for cl in list(clusters_sort):\n",
    "    specs_arr = np.array(dict_cl_spec[cl])\n",
    "\n",
    "    sci_name = dict_cl_sciname[cl]\n",
    "    color = dict_sciname_col[sci_name]\n",
    "    # color = dict_bc_col[cl]\n",
    "\n",
    "    fig, ax = ip.general_plot(dims=spec_dims, col=\"w\", ft=ft)\n",
    "\n",
    "    fsi.plot_cell_spectra(\n",
    "        ax, specs_arr, {\"lw\": 1, \"alpha\": 0.2, \"color\": color}\n",
    "    )\n",
    "\n",
    "    # ax.set_ylim(0,2000)\n",
    "\n",
    "    ylim = ax.get_ylim()\n",
    "    xs = [3, 7, 10, 24, 27, 29, 31, 33, 43, 47]\n",
    "    for x in xs:\n",
    "        ax.plot([x, x], ylim, color=(0.5, 0.5, 0.5), lw=0.5, alpha=0.5)\n",
    "\n",
    "    # ax.set_title('Cluster: ' + str(cl), color='w', ft=ft)\n",
    "    # ax.set_xticks([])\n",
    "    # ax.set_yticks(ticks=[0,0.3,0.6], labels=[])\n",
    "    ax.spines[\"top\"].set_color(\"none\")\n",
    "    ax.spines[\"right\"].set_color(\"none\")\n",
    "    # ax.tick_params(axis='y', length=yticklength)\n",
    "\n",
    "    if save:\n",
    "        mge_assoc_dir = output_dir + \"/cluster_spectra\" + \"/M_\" + str(m_h)\n",
    "        if not os.path.exists(mge_assoc_dir):\n",
    "            os.makedirs(mge_assoc_dir)\n",
    "            print(\"Made dir:\", mge_assoc_dir)\n",
    "        out_bn = mge_assoc_dir + \"/\" + bn.format(m_h) + \"_spec_cluster_\" + str(cl)\n",
    "        ip.save_png_pdf(out_bn)\n",
    "        print(\"Wrote:\", out_bn + \".png\")\n",
    "\n",
    "    print(cl)\n",
    "    plt.show()\n",
    "    plt.close()"
   ]
  },
  {
   "cell_type": "markdown",
   "metadata": {},
   "source": [
    "Plot spectra with constant y axis"
   ]
  },
  {
   "cell_type": "code",
   "execution_count": null,
   "metadata": {},
   "outputs": [],
   "source": [
    "# spec_dims = [10,5]\n",
    "spec_dims = [2.5, 1.25]\n",
    "ft = 6\n",
    "ylim = (0,1000)\n",
    "\n",
    "\n",
    "for cl in list(clusters_sort):\n",
    "    print('Cluster:',cl)\n",
    "    specs_arr = np.array(dict_cl_spec[cl])\n",
    "    \n",
    "    sci_name = dict_cl_sciname[cl]\n",
    "    color = dict_sciname_col[sci_name]\n",
    "    # color = dict_bc_col[cl]\n",
    "\n",
    "    fig, ax = ip.general_plot(dims=spec_dims, col=\"w\", ft=ft)\n",
    "\n",
    "    fsi.plot_cell_spectra(\n",
    "        ax, specs_arr, {\"lw\": 1, \"alpha\": 0.2, \"color\": color}\n",
    "    )\n",
    "\n",
    "    ax.set_ylim(ylim[0], ylim[1])\n",
    "\n",
    "    # ylim = ax.get_ylim()\n",
    "    xs = [3, 7, 10, 24, 27, 29, 31, 33, 43, 47]\n",
    "    for x in xs:\n",
    "        ax.plot([x, x], ylim, color=(0.5, 0.5, 0.5), lw=0.5, alpha=0.5)\n",
    "\n",
    "    # ax.set_title('Cluster: ' + str(cl), color='w', ft=ft)\n",
    "    # ax.set_xticks([])\n",
    "    # ax.set_yticks(ticks=[0,0.3,0.6], labels=[])\n",
    "    ax.spines[\"top\"].set_color(\"none\")\n",
    "    ax.spines[\"right\"].set_color(\"none\")\n",
    "    # ax.tick_params(axis='y', length=yticklength)\n",
    "\n",
    "    if save:\n",
    "        mge_assoc_dir = output_dir + '/cluster_spectra' + '/M_' + str(m_h)\n",
    "        if not os.path.exists(mge_assoc_dir):\n",
    "            os.makedirs(mge_assoc_dir)\n",
    "            print('Made dir:',mge_assoc_dir)\n",
    "        out_bn = mge_assoc_dir + '/' + bn.format(m_h) + '_spec_cluster_' + str(cl) + '_std_y'\n",
    "        ip.save_png_pdf(out_bn)\n",
    "        print('Wrote:', out_bn + '.png')\n",
    "\n",
    "    plt.show()\n",
    "    plt.close()"
   ]
  },
  {
   "cell_type": "markdown",
   "metadata": {},
   "source": [
    "Plot clusters on overlay"
   ]
  },
  {
   "cell_type": "code",
   "execution_count": null,
   "metadata": {},
   "outputs": [],
   "source": [
    "# MGE image\n",
    "# mge_clims = clim_mge\n",
    "mge_clims = (100, 125)\n",
    "\n",
    "raw_mge_shift_spot_norm = norm(raw_mge_shift_spot, mge_clims)\n",
    "raw_mge_shift_spot_rgb = np.dstack([\n",
    "    raw_mge_shift_spot_norm,\n",
    "    np.zeros_like(raw_mge_shift_spot_norm),\n",
    "    raw_mge_shift_spot_norm,\n",
    "    raw_mge_shift_spot_norm\n",
    "])    "
   ]
  },
  {
   "cell_type": "code",
   "execution_count": null,
   "metadata": {},
   "outputs": [],
   "source": [
    "dict_clust_lab = defaultdict(list)\n",
    "for lab, cl in dict_lab_clust.items():\n",
    "    dict_clust_lab[cl].append(lab)"
   ]
  },
  {
   "cell_type": "code",
   "execution_count": null,
   "metadata": {},
   "outputs": [],
   "source": [
    "clusters_toplot = clusters_sort\n",
    "clusters_notoplot = []\n",
    "\n",
    "hipr_seg_res_clustrgb = np.zeros(hipr_seg_res_edge.shape + (4,))\n",
    "# scinames_toplot = ['Selenomonas', 'Lautropia']\n",
    "# clusters_toplot = [dict_sciname_bc[sc] for sc in scinames_toplot]\n",
    "for cl in clusters_toplot:\n",
    "    if cl not in clusters_notoplot:\n",
    "        labels_sub = dict_clust_lab[cl]\n",
    "        for i, row in hipr_prop_res.iterrows():\n",
    "            l = row.label\n",
    "            if l in labels_sub:\n",
    "                b = row.bbox\n",
    "                b = eval(b) if isinstance(b, str) else b\n",
    "                rgb_sub = hipr_seg_res_clustrgb[b[0]:b[2],b[1]:b[3]]\n",
    "                seg_sub = hipr_seg_res_edge[b[0]:b[2],b[1]:b[3]] == l\n",
    "                # im_sub = im_norm[b[0]:b[2],b[1]:b[3]]\n",
    "                # color = np.array([0,0,1,0.5])\n",
    "                sci_name = dict_cl_sciname[cl]\n",
    "                col = dict_sciname_col[sci_name]\n",
    "                # col = dict_bc_col[cl]\n",
    "                color = np.array(col + (1,))\n",
    "                # rgb_noncell =  rgb_sub * np.dstack([~seg_sub]*3 + np.ones_like(seg_sub))\n",
    "                rgb_noncell =  rgb_sub * np.dstack([~seg_sub]*4)\n",
    "                # rgb_cell = (im_sub * seg_sub)[:,:,None] * color[None,:]\n",
    "                rgb_cell = seg_sub[:,:,None] * color[None,:]\n",
    "                hipr_seg_res_clustrgb[b[0]:b[2],b[1]:b[3],:] = rgb_noncell + rgb_cell"
   ]
  },
  {
   "cell_type": "code",
   "execution_count": null,
   "metadata": {},
   "outputs": [],
   "source": [
    "imin=10\n",
    "\n",
    "res_mge_umpix = res_mge * 10**6\n",
    "dpi = np.max(im_cell.shape) // imin\n",
    "\n",
    "dpi"
   ]
  },
  {
   "cell_type": "code",
   "execution_count": null,
   "metadata": {},
   "outputs": [],
   "source": [
    "fig, ax, cbar = ip.plot_image(\n",
    "    im_cell,\n",
    "    cmap=\"gray\",\n",
    "    im_inches=30,\n",
    "    clims=(0, 2000),\n",
    "    scalebar_resolution=res_mge_umpix,\n",
    ")\n",
    "\n",
    "# fig, ax, cbar = ip.plot_image(\n",
    "#     np.zeros_like(im_cell),\n",
    "#     cmap=\"gray\",\n",
    "#     im_inches=imin,\n",
    "#     clims=(0, 2000),\n",
    "#     scalebar_resolution=res_mge_umpix,\n",
    "# )\n",
    "\n",
    "ax.imshow(hipr_seg_res_clustrgb)\n",
    "ax.imshow(raw_mge_shift_spot_rgb)\n",
    "# ax.imshow(seg_mge_shift_spot_rgb)\n",
    "\n",
    "if save:\n",
    "    mge_overlay_dir = output_dir + \"/mge_overlay/clust_merge\"\n",
    "    if not os.path.exists(mge_overlay_dir):\n",
    "        os.makedirs(mge_overlay_dir)\n",
    "        print(\"Made dir:\", mge_overlay_dir)\n",
    "    plt.figure(fig)\n",
    "    out_bn = mge_overlay_dir + \"/\" + bn.format(m_h) + \"_overlay_mergeclusts_mge\"\n",
    "    ip.save_png_pdf(out_bn, dpi=dpi)\n",
    "    print(\"Wrote:\", out_bn + \".png\")"
   ]
  },
  {
   "cell_type": "markdown",
   "metadata": {},
   "source": [
    "Plot assoc clusters on overlay"
   ]
  },
  {
   "cell_type": "code",
   "execution_count": null,
   "metadata": {},
   "outputs": [],
   "source": [
    "index_toplot = [0,1]\n",
    "clusters_toplot = [clusters_sort[i] for i in index_toplot]\n",
    "\n",
    "hipr_seg_res_clustrgb = np.zeros(hipr_seg_res_edge.shape + (4,))\n",
    "# scinames_toplot = ['Selenomonas', 'Lautropia']\n",
    "# clusters_toplot = [dict_sciname_bc[sc] for sc in scinames_toplot]\n",
    "for cl in clusters_toplot:\n",
    "    labels_sub = dict_clust_lab[cl]\n",
    "    for i, row in hipr_prop_res.iterrows():\n",
    "        l = row.label\n",
    "        if l in labels_sub:\n",
    "            b = row.bbox\n",
    "            b = eval(b) if isinstance(b, str) else b\n",
    "            rgb_sub = hipr_seg_res_clustrgb[b[0]:b[2],b[1]:b[3]]\n",
    "            seg_sub = hipr_seg_res_edge[b[0]:b[2],b[1]:b[3]] == l\n",
    "            # im_sub = im_norm[b[0]:b[2],b[1]:b[3]]\n",
    "            # color = np.array([0,0,1,0.5])\n",
    "            sci_name = dict_cl_sciname[cl]\n",
    "            col = dict_sciname_col[sci_name]\n",
    "            color = np.array(col + (1,))\n",
    "            # rgb_noncell =  rgb_sub * np.dstack([~seg_sub]*3 + np.ones_like(seg_sub))\n",
    "            rgb_noncell =  rgb_sub * np.dstack([~seg_sub]*4)\n",
    "            # rgb_cell = (im_sub * seg_sub)[:,:,None] * color[None,:]\n",
    "            rgb_cell = seg_sub[:,:,None] * color[None,:]\n",
    "            hipr_seg_res_clustrgb[b[0]:b[2],b[1]:b[3],:] = rgb_noncell + rgb_cell"
   ]
  },
  {
   "cell_type": "code",
   "execution_count": null,
   "metadata": {},
   "outputs": [],
   "source": [
    "# fig, ax, cbar = ip.plot_image(\n",
    "    #     im_cell,\n",
    "#     cmap=\"gray\",\n",
    "#     im_inches=imin,\n",
    "#     clims=(0, 2000),\n",
    "#     scalebar_resolution=res_mge_umpix,\n",
    "# )\n",
    "fig, ax, cbar = ip.plot_image(\n",
    "    im_cell,\n",
    "    cmap=\"gray\",\n",
    "    im_inches=30,\n",
    "    clims=(0, 2000),\n",
    "    scalebar_resolution=res_mge_umpix,\n",
    ")\n",
    "ax.imshow(hipr_seg_res_clustrgb)\n",
    "ax.imshow(raw_mge_shift_spot_rgb)\n",
    "# ax.imshow(seg_mge_shift_spot_rgb)\n",
    "if save:\n",
    "    mge_overlay_dir = output_dir + '/mge_overlay/clust_merge'\n",
    "    if not os.path.exists(mge_overlay_dir):\n",
    "        os.makedirs(mge_overlay_dir)\n",
    "        print('Made dir:',mge_overlay_dir)\n",
    "    plt.figure(fig)\n",
    "    out_bn = mge_overlay_dir + '/' + bn.format(m_h) + '_overlay_mergeclusts_mge_assoc'\n",
    "    ip.save_png_pdf(out_bn, dpi=dpi)\n",
    "    print('Wrote:', out_bn + '.png')"
   ]
  },
  {
   "cell_type": "code",
   "execution_count": null,
   "metadata": {},
   "outputs": [],
   "source": [
    "# FOR ROHIT #\n",
    "\n",
    "# from skimage.measure import regionprops\n",
    "# import matplotlib.pyplot as plt\n",
    "\n",
    "\n",
    "# def seg_2_rgb(seg, dict_lab_col, dict_lab_bbox):\n",
    "#     \"\"\"\n",
    "#     Convert segmentation numpy array to RGB image\n",
    "\n",
    "#     seg - 2d array(int or str) - objects are adjacent pixels with the same value\n",
    "#     dict_lab_col - dictionary(int or str -> list or tup) - map objects in seg to an RGB or RGBA color\n",
    "#     dict_lab_bbox - dictinoary(int or str -> list(int) or tup(int) or str(comma separated integers)) -\n",
    "#         map objects in seg to a bounding box\n",
    "#         bounding box has format (row min, column min, row max, column max)\n",
    "#     \"\"\"\n",
    "#     rgb_shape = len(dict_lab_col[list(dict_lab_col.keys())[0]])  # Determine RGB or RGBA\n",
    "#     rgb = np.zeros(seg.shape + (rgb_shape,))  # initiate empty image\n",
    "#     for l, b in dict_lab_bbox.items():\n",
    "#         b = eval(b) if isinstance(b, str) else b  # convert to list if string\n",
    "#         rgb_sub = rgb[b[0] : b[2], b[1] : b[3]]  # extract current RGB bbox\n",
    "#         seg_sub = seg[b[0] : b[2], b[1] : b[3]] == l  # Extract object\n",
    "#         color = np.array(dict_lab_col[l])  # Get the object's new color\n",
    "#         rgb_nonobj = rgb_sub * np.dstack(\n",
    "#             [~seg_sub] * rgb_shape\n",
    "#         )  # keep everything already existing in the rgb\n",
    "#         rgb_obj = seg_sub[:, :, None] * color[None, :]  # recolor the object\n",
    "#         rgb[b[0] : b[2], b[1] : b[3], :] = (\n",
    "#             rgb_nonobj + rgb_obj\n",
    "#         )  # write the recolored object to the rgb\n",
    "#     return rgb\n",
    "\n",
    "\n",
    "# def measure_regionprops(seg, raw=None):\n",
    "#     '''\n",
    "#     Measure the properties of segmented objects in a numpy array\n",
    "\n",
    "#     seg - 2d array(int) - objects are adjacent pixels with the same value\n",
    "#     raw - 2d array(int or float) - grayscale image used to measure intensity values in seg objects\n",
    "#     '''\n",
    "#     if isinstance(raw, type(None)):\n",
    "#         raw = np.zeros(seg.shape)\n",
    "#     sp_ = regionprops(seg, intensity_image=raw)\n",
    "#     properties = [\n",
    "#         \"label\",\n",
    "#         \"centroid\",\n",
    "#         \"area\",\n",
    "#         \"max_intensity\",\n",
    "#         \"mean_intensity\",\n",
    "#         \"min_intensity\",\n",
    "#         \"bbox\",\n",
    "#         \"major_axis_length\",\n",
    "#         \"minor_axis_length\",\n",
    "#         \"orientation\",\n",
    "#         \"eccentricity\",\n",
    "#         \"perimeter\",\n",
    "#     ]\n",
    "#     df = pd.DataFrame([])\n",
    "#     for p in properties:\n",
    "#         df[p] = [s[p] for s in sp_]\n",
    "#     for j in range(2):\n",
    "#         df[\"centroid-\" + str(j)] = [r[\"centroid\"][j] for i, r in df.iterrows()]\n",
    "#     for j in range(4):\n",
    "#         df[\"bbox-\" + str(j)] = [r[\"bbox\"][j] for i, r in df.iterrows()]\n",
    "#     # regions = regionprops_table(seg, intensity_image = raw,\n",
    "#     #                             properties=['label','centroid','area','max_intensity',\n",
    "#     #                             'mean_intensity','min_intensity', 'bbox',\n",
    "#     #                             'major_axis_length', 'minor_axis_length',\n",
    "#     #                             'orientation','eccentricity','perimeter'])\n",
    "#     # return pd.DataFrame(regions)\n",
    "#     return df\n",
    "\n",
    "\n",
    "\n",
    "# #########\n",
    "# # EXAMPLE\n",
    "# #########\n",
    "# seg = np.zeros((100, 100), dtype=int)\n",
    "# seg[40:60, 40:60] = 1\n",
    "\n",
    "# props = measure_regionprops(seg)\n",
    "# dict_lab_bbox = dict(zip(props.label.values, props.bbox.values))\n",
    "\n",
    "# dict_lab_col = {1: (1, 0, 1)}\n",
    "\n",
    "# rgb = seg_2_rgb(seg, dict_lab_col, dict_lab_bbox)\n",
    "\n",
    "# plt.imshow(seg, cmap=\"gray\")\n",
    "# plt.show()\n",
    "# plt.close()\n",
    "# plt.imshow(rgb)\n",
    "# print(rgb.shape)"
   ]
  },
  {
   "cell_type": "markdown",
   "metadata": {},
   "source": [
    "## Get nearest spectra to spots\n",
    "Get spectra"
   ]
  },
  {
   "cell_type": "code",
   "execution_count": null,
   "metadata": {},
   "outputs": [],
   "source": [
    "labels_nn = hipr_prop_res.label.values[inds.squeeze()]\n",
    "spec_nn = np.array([dict_lab_spec[l] for l in labels_nn])"
   ]
  },
  {
   "cell_type": "markdown",
   "metadata": {},
   "source": [
    "Plot spectra together"
   ]
  },
  {
   "cell_type": "code",
   "execution_count": null,
   "metadata": {},
   "outputs": [],
   "source": [
    "fig, ax = ip.general_plot(dims=spec_dims, col=\"w\", ft=ft)\n",
    "\n",
    "fsi.plot_cell_spectra(\n",
    "    ax, spec_nn, {\"lw\": 1, \"alpha\": 0.2, \"color\": 'r'}\n",
    ")"
   ]
  },
  {
   "cell_type": "markdown",
   "metadata": {},
   "source": [
    "Project nearest neighbors on image"
   ]
  },
  {
   "cell_type": "code",
   "execution_count": null,
   "metadata": {},
   "outputs": [],
   "source": [
    "col_list_re[0]"
   ]
  },
  {
   "cell_type": "code",
   "execution_count": null,
   "metadata": {},
   "outputs": [],
   "source": [
    "hipr_seg_res_clustrgb = np.zeros(hipr_seg_res_edge.shape + (4,))\n",
    "# scinames_toplot = ['Selenomonas', 'Lautropia']\n",
    "# clusters_toplot = [dict_sciname_bc[sc] for sc in scinames_toplot]\n",
    "for i, row in hipr_prop_res.iterrows():\n",
    "    l = row.label\n",
    "    if l in labels_nn:\n",
    "        b = row.bbox\n",
    "        b = eval(b) if isinstance(b, str) else b\n",
    "        rgb_sub = hipr_seg_res_clustrgb[b[0] : b[2], b[1] : b[3]]\n",
    "        seg_sub = hipr_seg_res_edge[b[0] : b[2], b[1] : b[3]] == l\n",
    "        # im_sub = im_norm[b[0]:b[2],b[1]:b[3]]\n",
    "        # color = np.array([0,0,1,0.5])\n",
    "        color = np.array(col_list_re[0] + (1,))\n",
    "        # rgb_noncell =  rgb_sub * np.dstack([~seg_sub]*3 + np.ones_like(seg_sub))\n",
    "        rgb_noncell = rgb_sub * np.dstack([~seg_sub] * 4)\n",
    "        # rgb_cell = (im_sub * seg_sub)[:,:,None] * color[None,:]\n",
    "        rgb_cell = seg_sub[:, :, None] * color[None, :]\n",
    "        hipr_seg_res_clustrgb[b[0] : b[2], b[1] : b[3], :] = rgb_noncell + rgb_cell"
   ]
  },
  {
   "cell_type": "code",
   "execution_count": null,
   "metadata": {},
   "outputs": [],
   "source": [
    "fig, ax, cbar = ip.plot_image(\n",
    "    im_cell,\n",
    "    cmap=\"gray\",\n",
    "    im_inches=30,\n",
    "    clims=(0, 2000),\n",
    "    scalebar_resolution=res_mge_umpix,\n",
    ")\n",
    "ax.imshow(hipr_seg_res_clustrgb)\n",
    "ax.imshow(raw_mge_shift_spot_rgb)"
   ]
  },
  {
   "cell_type": "markdown",
   "metadata": {},
   "source": [
    "Cluster spectra"
   ]
  },
  {
   "cell_type": "code",
   "execution_count": null,
   "metadata": {},
   "outputs": [],
   "source": [
    "dist_mat_cond = pdist(spec_nn, fhc.channel_cosine_intensity_allonev2)"
   ]
  },
  {
   "cell_type": "code",
   "execution_count": null,
   "metadata": {},
   "outputs": [],
   "source": [
    "dist_mat = squareform(dist_mat_cond)"
   ]
  },
  {
   "cell_type": "code",
   "execution_count": null,
   "metadata": {},
   "outputs": [],
   "source": [
    "linkage = hierarchy.linkage(dist_mat_cond, method=\"complete\")"
   ]
  },
  {
   "cell_type": "code",
   "execution_count": null,
   "metadata": {},
   "outputs": [],
   "source": [
    "labels = list(dict_lab_spec.keys())\n",
    "\n",
    "fig, ax = ip.general_plot(dims=(15, 15))\n",
    "dn = hierarchy.dendrogram(linkage, truncate_mode=None)\n",
    "# dn = hierarchy.dendrogram(linkage, labels=inds, truncate_mode='lastp')\n",
    "# ax.axhline(t[i])\n",
    "ylims = [round(l, 2) for l in ax.get_ylim()]\n",
    "ax.set_yticks(np.arange(ylims[0], ylims[1], 0.1))\n",
    "ax.grid(axis=\"y\")\n",
    "plt.show()\n",
    "plt.close()"
   ]
  },
  {
   "cell_type": "code",
   "execution_count": null,
   "metadata": {},
   "outputs": [],
   "source": [
    "fit = umap.UMAP(metric=\"precomputed\", n_neighbors=100, min_dist=0.1).fit(dist_mat)\n",
    "u = fit.embedding_\n",
    "plt.scatter(u[:, 0], u[:, 1], alpha=0.05)\n",
    "plt.show()\n",
    "plt.close()"
   ]
  },
  {
   "cell_type": "code",
   "execution_count": null,
   "metadata": {},
   "outputs": [],
   "source": [
    "n_clust = 4\n",
    "agg = AgglomerativeClustering(n_clusters=n_clust, affinity='precomputed', linkage='complete')\n",
    "\n",
    "agg.fit(dist_mat)\n",
    "\n",
    "clust_agg = agg.labels_"
   ]
  },
  {
   "cell_type": "code",
   "execution_count": null,
   "metadata": {},
   "outputs": [],
   "source": [
    "# n_clust = np.max(clust_agg) + 1\n",
    "dict_clust_col = dict(zip(np.arange(n_clust), col_list_re))\n",
    "clust_cols = [dict_clust_col[cl] for cl in clust_agg]"
   ]
  },
  {
   "cell_type": "code",
   "execution_count": null,
   "metadata": {},
   "outputs": [],
   "source": [
    "plt.scatter(u[:, 0], u[:, 1], c=clust_cols, alpha=0.2)\n",
    "plt.show()\n",
    "plt.close()"
   ]
  },
  {
   "cell_type": "markdown",
   "metadata": {},
   "source": [
    "Plot cluster spectra"
   ]
  },
  {
   "cell_type": "code",
   "execution_count": null,
   "metadata": {},
   "outputs": [],
   "source": [
    "spec_dims = (10,5)\n",
    "\n",
    "\n",
    "for c in np.unique(clust_agg):\n",
    "    print('Cluster:', c)\n",
    "    bool_c = clust_agg == c\n",
    "    spec_sub = spec_nn[bool_c,:]\n",
    "\n",
    "    # spec_sub_meansub = spec_sub - specs_med\n",
    "    # spec_sub_meansub[spec_sub_meansub < 0] = 0\n",
    "\n",
    "    fig, ax = ip.general_plot(dims=spec_dims, col='w')\n",
    "    color = dict_clust_col[c]\n",
    "    fsi.plot_cell_spectra(ax, spec_sub, {'lw':2,'alpha':0.2,'color':color})\n",
    "\n",
    "    ylim = ax.get_ylim()\n",
    "\n",
    "    xs = [3, 7, 10, 24, 27, 29, 31, 33, 43, 47]\n",
    "    for x in xs:\n",
    "        ax.plot([x,x], ylim, color=(0.5,0.5,0.5), lw=0.5)\n",
    "\n",
    "    # ax.set_ylim(0,1000)\n",
    "    # ax.set_ylim(0,2**16)\n",
    "    plt.plot()\n",
    "    plt.show()"
   ]
  },
  {
   "cell_type": "markdown",
   "metadata": {},
   "source": [
    "Project clusters on image"
   ]
  },
  {
   "cell_type": "code",
   "execution_count": null,
   "metadata": {},
   "outputs": [],
   "source": [
    "dict_lab_clust = dict(zip(labels_nn, clust_agg))"
   ]
  },
  {
   "cell_type": "code",
   "execution_count": null,
   "metadata": {},
   "outputs": [],
   "source": [
    "dict_clust_lab = defaultdict(list)\n",
    "for lab, cl in dict_lab_clust.items():\n",
    "    dict_clust_lab[cl].append(lab)"
   ]
  },
  {
   "cell_type": "code",
   "execution_count": null,
   "metadata": {},
   "outputs": [],
   "source": [
    "\n",
    "hipr_seg_res_clustrgb = np.zeros(hipr_seg_res_edge.shape + (4,))\n",
    "# scinames_toplot = ['Selenomonas', 'Lautropia']\n",
    "# clusters_toplot = [dict_sciname_bc[sc] for sc in scinames_toplot]\n",
    "for cl in np.unique(clust_agg):\n",
    "    labels_sub = dict_clust_lab[cl]\n",
    "    for i, row in hipr_prop_res.iterrows():\n",
    "        l = row.label\n",
    "        if l in labels_sub:\n",
    "            b = row.bbox\n",
    "            b = eval(b) if isinstance(b, str) else b\n",
    "            rgb_sub = hipr_seg_res_clustrgb[b[0] : b[2], b[1] : b[3]]\n",
    "            seg_sub = hipr_seg_res_edge[b[0] : b[2], b[1] : b[3]] == l\n",
    "            # im_sub = im_norm[b[0]:b[2],b[1]:b[3]]\n",
    "            # color = np.array([0,0,1,0.5])\n",
    "            color = np.array(dict_clust_col[cl] + (1,))\n",
    "            # rgb_noncell =  rgb_sub * np.dstack([~seg_sub]*3 + np.ones_like(seg_sub))\n",
    "            rgb_noncell = rgb_sub * np.dstack([~seg_sub] * 4)\n",
    "            # rgb_cell = (im_sub * seg_sub)[:,:,None] * color[None,:]\n",
    "            rgb_cell = seg_sub[:, :, None] * color[None, :]\n",
    "            hipr_seg_res_clustrgb[b[0] : b[2], b[1] : b[3], :] = rgb_noncell + rgb_cell"
   ]
  },
  {
   "cell_type": "code",
   "execution_count": null,
   "metadata": {},
   "outputs": [],
   "source": [
    "fig, ax, cbar = ip.plot_image(\n",
    "    im_cell,\n",
    "    cmap=\"gray\",\n",
    "    im_inches=30,\n",
    "    clims=(0, 2000),\n",
    "    scalebar_resolution=res_mge_umpix,\n",
    ")\n",
    "# fig, ax, cbar = ip.plot_image(\n",
    "#     im_cell,\n",
    "#     cmap=\"gray\",\n",
    "#     im_inches=imin,\n",
    "#     clims=(0, 2000),\n",
    "#     scalebar_resolution=res_mge_umpix,\n",
    "# )\n",
    "ax.imshow(hipr_seg_res_clustrgb)\n",
    "ax.imshow(raw_mge_shift_spot_rgb)\n",
    "\n"
   ]
  },
  {
   "cell_type": "markdown",
   "metadata": {},
   "source": [
    "Manually cluster spectra"
   ]
  },
  {
   "cell_type": "code",
   "execution_count": null,
   "metadata": {},
   "outputs": [],
   "source": [
    "frac = 0.9\n",
    "frac_1 = 0.4\n",
    "\n",
    "clust_man = []\n",
    "for s in spec_nn:\n",
    "    if s[47] < frac*s[31]:\n",
    "        clust_man.append(0)\n",
    "    elif s[43] > frac_1*s[47]:\n",
    "        clust_man.append(1)\n",
    "    else:\n",
    "        clust_man.append(2)\n"
   ]
  },
  {
   "cell_type": "code",
   "execution_count": null,
   "metadata": {},
   "outputs": [],
   "source": [
    "dict_clust_col = dict(zip(np.arange(len(np.unique(clust_man))), col_list_re))\n",
    "clust_cols = [dict_clust_col[cl] for cl in clust_man]"
   ]
  },
  {
   "cell_type": "code",
   "execution_count": null,
   "metadata": {},
   "outputs": [],
   "source": [
    "plt.scatter(u[:, 0], u[:, 1], c=clust_cols, alpha=0.2)\n",
    "plt.show()\n",
    "plt.close()"
   ]
  },
  {
   "cell_type": "code",
   "execution_count": null,
   "metadata": {},
   "outputs": [],
   "source": [
    "spec_dims = (10, 5)\n",
    "\n",
    "\n",
    "for c in np.unique(clust_man):\n",
    "    print(\"Cluster:\", c)\n",
    "    bool_c = clust_man == c\n",
    "    spec_sub = spec_nn[bool_c, :]\n",
    "\n",
    "    # spec_sub_meansub = spec_sub - specs_med\n",
    "    # spec_sub_meansub[spec_sub_meansub < 0] = 0\n",
    "\n",
    "    fig, ax = ip.general_plot(dims=spec_dims, col=\"w\")\n",
    "    color = dict_clust_col[c]\n",
    "    fsi.plot_cell_spectra(ax, spec_sub, {\"lw\": 2, \"alpha\": 0.2, \"color\": color})\n",
    "\n",
    "    ylim = ax.get_ylim()\n",
    "\n",
    "    xs = [3, 7, 10, 24, 27, 29, 31, 33, 43, 47]\n",
    "    for x in xs:\n",
    "        ax.plot([x, x], ylim, color=(0.5, 0.5, 0.5), lw=0.5)\n",
    "\n",
    "    # ax.set_ylim(0,1000)\n",
    "    # ax.set_ylim(0,2**16)\n",
    "    plt.plot()\n",
    "    plt.show()"
   ]
  },
  {
   "cell_type": "code",
   "execution_count": null,
   "metadata": {},
   "outputs": [],
   "source": [
    "dict_lab_clust = dict(zip(labels_nn, clust_man))"
   ]
  },
  {
   "cell_type": "code",
   "execution_count": null,
   "metadata": {},
   "outputs": [],
   "source": [
    "dict_clust_lab = defaultdict(list)\n",
    "for lab, cl in dict_lab_clust.items():\n",
    "    dict_clust_lab[cl].append(lab)"
   ]
  },
  {
   "cell_type": "code",
   "execution_count": null,
   "metadata": {},
   "outputs": [],
   "source": [
    "\n",
    "hipr_seg_res_clustrgb = np.zeros(hipr_seg_res_edge.shape + (4,))\n",
    "# scinames_toplot = ['Selenomonas', 'Lautropia']\n",
    "# clusters_toplot = [dict_sciname_bc[sc] for sc in scinames_toplot]\n",
    "for cl in np.unique(clust_man):\n",
    "    labels_sub = dict_clust_lab[cl]\n",
    "    for i, row in hipr_prop_res.iterrows():\n",
    "        l = row.label\n",
    "        if l in labels_sub:\n",
    "            b = row.bbox\n",
    "            b = eval(b) if isinstance(b, str) else b\n",
    "            rgb_sub = hipr_seg_res_clustrgb[b[0] : b[2], b[1] : b[3]]\n",
    "            seg_sub = hipr_seg_res_edge[b[0] : b[2], b[1] : b[3]] == l\n",
    "            # im_sub = im_norm[b[0]:b[2],b[1]:b[3]]\n",
    "            # color = np.array([0,0,1,0.5])\n",
    "            color = np.array(dict_clust_col[cl] + (1,))\n",
    "            # rgb_noncell =  rgb_sub * np.dstack([~seg_sub]*3 + np.ones_like(seg_sub))\n",
    "            rgb_noncell = rgb_sub * np.dstack([~seg_sub] * 4)\n",
    "            # rgb_cell = (im_sub * seg_sub)[:,:,None] * color[None,:]\n",
    "            rgb_cell = seg_sub[:, :, None] * color[None, :]\n",
    "            hipr_seg_res_clustrgb[b[0] : b[2], b[1] : b[3], :] = rgb_noncell + rgb_cell"
   ]
  },
  {
   "cell_type": "code",
   "execution_count": null,
   "metadata": {},
   "outputs": [],
   "source": [
    "fig, ax, cbar = ip.plot_image(\n",
    "    im_cell,\n",
    "    cmap=\"gray\",\n",
    "    im_inches=30,\n",
    "    clims=(0, 2000),\n",
    "    scalebar_resolution=res_mge_umpix,\n",
    ")\n",
    "# fig, ax, cbar = ip.plot_image(\n",
    "#     im_cell,\n",
    "#     cmap=\"gray\",\n",
    "#     im_inches=imin,\n",
    "#     clims=(0, 2000),\n",
    "#     scalebar_resolution=res_mge_umpix,\n",
    "# )\n",
    "ax.imshow(hipr_seg_res_clustrgb)\n",
    "ax.imshow(raw_mge_shift_spot_rgb)\n",
    "\n"
   ]
  },
  {
   "cell_type": "markdown",
   "metadata": {},
   "source": [
    "Filter spots by shape params"
   ]
  },
  {
   "cell_type": "code",
   "execution_count": null,
   "metadata": {},
   "outputs": [],
   "source": [
    "a = 1"
   ]
  },
  {
   "cell_type": "code",
   "execution_count": null,
   "metadata": {},
   "outputs": [],
   "source": [
    "thresh_ecc = 0.8\n",
    "\n",
    "fig, ax = ip.general_plot(dims=(10,5))\n",
    "ax.scatter(np.arange(prop.shape[0]), prop.eccentricity.sort_values().values)\n",
    "xlims = ax.get_xlim()\n",
    "ax.plot(xlims, [thresh_ecc]*2, color='k')"
   ]
  },
  {
   "cell_type": "code",
   "execution_count": null,
   "metadata": {},
   "outputs": [],
   "source": [
    "spot_lab_sub = prop.loc[prop.eccentricity < thresh_ecc, 'label'].values.squeeze()\n",
    "spot_lab_sub.shape"
   ]
  },
  {
   "cell_type": "markdown",
   "metadata": {},
   "source": [
    "Project unfiltered spots onto image"
   ]
  },
  {
   "cell_type": "code",
   "execution_count": null,
   "metadata": {},
   "outputs": [],
   "source": [
    "mega_seg_clustrgb = np.zeros(hipr_seg_res_edge.shape + (4,))\n",
    "# scinames_toplot = ['Selenomonas', 'Lautropia']\n",
    "# clusters_toplot = [dict_sciname_bc[sc] for sc in scinames_toplot]\n",
    "for i, row in prop.iterrows():\n",
    "    l = row.label\n",
    "    # if l in spot_lab_sub:\n",
    "    b = row.bbox\n",
    "    b = eval(b) if isinstance(b, str) else b\n",
    "    rgb_sub = mega_seg_clustrgb[b[0] : b[2], b[1] : b[3]]\n",
    "    seg_sub = im_seg[b[0] : b[2], b[1] : b[3]] == l\n",
    "    # im_sub = im_norm[b[0]:b[2],b[1]:b[3]]\n",
    "    # color = np.array([0,0,1,0.5])\n",
    "    color = np.array((1, 0, 1, 1))\n",
    "    # rgb_noncell =  rgb_sub * np.dstack([~seg_sub]*3 + np.ones_like(seg_sub))\n",
    "    rgb_noncell = rgb_sub * np.dstack([~seg_sub] * 4)\n",
    "    # rgb_cell = (im_sub * seg_sub)[:,:,None] * color[None,:]\n",
    "    rgb_cell = seg_sub[:, :, None] * color[None, :]\n",
    "    mega_seg_clustrgb[b[0] : b[2], b[1] : b[3], :] = rgb_noncell + rgb_cell"
   ]
  },
  {
   "cell_type": "code",
   "execution_count": null,
   "metadata": {},
   "outputs": [],
   "source": [
    "fig, ax, cbar = ip.plot_image(\n",
    "    im_cell,\n",
    "    cmap=\"gray\",\n",
    "    im_inches=30,\n",
    "    clims=(0, 2000),\n",
    "    scalebar_resolution=res_mge_umpix,\n",
    ")\n",
    "# fig, ax, cbar = ip.plot_image(\n",
    "#     im_cell,\n",
    "#     cmap=\"gray\",\n",
    "#     im_inches=imin,\n",
    "#     clims=(0, 2000),\n",
    "#     scalebar_resolution=res_mge_umpix,\n",
    "# )\n",
    "ax.imshow(mega_seg_clustrgb)\n",
    "# ax.imshow(raw_mge_shift_spot_rgb)"
   ]
  },
  {
   "cell_type": "markdown",
   "metadata": {},
   "source": [
    "Project filtered spots onto image"
   ]
  },
  {
   "cell_type": "code",
   "execution_count": null,
   "metadata": {},
   "outputs": [],
   "source": [
    "mega_seg_clustrgb = np.zeros(hipr_seg_res_edge.shape + (4,))\n",
    "# scinames_toplot = ['Selenomonas', 'Lautropia']\n",
    "# clusters_toplot = [dict_sciname_bc[sc] for sc in scinames_toplot]\n",
    "for i, row in prop.iterrows():\n",
    "    l = row.label\n",
    "    if l in spot_lab_sub:\n",
    "        b = row.bbox\n",
    "        b = eval(b) if isinstance(b, str) else b\n",
    "        rgb_sub = mega_seg_clustrgb[b[0] : b[2], b[1] : b[3]]\n",
    "        seg_sub = im_seg[b[0] : b[2], b[1] : b[3]] == l\n",
    "        # im_sub = im_norm[b[0]:b[2],b[1]:b[3]]\n",
    "        # color = np.array([0,0,1,0.5])\n",
    "        color = np.array((1,0,1,1))\n",
    "        # rgb_noncell =  rgb_sub * np.dstack([~seg_sub]*3 + np.ones_like(seg_sub))\n",
    "        rgb_noncell = rgb_sub * np.dstack([~seg_sub] * 4)\n",
    "        # rgb_cell = (im_sub * seg_sub)[:,:,None] * color[None,:]\n",
    "        rgb_cell = seg_sub[:, :, None] * color[None, :]\n",
    "        mega_seg_clustrgb[b[0] : b[2], b[1] : b[3], :] = rgb_noncell + rgb_cell"
   ]
  },
  {
   "cell_type": "code",
   "execution_count": null,
   "metadata": {},
   "outputs": [],
   "source": [
    "fig, ax, cbar = ip.plot_image(\n",
    "    im_cell,\n",
    "    cmap=\"gray\",\n",
    "    im_inches=30,\n",
    "    clims=(0, 2000),\n",
    "    scalebar_resolution=res_mge_umpix,\n",
    ")\n",
    "# fig, ax, cbar = ip.plot_image(\n",
    "#     im_cell,\n",
    "#     cmap=\"gray\",\n",
    "#     im_inches=imin,\n",
    "#     clims=(0, 2000),\n",
    "#     scalebar_resolution=res_mge_umpix,\n",
    "# )\n",
    "ax.imshow(mega_seg_clustrgb)\n",
    "# ax.imshow(raw_mge_shift_spot_rgb)"
   ]
  },
  {
   "cell_type": "markdown",
   "metadata": {},
   "source": [
    "## Collect nearby pixels for each spot and inspect spectra"
   ]
  },
  {
   "cell_type": "code",
   "execution_count": null,
   "metadata": {},
   "outputs": [],
   "source": [
    "# shp = hipr_sum_res_edge.shape\n",
    "# pix_inds = [[i,j] for i in range(shp[0]) for j in range(shp[1])]\n",
    "# pix_inds[:10]"
   ]
  },
  {
   "cell_type": "code",
   "execution_count": null,
   "metadata": {},
   "outputs": [],
   "source": [
    "hipr_res_m = hipr_res[m_h]\n",
    "shp = hipr_res_m.shape\n",
    "shp_edge = [s + 2 * edge for s in shp[:2]] + [shp[2]]\n",
    "hipr_res_m_edge = np.zeros(shp_edge)\n",
    "hipr_res_m_edge[edge : edge + shp[0], edge : edge + shp[1], :] = hipr_res_m\n",
    "hipr_res_m_edge.shape"
   ]
  },
  {
   "cell_type": "code",
   "execution_count": null,
   "metadata": {},
   "outputs": [],
   "source": [
    "hipr_res_m_edge_gauss = np.dstack([\n",
    "    sf.ndi.gaussian_filter(hipr_res_m_edge[:,:,i], sigma=3) \n",
    "    for i in range(hipr_res_m_edge.shape[2])\n",
    "])\n"
   ]
  },
  {
   "cell_type": "code",
   "execution_count": null,
   "metadata": {},
   "outputs": [],
   "source": [
    "rng = 5\n",
    "\n",
    "specs_near_pix = []\n",
    "for s in spot_coords:\n",
    "    r, c = [int(s_) for s_ in s]\n",
    "    spec = hipr_res_m_edge_gauss[r - rng : r + rng, c - rng : c + rng, :]\n",
    "    spec = spec[np.ones((rng * 2, rng * 2), dtype=bool)]\n",
    "    specs_near_pix.append(spec)\n",
    "    \n"
   ]
  },
  {
   "cell_type": "code",
   "execution_count": null,
   "metadata": {},
   "outputs": [],
   "source": [
    "\n",
    "for spec_sub in specs_near_pix[:10]:\n",
    "    fig, ax = ip.general_plot(dims=spec_dims, col='w')\n",
    "    fsi.plot_cell_spectra(ax, spec_sub, {'lw':1,'alpha':0.1,'color':'r'})\n",
    "\n",
    "    ylim = ax.get_ylim()\n",
    "\n",
    "    xs = [3, 7, 10, 24, 27, 29, 31, 33, 43, 47]\n",
    "    for x in xs:\n",
    "        ax.plot([x,x], ylim, color=(0.5,0.5,0.5), lw=0.5)"
   ]
  },
  {
   "cell_type": "code",
   "execution_count": null,
   "metadata": {},
   "outputs": [],
   "source": [
    "sum_thresh = 18000\n",
    "\n",
    "specs_near_pix_sums = []\n",
    "for s in np.vstack(specs_near_pix):\n",
    "    specs_near_pix_sums.append(np.sum(s))\n",
    "\n",
    "specs_near_pix_sums = np.sort(specs_near_pix_sums)\n",
    "fig, ax = ip.general_plot()\n",
    "ax.scatter(np.arange(len(specs_near_pix_sums)), specs_near_pix_sums)\n",
    "xlims = ax.get_xlim()\n",
    "ax.plot(xlims, [sum_thresh]*2, 'k')"
   ]
  },
  {
   "cell_type": "code",
   "execution_count": null,
   "metadata": {},
   "outputs": [],
   "source": [
    "specs_near_pix_high = []\n",
    "for sp in specs_near_pix:\n",
    "    sp_ = []\n",
    "    for s in sp:\n",
    "        if np.sum(s) > sum_thresh:\n",
    "            sp_.append(s)\n",
    "    specs_near_pix_high.append(sp_)\n"
   ]
  },
  {
   "cell_type": "code",
   "execution_count": null,
   "metadata": {},
   "outputs": [],
   "source": [
    "for sp in specs_near_pix_high:\n",
    "    if sp:\n",
    "        fig, ax = ip.general_plot(dims=spec_dims, col='w')\n",
    "        fsi.plot_cell_spectra(ax, np.array(sp), {'lw':2,'alpha':0.1,'color':'r'})\n",
    "\n",
    "        ylim = ax.get_ylim()\n",
    "\n",
    "        xs = [3, 7, 10, 24, 27, 29, 31, 33, 43, 47]\n",
    "        for x in xs:\n",
    "            ax.plot([x,x], ylim, color=(0.5,0.5,0.5), lw=0.5)\n",
    "        plt.show()\n",
    "        plt.close()"
   ]
  },
  {
   "cell_type": "code",
   "execution_count": null,
   "metadata": {},
   "outputs": [],
   "source": [
    "specs_near_pix_high = []\n",
    "for sp in specs_near_pix:\n",
    "    sp_ = []\n",
    "    for s in sp:\n",
    "        if np.sum(s) > sum_thresh:\n",
    "            s_ = s\n",
    "        else:\n",
    "            s_ = []\n",
    "        sp_.append(s_)\n",
    "        \n",
    "    specs_near_pix_high.append(sp_)"
   ]
  },
  {
   "cell_type": "code",
   "execution_count": null,
   "metadata": {},
   "outputs": [],
   "source": [
    "for sc, sp in zip(spot_coords, spex_near_pix_high):\n",
    "    k = 0\n",
    "    for i in range(rng*2):\n",
    "        i_ = sc[0] - rng + i\n",
    "        for j in range(rng*2):\n",
    "            j_ = sc[1] - rng + j\n",
    "            if sp[k]:\n",
    "                \n",
    "            k += 1\n"
   ]
  },
  {
   "cell_type": "markdown",
   "metadata": {},
   "source": [
    "## For each spot, look at shape and spectrum of nearest cell\n"
   ]
  },
  {
   "cell_type": "code",
   "execution_count": null,
   "metadata": {},
   "outputs": [],
   "source": [
    "b"
   ]
  },
  {
   "cell_type": "code",
   "execution_count": null,
   "metadata": {},
   "outputs": [],
   "source": [
    "adj = 20\n",
    "clim = (50, 300)\n",
    "ymax = 1000\n",
    "\n",
    "for i, row in prop[bool_area * bool_incell].iterrows():\n",
    "    # Get bounding box\n",
    "    b = row.centroid\n",
    "    b = eval(b) if isinstance(b, str) else b\n",
    "    b = [int(b_) for b_ in b]\n",
    "    # extract image\n",
    "    raw_sub = raw_mge_shift_spot[b[0] - adj : b[0] + adj, b[1] - adj : b[1] + adj]\n",
    "    # plot image\n",
    "    ip.plot_image(raw_sub, cmap=\"inferno\", axes_off=False, clims=clim)\n",
    "    plt.show()\n",
    "    plt.close()\n",
    "    # plot nearest spectrum\n",
    "    spec = spec_nn[i]\n",
    "    fig, ax = ip.general_plot(dims=(10, 5), col=\"w\", ft=12)\n",
    "    ax.set_ylim(0, ymax)\n",
    "    ylim = ax.get_ylim()\n",
    "    xs = [3, 7, 10, 24, 27, 29, 31, 33, 43, 47]\n",
    "    for x in xs:\n",
    "        ax.plot([x, x], ylim, color=(0.5, 0.5, 0.5), lw=0.5)\n",
    "\n",
    "    fsi.plot_cell_spectra(ax, spec[None, :], {\"lw\": 1, \"alpha\": 1, \"color\": \"r\"})\n",
    "    plt.show()\n",
    "    plt.close()"
   ]
  },
  {
   "cell_type": "markdown",
   "metadata": {},
   "source": []
  },
  {
   "cell_type": "markdown",
   "metadata": {},
   "source": []
  },
  {
   "cell_type": "markdown",
   "metadata": {},
   "source": []
  },
  {
   "cell_type": "markdown",
   "metadata": {},
   "source": []
  },
  {
   "cell_type": "markdown",
   "metadata": {},
   "source": []
  },
  {
   "cell_type": "markdown",
   "metadata": {},
   "source": [
    "### Merge clusters"
   ]
  },
  {
   "cell_type": "code",
   "execution_count": null,
   "metadata": {},
   "outputs": [],
   "source": [
    "np.max(list(dict_lab_clust.values()))"
   ]
  },
  {
   "cell_type": "code",
   "execution_count": null,
   "metadata": {},
   "outputs": [],
   "source": [
    "dict_lab_clust_new = dict_lab_clust.copy()"
   ]
  },
  {
   "cell_type": "code",
   "execution_count": null,
   "metadata": {},
   "outputs": [],
   "source": [
    "clusters_tomerge = [[8,11,13,14,15], [2,0,9,3,1,6,12],[10,4,17], [7]]\n",
    "labels_cl_new = []\n",
    "for clusts in clusters_tomerge:\n",
    "    clnew = np.max(list(dict_lab_clust_new.values())) + 1\n",
    "    for cl in clusts:\n",
    "        for l in dict_clust_lab[cl]:\n",
    "            dict_lab_clust_new[l] = clnew\n"
   ]
  },
  {
   "cell_type": "code",
   "execution_count": null,
   "metadata": {},
   "outputs": [],
   "source": [
    "dict_cl_spec_new = defaultdict(list)\n",
    "for l, cl in dict_lab_clust_new.items():\n",
    "    spec = dict_lab_spec[l]\n",
    "    dict_cl_spec_new[cl].append(spec)"
   ]
  },
  {
   "cell_type": "markdown",
   "metadata": {},
   "source": [
    "Plot spectra"
   ]
  },
  {
   "cell_type": "code",
   "execution_count": null,
   "metadata": {},
   "outputs": [],
   "source": [
    "clusters_unq_new = list(dict_cl_spec_new.keys())"
   ]
  },
  {
   "cell_type": "code",
   "execution_count": null,
   "metadata": {},
   "outputs": [],
   "source": [
    "dict_bc_col_new = dict(zip(clusters_unq_new, col_list_re))"
   ]
  },
  {
   "cell_type": "code",
   "execution_count": null,
   "metadata": {},
   "outputs": [],
   "source": [
    "for cl in list(dict_cl_spec_new.keys()):\n",
    "    print('Cluster:',cl)\n",
    "    specs_arr = np.array(dict_cl_spec_new[cl])\n",
    "\n",
    "    fig, ax = ip.general_plot(dims=spec_dims, col='w')\n",
    "    fsi.plot_cell_spectra(ax, specs_arr, {'lw':1,'alpha':0.2,'color':dict_bc_col_new[cl]})\n",
    "\n",
    "    # ax.set_ylim(0,2000)\n",
    "    ylim = ax.get_ylim()\n",
    "\n",
    "    xs = [3, 7, 10, 24, 27, 29, 31, 33, 43, 47]\n",
    "    for x in xs:\n",
    "        ax.plot([x,x], ylim, color=(0.5,0.5,0.5), lw=0.5)\n",
    "\n",
    "    plt.show()\n",
    "    plt.close()"
   ]
  },
  {
   "cell_type": "markdown",
   "metadata": {},
   "source": [
    "### Redo spatial association"
   ]
  },
  {
   "cell_type": "markdown",
   "metadata": {},
   "source": [
    "Get measured associatoin"
   ]
  },
  {
   "cell_type": "code",
   "execution_count": null,
   "metadata": {},
   "outputs": [],
   "source": [
    "# Nearest neighor of all spots\n",
    "n_neighbors=1\n",
    "reseg_coords = [list(c) for c in hipr_prop_res.centroid.values]\n",
    "nbrs = NearestNeighbors(n_neighbors=n_neighbors).fit(reseg_coords)\n",
    "dists, inds = nbrs.kneighbors(spot_coords)\n",
    "# Get cluster id of neighbors, merge repeat clusters for a given spot\n",
    "labels = hipr_prop_res.label.values\n",
    "labels_nn = [labels[i] for i in inds]\n",
    "clusts_nn = [[dict_lab_clust[l] for l in ls] for ls in labels_nn]\n",
    "clusts_nn_unq = [np.unique(cl) for cl in clusts_nn]\n",
    "# Get counts for clusters \n",
    "clusts_nn_unq_flat = [cl for cln in clusts_nn_unq for cl in cln]\n",
    "cl_nn_unq, cl_nn_counts = np.unique(clusts_nn_unq_flat, return_counts=True)\n",
    "# Write to array\n",
    "dict_cl_nncounts = dict(zip(cl_nn_unq, cl_nn_counts))\n",
    "meas_counts_arr = np.zeros(len(clusters_unq))\n",
    "for i, cl in enumerate(clusters_unq):\n",
    "    try:\n",
    "        meas_counts_arr[i] = dict_cl_nncounts[cl]\n",
    "    except:\n",
    "        pass"
   ]
  },
  {
   "cell_type": "markdown",
   "metadata": {},
   "source": [
    "Simulate random spots and count nearest neighbor values"
   ]
  },
  {
   "cell_type": "code",
   "execution_count": null,
   "metadata": {},
   "outputs": [],
   "source": [
    "n = 1000\n",
    "\n",
    "cell_coords_tup = hipr_prop_res.loc[:, \"centroid\"].values\n",
    "cell_coords = np.array([list(c) for c in cell_coords_tup])\n",
    "# cell_coords = np.array([list(eval(c)) for c in cell_coords_tup])\n",
    "pix_coords = np.argwhere(mask_cell)\n",
    "\n",
    "dict_cl_dists_sim = defaultdict(list)\n",
    "sim_counts_arr = np.zeros((n, len(clusters_unq)))\n",
    "for i in tqdm(range(n)):\n",
    "    # Randomize spot locations\n",
    "    i_sim = np.random.randint(0, pix_coords.shape[0], size=len(spot_coords))\n",
    "    sim_spot_coords = pix_coords[i_sim]\n",
    "    # Get nearest neighbors for each spot\n",
    "    dists_sim, inds_sim = nbrs.kneighbors(sim_spot_coords)\n",
    "    # Get cluster id of neighbors, merge repeated clusters ids for a given spot\n",
    "    labels_nn_sim = [labels[i] for i in inds_sim]\n",
    "    clusts_nn_sim = [[dict_lab_clust[l] for l in ls] for ls in labels_nn_sim]\n",
    "    clusts_nn_unq_sim = [np.unique(cl) for cl in clusts_nn_sim]\n",
    "    # Get counts for clusters\n",
    "    clusts_nn_unq_flat_sim = [cl for cln in clusts_nn_unq_sim for cl in cln]\n",
    "    cl_nn_unq_sim, cl_nn_counts_sim = np.unique(clusts_nn_unq_flat_sim, return_counts=True)\n",
    "    # Add counts to array\n",
    "    dict_cl_nncounts_sim = dict(zip(cl_nn_unq_sim, cl_nn_counts_sim))\n",
    "    for j, cl in enumerate(clusters_unq):\n",
    "        try:\n",
    "            sim_counts_arr[i, j] = dict_cl_nncounts_sim[cl]\n",
    "        except:\n",
    "            pass    \n",
    "\n",
    "\n",
    "    "
   ]
  },
  {
   "cell_type": "markdown",
   "metadata": {},
   "source": [
    "Plot Z scores "
   ]
  },
  {
   "cell_type": "code",
   "execution_count": null,
   "metadata": {},
   "outputs": [],
   "source": [
    "mu = np.mean(sim_counts_arr, axis=0).squeeze()\n",
    "sig = np.std(sim_counts_arr, axis=0).squeeze()\n",
    "sim_z = (sim_counts_arr - mu) / sig\n",
    "meas_z = (meas_counts_arr - mu) / sig"
   ]
  },
  {
   "cell_type": "code",
   "execution_count": null,
   "metadata": {},
   "outputs": [],
   "source": [
    "# Plot z score number of spots associated with group\n",
    "dims=[5,2]\n",
    "# dims = [2.5, 1]\n",
    "xlab_rotation = 45\n",
    "pval_rotation = 60\n",
    "marker = \".\"\n",
    "marker_size = 10\n",
    "text_dist = 0.1\n",
    "ft = 12\n",
    "# ft = 7\n",
    "ylimadj = 0.1\n",
    "true_frac_llim = 0\n",
    "line_col = \"k\"\n",
    "box_line_col = (0.5, 0.5, 0.5)\n",
    "box_col = \"w\"\n",
    "yticklength = 2\n",
    "\n",
    "fig, ax = ip.general_plot(dims=dims, ft=ft, col=line_col)\n",
    "# Plot simulation\n",
    "boxplot = ax.boxplot(\n",
    "    sim_z,\n",
    "    patch_artist=True,\n",
    "    showfliers=False,\n",
    "    boxprops=dict(facecolor=box_col, color=box_line_col),\n",
    "    capprops=dict(color=box_line_col),\n",
    "    whiskerprops=dict(color=box_line_col),\n",
    "    medianprops=dict(color=box_line_col),\n",
    ")\n",
    "# for m in boxplot['medians']:\n",
    "#     m.set_color(line_col)\n",
    "# for b in boxplot['boxes']:\n",
    "#     b.set_edgecolor(line_col)\n",
    "#     b.set_facecolor(box_col)\n",
    "\n",
    "# Plot measured value\n",
    "ys = []\n",
    "xlab = []\n",
    "x = 1\n",
    "for i, cl in enumerate(clusters_unq):\n",
    "    # for i, bc_tax in zip(ind_order, barcodes_int_order):\n",
    "    # sci_name = dict_bc_sciname[bc_tax]\n",
    "    # sci_name = dict_bc_sciname[cl]\n",
    "    xlab.append(cl)\n",
    "    # try:\n",
    "    #     color = col_dict[sci_name]\n",
    "    # except:\n",
    "    #     continue\n",
    "    color = dict_bc_col[cl]\n",
    "    true_frac = meas_z[i]\n",
    "    # true_frac = true_count / n_cells\n",
    "    _ = ax.plot(x, true_frac, marker=marker, ms=marker_size, color=color)\n",
    "    # # Plot p value\n",
    "    # sim_vals_i = sim_counts_arr[:, i]\n",
    "    # # sim_vals = sim_arr[:,i,h] / n_cells\n",
    "    # sim_mean = np.mean(sim_vals)\n",
    "    # if true_frac > sim_mean:\n",
    "    #     # number of simulations with value greater than observed\n",
    "    #     r_ = sum(sim_vals_i > true_frac)\n",
    "    # else:\n",
    "    #     # number of simulations with value less than observed\n",
    "    #     r_ = sum(sim_vals_i < true_frac)\n",
    "    # # P value\n",
    "    # p_ = r_ / n\n",
    "    # # Get text location\n",
    "    # q1, q3 = np.quantile(sim_vals, [0.25, 0.75])\n",
    "    # q4 = q3 + 1.5 * (q3 - q1)\n",
    "    # # y_m = np.max(sim_vals)\n",
    "    # # y = y_m if y_m > true_frac else true_frac\n",
    "    # y = q4 if q4 > true_frac else true_frac\n",
    "    # y += text_dist\n",
    "    # ys.append(y)\n",
    "    # if true_frac < true_frac_llim:\n",
    "    #     t = ''\n",
    "    # elif (p_ > 0.05):\n",
    "    #     t = ''\n",
    "    # elif (p_ > 0.001) and (p_ <= 0.05):\n",
    "    #     t = str(\"p=\" + str(p_))\n",
    "    # else:\n",
    "    #     t = str(\"p<0.001\")\n",
    "    # _ = ax.text(x, y, t, fontsize=ft, ha='left',va='bottom', rotation=pval_rotation, rotation_mode='anchor',\n",
    "    #         color=line_col)\n",
    "    x += 1\n",
    "# ax.set_xticklabels([], rotation=xlab_rotation, ha='right', va='top', rotation_mode='anchor')\n",
    "ax.set_xticklabels(xlab, rotation=xlab_rotation, ha='right', va='top', rotation_mode='anchor')\n",
    "# ax.tick_params(axis='x',direction='out')\n",
    "# ax.set_xticks([])\n",
    "# ax.tick_params(axis=\"y\", length=yticklength)\n",
    "# ax.set_yticks(ticks=[-10,0,10,20], labels=[])\n",
    "ax.spines[\"top\"].set_color(\"none\")\n",
    "ax.spines[\"bottom\"].set_color(\"none\")\n",
    "ax.spines[\"right\"].set_color(\"none\")\n",
    "\n",
    "# ylims = ax.get_ylim()\n",
    "# ax.set_ylim(ylims[0], np.max(ys) + ylimadj)\n",
    "\n",
    "# mge_assoc_dir = output_dir + \"/mge_association\"\n",
    "# if not os.path.exists(mge_assoc_dir):\n",
    "#     os.makedirs(mge_assoc_dir)\n",
    "#     print(\"Made dir:\", mge_assoc_dir)\n",
    "# out_bn = mge_assoc_dir + '/' + bn.format(m_h) + '_seg_nn_zscore_association_0_5um'\n",
    "# ip.save_png_pdf(out_bn)"
   ]
  },
  {
   "cell_type": "code",
   "execution_count": null,
   "metadata": {},
   "outputs": [],
   "source": [
    "clusters_toplot = [4,10,11,13,14,15]"
   ]
  },
  {
   "cell_type": "markdown",
   "metadata": {},
   "source": [
    "Plot spot fraction "
   ]
  },
  {
   "cell_type": "code",
   "execution_count": null,
   "metadata": {},
   "outputs": [],
   "source": [
    "meas_spotfrac_arr = meas_counts_arr / len(spot_coords)\n",
    "\n",
    "ft=12\n",
    "# ft=6\n",
    "line_col = 'k'\n",
    "width=0.4\n",
    "dims=[5,2]\n",
    "# dims=[2.5,0.6]\n",
    "yticklength=2\n",
    "\n",
    "sci_name_order = clusters_unq\n",
    "# sci_name_order = [dict_bc_sciname[bc] for bc in barcodes_int_order]\n",
    "color_order = [dict_bc_col[sc] for sc in sci_name_order]\n",
    "\n",
    "fig, ax = ip.general_plot(dims=dims, ft=ft, col=line_col)\n",
    "ax.bar(\n",
    "        np.arange(meas_spotfrac_arr.shape[0]),\n",
    "        meas_spotfrac_arr,\n",
    "        width=width,\n",
    "        color=color_order,\n",
    "        edgecolor=line_col\n",
    "        )\n",
    "\n",
    "ax.spines['top'].set_color('none')\n",
    "ax.spines['right'].set_color('none')\n",
    "ax.set_xticks([])\n",
    "# ax.set_yticks(ticks=[0,0.2,0.4], labels=[])\n",
    "ax.tick_params(axis='y', length=yticklength)\n",
    "\n",
    "# mge_assoc_dir = output_dir + '/mge_association'\n",
    "# if not os.path.exists(mge_assoc_dir): \n",
    "#     os.makedirs(mge_assoc_dir)\n",
    "#     print('Made dir:',mge_assoc_dir)\n",
    "# out_bn = mge_assoc_dir + '/' + bn.format(m_h) + '_bar_seg_nn_frac_spot_association_0_5um'\n",
    "# ip.save_png_pdf(out_bn)"
   ]
  },
  {
   "cell_type": "markdown",
   "metadata": {},
   "source": [
    "Plot fraction cluster assoc with spot"
   ]
  },
  {
   "cell_type": "code",
   "execution_count": null,
   "metadata": {},
   "outputs": [],
   "source": [
    "# Get cluster counts without repeateing the same label\n",
    "labels_nn_flat = [l for ls in labels_nn for l in ls]\n",
    "labels_nn_unq = np.unique(labels_nn_flat)\n",
    "clusts_labels_nn_unq = [dict_lab_clust[l] for l in labels_nn_unq]\n",
    "cl_nn_unq2, cl_nn_counts2 = np.unique(clusts_labels_nn_unq, return_counts=True)\n",
    "dict_cl_nncounts2 = dict(zip(cl_nn_unq2, cl_nn_counts2))\n",
    "meas_counts_arr2 = np.zeros(len(clusters_unq))\n",
    "for i, cl in enumerate(clusters_unq):\n",
    "    try:\n",
    "        meas_counts_arr2[i] = dict_cl_nncounts2[cl]\n",
    "    except:\n",
    "        pass\n",
    "print(meas_counts_arr2)"
   ]
  },
  {
   "cell_type": "code",
   "execution_count": null,
   "metadata": {},
   "outputs": [],
   "source": [
    "# Get counts for each cluster\n",
    "cl_all, cl_counts = np.unique(list(dict_lab_clust.values()), return_counts=True)\n",
    "dict_cl_counts_all = dict(zip(cl_all, cl_counts))\n",
    "all_counts_arr = np.zeros(len(clusters_unq))\n",
    "for i, cl in enumerate(clusters_unq):\n",
    "    try:\n",
    "        all_counts_arr[i] = dict_cl_counts_all[cl]\n",
    "    except:\n",
    "        pass\n",
    "print(all_counts_arr)"
   ]
  },
  {
   "cell_type": "code",
   "execution_count": null,
   "metadata": {},
   "outputs": [],
   "source": [
    "# Frac taxon assoc with spot\n",
    "cl_fracnearspots = meas_counts_arr2 / all_counts_arr\n",
    "\n",
    "dims=[5,2]\n",
    "# dims=[2.5,0.6]\n",
    "yticklength=2\n",
    "ft=12\n",
    "# ft=6\n",
    "line_col = 'k'\n",
    "width=0.4\n",
    "\n",
    "\n",
    "fig, ax = ip.general_plot(dims=dims, ft=ft, col=line_col)\n",
    "ax.bar(\n",
    "        np.arange(cl_fracnearspots.shape[0]),\n",
    "        cl_fracnearspots,\n",
    "        width=width,\n",
    "        color=color_order,\n",
    "        edgecolor=line_col\n",
    "        )\n",
    "ax.set_xticks([])\n",
    "# ax.set_yticks(ticks=[0,0.3,0.6], labels=[])\n",
    "ax.spines['top'].set_color('none')\n",
    "ax.spines['right'].set_color('none')\n",
    "ax.tick_params(axis='y', length=yticklength)\n",
    "\n",
    "# mge_assoc_dir = output_dir + '/mge_association'\n",
    "# if not os.path.exists(mge_assoc_dir): \n",
    "#     os.makedirs(mge_assoc_dir)\n",
    "#     print('Made dir:',mge_assoc_dir)\n",
    "# out_bn = mge_assoc_dir + '/' + bn.format(m_h) + '_bar_seg_nn_frac_cell_association_0_5um'\n",
    "# ip.save_png_pdf(out_bn)"
   ]
  },
  {
   "cell_type": "markdown",
   "metadata": {},
   "source": [
    "Plot spectra"
   ]
  },
  {
   "cell_type": "code",
   "execution_count": null,
   "metadata": {},
   "outputs": [],
   "source": [
    "for cl in clusters_toplot:\n",
    "    print('Cluster:',cl)\n",
    "    specs_arr = np.array(dict_cl_spec[cl])\n",
    "\n",
    "    fig, ax = ip.general_plot(dims=spec_dims, col='w')\n",
    "    fsi.plot_cell_spectra(ax, specs_arr, {'lw':1,'alpha':0.2,'color':dict_bc_col[cl]})\n",
    "\n",
    "    # ax.set_ylim(0,2000)\n",
    "    ylim = ax.get_ylim()\n",
    "\n",
    "    xs = [3, 7, 10, 24, 27, 29, 31, 33, 43, 47]\n",
    "    for x in xs:\n",
    "        ax.plot([x,x], ylim, color=(0.5,0.5,0.5), lw=0.5)\n",
    "\n",
    "    plt.show()\n",
    "    plt.close()"
   ]
  },
  {
   "cell_type": "markdown",
   "metadata": {},
   "source": [
    "Plot clusters on overlay"
   ]
  },
  {
   "cell_type": "markdown",
   "metadata": {},
   "source": [
    "Plot assoc clusters on overlay"
   ]
  },
  {
   "cell_type": "markdown",
   "metadata": {},
   "source": []
  }
 ],
 "metadata": {
  "kernelspec": {
   "display_name": "Python 3 (ipykernel)",
   "language": "python",
   "name": "python3"
  }
 },
 "nbformat": 4,
 "nbformat_minor": 2
}

{
 "cells": [
  {
   "cell_type": "markdown",
   "metadata": {},
   "source": [
    "# Pick spectra that are distant from each other"
   ]
  },
  {
   "cell_type": "markdown",
   "metadata": {},
   "source": [
    "## Build a toy version\n",
    "Choose k from N such that smallest distance between each k_i and all k_j not equals i is maximized\n",
    "\n",
    "Generate random distances between each N"
   ]
  },
  {
   "cell_type": "code",
   "execution_count": 1,
   "metadata": {},
   "outputs": [],
   "source": [
    "import numpy as np\n",
    "N=100\n",
    "k=10\n",
    "a = np.random.random((N,N))\n"
   ]
  },
  {
   "cell_type": "markdown",
   "metadata": {},
   "source": [
    "Make edge distances the same in both directions"
   ]
  },
  {
   "cell_type": "code",
   "execution_count": 2,
   "metadata": {},
   "outputs": [],
   "source": [
    "for i in range(N):\n",
    "    for j in range(N):\n",
    "        if i >= j:\n",
    "            a[i,j] = 0\n"
   ]
  },
  {
   "cell_type": "markdown",
   "metadata": {},
   "source": [
    "Initialize the set k"
   ]
  },
  {
   "cell_type": "code",
   "execution_count": 3,
   "metadata": {},
   "outputs": [
    {
     "data": {
      "text/plain": [
       "[7, 17, 79, 51, 77, 39, 85, 16, 37, 18]"
      ]
     },
     "execution_count": 3,
     "metadata": {},
     "output_type": "execute_result"
    }
   ],
   "source": [
    "bcs = []\n",
    "unselected = np.arange(N).astype(int).tolist()\n",
    "for i in range(k):\n",
    "    bc = np.random.choice(unselected, 1)[0]\n",
    "    bcs.append(bc)\n",
    "    unselected.remove(bc)\n",
    "bcs"
   ]
  },
  {
   "cell_type": "markdown",
   "metadata": {},
   "source": [
    "Create a dictionary for accessing distances"
   ]
  },
  {
   "cell_type": "code",
   "execution_count": 4,
   "metadata": {},
   "outputs": [],
   "source": [
    "dict_ij_dist = {}\n",
    "for i in range(N):\n",
    "    for j in range(N):\n",
    "        if i < j:\n",
    "            key = str(i) + '_' + str(j)\n",
    "            dict_ij_dist[key] = a[i,j]\n"
   ]
  },
  {
   "cell_type": "markdown",
   "metadata": {},
   "source": [
    "Create a dictionary indicating the minimum distance for each k_i"
   ]
  },
  {
   "cell_type": "code",
   "execution_count": 5,
   "metadata": {},
   "outputs": [
    {
     "data": {
      "text/plain": [
       "{7: 0.27563172676936576,\n",
       " 17: 0.03777431392118025,\n",
       " 79: 0.016206852197193977,\n",
       " 51: 0.02550192479235336,\n",
       " 77: 0.07994805785595227,\n",
       " 39: 0.14207225411874436,\n",
       " 85: 0.19793469909148032,\n",
       " 16: 0.016206852197193977,\n",
       " 37: 0.22339016327648864,\n",
       " 18: 0.02550192479235336}"
      ]
     },
     "execution_count": 5,
     "metadata": {},
     "output_type": "execute_result"
    }
   ],
   "source": [
    "dict_k_mindist = {}\n",
    "for i in bcs:\n",
    "    dists = []\n",
    "    for j in bcs:\n",
    "        if i != j:\n",
    "            if i < j:\n",
    "                key = str(i) + '_' + str(j)\n",
    "            else:\n",
    "                key = str(j) + '_' + str(i)\n",
    "            dists.append(dict_ij_dist[key])\n",
    "    dict_k_mindist[i] = min(dists)\n",
    "dict_k_mindist"
   ]
  },
  {
   "cell_type": "markdown",
   "metadata": {},
   "source": [
    "Iterate replacing the k_i that has the smallest distance with a random selection from the remaining N if the random selection has a larger min distance with the rest of k_j not equals i."
   ]
  },
  {
   "cell_type": "code",
   "execution_count": 6,
   "metadata": {},
   "outputs": [
    {
     "data": {
      "text/plain": [
       "{93: 0.44409460037950554,\n",
       " 12: 0.4350093781226314,\n",
       " 80: 0.42833638489564396,\n",
       " 42: 0.44409460037950554,\n",
       " 37: 0.4276818156859402,\n",
       " 57: 0.42833638489564396,\n",
       " 36: 0.4276818156859402,\n",
       " 73: 0.4239154064130386,\n",
       " 0: 0.5053209192672953,\n",
       " 10: 0.4045999781429951}"
      ]
     },
     "execution_count": 6,
     "metadata": {},
     "output_type": "execute_result"
    }
   ],
   "source": [
    "\n",
    "iterations = 100000\n",
    "for i in range(iterations):\n",
    "\n",
    "    # Extrac the k_i with smallest distance\n",
    "    k_ind = np.where(min(dict_k_mindist.values()))[0][0]\n",
    "    ks = list(dict_k_mindist.keys())\n",
    "    old = ks[k_ind]\n",
    "    dist_min_old = dict_k_mindist[old]\n",
    "    del dict_k_mindist[old]\n",
    "\n",
    "    # Pick a random new choice and calculate the min distance to the remaining k\n",
    "    new = np.random.choice(unselected, 1)[0]\n",
    "    dists = []\n",
    "    for j in ks:\n",
    "        if new < j:\n",
    "            ij_key = str(new) + '_' + str(j)\n",
    "        else:\n",
    "            ij_key = str(j) + '_' + str(new)\n",
    "        dists.append(dict_ij_dist[ij_key])\n",
    "    dist_min_new = min(dists)\n",
    "\n",
    "    # Replace the old k_i if the new one has a larger min distance\n",
    "    if dist_min_new > dist_min_old:\n",
    "        dict_k_mindist[new] = dist_min_new\n",
    "        unselected.remove(new)\n",
    "        unselected.append(old)\n",
    "    else:\n",
    "        dict_k_mindist[old] = dist_min_old\n",
    "\n",
    "dict_k_mindist\n",
    "    "
   ]
  },
  {
   "cell_type": "markdown",
   "metadata": {},
   "source": [
    "## Apply to 5bit reference barcodes"
   ]
  },
  {
   "cell_type": "markdown",
   "metadata": {},
   "source": [
    "Get all 5 bit barcodes as base 10"
   ]
  },
  {
   "cell_type": "code",
   "execution_count": 7,
   "metadata": {},
   "outputs": [
    {
     "data": {
      "text/plain": [
       "30"
      ]
     },
     "execution_count": 7,
     "metadata": {},
     "output_type": "execute_result"
    }
   ],
   "source": [
    "b = [0,1]\n",
    "barcodes_str = []\n",
    "for i in b:\n",
    "    bc0 = str(i)\n",
    "    for j in b:\n",
    "        bc1 = bc0 + str(j)\n",
    "        for k in b:\n",
    "            bc2 = bc1 + str(k)\n",
    "            for l in b:\n",
    "                bc3 = bc2 + str(l)\n",
    "                for m in b:\n",
    "                    bc4 = bc3 + str(m)\n",
    "                    barcodes_str.append(bc4)\n",
    "\n",
    "barcodes_str = barcodes_str[1:-1]\n",
    "len(barcodes_str)\n",
    "               "
   ]
  },
  {
   "cell_type": "markdown",
   "metadata": {},
   "source": [
    "Load average reference spectra"
   ]
  },
  {
   "cell_type": "code",
   "execution_count": 9,
   "metadata": {},
   "outputs": [],
   "source": [
    "import pandas as pd\n",
    "\n",
    "ref_dir = '/workdir/bmg224/manuscripts/mgefish/data/unused/fig_5/HiPRFISH_reference_spectra'\n",
    "# ref_dir = '/fs/cbsuvlaminck2/workdir/bmg224/manuscripts/mgefish/data/unused/fig_5/HiPRFISH_reference_spectra'\n",
    "fmt = '08_18_2018_enc_{}_avgint.csv'\n",
    "\n",
    "barcodes_10bit = [bc[0] + '0' + bc[1] + '0000' + bc[2:] for bc in barcodes_str]\n",
    "# barcodes_10bit = [bc[0] + '0' + bc[1:4] + '00' + bc[4:] for bc in barcodes_str]\n",
    "barcodes_b10 = [int(str(bc),2) for bc in barcodes_10bit]\n",
    "ref_chan_start = 32\n",
    "chan_start = 0\n",
    "chan_end = 57\n",
    "\n",
    "st = ref_chan_start + chan_start\n",
    "en = ref_chan_start + chan_end\n",
    "ref_avgint_cols = [i for i in range(st,en)]\n",
    "\n",
    "ref_spec = []\n",
    "for bc in barcodes_b10:\n",
    "    fn = ref_dir + '/'+ fmt.format(bc)\n",
    "    ref = pd.read_csv(fn, header=None)\n",
    "    ref = ref[ref_avgint_cols].values\n",
    "    ref_spec.append(ref)"
   ]
  },
  {
   "cell_type": "markdown",
   "metadata": {},
   "source": [
    "Normlize reference spectra"
   ]
  },
  {
   "cell_type": "code",
   "execution_count": 10,
   "metadata": {},
   "outputs": [],
   "source": [
    "ref_norm = [r / np.max(r, axis=1)[:,None] for r in ref_spec]\n",
    "weights_max_norm = [np.mean(r, axis=0) for r in ref_norm]\n",
    "\n",
    "ref_sum_norm = []\n",
    "for r in ref_spec:\n",
    "    r_ = r - np.min(r, axis=1)[:,None]\n",
    "    ref_sum_norm.append(r_ / np.sum(r_, axis=1)[:,None])\n",
    "weights_sum_norm = [np.mean(r, axis=0) for r in ref_sum_norm]"
   ]
  },
  {
   "cell_type": "markdown",
   "metadata": {},
   "source": [
    "Measure distance between each spectrum and the others"
   ]
  },
  {
   "cell_type": "code",
   "execution_count": 11,
   "metadata": {},
   "outputs": [],
   "source": [
    "import sys\n",
    "\n",
    "sys.path.append('/workdir/bmg224/manuscripts/mgefish/code/functions')\n",
    "# sys.path.append('/fs/cbsuvlaminck2/workdir/bmg224/manuscripts/mgefish/code/functions')\n",
    "\n",
    "import fn_hiprfish_classifier as fhc"
   ]
  },
  {
   "cell_type": "code",
   "execution_count": 12,
   "metadata": {},
   "outputs": [],
   "source": [
    "N = len(barcodes_str)\n",
    "\n",
    "d_mat = np.zeros((N,N))\n",
    "\n",
    "for i in range(N):\n",
    "    for j in range(N):\n",
    "        if i < j:\n",
    "            spec_i = weights_sum_norm[i]\n",
    "            spec_j = weights_sum_norm[j]\n",
    "            d_mat[i,j] = fhc.euclid_dist_cumul_spec(spec_i, spec_j)"
   ]
  },
  {
   "cell_type": "markdown",
   "metadata": {},
   "source": [
    "Initialize the set k"
   ]
  },
  {
   "cell_type": "code",
   "execution_count": 13,
   "metadata": {},
   "outputs": [
    {
     "data": {
      "text/plain": [
       "[24, 4, 25, 10, 26, 22, 1, 12, 7, 23, 19, 17, 6, 27, 20, 14, 11, 0]"
      ]
     },
     "execution_count": 13,
     "metadata": {},
     "output_type": "execute_result"
    }
   ],
   "source": [
    "k = 18\n",
    "\n",
    "bcs = []\n",
    "unselected = np.arange(N).astype(int).tolist()\n",
    "for i in range(k):\n",
    "    bc = np.random.choice(unselected, 1)[0]\n",
    "    bcs.append(bc)\n",
    "    unselected.remove(bc)\n",
    "bcs"
   ]
  },
  {
   "cell_type": "markdown",
   "metadata": {},
   "source": [
    "Dictionary for accessing distances "
   ]
  },
  {
   "cell_type": "code",
   "execution_count": 14,
   "metadata": {},
   "outputs": [],
   "source": [
    "dict_ij_dist = {}\n",
    "for i in range(N):\n",
    "    for j in range(N):\n",
    "        if i < j:\n",
    "            key = str(i) + '_' + str(j)\n",
    "            dict_ij_dist[key] = d_mat[i,j]\n"
   ]
  },
  {
   "cell_type": "markdown",
   "metadata": {},
   "source": [
    "Create a dictionary indicating the minimum distance for each k_i"
   ]
  },
  {
   "cell_type": "code",
   "execution_count": 15,
   "metadata": {},
   "outputs": [
    {
     "data": {
      "text/plain": [
       "{24: 0.033358094212736916,\n",
       " 4: 0.07363803199697996,\n",
       " 25: 0.05239145535013524,\n",
       " 10: 0.048735282367109084,\n",
       " 26: 0.033358094212736916,\n",
       " 22: 0.048010770017949365,\n",
       " 1: 0.15145304759232064,\n",
       " 12: 0.04922365746923452,\n",
       " 7: 0.0587673935241547,\n",
       " 23: 0.0587673935241547,\n",
       " 19: 0.03967801788539267,\n",
       " 17: 0.05239145535013524,\n",
       " 6: 0.051305341238037296,\n",
       " 27: 0.03967801788539267,\n",
       " 20: 0.04922365746923452,\n",
       " 14: 0.048010770017949365,\n",
       " 11: 0.06185482301418578,\n",
       " 0: 0.0999770954164275}"
      ]
     },
     "execution_count": 15,
     "metadata": {},
     "output_type": "execute_result"
    }
   ],
   "source": [
    "dict_k_mindist = {}\n",
    "for i in bcs:\n",
    "    dists = []\n",
    "    for j in bcs:\n",
    "        if i != j:\n",
    "            if i < j:\n",
    "                key = str(i) + '_' + str(j)\n",
    "            else:\n",
    "                key = str(j) + '_' + str(i)\n",
    "            dists.append(dict_ij_dist[key])\n",
    "    dict_k_mindist[i] = min(dists)\n",
    "dict_k_mindist"
   ]
  },
  {
   "cell_type": "markdown",
   "metadata": {},
   "source": [
    "Iterate replacing the k_i that has the smallest distance with a random selection from the remaining N if the random selection has a larger min distance with the rest of k_j not equals i."
   ]
  },
  {
   "cell_type": "code",
   "execution_count": 16,
   "metadata": {},
   "outputs": [
    {
     "data": {
      "text/plain": [
       "{15: 0.08614700822659786,\n",
       " 7: 0.0587673935241547,\n",
       " 2: 0.06136678707968726,\n",
       " 12: 0.06280207169314704,\n",
       " 6: 0.05792117465467174,\n",
       " 5: 0.10247364058479382,\n",
       " 11: 0.06185482301418578,\n",
       " 0: 0.0999770954164275,\n",
       " 16: 0.07651238500142046,\n",
       " 4: 0.07363803199697996,\n",
       " 10: 0.06121943508678922,\n",
       " 17: 0.08614700822659786,\n",
       " 9: 0.0696917026910806,\n",
       " 24: 0.06121943508678922,\n",
       " 1: 0.15145304759232064,\n",
       " 3: 0.14240456140029378,\n",
       " 19: 0.06848742322365299,\n",
       " 23: 0.0587673935241547}"
      ]
     },
     "execution_count": 16,
     "metadata": {},
     "output_type": "execute_result"
    }
   ],
   "source": [
    "\n",
    "iterations = 1000000\n",
    "for i in range(iterations):\n",
    "\n",
    "    # Extrac the k_i with smallest distance\n",
    "    k_ind = np.where(min(dict_k_mindist.values()))[0][0]\n",
    "    ks = list(dict_k_mindist.keys())\n",
    "    old = ks[k_ind]\n",
    "    dist_min_old = dict_k_mindist[old]\n",
    "    del dict_k_mindist[old]\n",
    "\n",
    "    # Pick a random new choice and calculate the min distance to the remaining k\n",
    "    new = np.random.choice(unselected, 1)[0]\n",
    "    dists = []\n",
    "    for j in ks:\n",
    "        if new < j:\n",
    "            ij_key = str(new) + '_' + str(j)\n",
    "        else:\n",
    "            ij_key = str(j) + '_' + str(new)\n",
    "        dists.append(dict_ij_dist[ij_key])\n",
    "    dist_min_new = min(dists)\n",
    "\n",
    "    # Replace the old k_i if the new one has a larger min distance\n",
    "    if dist_min_new > dist_min_old:\n",
    "        dict_k_mindist[new] = dist_min_new\n",
    "        unselected.remove(new)\n",
    "        unselected.append(old)\n",
    "    else:\n",
    "        dict_k_mindist[old] = dist_min_old\n",
    "\n",
    "dict_k_mindist\n",
    "    "
   ]
  },
  {
   "cell_type": "markdown",
   "metadata": {},
   "source": [
    "Convert index back to barcodes"
   ]
  },
  {
   "cell_type": "code",
   "execution_count": 17,
   "metadata": {},
   "outputs": [
    {
     "data": {
      "text/plain": [
       "['10000',\n",
       " '01000',\n",
       " '00011',\n",
       " '01101',\n",
       " '00111',\n",
       " '00110',\n",
       " '01100',\n",
       " '00001',\n",
       " '10001',\n",
       " '00101',\n",
       " '01011',\n",
       " '10010',\n",
       " '01010',\n",
       " '11001',\n",
       " '00010',\n",
       " '00100',\n",
       " '10100',\n",
       " '11000']"
      ]
     },
     "execution_count": 17,
     "metadata": {},
     "output_type": "execute_result"
    }
   ],
   "source": [
    "index_select = list(dict_k_mindist.keys())\n",
    "\n",
    "barcodes_select = []\n",
    "for ind in index_select:\n",
    "    barcodes_select.append(barcodes_str[ind])\n",
    "\n",
    "barcodes_select"
   ]
  },
  {
   "cell_type": "code",
   "execution_count": 18,
   "metadata": {},
   "outputs": [
    {
     "name": "stdout",
     "output_type": "stream",
     "text": [
      "['00001', '00010', '00011', '00100', '00101', '00110', '00111', '01000', '01010', '01011', '01100', '01101', '10000', '10001', '10010', '10100', '11000', '11001']\n"
     ]
    }
   ],
   "source": [
    "bc_select_sort = sorted(barcodes_select)\n",
    "\n",
    "ind_select_sort = [x for _, x in sorted(zip(barcodes_select, index_select))]\n",
    "\n",
    "print(bc_select_sort)"
   ]
  },
  {
   "cell_type": "markdown",
   "metadata": {},
   "source": [
    "Plot spectra"
   ]
  },
  {
   "cell_type": "code",
   "execution_count": 19,
   "metadata": {},
   "outputs": [
    {
     "data": {
      "image/png": "[encoded data removed]",
      "text/plain": [
       "<Figure size 720x360 with 1 Axes>"
      ]
     },
     "metadata": {
      "needs_background": "light"
     },
     "output_type": "display_data"
    },
    {
     "data": {
      "image/png": "[encoded data removed]",
      "text/plain": [
       "<Figure size 720x360 with 1 Axes>"
      ]
     },
     "metadata": {
      "needs_background": "light"
     },
     "output_type": "display_data"
    },
    {
     "data": {
      "image/png": "[encoded data removed]",
      "text/plain": [
       "<Figure size 720x360 with 1 Axes>"
      ]
     },
     "metadata": {
      "needs_background": "light"
     },
     "output_type": "display_data"
    },
    {
     "data": {
      "image/png": "[encoded data removed]",
      "text/plain": [
       "<Figure size 720x360 with 1 Axes>"
      ]
     },
     "metadata": {
      "needs_background": "light"
     },
     "output_type": "display_data"
    },
    {
     "data": {
      "image/png": "[encoded data removed]",
      "text/plain": [
       "<Figure size 720x360 with 1 Axes>"
      ]
     },
     "metadata": {
      "needs_background": "light"
     },
     "output_type": "display_data"
    },
    {
     "data": {
      "image/png": "[encoded data removed]",
      "text/plain": [
       "<Figure size 720x360 with 1 Axes>"
      ]
     },
     "metadata": {
      "needs_background": "light"
     },
     "output_type": "display_data"
    },
    {
     "data": {
      "image/png": "[encoded data removed]",
      "text/plain": [
       "<Figure size 720x360 with 1 Axes>"
      ]
     },
     "metadata": {
      "needs_background": "light"
     },
     "output_type": "display_data"
    },
    {
     "data": {
      "image/png": "[encoded data removed]",
      "text/plain": [
       "<Figure size 720x360 with 1 Axes>"
      ]
     },
     "metadata": {
      "needs_background": "light"
     },
     "output_type": "display_data"
    },
    {
     "data": {
      "image/png": "[encoded data removed]",
      "text/plain": [
       "<Figure size 720x360 with 1 Axes>"
      ]
     },
     "metadata": {
      "needs_background": "light"
     },
     "output_type": "display_data"
    },
    {
     "data": {
      "image/png": "[encoded data removed]",
      "text/plain": [
       "<Figure size 720x360 with 1 Axes>"
      ]
     },
     "metadata": {
      "needs_background": "light"
     },
     "output_type": "display_data"
    },
    {
     "data": {
      "image/png": "[encoded data removed]",
      "text/plain": [
       "<Figure size 720x360 with 1 Axes>"
      ]
     },
     "metadata": {
      "needs_background": "light"
     },
     "output_type": "display_data"
    },
    {
     "data": {
      "image/png": "[encoded data removed]",
      "text/plain": [
       "<Figure size 720x360 with 1 Axes>"
      ]
     },
     "metadata": {
      "needs_background": "light"
     },
     "output_type": "display_data"
    },
    {
     "data": {
      "image/png": "[encoded data removed]",
      "text/plain": [
       "<Figure size 720x360 with 1 Axes>"
      ]
     },
     "metadata": {
      "needs_background": "light"
     },
     "output_type": "display_data"
    },
    {
     "data": {
      "image/png": "[encoded data removed]",
      "text/plain": [
       "<Figure size 720x360 with 1 Axes>"
      ]
     },
     "metadata": {
      "needs_background": "light"
     },
     "output_type": "display_data"
    },
    {
     "data": {
      "image/png": "[encoded data removed]",
      "text/plain": [
       "<Figure size 720x360 with 1 Axes>"
      ]
     },
     "metadata": {
      "needs_background": "light"
     },
     "output_type": "display_data"
    },
    {
     "data": {
      "image/png": "[encoded data removed]",
      "text/plain": [
       "<Figure size 720x360 with 1 Axes>"
      ]
     },
     "metadata": {
      "needs_background": "light"
     },
     "output_type": "display_data"
    },
    {
     "data": {
      "image/png": "[encoded data removed]",
      "text/plain": [
       "<Figure size 720x360 with 1 Axes>"
      ]
     },
     "metadata": {
      "needs_background": "light"
     },
     "output_type": "display_data"
    },
    {
     "data": {
      "image/png": "[encoded data removed]",
      "text/plain": [
       "<Figure size 720x360 with 1 Axes>"
      ]
     },
     "metadata": {
      "needs_background": "light"
     },
     "output_type": "display_data"
    }
   ],
   "source": [
    "import fn_spectral_images as fsi\n",
    "import image_plots as ip\n",
    "\n",
    "for ind, bc in zip(ind_select_sort, bc_select_sort):\n",
    "    spec = weights_sum_norm[ind]\n",
    "    fig, ax = ip.general_plot(dims=(10,5))\n",
    "    fsi.plot_cell_spectra(ax, spec[None,:], {'lw':1,'alpha':1,'color':'r'})\n",
    "    ax.set_title(bc)"
   ]
  },
  {
   "cell_type": "markdown",
   "metadata": {},
   "source": [
    "## Design Welch barcode scheme for 5bit"
   ]
  },
  {
   "cell_type": "markdown",
   "metadata": {},
   "source": [
    "Switch directories"
   ]
  },
  {
   "cell_type": "code",
   "execution_count": 20,
   "metadata": {},
   "outputs": [
    {
     "data": {
      "text/plain": [
       "'/local/workdir/bmg224/harvard_dental/pick_distant_barcodes'"
      ]
     },
     "execution_count": 20,
     "metadata": {},
     "output_type": "execute_result"
    }
   ],
   "source": [
    "import os\n",
    "\n",
    "# Absolute path\n",
    "project_workdir = '/workdir/bmg224/harvard_dental/pick_distant_barcodes'\n",
    "\n",
    "os.chdir(project_workdir)\n",
    "os.getcwd()  # Make sure you're in the right directory"
   ]
  },
  {
   "cell_type": "markdown",
   "metadata": {},
   "source": [
    "Load welch probes"
   ]
  },
  {
   "cell_type": "code",
   "execution_count": 21,
   "metadata": {},
   "outputs": [
    {
     "data": {
      "text/html": [
       "<div>\n",
       "<style scoped>\n",
       "    .dataframe tbody tr th:only-of-type {\n",
       "        vertical-align: middle;\n",
       "    }\n",
       "\n",
       "    .dataframe tbody tr th {\n",
       "        vertical-align: top;\n",
       "    }\n",
       "\n",
       "    .dataframe thead th {\n",
       "        text-align: right;\n",
       "    }\n",
       "</style>\n",
       "<table border=\"1\" class=\"dataframe\">\n",
       "  <thead>\n",
       "    <tr style=\"text-align: right;\">\n",
       "      <th></th>\n",
       "      <th>name</th>\n",
       "      <th>taxon</th>\n",
       "      <th>probe</th>\n",
       "      <th>source</th>\n",
       "    </tr>\n",
       "  </thead>\n",
       "  <tbody>\n",
       "    <tr>\n",
       "      <th>0</th>\n",
       "      <td>Eub338</td>\n",
       "      <td>Bacteria</td>\n",
       "      <td>GCTGCCTCCCGTAGGAGT</td>\n",
       "      <td>44</td>\n",
       "    </tr>\n",
       "    <tr>\n",
       "      <th>1</th>\n",
       "      <td>Actinobacteria</td>\n",
       "      <td>NaN</td>\n",
       "      <td>NaN</td>\n",
       "      <td>NaN</td>\n",
       "    </tr>\n",
       "    <tr>\n",
       "      <th>2</th>\n",
       "      <td>Act381</td>\n",
       "      <td>Actinobacteria</td>\n",
       "      <td>CGTCGCTGCATCAGGCTT</td>\n",
       "      <td>This paper</td>\n",
       "    </tr>\n",
       "    <tr>\n",
       "      <th>3</th>\n",
       "      <td>Act692</td>\n",
       "      <td>Actinobacteria</td>\n",
       "      <td>CTGATATCTGCGCATTCC</td>\n",
       "      <td>This paper</td>\n",
       "    </tr>\n",
       "    <tr>\n",
       "      <th>4</th>\n",
       "      <td>Act476</td>\n",
       "      <td>Actinomyces</td>\n",
       "      <td>ATCCAGCTACCGTCAACC</td>\n",
       "      <td>45</td>\n",
       "    </tr>\n",
       "    <tr>\n",
       "      <th>5</th>\n",
       "      <td>Cor595</td>\n",
       "      <td>Corynebacterium</td>\n",
       "      <td>CCGGAATTTCACAGACGACG</td>\n",
       "      <td>This paper</td>\n",
       "    </tr>\n",
       "    <tr>\n",
       "      <th>6</th>\n",
       "      <td>Cor633</td>\n",
       "      <td>Corynebacterium</td>\n",
       "      <td>AGTTATGCCCGTATCGCCTG</td>\n",
       "      <td>This paper</td>\n",
       "    </tr>\n",
       "    <tr>\n",
       "      <th>7</th>\n",
       "      <td>Rot491</td>\n",
       "      <td>Rothia</td>\n",
       "      <td>TAGCCGGCGCTTTCTCTG</td>\n",
       "      <td>16</td>\n",
       "    </tr>\n",
       "    <tr>\n",
       "      <th>8</th>\n",
       "      <td>Cmat175</td>\n",
       "      <td>Corynebacterium matruchotii</td>\n",
       "      <td>ACTAAACCATGGTCCTATCCG</td>\n",
       "      <td>This paper</td>\n",
       "    </tr>\n",
       "    <tr>\n",
       "      <th>9</th>\n",
       "      <td>Bacteroidetes</td>\n",
       "      <td>NaN</td>\n",
       "      <td>NaN</td>\n",
       "      <td>NaN</td>\n",
       "    </tr>\n",
       "    <tr>\n",
       "      <th>10</th>\n",
       "      <td>CFB286</td>\n",
       "      <td>Bacteroidetes</td>\n",
       "      <td>TCCTCTCAGAACCCCTAC</td>\n",
       "      <td>46</td>\n",
       "    </tr>\n",
       "    <tr>\n",
       "      <th>11</th>\n",
       "      <td>CFB563</td>\n",
       "      <td>Bacteroidetes</td>\n",
       "      <td>GGACCCTTTAAACCCAAT</td>\n",
       "      <td>46</td>\n",
       "    </tr>\n",
       "    <tr>\n",
       "      <th>12</th>\n",
       "      <td>Cap371</td>\n",
       "      <td>Capnocytophaga</td>\n",
       "      <td>TCAGTCTTCCGACCATTG</td>\n",
       "      <td>15</td>\n",
       "    </tr>\n",
       "    <tr>\n",
       "      <th>13</th>\n",
       "      <td>Prv392</td>\n",
       "      <td>Prevotella</td>\n",
       "      <td>GCACGCTACTTGGCTGG</td>\n",
       "      <td>32</td>\n",
       "    </tr>\n",
       "    <tr>\n",
       "      <th>14</th>\n",
       "      <td>Pg1160</td>\n",
       "      <td>Porphyromonas</td>\n",
       "      <td>CCTCACGCCTTACGACGG</td>\n",
       "      <td>16</td>\n",
       "    </tr>\n",
       "    <tr>\n",
       "      <th>15</th>\n",
       "      <td>Firmicutes</td>\n",
       "      <td>NaN</td>\n",
       "      <td>NaN</td>\n",
       "      <td>NaN</td>\n",
       "    </tr>\n",
       "    <tr>\n",
       "      <th>16</th>\n",
       "      <td>LGC354A</td>\n",
       "      <td>Firmicutes</td>\n",
       "      <td>TGGAAGATTCCCTACTGC</td>\n",
       "      <td>47</td>\n",
       "    </tr>\n",
       "    <tr>\n",
       "      <th>17</th>\n",
       "      <td>LGC354C</td>\n",
       "      <td>Firmicutes</td>\n",
       "      <td>CCGAAGATTCCCTACTGC</td>\n",
       "      <td>47</td>\n",
       "    </tr>\n",
       "    <tr>\n",
       "      <th>18</th>\n",
       "      <td>Str405</td>\n",
       "      <td>Streptococcus</td>\n",
       "      <td>TAGCCGTCCCTTTCTGGT</td>\n",
       "      <td>48</td>\n",
       "    </tr>\n",
       "    <tr>\n",
       "      <th>19</th>\n",
       "      <td>Gem572</td>\n",
       "      <td>Gemella</td>\n",
       "      <td>TAAACCACCTGCGCGCGCTT</td>\n",
       "      <td>16</td>\n",
       "    </tr>\n",
       "    <tr>\n",
       "      <th>20</th>\n",
       "      <td>Vei488</td>\n",
       "      <td>Veillonella</td>\n",
       "      <td>CCGTGGCTTTCTATTCCG</td>\n",
       "      <td>49</td>\n",
       "    </tr>\n",
       "    <tr>\n",
       "      <th>21</th>\n",
       "      <td>Sel60</td>\n",
       "      <td>Selenomonas</td>\n",
       "      <td>TCATTCGCTCCGTTCGAC</td>\n",
       "      <td>16</td>\n",
       "    </tr>\n",
       "    <tr>\n",
       "      <th>22</th>\n",
       "      <td>Proteobacteria</td>\n",
       "      <td>NaN</td>\n",
       "      <td>NaN</td>\n",
       "      <td>NaN</td>\n",
       "    </tr>\n",
       "    <tr>\n",
       "      <th>23</th>\n",
       "      <td>Bet42A</td>\n",
       "      <td>β-Proteobacteria</td>\n",
       "      <td>GCCTTCCCACTTCGTTT</td>\n",
       "      <td>50</td>\n",
       "    </tr>\n",
       "    <tr>\n",
       "      <th>24</th>\n",
       "      <td>Lmir444</td>\n",
       "      <td>Lautropia mirabilis</td>\n",
       "      <td>TGGCACAGTCCTTTTCGTTCC</td>\n",
       "      <td>This paper</td>\n",
       "    </tr>\n",
       "    <tr>\n",
       "      <th>25</th>\n",
       "      <td>Nei1030</td>\n",
       "      <td>Neisseriaceae</td>\n",
       "      <td>CCTGTGTTACGGCTCCCG</td>\n",
       "      <td>16</td>\n",
       "    </tr>\n",
       "    <tr>\n",
       "      <th>26</th>\n",
       "      <td>Gam42A</td>\n",
       "      <td>γ-Proteobacteria</td>\n",
       "      <td>GCCTTCCCACATCGTTT</td>\n",
       "      <td>50</td>\n",
       "    </tr>\n",
       "    <tr>\n",
       "      <th>27</th>\n",
       "      <td>Pas111</td>\n",
       "      <td>Pasteurellaceae</td>\n",
       "      <td>TCCCAAGCATTACTCACC</td>\n",
       "      <td>16</td>\n",
       "    </tr>\n",
       "    <tr>\n",
       "      <th>28</th>\n",
       "      <td>Cam1021</td>\n",
       "      <td>Campylobacter</td>\n",
       "      <td>ATTTCTGCAAGCAGACACTC</td>\n",
       "      <td>16</td>\n",
       "    </tr>\n",
       "    <tr>\n",
       "      <th>29</th>\n",
       "      <td>Fusobacteria</td>\n",
       "      <td>NaN</td>\n",
       "      <td>NaN</td>\n",
       "      <td>NaN</td>\n",
       "    </tr>\n",
       "    <tr>\n",
       "      <th>30</th>\n",
       "      <td>Fus714</td>\n",
       "      <td>Fusobacterium</td>\n",
       "      <td>GGCTTCCCCATCGGCATT</td>\n",
       "      <td>16</td>\n",
       "    </tr>\n",
       "    <tr>\n",
       "      <th>31</th>\n",
       "      <td>Lep568</td>\n",
       "      <td>Leptotrichia</td>\n",
       "      <td>GCCTAGATGCCCTTTATG</td>\n",
       "      <td>16</td>\n",
       "    </tr>\n",
       "    <tr>\n",
       "      <th>32</th>\n",
       "      <td>Spirochaetes</td>\n",
       "      <td>NaN</td>\n",
       "      <td>NaN</td>\n",
       "      <td>NaN</td>\n",
       "    </tr>\n",
       "    <tr>\n",
       "      <th>33</th>\n",
       "      <td>Trp684</td>\n",
       "      <td>Treponema</td>\n",
       "      <td>TCTACAGATTCCACCCCTAC</td>\n",
       "      <td>16</td>\n",
       "    </tr>\n",
       "    <tr>\n",
       "      <th>34</th>\n",
       "      <td>TM7</td>\n",
       "      <td>NaN</td>\n",
       "      <td>NaN</td>\n",
       "      <td>NaN</td>\n",
       "    </tr>\n",
       "    <tr>\n",
       "      <th>35</th>\n",
       "      <td>TM7550</td>\n",
       "      <td>TM7</td>\n",
       "      <td>CCCAGTCACTCCGGATAA</td>\n",
       "      <td>This paper</td>\n",
       "    </tr>\n",
       "  </tbody>\n",
       "</table>\n",
       "</div>"
      ],
      "text/plain": [
       "              name                        taxon                  probe  \\\n",
       "0           Eub338                     Bacteria     GCTGCCTCCCGTAGGAGT   \n",
       "1   Actinobacteria                          NaN                    NaN   \n",
       "2           Act381               Actinobacteria     CGTCGCTGCATCAGGCTT   \n",
       "3           Act692               Actinobacteria     CTGATATCTGCGCATTCC   \n",
       "4           Act476                  Actinomyces     ATCCAGCTACCGTCAACC   \n",
       "5           Cor595              Corynebacterium   CCGGAATTTCACAGACGACG   \n",
       "6           Cor633              Corynebacterium   AGTTATGCCCGTATCGCCTG   \n",
       "7           Rot491                       Rothia     TAGCCGGCGCTTTCTCTG   \n",
       "8          Cmat175  Corynebacterium matruchotii  ACTAAACCATGGTCCTATCCG   \n",
       "9    Bacteroidetes                          NaN                    NaN   \n",
       "10          CFB286                Bacteroidetes     TCCTCTCAGAACCCCTAC   \n",
       "11          CFB563                Bacteroidetes     GGACCCTTTAAACCCAAT   \n",
       "12          Cap371               Capnocytophaga     TCAGTCTTCCGACCATTG   \n",
       "13          Prv392                   Prevotella      GCACGCTACTTGGCTGG   \n",
       "14          Pg1160                Porphyromonas     CCTCACGCCTTACGACGG   \n",
       "15      Firmicutes                          NaN                    NaN   \n",
       "16         LGC354A                   Firmicutes     TGGAAGATTCCCTACTGC   \n",
       "17         LGC354C                   Firmicutes     CCGAAGATTCCCTACTGC   \n",
       "18          Str405                Streptococcus     TAGCCGTCCCTTTCTGGT   \n",
       "19          Gem572                      Gemella   TAAACCACCTGCGCGCGCTT   \n",
       "20          Vei488                  Veillonella     CCGTGGCTTTCTATTCCG   \n",
       "21           Sel60                  Selenomonas     TCATTCGCTCCGTTCGAC   \n",
       "22  Proteobacteria                          NaN                    NaN   \n",
       "23          Bet42A             β-Proteobacteria      GCCTTCCCACTTCGTTT   \n",
       "24         Lmir444          Lautropia mirabilis  TGGCACAGTCCTTTTCGTTCC   \n",
       "25         Nei1030                Neisseriaceae     CCTGTGTTACGGCTCCCG   \n",
       "26          Gam42A             γ-Proteobacteria      GCCTTCCCACATCGTTT   \n",
       "27          Pas111              Pasteurellaceae     TCCCAAGCATTACTCACC   \n",
       "28         Cam1021                Campylobacter   ATTTCTGCAAGCAGACACTC   \n",
       "29    Fusobacteria                          NaN                    NaN   \n",
       "30          Fus714                Fusobacterium     GGCTTCCCCATCGGCATT   \n",
       "31          Lep568                 Leptotrichia     GCCTAGATGCCCTTTATG   \n",
       "32    Spirochaetes                          NaN                    NaN   \n",
       "33          Trp684                    Treponema   TCTACAGATTCCACCCCTAC   \n",
       "34             TM7                          NaN                    NaN   \n",
       "35          TM7550                          TM7     CCCAGTCACTCCGGATAA   \n",
       "\n",
       "        source  \n",
       "0           44  \n",
       "1          NaN  \n",
       "2   This paper  \n",
       "3   This paper  \n",
       "4           45  \n",
       "5   This paper  \n",
       "6   This paper  \n",
       "7           16  \n",
       "8   This paper  \n",
       "9          NaN  \n",
       "10          46  \n",
       "11          46  \n",
       "12          15  \n",
       "13          32  \n",
       "14          16  \n",
       "15         NaN  \n",
       "16          47  \n",
       "17          47  \n",
       "18          48  \n",
       "19          16  \n",
       "20          49  \n",
       "21          16  \n",
       "22         NaN  \n",
       "23          50  \n",
       "24  This paper  \n",
       "25          16  \n",
       "26          50  \n",
       "27          16  \n",
       "28          16  \n",
       "29         NaN  \n",
       "30          16  \n",
       "31          16  \n",
       "32         NaN  \n",
       "33          16  \n",
       "34         NaN  \n",
       "35  This paper  "
      ]
     },
     "execution_count": 21,
     "metadata": {},
     "output_type": "execute_result"
    }
   ],
   "source": [
    "welch_probes_fn = 'welch2016_probes.csv'\n",
    "welch_probes = pd.read_csv(welch_probes_fn, sep='\\t')\n",
    "welch_probes.columns = ['name','taxon','probe','source']\n",
    "welch_probes"
   ]
  },
  {
   "cell_type": "markdown",
   "metadata": {},
   "source": [
    "List target taxa"
   ]
  },
  {
   "cell_type": "code",
   "execution_count": 22,
   "metadata": {},
   "outputs": [
    {
     "name": "stdout",
     "output_type": "stream",
     "text": [
      "defaultdict(<class 'list'>, {'Actinomyces': ['ATCCAGCTACCGTCAACC'], 'Corynebacterium': ['CCGGAATTTCACAGACGACG', 'AGTTATGCCCGTATCGCCTG', 'ACTAAACCATGGTCCTATCCG'], 'Rothia': ['TAGCCGGCGCTTTCTCTG'], 'Capnocytophaga': ['TCAGTCTTCCGACCATTG'], 'Prevotella': ['GCACGCTACTTGGCTGG'], 'Porphyromonas': ['CCTCACGCCTTACGACGG'], 'Streptococcus': ['TAGCCGTCCCTTTCTGGT'], 'Gemella': ['TAAACCACCTGCGCGCGCTT'], 'Veillonella': ['CCGTGGCTTTCTATTCCG'], 'Selenomonas': ['TCATTCGCTCCGTTCGAC'], 'Lautropia': ['TGGCACAGTCCTTTTCGTTCC'], 'Neisseriaceae': ['CCTGTGTTACGGCTCCCG'], 'Pasteurellaceae': ['TCCCAAGCATTACTCACC'], 'Campylobacter': ['ATTTCTGCAAGCAGACACTC'], 'Fusobacterium': ['GGCTTCCCCATCGGCATT'], 'Leptotrichia': ['GCCTAGATGCCCTTTATG'], 'Treponema': ['TCTACAGATTCCACCCCTAC'], 'TM7': ['CCCAGTCACTCCGGATAA']})\n"
     ]
    },
    {
     "data": {
      "text/plain": [
       "defaultdict(list,\n",
       "            {'Actinomyces': ['Act476'],\n",
       "             'Corynebacterium': ['Cor595', 'Cor633', 'Cmat175'],\n",
       "             'Rothia': ['Rot491'],\n",
       "             'Capnocytophaga': ['Cap371'],\n",
       "             'Prevotella': ['Prv392'],\n",
       "             'Porphyromonas': ['Pg1160'],\n",
       "             'Streptococcus': ['Str405'],\n",
       "             'Gemella': ['Gem572'],\n",
       "             'Veillonella': ['Vei488'],\n",
       "             'Selenomonas': ['Sel60'],\n",
       "             'Lautropia': ['Lmir444'],\n",
       "             'Neisseriaceae': ['Nei1030'],\n",
       "             'Pasteurellaceae': ['Pas111'],\n",
       "             'Campylobacter': ['Cam1021'],\n",
       "             'Fusobacterium': ['Fus714'],\n",
       "             'Leptotrichia': ['Lep568'],\n",
       "             'Treponema': ['Trp684'],\n",
       "             'TM7': ['TM7550']})"
      ]
     },
     "execution_count": 22,
     "metadata": {},
     "output_type": "execute_result"
    }
   ],
   "source": [
    "from collections import defaultdict\n",
    "\n",
    "target_taxa = ['Actinomyces','Corynebacterium','Rothia','Capnocytophaga','Prevotella','Porphyromonas','Streptococcus','Gemella','Veillonella','Selenomonas','Lautropia','Neisseriaceae','Pasteurellaceae','Campylobacter','Fusobacterium','Leptotrichia','Treponema','TM7']\n",
    "dict_tax_probe = defaultdict(list)\n",
    "dict_tax_probename = defaultdict(list)\n",
    "for t in target_taxa:\n",
    "    for i, row in welch_probes.iterrows():\n",
    "        tax = row['taxon']\n",
    "        if isinstance(tax, str):\n",
    "            if t in tax:\n",
    "                dict_tax_probe[t].append(row['probe'])\n",
    "                dict_tax_probename[t].append(row['name'])\n",
    "\n",
    "print(dict_tax_probe)\n",
    "dict_tax_probename\n"
   ]
  },
  {
   "cell_type": "markdown",
   "metadata": {},
   "source": [
    "Load hiprfish flanking regions"
   ]
  },
  {
   "cell_type": "code",
   "execution_count": 23,
   "metadata": {},
   "outputs": [
    {
     "data": {
      "text/html": [
       "<div>\n",
       "<style scoped>\n",
       "    .dataframe tbody tr th:only-of-type {\n",
       "        vertical-align: middle;\n",
       "    }\n",
       "\n",
       "    .dataframe tbody tr th {\n",
       "        vertical-align: top;\n",
       "    }\n",
       "\n",
       "    .dataframe thead th {\n",
       "        text-align: right;\n",
       "    }\n",
       "</style>\n",
       "<table border=\"1\" class=\"dataframe\">\n",
       "  <thead>\n",
       "    <tr style=\"text-align: right;\">\n",
       "      <th></th>\n",
       "      <th>flanking</th>\n",
       "      <th>sequence</th>\n",
       "    </tr>\n",
       "  </thead>\n",
       "  <tbody>\n",
       "    <tr>\n",
       "      <th>0</th>\n",
       "      <td>MERFISH_R1</td>\n",
       "      <td>TGTGGAGGGATTGAAGGATA</td>\n",
       "    </tr>\n",
       "    <tr>\n",
       "      <th>1</th>\n",
       "      <td>MERFISH_R2</td>\n",
       "      <td>ATAGGAAATGGTGGTAGTGT</td>\n",
       "    </tr>\n",
       "    <tr>\n",
       "      <th>2</th>\n",
       "      <td>MERFISH_R3</td>\n",
       "      <td>AGAGTGAGTAGTAGTGGAGT</td>\n",
       "    </tr>\n",
       "    <tr>\n",
       "      <th>3</th>\n",
       "      <td>MERFISH_R4</td>\n",
       "      <td>TGTGATGGAAGTTAGAGGGT</td>\n",
       "    </tr>\n",
       "    <tr>\n",
       "      <th>4</th>\n",
       "      <td>MERFISH_R5</td>\n",
       "      <td>TGAAAGGAATGGGTTGTGGT</td>\n",
       "    </tr>\n",
       "    <tr>\n",
       "      <th>5</th>\n",
       "      <td>MERFISH_R6</td>\n",
       "      <td>TTGGAGGTGTAGGGAGTAAA</td>\n",
       "    </tr>\n",
       "    <tr>\n",
       "      <th>6</th>\n",
       "      <td>MERFISH_R7</td>\n",
       "      <td>AGGGTGTGTTTGTAAAGGGT</td>\n",
       "    </tr>\n",
       "    <tr>\n",
       "      <th>7</th>\n",
       "      <td>MERFISH_R8</td>\n",
       "      <td>AGGTTAGGTTGAGAATAGGA</td>\n",
       "    </tr>\n",
       "    <tr>\n",
       "      <th>8</th>\n",
       "      <td>MERFISH_R9</td>\n",
       "      <td>TAGAGTTGATAGAGGGAGAA</td>\n",
       "    </tr>\n",
       "    <tr>\n",
       "      <th>9</th>\n",
       "      <td>MERFISH_R10</td>\n",
       "      <td>GATGATGTAGTAGTAAGGGT</td>\n",
       "    </tr>\n",
       "  </tbody>\n",
       "</table>\n",
       "</div>"
      ],
      "text/plain": [
       "      flanking              sequence\n",
       "0   MERFISH_R1  TGTGGAGGGATTGAAGGATA\n",
       "1   MERFISH_R2  ATAGGAAATGGTGGTAGTGT\n",
       "2   MERFISH_R3  AGAGTGAGTAGTAGTGGAGT\n",
       "3   MERFISH_R4  TGTGATGGAAGTTAGAGGGT\n",
       "4   MERFISH_R5  TGAAAGGAATGGGTTGTGGT\n",
       "5   MERFISH_R6  TTGGAGGTGTAGGGAGTAAA\n",
       "6   MERFISH_R7  AGGGTGTGTTTGTAAAGGGT\n",
       "7   MERFISH_R8  AGGTTAGGTTGAGAATAGGA\n",
       "8   MERFISH_R9  TAGAGTTGATAGAGGGAGAA\n",
       "9  MERFISH_R10  GATGATGTAGTAGTAAGGGT"
      ]
     },
     "execution_count": 23,
     "metadata": {},
     "output_type": "execute_result"
    }
   ],
   "source": [
    "hipr_flanking_fn = 'hiprfish_flanking_regions.csv'\n",
    "hipr_flanking = pd.read_csv(hipr_flanking_fn)\n",
    "hipr_flanking"
   ]
  },
  {
   "cell_type": "markdown",
   "metadata": {},
   "source": [
    "Barcode bit dictionary"
   ]
  },
  {
   "cell_type": "code",
   "execution_count": 24,
   "metadata": {},
   "outputs": [
    {
     "data": {
      "text/plain": [
       "{0: 'GATGATGTAGTAGTAAGGGT',\n",
       " 1: 'AGGTTAGGTTGAGAATAGGA',\n",
       " 2: 'AGAGTGAGTAGTAGTGGAGT',\n",
       " 3: 'ATAGGAAATGGTGGTAGTGT',\n",
       " 4: 'TGTGGAGGGATTGAAGGATA'}"
      ]
     },
     "execution_count": 24,
     "metadata": {},
     "output_type": "execute_result"
    }
   ],
   "source": [
    "dict_bit_seq = {}\n",
    "for i, j in enumerate([9,7,2,1,0]):\n",
    "    dict_bit_seq[i] = hipr_flanking.loc[j,'sequence']\n",
    "\n",
    "dict_bit_seq"
   ]
  },
  {
   "cell_type": "markdown",
   "metadata": {},
   "source": [
    "Load the old design"
   ]
  },
  {
   "cell_type": "code",
   "execution_count": 25,
   "metadata": {},
   "outputs": [
    {
     "data": {
      "text/html": [
       "<div>\n",
       "<style scoped>\n",
       "    .dataframe tbody tr th:only-of-type {\n",
       "        vertical-align: middle;\n",
       "    }\n",
       "\n",
       "    .dataframe tbody tr th {\n",
       "        vertical-align: top;\n",
       "    }\n",
       "\n",
       "    .dataframe thead th {\n",
       "        text-align: right;\n",
       "    }\n",
       "</style>\n",
       "<table border=\"1\" class=\"dataframe\">\n",
       "  <thead>\n",
       "    <tr style=\"text-align: right;\">\n",
       "      <th></th>\n",
       "      <th>sci_name</th>\n",
       "      <th>target_taxon</th>\n",
       "      <th>probe_id</th>\n",
       "      <th>probe_full_seq</th>\n",
       "      <th>code</th>\n",
       "    </tr>\n",
       "  </thead>\n",
       "  <tbody>\n",
       "    <tr>\n",
       "      <th>0</th>\n",
       "      <td>Streptococcus</td>\n",
       "      <td>1301</td>\n",
       "      <td>Str405_001</td>\n",
       "      <td>TAGCCGTCCCTTTCTGGTTGTGGAGGGATTGAAGGATA</td>\n",
       "      <td>1</td>\n",
       "    </tr>\n",
       "    <tr>\n",
       "      <th>1</th>\n",
       "      <td>Neisseria</td>\n",
       "      <td>482</td>\n",
       "      <td>Nei1030_002</td>\n",
       "      <td>CCTGTGTTACGGCTCCCGATAGGAAATGGTGGTAGTGT</td>\n",
       "      <td>10</td>\n",
       "    </tr>\n",
       "    <tr>\n",
       "      <th>2</th>\n",
       "      <td>Veillonella</td>\n",
       "      <td>29465</td>\n",
       "      <td>Vei488_004</td>\n",
       "      <td>CCGTGGCTTTCTATTCCGAGAGTGAGTAGTAGTGGAGT</td>\n",
       "      <td>100</td>\n",
       "    </tr>\n",
       "    <tr>\n",
       "      <th>3</th>\n",
       "      <td>Rothia</td>\n",
       "      <td>32207</td>\n",
       "      <td>Rot491_032</td>\n",
       "      <td>TAGCCGGCGCTTTCTCTGAGGTTAGGTTGAGAATAGGA</td>\n",
       "      <td>1000</td>\n",
       "    </tr>\n",
       "    <tr>\n",
       "      <th>4</th>\n",
       "      <td>Actinomyces</td>\n",
       "      <td>1654</td>\n",
       "      <td>Act476_064</td>\n",
       "      <td>ATCCAGCTACCGTCAACCGATGATGTAGTAGTAAGGGT</td>\n",
       "      <td>10000</td>\n",
       "    </tr>\n",
       "    <tr>\n",
       "      <th>5</th>\n",
       "      <td>Selenomonas</td>\n",
       "      <td>970</td>\n",
       "      <td>Sel60_007_01</td>\n",
       "      <td>TCATTCGCTCCGTTCGACTGTGGAGGGATTGAAGGATA</td>\n",
       "      <td>111</td>\n",
       "    </tr>\n",
       "    <tr>\n",
       "      <th>6</th>\n",
       "      <td>Selenomonas</td>\n",
       "      <td>970</td>\n",
       "      <td>Sel60_007_02</td>\n",
       "      <td>TCATTCGCTCCGTTCGACATAGGAAATGGTGGTAGTGT</td>\n",
       "      <td>111</td>\n",
       "    </tr>\n",
       "    <tr>\n",
       "      <th>7</th>\n",
       "      <td>Selenomonas</td>\n",
       "      <td>970</td>\n",
       "      <td>Sel60_007_03</td>\n",
       "      <td>TCATTCGCTCCGTTCGACAGAGTGAGTAGTAGTGGAGT</td>\n",
       "      <td>111</td>\n",
       "    </tr>\n",
       "    <tr>\n",
       "      <th>8</th>\n",
       "      <td>Campylobacter</td>\n",
       "      <td>194</td>\n",
       "      <td>Cam1021_035_01</td>\n",
       "      <td>ATTTCTGCAAGCAGACACTCTGTGGAGGGATTGAAGGATA</td>\n",
       "      <td>1011</td>\n",
       "    </tr>\n",
       "    <tr>\n",
       "      <th>9</th>\n",
       "      <td>Campylobacter</td>\n",
       "      <td>194</td>\n",
       "      <td>Cam1021_035_02</td>\n",
       "      <td>ATTTCTGCAAGCAGACACTCATAGGAAATGGTGGTAGTGT</td>\n",
       "      <td>1011</td>\n",
       "    </tr>\n",
       "    <tr>\n",
       "      <th>10</th>\n",
       "      <td>Campylobacter</td>\n",
       "      <td>194</td>\n",
       "      <td>Cam1021_035_08</td>\n",
       "      <td>ATTTCTGCAAGCAGACACTCAGGTTAGGTTGAGAATAGGA</td>\n",
       "      <td>1011</td>\n",
       "    </tr>\n",
       "    <tr>\n",
       "      <th>11</th>\n",
       "      <td>Corynebacterium</td>\n",
       "      <td>1716</td>\n",
       "      <td>Cor595_067_01</td>\n",
       "      <td>CCGGAATTTCACAGACGACGTGTGGAGGGATTGAAGGATA</td>\n",
       "      <td>10011</td>\n",
       "    </tr>\n",
       "    <tr>\n",
       "      <th>12</th>\n",
       "      <td>Corynebacterium</td>\n",
       "      <td>1716</td>\n",
       "      <td>Cor595_067_02</td>\n",
       "      <td>CCGGAATTTCACAGACGACGATAGGAAATGGTGGTAGTGT</td>\n",
       "      <td>10011</td>\n",
       "    </tr>\n",
       "    <tr>\n",
       "      <th>13</th>\n",
       "      <td>Corynebacterium</td>\n",
       "      <td>1716</td>\n",
       "      <td>Cor595_067_10</td>\n",
       "      <td>CCGGAATTTCACAGACGACGGATGATGTAGTAGTAAGGGT</td>\n",
       "      <td>10011</td>\n",
       "    </tr>\n",
       "    <tr>\n",
       "      <th>14</th>\n",
       "      <td>Corynebacterium</td>\n",
       "      <td>1716</td>\n",
       "      <td>Cor633_067_01</td>\n",
       "      <td>AGTTATGCCCGTATCGCCTGTGTGGAGGGATTGAAGGATA</td>\n",
       "      <td>10011</td>\n",
       "    </tr>\n",
       "    <tr>\n",
       "      <th>15</th>\n",
       "      <td>Corynebacterium</td>\n",
       "      <td>1716</td>\n",
       "      <td>Cor633_067_02</td>\n",
       "      <td>AGTTATGCCCGTATCGCCTGATAGGAAATGGTGGTAGTGT</td>\n",
       "      <td>10011</td>\n",
       "    </tr>\n",
       "    <tr>\n",
       "      <th>16</th>\n",
       "      <td>Corynebacterium</td>\n",
       "      <td>1716</td>\n",
       "      <td>Cor633_067_10</td>\n",
       "      <td>AGTTATGCCCGTATCGCCTGGATGATGTAGTAGTAAGGGT</td>\n",
       "      <td>10011</td>\n",
       "    </tr>\n",
       "    <tr>\n",
       "      <th>17</th>\n",
       "      <td>Corynebacterium</td>\n",
       "      <td>1716</td>\n",
       "      <td>Cmat175_067_01</td>\n",
       "      <td>ACTAAACCATGGTCCTATCCGTGTGGAGGGATTGAAGGATA</td>\n",
       "      <td>10011</td>\n",
       "    </tr>\n",
       "    <tr>\n",
       "      <th>18</th>\n",
       "      <td>Corynebacterium</td>\n",
       "      <td>1716</td>\n",
       "      <td>Cmat175_067_02</td>\n",
       "      <td>ACTAAACCATGGTCCTATCCGATAGGAAATGGTGGTAGTGT</td>\n",
       "      <td>10011</td>\n",
       "    </tr>\n",
       "    <tr>\n",
       "      <th>19</th>\n",
       "      <td>Corynebacterium</td>\n",
       "      <td>1716</td>\n",
       "      <td>Cmat175_067_10</td>\n",
       "      <td>ACTAAACCATGGTCCTATCCGGATGATGTAGTAGTAAGGGT</td>\n",
       "      <td>10011</td>\n",
       "    </tr>\n",
       "    <tr>\n",
       "      <th>20</th>\n",
       "      <td>Saccharibacteria</td>\n",
       "      <td>95818</td>\n",
       "      <td>TM7550_097_01</td>\n",
       "      <td>CCCAGTCACTCCGGATAATGTGGAGGGATTGAAGGATA</td>\n",
       "      <td>11001</td>\n",
       "    </tr>\n",
       "    <tr>\n",
       "      <th>21</th>\n",
       "      <td>Saccharibacteria</td>\n",
       "      <td>95818</td>\n",
       "      <td>TM7550_097_08</td>\n",
       "      <td>CCCAGTCACTCCGGATAAAGGTTAGGTTGAGAATAGGA</td>\n",
       "      <td>11001</td>\n",
       "    </tr>\n",
       "    <tr>\n",
       "      <th>22</th>\n",
       "      <td>Saccharibacteria</td>\n",
       "      <td>95818</td>\n",
       "      <td>TM7550_097_10</td>\n",
       "      <td>CCCAGTCACTCCGGATAAGATGATGTAGTAGTAAGGGT</td>\n",
       "      <td>11001</td>\n",
       "    </tr>\n",
       "    <tr>\n",
       "      <th>23</th>\n",
       "      <td>Leptotrichia</td>\n",
       "      <td>32067</td>\n",
       "      <td>Lep568_098_02</td>\n",
       "      <td>GCCTAGATGCCCTTTATGATAGGAAATGGTGGTAGTGT</td>\n",
       "      <td>11010</td>\n",
       "    </tr>\n",
       "    <tr>\n",
       "      <th>24</th>\n",
       "      <td>Leptotrichia</td>\n",
       "      <td>32067</td>\n",
       "      <td>Lep568_098_08</td>\n",
       "      <td>GCCTAGATGCCCTTTATGAGGTTAGGTTGAGAATAGGA</td>\n",
       "      <td>11010</td>\n",
       "    </tr>\n",
       "    <tr>\n",
       "      <th>25</th>\n",
       "      <td>Leptotrichia</td>\n",
       "      <td>32067</td>\n",
       "      <td>Lep568_098_10</td>\n",
       "      <td>GCCTAGATGCCCTTTATGGATGATGTAGTAGTAAGGGT</td>\n",
       "      <td>11010</td>\n",
       "    </tr>\n",
       "    <tr>\n",
       "      <th>26</th>\n",
       "      <td>Lautropia</td>\n",
       "      <td>47670</td>\n",
       "      <td>Lmir444_100_03</td>\n",
       "      <td>TGGCACAGTCCTTTTCGTTCCAGAGTGAGTAGTAGTGGAGT</td>\n",
       "      <td>11100</td>\n",
       "    </tr>\n",
       "    <tr>\n",
       "      <th>27</th>\n",
       "      <td>Lautropia</td>\n",
       "      <td>47670</td>\n",
       "      <td>Lmir444_100_08</td>\n",
       "      <td>TGGCACAGTCCTTTTCGTTCCAGGTTAGGTTGAGAATAGGA</td>\n",
       "      <td>11100</td>\n",
       "    </tr>\n",
       "    <tr>\n",
       "      <th>28</th>\n",
       "      <td>Lautropia</td>\n",
       "      <td>47670</td>\n",
       "      <td>Lmir444_100_10</td>\n",
       "      <td>TGGCACAGTCCTTTTCGTTCCGATGATGTAGTAGTAAGGGT</td>\n",
       "      <td>11100</td>\n",
       "    </tr>\n",
       "    <tr>\n",
       "      <th>29</th>\n",
       "      <td>Pasteurellaceae</td>\n",
       "      <td>712</td>\n",
       "      <td>Pas111_070_02</td>\n",
       "      <td>TCCCAAGCATTACTCACCATAGGAAATGGTGGTAGTGT</td>\n",
       "      <td>10110</td>\n",
       "    </tr>\n",
       "    <tr>\n",
       "      <th>30</th>\n",
       "      <td>Pasteurellaceae</td>\n",
       "      <td>712</td>\n",
       "      <td>Pas111_070_03</td>\n",
       "      <td>TCCCAAGCATTACTCACCAGAGTGAGTAGTAGTGGAGT</td>\n",
       "      <td>10110</td>\n",
       "    </tr>\n",
       "    <tr>\n",
       "      <th>31</th>\n",
       "      <td>Pasteurellaceae</td>\n",
       "      <td>712</td>\n",
       "      <td>Pas111_070_10</td>\n",
       "      <td>TCCCAAGCATTACTCACCGATGATGTAGTAGTAAGGGT</td>\n",
       "      <td>10110</td>\n",
       "    </tr>\n",
       "    <tr>\n",
       "      <th>32</th>\n",
       "      <td>Porphyromonas</td>\n",
       "      <td>836</td>\n",
       "      <td>Pg1160_069_01</td>\n",
       "      <td>CCTCACGCCTTACGACGGTGTGGAGGGATTGAAGGATA</td>\n",
       "      <td>10101</td>\n",
       "    </tr>\n",
       "    <tr>\n",
       "      <th>33</th>\n",
       "      <td>Porphyromonas</td>\n",
       "      <td>836</td>\n",
       "      <td>Pg1160_069_03</td>\n",
       "      <td>CCTCACGCCTTACGACGGAGAGTGAGTAGTAGTGGAGT</td>\n",
       "      <td>10101</td>\n",
       "    </tr>\n",
       "    <tr>\n",
       "      <th>34</th>\n",
       "      <td>Porphyromonas</td>\n",
       "      <td>836</td>\n",
       "      <td>Pg1160_069_10</td>\n",
       "      <td>CCTCACGCCTTACGACGGGATGATGTAGTAGTAAGGGT</td>\n",
       "      <td>10101</td>\n",
       "    </tr>\n",
       "    <tr>\n",
       "      <th>35</th>\n",
       "      <td>Capnocytophaga</td>\n",
       "      <td>1016</td>\n",
       "      <td>Cap371_037_01</td>\n",
       "      <td>TCAGTCTTCCGACCATTGTGTGGAGGGATTGAAGGATA</td>\n",
       "      <td>1101</td>\n",
       "    </tr>\n",
       "    <tr>\n",
       "      <th>36</th>\n",
       "      <td>Capnocytophaga</td>\n",
       "      <td>1016</td>\n",
       "      <td>Cap371_037_03</td>\n",
       "      <td>TCAGTCTTCCGACCATTGAGAGTGAGTAGTAGTGGAGT</td>\n",
       "      <td>1101</td>\n",
       "    </tr>\n",
       "    <tr>\n",
       "      <th>37</th>\n",
       "      <td>Capnocytophaga</td>\n",
       "      <td>1016</td>\n",
       "      <td>Cap371_037_08</td>\n",
       "      <td>TCAGTCTTCCGACCATTGAGGTTAGGTTGAGAATAGGA</td>\n",
       "      <td>1101</td>\n",
       "    </tr>\n",
       "    <tr>\n",
       "      <th>38</th>\n",
       "      <td>Prevotella</td>\n",
       "      <td>838</td>\n",
       "      <td>Prv392_038_02</td>\n",
       "      <td>GCACGCTACTTGGCTGGATAGGAAATGGTGGTAGTGT</td>\n",
       "      <td>1110</td>\n",
       "    </tr>\n",
       "    <tr>\n",
       "      <th>39</th>\n",
       "      <td>Prevotella</td>\n",
       "      <td>838</td>\n",
       "      <td>Prv392_038_03</td>\n",
       "      <td>GCACGCTACTTGGCTGGAGAGTGAGTAGTAGTGGAGT</td>\n",
       "      <td>1110</td>\n",
       "    </tr>\n",
       "    <tr>\n",
       "      <th>40</th>\n",
       "      <td>Prevotella</td>\n",
       "      <td>838</td>\n",
       "      <td>Prv392_038_08</td>\n",
       "      <td>GCACGCTACTTGGCTGGAGGTTAGGTTGAGAATAGGA</td>\n",
       "      <td>1110</td>\n",
       "    </tr>\n",
       "    <tr>\n",
       "      <th>41</th>\n",
       "      <td>Gemella</td>\n",
       "      <td>1378</td>\n",
       "      <td>Gem572_103_01</td>\n",
       "      <td>TAAACCACCTGCGCGCGCTTTGTGGAGGGATTGAAGGATA</td>\n",
       "      <td>11111</td>\n",
       "    </tr>\n",
       "    <tr>\n",
       "      <th>42</th>\n",
       "      <td>Gemella</td>\n",
       "      <td>1378</td>\n",
       "      <td>Gem572_103_02</td>\n",
       "      <td>TAAACCACCTGCGCGCGCTTATAGGAAATGGTGGTAGTGT</td>\n",
       "      <td>11111</td>\n",
       "    </tr>\n",
       "    <tr>\n",
       "      <th>43</th>\n",
       "      <td>Gemella</td>\n",
       "      <td>1378</td>\n",
       "      <td>Gem572_103_03</td>\n",
       "      <td>TAAACCACCTGCGCGCGCTTAGAGTGAGTAGTAGTGGAGT</td>\n",
       "      <td>11111</td>\n",
       "    </tr>\n",
       "    <tr>\n",
       "      <th>44</th>\n",
       "      <td>Gemella</td>\n",
       "      <td>1378</td>\n",
       "      <td>Gem572_103_08</td>\n",
       "      <td>TAAACCACCTGCGCGCGCTTAGGTTAGGTTGAGAATAGGA</td>\n",
       "      <td>11111</td>\n",
       "    </tr>\n",
       "    <tr>\n",
       "      <th>45</th>\n",
       "      <td>Gemella</td>\n",
       "      <td>1378</td>\n",
       "      <td>Gem572_103_10</td>\n",
       "      <td>TAAACCACCTGCGCGCGCTTGATGATGTAGTAGTAAGGGT</td>\n",
       "      <td>11111</td>\n",
       "    </tr>\n",
       "    <tr>\n",
       "      <th>46</th>\n",
       "      <td>Treponema</td>\n",
       "      <td>157</td>\n",
       "      <td>Trp684_003_01</td>\n",
       "      <td>TCTACAGATTCCACCCCTACTGTGGAGGGATTGAAGGATA</td>\n",
       "      <td>11</td>\n",
       "    </tr>\n",
       "    <tr>\n",
       "      <th>47</th>\n",
       "      <td>Treponema</td>\n",
       "      <td>157</td>\n",
       "      <td>Trp684_003_02</td>\n",
       "      <td>TCTACAGATTCCACCCCTACATAGGAAATGGTGGTAGTGT</td>\n",
       "      <td>11</td>\n",
       "    </tr>\n",
       "    <tr>\n",
       "      <th>48</th>\n",
       "      <td>Fusobacterium</td>\n",
       "      <td>848</td>\n",
       "      <td>Fus714_033_01</td>\n",
       "      <td>GGCTTCCCCATCGGCATTTGTGGAGGGATTGAAGGATA</td>\n",
       "      <td>1001</td>\n",
       "    </tr>\n",
       "    <tr>\n",
       "      <th>49</th>\n",
       "      <td>Fusobacterium</td>\n",
       "      <td>848</td>\n",
       "      <td>Fus714_033_08</td>\n",
       "      <td>GGCTTCCCCATCGGCATTAGGTTAGGTTGAGAATAGGA</td>\n",
       "      <td>1001</td>\n",
       "    </tr>\n",
       "  </tbody>\n",
       "</table>\n",
       "</div>"
      ],
      "text/plain": [
       "            sci_name  target_taxon        probe_id  \\\n",
       "0      Streptococcus          1301      Str405_001   \n",
       "1          Neisseria           482     Nei1030_002   \n",
       "2        Veillonella         29465      Vei488_004   \n",
       "3             Rothia         32207      Rot491_032   \n",
       "4        Actinomyces          1654      Act476_064   \n",
       "5        Selenomonas           970    Sel60_007_01   \n",
       "6        Selenomonas           970    Sel60_007_02   \n",
       "7        Selenomonas           970    Sel60_007_03   \n",
       "8      Campylobacter           194  Cam1021_035_01   \n",
       "9      Campylobacter           194  Cam1021_035_02   \n",
       "10     Campylobacter           194  Cam1021_035_08   \n",
       "11   Corynebacterium          1716   Cor595_067_01   \n",
       "12   Corynebacterium          1716   Cor595_067_02   \n",
       "13   Corynebacterium          1716   Cor595_067_10   \n",
       "14   Corynebacterium          1716   Cor633_067_01   \n",
       "15   Corynebacterium          1716   Cor633_067_02   \n",
       "16   Corynebacterium          1716   Cor633_067_10   \n",
       "17   Corynebacterium          1716  Cmat175_067_01   \n",
       "18   Corynebacterium          1716  Cmat175_067_02   \n",
       "19   Corynebacterium          1716  Cmat175_067_10   \n",
       "20  Saccharibacteria         95818   TM7550_097_01   \n",
       "21  Saccharibacteria         95818   TM7550_097_08   \n",
       "22  Saccharibacteria         95818   TM7550_097_10   \n",
       "23      Leptotrichia         32067   Lep568_098_02   \n",
       "24      Leptotrichia         32067   Lep568_098_08   \n",
       "25      Leptotrichia         32067   Lep568_098_10   \n",
       "26         Lautropia         47670  Lmir444_100_03   \n",
       "27         Lautropia         47670  Lmir444_100_08   \n",
       "28         Lautropia         47670  Lmir444_100_10   \n",
       "29   Pasteurellaceae           712   Pas111_070_02   \n",
       "30   Pasteurellaceae           712   Pas111_070_03   \n",
       "31   Pasteurellaceae           712   Pas111_070_10   \n",
       "32     Porphyromonas           836   Pg1160_069_01   \n",
       "33     Porphyromonas           836   Pg1160_069_03   \n",
       "34     Porphyromonas           836   Pg1160_069_10   \n",
       "35    Capnocytophaga          1016   Cap371_037_01   \n",
       "36    Capnocytophaga          1016   Cap371_037_03   \n",
       "37    Capnocytophaga          1016   Cap371_037_08   \n",
       "38        Prevotella           838   Prv392_038_02   \n",
       "39        Prevotella           838   Prv392_038_03   \n",
       "40        Prevotella           838   Prv392_038_08   \n",
       "41           Gemella          1378   Gem572_103_01   \n",
       "42           Gemella          1378   Gem572_103_02   \n",
       "43           Gemella          1378   Gem572_103_03   \n",
       "44           Gemella          1378   Gem572_103_08   \n",
       "45           Gemella          1378   Gem572_103_10   \n",
       "46         Treponema           157   Trp684_003_01   \n",
       "47         Treponema           157   Trp684_003_02   \n",
       "48     Fusobacterium           848   Fus714_033_01   \n",
       "49     Fusobacterium           848   Fus714_033_08   \n",
       "\n",
       "                               probe_full_seq   code  \n",
       "0      TAGCCGTCCCTTTCTGGTTGTGGAGGGATTGAAGGATA      1  \n",
       "1      CCTGTGTTACGGCTCCCGATAGGAAATGGTGGTAGTGT     10  \n",
       "2      CCGTGGCTTTCTATTCCGAGAGTGAGTAGTAGTGGAGT    100  \n",
       "3      TAGCCGGCGCTTTCTCTGAGGTTAGGTTGAGAATAGGA   1000  \n",
       "4      ATCCAGCTACCGTCAACCGATGATGTAGTAGTAAGGGT  10000  \n",
       "5      TCATTCGCTCCGTTCGACTGTGGAGGGATTGAAGGATA    111  \n",
       "6      TCATTCGCTCCGTTCGACATAGGAAATGGTGGTAGTGT    111  \n",
       "7      TCATTCGCTCCGTTCGACAGAGTGAGTAGTAGTGGAGT    111  \n",
       "8    ATTTCTGCAAGCAGACACTCTGTGGAGGGATTGAAGGATA   1011  \n",
       "9    ATTTCTGCAAGCAGACACTCATAGGAAATGGTGGTAGTGT   1011  \n",
       "10   ATTTCTGCAAGCAGACACTCAGGTTAGGTTGAGAATAGGA   1011  \n",
       "11   CCGGAATTTCACAGACGACGTGTGGAGGGATTGAAGGATA  10011  \n",
       "12   CCGGAATTTCACAGACGACGATAGGAAATGGTGGTAGTGT  10011  \n",
       "13   CCGGAATTTCACAGACGACGGATGATGTAGTAGTAAGGGT  10011  \n",
       "14   AGTTATGCCCGTATCGCCTGTGTGGAGGGATTGAAGGATA  10011  \n",
       "15   AGTTATGCCCGTATCGCCTGATAGGAAATGGTGGTAGTGT  10011  \n",
       "16   AGTTATGCCCGTATCGCCTGGATGATGTAGTAGTAAGGGT  10011  \n",
       "17  ACTAAACCATGGTCCTATCCGTGTGGAGGGATTGAAGGATA  10011  \n",
       "18  ACTAAACCATGGTCCTATCCGATAGGAAATGGTGGTAGTGT  10011  \n",
       "19  ACTAAACCATGGTCCTATCCGGATGATGTAGTAGTAAGGGT  10011  \n",
       "20     CCCAGTCACTCCGGATAATGTGGAGGGATTGAAGGATA  11001  \n",
       "21     CCCAGTCACTCCGGATAAAGGTTAGGTTGAGAATAGGA  11001  \n",
       "22     CCCAGTCACTCCGGATAAGATGATGTAGTAGTAAGGGT  11001  \n",
       "23     GCCTAGATGCCCTTTATGATAGGAAATGGTGGTAGTGT  11010  \n",
       "24     GCCTAGATGCCCTTTATGAGGTTAGGTTGAGAATAGGA  11010  \n",
       "25     GCCTAGATGCCCTTTATGGATGATGTAGTAGTAAGGGT  11010  \n",
       "26  TGGCACAGTCCTTTTCGTTCCAGAGTGAGTAGTAGTGGAGT  11100  \n",
       "27  TGGCACAGTCCTTTTCGTTCCAGGTTAGGTTGAGAATAGGA  11100  \n",
       "28  TGGCACAGTCCTTTTCGTTCCGATGATGTAGTAGTAAGGGT  11100  \n",
       "29     TCCCAAGCATTACTCACCATAGGAAATGGTGGTAGTGT  10110  \n",
       "30     TCCCAAGCATTACTCACCAGAGTGAGTAGTAGTGGAGT  10110  \n",
       "31     TCCCAAGCATTACTCACCGATGATGTAGTAGTAAGGGT  10110  \n",
       "32     CCTCACGCCTTACGACGGTGTGGAGGGATTGAAGGATA  10101  \n",
       "33     CCTCACGCCTTACGACGGAGAGTGAGTAGTAGTGGAGT  10101  \n",
       "34     CCTCACGCCTTACGACGGGATGATGTAGTAGTAAGGGT  10101  \n",
       "35     TCAGTCTTCCGACCATTGTGTGGAGGGATTGAAGGATA   1101  \n",
       "36     TCAGTCTTCCGACCATTGAGAGTGAGTAGTAGTGGAGT   1101  \n",
       "37     TCAGTCTTCCGACCATTGAGGTTAGGTTGAGAATAGGA   1101  \n",
       "38      GCACGCTACTTGGCTGGATAGGAAATGGTGGTAGTGT   1110  \n",
       "39      GCACGCTACTTGGCTGGAGAGTGAGTAGTAGTGGAGT   1110  \n",
       "40      GCACGCTACTTGGCTGGAGGTTAGGTTGAGAATAGGA   1110  \n",
       "41   TAAACCACCTGCGCGCGCTTTGTGGAGGGATTGAAGGATA  11111  \n",
       "42   TAAACCACCTGCGCGCGCTTATAGGAAATGGTGGTAGTGT  11111  \n",
       "43   TAAACCACCTGCGCGCGCTTAGAGTGAGTAGTAGTGGAGT  11111  \n",
       "44   TAAACCACCTGCGCGCGCTTAGGTTAGGTTGAGAATAGGA  11111  \n",
       "45   TAAACCACCTGCGCGCGCTTGATGATGTAGTAGTAAGGGT  11111  \n",
       "46   TCTACAGATTCCACCCCTACTGTGGAGGGATTGAAGGATA     11  \n",
       "47   TCTACAGATTCCACCCCTACATAGGAAATGGTGGTAGTGT     11  \n",
       "48     GGCTTCCCCATCGGCATTTGTGGAGGGATTGAAGGATA   1001  \n",
       "49     GGCTTCCCCATCGGCATTAGGTTAGGTTGAGAATAGGA   1001  "
      ]
     },
     "execution_count": 25,
     "metadata": {},
     "output_type": "execute_result"
    }
   ],
   "source": [
    "old_design_fn = 'welch2016_5b_no_633_channel.csv'\n",
    "\n",
    "old_design = pd.read_csv(old_design_fn)\n",
    "old_design"
   ]
  },
  {
   "cell_type": "markdown",
   "metadata": {},
   "source": [
    "Get dict of old barcodes"
   ]
  },
  {
   "cell_type": "code",
   "execution_count": 37,
   "metadata": {},
   "outputs": [
    {
     "data": {
      "text/plain": [
       "{'Streptococcus': 1,\n",
       " 'Neisseria': 10,\n",
       " 'Veillonella': 100,\n",
       " 'Rothia': 1000,\n",
       " 'Actinomyces': 10000,\n",
       " 'Selenomonas': 111,\n",
       " 'Campylobacter': 1011,\n",
       " 'Corynebacterium': 10011,\n",
       " 'Saccharibacteria': 11001,\n",
       " 'Leptotrichia': 11010,\n",
       " 'Lautropia': 11100,\n",
       " 'Pasteurellaceae': 10110,\n",
       " 'Porphyromonas': 10101,\n",
       " 'Capnocytophaga': 1101,\n",
       " 'Prevotella': 1110,\n",
       " 'Gemella': 11111,\n",
       " 'Treponema': 11,\n",
       " 'Fusobacterium': 1001}"
      ]
     },
     "execution_count": 37,
     "metadata": {},
     "output_type": "execute_result"
    }
   ],
   "source": [
    "dict_tax_bc_old = {}\n",
    "for i, row in old_design.iterrows():\n",
    "    dict_tax_bc_old[row['sci_name']] = row['code']\n",
    "\n",
    "dict_tax_bc_old"
   ]
  },
  {
   "cell_type": "code",
   "execution_count": 38,
   "metadata": {},
   "outputs": [
    {
     "data": {
      "text/plain": [
       "{'Streptococcus': 1,\n",
       " 'Veillonella': 100,\n",
       " 'Rothia': 1000,\n",
       " 'Actinomyces': 10000,\n",
       " 'Selenomonas': 111,\n",
       " 'Campylobacter': 1011,\n",
       " 'Corynebacterium': 10011,\n",
       " 'Leptotrichia': 11010,\n",
       " 'Lautropia': 11100,\n",
       " 'Pasteurellaceae': 10110,\n",
       " 'Porphyromonas': 10101,\n",
       " 'Capnocytophaga': 1101,\n",
       " 'Prevotella': 1110,\n",
       " 'Gemella': 11111,\n",
       " 'Treponema': 11,\n",
       " 'Fusobacterium': 1001,\n",
       " 'Neisseriaceae': 10,\n",
       " 'TM7': 11001}"
      ]
     },
     "execution_count": 38,
     "metadata": {},
     "output_type": "execute_result"
    }
   ],
   "source": [
    "# Convert names to the same\n",
    "dict_tax_bc_old['Neisseriaceae'] = dict_tax_bc_old['Neisseria']\n",
    "del dict_tax_bc_old['Neisseria']\n",
    "dict_tax_bc_old['TM7'] = dict_tax_bc_old['Saccharibacteria']\n",
    "del dict_tax_bc_old['Saccharibacteria']\n",
    "dict_tax_bc_old"
   ]
  },
  {
   "cell_type": "markdown",
   "metadata": {},
   "source": [
    "Assign new barcodes and ensure there are no barcodes that are the same as the old barcodes"
   ]
  },
  {
   "cell_type": "code",
   "execution_count": 64,
   "metadata": {},
   "outputs": [
    {
     "data": {
      "text/plain": [
       "{'Actinomyces': 1010,\n",
       " 'Corynebacterium': 1,\n",
       " 'Rothia': 11000,\n",
       " 'Capnocytophaga': 10001,\n",
       " 'Prevotella': 1000,\n",
       " 'Porphyromonas': 10,\n",
       " 'Streptococcus': 110,\n",
       " 'Gemella': 10100,\n",
       " 'Veillonella': 111,\n",
       " 'Selenomonas': 11,\n",
       " 'Lautropia': 1100,\n",
       " 'Neisseriaceae': 10010,\n",
       " 'Pasteurellaceae': 101,\n",
       " 'Campylobacter': 10000,\n",
       " 'Fusobacterium': 1011,\n",
       " 'Leptotrichia': 100,\n",
       " 'Treponema': 11001,\n",
       " 'TM7': 1101}"
      ]
     },
     "execution_count": 64,
     "metadata": {},
     "output_type": "execute_result"
    }
   ],
   "source": [
    "# Write new barcodes \n",
    "import random \n",
    "\n",
    "bc_select_int = [int(bc) for bc in bc_select_sort]\n",
    "taxa = list(dict_tax_probename.keys())\n",
    "random.shuffle(taxa)\n",
    "for tax in taxa:\n",
    "    bc = bc_select_int[0]\n",
    "    bc_old = dict_tax_bc_old[tax]\n",
    "    if bc == bc_old:\n",
    "        bc = bc_select_int[1] \n",
    "        del bc_select_int[1]\n",
    "    else:\n",
    "        del bc_select_int[0]\n",
    "    dict_tax_bc_new[tax] = bc\n",
    "\n",
    "dict_tax_bc_new"
   ]
  },
  {
   "cell_type": "code",
   "execution_count": 71,
   "metadata": {},
   "outputs": [
    {
     "data": {
      "text/plain": [
       "{'Actinomyces': 1010,\n",
       " 'Campylobacter': 10000,\n",
       " 'Capnocytophaga': 10001,\n",
       " 'Corynebacterium': 1,\n",
       " 'Fusobacterium': 1011,\n",
       " 'Gemella': 10100,\n",
       " 'Lautropia': 1100,\n",
       " 'Leptotrichia': 100,\n",
       " 'Neisseriaceae': 10010,\n",
       " 'Pasteurellaceae': 101,\n",
       " 'Porphyromonas': 10,\n",
       " 'Prevotella': 1000,\n",
       " 'Rothia': 11000,\n",
       " 'Selenomonas': 11,\n",
       " 'Streptococcus': 110,\n",
       " 'TM7': 1101,\n",
       " 'Treponema': 11001,\n",
       " 'Veillonella': 111}"
      ]
     },
     "execution_count": 71,
     "metadata": {},
     "output_type": "execute_result"
    }
   ],
   "source": [
    "dict_tax_bc_new_sort = {k: dict_tax_bc_new[k] for k in sorted(list(dict_tax_bc_new.keys()))}\n",
    "dict_tax_bc_new_sort"
   ]
  },
  {
   "cell_type": "markdown",
   "metadata": {},
   "source": [
    "Iterate through old barcodes and reassign if not in new design"
   ]
  },
  {
   "cell_type": "code",
   "execution_count": 103,
   "metadata": {},
   "outputs": [
    {
     "name": "stdout",
     "output_type": "stream",
     "text": [
      "Streptococcus 1\n",
      "Neisseria 10\n",
      "Veillonella 100\n",
      "Rothia 1000\n",
      "Actinomyces 10000\n",
      "Selenomonas 111\n",
      "Saccharibacteria 11001\n",
      "Lautropia 11100\n",
      "Pasteurellaceae 10110\n",
      "Capnocytophaga 1101\n"
     ]
    },
    {
     "data": {
      "text/plain": [
       "{'Streptococcus': 1,\n",
       " 'Veillonella': 100,\n",
       " 'Rothia': 1000,\n",
       " 'Actinomyces': 10000,\n",
       " 'Selenomonas': 111,\n",
       " 'Campylobacter': 11,\n",
       " 'Corynebacterium': 101,\n",
       " 'Leptotrichia': 110,\n",
       " 'Lautropia': 11100,\n",
       " 'Pasteurellaceae': 10110,\n",
       " 'Porphyromonas': 1010,\n",
       " 'Capnocytophaga': 1101,\n",
       " 'Prevotella': 1100,\n",
       " 'Gemella': 1111,\n",
       " 'Treponema': 10001,\n",
       " 'Fusobacterium': 11000,\n",
       " 'Neisseriaceae': 10,\n",
       " 'TM7': 11001}"
      ]
     },
     "execution_count": 103,
     "metadata": {},
     "output_type": "execute_result"
    }
   ],
   "source": [
    "# bc_select_int = [int(bc) for bc in bc_select_sort]\n",
    "\n",
    "# dict_tax_bc_new = {}\n",
    "# for key, value in dict_tax_bc_old.items():\n",
    "#     if value in bc_select_int:\n",
    "#         dict_tax_bc_new[key] = value\n",
    "#         print(key, value)\n",
    "#         bc_select_int.remove(value)\n",
    "#     else:\n",
    "#         dict_tax_bc_new[key] = bc_select_int[0]\n",
    "#         del bc_select_int[0]\n",
    "\n",
    "# dict_tax_bc_new['Neisseriaceae'] = dict_tax_bc_new['Neisseria']\n",
    "# del dict_tax_bc_new['Neisseria']\n",
    "# dict_tax_bc_new['TM7'] = dict_tax_bc_new['Saccharibacteria']\n",
    "# del dict_tax_bc_new['Saccharibacteria']\n",
    "# dict_tax_bc_new\n"
   ]
  },
  {
   "cell_type": "markdown",
   "metadata": {},
   "source": [
    "Append flanking regions to sequences"
   ]
  },
  {
   "cell_type": "code",
   "execution_count": 116,
   "metadata": {},
   "outputs": [
    {
     "data": {
      "text/plain": [
       "{'Streptococcus': {'Str405': [['TAGCCGTCCCTTTCTGGTAGAGTGAGTAGTAGTGGAGT', 3],\n",
       "   ['TAGCCGTCCCTTTCTGGTATAGGAAATGGTGGTAGTGT', 2],\n",
       "   ['TAGCCGTCCCTTTCTGGTTGTGGAGGGATTGAAGGATA', 1]]},\n",
       " 'Veillonella': {'Vei488': [['CCGTGGCTTTCTATTCCGAGGTTAGGTTGAGAATAGGA', 4],\n",
       "   ['CCGTGGCTTTCTATTCCGATAGGAAATGGTGGTAGTGT', 2]]},\n",
       " 'Rothia': {'Rot491': [['TAGCCGGCGCTTTCTCTGATAGGAAATGGTGGTAGTGT', 2],\n",
       "   ['TAGCCGGCGCTTTCTCTGTGTGGAGGGATTGAAGGATA', 1]]},\n",
       " 'Actinomyces': {'Act476': [['ATCCAGCTACCGTCAACCTGTGGAGGGATTGAAGGATA', 1]]},\n",
       " 'Selenomonas': {'Sel60': [['TCATTCGCTCCGTTCGACAGGTTAGGTTGAGAATAGGA', 4],\n",
       "   ['TCATTCGCTCCGTTCGACAGAGTGAGTAGTAGTGGAGT', 3]]},\n",
       " 'Campylobacter': {'Cam1021': [['ATTTCTGCAAGCAGACACTCGATGATGTAGTAGTAAGGGT', 5],\n",
       "   ['ATTTCTGCAAGCAGACACTCTGTGGAGGGATTGAAGGATA', 1]]},\n",
       " 'Corynebacterium': {'Cor595': [['CCGGAATTTCACAGACGACGATAGGAAATGGTGGTAGTGT',\n",
       "    2]],\n",
       "  'Cor633': [['AGTTATGCCCGTATCGCCTGATAGGAAATGGTGGTAGTGT', 2]],\n",
       "  'Cmat175': [['ACTAAACCATGGTCCTATCCGATAGGAAATGGTGGTAGTGT', 2]]},\n",
       " 'Leptotrichia': {'Lep568': [['GCCTAGATGCCCTTTATGGATGATGTAGTAGTAAGGGT', 5],\n",
       "   ['GCCTAGATGCCCTTTATGAGGTTAGGTTGAGAATAGGA', 4]]},\n",
       " 'Lautropia': {'Lmir444': [['TGGCACAGTCCTTTTCGTTCCAGGTTAGGTTGAGAATAGGA', 4],\n",
       "   ['TGGCACAGTCCTTTTCGTTCCAGAGTGAGTAGTAGTGGAGT', 3],\n",
       "   ['TGGCACAGTCCTTTTCGTTCCTGTGGAGGGATTGAAGGATA', 1]]},\n",
       " 'Pasteurellaceae': {'Pas111': [['TCCCAAGCATTACTCACCGATGATGTAGTAGTAAGGGT',\n",
       "    5]]},\n",
       " 'Porphyromonas': {'Pg1160': [['CCTCACGCCTTACGACGGAGAGTGAGTAGTAGTGGAGT', 3],\n",
       "   ['CCTCACGCCTTACGACGGATAGGAAATGGTGGTAGTGT', 2]]},\n",
       " 'Capnocytophaga': {'Cap371': [['TCAGTCTTCCGACCATTGAGAGTGAGTAGTAGTGGAGT', 3]]},\n",
       " 'Prevotella': {'Prv392': [['GCACGCTACTTGGCTGGAGAGTGAGTAGTAGTGGAGT', 3],\n",
       "   ['GCACGCTACTTGGCTGGTGTGGAGGGATTGAAGGATA', 1]]},\n",
       " 'Gemella': {'Gem572': [['TAAACCACCTGCGCGCGCTTAGGTTAGGTTGAGAATAGGA', 4]]},\n",
       " 'Treponema': {'Trp684': [['TCTACAGATTCCACCCCTACGATGATGTAGTAGTAAGGGT', 5],\n",
       "   ['TCTACAGATTCCACCCCTACAGGTTAGGTTGAGAATAGGA', 4],\n",
       "   ['TCTACAGATTCCACCCCTACTGTGGAGGGATTGAAGGATA', 1]]},\n",
       " 'Fusobacterium': {'Fus714': [['GGCTTCCCCATCGGCATTGATGATGTAGTAGTAAGGGT', 5],\n",
       "   ['GGCTTCCCCATCGGCATTAGAGTGAGTAGTAGTGGAGT', 3],\n",
       "   ['GGCTTCCCCATCGGCATTATAGGAAATGGTGGTAGTGT', 2]]},\n",
       " 'Neisseriaceae': {'Nei1030': [['CCTGTGTTACGGCTCCCGAGGTTAGGTTGAGAATAGGA', 4],\n",
       "   ['CCTGTGTTACGGCTCCCGAGAGTGAGTAGTAGTGGAGT', 3],\n",
       "   ['CCTGTGTTACGGCTCCCGATAGGAAATGGTGGTAGTGT', 2],\n",
       "   ['CCTGTGTTACGGCTCCCGTGTGGAGGGATTGAAGGATA', 1]]},\n",
       " 'TM7': {'TM7550': [['CCCAGTCACTCCGGATAAGATGATGTAGTAGTAAGGGT', 5],\n",
       "   ['CCCAGTCACTCCGGATAAAGGTTAGGTTGAGAATAGGA', 4],\n",
       "   ['CCCAGTCACTCCGGATAAAGAGTGAGTAGTAGTGGAGT', 3]]}}"
      ]
     },
     "execution_count": 116,
     "metadata": {},
     "output_type": "execute_result"
    }
   ],
   "source": [
    "dict_tax_probe_flank = {}\n",
    "for tax, bc in dict_tax_bc_new.items():\n",
    "    probes = dict_tax_probe[tax]\n",
    "    names = dict_tax_probename[tax]\n",
    "    dict_ = {}\n",
    "    for p, n in zip(probes, names):\n",
    "        dict_[n] = []\n",
    "        for i, bit in enumerate(str(bc).zfill(5)):\n",
    "            if int(bit):\n",
    "                probe_flank = p + dict_bit_seq[i]\n",
    "                dict_[n].append([probe_flank, 5-i])\n",
    "    dict_tax_probe_flank[tax] = dict_\n",
    "\n",
    "dict_tax_probe_flank\n"
   ]
  },
  {
   "cell_type": "markdown",
   "metadata": {},
   "source": [
    "Make probe design file"
   ]
  },
  {
   "cell_type": "code",
   "execution_count": 134,
   "metadata": {},
   "outputs": [
    {
     "data": {
      "text/html": [
       "<div>\n",
       "<style scoped>\n",
       "    .dataframe tbody tr th:only-of-type {\n",
       "        vertical-align: middle;\n",
       "    }\n",
       "\n",
       "    .dataframe tbody tr th {\n",
       "        vertical-align: top;\n",
       "    }\n",
       "\n",
       "    .dataframe thead th {\n",
       "        text-align: right;\n",
       "    }\n",
       "</style>\n",
       "<table border=\"1\" class=\"dataframe\">\n",
       "  <thead>\n",
       "    <tr style=\"text-align: right;\">\n",
       "      <th></th>\n",
       "      <th>sci_name</th>\n",
       "      <th>code</th>\n",
       "    </tr>\n",
       "  </thead>\n",
       "  <tbody>\n",
       "    <tr>\n",
       "      <th>0</th>\n",
       "      <td>Streptococcus</td>\n",
       "      <td>111</td>\n",
       "    </tr>\n",
       "    <tr>\n",
       "      <th>1</th>\n",
       "      <td>Veillonella</td>\n",
       "      <td>1010</td>\n",
       "    </tr>\n",
       "    <tr>\n",
       "      <th>2</th>\n",
       "      <td>Rothia</td>\n",
       "      <td>11</td>\n",
       "    </tr>\n",
       "    <tr>\n",
       "      <th>3</th>\n",
       "      <td>Actinomyces</td>\n",
       "      <td>1</td>\n",
       "    </tr>\n",
       "    <tr>\n",
       "      <th>4</th>\n",
       "      <td>Selenomonas</td>\n",
       "      <td>1100</td>\n",
       "    </tr>\n",
       "    <tr>\n",
       "      <th>5</th>\n",
       "      <td>Campylobacter</td>\n",
       "      <td>10001</td>\n",
       "    </tr>\n",
       "    <tr>\n",
       "      <th>6</th>\n",
       "      <td>Corynebacterium</td>\n",
       "      <td>10</td>\n",
       "    </tr>\n",
       "    <tr>\n",
       "      <th>7</th>\n",
       "      <td>Leptotrichia</td>\n",
       "      <td>11000</td>\n",
       "    </tr>\n",
       "    <tr>\n",
       "      <th>8</th>\n",
       "      <td>Lautropia</td>\n",
       "      <td>1101</td>\n",
       "    </tr>\n",
       "    <tr>\n",
       "      <th>9</th>\n",
       "      <td>Pasteurellaceae</td>\n",
       "      <td>10000</td>\n",
       "    </tr>\n",
       "    <tr>\n",
       "      <th>10</th>\n",
       "      <td>Porphyromonas</td>\n",
       "      <td>110</td>\n",
       "    </tr>\n",
       "    <tr>\n",
       "      <th>11</th>\n",
       "      <td>Capnocytophaga</td>\n",
       "      <td>100</td>\n",
       "    </tr>\n",
       "    <tr>\n",
       "      <th>12</th>\n",
       "      <td>Prevotella</td>\n",
       "      <td>101</td>\n",
       "    </tr>\n",
       "    <tr>\n",
       "      <th>13</th>\n",
       "      <td>Gemella</td>\n",
       "      <td>1000</td>\n",
       "    </tr>\n",
       "    <tr>\n",
       "      <th>14</th>\n",
       "      <td>Treponema</td>\n",
       "      <td>11001</td>\n",
       "    </tr>\n",
       "    <tr>\n",
       "      <th>15</th>\n",
       "      <td>Fusobacterium</td>\n",
       "      <td>10110</td>\n",
       "    </tr>\n",
       "    <tr>\n",
       "      <th>16</th>\n",
       "      <td>Neisseriaceae</td>\n",
       "      <td>1111</td>\n",
       "    </tr>\n",
       "    <tr>\n",
       "      <th>17</th>\n",
       "      <td>TM7</td>\n",
       "      <td>11100</td>\n",
       "    </tr>\n",
       "  </tbody>\n",
       "</table>\n",
       "</div>"
      ],
      "text/plain": [
       "           sci_name   code\n",
       "0     Streptococcus    111\n",
       "1       Veillonella   1010\n",
       "2            Rothia     11\n",
       "3       Actinomyces      1\n",
       "4       Selenomonas   1100\n",
       "5     Campylobacter  10001\n",
       "6   Corynebacterium     10\n",
       "7      Leptotrichia  11000\n",
       "8         Lautropia   1101\n",
       "9   Pasteurellaceae  10000\n",
       "10    Porphyromonas    110\n",
       "11   Capnocytophaga    100\n",
       "12       Prevotella    101\n",
       "13          Gemella   1000\n",
       "14        Treponema  11001\n",
       "15    Fusobacterium  10110\n",
       "16    Neisseriaceae   1111\n",
       "17              TM7  11100"
      ]
     },
     "execution_count": 134,
     "metadata": {},
     "output_type": "execute_result"
    }
   ],
   "source": [
    "df_tax_bc = pd.DataFrame({'sci_name': dict_tax_bc_new.keys(), 'code': dict_tax_bc_new.values()})\n",
    "new_design_5b_fn = 'welch2016_5b_distant.csv'\n",
    "df_tax_bc.to_csv(new_design_5b_fn, index=False)\n",
    "df_tax_bc\n"
   ]
  },
  {
   "cell_type": "markdown",
   "metadata": {},
   "source": [
    "Make IDT order file"
   ]
  },
  {
   "cell_type": "code",
   "execution_count": 118,
   "metadata": {},
   "outputs": [
    {
     "data": {
      "text/html": [
       "<div>\n",
       "<style scoped>\n",
       "    .dataframe tbody tr th:only-of-type {\n",
       "        vertical-align: middle;\n",
       "    }\n",
       "\n",
       "    .dataframe tbody tr th {\n",
       "        vertical-align: top;\n",
       "    }\n",
       "\n",
       "    .dataframe thead th {\n",
       "        text-align: right;\n",
       "    }\n",
       "</style>\n",
       "<table border=\"1\" class=\"dataframe\">\n",
       "  <thead>\n",
       "    <tr style=\"text-align: right;\">\n",
       "      <th></th>\n",
       "      <th>Name</th>\n",
       "      <th>Sequence</th>\n",
       "      <th>Scale</th>\n",
       "      <th>Purification</th>\n",
       "    </tr>\n",
       "  </thead>\n",
       "  <tbody>\n",
       "    <tr>\n",
       "      <th>0</th>\n",
       "      <td>Str405_bc7_fl3</td>\n",
       "      <td>TAGCCGTCCCTTTCTGGTAGAGTGAGTAGTAGTGGAGT</td>\n",
       "      <td>25nm</td>\n",
       "      <td>STD</td>\n",
       "    </tr>\n",
       "    <tr>\n",
       "      <th>1</th>\n",
       "      <td>Str405_bc7_fl2</td>\n",
       "      <td>TAGCCGTCCCTTTCTGGTATAGGAAATGGTGGTAGTGT</td>\n",
       "      <td>25nm</td>\n",
       "      <td>STD</td>\n",
       "    </tr>\n",
       "    <tr>\n",
       "      <th>2</th>\n",
       "      <td>Str405_bc7_fl1</td>\n",
       "      <td>TAGCCGTCCCTTTCTGGTTGTGGAGGGATTGAAGGATA</td>\n",
       "      <td>25nm</td>\n",
       "      <td>STD</td>\n",
       "    </tr>\n",
       "    <tr>\n",
       "      <th>3</th>\n",
       "      <td>Vei488_bc10_fl4</td>\n",
       "      <td>CCGTGGCTTTCTATTCCGAGGTTAGGTTGAGAATAGGA</td>\n",
       "      <td>25nm</td>\n",
       "      <td>STD</td>\n",
       "    </tr>\n",
       "    <tr>\n",
       "      <th>4</th>\n",
       "      <td>Vei488_bc10_fl2</td>\n",
       "      <td>CCGTGGCTTTCTATTCCGATAGGAAATGGTGGTAGTGT</td>\n",
       "      <td>25nm</td>\n",
       "      <td>STD</td>\n",
       "    </tr>\n",
       "    <tr>\n",
       "      <th>5</th>\n",
       "      <td>Rot491_bc3_fl2</td>\n",
       "      <td>TAGCCGGCGCTTTCTCTGATAGGAAATGGTGGTAGTGT</td>\n",
       "      <td>25nm</td>\n",
       "      <td>STD</td>\n",
       "    </tr>\n",
       "    <tr>\n",
       "      <th>6</th>\n",
       "      <td>Rot491_bc3_fl1</td>\n",
       "      <td>TAGCCGGCGCTTTCTCTGTGTGGAGGGATTGAAGGATA</td>\n",
       "      <td>25nm</td>\n",
       "      <td>STD</td>\n",
       "    </tr>\n",
       "    <tr>\n",
       "      <th>7</th>\n",
       "      <td>Act476_bc1_fl1</td>\n",
       "      <td>ATCCAGCTACCGTCAACCTGTGGAGGGATTGAAGGATA</td>\n",
       "      <td>25nm</td>\n",
       "      <td>STD</td>\n",
       "    </tr>\n",
       "    <tr>\n",
       "      <th>8</th>\n",
       "      <td>Sel60_bc12_fl4</td>\n",
       "      <td>TCATTCGCTCCGTTCGACAGGTTAGGTTGAGAATAGGA</td>\n",
       "      <td>25nm</td>\n",
       "      <td>STD</td>\n",
       "    </tr>\n",
       "    <tr>\n",
       "      <th>9</th>\n",
       "      <td>Sel60_bc12_fl3</td>\n",
       "      <td>TCATTCGCTCCGTTCGACAGAGTGAGTAGTAGTGGAGT</td>\n",
       "      <td>25nm</td>\n",
       "      <td>STD</td>\n",
       "    </tr>\n",
       "    <tr>\n",
       "      <th>10</th>\n",
       "      <td>Cam1021_bc17_fl5</td>\n",
       "      <td>ATTTCTGCAAGCAGACACTCGATGATGTAGTAGTAAGGGT</td>\n",
       "      <td>25nm</td>\n",
       "      <td>STD</td>\n",
       "    </tr>\n",
       "    <tr>\n",
       "      <th>11</th>\n",
       "      <td>Cam1021_bc17_fl1</td>\n",
       "      <td>ATTTCTGCAAGCAGACACTCTGTGGAGGGATTGAAGGATA</td>\n",
       "      <td>25nm</td>\n",
       "      <td>STD</td>\n",
       "    </tr>\n",
       "    <tr>\n",
       "      <th>12</th>\n",
       "      <td>Cor595_bc2_fl2</td>\n",
       "      <td>CCGGAATTTCACAGACGACGATAGGAAATGGTGGTAGTGT</td>\n",
       "      <td>25nm</td>\n",
       "      <td>STD</td>\n",
       "    </tr>\n",
       "    <tr>\n",
       "      <th>13</th>\n",
       "      <td>Cor633_bc2_fl2</td>\n",
       "      <td>AGTTATGCCCGTATCGCCTGATAGGAAATGGTGGTAGTGT</td>\n",
       "      <td>25nm</td>\n",
       "      <td>STD</td>\n",
       "    </tr>\n",
       "    <tr>\n",
       "      <th>14</th>\n",
       "      <td>Cmat175_bc2_fl2</td>\n",
       "      <td>ACTAAACCATGGTCCTATCCGATAGGAAATGGTGGTAGTGT</td>\n",
       "      <td>25nm</td>\n",
       "      <td>STD</td>\n",
       "    </tr>\n",
       "    <tr>\n",
       "      <th>15</th>\n",
       "      <td>Lep568_bc24_fl5</td>\n",
       "      <td>GCCTAGATGCCCTTTATGGATGATGTAGTAGTAAGGGT</td>\n",
       "      <td>25nm</td>\n",
       "      <td>STD</td>\n",
       "    </tr>\n",
       "    <tr>\n",
       "      <th>16</th>\n",
       "      <td>Lep568_bc24_fl4</td>\n",
       "      <td>GCCTAGATGCCCTTTATGAGGTTAGGTTGAGAATAGGA</td>\n",
       "      <td>25nm</td>\n",
       "      <td>STD</td>\n",
       "    </tr>\n",
       "    <tr>\n",
       "      <th>17</th>\n",
       "      <td>Lmir444_bc13_fl4</td>\n",
       "      <td>TGGCACAGTCCTTTTCGTTCCAGGTTAGGTTGAGAATAGGA</td>\n",
       "      <td>25nm</td>\n",
       "      <td>STD</td>\n",
       "    </tr>\n",
       "    <tr>\n",
       "      <th>18</th>\n",
       "      <td>Lmir444_bc13_fl3</td>\n",
       "      <td>TGGCACAGTCCTTTTCGTTCCAGAGTGAGTAGTAGTGGAGT</td>\n",
       "      <td>25nm</td>\n",
       "      <td>STD</td>\n",
       "    </tr>\n",
       "    <tr>\n",
       "      <th>19</th>\n",
       "      <td>Lmir444_bc13_fl1</td>\n",
       "      <td>TGGCACAGTCCTTTTCGTTCCTGTGGAGGGATTGAAGGATA</td>\n",
       "      <td>25nm</td>\n",
       "      <td>STD</td>\n",
       "    </tr>\n",
       "    <tr>\n",
       "      <th>20</th>\n",
       "      <td>Pas111_bc16_fl5</td>\n",
       "      <td>TCCCAAGCATTACTCACCGATGATGTAGTAGTAAGGGT</td>\n",
       "      <td>25nm</td>\n",
       "      <td>STD</td>\n",
       "    </tr>\n",
       "    <tr>\n",
       "      <th>21</th>\n",
       "      <td>Pg1160_bc6_fl3</td>\n",
       "      <td>CCTCACGCCTTACGACGGAGAGTGAGTAGTAGTGGAGT</td>\n",
       "      <td>25nm</td>\n",
       "      <td>STD</td>\n",
       "    </tr>\n",
       "    <tr>\n",
       "      <th>22</th>\n",
       "      <td>Pg1160_bc6_fl2</td>\n",
       "      <td>CCTCACGCCTTACGACGGATAGGAAATGGTGGTAGTGT</td>\n",
       "      <td>25nm</td>\n",
       "      <td>STD</td>\n",
       "    </tr>\n",
       "    <tr>\n",
       "      <th>23</th>\n",
       "      <td>Cap371_bc4_fl3</td>\n",
       "      <td>TCAGTCTTCCGACCATTGAGAGTGAGTAGTAGTGGAGT</td>\n",
       "      <td>25nm</td>\n",
       "      <td>STD</td>\n",
       "    </tr>\n",
       "    <tr>\n",
       "      <th>24</th>\n",
       "      <td>Prv392_bc5_fl3</td>\n",
       "      <td>GCACGCTACTTGGCTGGAGAGTGAGTAGTAGTGGAGT</td>\n",
       "      <td>25nm</td>\n",
       "      <td>STD</td>\n",
       "    </tr>\n",
       "    <tr>\n",
       "      <th>25</th>\n",
       "      <td>Prv392_bc5_fl1</td>\n",
       "      <td>GCACGCTACTTGGCTGGTGTGGAGGGATTGAAGGATA</td>\n",
       "      <td>25nm</td>\n",
       "      <td>STD</td>\n",
       "    </tr>\n",
       "    <tr>\n",
       "      <th>26</th>\n",
       "      <td>Gem572_bc8_fl4</td>\n",
       "      <td>TAAACCACCTGCGCGCGCTTAGGTTAGGTTGAGAATAGGA</td>\n",
       "      <td>25nm</td>\n",
       "      <td>STD</td>\n",
       "    </tr>\n",
       "    <tr>\n",
       "      <th>27</th>\n",
       "      <td>Trp684_bc25_fl5</td>\n",
       "      <td>TCTACAGATTCCACCCCTACGATGATGTAGTAGTAAGGGT</td>\n",
       "      <td>25nm</td>\n",
       "      <td>STD</td>\n",
       "    </tr>\n",
       "    <tr>\n",
       "      <th>28</th>\n",
       "      <td>Trp684_bc25_fl4</td>\n",
       "      <td>TCTACAGATTCCACCCCTACAGGTTAGGTTGAGAATAGGA</td>\n",
       "      <td>25nm</td>\n",
       "      <td>STD</td>\n",
       "    </tr>\n",
       "    <tr>\n",
       "      <th>29</th>\n",
       "      <td>Trp684_bc25_fl1</td>\n",
       "      <td>TCTACAGATTCCACCCCTACTGTGGAGGGATTGAAGGATA</td>\n",
       "      <td>25nm</td>\n",
       "      <td>STD</td>\n",
       "    </tr>\n",
       "    <tr>\n",
       "      <th>30</th>\n",
       "      <td>Fus714_bc22_fl5</td>\n",
       "      <td>GGCTTCCCCATCGGCATTGATGATGTAGTAGTAAGGGT</td>\n",
       "      <td>25nm</td>\n",
       "      <td>STD</td>\n",
       "    </tr>\n",
       "    <tr>\n",
       "      <th>31</th>\n",
       "      <td>Fus714_bc22_fl3</td>\n",
       "      <td>GGCTTCCCCATCGGCATTAGAGTGAGTAGTAGTGGAGT</td>\n",
       "      <td>25nm</td>\n",
       "      <td>STD</td>\n",
       "    </tr>\n",
       "    <tr>\n",
       "      <th>32</th>\n",
       "      <td>Fus714_bc22_fl2</td>\n",
       "      <td>GGCTTCCCCATCGGCATTATAGGAAATGGTGGTAGTGT</td>\n",
       "      <td>25nm</td>\n",
       "      <td>STD</td>\n",
       "    </tr>\n",
       "    <tr>\n",
       "      <th>33</th>\n",
       "      <td>Nei1030_bc15_fl4</td>\n",
       "      <td>CCTGTGTTACGGCTCCCGAGGTTAGGTTGAGAATAGGA</td>\n",
       "      <td>25nm</td>\n",
       "      <td>STD</td>\n",
       "    </tr>\n",
       "    <tr>\n",
       "      <th>34</th>\n",
       "      <td>Nei1030_bc15_fl3</td>\n",
       "      <td>CCTGTGTTACGGCTCCCGAGAGTGAGTAGTAGTGGAGT</td>\n",
       "      <td>25nm</td>\n",
       "      <td>STD</td>\n",
       "    </tr>\n",
       "    <tr>\n",
       "      <th>35</th>\n",
       "      <td>Nei1030_bc15_fl2</td>\n",
       "      <td>CCTGTGTTACGGCTCCCGATAGGAAATGGTGGTAGTGT</td>\n",
       "      <td>25nm</td>\n",
       "      <td>STD</td>\n",
       "    </tr>\n",
       "    <tr>\n",
       "      <th>36</th>\n",
       "      <td>Nei1030_bc15_fl1</td>\n",
       "      <td>CCTGTGTTACGGCTCCCGTGTGGAGGGATTGAAGGATA</td>\n",
       "      <td>25nm</td>\n",
       "      <td>STD</td>\n",
       "    </tr>\n",
       "    <tr>\n",
       "      <th>37</th>\n",
       "      <td>TM7550_bc28_fl5</td>\n",
       "      <td>CCCAGTCACTCCGGATAAGATGATGTAGTAGTAAGGGT</td>\n",
       "      <td>25nm</td>\n",
       "      <td>STD</td>\n",
       "    </tr>\n",
       "    <tr>\n",
       "      <th>38</th>\n",
       "      <td>TM7550_bc28_fl4</td>\n",
       "      <td>CCCAGTCACTCCGGATAAAGGTTAGGTTGAGAATAGGA</td>\n",
       "      <td>25nm</td>\n",
       "      <td>STD</td>\n",
       "    </tr>\n",
       "    <tr>\n",
       "      <th>39</th>\n",
       "      <td>TM7550_bc28_fl3</td>\n",
       "      <td>CCCAGTCACTCCGGATAAAGAGTGAGTAGTAGTGGAGT</td>\n",
       "      <td>25nm</td>\n",
       "      <td>STD</td>\n",
       "    </tr>\n",
       "  </tbody>\n",
       "</table>\n",
       "</div>"
      ],
      "text/plain": [
       "                Name                                   Sequence Scale  \\\n",
       "0     Str405_bc7_fl3     TAGCCGTCCCTTTCTGGTAGAGTGAGTAGTAGTGGAGT  25nm   \n",
       "1     Str405_bc7_fl2     TAGCCGTCCCTTTCTGGTATAGGAAATGGTGGTAGTGT  25nm   \n",
       "2     Str405_bc7_fl1     TAGCCGTCCCTTTCTGGTTGTGGAGGGATTGAAGGATA  25nm   \n",
       "3    Vei488_bc10_fl4     CCGTGGCTTTCTATTCCGAGGTTAGGTTGAGAATAGGA  25nm   \n",
       "4    Vei488_bc10_fl2     CCGTGGCTTTCTATTCCGATAGGAAATGGTGGTAGTGT  25nm   \n",
       "5     Rot491_bc3_fl2     TAGCCGGCGCTTTCTCTGATAGGAAATGGTGGTAGTGT  25nm   \n",
       "6     Rot491_bc3_fl1     TAGCCGGCGCTTTCTCTGTGTGGAGGGATTGAAGGATA  25nm   \n",
       "7     Act476_bc1_fl1     ATCCAGCTACCGTCAACCTGTGGAGGGATTGAAGGATA  25nm   \n",
       "8     Sel60_bc12_fl4     TCATTCGCTCCGTTCGACAGGTTAGGTTGAGAATAGGA  25nm   \n",
       "9     Sel60_bc12_fl3     TCATTCGCTCCGTTCGACAGAGTGAGTAGTAGTGGAGT  25nm   \n",
       "10  Cam1021_bc17_fl5   ATTTCTGCAAGCAGACACTCGATGATGTAGTAGTAAGGGT  25nm   \n",
       "11  Cam1021_bc17_fl1   ATTTCTGCAAGCAGACACTCTGTGGAGGGATTGAAGGATA  25nm   \n",
       "12    Cor595_bc2_fl2   CCGGAATTTCACAGACGACGATAGGAAATGGTGGTAGTGT  25nm   \n",
       "13    Cor633_bc2_fl2   AGTTATGCCCGTATCGCCTGATAGGAAATGGTGGTAGTGT  25nm   \n",
       "14   Cmat175_bc2_fl2  ACTAAACCATGGTCCTATCCGATAGGAAATGGTGGTAGTGT  25nm   \n",
       "15   Lep568_bc24_fl5     GCCTAGATGCCCTTTATGGATGATGTAGTAGTAAGGGT  25nm   \n",
       "16   Lep568_bc24_fl4     GCCTAGATGCCCTTTATGAGGTTAGGTTGAGAATAGGA  25nm   \n",
       "17  Lmir444_bc13_fl4  TGGCACAGTCCTTTTCGTTCCAGGTTAGGTTGAGAATAGGA  25nm   \n",
       "18  Lmir444_bc13_fl3  TGGCACAGTCCTTTTCGTTCCAGAGTGAGTAGTAGTGGAGT  25nm   \n",
       "19  Lmir444_bc13_fl1  TGGCACAGTCCTTTTCGTTCCTGTGGAGGGATTGAAGGATA  25nm   \n",
       "20   Pas111_bc16_fl5     TCCCAAGCATTACTCACCGATGATGTAGTAGTAAGGGT  25nm   \n",
       "21    Pg1160_bc6_fl3     CCTCACGCCTTACGACGGAGAGTGAGTAGTAGTGGAGT  25nm   \n",
       "22    Pg1160_bc6_fl2     CCTCACGCCTTACGACGGATAGGAAATGGTGGTAGTGT  25nm   \n",
       "23    Cap371_bc4_fl3     TCAGTCTTCCGACCATTGAGAGTGAGTAGTAGTGGAGT  25nm   \n",
       "24    Prv392_bc5_fl3      GCACGCTACTTGGCTGGAGAGTGAGTAGTAGTGGAGT  25nm   \n",
       "25    Prv392_bc5_fl1      GCACGCTACTTGGCTGGTGTGGAGGGATTGAAGGATA  25nm   \n",
       "26    Gem572_bc8_fl4   TAAACCACCTGCGCGCGCTTAGGTTAGGTTGAGAATAGGA  25nm   \n",
       "27   Trp684_bc25_fl5   TCTACAGATTCCACCCCTACGATGATGTAGTAGTAAGGGT  25nm   \n",
       "28   Trp684_bc25_fl4   TCTACAGATTCCACCCCTACAGGTTAGGTTGAGAATAGGA  25nm   \n",
       "29   Trp684_bc25_fl1   TCTACAGATTCCACCCCTACTGTGGAGGGATTGAAGGATA  25nm   \n",
       "30   Fus714_bc22_fl5     GGCTTCCCCATCGGCATTGATGATGTAGTAGTAAGGGT  25nm   \n",
       "31   Fus714_bc22_fl3     GGCTTCCCCATCGGCATTAGAGTGAGTAGTAGTGGAGT  25nm   \n",
       "32   Fus714_bc22_fl2     GGCTTCCCCATCGGCATTATAGGAAATGGTGGTAGTGT  25nm   \n",
       "33  Nei1030_bc15_fl4     CCTGTGTTACGGCTCCCGAGGTTAGGTTGAGAATAGGA  25nm   \n",
       "34  Nei1030_bc15_fl3     CCTGTGTTACGGCTCCCGAGAGTGAGTAGTAGTGGAGT  25nm   \n",
       "35  Nei1030_bc15_fl2     CCTGTGTTACGGCTCCCGATAGGAAATGGTGGTAGTGT  25nm   \n",
       "36  Nei1030_bc15_fl1     CCTGTGTTACGGCTCCCGTGTGGAGGGATTGAAGGATA  25nm   \n",
       "37   TM7550_bc28_fl5     CCCAGTCACTCCGGATAAGATGATGTAGTAGTAAGGGT  25nm   \n",
       "38   TM7550_bc28_fl4     CCCAGTCACTCCGGATAAAGGTTAGGTTGAGAATAGGA  25nm   \n",
       "39   TM7550_bc28_fl3     CCCAGTCACTCCGGATAAAGAGTGAGTAGTAGTGGAGT  25nm   \n",
       "\n",
       "   Purification  \n",
       "0           STD  \n",
       "1           STD  \n",
       "2           STD  \n",
       "3           STD  \n",
       "4           STD  \n",
       "5           STD  \n",
       "6           STD  \n",
       "7           STD  \n",
       "8           STD  \n",
       "9           STD  \n",
       "10          STD  \n",
       "11          STD  \n",
       "12          STD  \n",
       "13          STD  \n",
       "14          STD  \n",
       "15          STD  \n",
       "16          STD  \n",
       "17          STD  \n",
       "18          STD  \n",
       "19          STD  \n",
       "20          STD  \n",
       "21          STD  \n",
       "22          STD  \n",
       "23          STD  \n",
       "24          STD  \n",
       "25          STD  \n",
       "26          STD  \n",
       "27          STD  \n",
       "28          STD  \n",
       "29          STD  \n",
       "30          STD  \n",
       "31          STD  \n",
       "32          STD  \n",
       "33          STD  \n",
       "34          STD  \n",
       "35          STD  \n",
       "36          STD  \n",
       "37          STD  \n",
       "38          STD  \n",
       "39          STD  "
      ]
     },
     "execution_count": 118,
     "metadata": {},
     "output_type": "execute_result"
    }
   ],
   "source": [
    "names = []\n",
    "seqs = []\n",
    "for tax, probes_flank in dict_tax_probe_flank.items():\n",
    "    probe_names = dict_tax_probename[tax]\n",
    "    bc = dict_tax_bc_new[tax]\n",
    "    bc_b10 = int(str(bc),2)\n",
    "    for n, seq in probes_flank.items():\n",
    "        for s in seq:\n",
    "            name = n + '_bc' + str(bc_b10) + '_fl' + str(s[1])\n",
    "            names.append(name)\n",
    "            seqs.append(s[0])\n",
    "\n",
    "df_idt = pd.DataFrame({'Name':names, 'Sequence':seqs})\n",
    "df_idt['Scale'] = '25nm'\n",
    "df_idt['Purification'] = 'STD'\n",
    "\n",
    "df_idt_fn = 'welch2016_5b_distant_IDT_v3.csv'\n",
    "df_idt.to_csv(df_idt_fn, index=False)\n",
    "df_idt\n",
    "\n"
   ]
  },
  {
   "cell_type": "markdown",
   "metadata": {},
   "source": [
    "## Adjust 5b design for two flanking regions"
   ]
  },
  {
   "cell_type": "markdown",
   "metadata": {},
   "source": [
    "Get old barcode dict"
   ]
  },
  {
   "cell_type": "code",
   "execution_count": 72,
   "metadata": {},
   "outputs": [
    {
     "data": {
      "text/plain": [
       "{'Actinomyces': '00001',\n",
       " 'Campylobacter': '10001',\n",
       " 'Capnocytophaga': '00100',\n",
       " 'Corynebacterium': '00010',\n",
       " 'Fusobacterium': '10110',\n",
       " 'Gemella': '01000',\n",
       " 'Lautropia': '01101',\n",
       " 'Leptotrichia': '11000',\n",
       " 'Neisseriaceae': '01111',\n",
       " 'Pasteurellaceae': '10000',\n",
       " 'Porphyromonas': '00110',\n",
       " 'Prevotella': '00101',\n",
       " 'Rothia': '00011',\n",
       " 'Selenomonas': '01100',\n",
       " 'Streptococcus': '00111',\n",
       " 'TM7': '11100',\n",
       " 'Treponema': '11001',\n",
       " 'Veillonella': '01010'}"
      ]
     },
     "execution_count": 72,
     "metadata": {},
     "output_type": "execute_result"
    }
   ],
   "source": [
    "# dict_tax_bc_newish = {\n",
    "#     'Streptococcus':'111',\n",
    "#     'Veillonella':'1010',\n",
    "#     'Rothia':'11',\n",
    "#     'Actinomyces':'1',\n",
    "#     'Selenomonas':'1100',\n",
    "#     'Campylobacter':'10001',\n",
    "#     'Corynebacterium':'10',\n",
    "#     'Leptotrichia':'11000',\n",
    "#     'Lautropia':'1101',\n",
    "#     'Pasteurellaceae':'10000',\n",
    "#     'Porphyromonas':'110',\n",
    "#     'Capnocytophaga':'100',\n",
    "#     'Prevotella':'101',\n",
    "#     'Gemella':'1000',\n",
    "#     'Treponema':'11001',\n",
    "#     'Fusobacterium':'10110',\n",
    "#     'Neisseriaceae':'1111',\n",
    "#     'TM7':'11100'\n",
    "# }\n",
    "# dict_tax_bc_newish = {k:v.zfill(5) for k, v in dict_tax_bc_newish.items()}\n",
    "# dict_tax_bc_newish_sort = {k: (dict_tax_bc_newish[k]) for k in sorted(list(dict_tax_bc_newish.keys()))}\n",
    "\n",
    "# dict_tax_bc_newish_sort"
   ]
  },
  {
   "cell_type": "markdown",
   "metadata": {},
   "source": [
    "Plot the spectra"
   ]
  },
  {
   "cell_type": "code",
   "execution_count": null,
   "metadata": {},
   "outputs": [],
   "source": [
    "# dict_bc_ind = dict(zip(barcodes_str, np.arange(len(barcodes_str))))\n",
    "# dict_bc_ind\n"
   ]
  },
  {
   "cell_type": "markdown",
   "metadata": {},
   "source": [
    "Recode Treponema to not be the same code as in distant_v3"
   ]
  },
  {
   "cell_type": "code",
   "execution_count": 73,
   "metadata": {},
   "outputs": [],
   "source": [
    "dict_tax_bc_new['Treponema'] = 111\n",
    "dict_tax_bc_new['Veillonella'] = 11001\n",
    "\n",
    "# for sci_name, bc in dict_tax_bc_new.items():\n",
    "#     ind = dict_bc_ind[bc]\n",
    "#     spec = weights_sum_norm[ind]\n",
    "#     fig, ax = ip.general_plot(dims=(10,5))\n",
    "#     fsi.plot_cell_spectra(ax, spec[None,:], {'lw':1,'alpha':1,'color':'r'})\n",
    "#     ax.set_title(sci_name)"
   ]
  },
  {
   "cell_type": "markdown",
   "metadata": {},
   "source": [
    "Append flanking regions to sequences"
   ]
  },
  {
   "cell_type": "code",
   "execution_count": 77,
   "metadata": {},
   "outputs": [
    {
     "data": {
      "text/plain": [
       "{'Actinomyces': {'Act476': [['AGGTTAGGTTGAGAATAGGA ATCCAGCTACCGTCAACC ATAGGAAATGGTGGTAGTGT',\n",
       "    4,\n",
       "    2],\n",
       "   ['ATAGGAAATGGTGGTAGTGT ATCCAGCTACCGTCAACC AGGTTAGGTTGAGAATAGGA', 2, 4]]},\n",
       " 'Corynebacterium': {'Cor595': [['TGTGGAGGGATTGAAGGATA CCGGAATTTCACAGACGACG TGTGGAGGGATTGAAGGATA',\n",
       "    1,\n",
       "    1]],\n",
       "  'Cor633': [['TGTGGAGGGATTGAAGGATA AGTTATGCCCGTATCGCCTG TGTGGAGGGATTGAAGGATA',\n",
       "    1,\n",
       "    1]],\n",
       "  'Cmat175': [['TGTGGAGGGATTGAAGGATA ACTAAACCATGGTCCTATCCG TGTGGAGGGATTGAAGGATA',\n",
       "    1,\n",
       "    1]]},\n",
       " 'Rothia': {'Rot491': [['GATGATGTAGTAGTAAGGGT TAGCCGGCGCTTTCTCTG AGGTTAGGTTGAGAATAGGA',\n",
       "    5,\n",
       "    4],\n",
       "   ['AGGTTAGGTTGAGAATAGGA TAGCCGGCGCTTTCTCTG GATGATGTAGTAGTAAGGGT', 4, 5]]},\n",
       " 'Capnocytophaga': {'Cap371': [['GATGATGTAGTAGTAAGGGT TCAGTCTTCCGACCATTG TGTGGAGGGATTGAAGGATA',\n",
       "    5,\n",
       "    1],\n",
       "   ['TGTGGAGGGATTGAAGGATA TCAGTCTTCCGACCATTG GATGATGTAGTAGTAAGGGT', 1, 5]]},\n",
       " 'Prevotella': {'Prv392': [['AGGTTAGGTTGAGAATAGGA GCACGCTACTTGGCTGG AGGTTAGGTTGAGAATAGGA',\n",
       "    4,\n",
       "    4]]},\n",
       " 'Porphyromonas': {'Pg1160': [['ATAGGAAATGGTGGTAGTGT CCTCACGCCTTACGACGG ATAGGAAATGGTGGTAGTGT',\n",
       "    2,\n",
       "    2]]},\n",
       " 'Streptococcus': {'Str405': [['AGAGTGAGTAGTAGTGGAGT TAGCCGTCCCTTTCTGGT ATAGGAAATGGTGGTAGTGT',\n",
       "    3,\n",
       "    2],\n",
       "   ['ATAGGAAATGGTGGTAGTGT TAGCCGTCCCTTTCTGGT AGAGTGAGTAGTAGTGGAGT', 2, 3]]},\n",
       " 'Gemella': {'Gem572': [['GATGATGTAGTAGTAAGGGT TAAACCACCTGCGCGCGCTT AGAGTGAGTAGTAGTGGAGT',\n",
       "    5,\n",
       "    3],\n",
       "   ['AGAGTGAGTAGTAGTGGAGT TAAACCACCTGCGCGCGCTT GATGATGTAGTAGTAAGGGT', 3, 5]]},\n",
       " 'Veillonella': {'Vei488': [['GATGATGTAGTAGTAAGGGT CCGTGGCTTTCTATTCCG AGGTTAGGTTGAGAATAGGA',\n",
       "    5,\n",
       "    4],\n",
       "   ['AGGTTAGGTTGAGAATAGGA CCGTGGCTTTCTATTCCG TGTGGAGGGATTGAAGGATA', 4, 1],\n",
       "   ['TGTGGAGGGATTGAAGGATA CCGTGGCTTTCTATTCCG GATGATGTAGTAGTAAGGGT', 1, 5]]},\n",
       " 'Selenomonas': {'Sel60': [['ATAGGAAATGGTGGTAGTGT TCATTCGCTCCGTTCGAC TGTGGAGGGATTGAAGGATA',\n",
       "    2,\n",
       "    1],\n",
       "   ['TGTGGAGGGATTGAAGGATA TCATTCGCTCCGTTCGAC ATAGGAAATGGTGGTAGTGT', 1, 2]]},\n",
       " 'Lautropia': {'Lmir444': [['AGGTTAGGTTGAGAATAGGA TGGCACAGTCCTTTTCGTTCC AGAGTGAGTAGTAGTGGAGT',\n",
       "    4,\n",
       "    3],\n",
       "   ['AGAGTGAGTAGTAGTGGAGT TGGCACAGTCCTTTTCGTTCC AGGTTAGGTTGAGAATAGGA', 3, 4]]},\n",
       " 'Neisseriaceae': {'Nei1030': [['GATGATGTAGTAGTAAGGGT CCTGTGTTACGGCTCCCG ATAGGAAATGGTGGTAGTGT',\n",
       "    5,\n",
       "    2],\n",
       "   ['ATAGGAAATGGTGGTAGTGT CCTGTGTTACGGCTCCCG GATGATGTAGTAGTAAGGGT', 2, 5]]},\n",
       " 'Pasteurellaceae': {'Pas111': [['AGAGTGAGTAGTAGTGGAGT TCCCAAGCATTACTCACC TGTGGAGGGATTGAAGGATA',\n",
       "    3,\n",
       "    1],\n",
       "   ['TGTGGAGGGATTGAAGGATA TCCCAAGCATTACTCACC AGAGTGAGTAGTAGTGGAGT', 1, 3]]},\n",
       " 'Campylobacter': {'Cam1021': [['GATGATGTAGTAGTAAGGGT ATTTCTGCAAGCAGACACTC GATGATGTAGTAGTAAGGGT',\n",
       "    5,\n",
       "    5]]},\n",
       " 'Fusobacterium': {'Fus714': [['AGGTTAGGTTGAGAATAGGA GGCTTCCCCATCGGCATT ATAGGAAATGGTGGTAGTGT',\n",
       "    4,\n",
       "    2],\n",
       "   ['ATAGGAAATGGTGGTAGTGT GGCTTCCCCATCGGCATT TGTGGAGGGATTGAAGGATA', 2, 1],\n",
       "   ['TGTGGAGGGATTGAAGGATA GGCTTCCCCATCGGCATT AGGTTAGGTTGAGAATAGGA', 1, 4]]},\n",
       " 'Leptotrichia': {'Lep568': [['AGAGTGAGTAGTAGTGGAGT GCCTAGATGCCCTTTATG AGAGTGAGTAGTAGTGGAGT',\n",
       "    3,\n",
       "    3]]},\n",
       " 'Treponema': {'Trp684': [['AGAGTGAGTAGTAGTGGAGT TCTACAGATTCCACCCCTAC ATAGGAAATGGTGGTAGTGT',\n",
       "    3,\n",
       "    2],\n",
       "   ['ATAGGAAATGGTGGTAGTGT TCTACAGATTCCACCCCTAC TGTGGAGGGATTGAAGGATA', 2, 1],\n",
       "   ['TGTGGAGGGATTGAAGGATA TCTACAGATTCCACCCCTAC AGAGTGAGTAGTAGTGGAGT', 1, 3]]},\n",
       " 'TM7': {'TM7550': [['AGGTTAGGTTGAGAATAGGA CCCAGTCACTCCGGATAA AGAGTGAGTAGTAGTGGAGT',\n",
       "    4,\n",
       "    3],\n",
       "   ['AGAGTGAGTAGTAGTGGAGT CCCAGTCACTCCGGATAA TGTGGAGGGATTGAAGGATA', 3, 1],\n",
       "   ['TGTGGAGGGATTGAAGGATA CCCAGTCACTCCGGATAA AGGTTAGGTTGAGAATAGGA', 1, 4]]}}"
      ]
     },
     "execution_count": 77,
     "metadata": {},
     "output_type": "execute_result"
    }
   ],
   "source": [
    "dict_tax_probe_flank = {}\n",
    "for tax, bc in dict_tax_bc_new.items():\n",
    "    probes = dict_tax_probe[tax]\n",
    "    names = dict_tax_probename[tax]\n",
    "    dict_ = {}\n",
    "    for p, n in zip(probes, names):\n",
    "        dict_[n] = []\n",
    "        bc_ = str(bc).zfill(5)\n",
    "        flanks = []\n",
    "        flank_inds = []\n",
    "        for i, bit in enumerate(bc_):\n",
    "            if int(bit):\n",
    "                flanks.append(dict_bit_seq[i])\n",
    "                flank_inds.append(i)\n",
    "        flanks_append = flanks + flanks[:1]\n",
    "        flank_inds_append = flank_inds + flank_inds[:1]\n",
    "        for i in range(len(flanks)):\n",
    "            f0 = flanks_append[i]\n",
    "            f1 = flanks_append[i+1]\n",
    "            i0 = flank_inds_append[i]\n",
    "            i1 = flank_inds_append[i+1]\n",
    "            probe_flank = f0 + ' ' + p + ' ' + f1\n",
    "            dict_[n].append([probe_flank, 5 - i0, 5 - i1])\n",
    "    dict_tax_probe_flank[tax] = dict_\n",
    "\n",
    "dict_tax_probe_flank\n"
   ]
  },
  {
   "cell_type": "markdown",
   "metadata": {},
   "source": [
    "Make probe design file"
   ]
  },
  {
   "cell_type": "code",
   "execution_count": 78,
   "metadata": {},
   "outputs": [
    {
     "data": {
      "text/html": [
       "<div>\n",
       "<style scoped>\n",
       "    .dataframe tbody tr th:only-of-type {\n",
       "        vertical-align: middle;\n",
       "    }\n",
       "\n",
       "    .dataframe tbody tr th {\n",
       "        vertical-align: top;\n",
       "    }\n",
       "\n",
       "    .dataframe thead th {\n",
       "        text-align: right;\n",
       "    }\n",
       "</style>\n",
       "<table border=\"1\" class=\"dataframe\">\n",
       "  <thead>\n",
       "    <tr style=\"text-align: right;\">\n",
       "      <th></th>\n",
       "      <th>sci_name</th>\n",
       "      <th>code</th>\n",
       "    </tr>\n",
       "  </thead>\n",
       "  <tbody>\n",
       "    <tr>\n",
       "      <th>0</th>\n",
       "      <td>Actinomyces</td>\n",
       "      <td>1010</td>\n",
       "    </tr>\n",
       "    <tr>\n",
       "      <th>1</th>\n",
       "      <td>Corynebacterium</td>\n",
       "      <td>1</td>\n",
       "    </tr>\n",
       "    <tr>\n",
       "      <th>2</th>\n",
       "      <td>Rothia</td>\n",
       "      <td>11000</td>\n",
       "    </tr>\n",
       "    <tr>\n",
       "      <th>3</th>\n",
       "      <td>Capnocytophaga</td>\n",
       "      <td>10001</td>\n",
       "    </tr>\n",
       "    <tr>\n",
       "      <th>4</th>\n",
       "      <td>Prevotella</td>\n",
       "      <td>1000</td>\n",
       "    </tr>\n",
       "    <tr>\n",
       "      <th>5</th>\n",
       "      <td>Porphyromonas</td>\n",
       "      <td>10</td>\n",
       "    </tr>\n",
       "    <tr>\n",
       "      <th>6</th>\n",
       "      <td>Streptococcus</td>\n",
       "      <td>110</td>\n",
       "    </tr>\n",
       "    <tr>\n",
       "      <th>7</th>\n",
       "      <td>Gemella</td>\n",
       "      <td>10100</td>\n",
       "    </tr>\n",
       "    <tr>\n",
       "      <th>8</th>\n",
       "      <td>Veillonella</td>\n",
       "      <td>11001</td>\n",
       "    </tr>\n",
       "    <tr>\n",
       "      <th>9</th>\n",
       "      <td>Selenomonas</td>\n",
       "      <td>11</td>\n",
       "    </tr>\n",
       "    <tr>\n",
       "      <th>10</th>\n",
       "      <td>Lautropia</td>\n",
       "      <td>1100</td>\n",
       "    </tr>\n",
       "    <tr>\n",
       "      <th>11</th>\n",
       "      <td>Neisseriaceae</td>\n",
       "      <td>10010</td>\n",
       "    </tr>\n",
       "    <tr>\n",
       "      <th>12</th>\n",
       "      <td>Pasteurellaceae</td>\n",
       "      <td>101</td>\n",
       "    </tr>\n",
       "    <tr>\n",
       "      <th>13</th>\n",
       "      <td>Campylobacter</td>\n",
       "      <td>10000</td>\n",
       "    </tr>\n",
       "    <tr>\n",
       "      <th>14</th>\n",
       "      <td>Fusobacterium</td>\n",
       "      <td>1011</td>\n",
       "    </tr>\n",
       "    <tr>\n",
       "      <th>15</th>\n",
       "      <td>Leptotrichia</td>\n",
       "      <td>100</td>\n",
       "    </tr>\n",
       "    <tr>\n",
       "      <th>16</th>\n",
       "      <td>Treponema</td>\n",
       "      <td>111</td>\n",
       "    </tr>\n",
       "    <tr>\n",
       "      <th>17</th>\n",
       "      <td>TM7</td>\n",
       "      <td>1101</td>\n",
       "    </tr>\n",
       "  </tbody>\n",
       "</table>\n",
       "</div>"
      ],
      "text/plain": [
       "           sci_name   code\n",
       "0       Actinomyces   1010\n",
       "1   Corynebacterium      1\n",
       "2            Rothia  11000\n",
       "3    Capnocytophaga  10001\n",
       "4        Prevotella   1000\n",
       "5     Porphyromonas     10\n",
       "6     Streptococcus    110\n",
       "7           Gemella  10100\n",
       "8       Veillonella  11001\n",
       "9       Selenomonas     11\n",
       "10        Lautropia   1100\n",
       "11    Neisseriaceae  10010\n",
       "12  Pasteurellaceae    101\n",
       "13    Campylobacter  10000\n",
       "14    Fusobacterium   1011\n",
       "15     Leptotrichia    100\n",
       "16        Treponema    111\n",
       "17              TM7   1101"
      ]
     },
     "execution_count": 78,
     "metadata": {},
     "output_type": "execute_result"
    }
   ],
   "source": [
    "df_tax_bc = pd.DataFrame({'sci_name': dict_tax_bc_new.keys(), 'code': dict_tax_bc_new.values()})\n",
    "new_design_5b_fn = 'welch2016_5b_distant_v4_doubleflank.csv'\n",
    "df_tax_bc.to_csv(new_design_5b_fn, index=False)\n",
    "df_tax_bc\n"
   ]
  },
  {
   "cell_type": "markdown",
   "metadata": {},
   "source": [
    "Make IDT order file"
   ]
  },
  {
   "cell_type": "code",
   "execution_count": 79,
   "metadata": {},
   "outputs": [
    {
     "data": {
      "text/html": [
       "<div>\n",
       "<style scoped>\n",
       "    .dataframe tbody tr th:only-of-type {\n",
       "        vertical-align: middle;\n",
       "    }\n",
       "\n",
       "    .dataframe tbody tr th {\n",
       "        vertical-align: top;\n",
       "    }\n",
       "\n",
       "    .dataframe thead th {\n",
       "        text-align: right;\n",
       "    }\n",
       "</style>\n",
       "<table border=\"1\" class=\"dataframe\">\n",
       "  <thead>\n",
       "    <tr style=\"text-align: right;\">\n",
       "      <th></th>\n",
       "      <th>Name</th>\n",
       "      <th>Sequence</th>\n",
       "      <th>Scale</th>\n",
       "      <th>Purification</th>\n",
       "    </tr>\n",
       "  </thead>\n",
       "  <tbody>\n",
       "    <tr>\n",
       "      <th>0</th>\n",
       "      <td>Act476_fl_4_2</td>\n",
       "      <td>AGGTTAGGTTGAGAATAGGA ATCCAGCTACCGTCAACC ATAGGA...</td>\n",
       "      <td>25nm</td>\n",
       "      <td>STD</td>\n",
       "    </tr>\n",
       "    <tr>\n",
       "      <th>1</th>\n",
       "      <td>Act476_fl_2_4</td>\n",
       "      <td>ATAGGAAATGGTGGTAGTGT ATCCAGCTACCGTCAACC AGGTTA...</td>\n",
       "      <td>25nm</td>\n",
       "      <td>STD</td>\n",
       "    </tr>\n",
       "    <tr>\n",
       "      <th>2</th>\n",
       "      <td>Cor595_fl_1_1</td>\n",
       "      <td>TGTGGAGGGATTGAAGGATA CCGGAATTTCACAGACGACG TGTG...</td>\n",
       "      <td>25nm</td>\n",
       "      <td>STD</td>\n",
       "    </tr>\n",
       "    <tr>\n",
       "      <th>3</th>\n",
       "      <td>Cor633_fl_1_1</td>\n",
       "      <td>TGTGGAGGGATTGAAGGATA AGTTATGCCCGTATCGCCTG TGTG...</td>\n",
       "      <td>25nm</td>\n",
       "      <td>STD</td>\n",
       "    </tr>\n",
       "    <tr>\n",
       "      <th>4</th>\n",
       "      <td>Cmat175_fl_1_1</td>\n",
       "      <td>TGTGGAGGGATTGAAGGATA ACTAAACCATGGTCCTATCCG TGT...</td>\n",
       "      <td>25nm</td>\n",
       "      <td>STD</td>\n",
       "    </tr>\n",
       "    <tr>\n",
       "      <th>5</th>\n",
       "      <td>Rot491_fl_5_4</td>\n",
       "      <td>GATGATGTAGTAGTAAGGGT TAGCCGGCGCTTTCTCTG AGGTTA...</td>\n",
       "      <td>25nm</td>\n",
       "      <td>STD</td>\n",
       "    </tr>\n",
       "    <tr>\n",
       "      <th>6</th>\n",
       "      <td>Rot491_fl_4_5</td>\n",
       "      <td>AGGTTAGGTTGAGAATAGGA TAGCCGGCGCTTTCTCTG GATGAT...</td>\n",
       "      <td>25nm</td>\n",
       "      <td>STD</td>\n",
       "    </tr>\n",
       "    <tr>\n",
       "      <th>7</th>\n",
       "      <td>Cap371_fl_5_1</td>\n",
       "      <td>GATGATGTAGTAGTAAGGGT TCAGTCTTCCGACCATTG TGTGGA...</td>\n",
       "      <td>25nm</td>\n",
       "      <td>STD</td>\n",
       "    </tr>\n",
       "    <tr>\n",
       "      <th>8</th>\n",
       "      <td>Cap371_fl_1_5</td>\n",
       "      <td>TGTGGAGGGATTGAAGGATA TCAGTCTTCCGACCATTG GATGAT...</td>\n",
       "      <td>25nm</td>\n",
       "      <td>STD</td>\n",
       "    </tr>\n",
       "    <tr>\n",
       "      <th>9</th>\n",
       "      <td>Prv392_fl_4_4</td>\n",
       "      <td>AGGTTAGGTTGAGAATAGGA GCACGCTACTTGGCTGG AGGTTAG...</td>\n",
       "      <td>25nm</td>\n",
       "      <td>STD</td>\n",
       "    </tr>\n",
       "    <tr>\n",
       "      <th>10</th>\n",
       "      <td>Pg1160_fl_2_2</td>\n",
       "      <td>ATAGGAAATGGTGGTAGTGT CCTCACGCCTTACGACGG ATAGGA...</td>\n",
       "      <td>25nm</td>\n",
       "      <td>STD</td>\n",
       "    </tr>\n",
       "    <tr>\n",
       "      <th>11</th>\n",
       "      <td>Str405_fl_3_2</td>\n",
       "      <td>AGAGTGAGTAGTAGTGGAGT TAGCCGTCCCTTTCTGGT ATAGGA...</td>\n",
       "      <td>25nm</td>\n",
       "      <td>STD</td>\n",
       "    </tr>\n",
       "    <tr>\n",
       "      <th>12</th>\n",
       "      <td>Str405_fl_2_3</td>\n",
       "      <td>ATAGGAAATGGTGGTAGTGT TAGCCGTCCCTTTCTGGT AGAGTG...</td>\n",
       "      <td>25nm</td>\n",
       "      <td>STD</td>\n",
       "    </tr>\n",
       "    <tr>\n",
       "      <th>13</th>\n",
       "      <td>Gem572_fl_5_3</td>\n",
       "      <td>GATGATGTAGTAGTAAGGGT TAAACCACCTGCGCGCGCTT AGAG...</td>\n",
       "      <td>25nm</td>\n",
       "      <td>STD</td>\n",
       "    </tr>\n",
       "    <tr>\n",
       "      <th>14</th>\n",
       "      <td>Gem572_fl_3_5</td>\n",
       "      <td>AGAGTGAGTAGTAGTGGAGT TAAACCACCTGCGCGCGCTT GATG...</td>\n",
       "      <td>25nm</td>\n",
       "      <td>STD</td>\n",
       "    </tr>\n",
       "    <tr>\n",
       "      <th>15</th>\n",
       "      <td>Vei488_fl_5_4</td>\n",
       "      <td>GATGATGTAGTAGTAAGGGT CCGTGGCTTTCTATTCCG AGGTTA...</td>\n",
       "      <td>25nm</td>\n",
       "      <td>STD</td>\n",
       "    </tr>\n",
       "    <tr>\n",
       "      <th>16</th>\n",
       "      <td>Vei488_fl_4_1</td>\n",
       "      <td>AGGTTAGGTTGAGAATAGGA CCGTGGCTTTCTATTCCG TGTGGA...</td>\n",
       "      <td>25nm</td>\n",
       "      <td>STD</td>\n",
       "    </tr>\n",
       "    <tr>\n",
       "      <th>17</th>\n",
       "      <td>Vei488_fl_1_5</td>\n",
       "      <td>TGTGGAGGGATTGAAGGATA CCGTGGCTTTCTATTCCG GATGAT...</td>\n",
       "      <td>25nm</td>\n",
       "      <td>STD</td>\n",
       "    </tr>\n",
       "    <tr>\n",
       "      <th>18</th>\n",
       "      <td>Sel60_fl_2_1</td>\n",
       "      <td>ATAGGAAATGGTGGTAGTGT TCATTCGCTCCGTTCGAC TGTGGA...</td>\n",
       "      <td>25nm</td>\n",
       "      <td>STD</td>\n",
       "    </tr>\n",
       "    <tr>\n",
       "      <th>19</th>\n",
       "      <td>Sel60_fl_1_2</td>\n",
       "      <td>TGTGGAGGGATTGAAGGATA TCATTCGCTCCGTTCGAC ATAGGA...</td>\n",
       "      <td>25nm</td>\n",
       "      <td>STD</td>\n",
       "    </tr>\n",
       "    <tr>\n",
       "      <th>20</th>\n",
       "      <td>Lmir444_fl_4_3</td>\n",
       "      <td>AGGTTAGGTTGAGAATAGGA TGGCACAGTCCTTTTCGTTCC AGA...</td>\n",
       "      <td>25nm</td>\n",
       "      <td>STD</td>\n",
       "    </tr>\n",
       "    <tr>\n",
       "      <th>21</th>\n",
       "      <td>Lmir444_fl_3_4</td>\n",
       "      <td>AGAGTGAGTAGTAGTGGAGT TGGCACAGTCCTTTTCGTTCC AGG...</td>\n",
       "      <td>25nm</td>\n",
       "      <td>STD</td>\n",
       "    </tr>\n",
       "    <tr>\n",
       "      <th>22</th>\n",
       "      <td>Nei1030_fl_5_2</td>\n",
       "      <td>GATGATGTAGTAGTAAGGGT CCTGTGTTACGGCTCCCG ATAGGA...</td>\n",
       "      <td>25nm</td>\n",
       "      <td>STD</td>\n",
       "    </tr>\n",
       "    <tr>\n",
       "      <th>23</th>\n",
       "      <td>Nei1030_fl_2_5</td>\n",
       "      <td>ATAGGAAATGGTGGTAGTGT CCTGTGTTACGGCTCCCG GATGAT...</td>\n",
       "      <td>25nm</td>\n",
       "      <td>STD</td>\n",
       "    </tr>\n",
       "    <tr>\n",
       "      <th>24</th>\n",
       "      <td>Pas111_fl_3_1</td>\n",
       "      <td>AGAGTGAGTAGTAGTGGAGT TCCCAAGCATTACTCACC TGTGGA...</td>\n",
       "      <td>25nm</td>\n",
       "      <td>STD</td>\n",
       "    </tr>\n",
       "    <tr>\n",
       "      <th>25</th>\n",
       "      <td>Pas111_fl_1_3</td>\n",
       "      <td>TGTGGAGGGATTGAAGGATA TCCCAAGCATTACTCACC AGAGTG...</td>\n",
       "      <td>25nm</td>\n",
       "      <td>STD</td>\n",
       "    </tr>\n",
       "    <tr>\n",
       "      <th>26</th>\n",
       "      <td>Cam1021_fl_5_5</td>\n",
       "      <td>GATGATGTAGTAGTAAGGGT ATTTCTGCAAGCAGACACTC GATG...</td>\n",
       "      <td>25nm</td>\n",
       "      <td>STD</td>\n",
       "    </tr>\n",
       "    <tr>\n",
       "      <th>27</th>\n",
       "      <td>Fus714_fl_4_2</td>\n",
       "      <td>AGGTTAGGTTGAGAATAGGA GGCTTCCCCATCGGCATT ATAGGA...</td>\n",
       "      <td>25nm</td>\n",
       "      <td>STD</td>\n",
       "    </tr>\n",
       "    <tr>\n",
       "      <th>28</th>\n",
       "      <td>Fus714_fl_2_1</td>\n",
       "      <td>ATAGGAAATGGTGGTAGTGT GGCTTCCCCATCGGCATT TGTGGA...</td>\n",
       "      <td>25nm</td>\n",
       "      <td>STD</td>\n",
       "    </tr>\n",
       "    <tr>\n",
       "      <th>29</th>\n",
       "      <td>Fus714_fl_1_4</td>\n",
       "      <td>TGTGGAGGGATTGAAGGATA GGCTTCCCCATCGGCATT AGGTTA...</td>\n",
       "      <td>25nm</td>\n",
       "      <td>STD</td>\n",
       "    </tr>\n",
       "    <tr>\n",
       "      <th>30</th>\n",
       "      <td>Lep568_fl_3_3</td>\n",
       "      <td>AGAGTGAGTAGTAGTGGAGT GCCTAGATGCCCTTTATG AGAGTG...</td>\n",
       "      <td>25nm</td>\n",
       "      <td>STD</td>\n",
       "    </tr>\n",
       "    <tr>\n",
       "      <th>31</th>\n",
       "      <td>Trp684_fl_3_2</td>\n",
       "      <td>AGAGTGAGTAGTAGTGGAGT TCTACAGATTCCACCCCTAC ATAG...</td>\n",
       "      <td>25nm</td>\n",
       "      <td>STD</td>\n",
       "    </tr>\n",
       "    <tr>\n",
       "      <th>32</th>\n",
       "      <td>Trp684_fl_2_1</td>\n",
       "      <td>ATAGGAAATGGTGGTAGTGT TCTACAGATTCCACCCCTAC TGTG...</td>\n",
       "      <td>25nm</td>\n",
       "      <td>STD</td>\n",
       "    </tr>\n",
       "    <tr>\n",
       "      <th>33</th>\n",
       "      <td>Trp684_fl_1_3</td>\n",
       "      <td>TGTGGAGGGATTGAAGGATA TCTACAGATTCCACCCCTAC AGAG...</td>\n",
       "      <td>25nm</td>\n",
       "      <td>STD</td>\n",
       "    </tr>\n",
       "    <tr>\n",
       "      <th>34</th>\n",
       "      <td>TM7550_fl_4_3</td>\n",
       "      <td>AGGTTAGGTTGAGAATAGGA CCCAGTCACTCCGGATAA AGAGTG...</td>\n",
       "      <td>25nm</td>\n",
       "      <td>STD</td>\n",
       "    </tr>\n",
       "    <tr>\n",
       "      <th>35</th>\n",
       "      <td>TM7550_fl_3_1</td>\n",
       "      <td>AGAGTGAGTAGTAGTGGAGT CCCAGTCACTCCGGATAA TGTGGA...</td>\n",
       "      <td>25nm</td>\n",
       "      <td>STD</td>\n",
       "    </tr>\n",
       "    <tr>\n",
       "      <th>36</th>\n",
       "      <td>TM7550_fl_1_4</td>\n",
       "      <td>TGTGGAGGGATTGAAGGATA CCCAGTCACTCCGGATAA AGGTTA...</td>\n",
       "      <td>25nm</td>\n",
       "      <td>STD</td>\n",
       "    </tr>\n",
       "  </tbody>\n",
       "</table>\n",
       "</div>"
      ],
      "text/plain": [
       "              Name                                           Sequence Scale  \\\n",
       "0    Act476_fl_4_2  AGGTTAGGTTGAGAATAGGA ATCCAGCTACCGTCAACC ATAGGA...  25nm   \n",
       "1    Act476_fl_2_4  ATAGGAAATGGTGGTAGTGT ATCCAGCTACCGTCAACC AGGTTA...  25nm   \n",
       "2    Cor595_fl_1_1  TGTGGAGGGATTGAAGGATA CCGGAATTTCACAGACGACG TGTG...  25nm   \n",
       "3    Cor633_fl_1_1  TGTGGAGGGATTGAAGGATA AGTTATGCCCGTATCGCCTG TGTG...  25nm   \n",
       "4   Cmat175_fl_1_1  TGTGGAGGGATTGAAGGATA ACTAAACCATGGTCCTATCCG TGT...  25nm   \n",
       "5    Rot491_fl_5_4  GATGATGTAGTAGTAAGGGT TAGCCGGCGCTTTCTCTG AGGTTA...  25nm   \n",
       "6    Rot491_fl_4_5  AGGTTAGGTTGAGAATAGGA TAGCCGGCGCTTTCTCTG GATGAT...  25nm   \n",
       "7    Cap371_fl_5_1  GATGATGTAGTAGTAAGGGT TCAGTCTTCCGACCATTG TGTGGA...  25nm   \n",
       "8    Cap371_fl_1_5  TGTGGAGGGATTGAAGGATA TCAGTCTTCCGACCATTG GATGAT...  25nm   \n",
       "9    Prv392_fl_4_4  AGGTTAGGTTGAGAATAGGA GCACGCTACTTGGCTGG AGGTTAG...  25nm   \n",
       "10   Pg1160_fl_2_2  ATAGGAAATGGTGGTAGTGT CCTCACGCCTTACGACGG ATAGGA...  25nm   \n",
       "11   Str405_fl_3_2  AGAGTGAGTAGTAGTGGAGT TAGCCGTCCCTTTCTGGT ATAGGA...  25nm   \n",
       "12   Str405_fl_2_3  ATAGGAAATGGTGGTAGTGT TAGCCGTCCCTTTCTGGT AGAGTG...  25nm   \n",
       "13   Gem572_fl_5_3  GATGATGTAGTAGTAAGGGT TAAACCACCTGCGCGCGCTT AGAG...  25nm   \n",
       "14   Gem572_fl_3_5  AGAGTGAGTAGTAGTGGAGT TAAACCACCTGCGCGCGCTT GATG...  25nm   \n",
       "15   Vei488_fl_5_4  GATGATGTAGTAGTAAGGGT CCGTGGCTTTCTATTCCG AGGTTA...  25nm   \n",
       "16   Vei488_fl_4_1  AGGTTAGGTTGAGAATAGGA CCGTGGCTTTCTATTCCG TGTGGA...  25nm   \n",
       "17   Vei488_fl_1_5  TGTGGAGGGATTGAAGGATA CCGTGGCTTTCTATTCCG GATGAT...  25nm   \n",
       "18    Sel60_fl_2_1  ATAGGAAATGGTGGTAGTGT TCATTCGCTCCGTTCGAC TGTGGA...  25nm   \n",
       "19    Sel60_fl_1_2  TGTGGAGGGATTGAAGGATA TCATTCGCTCCGTTCGAC ATAGGA...  25nm   \n",
       "20  Lmir444_fl_4_3  AGGTTAGGTTGAGAATAGGA TGGCACAGTCCTTTTCGTTCC AGA...  25nm   \n",
       "21  Lmir444_fl_3_4  AGAGTGAGTAGTAGTGGAGT TGGCACAGTCCTTTTCGTTCC AGG...  25nm   \n",
       "22  Nei1030_fl_5_2  GATGATGTAGTAGTAAGGGT CCTGTGTTACGGCTCCCG ATAGGA...  25nm   \n",
       "23  Nei1030_fl_2_5  ATAGGAAATGGTGGTAGTGT CCTGTGTTACGGCTCCCG GATGAT...  25nm   \n",
       "24   Pas111_fl_3_1  AGAGTGAGTAGTAGTGGAGT TCCCAAGCATTACTCACC TGTGGA...  25nm   \n",
       "25   Pas111_fl_1_3  TGTGGAGGGATTGAAGGATA TCCCAAGCATTACTCACC AGAGTG...  25nm   \n",
       "26  Cam1021_fl_5_5  GATGATGTAGTAGTAAGGGT ATTTCTGCAAGCAGACACTC GATG...  25nm   \n",
       "27   Fus714_fl_4_2  AGGTTAGGTTGAGAATAGGA GGCTTCCCCATCGGCATT ATAGGA...  25nm   \n",
       "28   Fus714_fl_2_1  ATAGGAAATGGTGGTAGTGT GGCTTCCCCATCGGCATT TGTGGA...  25nm   \n",
       "29   Fus714_fl_1_4  TGTGGAGGGATTGAAGGATA GGCTTCCCCATCGGCATT AGGTTA...  25nm   \n",
       "30   Lep568_fl_3_3  AGAGTGAGTAGTAGTGGAGT GCCTAGATGCCCTTTATG AGAGTG...  25nm   \n",
       "31   Trp684_fl_3_2  AGAGTGAGTAGTAGTGGAGT TCTACAGATTCCACCCCTAC ATAG...  25nm   \n",
       "32   Trp684_fl_2_1  ATAGGAAATGGTGGTAGTGT TCTACAGATTCCACCCCTAC TGTG...  25nm   \n",
       "33   Trp684_fl_1_3  TGTGGAGGGATTGAAGGATA TCTACAGATTCCACCCCTAC AGAG...  25nm   \n",
       "34   TM7550_fl_4_3  AGGTTAGGTTGAGAATAGGA CCCAGTCACTCCGGATAA AGAGTG...  25nm   \n",
       "35   TM7550_fl_3_1  AGAGTGAGTAGTAGTGGAGT CCCAGTCACTCCGGATAA TGTGGA...  25nm   \n",
       "36   TM7550_fl_1_4  TGTGGAGGGATTGAAGGATA CCCAGTCACTCCGGATAA AGGTTA...  25nm   \n",
       "\n",
       "   Purification  \n",
       "0           STD  \n",
       "1           STD  \n",
       "2           STD  \n",
       "3           STD  \n",
       "4           STD  \n",
       "5           STD  \n",
       "6           STD  \n",
       "7           STD  \n",
       "8           STD  \n",
       "9           STD  \n",
       "10          STD  \n",
       "11          STD  \n",
       "12          STD  \n",
       "13          STD  \n",
       "14          STD  \n",
       "15          STD  \n",
       "16          STD  \n",
       "17          STD  \n",
       "18          STD  \n",
       "19          STD  \n",
       "20          STD  \n",
       "21          STD  \n",
       "22          STD  \n",
       "23          STD  \n",
       "24          STD  \n",
       "25          STD  \n",
       "26          STD  \n",
       "27          STD  \n",
       "28          STD  \n",
       "29          STD  \n",
       "30          STD  \n",
       "31          STD  \n",
       "32          STD  \n",
       "33          STD  \n",
       "34          STD  \n",
       "35          STD  \n",
       "36          STD  "
      ]
     },
     "execution_count": 79,
     "metadata": {},
     "output_type": "execute_result"
    }
   ],
   "source": [
    "names = []\n",
    "seqs = []\n",
    "for tax, probes_flank in dict_tax_probe_flank.items():\n",
    "    probe_names = dict_tax_probename[tax]\n",
    "    bc = dict_tax_bc_new[tax]\n",
    "    bc_b10 = int(str(bc),2)\n",
    "    for n, seq in probes_flank.items():\n",
    "        for s in seq:\n",
    "            name = n + '_fl_' + str(s[1]) + '_' + str(s[2])\n",
    "            names.append(name)\n",
    "            seqs.append(s[0])\n",
    "\n",
    "df_idt = pd.DataFrame({'Name':names, 'Sequence':seqs})\n",
    "df_idt['Scale'] = '25nm'\n",
    "df_idt['Purification'] = 'STD'\n",
    "\n",
    "df_idt_fn = 'welch2016_5b_distant_IDT_v4_doubleflank.csv'\n",
    "df_idt.to_csv(df_idt_fn, index=False)\n",
    "df_idt\n",
    "\n"
   ]
  },
  {
   "cell_type": "markdown",
   "metadata": {},
   "source": [
    "## Apply to 7bit reference barcodes"
   ]
  },
  {
   "cell_type": "markdown",
   "metadata": {},
   "source": [
    "Get all 7 bit barcodes as base 10"
   ]
  },
  {
   "cell_type": "code",
   "execution_count": 165,
   "metadata": {},
   "outputs": [
    {
     "name": "stdout",
     "output_type": "stream",
     "text": [
      "126\n"
     ]
    },
    {
     "data": {
      "text/plain": [
       "['0000001',\n",
       " '0000010',\n",
       " '0000011',\n",
       " '0000100',\n",
       " '0000101',\n",
       " '0000110',\n",
       " '0000111',\n",
       " '0001000',\n",
       " '0001001',\n",
       " '0001010']"
      ]
     },
     "execution_count": 165,
     "metadata": {},
     "output_type": "execute_result"
    }
   ],
   "source": [
    "b = [0,1]\n",
    "barcodes_str = []\n",
    "for i in b:\n",
    "    bc0 = str(i)\n",
    "    for j in b:\n",
    "        bc1 = bc0 + str(j)\n",
    "        for k in b:\n",
    "            bc2 = bc1 + str(k)\n",
    "            for l in b:\n",
    "                bc3 = bc2 + str(l)\n",
    "                for m in b:\n",
    "                    bc4 = bc3 + str(m)\n",
    "                    for n in b:\n",
    "                        bc5 = bc4 + str(n)\n",
    "                        for o in b:\n",
    "                            bc6 = bc5 + str(o)\n",
    "                            barcodes_str.append(bc6)\n",
    "barcodes_str = barcodes_str[1:-1]\n",
    "print(len(barcodes_str))\n",
    "barcodes_str[:10]\n",
    "               "
   ]
  },
  {
   "cell_type": "markdown",
   "metadata": {},
   "source": [
    "Load average reference spectra"
   ]
  },
  {
   "cell_type": "code",
   "execution_count": 166,
   "metadata": {},
   "outputs": [
    {
     "name": "stdout",
     "output_type": "stream",
     "text": [
      "['0000000001', '0000000010', '0000000011', '0000000100', '0000000101', '0000000110', '0000000111', '0000100000', '0000100001', '0000100010']\n"
     ]
    }
   ],
   "source": [
    "import pandas as pd\n",
    "\n",
    "ref_dir = '/fs/cbsuvlaminck2/workdir/bmg224/manuscripts/mgefish/data/unused/fig_5/HiPRFISH_reference_spectra'\n",
    "fmt = '08_18_2018_enc_{}_avgint.csv'\n",
    "\n",
    "barcodes_10bit = [bc[0] + '0' + bc[1:4] + '00' + bc[4:] for bc in barcodes_str]\n",
    "# barcodes_10bit = [bc[0] + '0' + bc[1:4] + '00' + bc[4:] for bc in barcodes_str]\n",
    "barcodes_b10 = [int(str(bc),2) for bc in barcodes_10bit]\n",
    "ref_chan_start = 32\n",
    "chan_start = 0\n",
    "chan_end = 63\n",
    "\n",
    "st = ref_chan_start + chan_start\n",
    "en = ref_chan_start + chan_end\n",
    "ref_avgint_cols = [i for i in range(st,en)]\n",
    "\n",
    "ref_spec = []\n",
    "for bc in barcodes_b10:\n",
    "    fn = ref_dir + '/'+ fmt.format(bc)\n",
    "    ref = pd.read_csv(fn, header=None)\n",
    "    ref = ref[ref_avgint_cols].values\n",
    "    ref_spec.append(ref)\n",
    "\n",
    "print(barcodes_10bit[:10])"
   ]
  },
  {
   "cell_type": "markdown",
   "metadata": {},
   "source": [
    "Normlize reference spectra"
   ]
  },
  {
   "cell_type": "code",
   "execution_count": 167,
   "metadata": {},
   "outputs": [],
   "source": [
    "ref_norm = [r / np.max(r, axis=1)[:,None] for r in ref_spec]\n",
    "weights_max_norm = [np.mean(r, axis=0) for r in ref_norm]\n",
    "\n",
    "ref_sum_norm = []\n",
    "for r in ref_spec:\n",
    "    r_ = r - np.min(r, axis=1)[:,None]\n",
    "    ref_sum_norm.append(r_ / np.sum(r_, axis=1)[:,None])\n",
    "weights_sum_norm = [np.mean(r, axis=0) for r in ref_sum_norm]"
   ]
  },
  {
   "cell_type": "markdown",
   "metadata": {},
   "source": [
    "Measure distance between each spectrum and the others"
   ]
  },
  {
   "cell_type": "code",
   "execution_count": 168,
   "metadata": {},
   "outputs": [],
   "source": [
    "N = len(barcodes_str)\n",
    "\n",
    "d_mat = np.zeros((N,N))\n",
    "\n",
    "for i in range(N):\n",
    "    for j in range(N):\n",
    "        if i < j:\n",
    "            spec_i = weights_sum_norm[i]\n",
    "            spec_j = weights_sum_norm[j]\n",
    "            d_mat[i,j] = fhc.euclid_dist_cumul_spec(spec_i, spec_j)"
   ]
  },
  {
   "cell_type": "markdown",
   "metadata": {},
   "source": [
    "Dictionary for accessing distances "
   ]
  },
  {
   "cell_type": "code",
   "execution_count": 169,
   "metadata": {},
   "outputs": [],
   "source": [
    "dict_ij_dist = {}\n",
    "for i in range(N):\n",
    "    for j in range(N):\n",
    "        if i < j:\n",
    "            key = str(i) + '_' + str(j)\n",
    "            dict_ij_dist[key] = d_mat[i,j]\n"
   ]
  },
  {
   "cell_type": "markdown",
   "metadata": {},
   "source": [
    "Initialize the set k"
   ]
  },
  {
   "cell_type": "code",
   "execution_count": 170,
   "metadata": {},
   "outputs": [
    {
     "data": {
      "text/plain": [
       "[118, 58, 87, 7, 17, 63, 9, 10, 64, 66, 98, 39, 101, 50, 91, 119, 32, 92]"
      ]
     },
     "execution_count": 170,
     "metadata": {},
     "output_type": "execute_result"
    }
   ],
   "source": [
    "k = 18\n",
    "\n",
    "bcs = []\n",
    "unselected = np.arange(N).astype(int).tolist()\n",
    "for i in range(k):\n",
    "    bc = np.random.choice(unselected, 1)[0]\n",
    "    bcs.append(bc)\n",
    "    unselected.remove(bc)\n",
    "bcs"
   ]
  },
  {
   "cell_type": "markdown",
   "metadata": {},
   "source": [
    "Create a dictionary indicating the minimum distance for each k_i"
   ]
  },
  {
   "cell_type": "code",
   "execution_count": 171,
   "metadata": {},
   "outputs": [
    {
     "data": {
      "text/plain": [
       "{118: 0.058957793021464415,\n",
       " 58: 0.022142507523391308,\n",
       " 87: 0.07401813031627956,\n",
       " 7: 0.2678693815419027,\n",
       " 17: 0.10146862961843672,\n",
       " 63: 0.09598983587664305,\n",
       " 9: 0.10927113204271817,\n",
       " 10: 0.08259601207417969,\n",
       " 64: 0.04143242656489327,\n",
       " 66: 0.04143242656489327,\n",
       " 98: 0.05991044439219238,\n",
       " 39: 0.08964995449792518,\n",
       " 101: 0.07767834612767101,\n",
       " 50: 0.022142507523391308,\n",
       " 91: 0.0664777198508998,\n",
       " 119: 0.0664777198508998,\n",
       " 32: 0.06791173154169755,\n",
       " 92: 0.044641285981235665}"
      ]
     },
     "execution_count": 171,
     "metadata": {},
     "output_type": "execute_result"
    }
   ],
   "source": [
    "dict_k_mindist = {}\n",
    "for i in bcs:\n",
    "    dists = []\n",
    "    for j in bcs:\n",
    "        if i != j:\n",
    "            if i < j:\n",
    "                key = str(i) + '_' + str(j)\n",
    "            else:\n",
    "                key = str(j) + '_' + str(i)\n",
    "            dists.append(dict_ij_dist[key])\n",
    "    dict_k_mindist[i] = min(dists)\n",
    "dict_k_mindist"
   ]
  },
  {
   "cell_type": "markdown",
   "metadata": {},
   "source": [
    "Iterate replacing the k_i that has the smallest distance with a random selection from the remaining N if the random selection has a larger min distance with the rest of k_j not equals i."
   ]
  },
  {
   "cell_type": "code",
   "execution_count": 172,
   "metadata": {},
   "outputs": [
    {
     "data": {
      "text/plain": [
       "{1: 0.12858049967253107,\n",
       " 69: 0.12303883145244075,\n",
       " 63: 0.11176619362633068,\n",
       " 19: 0.10826844318818656,\n",
       " 0: 0.1439156405408622,\n",
       " 11: 0.12022847974680627,\n",
       " 9: 0.10927113204271817,\n",
       " 79: 0.12774715812302304,\n",
       " 15: 0.24083446540729492,\n",
       " 85: 0.10292251639154885,\n",
       " 4: 0.10197338958867258,\n",
       " 7: 0.2678693815419027,\n",
       " 25: 0.10976761697161068,\n",
       " 44: 0.10137404763778464,\n",
       " 3: 0.13065642619920953,\n",
       " 24: 0.1120210377016685,\n",
       " 72: 0.1166397861936185,\n",
       " 39: 0.10985090616564464}"
      ]
     },
     "execution_count": 172,
     "metadata": {},
     "output_type": "execute_result"
    }
   ],
   "source": [
    "\n",
    "iterations = 1000000\n",
    "for i in range(iterations):\n",
    "\n",
    "    # Extrac the k_i with smallest distance\n",
    "    k_ind = np.where(min(dict_k_mindist.values()))[0][0]\n",
    "    ks = list(dict_k_mindist.keys())\n",
    "    old = ks[k_ind]\n",
    "    dist_min_old = dict_k_mindist[old]\n",
    "    del dict_k_mindist[old]\n",
    "\n",
    "    # Pick a random new choice and calculate the min distance to the remaining k\n",
    "    new = np.random.choice(unselected, 1)[0]\n",
    "    dists = []\n",
    "    for j in ks:\n",
    "        if new < j:\n",
    "            ij_key = str(new) + '_' + str(j)\n",
    "        else:\n",
    "            ij_key = str(j) + '_' + str(new)\n",
    "        dists.append(dict_ij_dist[ij_key])\n",
    "    dist_min_new = min(dists)\n",
    "\n",
    "    # Replace the old k_i if the new one has a larger min distance\n",
    "    if dist_min_new > dist_min_old:\n",
    "        dict_k_mindist[new] = dist_min_new\n",
    "        unselected.remove(new)\n",
    "        unselected.append(old)\n",
    "    else:\n",
    "        dict_k_mindist[old] = dist_min_old\n",
    "\n",
    "dict_k_mindist\n",
    "    "
   ]
  },
  {
   "cell_type": "markdown",
   "metadata": {},
   "source": [
    "Convert index back to barcodes"
   ]
  },
  {
   "cell_type": "code",
   "execution_count": 173,
   "metadata": {},
   "outputs": [
    {
     "data": {
      "text/plain": [
       "['0000010',\n",
       " '1000110',\n",
       " '1000000',\n",
       " '0010100',\n",
       " '0000001',\n",
       " '0001100',\n",
       " '0001010',\n",
       " '1010000',\n",
       " '0010000',\n",
       " '1010110',\n",
       " '0000101',\n",
       " '0001000',\n",
       " '0011010',\n",
       " '0101101',\n",
       " '0000100',\n",
       " '0011001',\n",
       " '1001001',\n",
       " '0101000']"
      ]
     },
     "execution_count": 173,
     "metadata": {},
     "output_type": "execute_result"
    }
   ],
   "source": [
    "index_select = list(dict_k_mindist.keys())\n",
    "\n",
    "barcodes_select = []\n",
    "for ind in index_select:\n",
    "    barcodes_select.append(barcodes_str[ind])\n",
    "\n",
    "barcodes_select"
   ]
  },
  {
   "cell_type": "code",
   "execution_count": 174,
   "metadata": {},
   "outputs": [
    {
     "name": "stdout",
     "output_type": "stream",
     "text": [
      "['0000001', '0000010', '0000100', '0000101', '0001000', '0001010', '0001100', '0010000', '0010100', '0011001', '0011010', '0101000', '0101101', '1000000', '1000110', '1001001', '1010000', '1010110']\n"
     ]
    }
   ],
   "source": [
    "bc_select_sort = sorted(barcodes_select)\n",
    "\n",
    "ind_select_sort = [x for _, x in sorted(zip(barcodes_select, index_select))]\n",
    "\n",
    "print(bc_select_sort)"
   ]
  },
  {
   "cell_type": "markdown",
   "metadata": {},
   "source": [
    "Plot spectra"
   ]
  },
  {
   "cell_type": "code",
   "execution_count": 175,
   "metadata": {},
   "outputs": [
    {
     "data": {
      "image/png": "[encoded data removed]",
      "text/plain": [
       "<Figure size 720x360 with 1 Axes>"
      ]
     },
     "metadata": {
      "needs_background": "light"
     },
     "output_type": "display_data"
    },
    {
     "data": {
      "image/png": "[encoded data removed]",
      "text/plain": [
       "<Figure size 720x360 with 1 Axes>"
      ]
     },
     "metadata": {
      "needs_background": "light"
     },
     "output_type": "display_data"
    },
    {
     "data": {
      "image/png": "[encoded data removed]",
      "text/plain": [
       "<Figure size 720x360 with 1 Axes>"
      ]
     },
     "metadata": {
      "needs_background": "light"
     },
     "output_type": "display_data"
    },
    {
     "data": {
      "image/png": "[encoded data removed]",
      "text/plain": [
       "<Figure size 720x360 with 1 Axes>"
      ]
     },
     "metadata": {
      "needs_background": "light"
     },
     "output_type": "display_data"
    },
    {
     "data": {
      "image/png": "[encoded data removed]",
      "text/plain": [
       "<Figure size 720x360 with 1 Axes>"
      ]
     },
     "metadata": {
      "needs_background": "light"
     },
     "output_type": "display_data"
    },
    {
     "data": {
      "image/png": "[encoded data removed]",
      "text/plain": [
       "<Figure size 720x360 with 1 Axes>"
      ]
     },
     "metadata": {
      "needs_background": "light"
     },
     "output_type": "display_data"
    },
    {
     "data": {
      "image/png": "[encoded data removed]",
      "text/plain": [
       "<Figure size 720x360 with 1 Axes>"
      ]
     },
     "metadata": {
      "needs_background": "light"
     },
     "output_type": "display_data"
    },
    {
     "data": {
      "image/png": "[encoded data removed]",
      "text/plain": [
       "<Figure size 720x360 with 1 Axes>"
      ]
     },
     "metadata": {
      "needs_background": "light"
     },
     "output_type": "display_data"
    },
    {
     "data": {
      "image/png": "[encoded data removed]",
      "text/plain": [
       "<Figure size 720x360 with 1 Axes>"
      ]
     },
     "metadata": {
      "needs_background": "light"
     },
     "output_type": "display_data"
    },
    {
     "data": {
      "image/png": "[encoded data removed]",
      "text/plain": [
       "<Figure size 720x360 with 1 Axes>"
      ]
     },
     "metadata": {
      "needs_background": "light"
     },
     "output_type": "display_data"
    },
    {
     "data": {
      "image/png": "[encoded data removed]",
      "text/plain": [
       "<Figure size 720x360 with 1 Axes>"
      ]
     },
     "metadata": {
      "needs_background": "light"
     },
     "output_type": "display_data"
    },
    {
     "data": {
      "image/png": "[encoded data removed]",
      "text/plain": [
       "<Figure size 720x360 with 1 Axes>"
      ]
     },
     "metadata": {
      "needs_background": "light"
     },
     "output_type": "display_data"
    },
    {
     "data": {
      "image/png": "[encoded data removed]",
      "text/plain": [
       "<Figure size 720x360 with 1 Axes>"
      ]
     },
     "metadata": {
      "needs_background": "light"
     },
     "output_type": "display_data"
    },
    {
     "data": {
      "image/png": "[encoded data removed]",
      "text/plain": [
       "<Figure size 720x360 with 1 Axes>"
      ]
     },
     "metadata": {
      "needs_background": "light"
     },
     "output_type": "display_data"
    },
    {
     "data": {
      "image/png": "[encoded data removed]",
      "text/plain": [
       "<Figure size 720x360 with 1 Axes>"
      ]
     },
     "metadata": {
      "needs_background": "light"
     },
     "output_type": "display_data"
    },
    {
     "data": {
      "image/png": "[encoded data removed]",
      "text/plain": [
       "<Figure size 720x360 with 1 Axes>"
      ]
     },
     "metadata": {
      "needs_background": "light"
     },
     "output_type": "display_data"
    },
    {
     "data": {
      "image/png": "[encoded data removed]",
      "text/plain": [
       "<Figure size 720x360 with 1 Axes>"
      ]
     },
     "metadata": {
      "needs_background": "light"
     },
     "output_type": "display_data"
    },
    {
     "data": {
      "image/png": "[encoded data removed]",
      "text/plain": [
       "<Figure size 720x360 with 1 Axes>"
      ]
     },
     "metadata": {
      "needs_background": "light"
     },
     "output_type": "display_data"
    }
   ],
   "source": [
    "import fn_spectral_images as fsi\n",
    "import image_plots as ip\n",
    "\n",
    "for ind, bc in zip(ind_select_sort, bc_select_sort):\n",
    "    spec = weights_sum_norm[ind]\n",
    "    fig, ax = ip.general_plot(dims=(10,5))\n",
    "    fsi.plot_cell_spectra(ax, spec[None,:], {'lw':1,'alpha':1,'color':'r'})\n",
    "    ax.set_title(bc)"
   ]
  },
  {
   "cell_type": "code",
   "execution_count": null,
   "metadata": {},
   "outputs": [],
   "source": []
  },
  {
   "cell_type": "code",
   "execution_count": null,
   "metadata": {},
   "outputs": [],
   "source": []
  },
  {
   "cell_type": "markdown",
   "metadata": {},
   "source": [
    "## Design Welch barcode scheme for 7bit"
   ]
  },
  {
   "cell_type": "markdown",
   "metadata": {},
   "source": [
    "Barcode bit dictionary"
   ]
  },
  {
   "cell_type": "code",
   "execution_count": 176,
   "metadata": {},
   "outputs": [
    {
     "data": {
      "text/plain": [
       "{0: 'GATGATGTAGTAGTAAGGGT',\n",
       " 1: 'AGGTTAGGTTGAGAATAGGA',\n",
       " 2: 'AGGGTGTGTTTGTAAAGGGT',\n",
       " 3: 'TTGGAGGTGTAGGGAGTAAA',\n",
       " 4: 'AGAGTGAGTAGTAGTGGAGT',\n",
       " 5: 'ATAGGAAATGGTGGTAGTGT',\n",
       " 6: 'TGTGGAGGGATTGAAGGATA'}"
      ]
     },
     "execution_count": 176,
     "metadata": {},
     "output_type": "execute_result"
    }
   ],
   "source": [
    "dict_bit_seq = {}\n",
    "for i, j in enumerate([9,7,6,5,2,1,0]):\n",
    "    dict_bit_seq[i] = hipr_flanking.loc[j,'sequence']\n",
    "\n",
    "dict_bit_seq"
   ]
  },
  {
   "cell_type": "markdown",
   "metadata": {},
   "source": [
    "Assign new barcodes and ensure there are no barcodes that are the same as the old barcodes"
   ]
  },
  {
   "cell_type": "code",
   "execution_count": 177,
   "metadata": {},
   "outputs": [
    {
     "data": {
      "text/plain": [
       "{'Streptococcus': 1111,\n",
       " 'Veillonella': 10001,\n",
       " 'Rothia': 1000,\n",
       " 'Actinomyces': 1,\n",
       " 'Selenomonas': 10100,\n",
       " 'Campylobacter': 1000001,\n",
       " 'Corynebacterium': 10,\n",
       " 'Leptotrichia': 1010110,\n",
       " 'Lautropia': 11010,\n",
       " 'Pasteurellaceae': 1000000,\n",
       " 'Porphyromonas': 1100,\n",
       " 'Capnocytophaga': 100,\n",
       " 'Prevotella': 1010,\n",
       " 'Gemella': 10000,\n",
       " 'Treponema': 1011000,\n",
       " 'Fusobacterium': 1000100,\n",
       " 'Neisseriaceae': 101000,\n",
       " 'TM7': 1110001}"
      ]
     },
     "execution_count": 177,
     "metadata": {},
     "output_type": "execute_result"
    }
   ],
   "source": [
    "df_tax_bc_new_5b = pd.read_csv(new_design_5b_fn)\n",
    "dict_tax_bc_new_5b = dict(zip(df_tax_bc_new_5b.sci_name, df_tax_bc_new_5b.code))\n",
    "dict_tax_bc_new_5b"
   ]
  },
  {
   "cell_type": "code",
   "execution_count": 178,
   "metadata": {},
   "outputs": [
    {
     "data": {
      "text/plain": [
       "{'Streptococcus': 1100,\n",
       " 'Veillonella': 10100,\n",
       " 'Rothia': 100,\n",
       " 'Actinomyces': 10,\n",
       " 'Selenomonas': 11001,\n",
       " 'Campylobacter': 1000000,\n",
       " 'Corynebacterium': 1,\n",
       " 'Leptotrichia': 1001001,\n",
       " 'Lautropia': 11010,\n",
       " 'Pasteurellaceae': 101101,\n",
       " 'Porphyromonas': 1010,\n",
       " 'Capnocytophaga': 101,\n",
       " 'Prevotella': 1000,\n",
       " 'Gemella': 10000,\n",
       " 'Treponema': 1010000,\n",
       " 'Fusobacterium': 1000110,\n",
       " 'Neisseriaceae': 101000,\n",
       " 'TM7': 1010110}"
      ]
     },
     "execution_count": 178,
     "metadata": {},
     "output_type": "execute_result"
    }
   ],
   "source": [
    "# Write new barcodes \n",
    "bc_select_int = [int(bc) for bc in bc_select_sort]\n",
    "\n",
    "def to_7bit_fr_5b(bc):\n",
    "    bc = str(bc).zfill(5)\n",
    "    bc = bc[0] + '0' + bc[1] + '00' + bc[2:]\n",
    "    return int(bc)\n",
    "\n",
    "dict_tax_bc_old_7b = {k: to_7bit_fr_5b(v) for k,v in dict_tax_bc_old.items()}\n",
    "dict_tax_bc_new_5b_7b = {k: to_7bit_fr_5b(v) for k,v in dict_tax_bc_new_5b.items()}\n",
    "\n",
    "for tax in dict_tax_probename.keys():\n",
    "    bc = bc_select_int[0]\n",
    "    bc_old = dict_tax_bc_old_7b[tax]\n",
    "    bc_new5b = dict_tax_bc_new_5b_7b[tax]\n",
    "    if (bc == bc_old) or (bc == bc_new5b):\n",
    "        bc = bc_select_int[1] \n",
    "        del bc_select_int[1]\n",
    "    else:\n",
    "        del bc_select_int[0]\n",
    "    dict_tax_bc_new[tax] = bc\n",
    "\n",
    "dict_tax_bc_new"
   ]
  },
  {
   "cell_type": "markdown",
   "metadata": {},
   "source": [
    "Append flanking regions to sequences"
   ]
  },
  {
   "cell_type": "code",
   "execution_count": 179,
   "metadata": {},
   "outputs": [
    {
     "data": {
      "text/plain": [
       "{'Streptococcus': {'Str405': [['TAGCCGTCCCTTTCTGGTTTGGAGGTGTAGGGAGTAAA', 4],\n",
       "   ['TAGCCGTCCCTTTCTGGTAGAGTGAGTAGTAGTGGAGT', 3]]},\n",
       " 'Veillonella': {'Vei488': [['CCGTGGCTTTCTATTCCGAGGGTGTGTTTGTAAAGGGT', 5],\n",
       "   ['CCGTGGCTTTCTATTCCGAGAGTGAGTAGTAGTGGAGT', 3]]},\n",
       " 'Rothia': {'Rot491': [['TAGCCGGCGCTTTCTCTGAGAGTGAGTAGTAGTGGAGT', 3]]},\n",
       " 'Actinomyces': {'Act476': [['ATCCAGCTACCGTCAACCATAGGAAATGGTGGTAGTGT', 2]]},\n",
       " 'Selenomonas': {'Sel60': [['TCATTCGCTCCGTTCGACAGGGTGTGTTTGTAAAGGGT', 5],\n",
       "   ['TCATTCGCTCCGTTCGACTTGGAGGTGTAGGGAGTAAA', 4],\n",
       "   ['TCATTCGCTCCGTTCGACTGTGGAGGGATTGAAGGATA', 1]]},\n",
       " 'Campylobacter': {'Cam1021': [['ATTTCTGCAAGCAGACACTCGATGATGTAGTAGTAAGGGT',\n",
       "    7]]},\n",
       " 'Corynebacterium': {'Cor595': [['CCGGAATTTCACAGACGACGTGTGGAGGGATTGAAGGATA',\n",
       "    1]],\n",
       "  'Cor633': [['AGTTATGCCCGTATCGCCTGTGTGGAGGGATTGAAGGATA', 1]],\n",
       "  'Cmat175': [['ACTAAACCATGGTCCTATCCGTGTGGAGGGATTGAAGGATA', 1]]},\n",
       " 'Leptotrichia': {'Lep568': [['GCCTAGATGCCCTTTATGGATGATGTAGTAGTAAGGGT', 7],\n",
       "   ['GCCTAGATGCCCTTTATGTTGGAGGTGTAGGGAGTAAA', 4],\n",
       "   ['GCCTAGATGCCCTTTATGTGTGGAGGGATTGAAGGATA', 1]]},\n",
       " 'Lautropia': {'Lmir444': [['TGGCACAGTCCTTTTCGTTCCAGGGTGTGTTTGTAAAGGGT', 5],\n",
       "   ['TGGCACAGTCCTTTTCGTTCCTTGGAGGTGTAGGGAGTAAA', 4],\n",
       "   ['TGGCACAGTCCTTTTCGTTCCATAGGAAATGGTGGTAGTGT', 2]]},\n",
       " 'Pasteurellaceae': {'Pas111': [['TCCCAAGCATTACTCACCAGGTTAGGTTGAGAATAGGA', 6],\n",
       "   ['TCCCAAGCATTACTCACCTTGGAGGTGTAGGGAGTAAA', 4],\n",
       "   ['TCCCAAGCATTACTCACCAGAGTGAGTAGTAGTGGAGT', 3],\n",
       "   ['TCCCAAGCATTACTCACCTGTGGAGGGATTGAAGGATA', 1]]},\n",
       " 'Porphyromonas': {'Pg1160': [['CCTCACGCCTTACGACGGTTGGAGGTGTAGGGAGTAAA', 4],\n",
       "   ['CCTCACGCCTTACGACGGATAGGAAATGGTGGTAGTGT', 2]]},\n",
       " 'Capnocytophaga': {'Cap371': [['TCAGTCTTCCGACCATTGAGAGTGAGTAGTAGTGGAGT', 3],\n",
       "   ['TCAGTCTTCCGACCATTGTGTGGAGGGATTGAAGGATA', 1]]},\n",
       " 'Prevotella': {'Prv392': [['GCACGCTACTTGGCTGGTTGGAGGTGTAGGGAGTAAA', 4]]},\n",
       " 'Gemella': {'Gem572': [['TAAACCACCTGCGCGCGCTTAGGGTGTGTTTGTAAAGGGT', 5]]},\n",
       " 'Treponema': {'Trp684': [['TCTACAGATTCCACCCCTACGATGATGTAGTAGTAAGGGT', 7],\n",
       "   ['TCTACAGATTCCACCCCTACAGGGTGTGTTTGTAAAGGGT', 5]]},\n",
       " 'Fusobacterium': {'Fus714': [['GGCTTCCCCATCGGCATTGATGATGTAGTAGTAAGGGT', 7],\n",
       "   ['GGCTTCCCCATCGGCATTAGAGTGAGTAGTAGTGGAGT', 3],\n",
       "   ['GGCTTCCCCATCGGCATTATAGGAAATGGTGGTAGTGT', 2]]},\n",
       " 'Neisseriaceae': {'Nei1030': [['CCTGTGTTACGGCTCCCGAGGTTAGGTTGAGAATAGGA', 6],\n",
       "   ['CCTGTGTTACGGCTCCCGTTGGAGGTGTAGGGAGTAAA', 4]]},\n",
       " 'TM7': {'TM7550': [['CCCAGTCACTCCGGATAAGATGATGTAGTAGTAAGGGT', 7],\n",
       "   ['CCCAGTCACTCCGGATAAAGGGTGTGTTTGTAAAGGGT', 5],\n",
       "   ['CCCAGTCACTCCGGATAAAGAGTGAGTAGTAGTGGAGT', 3],\n",
       "   ['CCCAGTCACTCCGGATAAATAGGAAATGGTGGTAGTGT', 2]]}}"
      ]
     },
     "execution_count": 179,
     "metadata": {},
     "output_type": "execute_result"
    }
   ],
   "source": [
    "nbit=7\n",
    "\n",
    "dict_tax_probe_flank = {}\n",
    "for tax, bc in dict_tax_bc_new.items():\n",
    "    probes = dict_tax_probe[tax]\n",
    "    names = dict_tax_probename[tax]\n",
    "    dict_ = {}\n",
    "    for p, n in zip(probes, names):\n",
    "        dict_[n] = []\n",
    "        for i, bit in enumerate(str(bc).zfill(nbit)):\n",
    "            if int(bit):\n",
    "                probe_flank = p + dict_bit_seq[i]\n",
    "                dict_[n].append([probe_flank, nbit-i])\n",
    "    dict_tax_probe_flank[tax] = dict_\n",
    "\n",
    "dict_tax_probe_flank\n"
   ]
  },
  {
   "cell_type": "markdown",
   "metadata": {},
   "source": [
    "Make probe design file"
   ]
  },
  {
   "cell_type": "code",
   "execution_count": 180,
   "metadata": {},
   "outputs": [
    {
     "data": {
      "text/html": [
       "<div>\n",
       "<style scoped>\n",
       "    .dataframe tbody tr th:only-of-type {\n",
       "        vertical-align: middle;\n",
       "    }\n",
       "\n",
       "    .dataframe tbody tr th {\n",
       "        vertical-align: top;\n",
       "    }\n",
       "\n",
       "    .dataframe thead th {\n",
       "        text-align: right;\n",
       "    }\n",
       "</style>\n",
       "<table border=\"1\" class=\"dataframe\">\n",
       "  <thead>\n",
       "    <tr style=\"text-align: right;\">\n",
       "      <th></th>\n",
       "      <th>sci_name</th>\n",
       "      <th>code</th>\n",
       "    </tr>\n",
       "  </thead>\n",
       "  <tbody>\n",
       "    <tr>\n",
       "      <th>0</th>\n",
       "      <td>Streptococcus</td>\n",
       "      <td>1100</td>\n",
       "    </tr>\n",
       "    <tr>\n",
       "      <th>1</th>\n",
       "      <td>Veillonella</td>\n",
       "      <td>10100</td>\n",
       "    </tr>\n",
       "    <tr>\n",
       "      <th>2</th>\n",
       "      <td>Rothia</td>\n",
       "      <td>100</td>\n",
       "    </tr>\n",
       "    <tr>\n",
       "      <th>3</th>\n",
       "      <td>Actinomyces</td>\n",
       "      <td>10</td>\n",
       "    </tr>\n",
       "    <tr>\n",
       "      <th>4</th>\n",
       "      <td>Selenomonas</td>\n",
       "      <td>11001</td>\n",
       "    </tr>\n",
       "    <tr>\n",
       "      <th>5</th>\n",
       "      <td>Campylobacter</td>\n",
       "      <td>1000000</td>\n",
       "    </tr>\n",
       "    <tr>\n",
       "      <th>6</th>\n",
       "      <td>Corynebacterium</td>\n",
       "      <td>1</td>\n",
       "    </tr>\n",
       "    <tr>\n",
       "      <th>7</th>\n",
       "      <td>Leptotrichia</td>\n",
       "      <td>1001001</td>\n",
       "    </tr>\n",
       "    <tr>\n",
       "      <th>8</th>\n",
       "      <td>Lautropia</td>\n",
       "      <td>11010</td>\n",
       "    </tr>\n",
       "    <tr>\n",
       "      <th>9</th>\n",
       "      <td>Pasteurellaceae</td>\n",
       "      <td>101101</td>\n",
       "    </tr>\n",
       "    <tr>\n",
       "      <th>10</th>\n",
       "      <td>Porphyromonas</td>\n",
       "      <td>1010</td>\n",
       "    </tr>\n",
       "    <tr>\n",
       "      <th>11</th>\n",
       "      <td>Capnocytophaga</td>\n",
       "      <td>101</td>\n",
       "    </tr>\n",
       "    <tr>\n",
       "      <th>12</th>\n",
       "      <td>Prevotella</td>\n",
       "      <td>1000</td>\n",
       "    </tr>\n",
       "    <tr>\n",
       "      <th>13</th>\n",
       "      <td>Gemella</td>\n",
       "      <td>10000</td>\n",
       "    </tr>\n",
       "    <tr>\n",
       "      <th>14</th>\n",
       "      <td>Treponema</td>\n",
       "      <td>1010000</td>\n",
       "    </tr>\n",
       "    <tr>\n",
       "      <th>15</th>\n",
       "      <td>Fusobacterium</td>\n",
       "      <td>1000110</td>\n",
       "    </tr>\n",
       "    <tr>\n",
       "      <th>16</th>\n",
       "      <td>Neisseriaceae</td>\n",
       "      <td>101000</td>\n",
       "    </tr>\n",
       "    <tr>\n",
       "      <th>17</th>\n",
       "      <td>TM7</td>\n",
       "      <td>1010110</td>\n",
       "    </tr>\n",
       "  </tbody>\n",
       "</table>\n",
       "</div>"
      ],
      "text/plain": [
       "           sci_name     code\n",
       "0     Streptococcus     1100\n",
       "1       Veillonella    10100\n",
       "2            Rothia      100\n",
       "3       Actinomyces       10\n",
       "4       Selenomonas    11001\n",
       "5     Campylobacter  1000000\n",
       "6   Corynebacterium        1\n",
       "7      Leptotrichia  1001001\n",
       "8         Lautropia    11010\n",
       "9   Pasteurellaceae   101101\n",
       "10    Porphyromonas     1010\n",
       "11   Capnocytophaga      101\n",
       "12       Prevotella     1000\n",
       "13          Gemella    10000\n",
       "14        Treponema  1010000\n",
       "15    Fusobacterium  1000110\n",
       "16    Neisseriaceae   101000\n",
       "17              TM7  1010110"
      ]
     },
     "execution_count": 180,
     "metadata": {},
     "output_type": "execute_result"
    }
   ],
   "source": [
    "df_tax_bc = pd.DataFrame({'sci_name': dict_tax_bc_new.keys(), 'code': dict_tax_bc_new.values()})\n",
    "new_design_5b_fn = 'welch2016_7b_distant.csv'\n",
    "df_tax_bc.to_csv(new_design_5b_fn, index=False)\n",
    "df_tax_bc\n"
   ]
  },
  {
   "cell_type": "markdown",
   "metadata": {},
   "source": [
    "Make IDT order file"
   ]
  },
  {
   "cell_type": "code",
   "execution_count": 182,
   "metadata": {},
   "outputs": [
    {
     "data": {
      "text/html": [
       "<div>\n",
       "<style scoped>\n",
       "    .dataframe tbody tr th:only-of-type {\n",
       "        vertical-align: middle;\n",
       "    }\n",
       "\n",
       "    .dataframe tbody tr th {\n",
       "        vertical-align: top;\n",
       "    }\n",
       "\n",
       "    .dataframe thead th {\n",
       "        text-align: right;\n",
       "    }\n",
       "</style>\n",
       "<table border=\"1\" class=\"dataframe\">\n",
       "  <thead>\n",
       "    <tr style=\"text-align: right;\">\n",
       "      <th></th>\n",
       "      <th>Name</th>\n",
       "      <th>Sequence</th>\n",
       "      <th>Scale</th>\n",
       "      <th>Purification</th>\n",
       "    </tr>\n",
       "  </thead>\n",
       "  <tbody>\n",
       "    <tr>\n",
       "      <th>0</th>\n",
       "      <td>Str405_bc12_fl4</td>\n",
       "      <td>TAGCCGTCCCTTTCTGGTTTGGAGGTGTAGGGAGTAAA</td>\n",
       "      <td>25nm</td>\n",
       "      <td>STD</td>\n",
       "    </tr>\n",
       "    <tr>\n",
       "      <th>1</th>\n",
       "      <td>Str405_bc12_fl3</td>\n",
       "      <td>TAGCCGTCCCTTTCTGGTAGAGTGAGTAGTAGTGGAGT</td>\n",
       "      <td>25nm</td>\n",
       "      <td>STD</td>\n",
       "    </tr>\n",
       "    <tr>\n",
       "      <th>2</th>\n",
       "      <td>Vei488_bc20_fl5</td>\n",
       "      <td>CCGTGGCTTTCTATTCCGAGGGTGTGTTTGTAAAGGGT</td>\n",
       "      <td>25nm</td>\n",
       "      <td>STD</td>\n",
       "    </tr>\n",
       "    <tr>\n",
       "      <th>3</th>\n",
       "      <td>Vei488_bc20_fl3</td>\n",
       "      <td>CCGTGGCTTTCTATTCCGAGAGTGAGTAGTAGTGGAGT</td>\n",
       "      <td>25nm</td>\n",
       "      <td>STD</td>\n",
       "    </tr>\n",
       "    <tr>\n",
       "      <th>4</th>\n",
       "      <td>Rot491_bc4_fl3</td>\n",
       "      <td>TAGCCGGCGCTTTCTCTGAGAGTGAGTAGTAGTGGAGT</td>\n",
       "      <td>25nm</td>\n",
       "      <td>STD</td>\n",
       "    </tr>\n",
       "    <tr>\n",
       "      <th>5</th>\n",
       "      <td>Act476_bc2_fl2</td>\n",
       "      <td>ATCCAGCTACCGTCAACCATAGGAAATGGTGGTAGTGT</td>\n",
       "      <td>25nm</td>\n",
       "      <td>STD</td>\n",
       "    </tr>\n",
       "    <tr>\n",
       "      <th>6</th>\n",
       "      <td>Sel60_bc25_fl5</td>\n",
       "      <td>TCATTCGCTCCGTTCGACAGGGTGTGTTTGTAAAGGGT</td>\n",
       "      <td>25nm</td>\n",
       "      <td>STD</td>\n",
       "    </tr>\n",
       "    <tr>\n",
       "      <th>7</th>\n",
       "      <td>Sel60_bc25_fl4</td>\n",
       "      <td>TCATTCGCTCCGTTCGACTTGGAGGTGTAGGGAGTAAA</td>\n",
       "      <td>25nm</td>\n",
       "      <td>STD</td>\n",
       "    </tr>\n",
       "    <tr>\n",
       "      <th>8</th>\n",
       "      <td>Sel60_bc25_fl1</td>\n",
       "      <td>TCATTCGCTCCGTTCGACTGTGGAGGGATTGAAGGATA</td>\n",
       "      <td>25nm</td>\n",
       "      <td>STD</td>\n",
       "    </tr>\n",
       "    <tr>\n",
       "      <th>9</th>\n",
       "      <td>Cam1021_bc64_fl7</td>\n",
       "      <td>ATTTCTGCAAGCAGACACTCGATGATGTAGTAGTAAGGGT</td>\n",
       "      <td>25nm</td>\n",
       "      <td>STD</td>\n",
       "    </tr>\n",
       "    <tr>\n",
       "      <th>10</th>\n",
       "      <td>Cor595_bc1_fl1</td>\n",
       "      <td>CCGGAATTTCACAGACGACGTGTGGAGGGATTGAAGGATA</td>\n",
       "      <td>25nm</td>\n",
       "      <td>STD</td>\n",
       "    </tr>\n",
       "    <tr>\n",
       "      <th>11</th>\n",
       "      <td>Cor633_bc1_fl1</td>\n",
       "      <td>AGTTATGCCCGTATCGCCTGTGTGGAGGGATTGAAGGATA</td>\n",
       "      <td>25nm</td>\n",
       "      <td>STD</td>\n",
       "    </tr>\n",
       "    <tr>\n",
       "      <th>12</th>\n",
       "      <td>Cmat175_bc1_fl1</td>\n",
       "      <td>ACTAAACCATGGTCCTATCCGTGTGGAGGGATTGAAGGATA</td>\n",
       "      <td>25nm</td>\n",
       "      <td>STD</td>\n",
       "    </tr>\n",
       "    <tr>\n",
       "      <th>13</th>\n",
       "      <td>Lep568_bc73_fl7</td>\n",
       "      <td>GCCTAGATGCCCTTTATGGATGATGTAGTAGTAAGGGT</td>\n",
       "      <td>25nm</td>\n",
       "      <td>STD</td>\n",
       "    </tr>\n",
       "    <tr>\n",
       "      <th>14</th>\n",
       "      <td>Lep568_bc73_fl4</td>\n",
       "      <td>GCCTAGATGCCCTTTATGTTGGAGGTGTAGGGAGTAAA</td>\n",
       "      <td>25nm</td>\n",
       "      <td>STD</td>\n",
       "    </tr>\n",
       "    <tr>\n",
       "      <th>15</th>\n",
       "      <td>Lep568_bc73_fl1</td>\n",
       "      <td>GCCTAGATGCCCTTTATGTGTGGAGGGATTGAAGGATA</td>\n",
       "      <td>25nm</td>\n",
       "      <td>STD</td>\n",
       "    </tr>\n",
       "    <tr>\n",
       "      <th>16</th>\n",
       "      <td>Lmir444_bc26_fl5</td>\n",
       "      <td>TGGCACAGTCCTTTTCGTTCCAGGGTGTGTTTGTAAAGGGT</td>\n",
       "      <td>25nm</td>\n",
       "      <td>STD</td>\n",
       "    </tr>\n",
       "    <tr>\n",
       "      <th>17</th>\n",
       "      <td>Lmir444_bc26_fl4</td>\n",
       "      <td>TGGCACAGTCCTTTTCGTTCCTTGGAGGTGTAGGGAGTAAA</td>\n",
       "      <td>25nm</td>\n",
       "      <td>STD</td>\n",
       "    </tr>\n",
       "    <tr>\n",
       "      <th>18</th>\n",
       "      <td>Lmir444_bc26_fl2</td>\n",
       "      <td>TGGCACAGTCCTTTTCGTTCCATAGGAAATGGTGGTAGTGT</td>\n",
       "      <td>25nm</td>\n",
       "      <td>STD</td>\n",
       "    </tr>\n",
       "    <tr>\n",
       "      <th>19</th>\n",
       "      <td>Pas111_bc45_fl6</td>\n",
       "      <td>TCCCAAGCATTACTCACCAGGTTAGGTTGAGAATAGGA</td>\n",
       "      <td>25nm</td>\n",
       "      <td>STD</td>\n",
       "    </tr>\n",
       "    <tr>\n",
       "      <th>20</th>\n",
       "      <td>Pas111_bc45_fl4</td>\n",
       "      <td>TCCCAAGCATTACTCACCTTGGAGGTGTAGGGAGTAAA</td>\n",
       "      <td>25nm</td>\n",
       "      <td>STD</td>\n",
       "    </tr>\n",
       "    <tr>\n",
       "      <th>21</th>\n",
       "      <td>Pas111_bc45_fl3</td>\n",
       "      <td>TCCCAAGCATTACTCACCAGAGTGAGTAGTAGTGGAGT</td>\n",
       "      <td>25nm</td>\n",
       "      <td>STD</td>\n",
       "    </tr>\n",
       "    <tr>\n",
       "      <th>22</th>\n",
       "      <td>Pas111_bc45_fl1</td>\n",
       "      <td>TCCCAAGCATTACTCACCTGTGGAGGGATTGAAGGATA</td>\n",
       "      <td>25nm</td>\n",
       "      <td>STD</td>\n",
       "    </tr>\n",
       "    <tr>\n",
       "      <th>23</th>\n",
       "      <td>Pg1160_bc10_fl4</td>\n",
       "      <td>CCTCACGCCTTACGACGGTTGGAGGTGTAGGGAGTAAA</td>\n",
       "      <td>25nm</td>\n",
       "      <td>STD</td>\n",
       "    </tr>\n",
       "    <tr>\n",
       "      <th>24</th>\n",
       "      <td>Pg1160_bc10_fl2</td>\n",
       "      <td>CCTCACGCCTTACGACGGATAGGAAATGGTGGTAGTGT</td>\n",
       "      <td>25nm</td>\n",
       "      <td>STD</td>\n",
       "    </tr>\n",
       "    <tr>\n",
       "      <th>25</th>\n",
       "      <td>Cap371_bc5_fl3</td>\n",
       "      <td>TCAGTCTTCCGACCATTGAGAGTGAGTAGTAGTGGAGT</td>\n",
       "      <td>25nm</td>\n",
       "      <td>STD</td>\n",
       "    </tr>\n",
       "    <tr>\n",
       "      <th>26</th>\n",
       "      <td>Cap371_bc5_fl1</td>\n",
       "      <td>TCAGTCTTCCGACCATTGTGTGGAGGGATTGAAGGATA</td>\n",
       "      <td>25nm</td>\n",
       "      <td>STD</td>\n",
       "    </tr>\n",
       "    <tr>\n",
       "      <th>27</th>\n",
       "      <td>Prv392_bc8_fl4</td>\n",
       "      <td>GCACGCTACTTGGCTGGTTGGAGGTGTAGGGAGTAAA</td>\n",
       "      <td>25nm</td>\n",
       "      <td>STD</td>\n",
       "    </tr>\n",
       "    <tr>\n",
       "      <th>28</th>\n",
       "      <td>Gem572_bc16_fl5</td>\n",
       "      <td>TAAACCACCTGCGCGCGCTTAGGGTGTGTTTGTAAAGGGT</td>\n",
       "      <td>25nm</td>\n",
       "      <td>STD</td>\n",
       "    </tr>\n",
       "    <tr>\n",
       "      <th>29</th>\n",
       "      <td>Trp684_bc80_fl7</td>\n",
       "      <td>TCTACAGATTCCACCCCTACGATGATGTAGTAGTAAGGGT</td>\n",
       "      <td>25nm</td>\n",
       "      <td>STD</td>\n",
       "    </tr>\n",
       "    <tr>\n",
       "      <th>30</th>\n",
       "      <td>Trp684_bc80_fl5</td>\n",
       "      <td>TCTACAGATTCCACCCCTACAGGGTGTGTTTGTAAAGGGT</td>\n",
       "      <td>25nm</td>\n",
       "      <td>STD</td>\n",
       "    </tr>\n",
       "    <tr>\n",
       "      <th>31</th>\n",
       "      <td>Fus714_bc70_fl7</td>\n",
       "      <td>GGCTTCCCCATCGGCATTGATGATGTAGTAGTAAGGGT</td>\n",
       "      <td>25nm</td>\n",
       "      <td>STD</td>\n",
       "    </tr>\n",
       "    <tr>\n",
       "      <th>32</th>\n",
       "      <td>Fus714_bc70_fl3</td>\n",
       "      <td>GGCTTCCCCATCGGCATTAGAGTGAGTAGTAGTGGAGT</td>\n",
       "      <td>25nm</td>\n",
       "      <td>STD</td>\n",
       "    </tr>\n",
       "    <tr>\n",
       "      <th>33</th>\n",
       "      <td>Fus714_bc70_fl2</td>\n",
       "      <td>GGCTTCCCCATCGGCATTATAGGAAATGGTGGTAGTGT</td>\n",
       "      <td>25nm</td>\n",
       "      <td>STD</td>\n",
       "    </tr>\n",
       "    <tr>\n",
       "      <th>34</th>\n",
       "      <td>Nei1030_bc40_fl6</td>\n",
       "      <td>CCTGTGTTACGGCTCCCGAGGTTAGGTTGAGAATAGGA</td>\n",
       "      <td>25nm</td>\n",
       "      <td>STD</td>\n",
       "    </tr>\n",
       "    <tr>\n",
       "      <th>35</th>\n",
       "      <td>Nei1030_bc40_fl4</td>\n",
       "      <td>CCTGTGTTACGGCTCCCGTTGGAGGTGTAGGGAGTAAA</td>\n",
       "      <td>25nm</td>\n",
       "      <td>STD</td>\n",
       "    </tr>\n",
       "    <tr>\n",
       "      <th>36</th>\n",
       "      <td>TM7550_bc86_fl7</td>\n",
       "      <td>CCCAGTCACTCCGGATAAGATGATGTAGTAGTAAGGGT</td>\n",
       "      <td>25nm</td>\n",
       "      <td>STD</td>\n",
       "    </tr>\n",
       "    <tr>\n",
       "      <th>37</th>\n",
       "      <td>TM7550_bc86_fl5</td>\n",
       "      <td>CCCAGTCACTCCGGATAAAGGGTGTGTTTGTAAAGGGT</td>\n",
       "      <td>25nm</td>\n",
       "      <td>STD</td>\n",
       "    </tr>\n",
       "    <tr>\n",
       "      <th>38</th>\n",
       "      <td>TM7550_bc86_fl3</td>\n",
       "      <td>CCCAGTCACTCCGGATAAAGAGTGAGTAGTAGTGGAGT</td>\n",
       "      <td>25nm</td>\n",
       "      <td>STD</td>\n",
       "    </tr>\n",
       "    <tr>\n",
       "      <th>39</th>\n",
       "      <td>TM7550_bc86_fl2</td>\n",
       "      <td>CCCAGTCACTCCGGATAAATAGGAAATGGTGGTAGTGT</td>\n",
       "      <td>25nm</td>\n",
       "      <td>STD</td>\n",
       "    </tr>\n",
       "  </tbody>\n",
       "</table>\n",
       "</div>"
      ],
      "text/plain": [
       "                Name                                   Sequence Scale  \\\n",
       "0    Str405_bc12_fl4     TAGCCGTCCCTTTCTGGTTTGGAGGTGTAGGGAGTAAA  25nm   \n",
       "1    Str405_bc12_fl3     TAGCCGTCCCTTTCTGGTAGAGTGAGTAGTAGTGGAGT  25nm   \n",
       "2    Vei488_bc20_fl5     CCGTGGCTTTCTATTCCGAGGGTGTGTTTGTAAAGGGT  25nm   \n",
       "3    Vei488_bc20_fl3     CCGTGGCTTTCTATTCCGAGAGTGAGTAGTAGTGGAGT  25nm   \n",
       "4     Rot491_bc4_fl3     TAGCCGGCGCTTTCTCTGAGAGTGAGTAGTAGTGGAGT  25nm   \n",
       "5     Act476_bc2_fl2     ATCCAGCTACCGTCAACCATAGGAAATGGTGGTAGTGT  25nm   \n",
       "6     Sel60_bc25_fl5     TCATTCGCTCCGTTCGACAGGGTGTGTTTGTAAAGGGT  25nm   \n",
       "7     Sel60_bc25_fl4     TCATTCGCTCCGTTCGACTTGGAGGTGTAGGGAGTAAA  25nm   \n",
       "8     Sel60_bc25_fl1     TCATTCGCTCCGTTCGACTGTGGAGGGATTGAAGGATA  25nm   \n",
       "9   Cam1021_bc64_fl7   ATTTCTGCAAGCAGACACTCGATGATGTAGTAGTAAGGGT  25nm   \n",
       "10    Cor595_bc1_fl1   CCGGAATTTCACAGACGACGTGTGGAGGGATTGAAGGATA  25nm   \n",
       "11    Cor633_bc1_fl1   AGTTATGCCCGTATCGCCTGTGTGGAGGGATTGAAGGATA  25nm   \n",
       "12   Cmat175_bc1_fl1  ACTAAACCATGGTCCTATCCGTGTGGAGGGATTGAAGGATA  25nm   \n",
       "13   Lep568_bc73_fl7     GCCTAGATGCCCTTTATGGATGATGTAGTAGTAAGGGT  25nm   \n",
       "14   Lep568_bc73_fl4     GCCTAGATGCCCTTTATGTTGGAGGTGTAGGGAGTAAA  25nm   \n",
       "15   Lep568_bc73_fl1     GCCTAGATGCCCTTTATGTGTGGAGGGATTGAAGGATA  25nm   \n",
       "16  Lmir444_bc26_fl5  TGGCACAGTCCTTTTCGTTCCAGGGTGTGTTTGTAAAGGGT  25nm   \n",
       "17  Lmir444_bc26_fl4  TGGCACAGTCCTTTTCGTTCCTTGGAGGTGTAGGGAGTAAA  25nm   \n",
       "18  Lmir444_bc26_fl2  TGGCACAGTCCTTTTCGTTCCATAGGAAATGGTGGTAGTGT  25nm   \n",
       "19   Pas111_bc45_fl6     TCCCAAGCATTACTCACCAGGTTAGGTTGAGAATAGGA  25nm   \n",
       "20   Pas111_bc45_fl4     TCCCAAGCATTACTCACCTTGGAGGTGTAGGGAGTAAA  25nm   \n",
       "21   Pas111_bc45_fl3     TCCCAAGCATTACTCACCAGAGTGAGTAGTAGTGGAGT  25nm   \n",
       "22   Pas111_bc45_fl1     TCCCAAGCATTACTCACCTGTGGAGGGATTGAAGGATA  25nm   \n",
       "23   Pg1160_bc10_fl4     CCTCACGCCTTACGACGGTTGGAGGTGTAGGGAGTAAA  25nm   \n",
       "24   Pg1160_bc10_fl2     CCTCACGCCTTACGACGGATAGGAAATGGTGGTAGTGT  25nm   \n",
       "25    Cap371_bc5_fl3     TCAGTCTTCCGACCATTGAGAGTGAGTAGTAGTGGAGT  25nm   \n",
       "26    Cap371_bc5_fl1     TCAGTCTTCCGACCATTGTGTGGAGGGATTGAAGGATA  25nm   \n",
       "27    Prv392_bc8_fl4      GCACGCTACTTGGCTGGTTGGAGGTGTAGGGAGTAAA  25nm   \n",
       "28   Gem572_bc16_fl5   TAAACCACCTGCGCGCGCTTAGGGTGTGTTTGTAAAGGGT  25nm   \n",
       "29   Trp684_bc80_fl7   TCTACAGATTCCACCCCTACGATGATGTAGTAGTAAGGGT  25nm   \n",
       "30   Trp684_bc80_fl5   TCTACAGATTCCACCCCTACAGGGTGTGTTTGTAAAGGGT  25nm   \n",
       "31   Fus714_bc70_fl7     GGCTTCCCCATCGGCATTGATGATGTAGTAGTAAGGGT  25nm   \n",
       "32   Fus714_bc70_fl3     GGCTTCCCCATCGGCATTAGAGTGAGTAGTAGTGGAGT  25nm   \n",
       "33   Fus714_bc70_fl2     GGCTTCCCCATCGGCATTATAGGAAATGGTGGTAGTGT  25nm   \n",
       "34  Nei1030_bc40_fl6     CCTGTGTTACGGCTCCCGAGGTTAGGTTGAGAATAGGA  25nm   \n",
       "35  Nei1030_bc40_fl4     CCTGTGTTACGGCTCCCGTTGGAGGTGTAGGGAGTAAA  25nm   \n",
       "36   TM7550_bc86_fl7     CCCAGTCACTCCGGATAAGATGATGTAGTAGTAAGGGT  25nm   \n",
       "37   TM7550_bc86_fl5     CCCAGTCACTCCGGATAAAGGGTGTGTTTGTAAAGGGT  25nm   \n",
       "38   TM7550_bc86_fl3     CCCAGTCACTCCGGATAAAGAGTGAGTAGTAGTGGAGT  25nm   \n",
       "39   TM7550_bc86_fl2     CCCAGTCACTCCGGATAAATAGGAAATGGTGGTAGTGT  25nm   \n",
       "\n",
       "   Purification  \n",
       "0           STD  \n",
       "1           STD  \n",
       "2           STD  \n",
       "3           STD  \n",
       "4           STD  \n",
       "5           STD  \n",
       "6           STD  \n",
       "7           STD  \n",
       "8           STD  \n",
       "9           STD  \n",
       "10          STD  \n",
       "11          STD  \n",
       "12          STD  \n",
       "13          STD  \n",
       "14          STD  \n",
       "15          STD  \n",
       "16          STD  \n",
       "17          STD  \n",
       "18          STD  \n",
       "19          STD  \n",
       "20          STD  \n",
       "21          STD  \n",
       "22          STD  \n",
       "23          STD  \n",
       "24          STD  \n",
       "25          STD  \n",
       "26          STD  \n",
       "27          STD  \n",
       "28          STD  \n",
       "29          STD  \n",
       "30          STD  \n",
       "31          STD  \n",
       "32          STD  \n",
       "33          STD  \n",
       "34          STD  \n",
       "35          STD  \n",
       "36          STD  \n",
       "37          STD  \n",
       "38          STD  \n",
       "39          STD  "
      ]
     },
     "execution_count": 182,
     "metadata": {},
     "output_type": "execute_result"
    }
   ],
   "source": [
    "names = []\n",
    "seqs = []\n",
    "for tax, probes_flank in dict_tax_probe_flank.items():\n",
    "    probe_names = dict_tax_probename[tax]\n",
    "    bc = dict_tax_bc_new[tax]\n",
    "    bc_b10 = int(str(bc),2)\n",
    "    for n, seq in probes_flank.items():\n",
    "        for s in seq:\n",
    "            name = n + '_bc' + str(bc_b10) + '_fl' + str(s[1])\n",
    "            names.append(name)\n",
    "            seqs.append(s[0])\n",
    "\n",
    "df_idt = pd.DataFrame({'Name':names, 'Sequence':seqs})\n",
    "df_idt['Scale'] = '25nm'\n",
    "df_idt['Purification'] = 'STD'\n",
    "\n",
    "df_idt_fn = 'welch2016_7b_distant_IDT_v2.csv'\n",
    "df_idt.to_csv(df_idt_fn, index=False)\n",
    "df_idt\n",
    "\n"
   ]
  },
  {
   "cell_type": "code",
   "execution_count": null,
   "metadata": {},
   "outputs": [],
   "source": []
  }
 ],
 "metadata": {
  "kernelspec": {
   "display_name": "Python 3 (ipykernel)",
   "language": "python",
   "name": "python3"
  },
  "language_info": {
   "codemirror_mode": {
    "name": "ipython",
    "version": 3
   },
   "file_extension": ".py",
   "mimetype": "text/x-python",
   "name": "python",
   "nbconvert_exporter": "python",
   "pygments_lexer": "ipython3",
   "version": "3.8.5"
  },
  "orig_nbformat": 4
 },
 "nbformat": 4,
 "nbformat_minor": 2
}

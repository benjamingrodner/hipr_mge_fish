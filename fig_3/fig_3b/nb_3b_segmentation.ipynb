{
  "cells": [
    {
      "cell_type": "markdown",
      "source": [
        "\n",
        "# Figure 3b: Image Segmentation\n",
        "\n",
        "Used \"hiprfish_imaging_py38\" conda environment\n"
      ],
      "metadata": {
        "nteract": {
          "transient": {
            "deleting": false
          }
        }
      }
    },
    {
      "cell_type": "markdown",
      "source": [
        "\n",
        "=============================================================================\n",
        "## Setup\n",
        "=============================================================================\n"
      ],
      "metadata": {
        "nteract": {
          "transient": {
            "deleting": false
          }
        }
      }
    },
    {
      "cell_type": "markdown",
      "source": [
        "\n",
        "Imports.\n"
      ],
      "metadata": {
        "nteract": {
          "transient": {
            "deleting": false
          }
        }
      }
    },
    {
      "cell_type": "code",
      "source": [
        "import glob\n",
        "import pandas as pd\n",
        "import subprocess\n",
        "import yaml\n",
        "import gc\n",
        "import os\n",
        "import re\n",
        "import javabridge\n",
        "import bioformats\n",
        "import sys\n",
        "gc.enable()  # Garbage cleanup\n"
      ],
      "outputs": [],
      "execution_count": null,
      "metadata": {
        "jupyter": {
          "source_hidden": false,
          "outputs_hidden": false
        },
        "nteract": {
          "transient": {
            "deleting": false
          }
        }
      }
    },
    {
      "cell_type": "markdown",
      "source": [
        "\n",
        "Move to the working directory (workdir) you want.\n"
      ],
      "metadata": {
        "nteract": {
          "transient": {
            "deleting": false
          }
        }
      }
    },
    {
      "cell_type": "code",
      "source": [
        "# Absolute path\n",
        "project_workdir = '/fs/cbsuvlaminck2/workdir/bmg224/manuscripts/mgefish/code/fig_3/fig_3b'\n",
        "\n",
        "os.chdir(project_workdir)\n",
        "os.getcwd()  # Make sure you're in the right directory\n"
      ],
      "outputs": [],
      "execution_count": null,
      "metadata": {
        "jupyter": {
          "source_hidden": false,
          "outputs_hidden": false
        },
        "nteract": {
          "transient": {
            "deleting": false
          }
        }
      }
    },
    {
      "cell_type": "markdown",
      "source": [
        "\n",
        "Go into your configuration file and adjust all of the 'Paths' so they are relative to the workdir.\n",
        "\n",
        "Also adjust the 'Inputs' parameters to fit the images.\n"
      ],
      "metadata": {
        "nteract": {
          "transient": {
            "deleting": false
          }
        }
      }
    },
    {
      "cell_type": "code",
      "source": [
        "config_fn = 'config.yaml' # relative path to config file from workdir\n",
        "\n",
        "with open(config_fn, 'r') as f:\n",
        "    config = yaml.safe_load(f)\n"
      ],
      "outputs": [],
      "execution_count": null,
      "metadata": {
        "jupyter": {
          "source_hidden": false,
          "outputs_hidden": false
        },
        "nteract": {
          "transient": {
            "deleting": false
          }
        }
      }
    },
    {
      "cell_type": "markdown",
      "source": [
        "\n",
        "Load specialized modules. Make sure you have the [segmentation pipeline](https://github.com/benjamingrodner/pipeline_segmentation).\n"
      ],
      "metadata": {
        "nteract": {
          "transient": {
            "deleting": false
          }
        }
      }
    },
    {
      "cell_type": "code",
      "source": [
        "%load_ext autoreload\n",
        "%autoreload 2\n",
        "\n",
        "sys.path.append(config['pipeline_path'] + '/' + config['functions_path'])\n",
        "import image_plots as ip\n",
        "import segmentation_func as sf\n",
        "import spot_funcs as spf\n"
      ],
      "outputs": [],
      "execution_count": null,
      "metadata": {
        "jupyter": {
          "source_hidden": false,
          "outputs_hidden": false
        },
        "nteract": {
          "transient": {
            "deleting": false
          }
        }
      }
    },
    {
      "cell_type": "markdown",
      "source": [
        "\n",
        "=============================================================================\n",
        "## Set segmentation parameters\n",
        "=============================================================================\n"
      ],
      "metadata": {
        "nteract": {
          "transient": {
            "deleting": false
          }
        }
      }
    },
    {
      "cell_type": "markdown",
      "source": [
        "\n",
        "Get the input filenames. Reload the config file if you need to update the regular expression.\n"
      ],
      "metadata": {
        "nteract": {
          "transient": {
            "deleting": false
          }
        }
      }
    },
    {
      "cell_type": "code",
      "source": [
        "input_filenames = glob.glob(config['input_dir'] + '/' + config['input_regex']\n",
        "                            + config['input_ext'])\n",
        "input_filenames.sort()\n",
        "print(len(input_filenames))\n",
        "input_filenames\n"
      ],
      "outputs": [],
      "execution_count": null,
      "metadata": {
        "jupyter": {
          "source_hidden": false,
          "outputs_hidden": false
        },
        "nteract": {
          "transient": {
            "deleting": false
          }
        }
      }
    },
    {
      "cell_type": "markdown",
      "source": [
        "\n",
        "Select an image to test segmentation parameters\n"
      ],
      "metadata": {
        "nteract": {
          "transient": {
            "deleting": false
          }
        }
      }
    },
    {
      "cell_type": "code",
      "source": [
        "test_index = 1\n",
        "input_fn = input_filenames[test_index]\n",
        "input_fn\n"
      ],
      "outputs": [],
      "execution_count": null,
      "metadata": {
        "jupyter": {
          "source_hidden": false,
          "outputs_hidden": false
        },
        "nteract": {
          "transient": {
            "deleting": false
          }
        }
      }
    },
    {
      "cell_type": "code",
      "source": [
        "javabridge.start_vm(class_path=bioformats.JARS)\n",
        "input = bioformats.load_image(input_fn)\n",
        "input.shape\n"
      ],
      "outputs": [],
      "execution_count": null,
      "metadata": {
        "jupyter": {
          "source_hidden": false,
          "outputs_hidden": false
        },
        "nteract": {
          "transient": {
            "deleting": false
          }
        }
      }
    },
    {
      "cell_type": "code",
      "source": [
        "n_channels = input.shape[2]\n",
        "n_channels\n"
      ],
      "outputs": [],
      "execution_count": null,
      "metadata": {
        "jupyter": {
          "source_hidden": false,
          "outputs_hidden": false
        },
        "nteract": {
          "transient": {
            "deleting": false
          }
        }
      }
    },
    {
      "cell_type": "code",
      "source": [
        "clims = [(0,0.05),(0,0.05),(0,0.05),(0,0.25)] # One color threshold tuple per channel\n",
        "im_list = [input[:,:,i] for i in range(n_channels)]\n",
        "ip.subplot_square_images(im_list, (1,n_channels), clims=clims)\n"
      ],
      "outputs": [],
      "execution_count": null,
      "metadata": {
        "jupyter": {
          "source_hidden": false,
          "outputs_hidden": false
        },
        "nteract": {
          "transient": {
            "deleting": false
          }
        }
      }
    },
    {
      "cell_type": "markdown",
      "source": [
        "\n",
        "Subset the image for faster results during parameter selection.\n"
      ],
      "metadata": {
        "nteract": {
          "transient": {
            "deleting": false
          }
        }
      }
    },
    {
      "cell_type": "code",
      "source": [
        "sr = [(2000,2500),(2000, 2500)]\n",
        "input_sub = input[sr[0][0]:sr[0][1],sr[1][0]:sr[1][1]]\n",
        "im_list = [input_sub[:,:,i] for i in range(n_channels)]\n",
        "ip.subplot_square_images(im_list, (1,n_channels), clims=clims)\n"
      ],
      "outputs": [],
      "execution_count": null,
      "metadata": {
        "jupyter": {
          "source_hidden": false,
          "outputs_hidden": false
        },
        "nteract": {
          "transient": {
            "deleting": false
          }
        }
      }
    },
    {
      "cell_type": "markdown",
      "source": [
        "\n",
        "Get cell seg channels.\n"
      ],
      "metadata": {
        "nteract": {
          "transient": {
            "deleting": false
          }
        }
      }
    },
    {
      "cell_type": "code",
      "source": [
        "im_cell_list = [input[:,:,i] for i in config['cell_seg']['channels']]\n",
        "# im_cell_list = [input_sub[:,:,i] for i in config['cell_seg']['channels']]\n",
        "if len(im_cell_list) > 1:\n",
        "    im_cell = np.max((np.dstack(im_cell_list)), axis=2)\n",
        "else:\n",
        "    im_cell = im_cell_list[0]\n",
        "im_cell.shape\n"
      ],
      "outputs": [],
      "execution_count": null,
      "metadata": {
        "jupyter": {
          "source_hidden": false,
          "outputs_hidden": false
        },
        "nteract": {
          "transient": {
            "deleting": false
          }
        }
      }
    },
    {
      "cell_type": "markdown",
      "source": [
        "\n",
        "Test spot seg parameters, adjust in the configuration file, and repeat until it's good. Also repeat with differnt subset regions.\n"
      ],
      "metadata": {
        "nteract": {
          "transient": {
            "deleting": false
          }
        }
      }
    },
    {
      "cell_type": "code",
      "source": [
        "im_cell_mask_old, im_cell_pre_old, im_cell_seg_old = [sf.np.zeros((2,2))]*3\n",
        "im_cell_seg_old[0,0] = 1\n"
      ],
      "outputs": [],
      "execution_count": null,
      "metadata": {
        "jupyter": {
          "source_hidden": false,
          "outputs_hidden": false
        },
        "nteract": {
          "transient": {
            "deleting": false
          }
        }
      }
    },
    {
      "cell_type": "code",
      "source": [
        "with open(config_fn, 'r') as f:\n",
        "    config = yaml.safe_load(f)\n",
        "pdict = config['cell_seg']\n",
        "\n",
        "im_cell_mask = sf.get_background_mask(\n",
        "    im_cell,\n",
        "    bg_filter=pdict['bg_filter'],\n",
        "    bg_log=pdict['bg_log'],\n",
        "    bg_smoothing=pdict['bg_smoothing'],\n",
        "    n_clust_bg=pdict['n_clust_bg'],\n",
        "    top_n_clust_bg=pdict['top_n_clust_bg'],\n",
        "    bg_threshold=pdict['bg_threshold']\n",
        "    )\n",
        "print('old')\n",
        "ip.subplot_square_images([im_cell, im_cell_mask_old], (1,2))\n",
        "ip.plt.show()\n",
        "print('new')\n",
        "ip.subplot_square_images([im_cell, im_cell_mask], (1,2))\n",
        "im_cell_mask_old = im_cell_mask\n"
      ],
      "outputs": [],
      "execution_count": null,
      "metadata": {
        "jupyter": {
          "source_hidden": false,
          "outputs_hidden": false
        },
        "nteract": {
          "transient": {
            "deleting": false
          }
        }
      }
    },
    {
      "cell_type": "code",
      "source": [
        "zc = [2000, 2000]\n",
        "zs = [500, 500]\n",
        "with open(config_fn, 'r') as f:\n",
        "    config = yaml.safe_load(f)\n",
        "pdict = config['cell_seg']\n",
        "\n",
        "im_cell_pre = sf.pre_process(\n",
        "    im_cell[zc[0]:zc[0]+zs[0],zc[1]:zc[1]+zs[1]],\n",
        "    log=pdict['pre_log'],\n",
        "    denoise=pdict['pre_denoise'],\n",
        "    gauss=pdict['pre_gauss'],\n",
        "    diff_gauss=eval(pdict['diff_gauss'])\n",
        "    )\n",
        "\n",
        "im_cell_seg = sf.segment(\n",
        "    im_cell_pre,\n",
        "    background_mask = im_cell_mask[zc[0]:zc[0]+zs[0],zc[1]:zc[1]+zs[1]],\n",
        "    n_clust=pdict['n_clust'],\n",
        "    small_objects=pdict['small_objects']\n",
        "    )\n"
      ],
      "outputs": [],
      "execution_count": null,
      "metadata": {
        "jupyter": {
          "source_hidden": false,
          "outputs_hidden": false
        },
        "nteract": {
          "transient": {
            "deleting": false
          }
        }
      }
    },
    {
      "cell_type": "code",
      "source": [
        "print('old')\n",
        "im_list = [im_cell_mask_old[zc[0]:zc[0]+zs[0],zc[1]:zc[1]+zs[1]],\n",
        "           im_cell[zc[0]:zc[0]+zs[0],zc[1]:zc[1]+zs[1]], im_cell_pre_old,\n",
        "           ip.seg2rgb(im_cell_seg_old)]\n",
        "ip.subplot_square_images(im_list, (1,4))\n",
        "ip.plt.show()\n",
        "print('new')\n",
        "im_list = [ im_cell_mask[zc[0]:zc[0]+zs[0],zc[1]:zc[1]+zs[1]],\n",
        "            im_cell[zc[0]:zc[0]+zs[0],zc[1]:zc[1]+zs[1]], im_cell_pre,\n",
        "            ip.seg2rgb(im_cell_seg)]\n",
        "ip.subplot_square_images(im_list, (1,4))\n",
        "im_cell_pre_old = im_cell_pre\n",
        "im_cell_seg_old = im_cell_seg\n",
        "# seg_clims = max([clims[i] for i in config['cell_seg']['channels']])\n",
        "# ip.subplot_square_images(im_list, (1,4), clims=(seg_clims, seg_clims,'',''))\n"
      ],
      "outputs": [],
      "execution_count": null,
      "metadata": {
        "jupyter": {
          "source_hidden": false,
          "outputs_hidden": false
        },
        "nteract": {
          "transient": {
            "deleting": false
          }
        }
      }
    },
    {
      "cell_type": "markdown",
      "source": [
        "\n",
        "Images above from left to right: Raw, pre-processed, background mask, final segmentation.\n",
        "\n",
        "Below the segmentation projected onto the raw image\n"
      ],
      "metadata": {
        "nteract": {
          "transient": {
            "deleting": false
          }
        }
      }
    },
    {
      "cell_type": "code",
      "source": [
        "fig, ax, cbar = ip.plot_image(im_cell[zc[0]:zc[0]+zs[0],zc[1]:zc[1]+zs[1]], cmap='inferno')\n",
        "ip.plot_seg_outline(ax, im_cell_seg, col=(0,0,0))\n"
      ],
      "outputs": [],
      "execution_count": null,
      "metadata": {
        "jupyter": {
          "source_hidden": false,
          "outputs_hidden": false
        },
        "nteract": {
          "transient": {
            "deleting": false
          }
        }
      }
    },
    {
      "cell_type": "markdown",
      "source": [
        "\n",
        "Test spot seg parameters, adjust in the configuration file, and repeat until it's good. Check all the spot seg channels.\n"
      ],
      "metadata": {
        "nteract": {
          "transient": {
            "deleting": false
          }
        }
      }
    },
    {
      "cell_type": "code",
      "source": [
        "sp=0\n",
        "im_spot_list = [input[:,:,i] for i in config['spot_seg']['channels']]\n",
        "im_spot = im_spot_list[sp]\n"
      ],
      "outputs": [],
      "execution_count": null,
      "metadata": {
        "jupyter": {
          "source_hidden": false,
          "outputs_hidden": false
        },
        "nteract": {
          "transient": {
            "deleting": false
          }
        }
      }
    },
    {
      "cell_type": "code",
      "source": [
        "im_spot_mask_old, im_spot_pre_old, im_spot_seg_old = [sf.np.zeros((2,2))]*3\n",
        "im_spot_seg_old[0,0] = 1\n"
      ],
      "outputs": [],
      "execution_count": null,
      "metadata": {
        "jupyter": {
          "source_hidden": false,
          "outputs_hidden": false
        },
        "nteract": {
          "transient": {
            "deleting": false
          }
        }
      }
    },
    {
      "cell_type": "code",
      "source": [
        "with open(config_fn, 'r') as f:\n",
        "    config = yaml.safe_load(f)\n",
        "pdict = config['spot_seg']\n",
        "\n",
        "im_spot_mask = sf.get_background_mask(\n",
        "    im_spot,\n",
        "    bg_filter=pdict['bg_filter'],\n",
        "    bg_log=pdict['bg_log'],\n",
        "    bg_smoothing=pdict['bg_smoothing'],\n",
        "    n_clust_bg=pdict['n_clust_bg'],\n",
        "    top_n_clust_bg=pdict['top_n_clust_bg'],\n",
        "    bg_threshold=pdict['bg_threshold']\n",
        "    )\n",
        "print('old')\n",
        "ip.subplot_square_images([im_spot, im_spot_mask_old], (1,2))\n",
        "ip.plt.show()\n",
        "print('new')\n",
        "ip.subplot_square_images([im_spot, im_spot_mask], (1,2))\n",
        "im_spot_mask_old = im_spot_mask\n"
      ],
      "outputs": [],
      "execution_count": null,
      "metadata": {
        "jupyter": {
          "source_hidden": false,
          "outputs_hidden": false
        },
        "nteract": {
          "transient": {
            "deleting": false
          }
        }
      }
    },
    {
      "cell_type": "code",
      "source": [
        "zc = [4000, 4000]\n",
        "zs = [500, 500]\n",
        "with open(config_fn, 'r') as f:\n",
        "    config = yaml.safe_load(f)\n",
        "pdict = config['spot_seg']\n",
        "\n",
        "im_spot_pre = sf.pre_process(\n",
        "    im_spot[zc[0]:zc[0]+zs[0],zc[1]:zc[1]+zs[1]],\n",
        "    log=pdict['pre_log'],\n",
        "    denoise=pdict['pre_denoise'],\n",
        "    gauss=pdict['pre_gauss'],\n",
        "    diff_gauss=eval(pdict['diff_gauss'])\n",
        "    )\n",
        "\n",
        "im_spot_seg = sf.segment(\n",
        "    im_spot_pre,\n",
        "    background_mask = im_spot_mask[zc[0]:zc[0]+zs[0],zc[1]:zc[1]+zs[1]],\n",
        "    n_clust=pdict['n_clust'],\n",
        "    small_objects=pdict['small_objects']\n",
        "    )\n"
      ],
      "outputs": [],
      "execution_count": null,
      "metadata": {
        "jupyter": {
          "source_hidden": false,
          "outputs_hidden": false
        },
        "nteract": {
          "transient": {
            "deleting": false
          }
        }
      }
    },
    {
      "cell_type": "code",
      "source": [
        "print('old')\n",
        "im_list = [im_spot_mask_old[zc[0]:zc[0]+zs[0],zc[1]:zc[1]+zs[1]],\n",
        "           im_spot[zc[0]:zc[0]+zs[0],zc[1]:zc[1]+zs[1]], im_spot_pre_old,\n",
        "           ip.seg2rgb(im_spot_seg_old)]\n",
        "ip.subplot_square_images(im_list, (1,4))\n",
        "ip.plt.show()\n",
        "print('new')\n",
        "im_list = [ im_spot_mask[zc[0]:zc[0]+zs[0],zc[1]:zc[1]+zs[1]],\n",
        "            im_spot[zc[0]:zc[0]+zs[0],zc[1]:zc[1]+zs[1]], im_spot_pre,\n",
        "            ip.seg2rgb(im_spot_seg)]\n",
        "ip.subplot_square_images(im_list, (1,4))\n",
        "im_spot_pre_old = im_spot_pre\n",
        "im_spot_seg_old = im_spot_seg\n",
        "# seg_clims = max([clims[i] for i in config['cell_seg']['channels']])\n",
        "# ip.subplot_square_images(im_list, (1,4), clims=(seg_clims, seg_clims,'',''))\n"
      ],
      "outputs": [],
      "execution_count": null,
      "metadata": {
        "jupyter": {
          "source_hidden": false,
          "outputs_hidden": false
        },
        "nteract": {
          "transient": {
            "deleting": false
          }
        }
      }
    },
    {
      "cell_type": "markdown",
      "source": [
        "\n",
        "Images above from left to right: Raw, pre-processed, background mask, final segmentation.\n",
        "\n",
        "Below the segmentation projected onto the raw image\n"
      ],
      "metadata": {
        "nteract": {
          "transient": {
            "deleting": false
          }
        }
      }
    },
    {
      "cell_type": "code",
      "source": [
        "fig, ax, cbar = ip.plot_image(im_spot[zc[0]:zc[0]+zs[0],zc[1]:zc[1]+zs[1]], cmap='inferno')\n",
        "ip.plot_seg_outline(ax, im_spot_seg, col=(0,0,0))\n"
      ],
      "outputs": [],
      "execution_count": null,
      "metadata": {
        "jupyter": {
          "source_hidden": false,
          "outputs_hidden": false
        },
        "nteract": {
          "transient": {
            "deleting": false
          }
        }
      }
    },
    {
      "cell_type": "markdown",
      "source": [
        "\n",
        "Adjust the local maxima minimum distance parameter. Segmentations with more than one local maximum will be split into different segmentations\n"
      ],
      "metadata": {
        "nteract": {
          "transient": {
            "deleting": false
          }
        }
      }
    },
    {
      "cell_type": "code",
      "source": [
        "with open(config_fn, 'r') as f:\n",
        "    config = yaml.safe_load(f)\n",
        "\n",
        "# maxs = spf.peak_local_max(im_spot, min_distance = config['local_max_mindist'])\n",
        "ma = spf._get_merged_peaks(im_spot[zc[0]:zc[0]+zs[0],zc[1]:zc[1]+zs[1]],\n",
        "                            min_distance=config['local_max_mindist'])\n",
        "# is_peak = spf.peak_local_max(im_spot, indices=False, min_distance=config['local_max_mindist']) # outputs bool image\n",
        "# is_peak.shape\n",
        "# labels = spf.label(is_peak)[0]\n",
        "# merged_peaks = spf.center_of_mass(is_peak, labels, range(1, np.max(labels)+1))\n",
        "# ma = np.array(merged_peaks)\n",
        "fig, ax, cbar = ip.plot_image(im_spot[zc[0]:zc[0]+zs[0],zc[1]:zc[1]+zs[1]],\n",
        "                              cmap='inferno', im_inches=20)\n",
        "ax.scatter(ma[:,1],ma[:,0], s=50, color=(0,1,0))\n",
        "ax = ip.plot_seg_outline(ax, im_spot_seg, col=(0,0.8,0.8))\n",
        "# ax.set_xlim((300,400))\n",
        "# ax.set_ylim((425,475))\n"
      ],
      "outputs": [],
      "execution_count": null,
      "metadata": {
        "jupyter": {
          "source_hidden": false,
          "outputs_hidden": false
        },
        "nteract": {
          "transient": {
            "deleting": false
          }
        }
      }
    },
    {
      "cell_type": "markdown",
      "source": [
        "=============================================================================\n",
        "## Run the pipeline\n",
        "=============================================================================\n",
        "\n",
        "To run a test of the pipeline write an input table with only one file.\n"
      ],
      "metadata": {
        "nteract": {
          "transient": {
            "deleting": false
          }
        }
      }
    },
    {
      "cell_type": "code",
      "source": [
        "input_fns_split = [os.path.split(fn)[1] for fn in [input_fn]]\n",
        "sample_names = [re.sub(config['input_ext'], '', fn) for fn in input_fns_split]\n",
        "input_table = pd.DataFrame(sample_names, columns=config['input_table_cols'])\n",
        "input_table.to_csv(config['input_table_fn'], index=False)\n",
        "sample_names\n"
      ],
      "outputs": [],
      "execution_count": null,
      "metadata": {
        "jupyter": {
          "source_hidden": false,
          "outputs_hidden": false
        },
        "nteract": {
          "transient": {
            "deleting": false
          }
        }
      }
    },
    {
      "cell_type": "markdown",
      "source": [
        "\n",
        "To run all the samples write a full input table.\n"
      ],
      "metadata": {
        "nteract": {
          "transient": {
            "deleting": false
          }
        }
      }
    },
    {
      "cell_type": "code",
      "source": [
        "input_fns_split = [os.path.split(fn)[1] for fn in input_filenames]\n",
        "sample_names = [re.sub(config['input_ext'], '', fn) for fn in input_fns_split]\n",
        "input_table = pd.DataFrame(sample_names, columns=config['input_table_cols'])\n",
        "input_table.to_csv(config['input_table_fn'], index=False)\n",
        "input_table.values\n"
      ],
      "outputs": [],
      "execution_count": null,
      "metadata": {
        "jupyter": {
          "source_hidden": false,
          "outputs_hidden": false
        },
        "nteract": {
          "transient": {
            "deleting": false
          }
        }
      }
    },
    {
      "cell_type": "markdown",
      "source": [
        "\n",
        "Write the snakemake execution code to a bash script.\n"
      ],
      "metadata": {
        "nteract": {
          "transient": {
            "deleting": false
          }
        }
      }
    },
    {
      "cell_type": "code",
      "source": [
        "dry_run = False  # Just create DAG if True\n",
        "n_cores = 2  # number of allowed cores for the snakemake to use\n",
        "force_run = 'segment_cells'  # Pick a rule to re-run. False if you don't want a force run.\n",
        "\n",
        "snakefile = config['snakefile']\n",
        "dr = '-pn' if dry_run else '-p'\n",
        "fr = '-R ' + force_run if force_run else ''\n",
        "command = \" \".join(['snakemake', '-s', snakefile, '--configfile', config_fn, '-j',\n",
        "                    str(n_cores), dr, fr])\n",
        "\n",
        "with open(config['run_fn'], 'w') as f:\n",
        "    f.write(command)\n",
        "\n",
        "command\n"
      ],
      "outputs": [],
      "execution_count": null,
      "metadata": {
        "jupyter": {
          "source_hidden": false,
          "outputs_hidden": false
        },
        "nteract": {
          "transient": {
            "deleting": false
          }
        }
      }
    },
    {
      "cell_type": "markdown",
      "source": [
        "\n",
        "Now execute the script in the command line.\n",
        "\n",
        "```console\n",
        "$ conda activate hiprfish_imaging_py38\n",
        "$ cd /fs/cbsuvlaminck2/workdir/bmg224/manuscripts/mgefish/code/fig_3/fig_3b\n",
        "$ sh run.sh\n",
        "```\n",
        "\n",
        "Check the segmentation\n"
      ],
      "metadata": {
        "nteract": {
          "transient": {
            "deleting": false
          }
        }
      }
    },
    {
      "cell_type": "code",
      "source": [
        "zf = [0.5,0.4]  # location of the zoom image as a fraction of the total axis len\n",
        "zs = 1000  # size of the zoom box\n",
        "for sn in sample_names:\n",
        "    print(sn)\n",
        "    _raw_npy_fn = config['output_dir'] + '/raw_npy/{sn}.npy'.format(sn=sn)\n",
        "    _raw = sf.np.load(_raw_npy_fn)\n",
        "    _r, _c = round(_raw.shape[0]*zf[0]), round(_raw.shape[1]*zf[1])\n",
        "    _zc = [_r,_r+zs, _c, _c+zs]\n",
        "    for ch in config['cell_seg']['channels']:\n",
        "        print('Cell channel ',ch)\n",
        "        _cell_seg_fn = (config['output_dir'] + '/cell_seg/{sn}/{sn}_chan_{ch}_cell_seg.npy'.format(sn=sn, ch=ch))\n",
        "        _raw_chan = _raw[:,:,ch][_zc[0]:_zc[1],_zc[2]:_zc[3]]\n",
        "        _seg = sf.np.load(_cell_seg_fn)[_zc[0]:_zc[1],_zc[2]:_zc[3]]\n",
        "        ip.subplot_square_images([_raw_chan, ip.seg2rgb(_seg)], (1,2))\n",
        "        ip.plt.show()\n",
        "        ip.plt.close()\n",
        "    for ch in config['spot_seg']['channels']:\n",
        "        print('Spot channel ', ch)\n",
        "        _cell_seg_fn = (config['output_dir'] + '/spot_seg/{sn}/{sn}_chan_{ch}_spot_seg.npy'.format(sn=sn, ch=ch))\n",
        "        _raw_chan = _raw[:,:,ch][_zc[0]:_zc[1],_zc[2]:_zc[3]]\n",
        "        _seg = sf.np.load(_cell_seg_fn)[_zc[0]:_zc[1],_zc[2]:_zc[3]]\n",
        "        ip.subplot_square_images([_raw_chan, ip.seg2rgb(_seg)], (1,2))\n",
        "        ip.plt.show()\n",
        "        ip.plt.close()"
      ],
      "outputs": [],
      "execution_count": null,
      "metadata": {
        "jupyter": {
          "source_hidden": false,
          "outputs_hidden": false
        },
        "nteract": {
          "transient": {
            "deleting": false
          }
        }
      }
    }
  ],
  "metadata": {
    "kernelspec": {
      "name": "python3",
      "resources": {
        "logo-64x64": "/kernelspecs/python3/logo-64x64.png",
        "logo-32x32": "/kernelspecs/python3/logo-32x32.png"
      },
      "language": "python",
      "display_name": "Python 3 (ipykernel)",
      "argv": [
        "/home/bmg224/miniconda3/envs/hiprfish_imaging_py38/bin/python",
        "-m",
        "ipykernel_launcher",
        "-f",
        "{connection_file}"
      ]
    }
  },
  "nbformat": 4,
  "nbformat_minor": 0
}
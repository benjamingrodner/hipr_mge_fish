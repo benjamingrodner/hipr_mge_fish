{
 "cells": [
  {
   "cell_type": "code",
   "execution_count": null,
   "metadata": {},
   "outputs": [],
   "source": [
    "import glob\n",
    "import sys\n",
    "import os\n",
    "import gc\n",
    "import pandas as pd\n",
    "import numpy as np\n",
    "import matplotlib.pyplot as plt\n",
    "import yaml\n",
    "import re\n",
    "import joblib\n",
    "from sklearn.cluster import AgglomerativeClustering\n",
    "from tqdm import tqdm\n",
    "from scipy.ndimage import gaussian_filter\n",
    "from sklearn.neighbors import NearestNeighbors\n",
    "from sklearn.cluster import KMeans\n",
    "from collections import defaultdict\n",
    "import numba as nb\n",
    "import javabridge\n",
    "import bioformats\n",
    "import aicspylibczi as aplc\n",
    "import skimage.restoration as skr\n"
   ]
  },
  {
   "cell_type": "code",
   "execution_count": null,
   "metadata": {},
   "outputs": [],
   "source": [
    "gc.collect()\n"
   ]
  },
  {
   "cell_type": "markdown",
   "metadata": {},
   "source": [
    "Move to workdir"
   ]
  },
  {
   "cell_type": "code",
   "execution_count": null,
   "metadata": {},
   "outputs": [],
   "source": [
    "# Absolute path\n",
    "cluster = '/fs/cbsuvlaminck2/'\n",
    "project_workdir = cluster + '/workdir/bmg224/manuscripts/mgefish/code/harvard_plasmids_imaging/2023_09_12_sapp05_spades08'\n",
    "\n",
    "os.chdir(project_workdir)\n",
    "os.getcwd()  # Make sure you're in the right directory"
   ]
  },
  {
   "cell_type": "markdown",
   "metadata": {},
   "source": [
    "Load config file"
   ]
  },
  {
   "cell_type": "code",
   "execution_count": null,
   "metadata": {},
   "outputs": [],
   "source": [
    "config_fn = 'config_matrix_classify.yaml' # relative path to config file from workdir\n",
    "\n",
    "with open(config_fn, 'r') as f:\n",
    "    config = yaml.safe_load(f)"
   ]
  },
  {
   "cell_type": "markdown",
   "metadata": {},
   "source": [
    "Special imports"
   ]
  },
  {
   "cell_type": "code",
   "execution_count": null,
   "metadata": {},
   "outputs": [],
   "source": [
    "%load_ext autoreload\n",
    "%autoreload 2\n",
    "\n",
    "sys.path.append(cluster + config['pipeline_path'] + '/' + config['functions_path'])\n",
    "import fn_general_use as fgu\n",
    "import image_plots as ip\n",
    "import segmentation_func as sf\n",
    "import fn_hiprfish_classifier as fhc\n",
    "import fn_spectral_images as fsi\n",
    "\n"
   ]
  },
  {
   "cell_type": "markdown",
   "metadata": {},
   "source": [
    "## Preprocessing\n",
    "### Pick a sample"
   ]
  },
  {
   "cell_type": "code",
   "execution_count": null,
   "metadata": {},
   "outputs": [],
   "source": [
    "input_table = pd.read_csv(config['input_table_fn'])\n",
    "input_table"
   ]
  },
  {
   "cell_type": "code",
   "execution_count": null,
   "metadata": {},
   "outputs": [],
   "source": [
    "sn_i = 6\n",
    "# sample_names = input_table['sample_name'].values\n",
    "# sn = sample_names[sn_i]\n",
    "sn, mt, af = input_table.iloc[sn_i, :].values\n",
    "sn"
   ]
  },
  {
   "cell_type": "markdown",
   "metadata": {},
   "source": [
    "Load registered image"
   ]
  },
  {
   "cell_type": "code",
   "execution_count": null,
   "metadata": {},
   "outputs": [],
   "source": [
    "m = 3\n",
    "\n",
    "shift_fmt = config['output_dir'] + '/' + config['shift_dir']\n",
    "af_str = re.sub('\\.','_',str(af))\n",
    "shift_dir = shift_fmt.format(sample_name=sn, maskthresh=mt, allfluor=af_str)\n",
    "raw_fns = sorted(glob.glob(shift_dir + '/' + sn + '_M_' + str(m) + '_*'))\n",
    "raws = [np.load(f) for f in raw_fns]\n",
    "[r.shape for r in raws]\n"
   ]
  },
  {
   "cell_type": "markdown",
   "metadata": {},
   "source": [
    "Plot RGB"
   ]
  },
  {
   "cell_type": "code",
   "execution_count": null,
   "metadata": {},
   "outputs": [],
   "source": [
    "clips = [(0.075,0.75),(0.075,0.5),(0.05,0.5)]\n",
    "\n",
    "rgb = [np.max(r, axis=2) for r in raws]\n",
    "rgb_adj_lst = []\n",
    "for r, clip in zip(rgb, clips):\n",
    "    mx = np.max(rgb)\n",
    "    mn = np.min(rgb)\n",
    "    r_norm = (r - mn) / (mx - mn)\n",
    "    r_adj = np.clip(r_norm, clip[0], clip[1])\n",
    "    r_adj = (r_adj - clip[0]) / (clip[1] - clip[0])\n",
    "    rgb_adj_lst.append(r_adj)\n",
    "rgb_adj = np.dstack(rgb_adj_lst)\n"
   ]
  },
  {
   "cell_type": "code",
   "execution_count": null,
   "metadata": {},
   "outputs": [],
   "source": [
    "for r in rgb_adj_lst:\n",
    "    ip.plot_image(r, cmap='inferno', im_inches=10)\n",
    "ip.plot_image(rgb_adj, im_inches=10)"
   ]
  },
  {
   "cell_type": "code",
   "execution_count": null,
   "metadata": {},
   "outputs": [],
   "source": []
  },
  {
   "cell_type": "markdown",
   "metadata": {},
   "source": [
    "### Smoothing"
   ]
  },
  {
   "cell_type": "code",
   "execution_count": null,
   "metadata": {},
   "outputs": [],
   "source": [
    "def get_smooth(m_raws_shift, sigma):\n",
    "    raws_smooth = []\n",
    "    for im in m_raws_shift:\n",
    "        im_smooth = np.empty(im.shape)\n",
    "        for i in range(im.shape[2]):\n",
    "            im_smooth[:,:,i] = gaussian_filter(im[:,:,i], sigma=sigma)\n",
    "        raws_smooth.append(im_smooth)\n",
    "    return raws_smooth\n",
    "\n",
    "raws_smooth = get_smooth(raws, config['sigma'])"
   ]
  },
  {
   "cell_type": "markdown",
   "metadata": {},
   "source": [
    "Plot RGB"
   ]
  },
  {
   "cell_type": "code",
   "execution_count": null,
   "metadata": {},
   "outputs": [],
   "source": [
    "clips = [(0.075,0.75),(0.075,0.35),(0.05,0.35)]\n",
    "\n",
    "rgb = [np.max(r, axis=2) for r in raws_smooth]\n",
    "rgb_smooth_adj_lst = []\n",
    "for r, clip in zip(rgb, clips):\n",
    "    mx = np.max(rgb)\n",
    "    mn = np.min(rgb)\n",
    "    r_norm = (r - mn) / (mx - mn)\n",
    "    r_adj = np.clip(r_norm, clip[0], clip[1])\n",
    "    r_adj = (r_adj - clip[0]) / (clip[1] - clip[0])\n",
    "    rgb_smooth_adj_lst.append(r_adj)\n",
    "rgb_smooth_adj = np.dstack(rgb_smooth_adj_lst)\n"
   ]
  },
  {
   "cell_type": "code",
   "execution_count": null,
   "metadata": {},
   "outputs": [],
   "source": [
    "for r in rgb_smooth_adj_lst:\n",
    "    ip.plot_image(r, cmap='inferno', im_inches=10)\n",
    "ip.plot_image(rgb_smooth_adj, im_inches=10)"
   ]
  },
  {
   "cell_type": "markdown",
   "metadata": {},
   "source": [
    "### masking"
   ]
  },
  {
   "cell_type": "code",
   "execution_count": null,
   "metadata": {},
   "outputs": [],
   "source": [
    "stack = np.dstack(raws)\n",
    "raw_max = np.max(stack, axis=2)\n",
    "print('max',np.max(raw_max),\n",
    "      'min',np.min(raw_max),\n",
    "      'mean',np.mean(raw_max),\n",
    "      'std',np.std(raw_max),\n",
    "      'med',np.median(raw_max)\n",
    "      )"
   ]
  },
  {
   "cell_type": "code",
   "execution_count": null,
   "metadata": {},
   "outputs": [],
   "source": [
    "n_std = 1\n",
    "\n",
    "thresh = np.mean(raw_max) + np.std(raw_max)*n_std\n",
    "mask = raw_max > thresh \n",
    "ip.plot_image(mask, im_inches=10)\n",
    "ip.plot_image(mask*raw_max, cmap='inferno',im_inches=10)"
   ]
  },
  {
   "cell_type": "markdown",
   "metadata": {},
   "source": [
    "## Zoom in on some cells"
   ]
  },
  {
   "cell_type": "code",
   "execution_count": null,
   "metadata": {},
   "outputs": [],
   "source": [
    "c = [624,650]\n",
    "w = [25,25]\n",
    "\n",
    "rgb_zoom = rgb_adj[c[0]:c[0]+w[0], c[1]:c[1]+w[1]]\n",
    "ip.plot_image(rgb_zoom)"
   ]
  },
  {
   "cell_type": "code",
   "execution_count": null,
   "metadata": {},
   "outputs": [],
   "source": [
    "dims=(10,5)\n",
    "\n",
    "stack_smooth = np.dstack(raws_smooth)\n",
    "stack_smooth_zoom = stack_smooth[c[0]:c[0]+w[0], c[1]:c[1]+w[1],:]\n",
    "spec_zoom = stack_smooth_zoom[np.ones((w[0],w[1]), dtype=np.bool)]\n",
    "fig, ax = ip.general_plot(dims=dims)\n",
    "fsi.plot_cell_spectra(ax, spec_zoom, {'lw':0.2,'alpha':0.1,'color':'r'})\n"
   ]
  },
  {
   "cell_type": "markdown",
   "metadata": {},
   "source": [
    "### Classify"
   ]
  },
  {
   "cell_type": "markdown",
   "metadata": {},
   "source": [
    "Get references"
   ]
  },
  {
   "cell_type": "code",
   "execution_count": null,
   "metadata": {},
   "outputs": [],
   "source": [
    "def sum_normalize_ref(ref_spec):\n",
    "    ref_sum_norm = []\n",
    "    for r in ref_spec:\n",
    "        r_ = r - np.min(r, axis=1)[:,None]\n",
    "        ref_sum_norm.append(r_ / np.sum(r_, axis=1)[:,None])\n",
    "    return [np.mean(r, axis=0) for r in ref_sum_norm]\n",
    "\n",
    "def get_reference_spectra(barcodes, bc_len, config):\n",
    "    ref_dir = config['hipr_ref_dir']\n",
    "    fmt = config['ref_files_fmt']\n",
    "    if bc_len == 5:\n",
    "        barcodes_str = [str(bc).zfill(5) for bc in barcodes]\n",
    "        # barcodes_str = [str(bc).zfill(7) for bc in barcodes]\n",
    "        barcodes_10bit = [bc[0] + '0' + bc[1] + '0000' + bc[2:] for bc in barcodes_str]\n",
    "        # barcodes_10bit = [bc[0] + '0' + bc[1:4] + '00' + bc[4:] for bc in barcodes_str]\n",
    "        barcodes_b10 = [int(str(bc),2) for bc in barcodes_10bit]\n",
    "        st = config['ref_chan_start'] + config['chan_start']\n",
    "        en = config['ref_chan_start'] + config['chan_end']\n",
    "        ref_avgint_cols = [i for i in range(st,en)]\n",
    "\n",
    "        ref_spec = []\n",
    "        for bc in barcodes_b10:\n",
    "            fn = cluster + '/' + ref_dir + '/'+ fmt.format(bc)\n",
    "            ref = pd.read_csv(fn, header=None)\n",
    "            ref = ref[ref_avgint_cols].values\n",
    "            ref_spec.append(ref)\n",
    "    return ref_spec\n",
    "\n",
    "# Get reference spectra\n",
    "probe_design_dir = config['probe_design_dir']\n",
    "probe_design_fn = cluster + '/' + probe_design_dir + '/' + config['probe_design_filename']\n",
    "probe_design = pd.read_csv(probe_design_fn)\n",
    "barcodes = probe_design['code'].unique()\n",
    "barcode_length = len(str(np.max(barcodes)))\n",
    "ref_spec = get_reference_spectra(barcodes, barcode_length, config)\n",
    "sci_names = [probe_design.loc[probe_design['code'] == bc,'sci_name'].unique()[0] \n",
    "            for bc in barcodes]\n",
    "weights_sum_norm = sum_normalize_ref(ref_spec)"
   ]
  },
  {
   "cell_type": "markdown",
   "metadata": {},
   "source": [
    "Run classif"
   ]
  },
  {
   "cell_type": "code",
   "execution_count": null,
   "metadata": {},
   "outputs": [],
   "source": [
    "\n",
    "def run_matrix_multiply(spec_pix_gem, weights_sum_norm):\n",
    "    weights_t = np.array(weights_sum_norm).T\n",
    "    return np.matmul(spec_pix_gem, weights_t)\n",
    "\n",
    "def get_present_filter(probe_design, nlas):\n",
    "    present_col = probe_design['laser_present'].values\n",
    "    present_str = [str(lp).zfill(nlas) for lp in present_col]\n",
    "    present_arr = np.array([[int(l) for l in lp] for lp in present_str])\n",
    "    return present_arr.T\n",
    "\n",
    "def remove_possibilities_laserpresent(raws_smooth, mask, classif_mat, present_filter):\n",
    "    las_max = [np.max(im, axis=2) for im in raws_smooth]\n",
    "    # Get arrays for pixels\n",
    "    las_max_stack = np.dstack(las_max)\n",
    "    las_max_pix = las_max_stack[mask]\n",
    "    las_max_pix_norm = las_max_pix / np.max(las_max_pix, axis=1)[:,None]\n",
    "    # Define filter\n",
    "    las_frac_thresh = config['laser_absent_thresholds']  \n",
    "    las_max_present = las_max_pix_norm > las_frac_thresh\n",
    "    # present_filter = np.array([\n",
    "    #         [1,0,0,1,1,1,1,1,1,1,1,1,1,1,1,1,1,1],\n",
    "    #         [0,1,1,1,1,1,1,1,1,1,1,1,1,1,1,1,1,1],\n",
    "    #         [0,1,1,0,0,1,1,1,0,1,1,1,1,1,1,1,1,0]\n",
    "    #         ])\n",
    "    # Run filtering\n",
    "    classif_adj_mat = np.matmul(las_max_present, present_filter)\n",
    "    classif_adj_mat_bool = classif_adj_mat == np.max(classif_adj_mat, axis=1)[:,None]\n",
    "    return classif_mat * classif_adj_mat_bool\n",
    "\n",
    "def remove_possibilities_laserpresent_v2(spec, present_filter, classif_mat):\n",
    "    chans = config['las_ranges']\n",
    "    maxes = []\n",
    "    for i in range(len(chans) - 1):\n",
    "        mx = np.max(spec[:,chans[i]:chans[i+1]], axis=1)\n",
    "        maxes.append(mx[:,None])\n",
    "    maxes = np.hstack(maxes)\n",
    "    print(maxes.shape)\n",
    "    las_max_pix_norm = maxes / np.max(maxes, axis=1)[:,None]\n",
    "    las_frac_thresh = config['laser_absent_thresholds']  \n",
    "    las_max_present = las_max_pix_norm > las_frac_thresh\n",
    "    # present_filter = np.array([\n",
    "    #         [1,0,0,1,1,1,1,1,1,1,1,1,1,1,1,1,1,1],\n",
    "    #         [0,1,1,1,1,1,1,1,1,1,1,1,1,1,1,1,1,1],\n",
    "    #         [0,1,1,0,0,1,1,1,0,1,1,1,1,1,1,1,1,0]\n",
    "    #         ])\n",
    "    # Run filtering\n",
    "    classif_adj_mat = np.matmul(las_max_present, present_filter)\n",
    "    classif_adj_mat_bool = classif_adj_mat == np.max(classif_adj_mat, axis=1)[:,None]\n",
    "    return classif_mat * classif_adj_mat_bool    \n",
    "\n",
    "\n",
    "def pick_maximum_weight(classif_mat_adj, sci_names):\n",
    "    classifs_index = np.argmax(classif_mat_adj, axis=1)\n",
    "    return np.array([sci_names[i] for i in classifs_index])\n",
    "\n",
    "def filter_dim_spectra(classifs, spectra_adj, thresh):\n",
    "    spec_zoom_max = np.max(spectra_adj, axis=1)\n",
    "    spec_zoom_max_norm = spec_zoom_max / np.max(spec_zoom_max)\n",
    "    bool_max = spec_zoom_max_norm < thresh\n",
    "    classifs[bool_max] = 'None'\n",
    "    return classifs\n",
    "\n",
    "\n",
    "\n"
   ]
  },
  {
   "cell_type": "code",
   "execution_count": null,
   "metadata": {},
   "outputs": [],
   "source": [
    "spec_pix_gem = spec_zoom\n",
    "raw_smooth = [r[c[0]:c[0]+w[0], c[1]:c[1]+w[1],:] for r in raws_smooth]\n",
    "mask_ = np.ones((w[0],w[1]), dtype=bool)\n",
    "\n",
    "# Classify pixels\n",
    "classif_mat = run_matrix_multiply(spec_pix_gem, weights_sum_norm)\n",
    "present_filter = get_present_filter(probe_design, len(config['lasers']))\n",
    "classif_mat_adj = remove_possibilities_laserpresent(raw_smooth, mask_, \n",
    "        classif_mat, present_filter)\n",
    "classifs = pick_maximum_weight(classif_mat_adj, sci_names)\n",
    "classifs = filter_dim_spectra(classifs, spec_pix_gem, \n",
    "                                thresh=config['dim_spec_filt'])\n",
    "\n",
    "print(np.unique(classifs))"
   ]
  },
  {
   "cell_type": "markdown",
   "metadata": {},
   "source": [
    "plot classif"
   ]
  },
  {
   "cell_type": "code",
   "execution_count": null,
   "metadata": {},
   "outputs": [],
   "source": [
    "def classif_to_image(classifs, pix_ind, shape, plot_intensities, col_dict):\n",
    "    im_clust = np.zeros(shape + (len(list(col_dict.values())[0]),))\n",
    "    # im_clust = np.zeros(max.shape + (len(eval(barcode_color.color.values[0])),))\n",
    "    for lab, x, y in zip(classifs, pix_ind[0], pix_ind[1]):\n",
    "        col = col_dict[lab]\n",
    "        # col = np.array(col_dict[lab]) * sum_norm[x,y]\n",
    "        im_clust[x,y,:] = np.array(col) * plot_intensities[x,y]\n",
    "    return im_clust\n",
    "\n",
    "pix_inds = np.where((mask_ > 0))\n",
    "plot_intensities = np.ones_like(mask_)\n",
    "col_dict = dict(zip(np.unique(classifs), plt.get_cmap('tab20').colors))\n",
    "im_classif = classif_to_image(classifs, pix_inds, (w[0],w[1]), plot_intensities, col_dict)"
   ]
  },
  {
   "cell_type": "code",
   "execution_count": null,
   "metadata": {},
   "outputs": [],
   "source": [
    "col_dict.keys()"
   ]
  },
  {
   "cell_type": "code",
   "execution_count": null,
   "metadata": {},
   "outputs": [],
   "source": [
    "ip.plot_image(im_classif)\n",
    "ip.taxon_legend(taxon_names=col_dict.keys(),taxon_colors=col_dict.values())"
   ]
  },
  {
   "cell_type": "markdown",
   "metadata": {},
   "source": [
    "## Another cell"
   ]
  },
  {
   "cell_type": "code",
   "execution_count": null,
   "metadata": {},
   "outputs": [],
   "source": [
    "c = [535,485]\n",
    "w = [20,20]\n",
    "\n",
    "rgb_zoom = rgb_adj[c[0]:c[0]+w[0], c[1]:c[1]+w[1]]\n",
    "ip.plot_image(rgb_zoom)"
   ]
  },
  {
   "cell_type": "code",
   "execution_count": null,
   "metadata": {},
   "outputs": [],
   "source": [
    "dims=(10,5)\n",
    "\n",
    "stack_smooth = np.dstack(raws_smooth)\n",
    "stack_smooth_zoom = stack_smooth[c[0]:c[0]+w[0], c[1]:c[1]+w[1],:]\n",
    "spec_zoom = stack_smooth_zoom[np.ones((w[0],w[1]), dtype=np.bool)]\n",
    "fig, ax = ip.general_plot(dims=dims)\n",
    "spec_zoom_filt = spec_zoom[np.max(spec_zoom, axis=1) > 0]\n",
    "fsi.plot_cell_spectra(ax, spec_zoom_filt, {'lw':0.2,'alpha':0.1,'color':'r'})\n",
    "\n",
    "\n",
    "\n",
    "\n",
    "spec_pix_gem = spec_zoom\n",
    "raw_smooth = [r[c[0]:c[0]+w[0], c[1]:c[1]+w[1],:] for r in raws_smooth]\n",
    "mask_ = np.ones((w[0],w[1]), dtype=bool)\n",
    "\n",
    "# Classify pixels\n",
    "classif_mat = run_matrix_multiply(spec_pix_gem, weights_sum_norm)\n",
    "present_filter = get_present_filter(probe_design, len(config['lasers']))\n",
    "classif_mat_adj = remove_possibilities_laserpresent(raw_smooth, mask_, \n",
    "        classif_mat, present_filter)\n",
    "classifs = pick_maximum_weight(classif_mat_adj, sci_names)\n",
    "classifs = filter_dim_spectra(classifs, spec_pix_gem, \n",
    "                                thresh=config['dim_spec_filt'])\n",
    "\n",
    "print(np.unique(classifs))\n",
    "\n",
    "\n",
    "\n",
    "\n",
    "pix_inds = np.where((mask_ > 0))\n",
    "plot_intensities = np.ones_like(mask_)\n",
    "col_dict = dict(zip(np.unique(classifs), plt.get_cmap('tab20').colors))\n",
    "im_classif = classif_to_image(classifs, pix_inds, (w[0],w[1]), plot_intensities, col_dict)\n",
    "\n",
    "\n",
    "\n",
    "\n",
    "\n",
    "ip.plot_image(im_classif)\n",
    "ip.taxon_legend(taxon_names=col_dict.keys(),taxon_colors=col_dict.values())"
   ]
  },
  {
   "cell_type": "code",
   "execution_count": null,
   "metadata": {},
   "outputs": [],
   "source": [
    "ip.plot_image(np.max(stack[c[0]:c[0]+w[0], c[1]:c[1]+w[1],:], axis=2), cmap='inferno')\n",
    "ip.plot_image(np.sum(stack[c[0]:c[0]+w[0], c[1]:c[1]+w[1],:], axis=2), cmap='inferno')\n",
    "ip.plot_image(np.sum(stack_smooth_zoom, axis=2), cmap='inferno')"
   ]
  },
  {
   "cell_type": "markdown",
   "metadata": {},
   "source": [
    "## Another cell"
   ]
  },
  {
   "cell_type": "code",
   "execution_count": null,
   "metadata": {},
   "outputs": [],
   "source": [
    "c = [10,955]\n",
    "w = [10,10]\n",
    "\n",
    "rgb_zoom = rgb_adj[c[0]:c[0]+w[0], c[1]:c[1]+w[1]]\n",
    "ip.plot_image(rgb_zoom)"
   ]
  },
  {
   "cell_type": "code",
   "execution_count": null,
   "metadata": {},
   "outputs": [],
   "source": [
    "dims=(10,5)\n",
    "\n",
    "stack_smooth = np.dstack(raws_smooth)\n",
    "stack_smooth_zoom = stack_smooth[c[0]:c[0]+w[0], c[1]:c[1]+w[1],:]\n",
    "spec_zoom = stack_smooth_zoom[np.ones((w[0],w[1]), dtype=np.bool)]\n",
    "fig, ax = ip.general_plot(dims=dims)\n",
    "spec_zoom_filt = spec_zoom[np.max(spec_zoom, axis=1) > 0]\n",
    "fsi.plot_cell_spectra(ax, spec_zoom_filt, {'lw':0.2,'alpha':0.1,'color':'r'})\n",
    "\n",
    "\n",
    "\n",
    "\n",
    "spec_pix_gem = spec_zoom\n",
    "raw_smooth = [r[c[0]:c[0]+w[0], c[1]:c[1]+w[1],:] for r in raws_smooth]\n",
    "mask_ = np.ones((w[0],w[1]), dtype=bool)\n",
    "\n",
    "# Classify pixels\n",
    "classif_mat = run_matrix_multiply(spec_pix_gem, weights_sum_norm)\n",
    "present_filter = get_present_filter(probe_design, len(config['lasers']))\n",
    "classif_mat_adj = remove_possibilities_laserpresent(raw_smooth, mask_, \n",
    "        classif_mat, present_filter)\n",
    "classifs = pick_maximum_weight(classif_mat_adj, sci_names)\n",
    "classifs = filter_dim_spectra(classifs, spec_pix_gem, \n",
    "                                thresh=config['dim_spec_filt'])\n",
    "\n",
    "print(np.unique(classifs))\n",
    "\n",
    "\n",
    "\n",
    "\n",
    "pix_inds = np.where((mask_ > 0))\n",
    "plot_intensities = np.ones_like(mask_)\n",
    "col_dict = dict(zip(np.unique(classifs), plt.get_cmap('tab20').colors))\n",
    "im_classif = classif_to_image(classifs, pix_inds, (w[0],w[1]), plot_intensities, col_dict)\n",
    "\n",
    "\n",
    "\n",
    "\n",
    "\n",
    "ip.plot_image(im_classif)\n",
    "ip.taxon_legend(taxon_names=col_dict.keys(),taxon_colors=col_dict.values())"
   ]
  },
  {
   "cell_type": "markdown",
   "metadata": {},
   "source": [
    "## Another Cell"
   ]
  },
  {
   "cell_type": "code",
   "execution_count": null,
   "metadata": {},
   "outputs": [],
   "source": [
    "c = [0,900]\n",
    "w = [100,100]\n",
    "\n",
    "rgb_zoom = rgb_adj[c[0]:c[0]+w[0], c[1]:c[1]+w[1]]\n",
    "ip.plot_image(rgb_zoom)"
   ]
  },
  {
   "cell_type": "code",
   "execution_count": null,
   "metadata": {},
   "outputs": [],
   "source": [
    "stack_smooth_zoom = stack_smooth[c[0]:c[0]+w[0], c[1]:c[1]+w[1],:]\n",
    "sum_smooth_zoom = np.sum(stack_smooth_zoom, axis=2)\n",
    "ip.plot_image(sum_smooth_zoom, cmap='inferno')\n",
    "mask_zoom = sum_smooth_zoom > 25000\n",
    "ip.plot_image(sum_smooth_zoom*mask_zoom, cmap='inferno')"
   ]
  },
  {
   "cell_type": "markdown",
   "metadata": {},
   "source": [
    "Segment cells"
   ]
  },
  {
   "cell_type": "code",
   "execution_count": null,
   "metadata": {},
   "outputs": [],
   "source": [
    "stack_pre = []\n",
    "for i in range(stack.shape[2]):\n",
    "    im = stack[:,:,i]\n",
    "    im_ = sf.pre_process(im, gauss=2)\n",
    "    stack_pre.append(im_)\n",
    "stack_pre_sum = np.sum(np.dstack(stack_pre), axis=2)\n",
    "stack_pre_sum_zoom = stack_pre_sum[c[0]:c[0]+w[0], c[1]:c[1]+w[1]]\n"
   ]
  },
  {
   "cell_type": "code",
   "execution_count": null,
   "metadata": {},
   "outputs": [],
   "source": [
    "ip.plot_image(np.sum(stack, axis=2)[c[0]:c[0]+w[0], c[1]:c[1]+w[1]],cmap='inferno')\n",
    "ip.plot_image(stack_pre_sum_zoom, cmap='inferno')"
   ]
  },
  {
   "cell_type": "code",
   "execution_count": null,
   "metadata": {},
   "outputs": [],
   "source": [
    "mask_zoom = sf.get_background_mask(stack_pre_sum_zoom)\n",
    "ip.plot_image(stack_pre_sum_zoom*mask_zoom, cmap='inferno')"
   ]
  },
  {
   "cell_type": "code",
   "execution_count": null,
   "metadata": {},
   "outputs": [],
   "source": [
    "seg_zoom = sf.segment(stack_pre_sum_zoom, background_mask=mask_zoom)\n",
    "seg_zoom_rgb = ip.seg2rgb(seg_zoom)\n",
    "ip.plot_image(seg_zoom_rgb)"
   ]
  },
  {
   "cell_type": "markdown",
   "metadata": {},
   "source": [
    "Get spectra"
   ]
  },
  {
   "cell_type": "code",
   "execution_count": null,
   "metadata": {},
   "outputs": [],
   "source": [
    "stack_sum_zoom = np.sum(stack, axis=2)[c[0]:c[0]+w[0], c[1]:c[1]+w[1]]\n",
    "seg_zoom_props = sf.measure_regionprops(seg_zoom, raw=stack_sum_zoom)"
   ]
  },
  {
   "cell_type": "code",
   "execution_count": null,
   "metadata": {},
   "outputs": [],
   "source": [
    "stack_zoom = stack[c[0]:c[0]+w[0], c[1]:c[1]+w[1],:]\n",
    "seg = seg_zoom\n",
    "\n",
    "dict_lab_spec = {}\n",
    "im_raw = stack_smooth_zoom\n",
    "for i, row in seg_zoom_props.iterrows():\n",
    "    b = row.bbox\n",
    "    l = row.label\n",
    "    b = eval(b) if isinstance(b, str) else b\n",
    "    r_sub = im_raw[b[0]:b[2],b[1]:b[3],:]\n",
    "    m_sub = seg[b[0]:b[2],b[1]:b[3]] == l\n",
    "    dict_lab_spec[l] = r_sub[m_sub]\n"
   ]
  },
  {
   "cell_type": "code",
   "execution_count": null,
   "metadata": {},
   "outputs": [],
   "source": [
    "spec_pix_gem.shape"
   ]
  },
  {
   "cell_type": "code",
   "execution_count": null,
   "metadata": {},
   "outputs": [],
   "source": [
    "dict_lab_classif = {}\n",
    "\n",
    "for k, v in dict_lab_spec.items():\n",
    "    b = seg_zoom_props.loc[seg_zoom_props.label == k, 'bbox'].values[0]\n",
    "    b = eval(b) if isinstance(b, str) else b\n",
    "    r_sub = rgb_smooth_zoom[b[0]:b[2],b[1]:b[3],:]\n",
    "    m_sub = seg[b[0]:b[2],b[1]:b[3]] == k\n",
    "    ip.plot_image(r_sub*np.dstack([m_sub]*3))\n",
    "    plt.show()\n",
    "    plt.close()\n",
    "    fig, ax = ip.general_plot(dims=dims)\n",
    "    # fsi.plot_cell_spectra(ax, spec_mean[None,:], {'lw':1,'alpha':1,'color':'r'})\n",
    "    fsi.plot_cell_spectra(ax, v, {'lw':1,'alpha':0.2,'color':'r'})\n",
    "    plt.show()\n",
    "    plt.close()\n",
    "\n",
    "    spec_pix_gem = np.mean(v, axis=0)[None,:]\n",
    "    classif_mat = run_matrix_multiply(spec_pix_gem, weights_sum_norm)\n",
    "    present_filter = get_present_filter(probe_design, len(config['lasers']))\n",
    "    classif_mat_adj = remove_possibilities_laserpresent_v2(spec_pix_gem, \n",
    "                                                           present_filter,\n",
    "                                                           classif_mat)\n",
    "    classifs = pick_maximum_weight(classif_mat_adj, sci_names)\n",
    "\n",
    "    print(classifs)\n",
    "    dict_lab_classif[k] = classifs[0]"
   ]
  },
  {
   "cell_type": "markdown",
   "metadata": {},
   "source": [
    "Project onto image"
   ]
  },
  {
   "cell_type": "code",
   "execution_count": null,
   "metadata": {},
   "outputs": [],
   "source": [
    "classifs_uniq = np.unique(list(dict_lab_classif.values()))\n",
    "dict_classif_rgb = dict(zip(classifs_uniq, plt.get_cmap('tab10').colors))\n",
    "\n",
    "im_classif_rgb = np.zeros((seg.shape[0],seg.shape[1], 3))\n",
    "for i, row in seg_zoom_props.iterrows():\n",
    "    b = row.bbox\n",
    "    l = row.label\n",
    "    b = eval(b) if isinstance(b, str) else b\n",
    "    c_sub = im_classif_rgb[b[0]:b[2],b[1]:b[3]]\n",
    "    m_sub = seg[b[0]:b[2],b[1]:b[3]] == l\n",
    "    cl = dict_lab_classif[l]\n",
    "    color = np.array(dict_classif_rgb[cl])\n",
    "    # c_sub += np.matmul(m_sub[:,:,None], color[None,:])\n",
    "    c_sub[m_sub] = color\n",
    "    im_classif_rgb[b[0]:b[2],b[1]:b[3],:] = c_sub\n"
   ]
  },
  {
   "cell_type": "code",
   "execution_count": null,
   "metadata": {},
   "outputs": [],
   "source": [
    "\n"
   ]
  },
  {
   "cell_type": "code",
   "execution_count": null,
   "metadata": {},
   "outputs": [],
   "source": [
    "rgb_smooth_zoom = rgb_smooth_adj[c[0]:c[0]+w[0], c[1]:c[1]+w[1],:]\n",
    "ip.plot_image(rgb_smooth_zoom)\n",
    "fig, ax, cbar = ip.plot_image(im_classif_rgb)\n",
    "for i, row in seg_zoom_props.iterrows():\n",
    "    ax.text(row.centroid[1],row.centroid[0], row.label, c='w')\n",
    "ip.taxon_legend(dict_classif_rgb.keys(), dict_classif_rgb.values())"
   ]
  },
  {
   "cell_type": "markdown",
   "metadata": {},
   "source": [
    "Look at groupings of segmented cells"
   ]
  },
  {
   "cell_type": "code",
   "execution_count": null,
   "metadata": {},
   "outputs": [],
   "source": [
    "group_labels = [10,13,14]\n",
    "\n",
    "fig, ax = ip.general_plot(dims=dims)\n",
    "i=0\n",
    "for l in group_labels:\n",
    "    spec_group = dict_lab_spec[l]\n",
    "# spec_group = np.vstack(spec_group)\n",
    "# fsi.plot_cell_spectra(ax, spec_mean[None,:], {'lw':1,'alpha':1,'color':'r'})\n",
    "    col = plt.get_cmap('tab10').colors[i]\n",
    "    fsi.plot_cell_spectra(ax, spec_group, {'lw':0.5,'alpha':0.1,'color':col})\n",
    "    i+=1\n",
    "\n",
    "fig, ax = ip.general_plot(dims=dims)\n",
    "i=0\n",
    "for l in group_labels:\n",
    "    spec_group = np.mean(dict_lab_spec[l], axis=0)[None,:]\n",
    "# spec_group = np.vstack(spec_group)\n",
    "# fsi.plot_cell_spectra(ax, spec_mean[None,:], {'lw':1,'alpha':1,'color':'r'})\n",
    "    col = plt.get_cmap('tab10').colors[i]\n",
    "    fsi.plot_cell_spectra(ax, spec_group, {'lw':1,'alpha':1,'color':col})\n",
    "    i+=1\n",
    "\n",
    "fig, ax = ip.general_plot(dims=dims)\n",
    "i=0\n",
    "for l in group_labels:\n",
    "    spec_group = np.mean(dict_lab_spec[l], axis=0)[None,:]\n",
    "    spec_group = spec_group / np.max(spec_group, axis=1)[:,None]\n",
    "# spec_group = np.vstack(spec_group)\n",
    "# fsi.plot_cell_spectra(ax, spec_mean[None,:], {'lw':1,'alpha':1,'color':'r'})\n",
    "    col = plt.get_cmap('tab10').colors[i]\n",
    "    fsi.plot_cell_spectra(ax, spec_group, {'lw':1,'alpha':1,'color':col})\n",
    "    i+=1\n"
   ]
  },
  {
   "cell_type": "code",
   "execution_count": null,
   "metadata": {},
   "outputs": [],
   "source": [
    "group_labels = [2,3,5]\n",
    "\n",
    "fig, ax = ip.general_plot(dims=dims)\n",
    "i=0\n",
    "for l in group_labels:\n",
    "    spec_group = dict_lab_spec[l]\n",
    "# spec_group = np.vstack(spec_group)\n",
    "# fsi.plot_cell_spectra(ax, spec_mean[None,:], {'lw':1,'alpha':1,'color':'r'})\n",
    "    col = plt.get_cmap('tab10').colors[i]\n",
    "    fsi.plot_cell_spectra(ax, spec_group, {'lw':0.5,'alpha':0.1,'color':col})\n",
    "    i+=1\n",
    "\n",
    "fig, ax = ip.general_plot(dims=dims)\n",
    "i=0\n",
    "for l in group_labels:\n",
    "    spec_group = np.mean(dict_lab_spec[l], axis=0)[None,:]\n",
    "# spec_group = np.vstack(spec_group)\n",
    "# fsi.plot_cell_spectra(ax, spec_mean[None,:], {'lw':1,'alpha':1,'color':'r'})\n",
    "    col = plt.get_cmap('tab10').colors[i]\n",
    "    fsi.plot_cell_spectra(ax, spec_group, {'lw':1,'alpha':1,'color':col})\n",
    "    i+=1\n",
    "\n",
    "fig, ax = ip.general_plot(dims=dims)\n",
    "i=0\n",
    "for l in group_labels:\n",
    "    spec_group = np.mean(dict_lab_spec[l], axis=0)[None,:]\n",
    "    spec_group = spec_group / np.max(spec_group, axis=1)[:,None]\n",
    "# spec_group = np.vstack(spec_group)\n",
    "# fsi.plot_cell_spectra(ax, spec_mean[None,:], {'lw':1,'alpha':1,'color':'r'})\n",
    "    col = plt.get_cmap('tab10').colors[i]\n",
    "    fsi.plot_cell_spectra(ax, spec_group, {'lw':1,'alpha':1,'color':col})\n",
    "    i+=1\n"
   ]
  },
  {
   "cell_type": "code",
   "execution_count": null,
   "metadata": {},
   "outputs": [],
   "source": [
    "group_labels = [6,17,21]\n",
    "\n",
    "fig, ax = ip.general_plot(dims=dims)\n",
    "i=0\n",
    "for l in group_labels:\n",
    "    spec_group = dict_lab_spec[l]\n",
    "# spec_group = np.vstack(spec_group)\n",
    "# fsi.plot_cell_spectra(ax, spec_mean[None,:], {'lw':1,'alpha':1,'color':'r'})\n",
    "    col = plt.get_cmap('tab10').colors[i]\n",
    "    fsi.plot_cell_spectra(ax, spec_group, {'lw':0.5,'alpha':0.1,'color':col})\n",
    "    i+=1\n",
    "\n",
    "fig, ax = ip.general_plot(dims=dims)\n",
    "i=0\n",
    "for l in group_labels:\n",
    "    spec_group = np.mean(dict_lab_spec[l], axis=0)[None,:]\n",
    "# spec_group = np.vstack(spec_group)\n",
    "# fsi.plot_cell_spectra(ax, spec_mean[None,:], {'lw':1,'alpha':1,'color':'r'})\n",
    "    col = plt.get_cmap('tab10').colors[i]\n",
    "    fsi.plot_cell_spectra(ax, spec_group, {'lw':1,'alpha':1,'color':col})\n",
    "    i+=1\n",
    "\n",
    "fig, ax = ip.general_plot(dims=dims)\n",
    "i=0\n",
    "for l in group_labels:\n",
    "    spec_group = np.mean(dict_lab_spec[l], axis=0)[None,:]\n",
    "    spec_group = spec_group / np.max(spec_group, axis=1)[:,None]\n",
    "# spec_group = np.vstack(spec_group)\n",
    "# fsi.plot_cell_spectra(ax, spec_mean[None,:], {'lw':1,'alpha':1,'color':'r'})\n",
    "    col = plt.get_cmap('tab10').colors[i]\n",
    "    fsi.plot_cell_spectra(ax, spec_group, {'lw':1,'alpha':1,'color':col})\n",
    "    i+=1\n"
   ]
  },
  {
   "cell_type": "code",
   "execution_count": null,
   "metadata": {},
   "outputs": [],
   "source": [
    "group_labels = [1,8,9]\n",
    "\n",
    "fig, ax = ip.general_plot(dims=dims)\n",
    "i=0\n",
    "for l in group_labels:\n",
    "    spec_group = dict_lab_spec[l]\n",
    "# spec_group = np.vstack(spec_group)\n",
    "# fsi.plot_cell_spectra(ax, spec_mean[None,:], {'lw':1,'alpha':1,'color':'r'})\n",
    "    col = plt.get_cmap('tab10').colors[i]\n",
    "    fsi.plot_cell_spectra(ax, spec_group, {'lw':0.5,'alpha':0.1,'color':col})\n",
    "    i+=1\n",
    "\n",
    "fig, ax = ip.general_plot(dims=dims)\n",
    "i=0\n",
    "for l in group_labels:\n",
    "    spec_group = np.mean(dict_lab_spec[l], axis=0)[None,:]\n",
    "# spec_group = np.vstack(spec_group)\n",
    "# fsi.plot_cell_spectra(ax, spec_mean[None,:], {'lw':1,'alpha':1,'color':'r'})\n",
    "    col = plt.get_cmap('tab10').colors[i]\n",
    "    fsi.plot_cell_spectra(ax, spec_group, {'lw':1,'alpha':1,'color':col})\n",
    "    i+=1\n",
    "\n",
    "fig, ax = ip.general_plot(dims=dims)\n",
    "i=0\n",
    "for l in group_labels:\n",
    "    spec_group = np.mean(dict_lab_spec[l], axis=0)[None,:]\n",
    "    spec_group = spec_group / np.max(spec_group, axis=1)[:,None]\n",
    "# spec_group = np.vstack(spec_group)\n",
    "# fsi.plot_cell_spectra(ax, spec_mean[None,:], {'lw':1,'alpha':1,'color':'r'})\n",
    "    col = plt.get_cmap('tab10').colors[i]\n",
    "    fsi.plot_cell_spectra(ax, spec_group, {'lw':1,'alpha':1,'color':col})\n",
    "    i+=1\n"
   ]
  },
  {
   "cell_type": "code",
   "execution_count": null,
   "metadata": {},
   "outputs": [],
   "source": [
    "group_labels = [19,15,7,11]\n",
    "\n",
    "fig, ax = ip.general_plot(dims=dims)\n",
    "i=0\n",
    "for l in group_labels:\n",
    "    spec_group = dict_lab_spec[l]\n",
    "# spec_group = np.vstack(spec_group)\n",
    "# fsi.plot_cell_spectra(ax, spec_mean[None,:], {'lw':1,'alpha':1,'color':'r'})\n",
    "    col = plt.get_cmap('tab10').colors[i]\n",
    "    fsi.plot_cell_spectra(ax, spec_group, {'lw':0.5,'alpha':0.1,'color':col})\n",
    "    i+=1\n",
    "\n",
    "fig, ax = ip.general_plot(dims=dims)\n",
    "i=0\n",
    "for l in group_labels:\n",
    "    spec_group = np.mean(dict_lab_spec[l], axis=0)[None,:]\n",
    "# spec_group = np.vstack(spec_group)\n",
    "# fsi.plot_cell_spectra(ax, spec_mean[None,:], {'lw':1,'alpha':1,'color':'r'})\n",
    "    col = plt.get_cmap('tab10').colors[i]\n",
    "    fsi.plot_cell_spectra(ax, spec_group, {'lw':1,'alpha':1,'color':col})\n",
    "    i+=1\n",
    "\n",
    "fig, ax = ip.general_plot(dims=dims)\n",
    "i=0\n",
    "for l in group_labels:\n",
    "    spec_group = np.mean(dict_lab_spec[l], axis=0)[None,:]\n",
    "    spec_group = spec_group / np.max(spec_group, axis=1)[:,None]\n",
    "# spec_group = np.vstack(spec_group)\n",
    "# fsi.plot_cell_spectra(ax, spec_mean[None,:], {'lw':1,'alpha':1,'color':'r'})\n",
    "    col = plt.get_cmap('tab10').colors[i]\n",
    "    fsi.plot_cell_spectra(ax, spec_group, {'lw':1,'alpha':1,'color':col})\n",
    "    i+=1\n"
   ]
  },
  {
   "cell_type": "markdown",
   "metadata": {},
   "source": [
    "Do distance based clustering "
   ]
  },
  {
   "cell_type": "code",
   "execution_count": null,
   "metadata": {},
   "outputs": [],
   "source": [
    "# Distance matrix\n",
    "dict_lab_mean = {}\n",
    "labels = np.unique(list(dict_lab_spec.keys()))\n",
    "for l in labels:\n",
    "    spec = dict_lab_spec[l]\n",
    "    spec_mean = np.mean(spec, axis=0)\n",
    "    spec_norm = spec_mean / np.sum(spec_mean)\n",
    "    dict_lab_mean[l] = spec_norm\n",
    "\n",
    "dist_mat = np.empty((len(labels),len(labels)))\n",
    "for i, l0 in enumerate(labels):\n",
    "    s0 = dict_lab_mean[l0]\n",
    "    for j, l1 in enumerate(labels):\n",
    "        s1 = dict_lab_mean[l1]\n",
    "        dist_mat[i,j] = fhc.euclid_dist_cumul_spec(s0,s1)\n",
    "    "
   ]
  },
  {
   "cell_type": "code",
   "execution_count": null,
   "metadata": {},
   "outputs": [],
   "source": [
    "from scipy.cluster import hierarchy\n",
    "\n",
    "linkage = hierarchy.linkage(dist_mat, method='average')\n",
    "fig, ax = ip.general_plot(dims=(5,5))\n",
    "dn = hierarchy.dendrogram(linkage, labels=labels)"
   ]
  },
  {
   "cell_type": "code",
   "execution_count": null,
   "metadata": {},
   "outputs": [],
   "source": [
    "clust = hierarchy.fcluster(linkage, t=0.06, criterion='distance')\n",
    "dict_clust_lab = defaultdict(list)\n",
    "for cl, l in zip(clust,labels):\n",
    "    dict_clust_lab[cl].append(l)\n",
    "\n",
    "dict_clust_lab"
   ]
  },
  {
   "cell_type": "code",
   "execution_count": null,
   "metadata": {},
   "outputs": [],
   "source": [
    "for k, v in dict_clust_lab.items():\n",
    "    print(k)\n",
    "    fig, ax = ip.general_plot(dims=dims)\n",
    "    i=0\n",
    "    for l in v:\n",
    "        spec_group = dict_lab_spec[l]\n",
    "    # spec_group = np.vstack(spec_group)\n",
    "    # fsi.plot_cell_spectra(ax, spec_mean[None,:], {'lw':1,'alpha':1,'color':'r'})\n",
    "        col = plt.get_cmap('tab20').colors[i]\n",
    "        fsi.plot_cell_spectra(ax, spec_group, {'lw':0.5,'alpha':0.1,'color':col})\n",
    "        i+=1\n",
    "    plt.show()\n",
    "    plt.close()\n",
    "\n",
    "    fig, ax = ip.general_plot(dims=dims)\n",
    "    i=0\n",
    "    for l in v:\n",
    "        spec_group = np.mean(dict_lab_spec[l], axis=0)[None,:]\n",
    "    # spec_group = np.vstack(spec_group)\n",
    "    # fsi.plot_cell_spectra(ax, spec_mean[None,:], {'lw':1,'alpha':1,'color':'r'})\n",
    "        col = plt.get_cmap('tab20').colors[i]\n",
    "        fsi.plot_cell_spectra(ax, spec_group, {'lw':1,'alpha':1,'color':col})\n",
    "        i+=1\n",
    "    plt.show()\n",
    "    plt.close()\n",
    "\n",
    "    fig, ax = ip.general_plot(dims=dims)\n",
    "    i=0\n",
    "    for l in v:\n",
    "        spec_group = np.mean(dict_lab_spec[l], axis=0)[None,:]\n",
    "        spec_group = spec_group / np.max(spec_group, axis=1)[:,None]\n",
    "    # spec_group = np.vstack(spec_group)\n",
    "    # fsi.plot_cell_spectra(ax, spec_mean[None,:], {'lw':1,'alpha':1,'color':'r'})\n",
    "        col = plt.get_cmap('tab20').colors[i]\n",
    "        fsi.plot_cell_spectra(ax, spec_group, {'lw':1,'alpha':1,'color':col})\n",
    "        i+=1\n",
    "    plt.show()\n",
    "    plt.close()\n"
   ]
  },
  {
   "cell_type": "code",
   "execution_count": null,
   "metadata": {},
   "outputs": [],
   "source": [
    "dict_lab_clust = {l:cl for l,cl in zip(labels,clust)}\n",
    "clust_uniq = np.unique(list(dict_lab_clust.values()))\n",
    "dict_clust_rgb = dict(zip(clust_uniq, plt.get_cmap('tab10').colors))\n",
    "\n",
    "im_clust_rgb = np.zeros((seg.shape[0],seg.shape[1], 3))\n",
    "for i, row in seg_zoom_props.iterrows():\n",
    "    b = row.bbox\n",
    "    l = row.label\n",
    "    b = eval(b) if isinstance(b, str) else b\n",
    "    c_sub = im_classif_rgb[b[0]:b[2],b[1]:b[3]]\n",
    "    m_sub = seg[b[0]:b[2],b[1]:b[3]] == l\n",
    "    # cl = dict_lab_classif[l]\n",
    "    cl = dict_lab_clust[l]\n",
    "    color = np.array(dict_clust_rgb[cl])\n",
    "    # c_sub += np.matmul(m_sub[:,:,None], color[None,:])\n",
    "    c_sub[m_sub] = color\n",
    "    im_clust_rgb[b[0]:b[2],b[1]:b[3],:] = c_sub"
   ]
  },
  {
   "cell_type": "code",
   "execution_count": null,
   "metadata": {},
   "outputs": [],
   "source": [
    "rgb_smooth_zoom = rgb_smooth_adj[c[0]:c[0]+w[0], c[1]:c[1]+w[1],:]\n",
    "fig, ax, cbar = ip.plot_image(rgb_smooth_zoom)\n",
    "# fig, ax, cbar = ip.plot_image(im_classif_rgb)\n",
    "\n",
    "for i, row in seg_zoom_props.iterrows():\n",
    "    lab = dict_lab_clust[row.label]\n",
    "    ax.text(row.centroid[1],row.centroid[0], lab, c='w')\n",
    "\n",
    "ip.plot_image(im_clust_rgb)\n",
    "# ip.taxon_legend(dict_classif_rgb.keys(), dict_classif_rgb.values())"
   ]
  },
  {
   "cell_type": "code",
   "execution_count": null,
   "metadata": {},
   "outputs": [],
   "source": [
    "fig, ax = ip.general_plot(dims=dims)\n",
    "for cl in clust_uniq:\n",
    "    labels = dict_clust_lab[cl]\n",
    "    spec_cl = []\n",
    "    for l in labels:\n",
    "        spec_cl.append(dict_lab_mean[l])\n",
    "    spec_cl = np.vstack(spec_cl) \n",
    "    spec_pix_gem = np.mean(spec_cl, axis=0)[None,:]    \n",
    "    col = dict_clust_rgb[cl]\n",
    "    fsi.plot_cell_spectra(ax, spec_pix_gem, {'lw':1,'alpha':1,'color':col})"
   ]
  },
  {
   "cell_type": "code",
   "execution_count": null,
   "metadata": {},
   "outputs": [],
   "source": [
    "dict_sciname_spec = dict(zip(sci_names, ref_spec))\n",
    "\n",
    "for cl in clust_uniq:\n",
    "    labels = dict_clust_lab[cl]\n",
    "    spec_cl = []\n",
    "    for l in labels:\n",
    "        spec_cl.append(dict_lab_mean[l])\n",
    "    spec_cl = np.vstack(spec_cl) \n",
    "\n",
    "    spec_pix_gem = np.mean(spec_cl, axis=0)[None,:]\n",
    "    classif_mat = run_matrix_multiply(spec_pix_gem, weights_sum_norm)\n",
    "    present_filter = get_present_filter(probe_design, len(config['lasers']))\n",
    "    classif_mat_adj = remove_possibilities_laserpresent_v2(spec_pix_gem, \n",
    "                                                        present_filter,\n",
    "                                                        classif_mat)\n",
    "    classifs = pick_maximum_weight(classif_mat_adj, sci_names)\n",
    "\n",
    "    print(cl)\n",
    "    print(classifs[0])\n",
    "\n",
    "    fig, ax = ip.general_plot(dims=dims)\n",
    "    # fsi.plot_cell_spectra(ax, spec_mean[None,:], {'lw':1,'alpha':1,'color':'r'})\n",
    "    fsi.plot_cell_spectra(ax, spec_cl, {'lw':1,'alpha':1,'color':'k'})\n",
    "    r_spec = dict_sciname_spec[classifs[0]]\n",
    "    r_spec = np.mean(r_spec, axis=0)[None,:]\n",
    "    r_spec = r_spec / np.sum(r_spec)\n",
    "    fsi.plot_cell_spectra(ax, r_spec, {'lw':1,'alpha':1,'color':'r'})\n",
    "    plt.show()\n",
    "    plt.close()\n",
    "    "
   ]
  },
  {
   "cell_type": "markdown",
   "metadata": {},
   "source": [
    "Look at the green channel variance"
   ]
  },
  {
   "cell_type": "code",
   "execution_count": null,
   "metadata": {},
   "outputs": [],
   "source": [
    "bg_thresh = 13000\n",
    "\n",
    "gr_raw = raws_smooth[0]\n",
    "gr_sums = np.sum(gr_raw, axis=2)\n",
    "fig, ax = ip.general_plot(dims=(10,5))\n",
    "ax.plot(np.sort(gr_sums[np.ones_like(gr_sums, dtype=bool)]))\n",
    "xlims = ax.get_xlim()\n",
    "ax.plot(xlims, [bg_thresh]*2)"
   ]
  },
  {
   "cell_type": "code",
   "execution_count": null,
   "metadata": {},
   "outputs": [],
   "source": [
    "gr_spec_bg = gr_raw[gr_sums < bg_thresh]\n",
    "ind_sub = np.random.choice(np.arange(gr_spec_bg.shape[0]), size=100, replace=False)\n",
    "gr_spec_bg_sub = gr_spec_bg[ind_sub,:]\n",
    "fig, ax = ip.general_plot(dims=dims)\n",
    "fsi.plot_cell_spectra(ax, gr_spec_bg_sub, {'lw':0.5,'alpha':0.2,'color':'r'})\n"
   ]
  },
  {
   "cell_type": "code",
   "execution_count": null,
   "metadata": {},
   "outputs": [],
   "source": [
    "dims=(10,5)\n",
    "\n",
    "stack_smooth = np.dstack(raws_smooth)\n",
    "stack_smooth_zoom = stack_smooth[c[0]:c[0]+w[0], c[1]:c[1]+w[1],:]\n",
    "spec_zoom = stack_smooth_zoom[mask_zoom]\n",
    "fig, ax = ip.general_plot(dims=dims)\n",
    "spec_zoom_filt = spec_zoom[np.max(spec_zoom, axis=1) > 0]\n",
    "fsi.plot_cell_spectra(ax, spec_zoom_filt, {'lw':0.2,'alpha':0.1,'color':'r'})\n",
    "\n",
    "\n",
    "\n",
    "\n",
    "spec_pix_gem = spec_zoom\n",
    "raw_smooth = [r[c[0]:c[0]+w[0], c[1]:c[1]+w[1],:] for r in raws_smooth]\n",
    "mask_ = mask_zoom\n",
    "\n",
    "# Classify pixels\n",
    "classif_mat = run_matrix_multiply(spec_pix_gem, weights_sum_norm)\n",
    "present_filter = get_present_filter(probe_design, len(config['lasers']))\n",
    "classif_mat_adj = remove_possibilities_laserpresent(raw_smooth, mask_, \n",
    "        classif_mat, present_filter)\n",
    "classifs = pick_maximum_weight(classif_mat_adj, sci_names)\n",
    "classifs = filter_dim_spectra(classifs, spec_pix_gem, \n",
    "                                thresh=config['dim_spec_filt'])\n",
    "\n",
    "print(np.unique(classifs))\n",
    "\n",
    "\n",
    "\n",
    "\n",
    "pix_inds = np.where((mask_ > 0))\n",
    "plot_intensities = np.ones_like(mask_)\n",
    "col_dict = dict(zip(np.unique(classifs), plt.get_cmap('tab20').colors))\n",
    "im_classif = classif_to_image(classifs, pix_inds, (w[0],w[1]), plot_intensities, col_dict)\n",
    "\n",
    "\n",
    "\n",
    "\n",
    "ip.plot_image(rgb_zoom*np.dstack([mask_zoom]*3))\n",
    "ip.plot_image(im_classif)\n",
    "ip.taxon_legend(taxon_names=col_dict.keys(),taxon_colors=col_dict.values())"
   ]
  },
  {
   "cell_type": "markdown",
   "metadata": {},
   "source": [
    "## Plot references"
   ]
  },
  {
   "cell_type": "code",
   "execution_count": null,
   "metadata": {},
   "outputs": [],
   "source": [
    "\n",
    "\n",
    "for s, name in zip(ref_spec, sci_names):\n",
    "    fig, ax = ip.general_plot(dims=dims)\n",
    "    fsi.plot_cell_spectra(ax, s, {'lw':0.2,'alpha':0.1,'color':'r'})\n",
    "    ax.set_title(name)\n",
    "\n"
   ]
  },
  {
   "cell_type": "code",
   "execution_count": null,
   "metadata": {},
   "outputs": [],
   "source": [
    "print('hello')"
   ]
  },
  {
   "cell_type": "markdown",
   "metadata": {},
   "source": [
    "# Run clustering on all z stack"
   ]
  },
  {
   "cell_type": "code",
   "execution_count": null,
   "metadata": {},
   "outputs": [],
   "source": [
    "M = 26\n",
    "\n",
    "im_inches=10\n",
    "gauss=2\n",
    "\n",
    "dict_m_seg_spectra = {}\n",
    "# iterate through z \n",
    "for m in range(M):\n",
    "    # Load registered image\n",
    "    shift_fmt = config['output_dir'] + '/' + config['shift_dir']\n",
    "    af_str = re.sub('\\.','_',str(af))\n",
    "    shift_dir = shift_fmt.format(sample_name=sn, maskthresh=mt, allfluor=af_str)\n",
    "    raw_fns = sorted(glob.glob(shift_dir + '/' + sn + '_M_' + str(m) + '_*'))\n",
    "    raws = [np.load(f) for f in raw_fns]\n",
    "\n",
    "    # pre process\n",
    "    def get_smooth(m_raws_shift, sigma):\n",
    "        raws_smooth = []\n",
    "        for im in m_raws_shift:\n",
    "            im_smooth = np.empty(im.shape)\n",
    "            for i in range(im.shape[2]):\n",
    "                im_smooth[:,:,i] = sf.pre_process(im[:,:,i], gauss=gauss)\n",
    "                # im_smooth[:,:,i] = gaussian_filter(im[:,:,i], sigma=sigma)\n",
    "            raws_smooth.append(im_smooth)\n",
    "        return raws_smooth\n",
    "    raws_smooth = get_smooth(raws, config['sigma'])\n",
    "\n",
    "    # # pre process\n",
    "    # raws_pre = []\n",
    "    # for i in range(stack.shape[2]):\n",
    "    #     im = stack[:,:,i]\n",
    "    #     im_ = sf.pre_process(im, gauss=gauss)\n",
    "    #     raws_pre.append(im_)\n",
    "    stack_pre = np.dstack(raws_smooth)\n",
    "    stack_pre_sum = np.sum(stack_pre, axis=2)\n",
    "    stack_pre_sum_zoom = stack_pre_sum\n",
    "    ip.plot_image(np.sum(stack, axis=2),cmap='inferno', im_inches=im_inches)\n",
    "    plt.show()\n",
    "    plt.close()\n",
    "    ip.plot_image(stack_pre_sum_zoom, cmap='inferno', im_inches=im_inches)    \n",
    "    plt.show()\n",
    "    plt.close()\n",
    "\n",
    "    # Plot RGB\n",
    "    clips = [(0.075,0.75),(0.075,0.3),(0.05,0.4)]\n",
    "    rgb = [np.max(r, axis=2) for r in raws_smooth]\n",
    "    rgb_smooth_adj_lst = []\n",
    "    for r, clip in zip(rgb, clips):\n",
    "        mx = np.max(rgb)\n",
    "        mn = np.min(rgb)\n",
    "        r_norm = (r - mn) / (mx - mn)\n",
    "        r_adj = np.clip(r_norm, clip[0], clip[1])\n",
    "        r_adj = (r_adj - clip[0]) / (clip[1] - clip[0])\n",
    "        rgb_smooth_adj_lst.append(r_adj)\n",
    "    rgb_smooth_adj = np.dstack(rgb_smooth_adj_lst)\n",
    "    for r in rgb_smooth_adj_lst:\n",
    "        ip.plot_image(r, cmap='inferno', im_inches=im_inches)\n",
    "    ip.plot_image(rgb_smooth_adj, im_inches=im_inches)\n",
    "    plt.show()\n",
    "    plt.close()\n",
    "\n",
    "    # mask\n",
    "    mask_zoom = sf.get_background_mask(stack_pre_sum_zoom)\n",
    "    ip.plot_image(stack_pre_sum_zoom*mask_zoom, cmap='inferno', im_inches=im_inches) \n",
    "    plt.show()\n",
    "    plt.close()\n",
    "\n",
    "    # segment\n",
    "    seg_zoom = sf.segment(stack_pre_sum_zoom, background_mask=mask_zoom)\n",
    "    seg_zoom_rgb = ip.seg2rgb(seg_zoom)\n",
    "    ip.plot_image(seg_zoom_rgb, im_inches=im_inches)\n",
    "    plt.show()\n",
    "    plt.close()\n",
    "\n",
    "    # Get spectra\n",
    "    stack_sum_zoom = np.sum(stack, axis=2)\n",
    "    seg_zoom_props = sf.measure_regionprops(seg_zoom, raw=stack_sum_zoom)\n",
    "    # stack_zoom = stack\n",
    "    seg = seg_zoom\n",
    "    dict_lab_spec = {}\n",
    "    im_raw = stack_pre\n",
    "    for i, row in seg_zoom_props.iterrows():\n",
    "        b = row.bbox\n",
    "        l = row.label\n",
    "        b = eval(b) if isinstance(b, str) else b\n",
    "        r_sub = im_raw[b[0]:b[2],b[1]:b[3],:]\n",
    "        m_sub = seg[b[0]:b[2],b[1]:b[3]] == l\n",
    "        dict_lab_spec[l] = r_sub[m_sub]\n",
    "    dict_m_seg_spectra[m] = dict_lab_spec"
   ]
  },
  {
   "cell_type": "code",
   "execution_count": null,
   "metadata": {},
   "outputs": [],
   "source": [
    "# distance matrix \n",
    "dict_index_specnorm = {}\n",
    "dict_index_ml = {}\n",
    "i = 0\n",
    "for m, dict_lab_spec in tqdm(dict_m_seg_spectra.items()):\n",
    "    # labels = np.unique(list(dict_lab_spec.keys()))\n",
    "    for l, spec in dict_lab_spec.items():\n",
    "        # spec = dict_lab_spec[l]\n",
    "        spec_mean = np.mean(spec, axis=0)\n",
    "        spec_norm = spec_mean / np.sum(spec_mean)\n",
    "        dict_index_specnorm[i] = spec_norm\n",
    "        dict_index_ml[i] = [m,l]  # Associate the distance matrix index with a z image and seg object \n",
    "        i += 1\n",
    "\n",
    "    \n",
    "\n",
    "# dist_mat = np.empty((len(dict_index_specnorm),len(dict_index_specnorm)))\n",
    "# for i, s0 in tqdm(dict_index_specnorm.items()):\n",
    "#     for j, s1 in dict_index_specnorm.items():\n",
    "#         if j > i:\n",
    "#             dist_mat[i,j] = fhc.euclid_dist_cumul_spec(s0,s1)"
   ]
  },
  {
   "cell_type": "code",
   "execution_count": null,
   "metadata": {},
   "outputs": [],
   "source": [
    "dist_mat = np.empty((len(dict_index_specnorm),len(dict_index_specnorm)))\n",
    "for i, s0 in tqdm(dict_index_specnorm.items()):\n",
    "    for j, s1 in dict_index_specnorm.items():\n",
    "        if j > i:\n",
    "            dist_mat[i,j] = fhc.euclid_dist_cumul_spec(s0,s1)"
   ]
  },
  {
   "cell_type": "code",
   "execution_count": null,
   "metadata": {},
   "outputs": [],
   "source": [
    "linkage = hierarchy.linkage(dist_mat, method='average')\n",
    "# fig, ax = ip.general_plot(dims=(10,5))\n",
    "# dn = hierarchy.dendrogram(linkage, labels=labels)"
   ]
  },
  {
   "cell_type": "code",
   "execution_count": null,
   "metadata": {},
   "outputs": [],
   "source": [
    "fig, ax = ip.general_plot(dims=(10,5))\n",
    "dn = hierarchy.dendrogram(linkage)"
   ]
  },
  {
   "cell_type": "code",
   "execution_count": null,
   "metadata": {},
   "outputs": [],
   "source": [
    "t = 8\n",
    "\n",
    "indices = list(dict_index_specnorm.keys())\n",
    "clust = hierarchy.fcluster(linkage, t=t, criterion='distance')\n",
    "dict_clust_lab = defaultdict(list)\n",
    "for cl, l in zip(clust,indices):\n",
    "    dict_clust_lab[cl].append(l)\n",
    "\n",
    "len(dict_clust_lab)"
   ]
  },
  {
   "cell_type": "code",
   "execution_count": null,
   "metadata": {},
   "outputs": [],
   "source": [
    "# print(dict_clust_lab.keys())\n",
    "# [len(v) for k,v in dict_clust_lab.items()]\n",
    "# for i, (j,k) in enumerate(np.array([[1,2,3],[1,2,3],[1,2,3]])[:,:2]):\n",
    "#     print(i,j,k)\n",
    "# indices = dict_clust_lab[2]\n",
    "# len(indices)\n",
    "# linkage_02[:,2] < t"
   ]
  },
  {
   "cell_type": "code",
   "execution_count": null,
   "metadata": {},
   "outputs": [],
   "source": [
    "# cl_isolate = 2\n",
    "\n",
    "# indices = dict_clust_lab[2]\n",
    "# n = len(dict_index_specnorm)\n",
    "# linkage_02 = []\n",
    "# for i, (l0,l1) in enumerate(linkage[:,:2]):\n",
    "#     if (l0 in indices) or (l1 in indices):\n",
    "#         linkage_02.append(linkage[i,:])\n",
    "#         indices.append(i + n)\n",
    "\n",
    "# linkage_02 = np.vstack(linkage_02)\n",
    "# linkage_02_trim = linkage_02[linkage_02[:,2] < t]\n",
    "# print(linkage.shape)\n",
    "# linkage_02_trim.shape"
   ]
  },
  {
   "cell_type": "code",
   "execution_count": null,
   "metadata": {},
   "outputs": [],
   "source": [
    "fig, ax = ip.general_plot(dims=(10,5))\n",
    "# dn = hierarchy.dendrogram(linkage_02_trim)"
   ]
  },
  {
   "cell_type": "code",
   "execution_count": null,
   "metadata": {},
   "outputs": [],
   "source": [
    "colors = list(plt.get_cmap('tab20').colors)\n",
    "clusters = list(dict_clust_lab.keys())\n",
    "while len(colors) < len(clusters):\n",
    "    colors += colors\n",
    "dict_clust_rgb = dict(zip(clusters, colors))\n",
    "\n",
    "fig, ax = ip.general_plot(dims=dims)\n",
    "j=0\n",
    "for cl, labels in dict_clust_lab.items():\n",
    "    # if j < 5:\n",
    "    # labels = dict_clust_lab[cl]\n",
    "    spec_cl = []\n",
    "    for l in labels:\n",
    "        spec_cl.append(dict_index_specnorm[l])\n",
    "    spec_cl = np.vstack(spec_cl) \n",
    "    spec_pix_gem = np.mean(spec_cl, axis=0)[None,:]  \n",
    "    spec_pix_gem /=np.sum(spec_pix_gem)  \n",
    "    col = dict_clust_rgb[cl]\n",
    "    fsi.plot_cell_spectra(ax, spec_pix_gem, {'lw':1,'alpha':1,'color':col})\n",
    "    j+=1"
   ]
  },
  {
   "cell_type": "code",
   "execution_count": null,
   "metadata": {},
   "outputs": [],
   "source": [
    "linkage[linkage[:,2] > 6,:]"
   ]
  },
  {
   "cell_type": "code",
   "execution_count": null,
   "metadata": {},
   "outputs": [],
   "source": [
    "cl_02 = 2\n",
    "indices_02 = [int(i) for i in dict_clust_lab[cl_02]]\n",
    "\n",
    "dist_mat_02 = np.empty((len(indices_02),len(indices_02)))\n",
    "for i, l0 in enumerate(indices_02):\n",
    "    s0 = dict_index_specnorm[l0]\n",
    "    for j, l1 in enumerate(indices_02):\n",
    "        s1 = dict_index_specnorm[l1]\n",
    "        if j > i:\n",
    "            dist_mat_02[i,j] = fhc.euclid_dist_cumul_spec(s0,s1)"
   ]
  },
  {
   "cell_type": "code",
   "execution_count": null,
   "metadata": {},
   "outputs": [],
   "source": [
    "linkage_02 = hierarchy.linkage(dist_mat_02, method='average')"
   ]
  },
  {
   "cell_type": "code",
   "execution_count": null,
   "metadata": {},
   "outputs": [],
   "source": [
    "fig, ax = ip.general_plot(dims=(10,5))\n",
    "dn = hierarchy.dendrogram(linkage_02)"
   ]
  },
  {
   "cell_type": "code",
   "execution_count": null,
   "metadata": {},
   "outputs": [],
   "source": [
    "t = 0.16\n",
    "\n",
    "clust02 = hierarchy.fcluster(linkage_02, t=t, criterion='distance')\n",
    "dict_clust02_lab = defaultdict(list)\n",
    "for cl, l in zip(clust02, indices_02):\n",
    "    dict_clust02_lab[cl].append(l)\n",
    "\n",
    "len(dict_clust02_lab)"
   ]
  },
  {
   "cell_type": "code",
   "execution_count": null,
   "metadata": {},
   "outputs": [],
   "source": [
    "colors = list(plt.get_cmap('tab20').colors)\n",
    "clusters = list(dict_clust02_lab.keys())\n",
    "while len(colors) < len(clusters):\n",
    "    colors += colors\n",
    "dict_clust_rgb = dict(zip(clusters, colors))\n",
    "\n",
    "fig, ax = ip.general_plot(dims=dims)\n",
    "j=0\n",
    "for cl, labels in dict_clust02_lab.items():\n",
    "    # if j < 5:\n",
    "    # labels = dict_clust_lab[cl]\n",
    "    spec_cl = []\n",
    "    for l in labels:\n",
    "        spec_cl.append(dict_index_specnorm[l])\n",
    "    spec_cl = np.vstack(spec_cl) \n",
    "    spec_pix_gem = np.mean(spec_cl, axis=0)[None,:]  \n",
    "    spec_pix_gem /=np.sum(spec_pix_gem)  \n",
    "    col = dict_clust_rgb[cl]\n",
    "    fsi.plot_cell_spectra(ax, spec_pix_gem, {'lw':1,'alpha':1,'color':col})\n",
    "    j+=1"
   ]
  },
  {
   "cell_type": "markdown",
   "metadata": {},
   "source": [
    "Subcluster large cluster"
   ]
  },
  {
   "cell_type": "code",
   "execution_count": null,
   "metadata": {},
   "outputs": [],
   "source": [
    "# Get subsetted distance matrix\n",
    "cl_03 = 1\n",
    "indices_03 = [int(i) for i in dict_clust_lab[cl_03]]\n",
    "\n",
    "dist_mat_03 = np.empty((len(indices_03),len(indices_03)))\n",
    "for i, l0 in tqdm(enumerate(indices_03)):\n",
    "    s0 = dict_index_specnorm[l0]\n",
    "    for j, l1 in enumerate(indices_03):\n",
    "        s1 = dict_index_specnorm[l1]\n",
    "        if j > i:\n",
    "            dist_mat_03[i,j] = fhc.euclid_dist_cumul_spec(s0,s1)"
   ]
  },
  {
   "cell_type": "code",
   "execution_count": null,
   "metadata": {},
   "outputs": [],
   "source": [
    "# Build linkage matrix\n",
    "linkage_03 = hierarchy.linkage(dist_mat_03, method='average')"
   ]
  },
  {
   "cell_type": "code",
   "execution_count": null,
   "metadata": {},
   "outputs": [],
   "source": [
    "# show dendogram\n",
    "fig, ax = ip.general_plot(dims=(10,5))\n",
    "dn = hierarchy.dendrogram(linkage_03)"
   ]
  },
  {
   "cell_type": "code",
   "execution_count": null,
   "metadata": {},
   "outputs": [],
   "source": [
    "# Pick clustering level\n",
    "t = 6.5\n",
    "\n",
    "clust03 = hierarchy.fcluster(linkage_03, t=t, criterion='distance')\n",
    "dict_clust03_lab = defaultdict(list)\n",
    "for cl, l in zip(clust03, indices_03):\n",
    "    dict_clust03_lab[cl].append(l)\n",
    "\n",
    "len(dict_clust03_lab)"
   ]
  },
  {
   "cell_type": "code",
   "execution_count": null,
   "metadata": {},
   "outputs": [],
   "source": [
    "colors = list(plt.get_cmap('tab20').colors)\n",
    "clusters = list(dict_clust03_lab.keys())\n",
    "while len(colors) < len(clusters):\n",
    "    colors += colors\n",
    "dict_clust_rgb = dict(zip(clusters, colors))\n",
    "\n",
    "fig, ax = ip.general_plot(dims=dims)\n",
    "j=0\n",
    "for cl, labels in dict_clust03_lab.items():\n",
    "    # if j < 5:\n",
    "    # labels = dict_clust_lab[cl]\n",
    "    spec_cl = []\n",
    "    for l in labels:\n",
    "        spec_cl.append(dict_index_specnorm[l])\n",
    "    spec_cl = np.vstack(spec_cl) \n",
    "    spec_pix_gem = np.mean(spec_cl, axis=0)[None,:]  \n",
    "    spec_pix_gem /=np.sum(spec_pix_gem)  \n",
    "    col = dict_clust_rgb[cl]\n",
    "    fsi.plot_cell_spectra(ax, spec_pix_gem, {'lw':1,'alpha':1,'color':col})\n",
    "    j+=1"
   ]
  },
  {
   "cell_type": "markdown",
   "metadata": {},
   "source": [
    "Try to subset a different way"
   ]
  },
  {
   "cell_type": "code",
   "execution_count": null,
   "metadata": {},
   "outputs": [],
   "source": [
    "print([len(v) for k, v in dict_clust_lab.items()])\n",
    "print(np.unique(clust))"
   ]
  },
  {
   "cell_type": "code",
   "execution_count": null,
   "metadata": {},
   "outputs": [],
   "source": [
    "bool_c0 = clust == 1\n",
    "t = 6.5\n",
    "\n",
    "indices_c0 = np.array(indices)[bool_c0]\n",
    "clust_c0_all = hierarchy.fcluster(linkage, t=t, criterion='distance')\n",
    "clust_c0 = clust_c0_all[bool_c0]\n",
    "dict_clust0_lab = defaultdict(list)\n",
    "for cl, l in zip(clust_c0,indices_c0):\n",
    "    dict_clust0_lab[cl].append(l)\n",
    "\n",
    "len(dict_clust0_lab)"
   ]
  },
  {
   "cell_type": "code",
   "execution_count": null,
   "metadata": {},
   "outputs": [],
   "source": [
    "dcl = dict_clust0_lab\n",
    "clust_ = clust_c0\n",
    "\n",
    "colors = list(plt.get_cmap('tab20').colors)\n",
    "clusters = list(dcl.keys())\n",
    "while len(colors) < len(clusters):\n",
    "    colors += colors\n",
    "dict_clust_rgb = dict(zip(clusters, colors))\n",
    "\n",
    "fig, ax = ip.general_plot(dims=dims)\n",
    "j=0\n",
    "for cl, labels in dcl.items():\n",
    "    # if j < 5:\n",
    "    # labels = dict_clust_lab[cl]\n",
    "    spec_cl = []\n",
    "    for l in labels:\n",
    "        spec_cl.append(dict_index_specnorm[l])\n",
    "    spec_cl = np.vstack(spec_cl) \n",
    "    spec_pix_gem = np.mean(spec_cl, axis=0)[None,:]  \n",
    "    spec_pix_gem /=np.sum(spec_pix_gem)  \n",
    "    col = dict_clust_rgb[cl]\n",
    "    fsi.plot_cell_spectra(ax, spec_pix_gem, {'lw':1,'alpha':1,'color':col})"
   ]
  },
  {
   "cell_type": "code",
   "execution_count": null,
   "metadata": {},
   "outputs": [],
   "source": [
    "np.unique(clust_c0_all, return_counts=True)"
   ]
  },
  {
   "cell_type": "code",
   "execution_count": null,
   "metadata": {},
   "outputs": [],
   "source": [
    "bool_c1 = clust_c0_all == 1\n",
    "t = 5.5\n",
    "\n",
    "indices_c1 = np.array(indices)[bool_c1]\n",
    "clust_c1_all = hierarchy.fcluster(linkage, t=t, criterion='distance')\n",
    "clust_c1 = clust_c1_all[bool_c1]\n",
    "dict_clust1_lab = defaultdict(list)\n",
    "for cl, l in zip(clust_c1,indices_c1):\n",
    "    dict_clust1_lab[cl].append(l)\n",
    "\n",
    "len(dict_clust1_lab)"
   ]
  },
  {
   "cell_type": "code",
   "execution_count": null,
   "metadata": {},
   "outputs": [],
   "source": [
    "dcl = dict_clust1_lab\n",
    "clust_ = clust_c1\n",
    "\n",
    "colors = list(plt.get_cmap('tab20').colors)\n",
    "clusters = list(dcl.keys())\n",
    "while len(colors) < len(clusters):\n",
    "    colors += colors\n",
    "dict_clust_rgb = dict(zip(clusters, colors))\n",
    "\n",
    "fig, ax = ip.general_plot(dims=dims)\n",
    "j=0\n",
    "for cl, labels in dcl.items():\n",
    "    # if j < 5:\n",
    "    # labels = dict_clust_lab[cl]\n",
    "    spec_cl = []\n",
    "    for l in labels:\n",
    "        spec_cl.append(dict_index_specnorm[l])\n",
    "    spec_cl = np.vstack(spec_cl) \n",
    "    spec_pix_gem = np.mean(spec_cl, axis=0)[None,:]  \n",
    "    spec_pix_gem /=np.sum(spec_pix_gem)  \n",
    "    col = dict_clust_rgb[cl]\n",
    "    fsi.plot_cell_spectra(ax, spec_pix_gem, {'lw':1,'alpha':1,'color':col})"
   ]
  },
  {
   "cell_type": "code",
   "execution_count": null,
   "metadata": {},
   "outputs": [],
   "source": [
    "np.unique(clust_c1_all, return_counts=True)"
   ]
  },
  {
   "cell_type": "code",
   "execution_count": null,
   "metadata": {},
   "outputs": [],
   "source": [
    "bool_c2 = clust_c1_all == 1\n",
    "t = 4.5\n",
    "\n",
    "indices_c2 = np.array(indices)[bool_c2]\n",
    "clust_c2_all = hierarchy.fcluster(linkage, t=t, criterion='distance')\n",
    "clust_c2 = clust_c2_all[bool_c2]\n",
    "dict_clust2_lab = defaultdict(list)\n",
    "for cl, l in zip(clust_c2,indices_c2):\n",
    "    dict_clust2_lab[cl].append(l)\n",
    "\n",
    "len(dict_clust2_lab)\n",
    "len(clust_c2)"
   ]
  },
  {
   "cell_type": "code",
   "execution_count": null,
   "metadata": {},
   "outputs": [],
   "source": [
    "dcl = dict_clust2_lab\n",
    "clust_ = clust_c2\n",
    "\n",
    "colors = list(plt.get_cmap('tab20').colors)\n",
    "clusters = list(dcl.keys())\n",
    "while len(colors) < len(clusters):\n",
    "    colors += colors\n",
    "dict_clust_rgb = dict(zip(clusters, colors))\n",
    "\n",
    "fig, ax = ip.general_plot(dims=dims)\n",
    "j=0\n",
    "for cl, labels in dcl.items():\n",
    "    # if j < 5:\n",
    "    # labels = dict_clust_lab[cl]\n",
    "    spec_cl = []\n",
    "    for l in labels:\n",
    "        spec_cl.append(dict_index_specnorm[l])\n",
    "    spec_cl = np.vstack(spec_cl) \n",
    "    spec_pix_gem = np.mean(spec_cl, axis=0)[None,:]  \n",
    "    spec_pix_gem /=np.sum(spec_pix_gem)  \n",
    "    col = dict_clust_rgb[cl]\n",
    "    fsi.plot_cell_spectra(ax, spec_pix_gem, {'lw':1,'alpha':1,'color':col})"
   ]
  },
  {
   "cell_type": "markdown",
   "metadata": {},
   "source": [
    "Try umap visualization"
   ]
  },
  {
   "cell_type": "code",
   "execution_count": null,
   "metadata": {},
   "outputs": [],
   "source": [
    "import umap\n",
    "\n",
    "fit = umap.UMAP(metric='precomputed')\n",
    "u = fit.fit_transform(dist_mat)"
   ]
  },
  {
   "cell_type": "code",
   "execution_count": null,
   "metadata": {},
   "outputs": [],
   "source": [
    "plt.scatter(u[:,0], u[:,1], c='k',alpha=0.1)"
   ]
  },
  {
   "cell_type": "code",
   "execution_count": null,
   "metadata": {},
   "outputs": [],
   "source": [
    "# distance matrix \n",
    "dict_index_maxnorm = {}\n",
    "dict_index_ml = {}\n",
    "i = 0\n",
    "for m, dict_lab_spec in tqdm(dict_m_seg_spectra.items()):\n",
    "    # labels = np.unique(list(dict_lab_spec.keys()))\n",
    "    for l, spec in dict_lab_spec.items():\n",
    "        # spec = dict_lab_spec[l]\n",
    "        spec_mean = np.mean(spec, axis=0)\n",
    "        spec_norm = spec_mean / np.max(spec_mean)\n",
    "        dict_index_maxnorm[i] = spec_norm\n",
    "        dict_index_ml[i] = [m,l]  # Associate the distance matrix index with a z image and seg object \n",
    "        i += 1\n",
    "\n",
    "    \n",
    "\n",
    "# dist_mat = np.empty((len(dict_index_specnorm),len(dict_index_specnorm)))\n",
    "# for i, s0 in tqdm(dict_index_specnorm.items()):\n",
    "#     for j, s1 in dict_index_specnorm.items():\n",
    "#         if j > i:\n",
    "#             dist_mat[i,j] = fhc.euclid_dist_cumul_spec(s0,s1)"
   ]
  },
  {
   "cell_type": "code",
   "execution_count": null,
   "metadata": {},
   "outputs": [],
   "source": [
    "dist_mat = np.empty((len(dict_index_maxnorm),len(dict_index_maxnorm)))\n",
    "for i, s0 in tqdm(dict_index_maxnorm.items()):\n",
    "    for j, s1 in dict_index_maxnorm.items():\n",
    "        if j > i:\n",
    "            dist_mat[i,j] = fhc.euclid_dist_cumul_spec(s0,s1)"
   ]
  },
  {
   "cell_type": "code",
   "execution_count": null,
   "metadata": {},
   "outputs": [],
   "source": [
    "fit = umap.UMAP(metric='precomputed')\n",
    "u = fit.fit_transform(dist_mat)"
   ]
  },
  {
   "cell_type": "code",
   "execution_count": null,
   "metadata": {},
   "outputs": [],
   "source": [
    "plt.scatter(u[:,0], u[:,1], c='k',alpha=0.1)"
   ]
  },
  {
   "cell_type": "code",
   "execution_count": null,
   "metadata": {},
   "outputs": [],
   "source": [
    "# distance matrix \n",
    "dict_index_spec = {}\n",
    "dict_index_ml = {}\n",
    "i = 0\n",
    "for m, dict_lab_spec in tqdm(dict_m_seg_spectra.items()):\n",
    "    # labels = np.unique(list(dict_lab_spec.keys()))\n",
    "    for l, spec in dict_lab_spec.items():\n",
    "        # spec = dict_lab_spec[l]\n",
    "        spec_mean = np.mean(spec, axis=0)\n",
    "        spec_norm = spec_mean\n",
    "        dict_index_spec[i] = spec_norm\n",
    "        dict_index_ml[i] = [m,l]  # Associate the distance matrix index with a z image and seg object \n",
    "        i += 1\n",
    "\n",
    "    \n",
    "\n",
    "# dist_mat = np.empty((len(dict_index_specnorm),len(dict_index_specnorm)))\n",
    "# for i, s0 in tqdm(dict_index_specnorm.items()):\n",
    "#     for j, s1 in dict_index_specnorm.items():\n",
    "#         if j > i:\n",
    "#             dist_mat[i,j] = fhc.euclid_dist_cumul_spec(s0,s1)"
   ]
  },
  {
   "cell_type": "code",
   "execution_count": null,
   "metadata": {},
   "outputs": [],
   "source": [
    "dist_mat_spec = np.empty((len(dict_index_spec),len(dict_index_spec)))\n",
    "for i, s0 in tqdm(dict_index_spec.items()):\n",
    "    for j, s1 in dict_index_spec.items():\n",
    "        if j > i:\n",
    "            dist_mat_spec[i,j] = fhc.euclid_dist_cumul_spec(s0,s1)"
   ]
  },
  {
   "cell_type": "code",
   "execution_count": null,
   "metadata": {},
   "outputs": [],
   "source": [
    "fit = umap.UMAP(metric='precomputed')\n",
    "u = fit.fit_transform(dist_mat_spec)"
   ]
  },
  {
   "cell_type": "code",
   "execution_count": null,
   "metadata": {},
   "outputs": [],
   "source": [
    "plt.scatter(u[:,0], u[:,1], c='k',alpha=0.1)"
   ]
  },
  {
   "cell_type": "code",
   "execution_count": null,
   "metadata": {},
   "outputs": [],
   "source": [
    "dist_mat = np.empty((len(dict_index_maxnorm),len(dict_index_maxnorm)))\n",
    "for i, s0 in tqdm(dict_index_maxnorm.items()):\n",
    "    for j, s1 in dict_index_maxnorm.items():\n",
    "        if j > i:\n",
    "            dist_mat[i,j] = fhc.channel_cosine_intensity_5b_v2(s0,s1)"
   ]
  },
  {
   "cell_type": "code",
   "execution_count": null,
   "metadata": {},
   "outputs": [],
   "source": [
    "fit = umap.UMAP(metric='precomputed')\n",
    "u = fit.fit_transform(dist_mat)"
   ]
  },
  {
   "cell_type": "code",
   "execution_count": null,
   "metadata": {},
   "outputs": [],
   "source": [
    "plt.scatter(u[:,0], u[:,1], c='k',alpha=0.1)"
   ]
  },
  {
   "cell_type": "code",
   "execution_count": null,
   "metadata": {},
   "outputs": [],
   "source": []
  }
 ],
 "metadata": {
  "kernelspec": {
   "display_name": "Python 3 (ipykernel)",
   "language": "python",
   "name": "python3"
  },
  "orig_nbformat": 4
 },
 "nbformat": 4,
 "nbformat_minor": 2
}
